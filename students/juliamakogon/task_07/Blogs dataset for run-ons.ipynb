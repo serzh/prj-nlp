{
 "cells": [
  {
   "cell_type": "markdown",
   "metadata": {},
   "source": [
    "https://www.kaggle.com/crmercado/tweets-blogs-news-swiftkey-dataset-4million"
   ]
  },
  {
   "cell_type": "code",
   "execution_count": 54,
   "metadata": {},
   "outputs": [
    {
     "name": "stdout",
     "output_type": "stream",
     "text": [
      "2000 10000\n"
     ]
    }
   ],
   "source": [
    "import io, zipfile\n",
    "import spacy\n",
    "import random as rnd\n",
    "\n",
    "nlp = spacy.load('en')\n",
    "\n",
    "def make_lower_rnd(s, rnd_p = 0.5):\n",
    "    return s.lower() if rnd.random() < rnd_p else s\n",
    "\n",
    "def process(nlp, line, max_sent = 2, min_sent = 2):\n",
    "    doc = nlp(line)\n",
    "#     tokens = []\n",
    "    tt = []\n",
    "    n = 0\n",
    "    lastpunct = False\n",
    "    j = 0\n",
    "    for x in doc.sents:\n",
    "        shift = len(tt)\n",
    "        n+= 1\n",
    "        if n > max_sent:\n",
    "            break\n",
    "#         tt = []\n",
    "        sent_end = 0\n",
    "        for i in range(len(x)):\n",
    "            t = x[i]\n",
    "            if t.is_space or t.is_quote or t.is_bracket:\n",
    "                continue\n",
    "            text = t.text\n",
    "            if j == 0:\n",
    "                text = make_lower_rnd(text)\n",
    "            item = [text, False]\n",
    "            if t.is_punct or not lastpunct or j==0:\n",
    "#                 print(tt, j)\n",
    "                tt.append(item)\n",
    "                j += 1\n",
    "                if not t.is_punct:\n",
    "                    sent_end = j         \n",
    "            else:\n",
    "#                 print(tt, j)\n",
    "                tt[j-1] = item\n",
    "            lastpunct = t.is_punct\n",
    "        if sent_end > 0:\n",
    "            tt[sent_end - 1][1] = True\n",
    "#         k = sent_end + 1 if n < max_sent else j\n",
    "#         print(k, sent_end, j)\n",
    "#         tokens.extend(tt[:k])\n",
    "#     print(line, tt)\n",
    "    return tt if n >= min_sent else None\n",
    "#     return tokens if n >= min_sent else None\n",
    "\n",
    "limit_train = 10000\n",
    "limit_test = 2000\n",
    "max_sent_train = 20\n",
    "max_sent_test= 3\n",
    "train = []\n",
    "test = []\n",
    "with zipfile.ZipFile(\"data\\\\tweets-blogs-news-swiftkey-dataset-4million\\\\swiftzip.zip\") as myzip: \n",
    "    fname = 'final/en_US/en_US.blogs.txt'\n",
    "    with myzip.open(fname, 'r') as file_:\n",
    "        f = io.TextIOWrapper(file_, encoding='utf-8')\n",
    "        line = f.readline()\n",
    "        i = 0    \n",
    "        while line and i < limit_test:\n",
    "            p = process(nlp, line, max_sent_test)\n",
    "            if p and len(p) > 0: \n",
    "                test.append(p)\n",
    "                i += 1\n",
    "            line = f.readline()  \n",
    "        i = 0    \n",
    "        while line and i < limit_train:\n",
    "            p = process(nlp, line, max_sent_train)\n",
    "            if p and len(p) > 0: \n",
    "                train.append(p)\n",
    "                i += 1\n",
    "            line = f.readline()              \n",
    "# print(test)\n",
    "print(len(test), len(train))"
   ]
  },
  {
   "cell_type": "code",
   "execution_count": 33,
   "metadata": {},
   "outputs": [],
   "source": [
    "import pandas as pd\n",
    "df = pd.Series(test)\n",
    "df.to_json('data\\\\runon_test_swift.json', orient='values', compression=None)\n",
    "df = pd.Series(train)\n",
    "df.to_json('data\\\\runon_train_swift.json', orient='values', compression=None)"
   ]
  },
  {
   "cell_type": "code",
   "execution_count": null,
   "metadata": {},
   "outputs": [],
   "source": []
  }
 ],
 "metadata": {
  "kernelspec": {
   "display_name": "Python 3",
   "language": "python",
   "name": "python3"
  },
  "language_info": {
   "codemirror_mode": {
    "name": "ipython",
    "version": 3
   },
   "file_extension": ".py",
   "mimetype": "text/x-python",
   "name": "python",
   "nbconvert_exporter": "python",
   "pygments_lexer": "ipython3",
   "version": "3.6.4"
  }
 },
 "nbformat": 4,
 "nbformat_minor": 2
}
