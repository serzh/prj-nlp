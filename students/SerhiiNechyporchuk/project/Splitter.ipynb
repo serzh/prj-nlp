{
 "cells": [
  {
   "cell_type": "code",
   "execution_count": 12,
   "metadata": {},
   "outputs": [],
   "source": [
    "import en_core_web_md\n",
    "import pandas as pd\n",
    "from tqdm import tqdm, tqdm_pandas\n",
    "import qgrid\n",
    "\n",
    "pd.set_option('display.max_colwidth', 300)"
   ]
  },
  {
   "cell_type": "code",
   "execution_count": 13,
   "metadata": {},
   "outputs": [],
   "source": [
    "tqdm.pandas()"
   ]
  },
  {
   "cell_type": "code",
   "execution_count": 14,
   "metadata": {},
   "outputs": [],
   "source": [
    "nlp = en_core_web_md.load()"
   ]
  },
  {
   "cell_type": "code",
   "execution_count": 20,
   "metadata": {
    "scrolled": false
   },
   "outputs": [
    {
     "name": "stderr",
     "output_type": "stream",
     "text": [
      "100%|██████████| 287/287 [00:04<00:00, 65.25it/s]\n"
     ]
    }
   ],
   "source": [
    "cleaned = pd.read_csv('dataset/phrases_cleaned_1522422847595.csv', usecols=['id', 'phrase'])\n",
    "cleaned = cleaned.assign(doc=cleaned['phrase'].progress_apply(nlp))"
   ]
  },
  {
   "cell_type": "code",
   "execution_count": 21,
   "metadata": {
    "scrolled": false
   },
   "outputs": [
    {
     "name": "stderr",
     "output_type": "stream",
     "text": [
      "100%|██████████| 287/287 [00:00<00:00, 30910.16it/s]\n"
     ]
    }
   ],
   "source": [
    "SPLITS = {'who', ',','and'}\n",
    "cleaned = cleaned.assign(idxs=cleaned['doc'].progress_apply(lambda doc: [tok.idx for tok in doc if tok.lemma_ in SPLITS]))\n",
    "splitted_again = []\n",
    "with_indicies = []\n",
    "for i,row in cleaned.iterrows():\n",
    "    idxs = set(row['idxs'])\n",
    "    phrase = row['phrase']\n",
    "    subphrases = []\n",
    "    subphrase = ''\n",
    "    for i,ch in enumerate(phrase):\n",
    "        if i in idxs:\n",
    "            subphrases.append(subphrase)\n",
    "            subphrase = ch\n",
    "        else:\n",
    "            subphrase += ch\n",
    "    splitted_again.append(subphrases)\n",
    "    with_indicies.append([[tok.idx,tok] for tok in row['doc']])\n",
    "        "
   ]
  },
  {
   "cell_type": "code",
   "execution_count": 16,
   "metadata": {},
   "outputs": [
    {
     "data": {
      "application/vnd.jupyter.widget-view+json": {
       "model_id": "34b5ef7afb704bb58885f3696fc81c25",
       "version_major": 2,
       "version_minor": 0
      },
      "text/plain": [
       "QgridWidget(grid_options={'fullWidthRows': True, 'syncColumnCellResize': True, 'forceFitColumns': True, 'defau…"
      ]
     },
     "metadata": {},
     "output_type": "display_data"
    }
   ],
   "source": [
    "def add_dollars(phrase):\n",
    "    doc = nlp(phrase)\n",
    "    new_phrase = phrase\n",
    "    acc = 0\n",
    "    for tok in doc:\n",
    "        if tok.lemma_ in SPLITS:\n",
    "            new_phrase = new_phrase[:tok.idx+acc] + '$$' + new_phrase[tok.idx+acc:]\n",
    "            acc += 2\n",
    "    return new_phrase\n",
    "\n",
    "qdf = pd.DataFrame({'text': cleaned['phrase'].apply(add_dollars)})\n",
    "widget = qgrid.show_grid(qdf)\n",
    "widget"
   ]
  },
  {
   "cell_type": "code",
   "execution_count": 29,
   "metadata": {},
   "outputs": [
    {
     "data": {
      "text/html": [
       "<div>\n",
       "<style scoped>\n",
       "    .dataframe tbody tr th:only-of-type {\n",
       "        vertical-align: middle;\n",
       "    }\n",
       "\n",
       "    .dataframe tbody tr th {\n",
       "        vertical-align: top;\n",
       "    }\n",
       "\n",
       "    .dataframe thead th {\n",
       "        text-align: right;\n",
       "    }\n",
       "</style>\n",
       "<table border=\"1\" class=\"dataframe\">\n",
       "  <thead>\n",
       "    <tr style=\"text-align: right;\">\n",
       "      <th></th>\n",
       "      <th>id</th>\n",
       "      <th>author</th>\n",
       "      <th>created</th>\n",
       "      <th>modified</th>\n",
       "      <th>search_attrs</th>\n",
       "      <th>phrase</th>\n",
       "    </tr>\n",
       "  </thead>\n",
       "  <tbody>\n",
       "    <tr>\n",
       "      <th>84</th>\n",
       "      <td>98be4665-b3db-4133-a8cf-299dfa8205ab</td>\n",
       "      <td>Kostia Rybnikov</td>\n",
       "      <td>1522249286679</td>\n",
       "      <td>1522249944131</td>\n",
       "      <td>[{\"short\": \"whose bio contains 'biplane'\", \"type\": \"text\", \"name\": \"profile.bio\", \"example\": \"1\"}, {\"short\": \"1 times\", \"name\": \"events.count\"}, {\"short\": \"with positive sentiment\", \"type\": \"Sentiment\", \"name\": \"like.postSentiment\", \"human\": \"liked {sentiment} post\", \"example\": \"Attendees who li...</td>\n",
       "      <td>From people with a \"biplane\" in their profile description find those who attended an event once and liked a post that can be said to be a positive one</td>\n",
       "    </tr>\n",
       "  </tbody>\n",
       "</table>\n",
       "</div>"
      ],
      "text/plain": [
       "                                      id           author        created  \\\n",
       "84  98be4665-b3db-4133-a8cf-299dfa8205ab  Kostia Rybnikov  1522249286679   \n",
       "\n",
       "         modified  \\\n",
       "84  1522249944131   \n",
       "\n",
       "                                                                                                                                                                                                                                                                                                   search_attrs  \\\n",
       "84  [{\"short\": \"whose bio contains 'biplane'\", \"type\": \"text\", \"name\": \"profile.bio\", \"example\": \"1\"}, {\"short\": \"1 times\", \"name\": \"events.count\"}, {\"short\": \"with positive sentiment\", \"type\": \"Sentiment\", \"name\": \"like.postSentiment\", \"human\": \"liked {sentiment} post\", \"example\": \"Attendees who li...   \n",
       "\n",
       "                                                                                                                                                    phrase  \n",
       "84  From people with a \"biplane\" in their profile description find those who attended an event once and liked a post that can be said to be a positive one  "
      ]
     },
     "execution_count": 29,
     "metadata": {},
     "output_type": "execute_result"
    }
   ],
   "source": [
    "splitted = pd.read_csv('dataset/phrases_cleaned_1522422847595.csv')\n",
    "splitted.iloc[[84]]"
   ]
  },
  {
   "cell_type": "code",
   "execution_count": 31,
   "metadata": {},
   "outputs": [],
   "source": [
    "widget.get_changed_df().to_csv('new_splitted.csv')"
   ]
  },
  {
   "cell_type": "code",
   "execution_count": null,
   "metadata": {},
   "outputs": [],
   "source": []
  }
 ],
 "metadata": {
  "kernelspec": {
   "display_name": "Python 3",
   "language": "python",
   "name": "python3"
  },
  "language_info": {
   "codemirror_mode": {
    "name": "ipython",
    "version": 3
   },
   "file_extension": ".py",
   "mimetype": "text/x-python",
   "name": "python",
   "nbconvert_exporter": "python",
   "pygments_lexer": "ipython3",
   "version": "3.6.0"
  }
 },
 "nbformat": 4,
 "nbformat_minor": 2
}
