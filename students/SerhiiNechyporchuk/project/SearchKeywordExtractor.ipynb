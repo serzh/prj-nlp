{
 "cells": [
  {
   "cell_type": "code",
   "execution_count": 90,
   "metadata": {},
   "outputs": [],
   "source": [
    "import pandas as pd\n",
    "import spacy\n",
    "import en_core_web_lg\n",
    "import re\n",
    "import qgrid"
   ]
  },
  {
   "cell_type": "code",
   "execution_count": 16,
   "metadata": {},
   "outputs": [],
   "source": [
    "nlp = en_core_web_lg.load()"
   ]
  },
  {
   "cell_type": "code",
   "execution_count": 13,
   "metadata": {},
   "outputs": [],
   "source": [
    "# _train = pd.read_csv('phrases.arg_ex.train.csv', index_col=0)\n",
    "# _test = pd.read_csv('phrases.arg_ex.test.csv', index_col=0)\n",
    "\n",
    "# train = _train[['final', 'replacements', 'label']]\n",
    "# test = _test[['final', 'replacements', 'label']]\n",
    "\n",
    "# train.to_csv('phrases.keyword_ex.train.csv')\n",
    "# test.to_csv('phrases.keyword_ex.test.csv')"
   ]
  },
  {
   "cell_type": "code",
   "execution_count": 24,
   "metadata": {},
   "outputs": [],
   "source": [
    "train = pd.read_csv('phrases.keyword_ex.train.csv', index_col=0)\n",
    "test = pd.read_csv('phrases.keyword_ex.test.csv', index_col=0)"
   ]
  },
  {
   "cell_type": "code",
   "execution_count": 85,
   "metadata": {},
   "outputs": [],
   "source": [
    "db = {\n",
    "    # TODO: Genrate cartesian products with last-name and join with mention\n",
    "    'first-name':     [\"Altagracia\", \"Valarie\", \"Maya\", \"Lavern\", \"Chante\", \"Milly\", \"Erinn\", \"Stephenie\", \"Nancie\", \"Saran\", \"Emery\", \"Kate\", \"Tarah\", \"Vida\", \"Rosana\", \"Petra\", \"Carisa\", \"Vashti\", \"Marjorie\", \"Madonna\"],\n",
    "   'last-name':      [\"Smith\", \"Johnson\", \"Williams\", \"Jones\", \"Brown\", \"Davis\", \"Miller\", \"Wilson\", \"Moore\", \"Taylor\", \"Anderson\", \"Thomas\", \"Jackson\", \"White\", \"Harris\", \"Martin\", \"Thompson\", \"Garcia\", \"Martinez\", \"Robinson\", \"Clark\", \"Rodriguez\", \"Lewis\", \"Lee\", \"Walker\"],\n",
    "   'company':        [\"A. O. Smith\", \"A. Schulman\", \"A&W Restaurants\", \"a21, Inc.\", \"Aaron's, Inc.\", \"Abbott Laboratories\", \"AbbVie\", \"Abercrombie & Fitch\", \"Ablitech, Inc.\", \"ABM Industries\", \"ABS Capital Partners\", \"ABX Air\", \"AC Lens\", \"Academi\", \"Accenture Plc\", \"Access Systems Americas, Inc.\", \"ACCO Brands\", \"Accuquote\", \"Accuride Corporation\", \"Ace Hardware\", \"Acme Fresh Market\", \"ACN Inc.\", \"Acsis Inc.\", \"Activision Blizzard\", \"Activision\", \"Blizzard\", \"Acuity Brands\", \"Acuity Insurance\"],\n",
    "   'position':       [\"Accountant\", \"Accountant Systems\", \"Acquisition Management Intern\", \"Actuarial Analyst\", \"Actuary\", \"Administrative Generalist/Specialist\", \"Affordable Housing Specialist\", \"Analyst\", \"Appraiser\", \"Archaeologist\", \"Area Systems Coordinator\", \"Asylum or Immigration Officer\", \"Attorney/Law Clerk\", \"Audience Analyst\", \"Audit Resolution Follow Up\", \"Auditor\", \"Behavioral Scientist\", \"Biologist, Fishery\", \"Biologist, Marine\", \"Biologist, Wildlife\", \"Budget Analyst\", \"Budget Specialist\", \"Business Administration Officer\", \"Chemical Engineer\", \"Chemist\", \"Citizen Services Specialis\"],\n",
    "    ## TODO: will use ner for this\n",
    "   'location':       [\"Afghanistan\", \"Albania\", \"Algeria\", \"Andorra\", \"Angola\", \"Antigua & Deps\", \"Argentina\", \"Armenia\", \"Australia\", \"Austria\", \"Azerbaijan\", \"Bahamas\", \"Bahrain\", \"Bangladesh\", \"Barbados\", \"Belarus\", \"Belgium\", \"Belize\", \"Benin\", \"Bhutan\", \"Bolivia\", \"Bosnia Herzegovina\", \"Botswana\", \"Brazil\", \"Brunei\", \"Bulgaria\", \"Burkina\", \"Burundi\", \"Cambodia\", \"Cameroon\", \"Canada\", \"Cape Verde\", \"Central African Rep\", \"Chad\", \"Chile\", \"China\", \"Colombia\", \"Comoros\", \"Congo\", \"Congo {Democratic Rep}\", \"Costa Rica\", \"Croatia\", \"Cuba\", \"Cyprus\", \"Czech Republic\", \"Denmark\", \"Djibouti\", \"Dominica\", \"Dominican Republic\", \"East Timor\", \"Ecuador\", \"Egypt\", \"El Salvador\", \"Equatorial Guinea\", \"Eritrea\", \"Estonia\", \"Ethiopia\", \"Fiji\", \"Finland\", \"France\", \"Gabon\", \"Gambia\", \"Georgia\", \"Germany\", \"Ghana\", \"Greece\", \"Grenada\", \"Guatemala\", \"Guinea\", \"Guinea-Bissau\", \"Guyana\", \"Haiti\", \"Honduras\", \"Hungary\", \"Iceland\", \"India\", \"Indonesia\", \"Iran\", \"Iraq\", \"Ireland {Republic}\", \"Israel\", \"Italy\", \"Ivory Coast\", \"Jamaica\", \"Japan\", \"Jordan\", \"Kazakhstan\", \"Kenya\", \"Kiribati\", \"Korea North\", \"Korea South\", \"Kosovo\", \"Kuwait\", \"Kyrgyzstan\", \"Laos\", \"Latvia\", \"Lebanon\", \"Lesotho\", \"Liberia\", \"Libya\", \"Liechtenstein\", \"Lithuania\", \"Luxembourg\", \"Macedonia\", \"Madagascar\", \"Malawi\", \"Malaysia\", \"Maldives\", \"Mali\", \"Malta\", \"Marshall Islands\", \"Mauritania\", \"Mauritius\", \"Mexico\", \"Micronesia\", \"Moldova\", \"Monaco\", \"Mongolia\", \"Montenegro\", \"Morocco\", \"Mozambique\", \"Myanmar, {Burma}\", \"Namibia\", \"Nauru\", \"Nepal\", \"Netherlands\", \"New Zealand\", \"Nicaragua\", \"Niger\", \"Nigeria\", \"Norway\", \"Oman\", \"Pakistan\", \"Palau\", \"Panama\", \"Papua New Guinea\", \"Paraguay\", \"Peru\", \"Philippines\", \"Poland\", \"Portugal\", \"Qatar\", \"Romania\", \"Russian Federation\", \"Rwanda\", \"St Kitts & Nevis\", \"St Lucia\", \"Saint Vincent & the Grenadines\", \"Samoa\", \"San Marino\", \"Sao Tome & Principe\", \"Saudi Arabia\", \"Senegal\", \"Serbia\", \"Seychelles\", \"Sierra Leone\", \"Singapore\", \"Slovakia\", \"Slovenia\", \"Solomon Islands\", \"Somalia\", \"South Africa\", \"South Sudan\", \"Spain\", \"Sri Lanka\", \"Sudan\", \"Suriname\", \"Swaziland\", \"Sweden\", \"Switzerland\", \"Syria\", \"Taiwan\", \"Tajikistan\", \"Tanzania\", \"Thailand\", \"Togo\", \"Tonga\", \"Trinidad & Tobago\", \"Tunisia\", \"Turkey\", \"Turkmenistan\", \"Tuvalu\", \"Uganda\", \"Ukraine\", \"United Arab Emirates\", \"United Kingdom\", \"United States\", \"Uruguay\", \"Uzbekistan\", \"Vanuatu\", \"Vatican City\", \"Venezuela\", \"Vietnam\", \"Yemen\", \"Zambia\", \"Zimbabwe\"],\n",
    "  ## TODO: WRITE PATTERN\n",
    "   'email':          [\"mthurn@live.com\", \"fangorn@hotmail.com\", \"euice@outlook.com\", \"rgarcia@optonline.net\", \"mxiao@yahoo.com\", \"firstpr@att.net\", \"webdragon@comcast.net\", \"jguyer@aol.com\", \"sakusha@yahoo.ca\", \"crandall@sbcglobal.net\", \"drezet@me.com\", \"miyop@icloud.com\"],\n",
    " \n",
    "   'phone':          [\"(290) 448-8241\", \"(447) 865-0513\", \"(895) 592-8974\", \"(101) 892-2757\", \"(506) 934-8645\", \"(728) 690-5585\", \"(726) 292-2944\", \"(331) 408-2679\", \"(939) 771-3645\", \"(454) 726-1205\", \"(769) 916-5982\", \"(747) 180-7744\", \"(633) 561-7544\" \"(771) 171-3243\", \"(344) 842-7718\"],\n",
    " ## TODO: WRITE PATTERN\n",
    "   'website':        [\"mapy.cz\", \"ow.ly\", \"bbb.org\", \"mayoclinic.com\", \"soundcloud.com\", \"free.fr\", \"stumbleupon.com\", \"hugedomains.com\", \"apache.org\", \"wikia.com\", \"privacy.gov.au\", \"bandcamp.com\", \"sphinn.com\", \"deviantart.com\", \"berkeley.edu\"],\n",
    " \n",
    " ## Not needed to clean\n",
    "   'social-network': [\"google plus\", \"twitter\", \"google+\", \"facebook\", \"linkedin\", \"linked in\"],\n",
    "    ## TODO: join with first and last names\n",
    "   'mention':        [\"Clay Arnold\", \"Sheryl Bradley\", \"Steven Owens\", \"Kristin Hansen\", \"Stephanie Jenkins\", \"Michelle Neal\", \"Lindsey Holt\", \"Philip Stephens\", \"Delia Flores\", \"Caleb Ramirez\", \"Lynn Boyd\", \"Andy Chandler\", \"Estelle Jimenez\", \"Stacy Vaughn\", \"Dorothy Larson\", \"Shawna Potter\", \"Sherman Cooper\", \"Hope Griffith\", \"Connie Mitchell\", \"Dolores Cummings\"],\n",
    "   'poll-answer':    [\"Yes\", \"No\", \"Maybe\"],\n",
    "   'poll-question':  [\"Do you sleep with your closet doors open?\", \"Do you take the shampoos and conditioner bottles from hotel?\", \"Do you sleep with your sheets tucked in?\", \"Have you ever stolen a street sign before?\", \"Do you like to use post-it notes?\", \"Do you cut out coupons but then never use them?\", \"Do you have freckles?\", \"Do you always smile for pictures?\", \"Do you ever count your steps when you walk?\", \"Have you ever peed in the woods?\", \"Do you ever dance even if there's no music playing?\", \"Do you chew your pens and pencils?\", \"Is it ok for guys to wear pink ?\", \"Do you still watch cartoons?\"],\n",
    "   'event':          [\"Fluffy Bison'17\", \"Tired Kangaroos'18\", \"Clear Nightingales'12\", \"Swanky Elks'01\", \"Tall Frogs'12\", \"Present Larks'05\", \"Luxuriant Apes'04\", \"Deeply Seals'15\", \"Many Worms'13\", \"Ill Guineapigs'10\", \"Vagabond Panthers'12\", \"Happy Hippopotamuss'17\"],\n",
    "   'page-type':      [\"session\", \"sponsor\", \"speaker\", \"exhibitor\"],\n",
    "    ## TODO: get exhaustive list of extensions\n",
    "   'file-name':      [\"talk.pdf\", \"presentation.pptx\", \"workshop.doc\"]}"
   ]
  },
  {
   "cell_type": "code",
   "execution_count": 89,
   "metadata": {},
   "outputs": [],
   "source": [
    "full_names = db['mention']\n",
    "for fn in db['first-name']:\n",
    "    for ln in db['last-name']:\n",
    "        full_names.append(\"{} {}\".format(fn, ln))"
   ]
  },
  {
   "cell_type": "code",
   "execution_count": 100,
   "metadata": {},
   "outputs": [],
   "source": [
    "# Replace ' -> \"\n",
    "def replace_quotes_to_double_quotes(text):\n",
    "    return re.sub(r\"(\\W)'(\\w)\", r'\\1\"\\2', \n",
    "                  re.sub(r\"([^s])'(\\W)\", r'\\1\"\\2',\n",
    "                         re.sub(r\"(\\w|\\.)\\'$\", r'\\1\"', text)))"
   ]
  },
  {
   "cell_type": "code",
   "execution_count": 101,
   "metadata": {},
   "outputs": [],
   "source": [
    "train = train.assign(prep=train['final'].apply(lambda x: x.strip())\\\n",
    "                     .apply(replace_quotes_to_double_quotes)\\\n",
    "                     .apply(nlp))"
   ]
  },
  {
   "cell_type": "code",
   "execution_count": 106,
   "metadata": {},
   "outputs": [
    {
     "data": {
      "text/html": [
       "<div class=\"entities\" style=\"line-height: 2.5\">posted a content with 8 likes</div>"
      ],
      "text/plain": [
       "<IPython.core.display.HTML object>"
      ]
     },
     "metadata": {},
     "output_type": "display_data"
    }
   ],
   "source": [
    "spacy.displacy.render(train.loc[492]['prep'], jupyter=True, style='ent')"
   ]
  },
  {
   "cell_type": "code",
   "execution_count": 103,
   "metadata": {
    "scrolled": false
   },
   "outputs": [],
   "source": [
    "def extract(doc):\n",
    "    ex = {}\n",
    "    def add_label(text, label):\n",
    "        ex[text] = label\n",
    "        \n",
    "    for ent in doc.ents:\n",
    "        if ent.label_ == 'PERSON':\n",
    "            add_label(ent.text, 'person')\n",
    "        elif ent.label_ in {'CARDINAL', 'ORDINAL'} \\\n",
    "           and ent.text != 'first' and doc[min(ent.end+1, len(doc)-1)].text != 'name':\n",
    "            add_label(ent.text, 'number')\n",
    "        elif ent.label_ == 'ORG':\n",
    "            add_label(ent.text, 'org')\n",
    "            \n",
    "    for match in re.finditer(r'\"[^\"]+\"', doc.text):\n",
    "        ex[doc.text[match.start():match.end()]] = 'text'\n",
    "    return \";\".join([\"{}={}\".format(k, v) for k, v in ex.items()])\n",
    "\n",
    "train = train.assign(ex=train['prep'].apply(extract))"
   ]
  },
  {
   "cell_type": "code",
   "execution_count": 104,
   "metadata": {},
   "outputs": [
    {
     "data": {
      "application/vnd.jupyter.widget-view+json": {
       "model_id": "1628231b241b4efa83fa4935198f0a86",
       "version_major": 2,
       "version_minor": 0
      },
      "text/plain": [
       "QgridWidget(grid_options={'fullWidthRows': True, 'syncColumnCellResize': True, 'forceFitColumns': True, 'defau…"
      ]
     },
     "metadata": {},
     "output_type": "display_data"
    }
   ],
   "source": [
    "qdf = train[['final', 'ex']].copy()\n",
    "widget = qgrid.show_grid(qdf)\n",
    "widget"
   ]
  },
  {
   "cell_type": "code",
   "execution_count": null,
   "metadata": {},
   "outputs": [],
   "source": []
  }
 ],
 "metadata": {
  "kernelspec": {
   "display_name": "Python 3",
   "language": "python",
   "name": "python3"
  },
  "language_info": {
   "codemirror_mode": {
    "name": "ipython",
    "version": 3
   },
   "file_extension": ".py",
   "mimetype": "text/x-python",
   "name": "python",
   "nbconvert_exporter": "python",
   "pygments_lexer": "ipython3",
   "version": "3.6.0"
  }
 },
 "nbformat": 4,
 "nbformat_minor": 2
}
