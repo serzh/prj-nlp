{
 "cells": [
  {
   "cell_type": "code",
   "execution_count": 23,
   "metadata": {},
   "outputs": [],
   "source": [
    "import en_core_web_lg\n",
    "import pandas as pd\n",
    "from tqdm import tqdm, tqdm_pandas\n",
    "import qgrid\n",
    "import re\n",
    "from sklearn.model_selection import train_test_split, cross_validate\n",
    "from sklearn.metrics import f1_score\n",
    "import json\n",
    "import spacy\n",
    "from sklearn.pipeline import Pipeline\n",
    "from sklearn.feature_extraction import DictVectorizer\n",
    "from sklearn.naive_bayes import MultinomialNB\n",
    "\n",
    "pd.set_option('display.max_colwidth', 300)"
   ]
  },
  {
   "cell_type": "code",
   "execution_count": 56,
   "metadata": {},
   "outputs": [],
   "source": [
    "nlp = en_core_web_lg.load()"
   ]
  },
  {
   "cell_type": "code",
   "execution_count": 62,
   "metadata": {},
   "outputs": [],
   "source": [
    "nlp.tokenizer = spacy.tokenizer.Tokenizer(nlp.vocab, token_match=lambda x: x.startswith('<') and x.endswith('>'))"
   ]
  },
  {
   "cell_type": "code",
   "execution_count": 13,
   "metadata": {},
   "outputs": [],
   "source": [
    "from sklearn.externals import joblib\n",
    "spacy_tokenizer = lambda xs: [x.lemma_ for x in xs]\n",
    "fclf = joblib.load('filter_classifier.pkl')"
   ]
  },
  {
   "cell_type": "code",
   "execution_count": 8,
   "metadata": {},
   "outputs": [],
   "source": [
    "from sklearn.externals import joblib\n",
    "spacy_tokenizer = lambda xs: [x.lemma_ for x in xs]\n",
    "splitter = joblib.load('splitter.pkl')"
   ]
  },
  {
   "cell_type": "code",
   "execution_count": 58,
   "metadata": {},
   "outputs": [],
   "source": [
    "cl = pd.read_csv('dataset/with_labels_1522902786972.csv', usecols=['phrase', 'label'])\n",
    "train, test = train_test_split(cl, test_size=0.3)\n",
    "train.to_csv('phrases.arg_ex.train.csv')\n",
    "test.to_csv('phrases.arg_ex.test.csv')"
   ]
  },
  {
   "cell_type": "code",
   "execution_count": 63,
   "metadata": {},
   "outputs": [],
   "source": [
    "train = pd.read_csv('phrases.arg_ex.train.csv')\n",
    "test = pd.read_csv('phrases.arg_ex.test.csv')"
   ]
  },
  {
   "cell_type": "code",
   "execution_count": 64,
   "metadata": {},
   "outputs": [
    {
     "data": {
      "text/plain": [
       "0                                           (rated, the, page, <number>, times?)\n",
       "1                                                            (attended, <event>)\n",
       "2                                                           (rated, <page-type>)\n",
       "3                                              (works, at, abbott, laboratories)\n",
       "4                                                                    (biologist)\n",
       "5                                                       (reside, in, <location>)\n",
       "6                                        (viewed, page, with, <page-type>, type)\n",
       "7                                        (connected, <social-network>+, account)\n",
       "8                                   (work, as, Affordable, Housting, Specialist)\n",
       "9                                         (answered, at, least, <number>, polls)\n",
       "10                                                     (posts, about, <mention>)\n",
       "11                                         (viewed, page, contains, <post-word>)\n",
       "12                                                  (posted, about, <post-word>)\n",
       "13                                                      (phone, number, <phone>)\n",
       "14                                              (clicked, on, ad, by, <company>)\n",
       "15                       (make, a, reply, to, the, post, written, by, <mention>)\n",
       "16                                          (<first-name>, as, the, first, name)\n",
       "17                                                 (liked, posts, by, <mention>)\n",
       "18                                                  (liked, it, <number>, times)\n",
       "19                                                       (n't, like, the, event)\n",
       "20                                                     ( , voted, <poll-answer>)\n",
       "21                                           (answered, <poll-answer>, in, poll)\n",
       "22                                                (rated, page, <number>, times)\n",
       "23                                          (linked, <social-network>+, account)\n",
       "24                                    (like, posts, with, \"<post-word>\", in, it)\n",
       "25                                                     (wrote, <mention>s, post)\n",
       "26                                        (liked, post, with, word, <post-word>)\n",
       "27                                                           (<sentiment>, post)\n",
       "28                                               (bio, has, <post-word>, in, it)\n",
       "29                                 (left, a, note, on, a, page, <number>, times)\n",
       "                                         ...                                    \n",
       "341                                          (converted, on, the, <company>, ad)\n",
       "342    (rated, a, page, that, contains, <post-word>, at, least, <number>, times)\n",
       "343                         (left, a, reply, for, the, post, about, <post-word>)\n",
       "344                                  (took, a, not, on, page, with, <post-word>)\n",
       "345                   (downloaded, a, file, from, page, with, <page-type>, type)\n",
       "346                                                        (number, is, <phone>)\n",
       "347                                              (post, with, <number>, replies)\n",
       "348                                                  (first, name, <first-name>)\n",
       "349                               (clicked, on, ad, that, contains, <post-word>)\n",
       "350                                                           (attended, before)\n",
       "351                                               (clicked, on, <post-word>, ad)\n",
       "352                                        (clicked, on, an, ad, <number>, time)\n",
       "353                                                     (clicked, <company>, ad)\n",
       "354                                       (replied, to, post, with, <post-word>)\n",
       "355                                             (clicked, on, ad, by, <company>)\n",
       "356                                                 (liked, <mention>s, content)\n",
       "357                                    (clicked, on, ad, created, by, <company>)\n",
       "358                                  (posted, something, liked, <number>, times)\n",
       "359                               (wrote, a, post, that, contains, <post-word>?)\n",
       "360                             (created, a, post, with, <sentiment>, sentiment)\n",
       "361                                                  ( , <website>, as, website)\n",
       "362                                   (clicked, on, ad, containing, <post-word>)\n",
       "363                        (created, a, post, on, page, containing, <post-word>)\n",
       "364                                        (liked, <number>, <sentiment>, posts)\n",
       "365                                       (wrote, something, about, <post-word>)\n",
       "366          (participated, in, a, poll, with, the, question, <poll-question>?')\n",
       "367                                  (posted, a, message, with, <number>, likes)\n",
       "368                                                           (from, <location>)\n",
       "369                                                           (from, <location>)\n",
       "370                                          (downloaded, file, <number>, times)\n",
       "Name: phrase, Length: 371, dtype: object"
      ]
     },
     "execution_count": 64,
     "metadata": {},
     "output_type": "execute_result"
    }
   ],
   "source": [
    "train['phrase'].apply(nlp)"
   ]
  },
  {
   "cell_type": "code",
   "execution_count": null,
   "metadata": {},
   "outputs": [],
   "source": []
  }
 ],
 "metadata": {
  "kernelspec": {
   "display_name": "Python 3",
   "language": "python",
   "name": "python3"
  },
  "language_info": {
   "codemirror_mode": {
    "name": "ipython",
    "version": 3
   },
   "file_extension": ".py",
   "mimetype": "text/x-python",
   "name": "python",
   "nbconvert_exporter": "python",
   "pygments_lexer": "ipython3",
   "version": "3.6.0"
  }
 },
 "nbformat": 4,
 "nbformat_minor": 2
}
