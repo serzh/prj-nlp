{
 "cells": [
  {
   "cell_type": "code",
   "execution_count": 1,
   "metadata": {},
   "outputs": [],
   "source": [
    "%matplotlib inline\n",
    "import gensim\n",
    "import en_core_web_md\n",
    "import spacy\n",
    "from gensim.utils import tokenize\n",
    "from nltk.tokenize import sent_tokenize\n",
    "import itertools\n",
    "from tqdm import tqdm\n",
    "import logging\n",
    "from sklearn.manifold import TSNE\n",
    "import matplotlib.pyplot as plt\n",
    "import pandas as pd"
   ]
  },
  {
   "cell_type": "code",
   "execution_count": 2,
   "metadata": {},
   "outputs": [],
   "source": [
    "logging.basicConfig(format='%(asctime)s : %(levelname)s : %(message)s', level=logging.WARN)"
   ]
  },
  {
   "cell_type": "code",
   "execution_count": 3,
   "metadata": {},
   "outputs": [],
   "source": [
    "nlp = en_core_web_md.load(disable=['parser', 'ner'])"
   ]
  },
  {
   "cell_type": "code",
   "execution_count": 4,
   "metadata": {},
   "outputs": [],
   "source": [
    "nlp.add_pipe(nlp.create_pipe('sentencizer'))"
   ]
  },
  {
   "cell_type": "markdown",
   "metadata": {},
   "source": [
    "41168"
   ]
  },
  {
   "cell_type": "code",
   "execution_count": 5,
   "metadata": {
    "scrolled": true
   },
   "outputs": [
    {
     "name": "stderr",
     "output_type": "stream",
     "text": [
      "100%|██████████| 41168/41168 [02:50<00:00, 241.72it/s]\n"
     ]
    }
   ],
   "source": [
    "class LOTR:\n",
    "    def __iter__(self):\n",
    "        text = None\n",
    "        with open('lotr.txt') as f:\n",
    "            text = f.read()\n",
    "        sents = sent_tokenize(text)\n",
    "        #doc = spacy.tokens.Doc(nlp.vocab, tokens)\n",
    "        #nlp.tagger(doc)\n",
    "        for sent in sents:\n",
    "            tokens = nlp(sent)\n",
    "            new_tokens = ['<S>']\n",
    "            for token in tokens:\n",
    "                if token.lemma_ == ' ':\n",
    "                    continue\n",
    "                else:\n",
    "                    new_tok = token.lemma_ + '_' + token.tag_\n",
    "                    new_tokens.append(new_tok)\n",
    "            new_tokens.append('</S>')\n",
    "            yield new_tokens\n",
    "\n",
    "lotr = list(tqdm(LOTR(),total=41168))"
   ]
  },
  {
   "cell_type": "code",
   "execution_count": 37,
   "metadata": {},
   "outputs": [],
   "source": [
    "m4 = gensim.models.Word2Vec(lotr, size=100, window=5, min_count=1, iter=40)\n",
    "m4.save('lotr.gs')"
   ]
  },
  {
   "cell_type": "code",
   "execution_count": 38,
   "metadata": {},
   "outputs": [
    {
     "data": {
      "text/plain": [
       "20709"
      ]
     },
     "execution_count": 38,
     "metadata": {},
     "output_type": "execute_result"
    }
   ],
   "source": [
    "len(m4.wv.vocab)"
   ]
  },
  {
   "cell_type": "code",
   "execution_count": 39,
   "metadata": {},
   "outputs": [
    {
     "data": {
      "text/plain": [
       "array([ 1.9555393 , -0.13288398,  0.7162461 , -1.7443082 ,  0.4357134 ,\n",
       "        2.1088314 ,  1.7970675 ,  0.9730945 , -0.2817831 , -1.2967294 ,\n",
       "        1.0671456 ,  1.1517249 ,  0.256114  ,  1.8122553 , -3.0562263 ,\n",
       "        0.75673985,  0.23464973,  1.7259942 ,  0.3920171 ,  3.9448795 ,\n",
       "       -1.1873442 ,  0.33956924,  1.0164793 ,  0.17521821,  1.4563706 ,\n",
       "        0.05073483,  1.3544884 ,  1.666326  ,  2.5911598 , -0.37733594,\n",
       "       -0.12244103,  1.1340721 , -2.833015  , -2.2428408 ,  1.6615325 ,\n",
       "        3.817434  ,  0.14090115, -0.6368559 , -1.139593  ,  0.42020988,\n",
       "       -0.25808644,  3.5547032 , -0.56135553, -2.1688087 , -0.53243524,\n",
       "        0.77664167,  0.29440054,  0.10226014, -0.5761085 , -0.5382233 ,\n",
       "       -1.324501  , -0.01425888,  0.78402346,  1.2903308 , -1.0995082 ,\n",
       "        1.305997  ,  0.50497484,  1.5924135 , -1.0156242 , -1.4779359 ,\n",
       "       -2.8891919 , -0.82433075,  0.07610452, -0.79525024, -0.51849157,\n",
       "       -0.18065079, -0.29567546,  1.8603171 , -1.2751254 , -1.3022225 ,\n",
       "        0.65762407, -0.6993761 ,  1.1641849 ,  0.5574672 , -1.1136476 ,\n",
       "        0.34167966,  1.7839035 , -0.35922918, -0.2934263 , -0.48645297,\n",
       "        2.0819993 , -0.9090067 , -2.5346682 , -0.70734984,  3.2102153 ,\n",
       "       -1.4020547 ,  1.723629  ,  0.25392854,  1.0453188 , -1.1589345 ,\n",
       "        1.0408771 , -1.1077466 ,  1.2750312 ,  1.9933633 , -1.9548167 ,\n",
       "        1.9087076 , -1.2476932 , -3.5087159 ,  0.52181   ,  0.41480753],\n",
       "      dtype=float32)"
      ]
     },
     "execution_count": 39,
     "metadata": {},
     "output_type": "execute_result"
    }
   ],
   "source": [
    "m4.wv['ring_NN']"
   ]
  },
  {
   "cell_type": "code",
   "execution_count": 40,
   "metadata": {
    "scrolled": true
   },
   "outputs": [
    {
     "data": {
      "text/plain": [
       "[('bane_NNP', 0.5592973232269287),\n",
       " ('gollum_NNP', 0.5343833565711975),\n",
       " ('farmer_NN', 0.5263173580169678),\n",
       " ('master_NN', 0.5262237787246704),\n",
       " ('faramir_NNP', 0.5124294757843018),\n",
       " ('pippin_NNP', 0.4891310930252075),\n",
       " ('baggins_NNP', 0.4859563708305359),\n",
       " ('isildur_NNP', 0.4845581650733948),\n",
       " ('company_NNP', 0.48206382989883423),\n",
       " ('bilbo_NNP', 0.4737789034843445)]"
      ]
     },
     "execution_count": 40,
     "metadata": {},
     "output_type": "execute_result"
    }
   ],
   "source": [
    "m4.wv.most_similar(positive=['frodo_NNP', 'ring_NNP'])"
   ]
  },
  {
   "cell_type": "code",
   "execution_count": 41,
   "metadata": {},
   "outputs": [
    {
     "data": {
      "text/plain": [
       "[('saruman_NNP', 0.6206921339035034),\n",
       " ('boromir_NNP', 0.5949528217315674),\n",
       " ('faramir_NNP', 0.5849675536155701),\n",
       " ('bane_NNP', 0.5618189573287964),\n",
       " ('company_NNP', 0.5549007654190063),\n",
       " ('isildur_NNP', 0.5471694469451904),\n",
       " ('map_NN', 0.540136992931366),\n",
       " ('beregond_NNP', 0.5380115509033203),\n",
       " ('wizard_NN', 0.5357128381729126),\n",
       " ('belladonna_NNP', 0.5289272665977478)]"
      ]
     },
     "execution_count": 41,
     "metadata": {},
     "output_type": "execute_result"
    }
   ],
   "source": [
    "m4.wv.most_similar(positive=['gandalf_NNP', 'ring_NNP'])"
   ]
  },
  {
   "cell_type": "code",
   "execution_count": 42,
   "metadata": {
    "scrolled": true
   },
   "outputs": [
    {
     "data": {
      "text/plain": [
       "[('willow_NNP', 0.48530858755111694),\n",
       " ('heir_NNP', 0.47873497009277344),\n",
       " ('compose_VBD', 0.47868460416793823),\n",
       " ('relative_NN', 0.47860491275787354),\n",
       " ('grimbeorn_NNP', 0.4658237099647522),\n",
       " ('jolly_RB', 0.4637915790081024),\n",
       " ('contents_NNPS', 0.459810733795166),\n",
       " ('departure_NNP', 0.45532581210136414),\n",
       " ('gram_NNP', 0.45282283425331116),\n",
       " ('\\n \\n\\n __SP', 0.44886893033981323)]"
      ]
     },
     "execution_count": 42,
     "metadata": {},
     "output_type": "execute_result"
    }
   ],
   "source": [
    "m4.wv.most_similar(positive=['arathorn_NNP'], negative=['aragorn_NNP'])"
   ]
  },
  {
   "cell_type": "code",
   "execution_count": 43,
   "metadata": {},
   "outputs": [
    {
     "data": {
      "text/plain": [
       "[('jomer_NNP', 0.6487311720848083),\n",
       " ('faramir_NNP', 0.616490364074707),\n",
       " ('gandalf_NNP', 0.5973088145256042),\n",
       " ('thjoden_NNP', 0.5944362878799438),\n",
       " ('beregond_NNP', 0.5769267082214355),\n",
       " ('gimli_NNP', 0.566455602645874),\n",
       " ('imrahil_NNP', 0.5574600100517273),\n",
       " ('elrond_NNP', 0.5420892834663391),\n",
       " ('glorfindel_NNP', 0.5154005289077759),\n",
       " ('denethor_NNP', 0.5064072608947754)]"
      ]
     },
     "execution_count": 43,
     "metadata": {},
     "output_type": "execute_result"
    }
   ],
   "source": [
    "m4.wv.most_similar(positive=['king_NN', 'aragorn_NNP'], negative=['queen_NN'])"
   ]
  },
  {
   "cell_type": "code",
   "execution_count": 135,
   "metadata": {},
   "outputs": [
    {
     "name": "stderr",
     "output_type": "stream",
     "text": [
      "/Users/serhiinechyporhuk/.local/share/virtualenvs/SerhiiNechyporchuk-Ib9yWLjX/lib/python3.6/site-packages/ipykernel_launcher.py:2: DeprecationWarning: Call to deprecated `__getitem__` (Method will be removed in 4.0.0, use self.wv.__getitem__() instead).\n",
      "  \n"
     ]
    }
   ],
   "source": [
    "tsne = TSNE()\n",
    "X = tsne.fit_transform(m4[m4.wv.vocab])"
   ]
  },
  {
   "cell_type": "code",
   "execution_count": 141,
   "metadata": {},
   "outputs": [],
   "source": [
    "df = pd.DataFrame(X, index=m4.wv.vocab, columns=['x', 'y'])"
   ]
  },
  {
   "cell_type": "code",
   "execution_count": null,
   "metadata": {},
   "outputs": [
    {
     "name": "stderr",
     "output_type": "stream",
     "text": [
      "2018-04-28 16:35:01,461 : ERROR : Uncaught exception in ZMQStream callback\n",
      "Traceback (most recent call last):\n",
      "  File \"/Users/serhiinechyporhuk/.local/share/virtualenvs/SerhiiNechyporchuk-Ib9yWLjX/lib/python3.6/site-packages/zmq/eventloop/zmqstream.py\", line 432, in _run_callback\n",
      "    callback(*args, **kwargs)\n",
      "  File \"/Users/serhiinechyporhuk/.local/share/virtualenvs/SerhiiNechyporchuk-Ib9yWLjX/lib/python3.6/site-packages/tornado/stack_context.py\", line 276, in null_wrapper\n",
      "    return fn(*args, **kwargs)\n",
      "  File \"/Users/serhiinechyporhuk/.local/share/virtualenvs/SerhiiNechyporchuk-Ib9yWLjX/lib/python3.6/site-packages/ipykernel/kernelbase.py\", line 283, in dispatcher\n",
      "    return self.dispatch_shell(stream, msg)\n",
      "  File \"/Users/serhiinechyporhuk/.local/share/virtualenvs/SerhiiNechyporchuk-Ib9yWLjX/lib/python3.6/site-packages/ipykernel/kernelbase.py\", line 233, in dispatch_shell\n",
      "    handler(stream, idents, msg)\n",
      "  File \"/Users/serhiinechyporhuk/.local/share/virtualenvs/SerhiiNechyporchuk-Ib9yWLjX/lib/python3.6/site-packages/ipykernel/kernelbase.py\", line 399, in execute_request\n",
      "    user_expressions, allow_stdin)\n",
      "  File \"/Users/serhiinechyporhuk/.local/share/virtualenvs/SerhiiNechyporchuk-Ib9yWLjX/lib/python3.6/site-packages/ipykernel/ipkernel.py\", line 208, in do_execute\n",
      "    res = shell.run_cell(code, store_history=store_history, silent=silent)\n",
      "  File \"/Users/serhiinechyporhuk/.local/share/virtualenvs/SerhiiNechyporchuk-Ib9yWLjX/lib/python3.6/site-packages/ipykernel/zmqshell.py\", line 537, in run_cell\n",
      "    return super(ZMQInteractiveShell, self).run_cell(*args, **kwargs)\n",
      "  File \"/Users/serhiinechyporhuk/.local/share/virtualenvs/SerhiiNechyporchuk-Ib9yWLjX/lib/python3.6/site-packages/IPython/core/interactiveshell.py\", line 2737, in run_cell\n",
      "    self.events.trigger('post_execute')\n",
      "  File \"/Users/serhiinechyporhuk/.local/share/virtualenvs/SerhiiNechyporchuk-Ib9yWLjX/lib/python3.6/site-packages/IPython/core/events.py\", line 73, in trigger\n",
      "    func(*args, **kwargs)\n",
      "  File \"/Users/serhiinechyporhuk/.local/share/virtualenvs/SerhiiNechyporchuk-Ib9yWLjX/lib/python3.6/site-packages/matplotlib/pyplot.py\", line 149, in post_execute\n",
      "    draw_all()\n",
      "  File \"/Users/serhiinechyporhuk/.local/share/virtualenvs/SerhiiNechyporchuk-Ib9yWLjX/lib/python3.6/site-packages/matplotlib/_pylab_helpers.py\", line 136, in draw_all\n",
      "    f_mgr.canvas.draw_idle()\n",
      "  File \"/Users/serhiinechyporhuk/.local/share/virtualenvs/SerhiiNechyporchuk-Ib9yWLjX/lib/python3.6/site-packages/matplotlib/backend_bases.py\", line 2055, in draw_idle\n",
      "    self.draw(*args, **kwargs)\n",
      "  File \"/Users/serhiinechyporhuk/.local/share/virtualenvs/SerhiiNechyporchuk-Ib9yWLjX/lib/python3.6/site-packages/matplotlib/backends/backend_agg.py\", line 433, in draw\n",
      "    self.figure.draw(self.renderer)\n",
      "  File \"/Users/serhiinechyporhuk/.local/share/virtualenvs/SerhiiNechyporchuk-Ib9yWLjX/lib/python3.6/site-packages/matplotlib/artist.py\", line 55, in draw_wrapper\n",
      "    return draw(artist, renderer, *args, **kwargs)\n",
      "  File \"/Users/serhiinechyporhuk/.local/share/virtualenvs/SerhiiNechyporchuk-Ib9yWLjX/lib/python3.6/site-packages/matplotlib/figure.py\", line 1475, in draw\n",
      "    renderer, self, artists, self.suppressComposite)\n",
      "  File \"/Users/serhiinechyporhuk/.local/share/virtualenvs/SerhiiNechyporchuk-Ib9yWLjX/lib/python3.6/site-packages/matplotlib/image.py\", line 141, in _draw_list_compositing_images\n",
      "    a.draw(renderer)\n",
      "  File \"/Users/serhiinechyporhuk/.local/share/virtualenvs/SerhiiNechyporchuk-Ib9yWLjX/lib/python3.6/site-packages/matplotlib/artist.py\", line 55, in draw_wrapper\n",
      "    return draw(artist, renderer, *args, **kwargs)\n",
      "  File \"/Users/serhiinechyporhuk/.local/share/virtualenvs/SerhiiNechyporchuk-Ib9yWLjX/lib/python3.6/site-packages/matplotlib/axes/_base.py\", line 2607, in draw\n",
      "    mimage._draw_list_compositing_images(renderer, self, artists)\n",
      "  File \"/Users/serhiinechyporhuk/.local/share/virtualenvs/SerhiiNechyporchuk-Ib9yWLjX/lib/python3.6/site-packages/matplotlib/image.py\", line 141, in _draw_list_compositing_images\n",
      "    a.draw(renderer)\n",
      "  File \"/Users/serhiinechyporhuk/.local/share/virtualenvs/SerhiiNechyporchuk-Ib9yWLjX/lib/python3.6/site-packages/matplotlib/artist.py\", line 55, in draw_wrapper\n",
      "    return draw(artist, renderer, *args, **kwargs)\n",
      "  File \"/Users/serhiinechyporhuk/.local/share/virtualenvs/SerhiiNechyporchuk-Ib9yWLjX/lib/python3.6/site-packages/matplotlib/text.py\", line 2292, in draw\n",
      "    self.update_bbox_position_size(renderer)\n",
      "KeyboardInterrupt\n"
     ]
    }
   ],
   "source": [
    "fig = plt.figure()\n",
    "ax = fig.add_subplot(1, 1, 1)\n",
    "\n",
    "ax.scatter(df['x'], df['y'])\n",
    "for word, pos in df.iterrows():\n",
    "    ax.annotate(word, pos)\n",
    "ax."
   ]
  },
  {
   "cell_type": "code",
   "execution_count": null,
   "metadata": {},
   "outputs": [],
   "source": []
  }
 ],
 "metadata": {
  "kernelspec": {
   "display_name": "Python 3",
   "language": "python",
   "name": "python3"
  },
  "language_info": {
   "codemirror_mode": {
    "name": "ipython",
    "version": 3
   },
   "file_extension": ".py",
   "mimetype": "text/x-python",
   "name": "python",
   "nbconvert_exporter": "python",
   "pygments_lexer": "ipython3",
   "version": "3.6.0"
  }
 },
 "nbformat": 4,
 "nbformat_minor": 2
}
