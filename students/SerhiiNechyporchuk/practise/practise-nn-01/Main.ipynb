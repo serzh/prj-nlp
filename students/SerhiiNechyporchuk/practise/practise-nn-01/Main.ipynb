{
 "cells": [
  {
   "cell_type": "code",
   "execution_count": 12,
   "metadata": {},
   "outputs": [],
   "source": [
    "%matplotlib inline\n",
    "\n",
    "import conllu\n",
    "import pandas as pd\n",
    "import numpy as np\n",
    "import spacy\n",
    "import en_core_web_lg\n",
    "import collections\n",
    "from sklearn.pipeline import Pipeline\n",
    "from sklearn.feature_extraction import DictVectorizer\n",
    "from sklearn.decomposition import PCA, TruncatedSVD\n",
    "from sklearn.model_selection import cross_validate\n",
    "from sklearn.metrics import classification_report, make_scorer, precision_recall_fscore_support\n",
    "from sklearn.naive_bayes import MultinomialNB\n",
    "from sklearn.linear_model import LogisticRegression\n",
    "from sklearn.svm import SVC\n",
    "from tqdm import tqdm"
   ]
  },
  {
   "cell_type": "code",
   "execution_count": 2,
   "metadata": {},
   "outputs": [],
   "source": [
    "nlp = en_core_web_lg.load()"
   ]
  },
  {
   "cell_type": "markdown",
   "metadata": {},
   "source": [
    "## Part 1"
   ]
  },
  {
   "cell_type": "markdown",
   "metadata": {},
   "source": [
    "### Loading data"
   ]
  },
  {
   "cell_type": "code",
   "execution_count": 17,
   "metadata": {},
   "outputs": [],
   "source": [
    "train = conllu.parse(open(\"uk_iu-ud-train.conllu\").read())\n",
    "test = conllu.parse(open(\"uk_iu-ud-test.conllu\").read())\n",
    "dev = conllu.parse(open(\"uk_iu-ud-dev.conllu\").read())"
   ]
  },
  {
   "cell_type": "markdown",
   "metadata": {},
   "source": [
    "function for printing dep tree in form of tuples:"
   ]
  },
  {
   "cell_type": "code",
   "execution_count": 102,
   "metadata": {
    "scrolled": false
   },
   "outputs": [
    {
     "name": "stdout",
     "output_type": "stream",
     "text": [
      "У <- домі\n",
      "домі <- була\n",
      "римського <- патриція\n",
      "патриція <- домі\n",
      "Руфіна <- патриція\n",
      "була <- root\n",
      "прегарна <- фреска\n",
      "фреска <- була\n",
      ", <- зображення\n",
      "зображення <- фреска\n",
      "Венери <- зображення\n",
      "та <- Адоніса\n",
      "Адоніса <- Венери\n",
      ". <- була\n"
     ]
    }
   ],
   "source": [
    "def print_tree(tree):\n",
    "    for token in tree:\n",
    "        print( token['form'], '<-', tree[token['head']-1]['form'] if token['head'] > 0 else 'root')\n",
    "print_tree(train[0])"
   ]
  },
  {
   "cell_type": "markdown",
   "metadata": {},
   "source": [
    "### Writing basic oracle using static oracle"
   ]
  },
  {
   "cell_type": "markdown",
   "metadata": {},
   "source": [
    "Simple static eager oracle:"
   ]
  },
  {
   "cell_type": "code",
   "execution_count": 101,
   "metadata": {},
   "outputs": [],
   "source": [
    "def predict_action(stack, queue, relations):\n",
    "    if stack and not queue:\n",
    "        return 'reduce'\n",
    "    elif stack[-1]['head'] == queue[0]['id']:\n",
    "        return 'left_arc'\n",
    "    elif stack[-1]['id'] == queue[0]['head']:\n",
    "        return 'right_arc'\n",
    "    elif stack[-1]['id'] in [r[0] for r in relations] and \\\n",
    "         queue[0]['head'] < stack[-1]['id']:\n",
    "        return 'reduce'\n",
    "    else:\n",
    "        return 'shift'"
   ]
  },
  {
   "cell_type": "code",
   "execution_count": 20,
   "metadata": {},
   "outputs": [],
   "source": [
    "ROOT = collections.OrderedDict([('id', 0), ('head', None), ('form', 'ROOT'), ('lemma', 'ROOT'), ('upostag', 'ROOT')])"
   ]
  },
  {
   "cell_type": "markdown",
   "metadata": {},
   "source": [
    "I've started with extracting all features for 2 top elements from stack and 4 top elements from queue"
   ]
  },
  {
   "cell_type": "code",
   "execution_count": 103,
   "metadata": {},
   "outputs": [],
   "source": [
    "def extract_features(stack, queue):\n",
    "    features = {}\n",
    "    if stack:\n",
    "        features['s0form'] = stack[-1]['form']\n",
    "        features['s0lemma'] = stack[-1]['lemma']\n",
    "        features['s0pos'] = stack[-1]['upostag']\n",
    "    if len(stack) > 1:\n",
    "        features['s1form'] = stack[-2]['form']\n",
    "        features['s1lemma'] = stack[-2]['lemma']\n",
    "        features['s1pos'] = stack[-2]['upostag']\n",
    "    if queue:\n",
    "        features['q0form'] = queue[0]['form']\n",
    "        features['q0lemma'] = queue[0]['lemma']\n",
    "        features['q0pos'] = queue[0]['upostag']\n",
    "    if len(queue) > 1:\n",
    "        features['q1form'] = queue[1]['form']\n",
    "        features['q1lemma'] = queue[1]['lemma']\n",
    "        features['q1pos'] = queue[1]['upostag']\n",
    "    if len(queue) > 2:\n",
    "        features['q2form'] = queue[2]['form']\n",
    "        features['q2lemma'] = queue[2]['lemma']\n",
    "        features['q2pos'] = queue[2]['upostag']\n",
    "    if len(queue) > 3:\n",
    "        features['q3form'] = queue[3]['form']\n",
    "        features['q3lemma'] = queue[3]['lemma']\n",
    "        features['q3pos'] = queue[3]['upostag']\n",
    "    if queue and stack:\n",
    "        features['dist'] = queue[0]['id'] - stack[-1]['id']\n",
    "        \n",
    "    return features"
   ]
  },
  {
   "cell_type": "markdown",
   "metadata": {},
   "source": [
    "Function for generating features, labels and relations by applying actions from static oracle:"
   ]
  },
  {
   "cell_type": "code",
   "execution_count": 22,
   "metadata": {
    "scrolled": false
   },
   "outputs": [
    {
     "name": "stdout",
     "output_type": "stream",
     "text": [
      "\n",
      "=========\n",
      "Action:  shift\n",
      "Stack:  ['ROOT']\n",
      "Queue: ['У', 'домі', 'римського', 'патриція', 'Руфіна', 'була', 'прегарна', 'фреска', ',', 'зображення', 'Венери', 'та', 'Адоніса', '.']\n",
      "Rels: []\n",
      "\n",
      "=========\n",
      "Action:  left_arc\n",
      "Stack:  ['ROOT', 'У']\n",
      "Queue: ['домі', 'римського', 'патриція', 'Руфіна', 'була', 'прегарна', 'фреска', ',', 'зображення', 'Венери', 'та', 'Адоніса', '.']\n",
      "Rels: []\n",
      "\n",
      "=========\n",
      "Action:  shift\n",
      "Stack:  ['ROOT']\n",
      "Queue: ['домі', 'римського', 'патриція', 'Руфіна', 'була', 'прегарна', 'фреска', ',', 'зображення', 'Венери', 'та', 'Адоніса', '.']\n",
      "Rels: [('У', 'домі')]\n",
      "\n",
      "=========\n",
      "Action:  shift\n",
      "Stack:  ['ROOT', 'домі']\n",
      "Queue: ['римського', 'патриція', 'Руфіна', 'була', 'прегарна', 'фреска', ',', 'зображення', 'Венери', 'та', 'Адоніса', '.']\n",
      "Rels: [('У', 'домі')]\n",
      "\n",
      "=========\n",
      "Action:  left_arc\n",
      "Stack:  ['ROOT', 'домі', 'римського']\n",
      "Queue: ['патриція', 'Руфіна', 'була', 'прегарна', 'фреска', ',', 'зображення', 'Венери', 'та', 'Адоніса', '.']\n",
      "Rels: [('У', 'домі')]\n",
      "\n",
      "=========\n",
      "Action:  right_arc\n",
      "Stack:  ['ROOT', 'домі']\n",
      "Queue: ['патриція', 'Руфіна', 'була', 'прегарна', 'фреска', ',', 'зображення', 'Венери', 'та', 'Адоніса', '.']\n",
      "Rels: [('У', 'домі'), ('римського', 'патриція')]\n",
      "\n",
      "=========\n",
      "Action:  right_arc\n",
      "Stack:  ['ROOT', 'домі', 'патриція']\n",
      "Queue: ['Руфіна', 'була', 'прегарна', 'фреска', ',', 'зображення', 'Венери', 'та', 'Адоніса', '.']\n",
      "Rels: [('У', 'домі'), ('римського', 'патриція'), ('патриція', 'домі')]\n",
      "\n",
      "=========\n",
      "Action:  reduce\n",
      "Stack:  ['ROOT', 'домі', 'патриція', 'Руфіна']\n",
      "Queue: ['була', 'прегарна', 'фреска', ',', 'зображення', 'Венери', 'та', 'Адоніса', '.']\n",
      "Rels: [('У', 'домі'), ('римського', 'патриція'), ('патриція', 'домі'), ('Руфіна', 'патриція')]\n",
      "\n",
      "=========\n",
      "Action:  reduce\n",
      "Stack:  ['ROOT', 'домі', 'патриція']\n",
      "Queue: ['була', 'прегарна', 'фреска', ',', 'зображення', 'Венери', 'та', 'Адоніса', '.']\n",
      "Rels: [('У', 'домі'), ('римського', 'патриція'), ('патриція', 'домі'), ('Руфіна', 'патриція')]\n",
      "\n",
      "=========\n",
      "Action:  left_arc\n",
      "Stack:  ['ROOT', 'домі']\n",
      "Queue: ['була', 'прегарна', 'фреска', ',', 'зображення', 'Венери', 'та', 'Адоніса', '.']\n",
      "Rels: [('У', 'домі'), ('римського', 'патриція'), ('патриція', 'домі'), ('Руфіна', 'патриція')]\n",
      "\n",
      "=========\n",
      "Action:  right_arc\n",
      "Stack:  ['ROOT']\n",
      "Queue: ['була', 'прегарна', 'фреска', ',', 'зображення', 'Венери', 'та', 'Адоніса', '.']\n",
      "Rels: [('У', 'домі'), ('римського', 'патриція'), ('патриція', 'домі'), ('Руфіна', 'патриція'), ('домі', 'була')]\n",
      "\n",
      "=========\n",
      "Action:  shift\n",
      "Stack:  ['ROOT', 'була']\n",
      "Queue: ['прегарна', 'фреска', ',', 'зображення', 'Венери', 'та', 'Адоніса', '.']\n",
      "Rels: [('У', 'домі'), ('римського', 'патриція'), ('патриція', 'домі'), ('Руфіна', 'патриція'), ('домі', 'була'), ('була', '.')]\n",
      "\n",
      "=========\n",
      "Action:  left_arc\n",
      "Stack:  ['ROOT', 'була', 'прегарна']\n",
      "Queue: ['фреска', ',', 'зображення', 'Венери', 'та', 'Адоніса', '.']\n",
      "Rels: [('У', 'домі'), ('римського', 'патриція'), ('патриція', 'домі'), ('Руфіна', 'патриція'), ('домі', 'була'), ('була', '.')]\n",
      "\n",
      "=========\n",
      "Action:  right_arc\n",
      "Stack:  ['ROOT', 'була']\n",
      "Queue: ['фреска', ',', 'зображення', 'Венери', 'та', 'Адоніса', '.']\n",
      "Rels: [('У', 'домі'), ('римського', 'патриція'), ('патриція', 'домі'), ('Руфіна', 'патриція'), ('домі', 'була'), ('була', '.'), ('прегарна', 'фреска')]\n",
      "\n",
      "=========\n",
      "Action:  shift\n",
      "Stack:  ['ROOT', 'була', 'фреска']\n",
      "Queue: [',', 'зображення', 'Венери', 'та', 'Адоніса', '.']\n",
      "Rels: [('У', 'домі'), ('римського', 'патриція'), ('патриція', 'домі'), ('Руфіна', 'патриція'), ('домі', 'була'), ('була', '.'), ('прегарна', 'фреска'), ('фреска', 'була')]\n",
      "\n",
      "=========\n",
      "Action:  left_arc\n",
      "Stack:  ['ROOT', 'була', 'фреска', ',']\n",
      "Queue: ['зображення', 'Венери', 'та', 'Адоніса', '.']\n",
      "Rels: [('У', 'домі'), ('римського', 'патриція'), ('патриція', 'домі'), ('Руфіна', 'патриція'), ('домі', 'була'), ('була', '.'), ('прегарна', 'фреска'), ('фреска', 'була')]\n",
      "\n",
      "=========\n",
      "Action:  right_arc\n",
      "Stack:  ['ROOT', 'була', 'фреска']\n",
      "Queue: ['зображення', 'Венери', 'та', 'Адоніса', '.']\n",
      "Rels: [('У', 'домі'), ('римського', 'патриція'), ('патриція', 'домі'), ('Руфіна', 'патриція'), ('домі', 'була'), ('була', '.'), ('прегарна', 'фреска'), ('фреска', 'була'), (',', 'зображення')]\n",
      "\n",
      "=========\n",
      "Action:  right_arc\n",
      "Stack:  ['ROOT', 'була', 'фреска', 'зображення']\n",
      "Queue: ['Венери', 'та', 'Адоніса', '.']\n",
      "Rels: [('У', 'домі'), ('римського', 'патриція'), ('патриція', 'домі'), ('Руфіна', 'патриція'), ('домі', 'була'), ('була', '.'), ('прегарна', 'фреска'), ('фреска', 'була'), (',', 'зображення'), ('зображення', 'фреска')]\n",
      "\n",
      "=========\n",
      "Action:  shift\n",
      "Stack:  ['ROOT', 'була', 'фреска', 'зображення', 'Венери']\n",
      "Queue: ['та', 'Адоніса', '.']\n",
      "Rels: [('У', 'домі'), ('римського', 'патриція'), ('патриція', 'домі'), ('Руфіна', 'патриція'), ('домі', 'була'), ('була', '.'), ('прегарна', 'фреска'), ('фреска', 'була'), (',', 'зображення'), ('зображення', 'фреска'), ('Венери', 'зображення')]\n",
      "\n",
      "=========\n",
      "Action:  left_arc\n",
      "Stack:  ['ROOT', 'була', 'фреска', 'зображення', 'Венери', 'та']\n",
      "Queue: ['Адоніса', '.']\n",
      "Rels: [('У', 'домі'), ('римського', 'патриція'), ('патриція', 'домі'), ('Руфіна', 'патриція'), ('домі', 'була'), ('була', '.'), ('прегарна', 'фреска'), ('фреска', 'була'), (',', 'зображення'), ('зображення', 'фреска'), ('Венери', 'зображення')]\n",
      "\n",
      "=========\n",
      "Action:  right_arc\n",
      "Stack:  ['ROOT', 'була', 'фреска', 'зображення', 'Венери']\n",
      "Queue: ['Адоніса', '.']\n",
      "Rels: [('У', 'домі'), ('римського', 'патриція'), ('патриція', 'домі'), ('Руфіна', 'патриція'), ('домі', 'була'), ('була', '.'), ('прегарна', 'фреска'), ('фреска', 'була'), (',', 'зображення'), ('зображення', 'фреска'), ('Венери', 'зображення'), ('та', 'Адоніса')]\n",
      "\n",
      "=========\n",
      "Action:  reduce\n",
      "Stack:  ['ROOT', 'була', 'фреска', 'зображення', 'Венери', 'Адоніса']\n",
      "Queue: ['.']\n",
      "Rels: [('У', 'домі'), ('римського', 'патриція'), ('патриція', 'домі'), ('Руфіна', 'патриція'), ('домі', 'була'), ('була', '.'), ('прегарна', 'фреска'), ('фреска', 'була'), (',', 'зображення'), ('зображення', 'фреска'), ('Венери', 'зображення'), ('та', 'Адоніса'), ('Адоніса', 'Венери')]\n",
      "\n",
      "=========\n",
      "Action:  reduce\n",
      "Stack:  ['ROOT', 'була', 'фреска', 'зображення', 'Венери']\n",
      "Queue: ['.']\n",
      "Rels: [('У', 'домі'), ('римського', 'патриція'), ('патриція', 'домі'), ('Руфіна', 'патриція'), ('домі', 'була'), ('була', '.'), ('прегарна', 'фреска'), ('фреска', 'була'), (',', 'зображення'), ('зображення', 'фреска'), ('Венери', 'зображення'), ('та', 'Адоніса'), ('Адоніса', 'Венери')]\n",
      "\n",
      "=========\n",
      "Action:  reduce\n",
      "Stack:  ['ROOT', 'була', 'фреска', 'зображення']\n",
      "Queue: ['.']\n",
      "Rels: [('У', 'домі'), ('римського', 'патриція'), ('патриція', 'домі'), ('Руфіна', 'патриція'), ('домі', 'була'), ('була', '.'), ('прегарна', 'фреска'), ('фреска', 'була'), (',', 'зображення'), ('зображення', 'фреска'), ('Венери', 'зображення'), ('та', 'Адоніса'), ('Адоніса', 'Венери')]\n",
      "\n",
      "=========\n",
      "Action:  reduce\n",
      "Stack:  ['ROOT', 'була', 'фреска']\n",
      "Queue: ['.']\n",
      "Rels: [('У', 'домі'), ('римського', 'патриція'), ('патриція', 'домі'), ('Руфіна', 'патриція'), ('домі', 'була'), ('була', '.'), ('прегарна', 'фреска'), ('фреска', 'була'), (',', 'зображення'), ('зображення', 'фреска'), ('Венери', 'зображення'), ('та', 'Адоніса'), ('Адоніса', 'Венери')]\n",
      "\n",
      "=========\n",
      "Action:  right_arc\n",
      "Stack:  ['ROOT', 'була']\n",
      "Queue: ['.']\n",
      "Rels: [('У', 'домі'), ('римського', 'патриція'), ('патриція', 'домі'), ('Руфіна', 'патриція'), ('домі', 'була'), ('була', '.'), ('прегарна', 'фреска'), ('фреска', 'була'), (',', 'зображення'), ('зображення', 'фреска'), ('Венери', 'зображення'), ('та', 'Адоніса'), ('Адоніса', 'Венери')]\n",
      "\n",
      "=========\n",
      "Action:  reduce\n",
      "Stack:  ['ROOT', 'була', '.']\n",
      "Queue: []\n",
      "Rels: [('У', 'домі'), ('римського', 'патриція'), ('патриція', 'домі'), ('Руфіна', 'патриція'), ('домі', 'була'), ('була', '.'), ('прегарна', 'фреска'), ('фреска', 'була'), (',', 'зображення'), ('зображення', 'фреска'), ('Венери', 'зображення'), ('та', 'Адоніса'), ('Адоніса', 'Венери'), ('.', 'була')]\n",
      "\n",
      "=========\n",
      "Action:  reduce\n",
      "Stack:  ['ROOT', 'була']\n",
      "Queue: []\n",
      "Rels: [('У', 'домі'), ('римського', 'патриція'), ('патриція', 'домі'), ('Руфіна', 'патриція'), ('домі', 'була'), ('була', '.'), ('прегарна', 'фреска'), ('фреска', 'була'), (',', 'зображення'), ('зображення', 'фреска'), ('Венери', 'зображення'), ('та', 'Адоніса'), ('Адоніса', 'Венери'), ('.', 'була')]\n",
      "\n",
      "=========\n",
      "Action:  reduce\n",
      "Stack:  ['ROOT']\n",
      "Queue: []\n",
      "Rels: [('У', 'домі'), ('римського', 'патриція'), ('патриція', 'домі'), ('Руфіна', 'патриція'), ('домі', 'була'), ('була', '.'), ('прегарна', 'фреска'), ('фреска', 'була'), (',', 'зображення'), ('зображення', 'фреска'), ('Венери', 'зображення'), ('та', 'Адоніса'), ('Адоніса', 'Венери'), ('.', 'була')]\n",
      "== Golden: \n",
      "У <- домі\n",
      "домі <- була\n",
      "римського <- патриція\n",
      "патриція <- домі\n",
      "Руфіна <- патриція\n",
      "була <- root\n",
      "прегарна <- фреска\n",
      "фреска <- була\n",
      ", <- зображення\n",
      "зображення <- фреска\n",
      "Венери <- зображення\n",
      "та <- Адоніса\n",
      "Адоніса <- Венери\n",
      ". <- була\n",
      "== Predicted: \n",
      "У <-- домі\n",
      "римського <-- патриція\n",
      "патриція <-- домі\n",
      "Руфіна <-- патриція\n",
      "домі <-- була\n",
      "була <-- .\n",
      "прегарна <-- фреска\n",
      "фреска <-- була\n",
      ", <-- зображення\n",
      "зображення <-- фреска\n",
      "Венери <-- зображення\n",
      "та <-- Адоніса\n",
      "Адоніса <-- Венери\n",
      ". <-- була\n"
     ]
    }
   ],
   "source": [
    "def get_labels_features_relations(trees, verbose=False):\n",
    "    labels, feats, rels = [], [], []\n",
    "    for tree in trees:\n",
    "        stack = [ROOT]\n",
    "        queue = tree[:]\n",
    "        relations = []\n",
    "        i = 0\n",
    "        while queue or stack:\n",
    "            action = predict_action(stack, queue, relations)\n",
    "            features = extract_features(stack, queue)\n",
    "            labels.append(action)\n",
    "            feats.append(features)\n",
    "            if verbose:\n",
    "                print('\\n=========')\n",
    "                print(\"Action: \", action)\n",
    "                print('Stack: ', [el['form'] for el in stack])\n",
    "                print('Queue:', [el['form'] for el in queue])\n",
    "                print('Rels:', [(tree[el[0]-1]['form'], tree[el[1]-1]['form']) for el in relations])\n",
    "            if action == 'reduce':\n",
    "                stack.pop()\n",
    "            elif action == 'shift':\n",
    "                stack.append(queue.pop(0))\n",
    "            elif action == 'left_arc':\n",
    "                relations.append((stack[-1]['id'], queue[0]['id']))\n",
    "                stack.pop()\n",
    "            elif action == 'right_arc':\n",
    "                relations.append((queue[0]['id'], stack[-1]['id']))\n",
    "                stack.append(queue.pop(0))\n",
    "            i += 1\n",
    "            if i > 50:\n",
    "                break\n",
    "        if verbose:\n",
    "            print(\"== Golden: \")\n",
    "            print_tree(tree)\n",
    "            print(\"== Predicted: \")\n",
    "            [print(tree[c-1]['form'], '<--', tree[h-1]['form']) for c,h in relations]\n",
    "        rels.append(relations)\n",
    "    return (labels, feats, rels)\n",
    "\n",
    "res = get_labels_features_relations([train[0]], verbose=True)"
   ]
  },
  {
   "cell_type": "markdown",
   "metadata": {},
   "source": [
    "#### Metrics"
   ]
  },
  {
   "cell_type": "markdown",
   "metadata": {},
   "source": [
    "This function parses sentences in conllu format into the dependencies, we will use it for evaluating UAS metric:"
   ]
  },
  {
   "cell_type": "code",
   "execution_count": 33,
   "metadata": {},
   "outputs": [],
   "source": [
    "def parse_tree(oracle, trees, verbose=False):\n",
    "    all_rels = []\n",
    "    for tree in trees:\n",
    "        stack = [ROOT]\n",
    "        queue = tree[:]\n",
    "        relations = []\n",
    "        i = 0\n",
    "        while stack or queue:\n",
    "            features = extract_features(stack, queue)\n",
    "            [action] = oracle.predict([features])\n",
    "            if verbose:\n",
    "                print('\\n=========')\n",
    "                print(\"Action: \", action)\n",
    "                print('Stack: ', [el['form'] for el in stack])\n",
    "                print('Queue:', [el['form'] for el in queue])\n",
    "                print('Rels:', [(tree[el[0]-1]['form'], tree[el[1]-1]['form']) for el in relations])\n",
    "            if not stack and queue:\n",
    "                stack.append(queue.pop(0))\n",
    "            elif stack and not queue:\n",
    "                stack.pop()\n",
    "            elif action == 'reduce':\n",
    "                stack.pop()\n",
    "            elif action == 'shift':\n",
    "                stack.append(queue.pop(0))\n",
    "            elif action == 'left_arc':\n",
    "                relations.append((stack[-1]['id'], queue[0]['id']))\n",
    "                stack.pop()\n",
    "            elif action == 'right_arc':\n",
    "                relations.append((queue[0]['id'], stack[-1]['id']))\n",
    "                stack.append(queue.pop(0))\n",
    "            i += 1\n",
    "            if i > 50:\n",
    "                break\n",
    "        if verbose:\n",
    "            print(\"== Golden: \")\n",
    "            print_tree(tree)\n",
    "            print(\"== Predicted: \")\n",
    "            [print(tree[c-1]['form'], '<--', tree[h-1]['form']) for c,h in relations]\n",
    "        all_rels.append(relations)\n",
    "    return all_rels"
   ]
  },
  {
   "cell_type": "markdown",
   "metadata": {},
   "source": [
    "Functions for evaluating UAS metric:"
   ]
  },
  {
   "cell_type": "code",
   "execution_count": 34,
   "metadata": {},
   "outputs": [
    {
     "data": {
      "text/plain": [
       "0.3333333333333333"
      ]
     },
     "execution_count": 34,
     "metadata": {},
     "output_type": "execute_result"
    }
   ],
   "source": [
    "def tree_uas(true_tree, pred_tree):\n",
    "    ts = set(true_tree)\n",
    "    ps = set(pred_tree)\n",
    "    return len(ts & ps),len(true_tree)\n",
    "\n",
    "def trees_uas(true_trees, pred_trees):\n",
    "    valid = 0\n",
    "    total = 0\n",
    "    for i in range(len(true_trees)):\n",
    "        tp, tot = tree_uas(true_trees[i], pred_trees[i])\n",
    "        valid += tp\n",
    "        total += tot\n",
    "    return valid/total\n",
    "\n",
    "def uas(trees, oracle):\n",
    "    cv_true_rels = [[(node['id'], node['head']) for node in tree] for tree in trees]\n",
    "    cv_pred_rels = parse_tree(oracle, trees)\n",
    "    return trees_uas(cv_true_rels, cv_pred_rels)\n",
    "\n",
    "trees_uas([[(2,1), (1, 0), (3, 2)]],\n",
    "          [[(1,2), (1, 0), (2, 3)]])"
   ]
  },
  {
   "cell_type": "markdown",
   "metadata": {},
   "source": [
    "This functions trains and measures performance of classifier on test and dev sets:"
   ]
  },
  {
   "cell_type": "code",
   "execution_count": 104,
   "metadata": {},
   "outputs": [],
   "source": [
    "def evaluate(pipe, train_X, train_y, train_raw, cv_X, cv_y, cv_raw, verbose=True):\n",
    "    pipe.fit(train_X, train_y)\n",
    "    train_pred = pipe.predict(train_X)\n",
    "    train_uas = uas(train_raw, pipe)\n",
    "    trprec,trrecall,trfscore,_ = precision_recall_fscore_support(train_y, train_pred, average='weighted')\n",
    "    if verbose:\n",
    "        print(\"Train results\") \n",
    "        print('precision:\\t{}\\nrecall:\\t\\t{}\\nfscore:\\t\\t{}'.format(trprec, trrecall, trfscore))\n",
    "        print(\"UAS:\\t\\t\", train_uas)\n",
    "    cv_pred = pipe.predict(cv_X)\n",
    "    cv_uas = uas(cv_raw, pipe)\n",
    "    cvprec, cvrecall, cvfscore, _ = precision_recall_fscore_support(cv_y, cv_pred, average='weighted')\n",
    "    if verbose:\n",
    "        print(\"CV results\")  \n",
    "        print('precision:\\t{}\\nrecall:\\t\\t{}\\nfscore:\\t\\t{}'.format(cvprec, cvrecall, cvfscore))\n",
    "        print(\"UAS:\\t\\t\", cv_uas)\n",
    "    return {\n",
    "        'train_precision': trprec,\n",
    "        'train_recall': trrecall,\n",
    "        'train_fscore': trfscore,\n",
    "        'train_uas': train_uas,\n",
    "        'cv_precision': cvprec,\n",
    "        'cv_recall': cvrecall,\n",
    "        'cv_fscore': cvfscore,\n",
    "        'cv_uas': cv_uas\n",
    "    }"
   ]
  },
  {
   "cell_type": "markdown",
   "metadata": {},
   "source": [
    "#### Collecting features"
   ]
  },
  {
   "cell_type": "code",
   "execution_count": 105,
   "metadata": {
    "scrolled": false
   },
   "outputs": [
    {
     "name": "stdout",
     "output_type": "stream",
     "text": [
      "Labels:  134597\n",
      "Examples:  134597\n"
     ]
    }
   ],
   "source": [
    "def get_all_features(examples):\n",
    "    labels, features, _ = get_labels_features_relations(examples)\n",
    "    return labels, features\n",
    "ls,fs = get_all_features(train)\n",
    "cv_ls, cv_fs = get_all_features(dev)\n",
    "print(\"Labels: \", len(ls))\n",
    "print(\"Examples: \", len(fs))"
   ]
  },
  {
   "cell_type": "markdown",
   "metadata": {},
   "source": [
    "Let's start with dummy LogisticRegression and see results on train and test sets:"
   ]
  },
  {
   "cell_type": "code",
   "execution_count": 106,
   "metadata": {
    "scrolled": false
   },
   "outputs": [
    {
     "name": "stdout",
     "output_type": "stream",
     "text": [
      "Train results\n",
      "precision:\t0.9665617904203923\n",
      "recall:\t\t0.9663588341493495\n",
      "fscore:\t\t0.9663901518154907\n",
      "UAS:\t\t 0.8137899810913739\n",
      "CV results\n",
      "precision:\t0.8253062685976025\n",
      "recall:\t\t0.8235803605261733\n",
      "fscore:\t\t0.8236938498111087\n",
      "UAS:\t\t 0.6090058817857488\n",
      "Test results: \n",
      "             precision    recall  f1-score   support\n",
      "\n",
      "   left_arc       0.84      0.86      0.85      6270\n",
      "     reduce       0.85      0.75      0.79      5957\n",
      "  right_arc       0.74      0.78      0.76      5853\n",
      "      shift       0.83      0.85      0.84      6709\n",
      "\n",
      "avg / total       0.81      0.81      0.81     24789\n",
      "\n",
      "Test uas:  0.5593413213735859\n"
     ]
    }
   ],
   "source": [
    "pipe = Pipeline([\n",
    "    ('vectorizer', DictVectorizer()),\n",
    "    ('classifier', LogisticRegression())\n",
    "])\n",
    "\n",
    "#cv_res = cross_validate(pipe, fs, y=ls, return_train_score=False)\n",
    "evaluate(pipe, fs, ls, train, cv_fs, cv_ls, dev)\n",
    "print(\"Test results: \")\n",
    "print(classification_report(tls, pipe.predict(tfs)))\n",
    "print(\"Test uas: \", uas(test, pipe))"
   ]
  },
  {
   "cell_type": "markdown",
   "metadata": {},
   "source": [
    "### Improvements"
   ]
  },
  {
   "cell_type": "markdown",
   "metadata": {},
   "source": [
    "#### Regularization\n",
    "Lets try to play with regularization"
   ]
  },
  {
   "cell_type": "code",
   "execution_count": 114,
   "metadata": {},
   "outputs": [
    {
     "name": "stderr",
     "output_type": "stream",
     "text": [
      "100%|██████████| 7/7 [05:48<00:00, 49.86s/it]\n"
     ]
    }
   ],
   "source": [
    "results = {}\n",
    "for C in tqdm([0.001, 0.005, 0.01, 0.05, 0.1, 0.5, 1.0]):\n",
    "    pipe = Pipeline([\n",
    "        ('vectorizer', DictVectorizer()),\n",
    "        ('classifier', LogisticRegression(C=C))\n",
    "    ])\n",
    "    metrics = evaluate(pipe, fs, ls, train, cv_fs, cv_ls, dev, verbose=False)\n",
    "    for name, value in metrics.items():\n",
    "        res_list = results.get(name, [])\n",
    "        res_list.append(value)\n",
    "        results[name] = res_list\n",
    "        \n",
    "df_regularizations_results = pd.DataFrame(results)"
   ]
  },
  {
   "cell_type": "code",
   "execution_count": 118,
   "metadata": {
    "scrolled": false
   },
   "outputs": [
    {
     "data": {
      "text/html": [
       "<div>\n",
       "<style scoped>\n",
       "    .dataframe tbody tr th:only-of-type {\n",
       "        vertical-align: middle;\n",
       "    }\n",
       "\n",
       "    .dataframe tbody tr th {\n",
       "        vertical-align: top;\n",
       "    }\n",
       "\n",
       "    .dataframe thead th {\n",
       "        text-align: right;\n",
       "    }\n",
       "</style>\n",
       "<table border=\"1\" class=\"dataframe\">\n",
       "  <thead>\n",
       "    <tr style=\"text-align: right;\">\n",
       "      <th></th>\n",
       "      <th>cv_fscore</th>\n",
       "      <th>cv_precision</th>\n",
       "      <th>cv_recall</th>\n",
       "      <th>cv_uas</th>\n",
       "      <th>train_fscore</th>\n",
       "      <th>train_precision</th>\n",
       "      <th>train_recall</th>\n",
       "      <th>train_uas</th>\n",
       "    </tr>\n",
       "  </thead>\n",
       "  <tbody>\n",
       "    <tr>\n",
       "      <th>0.001</th>\n",
       "      <td>0.756536</td>\n",
       "      <td>0.762427</td>\n",
       "      <td>0.759162</td>\n",
       "      <td>0.551345</td>\n",
       "      <td>0.767059</td>\n",
       "      <td>0.773523</td>\n",
       "      <td>0.769534</td>\n",
       "      <td>0.567698</td>\n",
       "    </tr>\n",
       "    <tr>\n",
       "      <th>0.005</th>\n",
       "      <td>0.794993</td>\n",
       "      <td>0.797410</td>\n",
       "      <td>0.795810</td>\n",
       "      <td>0.578054</td>\n",
       "      <td>0.809362</td>\n",
       "      <td>0.812125</td>\n",
       "      <td>0.810152</td>\n",
       "      <td>0.596674</td>\n",
       "    </tr>\n",
       "    <tr>\n",
       "      <th>0.010</th>\n",
       "      <td>0.804615</td>\n",
       "      <td>0.806688</td>\n",
       "      <td>0.805229</td>\n",
       "      <td>0.590493</td>\n",
       "      <td>0.820962</td>\n",
       "      <td>0.823333</td>\n",
       "      <td>0.821556</td>\n",
       "      <td>0.610882</td>\n",
       "    </tr>\n",
       "    <tr>\n",
       "      <th>0.050</th>\n",
       "      <td>0.824416</td>\n",
       "      <td>0.826443</td>\n",
       "      <td>0.824663</td>\n",
       "      <td>0.611995</td>\n",
       "      <td>0.856854</td>\n",
       "      <td>0.858682</td>\n",
       "      <td>0.857055</td>\n",
       "      <td>0.654238</td>\n",
       "    </tr>\n",
       "    <tr>\n",
       "      <th>0.100</th>\n",
       "      <td>0.828529</td>\n",
       "      <td>0.830427</td>\n",
       "      <td>0.828669</td>\n",
       "      <td>0.617009</td>\n",
       "      <td>0.879920</td>\n",
       "      <td>0.881181</td>\n",
       "      <td>0.879990</td>\n",
       "      <td>0.683986</td>\n",
       "    </tr>\n",
       "    <tr>\n",
       "      <th>0.500</th>\n",
       "      <td>0.828168</td>\n",
       "      <td>0.829903</td>\n",
       "      <td>0.828128</td>\n",
       "      <td>0.613345</td>\n",
       "      <td>0.943264</td>\n",
       "      <td>0.943641</td>\n",
       "      <td>0.943208</td>\n",
       "      <td>0.776665</td>\n",
       "    </tr>\n",
       "    <tr>\n",
       "      <th>1.000</th>\n",
       "      <td>0.823694</td>\n",
       "      <td>0.825306</td>\n",
       "      <td>0.823580</td>\n",
       "      <td>0.609006</td>\n",
       "      <td>0.966390</td>\n",
       "      <td>0.966562</td>\n",
       "      <td>0.966359</td>\n",
       "      <td>0.813790</td>\n",
       "    </tr>\n",
       "  </tbody>\n",
       "</table>\n",
       "</div>"
      ],
      "text/plain": [
       "       cv_fscore  cv_precision  cv_recall    cv_uas  train_fscore  \\\n",
       "0.001   0.756536      0.762427   0.759162  0.551345      0.767059   \n",
       "0.005   0.794993      0.797410   0.795810  0.578054      0.809362   \n",
       "0.010   0.804615      0.806688   0.805229  0.590493      0.820962   \n",
       "0.050   0.824416      0.826443   0.824663  0.611995      0.856854   \n",
       "0.100   0.828529      0.830427   0.828669  0.617009      0.879920   \n",
       "0.500   0.828168      0.829903   0.828128  0.613345      0.943264   \n",
       "1.000   0.823694      0.825306   0.823580  0.609006      0.966390   \n",
       "\n",
       "       train_precision  train_recall  train_uas  \n",
       "0.001         0.773523      0.769534   0.567698  \n",
       "0.005         0.812125      0.810152   0.596674  \n",
       "0.010         0.823333      0.821556   0.610882  \n",
       "0.050         0.858682      0.857055   0.654238  \n",
       "0.100         0.881181      0.879990   0.683986  \n",
       "0.500         0.943641      0.943208   0.776665  \n",
       "1.000         0.966562      0.966359   0.813790  "
      ]
     },
     "execution_count": 118,
     "metadata": {},
     "output_type": "execute_result"
    },
    {
     "data": {
      "image/png": "[encoded data removed]",
      "text/plain": [
       "<Figure size 432x288 with 1 Axes>"
      ]
     },
     "metadata": {},
     "output_type": "display_data"
    }
   ],
   "source": [
    "df_regularizations_results.index=[0.001, 0.005, 0.01, 0.05, 0.1, 0.5, 1.0]\n",
    "df_regularizations_results[['cv_uas', 'train_uas', 'cv_fscore', 'train_fscore']].plot()\n",
    "df_regularizations_results"
   ]
  },
  {
   "cell_type": "markdown",
   "metadata": {},
   "source": [
    "Improvement by regularization (%):"
   ]
  },
  {
   "cell_type": "code",
   "execution_count": 114,
   "metadata": {},
   "outputs": [
    {
     "data": {
      "text/plain": [
       "1.3"
      ]
     },
     "execution_count": 114,
     "metadata": {},
     "output_type": "execute_result"
    }
   ],
   "source": [
    "round((1 - 0.6090058817857488/0.617009)*100, 2)"
   ]
  },
  {
   "cell_type": "markdown",
   "metadata": {},
   "source": [
    "That's a nice improvement. Let's bound this value of *C* to the variable"
   ]
  },
  {
   "cell_type": "code",
   "execution_count": 115,
   "metadata": {},
   "outputs": [],
   "source": [
    "C = 0.1"
   ]
  },
  {
   "cell_type": "markdown",
   "metadata": {},
   "source": [
    "#### Try to add more features\n",
    "I going to add the queue and stack sizes as features, and also remove unneeded features"
   ]
  },
  {
   "cell_type": "code",
   "execution_count": 116,
   "metadata": {},
   "outputs": [],
   "source": [
    "def extract_features(stack, queue):\n",
    "    features = {}\n",
    "    if stack:\n",
    "        features['s0form'] = stack[-1]['form']\n",
    "        features['s0lemma'] = stack[-1]['lemma']\n",
    "        features['s0pos'] = stack[-1]['upostag']\n",
    "    if len(stack) > 1:\n",
    "        features['s1pos'] = stack[-2]['upostag']\n",
    "    if queue:\n",
    "        features['q0form'] = queue[0]['form']\n",
    "        features['q0lemma'] = queue[0]['lemma']\n",
    "        features['q0pos'] = queue[0]['upostag']\n",
    "    if len(queue) > 1:\n",
    "        features['q1form'] = queue[1]['form']\n",
    "        features['q1pos'] = queue[1]['upostag']\n",
    "    if len(queue) > 2:\n",
    "        features['q2pos'] = queue[2]['upostag']\n",
    "    if len(queue) > 3:\n",
    "        features['q3pos'] = queue[3]['upostag']\n",
    "    if queue and stack:\n",
    "        features['dist'] = queue[0]['id'] - stack[-1]['id']\n",
    "    \n",
    "    # NEW FEATURES GOES HERE \n",
    "    \n",
    "    features['qsize'] = len(queue)\n",
    "    features['ssize'] = len(stack)\n",
    "        \n",
    "    return features\n",
    "ls2,fs2 = get_all_features(train)\n",
    "cv_ls2, cv_fs2 = get_all_features(dev)"
   ]
  },
  {
   "cell_type": "code",
   "execution_count": 117,
   "metadata": {
    "scrolled": true
   },
   "outputs": [
    {
     "name": "stdout",
     "output_type": "stream",
     "text": [
      "Train results\n",
      "precision:\t0.8592812869707086\n",
      "recall:\t\t0.8576639895391428\n",
      "fscore:\t\t0.8574908085451468\n",
      "UAS:\t\t 0.659191989134198\n",
      "CV results\n",
      "precision:\t0.8288201886063504\n",
      "recall:\t\t0.8274238077193742\n",
      "fscore:\t\t0.8271999653010502\n",
      "UAS:\t\t 0.6156590492720085\n"
     ]
    },
    {
     "data": {
      "text/plain": [
       "{'cv_fscore': 0.8271999653010502,\n",
       " 'cv_precision': 0.8288201886063504,\n",
       " 'cv_recall': 0.8274238077193742,\n",
       " 'cv_uas': 0.6156590492720085,\n",
       " 'train_fscore': 0.8574908085451468,\n",
       " 'train_precision': 0.8592812869707086,\n",
       " 'train_recall': 0.8576639895391428,\n",
       " 'train_uas': 0.659191989134198}"
      ]
     },
     "execution_count": 117,
     "metadata": {},
     "output_type": "execute_result"
    }
   ],
   "source": [
    "pipe = Pipeline([\n",
    "    ('vectorizer', DictVectorizer()),\n",
    "    ('classifier', LogisticRegression(C=C))\n",
    "])\n",
    "evaluate(pipe, fs2, ls2, train, cv_fs2, cv_ls2, dev)"
   ]
  },
  {
   "cell_type": "markdown",
   "metadata": {},
   "source": [
    "For some reasong this feature configuration gives lower results by %: "
   ]
  },
  {
   "cell_type": "code",
   "execution_count": 121,
   "metadata": {},
   "outputs": [
    {
     "data": {
      "text/plain": [
       "0.22"
      ]
     },
     "execution_count": 121,
     "metadata": {},
     "output_type": "execute_result"
    }
   ],
   "source": [
    "round((0.617009/0.6156590492720085 - 1)*100, 2)"
   ]
  },
  {
   "cell_type": "markdown",
   "metadata": {},
   "source": [
    "#### Different solver and classifier\n",
    "Let's try to use multinomial logistic regression with `newton-cg` solver with initial features set"
   ]
  },
  {
   "cell_type": "code",
   "execution_count": 122,
   "metadata": {},
   "outputs": [
    {
     "name": "stdout",
     "output_type": "stream",
     "text": [
      "Train results\n",
      "precision:\t0.9042455870750743\n",
      "recall:\t\t0.9036531274842678\n",
      "fscore:\t\t0.9036124992290282\n",
      "UAS:\t\t 0.6535327172494607\n",
      "CV results\n",
      "precision:\t0.8403307757299151\n",
      "recall:\t\t0.8388458831808585\n",
      "fscore:\t\t0.8386209527020534\n",
      "UAS:\t\t 0.6109343361295921\n"
     ]
    },
    {
     "data": {
      "text/plain": [
       "{'cv_fscore': 0.8386209527020534,\n",
       " 'cv_precision': 0.8403307757299151,\n",
       " 'cv_recall': 0.8388458831808585,\n",
       " 'cv_uas': 0.6109343361295921,\n",
       " 'train_fscore': 0.9036124992290282,\n",
       " 'train_precision': 0.9042455870750743,\n",
       " 'train_recall': 0.9036531274842678,\n",
       " 'train_uas': 0.6535327172494607}"
      ]
     },
     "execution_count": 122,
     "metadata": {},
     "output_type": "execute_result"
    }
   ],
   "source": [
    "pipe = Pipeline([\n",
    "    ('vectorizer', DictVectorizer()),\n",
    "    ('classifier', LogisticRegression(C=C, multi_class='multinomial', solver='newton-cg'))\n",
    "])\n",
    "evaluate(pipe, fs, ls, train, cv_fs, cv_ls, dev)"
   ]
  },
  {
   "cell_type": "markdown",
   "metadata": {},
   "source": [
    "Add let's try with `libfgs` solver:"
   ]
  },
  {
   "cell_type": "code",
   "execution_count": 123,
   "metadata": {},
   "outputs": [
    {
     "name": "stdout",
     "output_type": "stream",
     "text": [
      "Train results\n",
      "precision:\t0.8900309562444443\n",
      "recall:\t\t0.8895666322429178\n",
      "fscore:\t\t0.8894415257018949\n",
      "UAS:\t\t 0.6439585608138699\n",
      "CV results\n",
      "precision:\t0.840222806917469\n",
      "recall:\t\t0.8393330807123911\n",
      "fscore:\t\t0.839009161934495\n",
      "UAS:\t\t 0.609198727220133\n"
     ]
    },
    {
     "data": {
      "text/plain": [
       "{'cv_fscore': 0.839009161934495,\n",
       " 'cv_precision': 0.840222806917469,\n",
       " 'cv_recall': 0.8393330807123911,\n",
       " 'cv_uas': 0.609198727220133,\n",
       " 'train_fscore': 0.8894415257018949,\n",
       " 'train_precision': 0.8900309562444443,\n",
       " 'train_recall': 0.8895666322429178,\n",
       " 'train_uas': 0.6439585608138699}"
      ]
     },
     "execution_count": 123,
     "metadata": {},
     "output_type": "execute_result"
    }
   ],
   "source": [
    "pipe = Pipeline([\n",
    "    ('vectorizer', DictVectorizer()),\n",
    "    ('classifier', LogisticRegression(C=C, multi_class='multinomial', solver='lbfgs'))\n",
    "]) \n",
    "evaluate(pipe, fs, ls, train, cv_fs, cv_ls, dev)"
   ]
  },
  {
   "cell_type": "code",
   "execution_count": 124,
   "metadata": {},
   "outputs": [
    {
     "name": "stdout",
     "output_type": "stream",
     "text": [
      "Train results:\n",
      "             precision    recall  f1-score   support\n",
      "\n",
      "   left_arc       0.87      0.92      0.90     34469\n",
      "     reduce       0.92      0.86      0.89     32755\n",
      "  right_arc       0.87      0.86      0.86     30675\n",
      "      shift       0.90      0.91      0.91     36698\n",
      "\n",
      "avg / total       0.89      0.89      0.89    134597\n",
      "\n",
      "Test results: \n",
      "             precision    recall  f1-score   support\n",
      "\n",
      "   left_arc       0.85      0.86      0.85      6270\n",
      "     reduce       0.78      0.78      0.78      5957\n",
      "  right_arc       0.78      0.75      0.76      5853\n",
      "      shift       0.86      0.88      0.87      6709\n",
      "\n",
      "avg / total       0.82      0.82      0.82     24789\n",
      "\n",
      "Test uas:  0.5683111319365419\n"
     ]
    }
   ],
   "source": [
    "pipe.fit(fs, ls)\n",
    "print(\"Train results:\")\n",
    "print(classification_report(ls, pipe.predict(fs)))\n",
    "tls, tfs = get_all_features(test)\n",
    "print(\"Test results: \")\n",
    "print(classification_report(tls, pipe.predict(tfs)))\n",
    "print(\"Test uas: \", uas(test, pipe))"
   ]
  },
  {
   "cell_type": "markdown",
   "metadata": {},
   "source": [
    "## Part 2"
   ]
  },
  {
   "cell_type": "code",
   "execution_count": 2,
   "metadata": {},
   "outputs": [],
   "source": [
    "import tokenize_uk\n",
    "import pymorphy2\n",
    "\n",
    "morph = pymorphy2.MorphAnalyzer(lang='uk')"
   ]
  },
  {
   "cell_type": "code",
   "execution_count": 4,
   "metadata": {},
   "outputs": [],
   "source": [
    "mapping = {\"ADJF\": \"ADJ\", \"ADJS\": \"ADJ\", \"COMP\": \"ADJ\", \"PRTF\": \"ADJ\",\n",
    "           \"PRTS\": \"ADJ\", \"GRND\": \"VERB\", \"NUMR\": \"NUM\", \"ADVB\": \"ADV\",\n",
    "           \"NPRO\": \"PRON\", \"PNCT\": \"PUNCT\", \"PRED\": \"ADV\", \"PREP\": \"ADP\",\n",
    "           \"PRCL\": \"PART\"}\n",
    "\n",
    "def normalize_pos(word):\n",
    "    if word.tag.POS == \"CONJ\":\n",
    "        if \"coord\" in word.tag:\n",
    "            return \"CCONJ\"\n",
    "        else:\n",
    "            return \"SCONJ\"\n",
    "    else:\n",
    "        return mapping.get(word.tag.POS, word.tag.POS)"
   ]
  },
  {
   "cell_type": "code",
   "execution_count": 49,
   "metadata": {},
   "outputs": [
    {
     "data": {
      "text/plain": [
       "[[(4, 5), (3, 5), (2, 5), (5, 7), (1, 7), (7, 0), (8, 7)]]"
      ]
     },
     "execution_count": 49,
     "metadata": {},
     "output_type": "execute_result"
    }
   ],
   "source": [
    "def convert_to_conllu_format(sent):\n",
    "    tokens = tokenize_uk.tokenize_words(sent)\n",
    "    pm_tokens = [morph.parse(word)[0] for word in tokens]\n",
    "    dicts = []\n",
    "    for i, token in enumerate(pm_tokens):\n",
    "        dicts.append(collections.OrderedDict([('id', i+1),\n",
    "                                              ('form', tokens[i]),\n",
    "                                              ('lemma', token.normal_form),\n",
    "                                              ('upostag', normalize_pos(token))]))\n",
    "    return dicts\n",
    "        \n",
    "\n",
    "\n",
    "parse_tree(pipe, [convert_to_conllu_format(\"І як у кожній казці все закінчується добре\")])"
   ]
  },
  {
   "cell_type": "code",
   "execution_count": 78,
   "metadata": {},
   "outputs": [
    {
     "name": "stdout",
     "output_type": "stream",
     "text": [
      "['І', 'CCONJ', '7']\n",
      "['як', 'PART', '5']\n",
      "['у', 'ADP', '5']\n",
      "['кожній', 'PRON', '5']\n",
      "['казці', 'NOUN', '7']\n",
      "['все', 'PRON', '0']\n",
      "['закінчується', 'VERB', '0']\n",
      "['добре', 'ADV', '7']\n"
     ]
    },
    {
     "data": {
      "image/svg+xml": [
       "<?xml version=\"1.0\" encoding=\"UTF-8\" standalone=\"no\"?>\n",
       "<!DOCTYPE svg PUBLIC \"-//W3C//DTD SVG 1.1//EN\"\n",
       " \"http://www.w3.org/Graphics/SVG/1.1/DTD/svg11.dtd\">\n",
       "<!-- Generated by graphviz version 2.40.1 (20161225.0304)\n",
       " -->\n",
       "<!-- Title: G Pages: 1 -->\n",
       "<svg width=\"259pt\" height=\"276pt\"\n",
       " viewBox=\"0.00 0.00 259.46 276.00\" xmlns=\"http://www.w3.org/2000/svg\" xmlns:xlink=\"http://www.w3.org/1999/xlink\">\n",
       "<g id=\"graph0\" class=\"graph\" transform=\"scale(1 1) rotate(0) translate(4 272)\">\n",
       "<title>G</title>\n",
       "<polygon fill=\"#ffffff\" stroke=\"transparent\" points=\"-4,4 -4,-272 255.4561,-272 255.4561,4 -4,4\"/>\n",
       "<!-- 0 -->\n",
       "<g id=\"node1\" class=\"node\">\n",
       "<title>0</title>\n",
       "<text text-anchor=\"middle\" x=\"57.3115\" y=\"-245.8\" font-family=\"Times,serif\" font-size=\"14.00\" fill=\"#000000\">0 (None)</text>\n",
       "</g>\n",
       "<!-- 6 -->\n",
       "<g id=\"node2\" class=\"node\">\n",
       "<title>6</title>\n",
       "<text text-anchor=\"middle\" x=\"27.3115\" y=\"-159.8\" font-family=\"Times,serif\" font-size=\"14.00\" fill=\"#000000\">6 (все)</text>\n",
       "</g>\n",
       "<!-- 0&#45;&gt;6 -->\n",
       "<g id=\"edge1\" class=\"edge\">\n",
       "<title>0&#45;&gt;6</title>\n",
       "<path fill=\"none\" stroke=\"#000000\" d=\"M50.9493,-231.7616C46.8923,-220.1316 41.5566,-204.8357 36.9813,-191.72\"/>\n",
       "<polygon fill=\"#000000\" stroke=\"#000000\" points=\"40.2631,-190.5013 33.6646,-182.2121 33.6537,-192.8069 40.2631,-190.5013\"/>\n",
       "<text text-anchor=\"middle\" x=\"63.3667\" y=\"-202.8\" font-family=\"Times,serif\" font-size=\"14.00\" fill=\"#000000\">ROOT</text>\n",
       "</g>\n",
       "<!-- 7 -->\n",
       "<g id=\"node3\" class=\"node\">\n",
       "<title>7</title>\n",
       "<text text-anchor=\"middle\" x=\"128.3115\" y=\"-159.8\" font-family=\"Times,serif\" font-size=\"14.00\" fill=\"#000000\">7 (закінчується)</text>\n",
       "</g>\n",
       "<!-- 0&#45;&gt;7 -->\n",
       "<g id=\"edge2\" class=\"edge\">\n",
       "<title>0&#45;&gt;7</title>\n",
       "<path fill=\"none\" stroke=\"#000000\" d=\"M72.3688,-231.7616C82.3468,-219.6756 95.5934,-203.6304 106.6917,-190.1874\"/>\n",
       "<polygon fill=\"#000000\" stroke=\"#000000\" points=\"109.6085,-192.1519 113.276,-182.2121 104.2104,-187.6954 109.6085,-192.1519\"/>\n",
       "<text text-anchor=\"middle\" x=\"116.3667\" y=\"-202.8\" font-family=\"Times,serif\" font-size=\"14.00\" fill=\"#000000\">ROOT</text>\n",
       "</g>\n",
       "<!-- 1 -->\n",
       "<g id=\"node4\" class=\"node\">\n",
       "<title>1</title>\n",
       "<text text-anchor=\"middle\" x=\"50.3115\" y=\"-86.8\" font-family=\"Times,serif\" font-size=\"14.00\" fill=\"#000000\">1 (І)</text>\n",
       "</g>\n",
       "<!-- 7&#45;&gt;1 -->\n",
       "<g id=\"edge6\" class=\"edge\">\n",
       "<title>7&#45;&gt;1</title>\n",
       "<path fill=\"none\" stroke=\"#000000\" d=\"M109.0306,-145.9551C99.3742,-136.9177 87.5292,-125.8319 77.0131,-115.9899\"/>\n",
       "<polygon fill=\"#000000\" stroke=\"#000000\" points=\"79.3338,-113.3681 69.6409,-109.0904 74.5506,-118.479 79.3338,-113.3681\"/>\n",
       "</g>\n",
       "<!-- 5 -->\n",
       "<g id=\"node8\" class=\"node\">\n",
       "<title>5</title>\n",
       "<text text-anchor=\"middle\" x=\"128.3115\" y=\"-86.8\" font-family=\"Times,serif\" font-size=\"14.00\" fill=\"#000000\">5 (казці)</text>\n",
       "</g>\n",
       "<!-- 7&#45;&gt;5 -->\n",
       "<g id=\"edge7\" class=\"edge\">\n",
       "<title>7&#45;&gt;5</title>\n",
       "<path fill=\"none\" stroke=\"#000000\" d=\"M128.3115,-145.9551C128.3115,-137.8828 128.3115,-128.1764 128.3115,-119.1817\"/>\n",
       "<polygon fill=\"#000000\" stroke=\"#000000\" points=\"131.8116,-119.0903 128.3115,-109.0904 124.8116,-119.0904 131.8116,-119.0903\"/>\n",
       "</g>\n",
       "<!-- 8 -->\n",
       "<g id=\"node9\" class=\"node\">\n",
       "<title>8</title>\n",
       "<text text-anchor=\"middle\" x=\"213.3115\" y=\"-86.8\" font-family=\"Times,serif\" font-size=\"14.00\" fill=\"#000000\">8 (добре)</text>\n",
       "</g>\n",
       "<!-- 7&#45;&gt;8 -->\n",
       "<g id=\"edge8\" class=\"edge\">\n",
       "<title>7&#45;&gt;8</title>\n",
       "<path fill=\"none\" stroke=\"#000000\" d=\"M149.3228,-145.9551C159.9479,-136.8299 173.0047,-125.6165 184.547,-115.7036\"/>\n",
       "<polygon fill=\"#000000\" stroke=\"#000000\" points=\"186.9415,-118.2609 192.2474,-109.0904 182.3808,-112.9505 186.9415,-118.2609\"/>\n",
       "</g>\n",
       "<!-- 2 -->\n",
       "<g id=\"node5\" class=\"node\">\n",
       "<title>2</title>\n",
       "<text text-anchor=\"middle\" x=\"56.3115\" y=\"-13.8\" font-family=\"Times,serif\" font-size=\"14.00\" fill=\"#000000\">2 (як)</text>\n",
       "</g>\n",
       "<!-- 3 -->\n",
       "<g id=\"node6\" class=\"node\">\n",
       "<title>3</title>\n",
       "<text text-anchor=\"middle\" x=\"128.3115\" y=\"-13.8\" font-family=\"Times,serif\" font-size=\"14.00\" fill=\"#000000\">3 (у)</text>\n",
       "</g>\n",
       "<!-- 4 -->\n",
       "<g id=\"node7\" class=\"node\">\n",
       "<title>4</title>\n",
       "<text text-anchor=\"middle\" x=\"212.3115\" y=\"-13.8\" font-family=\"Times,serif\" font-size=\"14.00\" fill=\"#000000\">4 (кожній)</text>\n",
       "</g>\n",
       "<!-- 5&#45;&gt;2 -->\n",
       "<g id=\"edge3\" class=\"edge\">\n",
       "<title>5&#45;&gt;2</title>\n",
       "<path fill=\"none\" stroke=\"#000000\" d=\"M110.5138,-72.9551C101.6867,-64.0054 90.8784,-53.047 81.2422,-43.2769\"/>\n",
       "<polygon fill=\"#000000\" stroke=\"#000000\" points=\"83.6681,-40.7523 74.1541,-36.0904 78.6843,-45.6678 83.6681,-40.7523\"/>\n",
       "</g>\n",
       "<!-- 5&#45;&gt;3 -->\n",
       "<g id=\"edge4\" class=\"edge\">\n",
       "<title>5&#45;&gt;3</title>\n",
       "<path fill=\"none\" stroke=\"#000000\" d=\"M128.3115,-72.9551C128.3115,-64.8828 128.3115,-55.1764 128.3115,-46.1817\"/>\n",
       "<polygon fill=\"#000000\" stroke=\"#000000\" points=\"131.8116,-46.0903 128.3115,-36.0904 124.8116,-46.0904 131.8116,-46.0903\"/>\n",
       "</g>\n",
       "<!-- 5&#45;&gt;4 -->\n",
       "<g id=\"edge5\" class=\"edge\">\n",
       "<title>5&#45;&gt;4</title>\n",
       "<path fill=\"none\" stroke=\"#000000\" d=\"M149.0756,-72.9551C159.5757,-63.8299 172.4789,-52.6165 183.8854,-42.7036\"/>\n",
       "<polygon fill=\"#000000\" stroke=\"#000000\" points=\"186.2431,-45.2918 191.4952,-36.0904 181.6513,-40.0082 186.2431,-45.2918\"/>\n",
       "</g>\n",
       "</g>\n",
       "</svg>\n"
      ],
      "text/plain": [
       "<DependencyGraph with 9 nodes>"
      ]
     },
     "execution_count": 78,
     "metadata": {},
     "output_type": "execute_result"
    }
   ],
   "source": [
    "from nltk.parse.dependencygraph import DependencyGraph\n",
    "import random\n",
    "def parse_and_render(oracle, tree, verbose=False):\n",
    "    deps = parse_tree(pipe, [tree], verbose)\n",
    "    lines = []\n",
    "    deps_map = dict(deps[0])\n",
    "    for node in tree:\n",
    "        parts = [node['form'], node['upostag'], str(deps_map.get(node['id'], 0))]\n",
    "        print(parts)\n",
    "        lines.append(\"\\t\".join(parts))\n",
    "    return DependencyGraph(tree_str=\"\\n\".join(lines))\n",
    "        \n",
    "parse_and_render(pipe, convert_to_conllu_format(\"І як у кожній казці все закінчується добре\"))"
   ]
  },
  {
   "cell_type": "code",
   "execution_count": 80,
   "metadata": {},
   "outputs": [
    {
     "name": "stdout",
     "output_type": "stream",
     "text": [
      "['А', 'CCONJ', '3']\n",
      "['також', 'CCONJ', '3']\n",
      "['врятувати', 'VERB', '0']\n",
      "['від', 'ADP', '5']\n",
      "['заторів', 'NOUN', '3']\n",
      "['мешканців', 'NOUN', '3']\n",
      "['лівого', 'ADJ', '3']\n",
      "['берега', 'NOUN', '3']\n"
     ]
    },
    {
     "data": {
      "image/svg+xml": [
       "<?xml version=\"1.0\" encoding=\"UTF-8\" standalone=\"no\"?>\n",
       "<!DOCTYPE svg PUBLIC \"-//W3C//DTD SVG 1.1//EN\"\n",
       " \"http://www.w3.org/Graphics/SVG/1.1/DTD/svg11.dtd\">\n",
       "<!-- Generated by graphviz version 2.40.1 (20161225.0304)\n",
       " -->\n",
       "<!-- Title: G Pages: 1 -->\n",
       "<svg width=\"548pt\" height=\"276pt\"\n",
       " viewBox=\"0.00 0.00 548.03 276.00\" xmlns=\"http://www.w3.org/2000/svg\" xmlns:xlink=\"http://www.w3.org/1999/xlink\">\n",
       "<g id=\"graph0\" class=\"graph\" transform=\"scale(1 1) rotate(0) translate(4 272)\">\n",
       "<title>G</title>\n",
       "<polygon fill=\"#ffffff\" stroke=\"transparent\" points=\"-4,4 -4,-272 544.0322,-272 544.0322,4 -4,4\"/>\n",
       "<!-- 0 -->\n",
       "<g id=\"node1\" class=\"node\">\n",
       "<title>0</title>\n",
       "<text text-anchor=\"middle\" x=\"281\" y=\"-245.8\" font-family=\"Times,serif\" font-size=\"14.00\" fill=\"#000000\">0 (None)</text>\n",
       "</g>\n",
       "<!-- 3 -->\n",
       "<g id=\"node2\" class=\"node\">\n",
       "<title>3</title>\n",
       "<text text-anchor=\"middle\" x=\"281\" y=\"-159.8\" font-family=\"Times,serif\" font-size=\"14.00\" fill=\"#000000\">3 (врятувати)</text>\n",
       "</g>\n",
       "<!-- 0&#45;&gt;3 -->\n",
       "<g id=\"edge1\" class=\"edge\">\n",
       "<title>0&#45;&gt;3</title>\n",
       "<path fill=\"none\" stroke=\"#000000\" d=\"M281,-231.7616C281,-220.3597 281,-205.4342 281,-192.494\"/>\n",
       "<polygon fill=\"#000000\" stroke=\"#000000\" points=\"284.5001,-192.2121 281,-182.2121 277.5001,-192.2121 284.5001,-192.2121\"/>\n",
       "<text text-anchor=\"middle\" x=\"300.0552\" y=\"-202.8\" font-family=\"Times,serif\" font-size=\"14.00\" fill=\"#000000\">ROOT</text>\n",
       "</g>\n",
       "<!-- 1 -->\n",
       "<g id=\"node3\" class=\"node\">\n",
       "<title>1</title>\n",
       "<text text-anchor=\"middle\" x=\"27\" y=\"-86.8\" font-family=\"Times,serif\" font-size=\"14.00\" fill=\"#000000\">1 (А)</text>\n",
       "</g>\n",
       "<!-- 3&#45;&gt;1 -->\n",
       "<g id=\"edge2\" class=\"edge\">\n",
       "<title>3&#45;&gt;1</title>\n",
       "<path fill=\"none\" stroke=\"#000000\" d=\"M233.3273,-155.0785C190.737,-146.421 126.7161,-131.7137 63.9053,-108.9553\"/>\n",
       "<polygon fill=\"#000000\" stroke=\"#000000\" points=\"64.8381,-105.5688 54.2448,-105.3865 62.4123,-112.1351 64.8381,-105.5688\"/>\n",
       "</g>\n",
       "<!-- 2 -->\n",
       "<g id=\"node4\" class=\"node\">\n",
       "<title>2</title>\n",
       "<text text-anchor=\"middle\" x=\"108\" y=\"-86.8\" font-family=\"Times,serif\" font-size=\"14.00\" fill=\"#000000\">2 (також)</text>\n",
       "</g>\n",
       "<!-- 3&#45;&gt;2 -->\n",
       "<g id=\"edge3\" class=\"edge\">\n",
       "<title>3&#45;&gt;2</title>\n",
       "<path fill=\"none\" stroke=\"#000000\" d=\"M238.2359,-145.9551C212.5708,-135.1252 179.9346,-121.3539 153.7534,-110.3064\"/>\n",
       "<polygon fill=\"#000000\" stroke=\"#000000\" points=\"154.9987,-107.033 144.4247,-106.3699 152.2773,-113.4824 154.9987,-107.033\"/>\n",
       "</g>\n",
       "<!-- 5 -->\n",
       "<g id=\"node5\" class=\"node\">\n",
       "<title>5</title>\n",
       "<text text-anchor=\"middle\" x=\"202\" y=\"-86.8\" font-family=\"Times,serif\" font-size=\"14.00\" fill=\"#000000\">5 (заторів)</text>\n",
       "</g>\n",
       "<!-- 3&#45;&gt;5 -->\n",
       "<g id=\"edge4\" class=\"edge\">\n",
       "<title>3&#45;&gt;5</title>\n",
       "<path fill=\"none\" stroke=\"#000000\" d=\"M261.4719,-145.9551C251.6917,-136.9177 239.6948,-125.8319 229.0439,-115.9899\"/>\n",
       "<polygon fill=\"#000000\" stroke=\"#000000\" points=\"231.2971,-113.3065 221.5772,-109.0904 226.5464,-118.4476 231.2971,-113.3065\"/>\n",
       "</g>\n",
       "<!-- 6 -->\n",
       "<g id=\"node6\" class=\"node\">\n",
       "<title>6</title>\n",
       "<text text-anchor=\"middle\" x=\"308\" y=\"-86.8\" font-family=\"Times,serif\" font-size=\"14.00\" fill=\"#000000\">6 (мешканців)</text>\n",
       "</g>\n",
       "<!-- 3&#45;&gt;6 -->\n",
       "<g id=\"edge5\" class=\"edge\">\n",
       "<title>3&#45;&gt;6</title>\n",
       "<path fill=\"none\" stroke=\"#000000\" d=\"M287.6742,-145.9551C290.7247,-137.7074 294.4062,-127.7536 297.7932,-118.5962\"/>\n",
       "<polygon fill=\"#000000\" stroke=\"#000000\" points=\"301.1227,-119.6836 301.309,-109.0904 294.5574,-117.2552 301.1227,-119.6836\"/>\n",
       "</g>\n",
       "<!-- 7 -->\n",
       "<g id=\"node7\" class=\"node\">\n",
       "<title>7</title>\n",
       "<text text-anchor=\"middle\" x=\"412\" y=\"-86.8\" font-family=\"Times,serif\" font-size=\"14.00\" fill=\"#000000\">7 (лівого)</text>\n",
       "</g>\n",
       "<!-- 3&#45;&gt;7 -->\n",
       "<g id=\"edge6\" class=\"edge\">\n",
       "<title>3&#45;&gt;7</title>\n",
       "<path fill=\"none\" stroke=\"#000000\" d=\"M313.382,-145.9551C330.702,-136.3035 352.2144,-124.3156 370.7232,-114.0016\"/>\n",
       "<polygon fill=\"#000000\" stroke=\"#000000\" points=\"372.5049,-117.0155 379.5365,-109.0904 369.0975,-110.9008 372.5049,-117.0155\"/>\n",
       "</g>\n",
       "<!-- 8 -->\n",
       "<g id=\"node8\" class=\"node\">\n",
       "<title>8</title>\n",
       "<text text-anchor=\"middle\" x=\"503\" y=\"-86.8\" font-family=\"Times,serif\" font-size=\"14.00\" fill=\"#000000\">8 (берега)</text>\n",
       "</g>\n",
       "<!-- 3&#45;&gt;8 -->\n",
       "<g id=\"edge7\" class=\"edge\">\n",
       "<title>3&#45;&gt;8</title>\n",
       "<path fill=\"none\" stroke=\"#000000\" d=\"M328.7312,-150.0717C362.0806,-140.1164 407.8097,-126.022 456.2129,-109.171\"/>\n",
       "<polygon fill=\"#000000\" stroke=\"#000000\" points=\"457.6482,-112.3767 465.9264,-105.7645 455.3315,-105.7712 457.6482,-112.3767\"/>\n",
       "</g>\n",
       "<!-- 4 -->\n",
       "<g id=\"node9\" class=\"node\">\n",
       "<title>4</title>\n",
       "<text text-anchor=\"middle\" x=\"202\" y=\"-13.8\" font-family=\"Times,serif\" font-size=\"14.00\" fill=\"#000000\">4 (від)</text>\n",
       "</g>\n",
       "<!-- 5&#45;&gt;4 -->\n",
       "<g id=\"edge8\" class=\"edge\">\n",
       "<title>5&#45;&gt;4</title>\n",
       "<path fill=\"none\" stroke=\"#000000\" d=\"M202,-72.9551C202,-64.8828 202,-55.1764 202,-46.1817\"/>\n",
       "<polygon fill=\"#000000\" stroke=\"#000000\" points=\"205.5001,-46.0903 202,-36.0904 198.5001,-46.0904 205.5001,-46.0903\"/>\n",
       "</g>\n",
       "</g>\n",
       "</svg>\n"
      ],
      "text/plain": [
       "<DependencyGraph with 9 nodes>"
      ]
     },
     "execution_count": 80,
     "metadata": {},
     "output_type": "execute_result"
    }
   ],
   "source": [
    "parse_and_render(pipe, convert_to_conllu_format(\"А також врятувати від заторів мешканців лівого берега\"))"
   ]
  },
  {
   "cell_type": "markdown",
   "metadata": {},
   "source": [
    "## Results\n",
    "\n",
    "#### General\n",
    "We see that regularization and different classifier gives us the most improvements over baseline on test set (**1.6%**). I think adding more example will make train error lower and then using regularization will give good results. Also changing the type of oracle (from static to dynamic) should give about 1-2% of improvements.\n",
    "\n",
    "#### Results of parsing random sentences\n",
    "We see parser has made some errors:\n",
    "  * In the first example parser for some reasons calls reduce action on the word `все`. To handle it's better to add precondition to the reduce that the stack head has a parent. But I think this problem will be better resolved by using different type of oracle.\n",
    "  * In the second example parser made error of wronly attaching nodes:\n",
    "    * 6 must be a parent of 8\n",
    "    * 8 must be a parent of 7\n",
    "    This issues might e resolved by increasing size of train set.\n",
    "  "
   ]
  }
 ],
 "metadata": {
  "kernelspec": {
   "display_name": "Python 3",
   "language": "python",
   "name": "python3"
  },
  "language_info": {
   "codemirror_mode": {
    "name": "ipython",
    "version": 3
   },
   "file_extension": ".py",
   "mimetype": "text/x-python",
   "name": "python",
   "nbconvert_exporter": "python",
   "pygments_lexer": "ipython3",
   "version": "3.6.0"
  }
 },
 "nbformat": 4,
 "nbformat_minor": 2
}
