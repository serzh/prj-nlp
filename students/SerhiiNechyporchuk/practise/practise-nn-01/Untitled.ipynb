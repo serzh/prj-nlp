{
 "cells": [
  {
   "cell_type": "code",
   "execution_count": 19,
   "metadata": {},
   "outputs": [],
   "source": [
    "import bz2\n",
    "import os\n",
    "import numpy as np\n",
    "%matplotlib inline\n",
    "\n",
    "import conllu\n",
    "import pandas as pd\n",
    "import numpy as np\n",
    "import spacy\n",
    "import en_core_web_lg\n",
    "import collections\n",
    "from sklearn.pipeline import Pipeline\n",
    "from sklearn.feature_extraction import DictVectorizer\n",
    "from sklearn.feature_extraction.text import CountVectorizer\n",
    "from sklearn.decomposition import PCA, TruncatedSVD\n",
    "from sklearn.model_selection import cross_validate\n",
    "from sklearn.metrics import classification_report, make_scorer, precision_recall_fscore_support\n",
    "from sklearn.naive_bayes import MultinomialNB\n",
    "from sklearn.linear_model import LogisticRegression\n",
    "from sklearn.svm import SVC\n",
    "from tqdm import tqdm"
   ]
  },
  {
   "cell_type": "code",
   "execution_count": 3,
   "metadata": {},
   "outputs": [],
   "source": [
    "from keras.models import Sequential\n",
    "from keras.layers import Dense"
   ]
  },
  {
   "cell_type": "code",
   "execution_count": 4,
   "metadata": {},
   "outputs": [],
   "source": [
    "model = Sequential()"
   ]
  },
  {
   "cell_type": "code",
   "execution_count": 5,
   "metadata": {},
   "outputs": [],
   "source": [
    "model.add(Dense(units=64, activation='relu', input_dim=100))\n",
    "model.add(Dense(units=10, activation='softmax'))"
   ]
  },
  {
   "cell_type": "code",
   "execution_count": 6,
   "metadata": {},
   "outputs": [],
   "source": [
    "model.compile(loss='categorical_crossentropy',\n",
    "              optimizer='sgd',\n",
    "              metrics=['accuracy'])"
   ]
  },
  {
   "cell_type": "code",
   "execution_count": 25,
   "metadata": {},
   "outputs": [],
   "source": [
    "# Load embeddings\n",
    "embedding_index = {}\n",
    "f = bz2.open(\"/Users/serhiinechyporhuk/courses/ubercorpus.cased.tokenized.glove.300d.bz2\")\n",
    "for i,line in enumerate(f):\n",
    "    values = line.split()\n",
    "    word = values[0]\n",
    "    coefs = np.asarray(values[1:], dtype='float32')\n",
    "    embedding_index[word] = coefs\n",
    "f.close()"
   ]
  },
  {
   "cell_type": "code",
   "execution_count": 13,
   "metadata": {},
   "outputs": [
    {
     "name": "stdout",
     "output_type": "stream",
     "text": [
      "Number of word embeddings: 595119\n"
     ]
    }
   ],
   "source": [
    "print(\"Number of word embeddings:\", len(embedding_index))"
   ]
  },
  {
   "cell_type": "code",
   "execution_count": 17,
   "metadata": {},
   "outputs": [],
   "source": [
    "train = conllu.parse(open(\"uk_iu-ud-train.conllu\").read())\n",
    "test = conllu.parse(open(\"uk_iu-ud-test.conllu\").read())\n",
    "dev = conllu.parse(open(\"uk_iu-ud-dev.conllu\").read())"
   ]
  },
  {
   "cell_type": "code",
   "execution_count": 111,
   "metadata": {
    "scrolled": true
   },
   "outputs": [
    {
     "data": {
      "text/plain": [
       "[OrderedDict([('id', 1),\n",
       "              ('form', 'У'),\n",
       "              ('lemma', 'у'),\n",
       "              ('upostag', 'ADP'),\n",
       "              ('xpostag', 'Spsl'),\n",
       "              ('feats', OrderedDict([('Case', 'Loc')])),\n",
       "              ('head', 2),\n",
       "              ('deprel', 'case'),\n",
       "              ('deps', None),\n",
       "              ('misc', OrderedDict([('Id', '0003')]))]),\n",
       " OrderedDict([('id', 2),\n",
       "              ('form', 'домі'),\n",
       "              ('lemma', 'дім'),\n",
       "              ('upostag', 'NOUN'),\n",
       "              ('xpostag', 'Ncmsln'),\n",
       "              ('feats',\n",
       "               OrderedDict([('Animacy', 'Inan'),\n",
       "                            ('Case', 'Loc'),\n",
       "                            ('Gender', 'Masc'),\n",
       "                            ('Number', 'Sing')])),\n",
       "              ('head', 6),\n",
       "              ('deprel', 'obl'),\n",
       "              ('deps', None),\n",
       "              ('misc', OrderedDict([('Id', '0004')]))]),\n",
       " OrderedDict([('id', 3),\n",
       "              ('form', 'римського'),\n",
       "              ('lemma', 'римський'),\n",
       "              ('upostag', 'ADJ'),\n",
       "              ('xpostag', 'Ao-msgf'),\n",
       "              ('feats',\n",
       "               OrderedDict([('Case', 'Gen'),\n",
       "                            ('Gender', 'Masc'),\n",
       "                            ('Number', 'Sing')])),\n",
       "              ('head', 4),\n",
       "              ('deprel', 'amod'),\n",
       "              ('deps', None),\n",
       "              ('misc', OrderedDict([('Id', '0005')]))]),\n",
       " OrderedDict([('id', 4),\n",
       "              ('form', 'патриція'),\n",
       "              ('lemma', 'патрицій'),\n",
       "              ('upostag', 'NOUN'),\n",
       "              ('xpostag', 'Ncmsgy'),\n",
       "              ('feats',\n",
       "               OrderedDict([('Animacy', 'Anim'),\n",
       "                            ('Case', 'Gen'),\n",
       "                            ('Gender', 'Masc'),\n",
       "                            ('Number', 'Sing')])),\n",
       "              ('head', 2),\n",
       "              ('deprel', 'nmod'),\n",
       "              ('deps', None),\n",
       "              ('misc', OrderedDict([('Id', '0006')]))]),\n",
       " OrderedDict([('id', 5),\n",
       "              ('form', 'Руфіна'),\n",
       "              ('lemma', 'Руфін'),\n",
       "              ('upostag', 'PROPN'),\n",
       "              ('xpostag', 'Npmsgy'),\n",
       "              ('feats',\n",
       "               OrderedDict([('Animacy', 'Anim'),\n",
       "                            ('Case', 'Gen'),\n",
       "                            ('Gender', 'Masc'),\n",
       "                            ('NameType', 'Giv'),\n",
       "                            ('Number', 'Sing')])),\n",
       "              ('head', 4),\n",
       "              ('deprel', 'flat:title'),\n",
       "              ('deps', None),\n",
       "              ('misc', OrderedDict([('Id', '0007')]))]),\n",
       " OrderedDict([('id', 6),\n",
       "              ('form', 'була'),\n",
       "              ('lemma', 'бути'),\n",
       "              ('upostag', 'VERB'),\n",
       "              ('xpostag', 'Vapis-sf'),\n",
       "              ('feats',\n",
       "               OrderedDict([('Aspect', 'Imp'),\n",
       "                            ('Gender', 'Fem'),\n",
       "                            ('Mood', 'Ind'),\n",
       "                            ('Number', 'Sing'),\n",
       "                            ('Tense', 'Past'),\n",
       "                            ('VerbForm', 'Fin')])),\n",
       "              ('head', 0),\n",
       "              ('deprel', 'root'),\n",
       "              ('deps', None),\n",
       "              ('misc', OrderedDict([('Id', '0008')]))]),\n",
       " OrderedDict([('id', 7),\n",
       "              ('form', 'прегарна'),\n",
       "              ('lemma', 'прегарний'),\n",
       "              ('upostag', 'ADJ'),\n",
       "              ('xpostag', 'Ao-fsns'),\n",
       "              ('feats',\n",
       "               OrderedDict([('Case', 'Nom'),\n",
       "                            ('Gender', 'Fem'),\n",
       "                            ('Number', 'Sing')])),\n",
       "              ('head', 8),\n",
       "              ('deprel', 'amod'),\n",
       "              ('deps', None),\n",
       "              ('misc', OrderedDict([('Id', '0009')]))]),\n",
       " OrderedDict([('id', 8),\n",
       "              ('form', 'фреска'),\n",
       "              ('lemma', 'фреска'),\n",
       "              ('upostag', 'NOUN'),\n",
       "              ('xpostag', 'Ncfsnn'),\n",
       "              ('feats',\n",
       "               OrderedDict([('Animacy', 'Inan'),\n",
       "                            ('Case', 'Nom'),\n",
       "                            ('Gender', 'Fem'),\n",
       "                            ('Number', 'Sing')])),\n",
       "              ('head', 6),\n",
       "              ('deprel', 'nsubj'),\n",
       "              ('deps', None),\n",
       "              ('misc', OrderedDict([('Id', '000a'), ('SpaceAfter', 'No')]))]),\n",
       " OrderedDict([('id', 9),\n",
       "              ('form', ','),\n",
       "              ('lemma', ','),\n",
       "              ('upostag', 'PUNCT'),\n",
       "              ('xpostag', 'U'),\n",
       "              ('feats', None),\n",
       "              ('head', 10),\n",
       "              ('deprel', 'punct'),\n",
       "              ('deps', None),\n",
       "              ('misc', OrderedDict([('Id', '000b')]))]),\n",
       " OrderedDict([('id', 10),\n",
       "              ('form', 'зображення'),\n",
       "              ('lemma', 'зображення'),\n",
       "              ('upostag', 'NOUN'),\n",
       "              ('xpostag', 'Ncnsnn'),\n",
       "              ('feats',\n",
       "               OrderedDict([('Animacy', 'Inan'),\n",
       "                            ('Case', 'Nom'),\n",
       "                            ('Gender', 'Neut'),\n",
       "                            ('Number', 'Sing')])),\n",
       "              ('head', 8),\n",
       "              ('deprel', 'appos'),\n",
       "              ('deps', None),\n",
       "              ('misc', OrderedDict([('Id', '000c')]))]),\n",
       " OrderedDict([('id', 11),\n",
       "              ('form', 'Венери'),\n",
       "              ('lemma', 'Венера'),\n",
       "              ('upostag', 'PROPN'),\n",
       "              ('xpostag', 'Npfsgy'),\n",
       "              ('feats',\n",
       "               OrderedDict([('Animacy', 'Anim'),\n",
       "                            ('Case', 'Gen'),\n",
       "                            ('Gender', 'Fem'),\n",
       "                            ('NameType', 'Giv'),\n",
       "                            ('Number', 'Sing')])),\n",
       "              ('head', 10),\n",
       "              ('deprel', 'nmod'),\n",
       "              ('deps', None),\n",
       "              ('misc', OrderedDict([('Id', '000d')]))]),\n",
       " OrderedDict([('id', 12),\n",
       "              ('form', 'та'),\n",
       "              ('lemma', 'та'),\n",
       "              ('upostag', 'CCONJ'),\n",
       "              ('xpostag', 'Ccs'),\n",
       "              ('feats', None),\n",
       "              ('head', 13),\n",
       "              ('deprel', 'cc'),\n",
       "              ('deps', None),\n",
       "              ('misc', OrderedDict([('Id', '000e')]))]),\n",
       " OrderedDict([('id', 13),\n",
       "              ('form', 'Адоніса'),\n",
       "              ('lemma', 'Адоніс'),\n",
       "              ('upostag', 'PROPN'),\n",
       "              ('xpostag', 'Npmsgy'),\n",
       "              ('feats',\n",
       "               OrderedDict([('Animacy', 'Anim'),\n",
       "                            ('Case', 'Gen'),\n",
       "                            ('Gender', 'Masc'),\n",
       "                            ('NameType', 'Giv'),\n",
       "                            ('Number', 'Sing')])),\n",
       "              ('head', 11),\n",
       "              ('deprel', 'conj'),\n",
       "              ('deps', None),\n",
       "              ('misc', OrderedDict([('Id', '000f'), ('SpaceAfter', 'No')]))]),\n",
       " OrderedDict([('id', 14),\n",
       "              ('form', '.'),\n",
       "              ('lemma', '.'),\n",
       "              ('upostag', 'PUNCT'),\n",
       "              ('xpostag', 'U'),\n",
       "              ('feats', None),\n",
       "              ('head', 6),\n",
       "              ('deprel', 'punct'),\n",
       "              ('deps', None),\n",
       "              ('misc', OrderedDict([('Id', '000g')]))])]"
      ]
     },
     "execution_count": 111,
     "metadata": {},
     "output_type": "execute_result"
    }
   ],
   "source": [
    "train[0]"
   ]
  },
  {
   "cell_type": "code",
   "execution_count": 215,
   "metadata": {},
   "outputs": [
    {
     "name": "stdout",
     "output_type": "stream",
     "text": [
      "Length of dictionary: 23976\n",
      "Unique labels: 49\n"
     ]
    }
   ],
   "source": [
    "word_index = {}\n",
    "labels_uniq = set()\n",
    "i = 0\n",
    "for row in train:\n",
    "    for odict in row:\n",
    "        if odict['form'] not in word_index:\n",
    "            word_index[odict['form']] = i\n",
    "            i+=1\n",
    "        labels_uniq.add(odict['deprel'])\n",
    "print(\"Length of dictionary:\", len(word_index))\n",
    "print(\"Unique labels:\", len(labels_uniq))"
   ]
  },
  {
   "cell_type": "code",
   "execution_count": 216,
   "metadata": {},
   "outputs": [],
   "source": [
    "labels = dict(zip(sorted(labels_uniq), range(len(labels_uniq))))"
   ]
  },
  {
   "cell_type": "code",
   "execution_count": 226,
   "metadata": {},
   "outputs": [],
   "source": [
    "from keras.utils import to_categorical\n",
    "def prepare(rows):\n",
    "    X_train1 = []\n",
    "    X_train2 = []\n",
    "    y_train = []\n",
    "    for row in rows:\n",
    "        for odict in row:\n",
    "            if odict['head'] > 0 and odict['deprel'] in labels:\n",
    "                child = odict['form']\n",
    "                head = row[odict['head']-1]['form']\n",
    "                child_idx = word_index.get(child, VOCAB_LENGTH)\n",
    "                head_idx = word_index.get(head, VOCAB_LENGTH)\n",
    "                X_train1.append(np.asarray([child_idx]),)\n",
    "                X_train2.append(np.asarray([head_idx]))\n",
    "                y_train.append(labels[odict['deprel']])\n",
    "    return (np.asarray(X_train1), np.asarray(X_train2)), to_categorical(y_train)\n",
    "\n",
    "(X_train1, X_train2), y_train = prepare(train)"
   ]
  },
  {
   "cell_type": "code",
   "execution_count": 208,
   "metadata": {},
   "outputs": [],
   "source": [
    "VECT_LENGTH=300\n",
    "VOCAB_LENGTH = len(word_index)\n",
    "INPUT_LENGTH = 2\n",
    "OUTPUT_LENGTH = len(labels_uniq)"
   ]
  },
  {
   "cell_type": "code",
   "execution_count": 209,
   "metadata": {},
   "outputs": [
    {
     "data": {
      "text/plain": [
       "(23976, 49, 70585)"
      ]
     },
     "execution_count": 209,
     "metadata": {},
     "output_type": "execute_result"
    }
   ],
   "source": [
    "VOCAB_LENGTH, OUTPUT_LENGTH, len(X_train1)"
   ]
  },
  {
   "cell_type": "code",
   "execution_count": 210,
   "metadata": {},
   "outputs": [],
   "source": [
    "embedding_matrix = np.zeros((VOCAB_LENGTH+1, VECT_LENGTH))\n",
    "for word,i in word_index.items():\n",
    "    embedding_vector = embedding_index.get(word.encode('utf8'))\n",
    "    if embedding_vector is not None:\n",
    "        embedding_matrix[i] = embedding_vector"
   ]
  },
  {
   "cell_type": "code",
   "execution_count": 211,
   "metadata": {},
   "outputs": [
    {
     "data": {
      "text/plain": [
       "(23977, 300)"
      ]
     },
     "execution_count": 211,
     "metadata": {},
     "output_type": "execute_result"
    }
   ],
   "source": [
    "embedding_matrix.shape"
   ]
  },
  {
   "cell_type": "code",
   "execution_count": 219,
   "metadata": {},
   "outputs": [],
   "source": [
    "from keras import backend as K\n",
    "\n",
    "def f1(y_true, y_pred):\n",
    "    def recall(y_true, y_pred):\n",
    "        \"\"\"Recall metric.\n",
    "\n",
    "        Only computes a batch-wise average of recall.\n",
    "\n",
    "        Computes the recall, a metric for multi-label classification of\n",
    "        how many relevant items are selected.\n",
    "        \"\"\"\n",
    "        true_positives = K.sum(K.round(K.clip(y_true * y_pred, 0, 1)))\n",
    "        possible_positives = K.sum(K.round(K.clip(y_true, 0, 1)))\n",
    "        recall = true_positives / (possible_positives + K.epsilon())\n",
    "        return recall\n",
    "\n",
    "    def precision(y_true, y_pred):\n",
    "        \"\"\"Precision metric.\n",
    "\n",
    "        Only computes a batch-wise average of precision.\n",
    "\n",
    "        Computes the precision, a metric for multi-label classification of\n",
    "        how many selected items are relevant.\n",
    "        \"\"\"\n",
    "        true_positives = K.sum(K.round(K.clip(y_true * y_pred, 0, 1)))\n",
    "        predicted_positives = K.sum(K.round(K.clip(y_pred, 0, 1)))\n",
    "        precision = true_positives / (predicted_positives + K.epsilon())\n",
    "        return precision\n",
    "    precision = precision(y_true, y_pred)\n",
    "    recall = recall(y_true, y_pred)\n",
    "    return 2*((precision*recall)/(precision+recall+K.epsilon()))\n"
   ]
  },
  {
   "cell_type": "code",
   "execution_count": 220,
   "metadata": {},
   "outputs": [],
   "source": [
    "from keras.layers import Input, Embedding, Concatenate, Flatten\n",
    "from keras.models import Model\n",
    "\n",
    "w1 = Input(shape=(1,), dtype='int32', name='w1')\n",
    "embed_w1 = Embedding(\n",
    "    VOCAB_LENGTH+1,\n",
    "    VECT_LENGTH,\n",
    "    weights=[embedding_matrix],\n",
    "    input_length=1,\n",
    "    trainable=False\n",
    ")(w1)\n",
    "\n",
    "w2 = Input(shape=(1,), dtype='int32', name='w2')\n",
    "embed_w2 = Embedding(\n",
    "    VOCAB_LENGTH+1,\n",
    "    VECT_LENGTH,\n",
    "    weights=[embedding_matrix],\n",
    "    input_length=1,\n",
    "    trainable=False\n",
    ")(w2)\n",
    "\n",
    "\n",
    "x = Concatenate(axis=-1, name='concat')([embed_w1, embed_w2])\n",
    "x = Dense(1000, activation='relu', name='dense1')(x)\n",
    "x = Flatten()(x)\n",
    "x = Dense(OUTPUT_LENGTH, activation='softmax', name='outputl')(x)\n",
    "\n",
    "model = Model(inputs=[w1, w2], outputs=x)\n",
    "model.compile(loss='categorical_crossentropy',\n",
    "              optimizer='rmsprop',\n",
    "              metrics=['acc', f1])\n",
    "#model = Model(w2,embed_w2)\n",
    "\n",
    "#model = Sequential()\n",
    "#model.add(embed_w1)"
   ]
  },
  {
   "cell_type": "code",
   "execution_count": 229,
   "metadata": {
    "scrolled": false
   },
   "outputs": [
    {
     "name": "stdout",
     "output_type": "stream",
     "text": [
      "Epoch 1/5\n",
      "70585/70585 [==============================] - 22s 315us/step - loss: 0.7913 - acc: 0.7912 - f1: 0.7894\n",
      "Epoch 2/5\n",
      "70585/70585 [==============================] - 22s 315us/step - loss: 0.5881 - acc: 0.8442 - f1: 0.8444\n",
      "Epoch 3/5\n",
      "70585/70585 [==============================] - 22s 318us/step - loss: 0.4476 - acc: 0.8846 - f1: 0.8848\n",
      "Epoch 4/5\n",
      "70585/70585 [==============================] - 23s 326us/step - loss: 0.3619 - acc: 0.9098 - f1: 0.9102\n",
      "Epoch 5/5\n",
      "70585/70585 [==============================] - 23s 326us/step - loss: 0.3176 - acc: 0.9252 - f1: 0.9253\n"
     ]
    },
    {
     "data": {
      "text/plain": [
       "<keras.callbacks.History at 0x11eaf12e8>"
      ]
     },
     "execution_count": 229,
     "metadata": {},
     "output_type": "execute_result"
    }
   ],
   "source": [
    "model.fit(x={'w1': X_train1, 'w2': X_train2}, y=y_train, epochs=5,)"
   ]
  },
  {
   "cell_type": "code",
   "execution_count": 227,
   "metadata": {},
   "outputs": [],
   "source": [
    "(X_test1, X_test2), y_test = prepare(test)"
   ]
  },
  {
   "cell_type": "code",
   "execution_count": 230,
   "metadata": {},
   "outputs": [
    {
     "name": "stdout",
     "output_type": "stream",
     "text": [
      "14154/14154 [==============================] - 1s 96us/step\n"
     ]
    },
    {
     "data": {
      "text/plain": [
       "[2.1283637827797364, 0.6005369506768964, 0.6007689974040858]"
      ]
     },
     "execution_count": 230,
     "metadata": {},
     "output_type": "execute_result"
    }
   ],
   "source": [
    "model.evaluate(x={'w1': X_test1, 'w2': X_test2}, y=y_test)"
   ]
  },
  {
   "cell_type": "code",
   "execution_count": null,
   "metadata": {},
   "outputs": [],
   "source": []
  }
 ],
 "metadata": {
  "kernelspec": {
   "display_name": "Python 3",
   "language": "python",
   "name": "python3"
  },
  "language_info": {
   "codemirror_mode": {
    "name": "ipython",
    "version": 3
   },
   "file_extension": ".py",
   "mimetype": "text/x-python",
   "name": "python",
   "nbconvert_exporter": "python",
   "pygments_lexer": "ipython3",
   "version": "3.6.0"
  }
 },
 "nbformat": 4,
 "nbformat_minor": 2
}
