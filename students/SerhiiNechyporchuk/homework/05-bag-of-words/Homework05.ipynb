{
 "cells": [
  {
   "cell_type": "code",
   "execution_count": 126,
   "metadata": {},
   "outputs": [],
   "source": [
    "%matplotlib inline\n",
    "import ast\n",
    "import pandas as pd\n",
    "import numpy as np\n",
    "import matplotlib.pyplot as plt\n",
    "import json\n",
    "from langdetect import detect\n",
    "import langdetect\n",
    "from sklearn.model_selection import train_test_split,cross_validate, GridSearchCV\n",
    "from sklearn.pipeline import Pipeline, FeatureUnion\n",
    "from sklearn.feature_extraction.text import CountVectorizer, TfidfVectorizer\n",
    "from sklearn.feature_extraction import DictVectorizer\n",
    "from sklearn.metrics import accuracy_score, precision_score, recall_score, f1_score, confusion_matrix\n",
    "from sklearn.naive_bayes import MultinomialNB\n",
    "from sklearn.base import BaseEstimator, ClassifierMixin, TransformerMixin\n",
    "from sklearn.preprocessing import FunctionTransformer\n",
    "import en_core_web_lg\n",
    "from tqdm import tqdm_pandas, tqdm_notebook\n",
    "import tokenize_uk\n",
    "import warnings\n",
    "\n",
    "warnings.filterwarnings(action='ignore')\n",
    "pd.set_option('display.max_colwidth', 400)"
   ]
  },
  {
   "cell_type": "code",
   "execution_count": 2,
   "metadata": {},
   "outputs": [],
   "source": [
    "nlp = en_core_web_lg.load()"
   ]
  },
  {
   "cell_type": "markdown",
   "metadata": {},
   "source": [
    "# Loading data"
   ]
  },
  {
   "cell_type": "code",
   "execution_count": 6,
   "metadata": {
    "scrolled": false
   },
   "outputs": [
    {
     "name": "stdout",
     "output_type": "stream",
     "text": [
      "Rows:  49890\n"
     ]
    },
    {
     "data": {
      "text/html": [
       "<div>\n",
       "<style scoped>\n",
       "    .dataframe tbody tr th:only-of-type {\n",
       "        vertical-align: middle;\n",
       "    }\n",
       "\n",
       "    .dataframe tbody tr th {\n",
       "        vertical-align: top;\n",
       "    }\n",
       "\n",
       "    .dataframe thead th {\n",
       "        text-align: right;\n",
       "    }\n",
       "</style>\n",
       "<table border=\"1\" class=\"dataframe\">\n",
       "  <thead>\n",
       "    <tr style=\"text-align: right;\">\n",
       "      <th></th>\n",
       "      <th>review</th>\n",
       "      <th>id</th>\n",
       "      <th>scores</th>\n",
       "    </tr>\n",
       "  </thead>\n",
       "  <tbody>\n",
       "    <tr>\n",
       "      <th>0</th>\n",
       "      <td>{'_': 'Пришел не рабочий телефон. Самостоятельно выключается. При включении на экране белая поло...</td>\n",
       "      <td>18896982</td>\n",
       "      <td>NaN</td>\n",
       "    </tr>\n",
       "    <tr>\n",
       "      <th>1</th>\n",
       "      <td>{'_': 'Не розумію..... це підробка??? Адже якщо мені не зраджує пам*ять iPhone6 випускався лише ...</td>\n",
       "      <td>18840918</td>\n",
       "      <td>NaN</td>\n",
       "    </tr>\n",
       "    <tr>\n",
       "      <th>2</th>\n",
       "      <td>{'_': 'Чудовий телефон , приємні знижки та якісне обслуговування', 'Переваги:': 'Легкий,швидкий,...</td>\n",
       "      <td>18780426</td>\n",
       "      <td>5.0</td>\n",
       "    </tr>\n",
       "    <tr>\n",
       "      <th>3</th>\n",
       "      <td>{'_': 'Он полностю новий?'}</td>\n",
       "      <td>18736812</td>\n",
       "      <td>5.0</td>\n",
       "    </tr>\n",
       "    <tr>\n",
       "      <th>4</th>\n",
       "      <td>{'_': 'Телефон и правда ещё очень актуальный сам пользуюсь и рад производительности,второй 5s та...</td>\n",
       "      <td>18534645</td>\n",
       "      <td>4.0</td>\n",
       "    </tr>\n",
       "  </tbody>\n",
       "</table>\n",
       "</div>"
      ],
      "text/plain": [
       "                                                                                                review  \\\n",
       "0  {'_': 'Пришел не рабочий телефон. Самостоятельно выключается. При включении на экране белая поло...   \n",
       "1  {'_': 'Не розумію..... це підробка??? Адже якщо мені не зраджує пам*ять iPhone6 випускався лише ...   \n",
       "2  {'_': 'Чудовий телефон , приємні знижки та якісне обслуговування', 'Переваги:': 'Легкий,швидкий,...   \n",
       "3                                                                          {'_': 'Он полностю новий?'}   \n",
       "4  {'_': 'Телефон и правда ещё очень актуальный сам пользуюсь и рад производительности,второй 5s та...   \n",
       "\n",
       "         id  scores  \n",
       "0  18896982     NaN  \n",
       "1  18840918     NaN  \n",
       "2  18780426     5.0  \n",
       "3  18736812     5.0  \n",
       "4  18534645     4.0  "
      ]
     },
     "execution_count": 6,
     "metadata": {},
     "output_type": "execute_result"
    }
   ],
   "source": [
    "df = pd.read_csv('scraper/data-phones.csv.gz', compression='gzip')\n",
    "df['review'] = df['review'].apply(json.loads)\n",
    "#df['scores'] = df['scores'].apply(json.loads)\n",
    "print(\"Rows: \", len(df))\n",
    "df.head()"
   ]
  },
  {
   "cell_type": "markdown",
   "metadata": {},
   "source": [
    "For now just stick with main part of review"
   ]
  },
  {
   "cell_type": "code",
   "execution_count": 314,
   "metadata": {
    "scrolled": true
   },
   "outputs": [
    {
     "data": {
      "text/html": [
       "<div>\n",
       "<style scoped>\n",
       "    .dataframe tbody tr th:only-of-type {\n",
       "        vertical-align: middle;\n",
       "    }\n",
       "\n",
       "    .dataframe tbody tr th {\n",
       "        vertical-align: top;\n",
       "    }\n",
       "\n",
       "    .dataframe thead th {\n",
       "        text-align: right;\n",
       "    }\n",
       "</style>\n",
       "<table border=\"1\" class=\"dataframe\">\n",
       "  <thead>\n",
       "    <tr style=\"text-align: right;\">\n",
       "      <th></th>\n",
       "      <th>review</th>\n",
       "      <th>id</th>\n",
       "      <th>scores</th>\n",
       "      <th>main_review</th>\n",
       "    </tr>\n",
       "  </thead>\n",
       "  <tbody>\n",
       "    <tr>\n",
       "      <th>0</th>\n",
       "      <td>{'_': 'Пришел не рабочий телефон. Самостоятельно выключается. При включении на экране белая поло...</td>\n",
       "      <td>18896982</td>\n",
       "      <td>NaN</td>\n",
       "      <td>Пришел не рабочий телефон. Самостоятельно выключается. При включении на экране белая полоска и з...</td>\n",
       "    </tr>\n",
       "    <tr>\n",
       "      <th>1</th>\n",
       "      <td>{'_': 'Не розумію..... це підробка??? Адже якщо мені не зраджує пам*ять iPhone6 випускався лише ...</td>\n",
       "      <td>18840918</td>\n",
       "      <td>NaN</td>\n",
       "      <td>Не розумію..... це підробка??? Адже якщо мені не зраджує пам*ять iPhone6 випускався лише в трьох...</td>\n",
       "    </tr>\n",
       "    <tr>\n",
       "      <th>2</th>\n",
       "      <td>{'_': 'Чудовий телефон , приємні знижки та якісне обслуговування', 'Переваги:': 'Легкий,швидкий,...</td>\n",
       "      <td>18780426</td>\n",
       "      <td>5.0</td>\n",
       "      <td>Чудовий телефон , приємні знижки та якісне обслуговування</td>\n",
       "    </tr>\n",
       "    <tr>\n",
       "      <th>3</th>\n",
       "      <td>{'_': 'Он полностю новий?'}</td>\n",
       "      <td>18736812</td>\n",
       "      <td>5.0</td>\n",
       "      <td>Он полностю новий?</td>\n",
       "    </tr>\n",
       "    <tr>\n",
       "      <th>4</th>\n",
       "      <td>{'_': 'Телефон и правда ещё очень актуальный сам пользуюсь и рад производительности,второй 5s та...</td>\n",
       "      <td>18534645</td>\n",
       "      <td>4.0</td>\n",
       "      <td>Телефон и правда ещё очень актуальный сам пользуюсь и рад производительности,второй 5s так же пр...</td>\n",
       "    </tr>\n",
       "  </tbody>\n",
       "</table>\n",
       "</div>"
      ],
      "text/plain": [
       "                                                                                                review  \\\n",
       "0  {'_': 'Пришел не рабочий телефон. Самостоятельно выключается. При включении на экране белая поло...   \n",
       "1  {'_': 'Не розумію..... це підробка??? Адже якщо мені не зраджує пам*ять iPhone6 випускався лише ...   \n",
       "2  {'_': 'Чудовий телефон , приємні знижки та якісне обслуговування', 'Переваги:': 'Легкий,швидкий,...   \n",
       "3                                                                          {'_': 'Он полностю новий?'}   \n",
       "4  {'_': 'Телефон и правда ещё очень актуальный сам пользуюсь и рад производительности,второй 5s та...   \n",
       "\n",
       "         id  scores  \\\n",
       "0  18896982     NaN   \n",
       "1  18840918     NaN   \n",
       "2  18780426     5.0   \n",
       "3  18736812     5.0   \n",
       "4  18534645     4.0   \n",
       "\n",
       "                                                                                           main_review  \n",
       "0  Пришел не рабочий телефон. Самостоятельно выключается. При включении на экране белая полоска и з...  \n",
       "1  Не розумію..... це підробка??? Адже якщо мені не зраджує пам*ять iPhone6 випускався лише в трьох...  \n",
       "2                                            Чудовий телефон , приємні знижки та якісне обслуговування  \n",
       "3                                                                                   Он полностю новий?  \n",
       "4  Телефон и правда ещё очень актуальный сам пользуюсь и рад производительности,второй 5s так же пр...  "
      ]
     },
     "execution_count": 314,
     "metadata": {},
     "output_type": "execute_result"
    }
   ],
   "source": [
    "df['main_review'] = df['review'].apply(lambda x: x['_'])\n",
    "df.head()"
   ]
  },
  {
   "cell_type": "markdown",
   "metadata": {},
   "source": [
    "Filter those written in ukrainian"
   ]
  },
  {
   "cell_type": "code",
   "execution_count": 315,
   "metadata": {
    "scrolled": false
   },
   "outputs": [
    {
     "data": {
      "application/vnd.jupyter.widget-view+json": {
       "model_id": "cbcb2c5297dd4db09393c41c8b1e23dc",
       "version_major": 2,
       "version_minor": 0
      },
      "text/plain": [
       "HBox(children=(IntProgress(value=0, max=49890), HTML(value='')))"
      ]
     },
     "metadata": {},
     "output_type": "display_data"
    },
    {
     "name": "stdout",
     "output_type": "stream",
     "text": [
      "\n",
      "Rows:  10231\n"
     ]
    },
    {
     "data": {
      "text/html": [
       "<div>\n",
       "<style scoped>\n",
       "    .dataframe tbody tr th:only-of-type {\n",
       "        vertical-align: middle;\n",
       "    }\n",
       "\n",
       "    .dataframe tbody tr th {\n",
       "        vertical-align: top;\n",
       "    }\n",
       "\n",
       "    .dataframe thead th {\n",
       "        text-align: right;\n",
       "    }\n",
       "</style>\n",
       "<table border=\"1\" class=\"dataframe\">\n",
       "  <thead>\n",
       "    <tr style=\"text-align: right;\">\n",
       "      <th></th>\n",
       "      <th>review</th>\n",
       "      <th>id</th>\n",
       "      <th>scores</th>\n",
       "      <th>main_review</th>\n",
       "    </tr>\n",
       "  </thead>\n",
       "  <tbody>\n",
       "    <tr>\n",
       "      <th>0</th>\n",
       "      <td>{'_': 'Пришел не рабочий телефон. Самостоятельно выключается. При включении на экране белая поло...</td>\n",
       "      <td>18896982</td>\n",
       "      <td>NaN</td>\n",
       "      <td>Пришел не рабочий телефон. Самостоятельно выключается. При включении на экране белая полоска и з...</td>\n",
       "    </tr>\n",
       "    <tr>\n",
       "      <th>1</th>\n",
       "      <td>{'_': 'Не розумію..... це підробка??? Адже якщо мені не зраджує пам*ять iPhone6 випускався лише ...</td>\n",
       "      <td>18840918</td>\n",
       "      <td>NaN</td>\n",
       "      <td>Не розумію..... це підробка??? Адже якщо мені не зраджує пам*ять iPhone6 випускався лише в трьох...</td>\n",
       "    </tr>\n",
       "    <tr>\n",
       "      <th>2</th>\n",
       "      <td>{'_': 'Чудовий телефон , приємні знижки та якісне обслуговування', 'Переваги:': 'Легкий,швидкий,...</td>\n",
       "      <td>18780426</td>\n",
       "      <td>5.0</td>\n",
       "      <td>Чудовий телефон , приємні знижки та якісне обслуговування</td>\n",
       "    </tr>\n",
       "    <tr>\n",
       "      <th>3</th>\n",
       "      <td>{'_': 'Он полностю новий?'}</td>\n",
       "      <td>18736812</td>\n",
       "      <td>5.0</td>\n",
       "      <td>Он полностю новий?</td>\n",
       "    </tr>\n",
       "    <tr>\n",
       "      <th>4</th>\n",
       "      <td>{'_': 'Телефон и правда ещё очень актуальный сам пользуюсь и рад производительности,второй 5s та...</td>\n",
       "      <td>18534645</td>\n",
       "      <td>4.0</td>\n",
       "      <td>Телефон и правда ещё очень актуальный сам пользуюсь и рад производительности,второй 5s так же пр...</td>\n",
       "    </tr>\n",
       "  </tbody>\n",
       "</table>\n",
       "</div>"
      ],
      "text/plain": [
       "                                                                                                review  \\\n",
       "0  {'_': 'Пришел не рабочий телефон. Самостоятельно выключается. При включении на экране белая поло...   \n",
       "1  {'_': 'Не розумію..... це підробка??? Адже якщо мені не зраджує пам*ять iPhone6 випускався лише ...   \n",
       "2  {'_': 'Чудовий телефон , приємні знижки та якісне обслуговування', 'Переваги:': 'Легкий,швидкий,...   \n",
       "3                                                                          {'_': 'Он полностю новий?'}   \n",
       "4  {'_': 'Телефон и правда ещё очень актуальный сам пользуюсь и рад производительности,второй 5s та...   \n",
       "\n",
       "         id  scores  \\\n",
       "0  18896982     NaN   \n",
       "1  18840918     NaN   \n",
       "2  18780426     5.0   \n",
       "3  18736812     5.0   \n",
       "4  18534645     4.0   \n",
       "\n",
       "                                                                                           main_review  \n",
       "0  Пришел не рабочий телефон. Самостоятельно выключается. При включении на экране белая полоска и з...  \n",
       "1  Не розумію..... це підробка??? Адже якщо мені не зраджує пам*ять iPhone6 випускався лише в трьох...  \n",
       "2                                            Чудовий телефон , приємні знижки та якісне обслуговування  \n",
       "3                                                                                   Он полностю новий?  \n",
       "4  Телефон и правда ещё очень актуальный сам пользуюсь и рад производительности,второй 5s так же пр...  "
      ]
     },
     "execution_count": 315,
     "metadata": {},
     "output_type": "execute_result"
    }
   ],
   "source": [
    "def detect_lang(x):\n",
    "    try:\n",
    "        return detect(x)\n",
    "    except langdetect.lang_detect_exception.LangDetectException:\n",
    "        pass\n",
    "        \n",
    "df_uk = df[df['main_review'].progress_apply(detect_lang) == 'uk'].copy()\n",
    "print(\"Rows: \", len(df_uk))\n",
    "df_uk.head()"
   ]
  },
  {
   "cell_type": "markdown",
   "metadata": {},
   "source": [
    "Leave only those with scores"
   ]
  },
  {
   "cell_type": "code",
   "execution_count": 318,
   "metadata": {},
   "outputs": [
    {
     "name": "stdout",
     "output_type": "stream",
     "text": [
      "Rows:  4317\n"
     ]
    },
    {
     "data": {
      "text/html": [
       "<div>\n",
       "<style scoped>\n",
       "    .dataframe tbody tr th:only-of-type {\n",
       "        vertical-align: middle;\n",
       "    }\n",
       "\n",
       "    .dataframe tbody tr th {\n",
       "        vertical-align: top;\n",
       "    }\n",
       "\n",
       "    .dataframe thead th {\n",
       "        text-align: right;\n",
       "    }\n",
       "</style>\n",
       "<table border=\"1\" class=\"dataframe\">\n",
       "  <thead>\n",
       "    <tr style=\"text-align: right;\">\n",
       "      <th></th>\n",
       "      <th>review</th>\n",
       "      <th>id</th>\n",
       "      <th>scores</th>\n",
       "      <th>main_review</th>\n",
       "      <th>score_raw</th>\n",
       "    </tr>\n",
       "  </thead>\n",
       "  <tbody>\n",
       "    <tr>\n",
       "      <th>2</th>\n",
       "      <td>{'_': 'Чудовий телефон , приємні знижки та якісне обслуговування', 'Переваги:': 'Легкий,швидкий,...</td>\n",
       "      <td>18780426</td>\n",
       "      <td>5.0</td>\n",
       "      <td>Чудовий телефон , приємні знижки та якісне обслуговування</td>\n",
       "      <td>5.0</td>\n",
       "    </tr>\n",
       "    <tr>\n",
       "      <th>12</th>\n",
       "      <td>{'_': 'Запитання: чи є в ньому функцію запису телефонної розмови?'}</td>\n",
       "      <td>19373305</td>\n",
       "      <td>4.0</td>\n",
       "      <td>Запитання: чи є в ньому функцію запису телефонної розмови?</td>\n",
       "      <td>4.0</td>\n",
       "    </tr>\n",
       "    <tr>\n",
       "      <th>15</th>\n",
       "      <td>{'_': 'Користуюсь два тижні. Достойний телефон. Працює швидкоі і злагоджено. Дуже зручно зі скан...</td>\n",
       "      <td>21074865</td>\n",
       "      <td>5.0</td>\n",
       "      <td>Користуюсь два тижні. Достойний телефон. Працює швидкоі і злагоджено. Дуже зручно зі сканером, х...</td>\n",
       "      <td>5.0</td>\n",
       "    </tr>\n",
       "    <tr>\n",
       "      <th>22</th>\n",
       "      <td>{'_': 'Підскажи який стоїть Андроїд? І чи є до нього захисне скло і чохол?', 'Недоліки:': '-'}</td>\n",
       "      <td>20476907</td>\n",
       "      <td>5.0</td>\n",
       "      <td>Підскажи який стоїть Андроїд? І чи є до нього захисне скло і чохол?</td>\n",
       "      <td>5.0</td>\n",
       "    </tr>\n",
       "    <tr>\n",
       "      <th>60</th>\n",
       "      <td>{'_': 'Користуюсь вже два місяці, телефон крутий, тільки одна порада не купляйте джет блек, а пр...</td>\n",
       "      <td>16161182</td>\n",
       "      <td>5.0</td>\n",
       "      <td>Користуюсь вже два місяці, телефон крутий, тільки одна порада не купляйте джет блек, а простий ч...</td>\n",
       "      <td>5.0</td>\n",
       "    </tr>\n",
       "  </tbody>\n",
       "</table>\n",
       "</div>"
      ],
      "text/plain": [
       "                                                                                                 review  \\\n",
       "2   {'_': 'Чудовий телефон , приємні знижки та якісне обслуговування', 'Переваги:': 'Легкий,швидкий,...   \n",
       "12                                  {'_': 'Запитання: чи є в ньому функцію запису телефонної розмови?'}   \n",
       "15  {'_': 'Користуюсь два тижні. Достойний телефон. Працює швидкоі і злагоджено. Дуже зручно зі скан...   \n",
       "22       {'_': 'Підскажи який стоїть Андроїд? І чи є до нього захисне скло і чохол?', 'Недоліки:': '-'}   \n",
       "60  {'_': 'Користуюсь вже два місяці, телефон крутий, тільки одна порада не купляйте джет блек, а пр...   \n",
       "\n",
       "          id  scores  \\\n",
       "2   18780426     5.0   \n",
       "12  19373305     4.0   \n",
       "15  21074865     5.0   \n",
       "22  20476907     5.0   \n",
       "60  16161182     5.0   \n",
       "\n",
       "                                                                                            main_review  \\\n",
       "2                                             Чудовий телефон , приємні знижки та якісне обслуговування   \n",
       "12                                           Запитання: чи є в ньому функцію запису телефонної розмови?   \n",
       "15  Користуюсь два тижні. Достойний телефон. Працює швидкоі і злагоджено. Дуже зручно зі сканером, х...   \n",
       "22                                  Підскажи який стоїть Андроїд? І чи є до нього захисне скло і чохол?   \n",
       "60  Користуюсь вже два місяці, телефон крутий, тільки одна порада не купляйте джет блек, а простий ч...   \n",
       "\n",
       "    score_raw  \n",
       "2         5.0  \n",
       "12        4.0  \n",
       "15        5.0  \n",
       "22        5.0  \n",
       "60        5.0  "
      ]
     },
     "execution_count": 318,
     "metadata": {},
     "output_type": "execute_result"
    }
   ],
   "source": [
    "main_key = 'Общее впечатление'\n",
    "taste_key = 'Соответствие вкуса'\n",
    "aroma_key = 'Соответствие аромата'\n",
    "def combine_scores(scores):\n",
    "    if main_key in scores:\n",
    "        main = scores.get(main_key)\n",
    "        taste = scores.get(taste_key)\n",
    "        aroma = scores.get(aroma_key)\n",
    "        raws = list(filter(lambda x: x, [main, taste, aroma]))\n",
    "        return np.mean(raws)\n",
    "df_uk = df_uk.assign(score_raw=df_uk['scores'])\n",
    "df_ws = df_uk[pd.notna(df_uk['score_raw'])].copy()\n",
    "print(\"Rows: \", len(df_ws))\n",
    "df_ws.head()"
   ]
  },
  {
   "cell_type": "markdown",
   "metadata": {},
   "source": [
    "Digitize scores"
   ]
  },
  {
   "cell_type": "code",
   "execution_count": 349,
   "metadata": {
    "scrolled": true
   },
   "outputs": [
    {
     "data": {
      "text/html": [
       "<div>\n",
       "<style scoped>\n",
       "    .dataframe tbody tr th:only-of-type {\n",
       "        vertical-align: middle;\n",
       "    }\n",
       "\n",
       "    .dataframe tbody tr th {\n",
       "        vertical-align: top;\n",
       "    }\n",
       "\n",
       "    .dataframe thead th {\n",
       "        text-align: right;\n",
       "    }\n",
       "</style>\n",
       "<table border=\"1\" class=\"dataframe\">\n",
       "  <thead>\n",
       "    <tr style=\"text-align: right;\">\n",
       "      <th></th>\n",
       "      <th>review</th>\n",
       "      <th>id</th>\n",
       "      <th>scores</th>\n",
       "      <th>main_review</th>\n",
       "      <th>score_raw</th>\n",
       "      <th>score</th>\n",
       "    </tr>\n",
       "  </thead>\n",
       "  <tbody>\n",
       "    <tr>\n",
       "      <th>2</th>\n",
       "      <td>{'_': 'Чудовий телефон , приємні знижки та якісне обслуговування', 'Переваги:': 'Легкий,швидкий,...</td>\n",
       "      <td>18780426</td>\n",
       "      <td>5.0</td>\n",
       "      <td>Чудовий телефон , приємні знижки та якісне обслуговування</td>\n",
       "      <td>5.0</td>\n",
       "      <td>2</td>\n",
       "    </tr>\n",
       "    <tr>\n",
       "      <th>12</th>\n",
       "      <td>{'_': 'Запитання: чи є в ньому функцію запису телефонної розмови?'}</td>\n",
       "      <td>19373305</td>\n",
       "      <td>4.0</td>\n",
       "      <td>Запитання: чи є в ньому функцію запису телефонної розмови?</td>\n",
       "      <td>4.0</td>\n",
       "      <td>2</td>\n",
       "    </tr>\n",
       "    <tr>\n",
       "      <th>15</th>\n",
       "      <td>{'_': 'Користуюсь два тижні. Достойний телефон. Працює швидкоі і злагоджено. Дуже зручно зі скан...</td>\n",
       "      <td>21074865</td>\n",
       "      <td>5.0</td>\n",
       "      <td>Користуюсь два тижні. Достойний телефон. Працює швидкоі і злагоджено. Дуже зручно зі сканером, х...</td>\n",
       "      <td>5.0</td>\n",
       "      <td>2</td>\n",
       "    </tr>\n",
       "    <tr>\n",
       "      <th>22</th>\n",
       "      <td>{'_': 'Підскажи який стоїть Андроїд? І чи є до нього захисне скло і чохол?', 'Недоліки:': '-'}</td>\n",
       "      <td>20476907</td>\n",
       "      <td>5.0</td>\n",
       "      <td>Підскажи який стоїть Андроїд? І чи є до нього захисне скло і чохол?</td>\n",
       "      <td>5.0</td>\n",
       "      <td>2</td>\n",
       "    </tr>\n",
       "    <tr>\n",
       "      <th>60</th>\n",
       "      <td>{'_': 'Користуюсь вже два місяці, телефон крутий, тільки одна порада не купляйте джет блек, а пр...</td>\n",
       "      <td>16161182</td>\n",
       "      <td>5.0</td>\n",
       "      <td>Користуюсь вже два місяці, телефон крутий, тільки одна порада не купляйте джет блек, а простий ч...</td>\n",
       "      <td>5.0</td>\n",
       "      <td>2</td>\n",
       "    </tr>\n",
       "  </tbody>\n",
       "</table>\n",
       "</div>"
      ],
      "text/plain": [
       "                                                                                                 review  \\\n",
       "2   {'_': 'Чудовий телефон , приємні знижки та якісне обслуговування', 'Переваги:': 'Легкий,швидкий,...   \n",
       "12                                  {'_': 'Запитання: чи є в ньому функцію запису телефонної розмови?'}   \n",
       "15  {'_': 'Користуюсь два тижні. Достойний телефон. Працює швидкоі і злагоджено. Дуже зручно зі скан...   \n",
       "22       {'_': 'Підскажи який стоїть Андроїд? І чи є до нього захисне скло і чохол?', 'Недоліки:': '-'}   \n",
       "60  {'_': 'Користуюсь вже два місяці, телефон крутий, тільки одна порада не купляйте джет блек, а пр...   \n",
       "\n",
       "          id  scores  \\\n",
       "2   18780426     5.0   \n",
       "12  19373305     4.0   \n",
       "15  21074865     5.0   \n",
       "22  20476907     5.0   \n",
       "60  16161182     5.0   \n",
       "\n",
       "                                                                                            main_review  \\\n",
       "2                                             Чудовий телефон , приємні знижки та якісне обслуговування   \n",
       "12                                           Запитання: чи є в ньому функцію запису телефонної розмови?   \n",
       "15  Користуюсь два тижні. Достойний телефон. Працює швидкоі і злагоджено. Дуже зручно зі сканером, х...   \n",
       "22                                  Підскажи який стоїть Андроїд? І чи є до нього захисне скло і чохол?   \n",
       "60  Користуюсь вже два місяці, телефон крутий, тільки одна порада не купляйте джет блек, а простий ч...   \n",
       "\n",
       "    score_raw  score  \n",
       "2         5.0      2  \n",
       "12        4.0      2  \n",
       "15        5.0      2  \n",
       "22        5.0      2  \n",
       "60        5.0      2  "
      ]
     },
     "execution_count": 349,
     "metadata": {},
     "output_type": "execute_result"
    }
   ],
   "source": [
    "def digitize(n):\n",
    "    if (1 <= n) and (n < 3):\n",
    "        return 0\n",
    "    elif (3 <= n) and (n < 4):\n",
    "        return 1\n",
    "    elif (4 <= n) and (n <= 5):\n",
    "        return 2\n",
    "    else:\n",
    "        return None\n",
    "bins = 1+np.array([4/3,2*4/3])\n",
    "df_ws['score'] = np.digitize(df_ws['score_raw'], bins)\n",
    "df_ws.head()"
   ]
  },
  {
   "cell_type": "code",
   "execution_count": 128,
   "metadata": {
    "scrolled": false
   },
   "outputs": [],
   "source": [
    "#train,test = train_test_split(df_ws, test_size=0.3)\n",
    "#train.to_csv('train.phones.csv', index=False)\n",
    "#test.to_csv('test.phones.csv', index=False)\n",
    "train = pd.read_csv('train.phones.csv.gz', compression='gzip')\n",
    "train = train.assign(review_dict = train['review'].apply(ast.literal_eval))\n",
    "test = pd.read_csv('test.phones.csv.gz', compression='gzip')\n",
    "test = test.assign(review_dict = test['review'].apply(ast.literal_eval))"
   ]
  },
  {
   "cell_type": "markdown",
   "metadata": {},
   "source": [
    "Load ukranian stemmer (borrowed from https://github.com/Amice13/ukr_stemmer)"
   ]
  },
  {
   "cell_type": "code",
   "execution_count": 4,
   "metadata": {},
   "outputs": [],
   "source": [
    "%run -n ukr_stemmer3.py"
   ]
  },
  {
   "cell_type": "code",
   "execution_count": 5,
   "metadata": {},
   "outputs": [],
   "source": [
    "def stem(xs):\n",
    "    return np.array([UkrainianStemmer(x).stem_word() for x in xs])\n",
    "\n",
    "def stem_all(X):\n",
    "    stem_vec = np.vectorize(stem)\n",
    "    return stem_vec(X)"
   ]
  },
  {
   "cell_type": "code",
   "execution_count": 6,
   "metadata": {},
   "outputs": [],
   "source": [
    "def tokenize(x, lowercase=False):\n",
    "    tokens = tokenize_uk.tokenize_words(x)\n",
    "    if lowercase==True:\n",
    "        return [tok.lower() for tok in tokens]\n",
    "    else:\n",
    "        return tokens"
   ]
  },
  {
   "cell_type": "code",
   "execution_count": 130,
   "metadata": {},
   "outputs": [],
   "source": [
    "train = train.assign(review_doc = train['main_review'].apply(lambda x: stem(tokenize(x, lowercase=True))))\n",
    "test = test.assign(review_doc = test['main_review'].apply(lambda x: stem(tokenize(x, lowercase=True))))"
   ]
  },
  {
   "cell_type": "code",
   "execution_count": 8,
   "metadata": {},
   "outputs": [],
   "source": [
    "vocab = CountVectorizer(tokenizer=lambda x: x, lowercase=False).fit(train['review_doc'], train['score']).vocabulary_\n",
    "idxs, ivocab = zip(*sorted(zip(vocab.values(),vocab.keys())))\n",
    "ivocab = np.array(ivocab)"
   ]
  },
  {
   "cell_type": "code",
   "execution_count": 9,
   "metadata": {
    "scrolled": true
   },
   "outputs": [
    {
     "data": {
      "text/plain": [
       "<matplotlib.axes._subplots.AxesSubplot at 0x1144d7668>"
      ]
     },
     "execution_count": 9,
     "metadata": {},
     "output_type": "execute_result"
    },
    {
     "data": {
      "image/png": "[encoded data removed]",
      "text/plain": [
       "<Figure size 432x288 with 1 Axes>"
      ]
     },
     "metadata": {},
     "output_type": "display_data"
    }
   ],
   "source": [
    "train['score'].value_counts().plot(kind='bar')"
   ]
  },
  {
   "cell_type": "markdown",
   "metadata": {},
   "source": [
    "# Classification"
   ]
  },
  {
   "cell_type": "markdown",
   "metadata": {},
   "source": [
    "### Metrics\n",
    "This task has 3 classes, so simple f1/prec/rec metrics will not be representative. Also the data is substantially skewed towards the `positive` class. I assume that the end user of this classification will want to find the nagative comments and somehow react to them. He, definitely, will not want to look at enourmous number of positive posts. So our metric will target negative class. In addition, we, really, don't care if some positive class was classified as negative, because it is easy to find such error. On the other side, the cost of not labeling negative comment with negative class is huge, there is just no way for user to find this error in the big pile of positive classes. \n",
    "\n",
    "I have chosen `F2` score measured for negative class. Also we will look at other compound metrics to not make them too bad"
   ]
  },
  {
   "cell_type": "code",
   "execution_count": 190,
   "metadata": {},
   "outputs": [],
   "source": [
    "from sklearn.metrics import fbeta_score, make_scorer\n",
    "\n",
    "f2_score = make_scorer(fbeta_score, beta=2, labels=[0], average=None)\n",
    "\n",
    "def print_metrics(cls, X, y):\n",
    "    scores = cross_validate(cls, X, y=y,\n",
    "                            scoring={'f2_score': f2_score, \n",
    "                                     'f1_macro': 'f1_macro',\n",
    "                                     'accuracy': 'accuracy',\n",
    "                                     'precision_macro': 'precision_macro',\n",
    "                                     'recall_macro': 'recall_macro'}, \n",
    "                            return_train_score=True, \n",
    "                            cv=3)\n",
    "\n",
    "    \n",
    "    df = pd.DataFrame(scores)\n",
    "    print(confusion_matrix(y, cls.predict(X)))\n",
    "#    print(confusion_matrix(train['score']))\n",
    "    print(df[['test_f2_score', 'train_accuracy', 'test_accuracy', 'test_f1_macro', 'test_precision_macro', 'test_recall_macro']].mean())\n",
    "    return df"
   ]
  },
  {
   "cell_type": "markdown",
   "metadata": {},
   "source": [
    "## Originial dataset"
   ]
  },
  {
   "cell_type": "markdown",
   "metadata": {},
   "source": [
    "### Naive Bayes"
   ]
  },
  {
   "cell_type": "code",
   "execution_count": 173,
   "metadata": {
    "scrolled": true
   },
   "outputs": [
    {
     "name": "stdout",
     "output_type": "stream",
     "text": [
      "[[  85    0  109]\n",
      " [   3   43  138]\n",
      " [   4    6 2633]]\n",
      "test_f2_score           0.043795\n",
      "train_accuracy          0.897053\n",
      "test_accuracy           0.870902\n",
      "test_f1_macro           0.332162\n",
      "test_precision_macro    0.412804\n",
      "test_recall_macro       0.342930\n",
      "dtype: float64\n"
     ]
    },
    {
     "data": {
      "text/html": [
       "<div>\n",
       "<style scoped>\n",
       "    .dataframe tbody tr th:only-of-type {\n",
       "        vertical-align: middle;\n",
       "    }\n",
       "\n",
       "    .dataframe tbody tr th {\n",
       "        vertical-align: top;\n",
       "    }\n",
       "\n",
       "    .dataframe thead th {\n",
       "        text-align: right;\n",
       "    }\n",
       "</style>\n",
       "<table border=\"1\" class=\"dataframe\">\n",
       "  <thead>\n",
       "    <tr style=\"text-align: right;\">\n",
       "      <th></th>\n",
       "      <th>fit_time</th>\n",
       "      <th>score_time</th>\n",
       "      <th>test_accuracy</th>\n",
       "      <th>test_f1_macro</th>\n",
       "      <th>test_f2_score</th>\n",
       "      <th>test_precision_macro</th>\n",
       "      <th>test_recall_macro</th>\n",
       "      <th>train_accuracy</th>\n",
       "      <th>train_f1_macro</th>\n",
       "      <th>train_f2_score</th>\n",
       "      <th>train_precision_macro</th>\n",
       "      <th>train_recall_macro</th>\n",
       "    </tr>\n",
       "  </thead>\n",
       "  <tbody>\n",
       "    <tr>\n",
       "      <th>0</th>\n",
       "      <td>0.093123</td>\n",
       "      <td>0.233095</td>\n",
       "      <td>0.873016</td>\n",
       "      <td>0.338997</td>\n",
       "      <td>0.056391</td>\n",
       "      <td>0.459000</td>\n",
       "      <td>0.347205</td>\n",
       "      <td>0.893194</td>\n",
       "      <td>0.482793</td>\n",
       "      <td>0.257353</td>\n",
       "      <td>0.908459</td>\n",
       "      <td>0.432629</td>\n",
       "    </tr>\n",
       "    <tr>\n",
       "      <th>1</th>\n",
       "      <td>0.130927</td>\n",
       "      <td>0.230437</td>\n",
       "      <td>0.870904</td>\n",
       "      <td>0.337783</td>\n",
       "      <td>0.055762</td>\n",
       "      <td>0.404203</td>\n",
       "      <td>0.346069</td>\n",
       "      <td>0.900199</td>\n",
       "      <td>0.536405</td>\n",
       "      <td>0.350719</td>\n",
       "      <td>0.916292</td>\n",
       "      <td>0.471671</td>\n",
       "    </tr>\n",
       "    <tr>\n",
       "      <th>2</th>\n",
       "      <td>0.096630</td>\n",
       "      <td>0.232796</td>\n",
       "      <td>0.868787</td>\n",
       "      <td>0.319708</td>\n",
       "      <td>0.019231</td>\n",
       "      <td>0.375209</td>\n",
       "      <td>0.335515</td>\n",
       "      <td>0.897767</td>\n",
       "      <td>0.521826</td>\n",
       "      <td>0.298373</td>\n",
       "      <td>0.944409</td>\n",
       "      <td>0.458410</td>\n",
       "    </tr>\n",
       "  </tbody>\n",
       "</table>\n",
       "</div>"
      ],
      "text/plain": [
       "   fit_time  score_time  test_accuracy  test_f1_macro  test_f2_score  \\\n",
       "0  0.093123    0.233095       0.873016       0.338997       0.056391   \n",
       "1  0.130927    0.230437       0.870904       0.337783       0.055762   \n",
       "2  0.096630    0.232796       0.868787       0.319708       0.019231   \n",
       "\n",
       "   test_precision_macro  test_recall_macro  train_accuracy  train_f1_macro  \\\n",
       "0              0.459000           0.347205        0.893194        0.482793   \n",
       "1              0.404203           0.346069        0.900199        0.536405   \n",
       "2              0.375209           0.335515        0.897767        0.521826   \n",
       "\n",
       "   train_f2_score  train_precision_macro  train_recall_macro  \n",
       "0        0.257353               0.908459            0.432629  \n",
       "1        0.350719               0.916292            0.471671  \n",
       "2        0.298373               0.944409            0.458410  "
      ]
     },
     "execution_count": 173,
     "metadata": {},
     "output_type": "execute_result"
    }
   ],
   "source": [
    "p1 = Pipeline([('vectorizer', CountVectorizer(lowercase=False, tokenizer=lambda x: x, vocabulary=vocab)),\n",
    "               ('classifier', MultinomialNB())])\n",
    "p1.fit(train['review_doc'], train['score'])\n",
    "print_metrics(p1, train['review_doc'], train['score'])"
   ]
  },
  {
   "cell_type": "markdown",
   "metadata": {},
   "source": [
    "### Logistic Regression"
   ]
  },
  {
   "cell_type": "code",
   "execution_count": 174,
   "metadata": {
    "scrolled": true
   },
   "outputs": [
    {
     "name": "stdout",
     "output_type": "stream",
     "text": [
      "[[ 173    0   21]\n",
      " [   1  138   45]\n",
      " [   0    0 2643]]\n",
      "test_f2_score           0.260687\n",
      "train_accuracy          0.981628\n",
      "test_accuracy           0.873883\n",
      "test_f1_macro           0.445926\n",
      "test_precision_macro    0.529707\n",
      "test_recall_macro       0.421424\n",
      "dtype: float64\n"
     ]
    },
    {
     "data": {
      "text/html": [
       "<div>\n",
       "<style scoped>\n",
       "    .dataframe tbody tr th:only-of-type {\n",
       "        vertical-align: middle;\n",
       "    }\n",
       "\n",
       "    .dataframe tbody tr th {\n",
       "        vertical-align: top;\n",
       "    }\n",
       "\n",
       "    .dataframe thead th {\n",
       "        text-align: right;\n",
       "    }\n",
       "</style>\n",
       "<table border=\"1\" class=\"dataframe\">\n",
       "  <thead>\n",
       "    <tr style=\"text-align: right;\">\n",
       "      <th></th>\n",
       "      <th>fit_time</th>\n",
       "      <th>score_time</th>\n",
       "      <th>test_accuracy</th>\n",
       "      <th>test_f1_macro</th>\n",
       "      <th>test_f2_score</th>\n",
       "      <th>test_precision_macro</th>\n",
       "      <th>test_recall_macro</th>\n",
       "      <th>train_accuracy</th>\n",
       "      <th>train_f1_macro</th>\n",
       "      <th>train_f2_score</th>\n",
       "      <th>train_precision_macro</th>\n",
       "      <th>train_recall_macro</th>\n",
       "    </tr>\n",
       "  </thead>\n",
       "  <tbody>\n",
       "    <tr>\n",
       "      <th>0</th>\n",
       "      <td>0.172937</td>\n",
       "      <td>0.234779</td>\n",
       "      <td>0.874008</td>\n",
       "      <td>0.440265</td>\n",
       "      <td>0.323129</td>\n",
       "      <td>0.485892</td>\n",
       "      <td>0.423580</td>\n",
       "      <td>0.980626</td>\n",
       "      <td>0.939174</td>\n",
       "      <td>0.911252</td>\n",
       "      <td>0.992782</td>\n",
       "      <td>0.895518</td>\n",
       "    </tr>\n",
       "    <tr>\n",
       "      <th>1</th>\n",
       "      <td>0.214584</td>\n",
       "      <td>0.243432</td>\n",
       "      <td>0.873883</td>\n",
       "      <td>0.454133</td>\n",
       "      <td>0.279720</td>\n",
       "      <td>0.565038</td>\n",
       "      <td>0.424211</td>\n",
       "      <td>0.982622</td>\n",
       "      <td>0.945574</td>\n",
       "      <td>0.937008</td>\n",
       "      <td>0.993508</td>\n",
       "      <td>0.906410</td>\n",
       "    </tr>\n",
       "    <tr>\n",
       "      <th>2</th>\n",
       "      <td>0.197103</td>\n",
       "      <td>0.299739</td>\n",
       "      <td>0.873757</td>\n",
       "      <td>0.443381</td>\n",
       "      <td>0.179211</td>\n",
       "      <td>0.538191</td>\n",
       "      <td>0.416479</td>\n",
       "      <td>0.981638</td>\n",
       "      <td>0.943187</td>\n",
       "      <td>0.911950</td>\n",
       "      <td>0.993144</td>\n",
       "      <td>0.901772</td>\n",
       "    </tr>\n",
       "  </tbody>\n",
       "</table>\n",
       "</div>"
      ],
      "text/plain": [
       "   fit_time  score_time  test_accuracy  test_f1_macro  test_f2_score  \\\n",
       "0  0.172937    0.234779       0.874008       0.440265       0.323129   \n",
       "1  0.214584    0.243432       0.873883       0.454133       0.279720   \n",
       "2  0.197103    0.299739       0.873757       0.443381       0.179211   \n",
       "\n",
       "   test_precision_macro  test_recall_macro  train_accuracy  train_f1_macro  \\\n",
       "0              0.485892           0.423580        0.980626        0.939174   \n",
       "1              0.565038           0.424211        0.982622        0.945574   \n",
       "2              0.538191           0.416479        0.981638        0.943187   \n",
       "\n",
       "   train_f2_score  train_precision_macro  train_recall_macro  \n",
       "0        0.911252               0.992782            0.895518  \n",
       "1        0.937008               0.993508            0.906410  \n",
       "2        0.911950               0.993144            0.901772  "
      ]
     },
     "execution_count": 174,
     "metadata": {},
     "output_type": "execute_result"
    }
   ],
   "source": [
    "from sklearn.linear_model import LogisticRegression\n",
    "\n",
    "lr_p = Pipeline([('vectorizer', CountVectorizer(lowercase=False, tokenizer=lambda x: x, vocabulary=vocab)),\n",
    "                 ('classifier', LogisticRegression())])\n",
    "lr_p.fit(train['review_doc'], train['score'])\n",
    "print_metrics(lr_p, train['review_doc'], train['score'])"
   ]
  },
  {
   "cell_type": "markdown",
   "metadata": {},
   "source": [
    "### SVM"
   ]
  },
  {
   "cell_type": "code",
   "execution_count": 14,
   "metadata": {},
   "outputs": [
    {
     "name": "stdout",
     "output_type": "stream",
     "text": [
      "[[   0    0  194]\n",
      " [   0    0  184]\n",
      " [   0    0 2643]]\n",
      "test_f2_score           0.000000\n",
      "train_accuracy          0.874876\n",
      "test_accuracy           0.874876\n",
      "test_f1_macro           0.311088\n",
      "test_precision_macro    0.291625\n",
      "test_recall_macro       0.333333\n",
      "dtype: float64\n"
     ]
    },
    {
     "data": {
      "text/html": [
       "<div>\n",
       "<style scoped>\n",
       "    .dataframe tbody tr th:only-of-type {\n",
       "        vertical-align: middle;\n",
       "    }\n",
       "\n",
       "    .dataframe tbody tr th {\n",
       "        vertical-align: top;\n",
       "    }\n",
       "\n",
       "    .dataframe thead th {\n",
       "        text-align: right;\n",
       "    }\n",
       "</style>\n",
       "<table border=\"1\" class=\"dataframe\">\n",
       "  <thead>\n",
       "    <tr style=\"text-align: right;\">\n",
       "      <th></th>\n",
       "      <th>fit_time</th>\n",
       "      <th>score_time</th>\n",
       "      <th>test_accuracy</th>\n",
       "      <th>test_f1_macro</th>\n",
       "      <th>test_f2_score</th>\n",
       "      <th>test_precision_macro</th>\n",
       "      <th>test_recall_macro</th>\n",
       "      <th>train_accuracy</th>\n",
       "      <th>train_f1_macro</th>\n",
       "      <th>train_f2_score</th>\n",
       "      <th>train_precision_macro</th>\n",
       "      <th>train_recall_macro</th>\n",
       "    </tr>\n",
       "  </thead>\n",
       "  <tbody>\n",
       "    <tr>\n",
       "      <th>0</th>\n",
       "      <td>0.388919</td>\n",
       "      <td>0.846454</td>\n",
       "      <td>0.874008</td>\n",
       "      <td>0.310923</td>\n",
       "      <td>0.0</td>\n",
       "      <td>0.291336</td>\n",
       "      <td>0.333333</td>\n",
       "      <td>0.875310</td>\n",
       "      <td>0.311170</td>\n",
       "      <td>0.0</td>\n",
       "      <td>0.291770</td>\n",
       "      <td>0.333333</td>\n",
       "    </tr>\n",
       "    <tr>\n",
       "      <th>1</th>\n",
       "      <td>0.398781</td>\n",
       "      <td>0.892271</td>\n",
       "      <td>0.874876</td>\n",
       "      <td>0.311088</td>\n",
       "      <td>0.0</td>\n",
       "      <td>0.291625</td>\n",
       "      <td>0.333333</td>\n",
       "      <td>0.874876</td>\n",
       "      <td>0.311088</td>\n",
       "      <td>0.0</td>\n",
       "      <td>0.291625</td>\n",
       "      <td>0.333333</td>\n",
       "    </tr>\n",
       "    <tr>\n",
       "      <th>2</th>\n",
       "      <td>0.404449</td>\n",
       "      <td>0.909296</td>\n",
       "      <td>0.875746</td>\n",
       "      <td>0.311252</td>\n",
       "      <td>0.0</td>\n",
       "      <td>0.291915</td>\n",
       "      <td>0.333333</td>\n",
       "      <td>0.874442</td>\n",
       "      <td>0.311005</td>\n",
       "      <td>0.0</td>\n",
       "      <td>0.291481</td>\n",
       "      <td>0.333333</td>\n",
       "    </tr>\n",
       "  </tbody>\n",
       "</table>\n",
       "</div>"
      ],
      "text/plain": [
       "   fit_time  score_time  test_accuracy  test_f1_macro  test_f2_score  \\\n",
       "0  0.388919    0.846454       0.874008       0.310923            0.0   \n",
       "1  0.398781    0.892271       0.874876       0.311088            0.0   \n",
       "2  0.404449    0.909296       0.875746       0.311252            0.0   \n",
       "\n",
       "   test_precision_macro  test_recall_macro  train_accuracy  train_f1_macro  \\\n",
       "0              0.291336           0.333333        0.875310        0.311170   \n",
       "1              0.291625           0.333333        0.874876        0.311088   \n",
       "2              0.291915           0.333333        0.874442        0.311005   \n",
       "\n",
       "   train_f2_score  train_precision_macro  train_recall_macro  \n",
       "0             0.0               0.291770            0.333333  \n",
       "1             0.0               0.291625            0.333333  \n",
       "2             0.0               0.291481            0.333333  "
      ]
     },
     "execution_count": 14,
     "metadata": {},
     "output_type": "execute_result"
    }
   ],
   "source": [
    "from sklearn.svm import SVC\n",
    "\n",
    "svm_p = Pipeline([('vectorizer', TfidfVectorizer(lowercase=False, tokenizer=lambda x: x, vocabulary=vocab)),\n",
    "                 ('classifier', SVC())])\n",
    "svm_p.fit(train['review_doc'], train['score'])\n",
    "print_metrics(svm_p, train['review_doc'], train['score'])"
   ]
  },
  {
   "cell_type": "markdown",
   "metadata": {},
   "source": [
    "###  Tonal dictionary classifier"
   ]
  },
  {
   "cell_type": "markdown",
   "metadata": {},
   "source": [
    "loading tonal dict"
   ]
  },
  {
   "cell_type": "code",
   "execution_count": 15,
   "metadata": {},
   "outputs": [],
   "source": [
    "tonal_dict = {}\n",
    "with open('tone-dict-uk.tsv') as f:\n",
    "    for line in f.readlines():\n",
    "        word, ts = line.strip().split('\\t')\n",
    "        tonal_dict[UkrainianStemmer(word.lower()).stem_word()] = int(ts)"
   ]
  },
  {
   "cell_type": "code",
   "execution_count": 16,
   "metadata": {},
   "outputs": [],
   "source": [
    "class TonalClassifier(BaseEstimator, ClassifierMixin):\n",
    "    \n",
    "    def __init__(self, vocab, tonal_dict):\n",
    "        self.vocab = vocab\n",
    "        self.tonal_dict = tonal_dict\n",
    "        self.ivocab = np.zeros((len(vocab),))\n",
    "        for w,i in vocab.items():\n",
    "            self.ivocab[i] = tonal_dict.get(w, np.nan)\n",
    "            \n",
    "    def get_params(self, deep):\n",
    "        return {'vocab': self.vocab, 'tonal_dict': self.tonal_dict}\n",
    "    \n",
    "    def set_params(self, **params):\n",
    "        self.vocab = params['vocab']\n",
    "        self.tonal_dict = params['tonal_dict']\n",
    "        \n",
    "    def fit(self, X, y=None):\n",
    "        return self\n",
    "    \n",
    "    def predict(self, X):\n",
    "        res = np.zeros((X.shape[0],))\n",
    "        for i in range(res.shape[0]):\n",
    "            Xi = X[i, :]\n",
    "            scores = self.ivocab[Xi.nonzero()[1]]\n",
    "            if all(np.isnan(scores)):\n",
    "                res[i] = 0\n",
    "            else:\n",
    "                res[i] = np.nanmean(scores)\n",
    "        return np.digitize(res, [-2+4/3,-2+2*4/3])\n",
    "    \n",
    "    def score(self, X, y):\n",
    "        pred = self.predict(X)\n",
    "        matches = pred == y\n",
    "        return np.sum(matches)/len(pred)"
   ]
  },
  {
   "cell_type": "code",
   "execution_count": 17,
   "metadata": {
    "scrolled": true
   },
   "outputs": [
    {
     "name": "stdout",
     "output_type": "stream",
     "text": [
      "[[  39  119   36]\n",
      " [  27  106   51]\n",
      " [ 188 1250 1205]]\n",
      "test_f2_score           0.189515\n",
      "train_accuracy          0.446869\n",
      "test_accuracy           0.446858\n",
      "test_f1_macro           0.304932\n",
      "test_precision_macro    0.386284\n",
      "test_recall_macro       0.410923\n",
      "dtype: float64\n"
     ]
    },
    {
     "data": {
      "text/html": [
       "<div>\n",
       "<style scoped>\n",
       "    .dataframe tbody tr th:only-of-type {\n",
       "        vertical-align: middle;\n",
       "    }\n",
       "\n",
       "    .dataframe tbody tr th {\n",
       "        vertical-align: top;\n",
       "    }\n",
       "\n",
       "    .dataframe thead th {\n",
       "        text-align: right;\n",
       "    }\n",
       "</style>\n",
       "<table border=\"1\" class=\"dataframe\">\n",
       "  <thead>\n",
       "    <tr style=\"text-align: right;\">\n",
       "      <th></th>\n",
       "      <th>fit_time</th>\n",
       "      <th>score_time</th>\n",
       "      <th>test_accuracy</th>\n",
       "      <th>test_f1_macro</th>\n",
       "      <th>test_f2_score</th>\n",
       "      <th>test_precision_macro</th>\n",
       "      <th>test_recall_macro</th>\n",
       "      <th>train_accuracy</th>\n",
       "      <th>train_f1_macro</th>\n",
       "      <th>train_f2_score</th>\n",
       "      <th>train_precision_macro</th>\n",
       "      <th>train_recall_macro</th>\n",
       "    </tr>\n",
       "  </thead>\n",
       "  <tbody>\n",
       "    <tr>\n",
       "      <th>0</th>\n",
       "      <td>0.092633</td>\n",
       "      <td>1.452812</td>\n",
       "      <td>0.476190</td>\n",
       "      <td>0.333361</td>\n",
       "      <td>0.234604</td>\n",
       "      <td>0.407310</td>\n",
       "      <td>0.447533</td>\n",
       "      <td>0.432191</td>\n",
       "      <td>0.290726</td>\n",
       "      <td>0.166909</td>\n",
       "      <td>0.375765</td>\n",
       "      <td>0.392594</td>\n",
       "    </tr>\n",
       "    <tr>\n",
       "      <th>1</th>\n",
       "      <td>0.105150</td>\n",
       "      <td>1.319849</td>\n",
       "      <td>0.428997</td>\n",
       "      <td>0.288694</td>\n",
       "      <td>0.158501</td>\n",
       "      <td>0.375145</td>\n",
       "      <td>0.398799</td>\n",
       "      <td>0.455809</td>\n",
       "      <td>0.312908</td>\n",
       "      <td>0.204978</td>\n",
       "      <td>0.391612</td>\n",
       "      <td>0.417180</td>\n",
       "    </tr>\n",
       "    <tr>\n",
       "      <th>2</th>\n",
       "      <td>0.088515</td>\n",
       "      <td>1.723959</td>\n",
       "      <td>0.435388</td>\n",
       "      <td>0.292741</td>\n",
       "      <td>0.175439</td>\n",
       "      <td>0.376398</td>\n",
       "      <td>0.386436</td>\n",
       "      <td>0.452605</td>\n",
       "      <td>0.310822</td>\n",
       "      <td>0.196221</td>\n",
       "      <td>0.390879</td>\n",
       "      <td>0.423197</td>\n",
       "    </tr>\n",
       "  </tbody>\n",
       "</table>\n",
       "</div>"
      ],
      "text/plain": [
       "   fit_time  score_time  test_accuracy  test_f1_macro  test_f2_score  \\\n",
       "0  0.092633    1.452812       0.476190       0.333361       0.234604   \n",
       "1  0.105150    1.319849       0.428997       0.288694       0.158501   \n",
       "2  0.088515    1.723959       0.435388       0.292741       0.175439   \n",
       "\n",
       "   test_precision_macro  test_recall_macro  train_accuracy  train_f1_macro  \\\n",
       "0              0.407310           0.447533        0.432191        0.290726   \n",
       "1              0.375145           0.398799        0.455809        0.312908   \n",
       "2              0.376398           0.386436        0.452605        0.310822   \n",
       "\n",
       "   train_f2_score  train_precision_macro  train_recall_macro  \n",
       "0        0.166909               0.375765            0.392594  \n",
       "1        0.204978               0.391612            0.417180  \n",
       "2        0.196221               0.390879            0.423197  "
      ]
     },
     "execution_count": 17,
     "metadata": {},
     "output_type": "execute_result"
    }
   ],
   "source": [
    "tonal_p = Pipeline([('vectorizer', CountVectorizer(lowercase=False, tokenizer=lambda x: x, vocabulary=vocab)),\n",
    "              ('classifier', TonalClassifier(vocab, tonal_dict))])\n",
    "tonal_p.fit(train['review_doc'], train['score'])\n",
    "print_metrics(tonal_p, train['review_doc'], train['score'])"
   ]
  },
  {
   "cell_type": "markdown",
   "metadata": {},
   "source": [
    "We see that classifier that uses only tonal date is pretty low behind the baseline. Let's try an ensemble of this two classifiers"
   ]
  },
  {
   "cell_type": "markdown",
   "metadata": {},
   "source": [
    "### Ensemble"
   ]
  },
  {
   "cell_type": "code",
   "execution_count": 211,
   "metadata": {
    "scrolled": false
   },
   "outputs": [
    {
     "name": "stdout",
     "output_type": "stream",
     "text": [
      "[[ 140    0   54]\n",
      " [  20   82   82]\n",
      " [   0    0 2643]]\n",
      "test_f2_score           0.265577\n",
      "train_accuracy          0.950843\n",
      "test_accuracy           0.875538\n",
      "test_f1_macro           0.441277\n",
      "test_precision_macro    0.536589\n",
      "test_recall_macro       0.418631\n",
      "dtype: float64\n"
     ]
    },
    {
     "data": {
      "text/html": [
       "<div>\n",
       "<style scoped>\n",
       "    .dataframe tbody tr th:only-of-type {\n",
       "        vertical-align: middle;\n",
       "    }\n",
       "\n",
       "    .dataframe tbody tr th {\n",
       "        vertical-align: top;\n",
       "    }\n",
       "\n",
       "    .dataframe thead th {\n",
       "        text-align: right;\n",
       "    }\n",
       "</style>\n",
       "<table border=\"1\" class=\"dataframe\">\n",
       "  <thead>\n",
       "    <tr style=\"text-align: right;\">\n",
       "      <th></th>\n",
       "      <th>fit_time</th>\n",
       "      <th>score_time</th>\n",
       "      <th>test_accuracy</th>\n",
       "      <th>test_f1_macro</th>\n",
       "      <th>test_f2_score</th>\n",
       "      <th>test_precision_macro</th>\n",
       "      <th>test_recall_macro</th>\n",
       "      <th>train_accuracy</th>\n",
       "      <th>train_f1_macro</th>\n",
       "      <th>train_f2_score</th>\n",
       "      <th>train_precision_macro</th>\n",
       "      <th>train_recall_macro</th>\n",
       "    </tr>\n",
       "  </thead>\n",
       "  <tbody>\n",
       "    <tr>\n",
       "      <th>0</th>\n",
       "      <td>0.615886</td>\n",
       "      <td>1.796739</td>\n",
       "      <td>0.877976</td>\n",
       "      <td>0.445890</td>\n",
       "      <td>0.338983</td>\n",
       "      <td>0.489577</td>\n",
       "      <td>0.429844</td>\n",
       "      <td>0.948833</td>\n",
       "      <td>0.796672</td>\n",
       "      <td>0.732689</td>\n",
       "      <td>0.939528</td>\n",
       "      <td>0.724213</td>\n",
       "    </tr>\n",
       "    <tr>\n",
       "      <th>1</th>\n",
       "      <td>0.626597</td>\n",
       "      <td>1.840964</td>\n",
       "      <td>0.870904</td>\n",
       "      <td>0.425859</td>\n",
       "      <td>0.228873</td>\n",
       "      <td>0.528058</td>\n",
       "      <td>0.403740</td>\n",
       "      <td>0.950844</td>\n",
       "      <td>0.802175</td>\n",
       "      <td>0.756369</td>\n",
       "      <td>0.934582</td>\n",
       "      <td>0.735993</td>\n",
       "    </tr>\n",
       "    <tr>\n",
       "      <th>2</th>\n",
       "      <td>0.623388</td>\n",
       "      <td>1.834706</td>\n",
       "      <td>0.877734</td>\n",
       "      <td>0.452083</td>\n",
       "      <td>0.228873</td>\n",
       "      <td>0.592133</td>\n",
       "      <td>0.422310</td>\n",
       "      <td>0.952854</td>\n",
       "      <td>0.818296</td>\n",
       "      <td>0.772293</td>\n",
       "      <td>0.950881</td>\n",
       "      <td>0.747363</td>\n",
       "    </tr>\n",
       "  </tbody>\n",
       "</table>\n",
       "</div>"
      ],
      "text/plain": [
       "   fit_time  score_time  test_accuracy  test_f1_macro  test_f2_score  \\\n",
       "0  0.615886    1.796739       0.877976       0.445890       0.338983   \n",
       "1  0.626597    1.840964       0.870904       0.425859       0.228873   \n",
       "2  0.623388    1.834706       0.877734       0.452083       0.228873   \n",
       "\n",
       "   test_precision_macro  test_recall_macro  train_accuracy  train_f1_macro  \\\n",
       "0              0.489577           0.429844        0.948833        0.796672   \n",
       "1              0.528058           0.403740        0.950844        0.802175   \n",
       "2              0.592133           0.422310        0.952854        0.818296   \n",
       "\n",
       "   train_f2_score  train_precision_macro  train_recall_macro  \n",
       "0        0.732689               0.939528            0.724213  \n",
       "1        0.756369               0.934582            0.735993  \n",
       "2        0.772293               0.950881            0.747363  "
      ]
     },
     "execution_count": 211,
     "metadata": {},
     "output_type": "execute_result"
    }
   ],
   "source": [
    "from sklearn.ensemble import VotingClassifier\n",
    "\n",
    "vcl = VotingClassifier([('nb', nb_p),('tonal', tonal_p), ('lr', lr_p)])\n",
    "vcl.fit(train['review_doc'], train['score'])\n",
    "print_metrics(vcl, train['review_doc'], train['score'])"
   ]
  },
  {
   "cell_type": "markdown",
   "metadata": {},
   "source": [
    "We see that ansamble with majority voting has lower performance then pure svm"
   ]
  },
  {
   "cell_type": "markdown",
   "metadata": {},
   "source": [
    "## Upsampled data\n",
    "We see that it's really hard to beat the baseline with such skewed dataset, so let's upsample it"
   ]
  },
  {
   "cell_type": "code",
   "execution_count": 198,
   "metadata": {},
   "outputs": [
    {
     "data": {
      "text/plain": [
       "<matplotlib.axes._subplots.AxesSubplot at 0x1869d6cf8>"
      ]
     },
     "execution_count": 198,
     "metadata": {},
     "output_type": "execute_result"
    },
    {
     "data": {
      "image/png": "[encoded data removed]",
      "text/plain": [
       "<Figure size 432x288 with 1 Axes>"
      ]
     },
     "metadata": {},
     "output_type": "display_data"
    }
   ],
   "source": [
    "train2 = train.copy()\n",
    "max_count = np.max(train2['score'].value_counts())\n",
    "addition = []\n",
    "for cat in range(3):\n",
    "    train2_cat = train2[train2['score'] == cat]\n",
    "    diff = max_count - len(train2_cat)\n",
    "    addition.append(train2_cat.sample(n=diff, replace=True))\n",
    "train2 = train2.append(addition, ignore_index=True).reset_index()\n",
    "train2 = train2.sample(len(train2))\n",
    "train2['score'].value_counts().plot('bar')"
   ]
  },
  {
   "cell_type": "markdown",
   "metadata": {},
   "source": [
    "### Naive Bayes"
   ]
  },
  {
   "cell_type": "code",
   "execution_count": 212,
   "metadata": {
    "scrolled": false
   },
   "outputs": [
    {
     "name": "stdout",
     "output_type": "stream",
     "text": [
      "[[2616   27    0]\n",
      " [  19 2564   60]\n",
      " [  96  181 2366]]\n",
      "test_f2_score           0.974241\n",
      "train_accuracy          0.949489\n",
      "test_accuracy           0.912852\n",
      "test_f1_macro           0.910893\n",
      "test_precision_macro    0.918082\n",
      "test_recall_macro       0.912852\n",
      "dtype: float64\n"
     ]
    },
    {
     "data": {
      "text/html": [
       "<div>\n",
       "<style scoped>\n",
       "    .dataframe tbody tr th:only-of-type {\n",
       "        vertical-align: middle;\n",
       "    }\n",
       "\n",
       "    .dataframe tbody tr th {\n",
       "        vertical-align: top;\n",
       "    }\n",
       "\n",
       "    .dataframe thead th {\n",
       "        text-align: right;\n",
       "    }\n",
       "</style>\n",
       "<table border=\"1\" class=\"dataframe\">\n",
       "  <thead>\n",
       "    <tr style=\"text-align: right;\">\n",
       "      <th></th>\n",
       "      <th>fit_time</th>\n",
       "      <th>score_time</th>\n",
       "      <th>test_accuracy</th>\n",
       "      <th>test_f1_macro</th>\n",
       "      <th>test_f2_score</th>\n",
       "      <th>test_precision_macro</th>\n",
       "      <th>test_recall_macro</th>\n",
       "      <th>train_accuracy</th>\n",
       "      <th>train_f1_macro</th>\n",
       "      <th>train_f2_score</th>\n",
       "      <th>train_precision_macro</th>\n",
       "      <th>train_recall_macro</th>\n",
       "    </tr>\n",
       "  </thead>\n",
       "  <tbody>\n",
       "    <tr>\n",
       "      <th>0</th>\n",
       "      <td>0.308713</td>\n",
       "      <td>0.711216</td>\n",
       "      <td>0.925463</td>\n",
       "      <td>0.923966</td>\n",
       "      <td>0.982743</td>\n",
       "      <td>0.930023</td>\n",
       "      <td>0.925463</td>\n",
       "      <td>0.948922</td>\n",
       "      <td>0.948481</td>\n",
       "      <td>0.984900</td>\n",
       "      <td>0.950037</td>\n",
       "      <td>0.948922</td>\n",
       "    </tr>\n",
       "    <tr>\n",
       "      <th>1</th>\n",
       "      <td>0.281950</td>\n",
       "      <td>0.763837</td>\n",
       "      <td>0.898222</td>\n",
       "      <td>0.895795</td>\n",
       "      <td>0.963303</td>\n",
       "      <td>0.903691</td>\n",
       "      <td>0.898222</td>\n",
       "      <td>0.950435</td>\n",
       "      <td>0.950018</td>\n",
       "      <td>0.984225</td>\n",
       "      <td>0.951443</td>\n",
       "      <td>0.950435</td>\n",
       "    </tr>\n",
       "    <tr>\n",
       "      <th>2</th>\n",
       "      <td>0.390373</td>\n",
       "      <td>0.674495</td>\n",
       "      <td>0.914869</td>\n",
       "      <td>0.912919</td>\n",
       "      <td>0.976676</td>\n",
       "      <td>0.920531</td>\n",
       "      <td>0.914869</td>\n",
       "      <td>0.949111</td>\n",
       "      <td>0.948696</td>\n",
       "      <td>0.981882</td>\n",
       "      <td>0.950264</td>\n",
       "      <td>0.949111</td>\n",
       "    </tr>\n",
       "  </tbody>\n",
       "</table>\n",
       "</div>"
      ],
      "text/plain": [
       "   fit_time  score_time  test_accuracy  test_f1_macro  test_f2_score  \\\n",
       "0  0.308713    0.711216       0.925463       0.923966       0.982743   \n",
       "1  0.281950    0.763837       0.898222       0.895795       0.963303   \n",
       "2  0.390373    0.674495       0.914869       0.912919       0.976676   \n",
       "\n",
       "   test_precision_macro  test_recall_macro  train_accuracy  train_f1_macro  \\\n",
       "0              0.930023           0.925463        0.948922        0.948481   \n",
       "1              0.903691           0.898222        0.950435        0.950018   \n",
       "2              0.920531           0.914869        0.949111        0.948696   \n",
       "\n",
       "   train_f2_score  train_precision_macro  train_recall_macro  \n",
       "0        0.984900               0.950037            0.948922  \n",
       "1        0.984225               0.951443            0.950435  \n",
       "2        0.981882               0.950264            0.949111  "
      ]
     },
     "execution_count": 212,
     "metadata": {},
     "output_type": "execute_result"
    }
   ],
   "source": [
    "nb_p = Pipeline([('vectorizer', TfidfVectorizer(lowercase=False, tokenizer=lambda x: x, vocabulary=vocab)),\n",
    "               ('classifier', MultinomialNB())])\n",
    "nb_p.fit(train2['review_doc'], train2['score'])\n",
    "print_metrics(nb_p, train2['review_doc'], train2['score'])"
   ]
  },
  {
   "cell_type": "markdown",
   "metadata": {},
   "source": [
    "### Logistic Regression"
   ]
  },
  {
   "cell_type": "code",
   "execution_count": 21,
   "metadata": {
    "scrolled": true
   },
   "outputs": [
    {
     "name": "stdout",
     "output_type": "stream",
     "text": [
      "[[2643    0    0]\n",
      " [   0 2599   44]\n",
      " [  52   68 2523]]\n",
      "test_f2_score           0.991076\n",
      "train_accuracy          0.977362\n",
      "test_accuracy           0.959137\n",
      "test_f1_macro           0.958652\n",
      "test_precision_macro    0.959998\n",
      "test_recall_macro       0.959137\n",
      "dtype: float64\n"
     ]
    },
    {
     "data": {
      "text/html": [
       "<div>\n",
       "<style scoped>\n",
       "    .dataframe tbody tr th:only-of-type {\n",
       "        vertical-align: middle;\n",
       "    }\n",
       "\n",
       "    .dataframe tbody tr th {\n",
       "        vertical-align: top;\n",
       "    }\n",
       "\n",
       "    .dataframe thead th {\n",
       "        text-align: right;\n",
       "    }\n",
       "</style>\n",
       "<table border=\"1\" class=\"dataframe\">\n",
       "  <thead>\n",
       "    <tr style=\"text-align: right;\">\n",
       "      <th></th>\n",
       "      <th>fit_time</th>\n",
       "      <th>score_time</th>\n",
       "      <th>test_accuracy</th>\n",
       "      <th>test_f1_macro</th>\n",
       "      <th>test_f2_score</th>\n",
       "      <th>test_precision_macro</th>\n",
       "      <th>test_recall_macro</th>\n",
       "      <th>train_accuracy</th>\n",
       "      <th>train_f1_macro</th>\n",
       "      <th>train_f2_score</th>\n",
       "      <th>train_precision_macro</th>\n",
       "      <th>train_recall_macro</th>\n",
       "    </tr>\n",
       "  </thead>\n",
       "  <tbody>\n",
       "    <tr>\n",
       "      <th>0</th>\n",
       "      <td>0.351063</td>\n",
       "      <td>0.665142</td>\n",
       "      <td>0.959894</td>\n",
       "      <td>0.959364</td>\n",
       "      <td>0.989665</td>\n",
       "      <td>0.961005</td>\n",
       "      <td>0.959894</td>\n",
       "      <td>0.979190</td>\n",
       "      <td>0.979080</td>\n",
       "      <td>0.995818</td>\n",
       "      <td>0.979362</td>\n",
       "      <td>0.979190</td>\n",
       "    </tr>\n",
       "    <tr>\n",
       "      <th>1</th>\n",
       "      <td>0.331430</td>\n",
       "      <td>0.645484</td>\n",
       "      <td>0.958381</td>\n",
       "      <td>0.957857</td>\n",
       "      <td>0.991894</td>\n",
       "      <td>0.959498</td>\n",
       "      <td>0.958381</td>\n",
       "      <td>0.976163</td>\n",
       "      <td>0.976051</td>\n",
       "      <td>0.995030</td>\n",
       "      <td>0.976200</td>\n",
       "      <td>0.976163</td>\n",
       "    </tr>\n",
       "    <tr>\n",
       "      <th>2</th>\n",
       "      <td>0.330893</td>\n",
       "      <td>0.678880</td>\n",
       "      <td>0.959137</td>\n",
       "      <td>0.958734</td>\n",
       "      <td>0.991670</td>\n",
       "      <td>0.959490</td>\n",
       "      <td>0.959137</td>\n",
       "      <td>0.976731</td>\n",
       "      <td>0.976621</td>\n",
       "      <td>0.995930</td>\n",
       "      <td>0.976792</td>\n",
       "      <td>0.976731</td>\n",
       "    </tr>\n",
       "  </tbody>\n",
       "</table>\n",
       "</div>"
      ],
      "text/plain": [
       "   fit_time  score_time  test_accuracy  test_f1_macro  test_f2_score  \\\n",
       "0  0.351063    0.665142       0.959894       0.959364       0.989665   \n",
       "1  0.331430    0.645484       0.958381       0.957857       0.991894   \n",
       "2  0.330893    0.678880       0.959137       0.958734       0.991670   \n",
       "\n",
       "   test_precision_macro  test_recall_macro  train_accuracy  train_f1_macro  \\\n",
       "0              0.961005           0.959894        0.979190        0.979080   \n",
       "1              0.959498           0.958381        0.976163        0.976051   \n",
       "2              0.959490           0.959137        0.976731        0.976621   \n",
       "\n",
       "   train_f2_score  train_precision_macro  train_recall_macro  \n",
       "0        0.995818               0.979362            0.979190  \n",
       "1        0.995030               0.976200            0.976163  \n",
       "2        0.995930               0.976792            0.976731  "
      ]
     },
     "execution_count": 21,
     "metadata": {},
     "output_type": "execute_result"
    }
   ],
   "source": [
    "lr_p = Pipeline([('vectorizer', TfidfVectorizer(lowercase=False, tokenizer=lambda x: x, vocabulary=vocab)),\n",
    "                 ('classifier', LogisticRegression())])\n",
    "lr_p.fit(train2['review_doc'], train2['score'])\n",
    "print_metrics(lr_p, train2['review_doc'], train2['score'])"
   ]
  },
  {
   "cell_type": "markdown",
   "metadata": {},
   "source": [
    "### SVM"
   ]
  },
  {
   "cell_type": "code",
   "execution_count": 22,
   "metadata": {},
   "outputs": [
    {
     "name": "stdout",
     "output_type": "stream",
     "text": [
      "[[2473  120   50]\n",
      " [ 328 2001  314]\n",
      " [ 413  463 1767]]\n",
      "test_f2_score           0.886762\n",
      "train_accuracy          0.787930\n",
      "test_accuracy           0.767814\n",
      "test_f1_macro           0.763624\n",
      "test_precision_macro    0.775935\n",
      "test_recall_macro       0.767814\n",
      "dtype: float64\n"
     ]
    },
    {
     "data": {
      "text/html": [
       "<div>\n",
       "<style scoped>\n",
       "    .dataframe tbody tr th:only-of-type {\n",
       "        vertical-align: middle;\n",
       "    }\n",
       "\n",
       "    .dataframe tbody tr th {\n",
       "        vertical-align: top;\n",
       "    }\n",
       "\n",
       "    .dataframe thead th {\n",
       "        text-align: right;\n",
       "    }\n",
       "</style>\n",
       "<table border=\"1\" class=\"dataframe\">\n",
       "  <thead>\n",
       "    <tr style=\"text-align: right;\">\n",
       "      <th></th>\n",
       "      <th>fit_time</th>\n",
       "      <th>score_time</th>\n",
       "      <th>test_accuracy</th>\n",
       "      <th>test_f1_macro</th>\n",
       "      <th>test_f2_score</th>\n",
       "      <th>test_precision_macro</th>\n",
       "      <th>test_recall_macro</th>\n",
       "      <th>train_accuracy</th>\n",
       "      <th>train_f1_macro</th>\n",
       "      <th>train_f2_score</th>\n",
       "      <th>train_precision_macro</th>\n",
       "      <th>train_recall_macro</th>\n",
       "    </tr>\n",
       "  </thead>\n",
       "  <tbody>\n",
       "    <tr>\n",
       "      <th>0</th>\n",
       "      <td>10.071059</td>\n",
       "      <td>19.903057</td>\n",
       "      <td>0.770337</td>\n",
       "      <td>0.767357</td>\n",
       "      <td>0.881319</td>\n",
       "      <td>0.771479</td>\n",
       "      <td>0.770337</td>\n",
       "      <td>0.788876</td>\n",
       "      <td>0.785078</td>\n",
       "      <td>0.904799</td>\n",
       "      <td>0.790939</td>\n",
       "      <td>0.788876</td>\n",
       "    </tr>\n",
       "    <tr>\n",
       "      <th>1</th>\n",
       "      <td>10.098417</td>\n",
       "      <td>19.975930</td>\n",
       "      <td>0.792660</td>\n",
       "      <td>0.788843</td>\n",
       "      <td>0.903784</td>\n",
       "      <td>0.798645</td>\n",
       "      <td>0.792660</td>\n",
       "      <td>0.803632</td>\n",
       "      <td>0.800736</td>\n",
       "      <td>0.903719</td>\n",
       "      <td>0.808637</td>\n",
       "      <td>0.803632</td>\n",
       "    </tr>\n",
       "    <tr>\n",
       "      <th>2</th>\n",
       "      <td>10.868719</td>\n",
       "      <td>20.957245</td>\n",
       "      <td>0.740446</td>\n",
       "      <td>0.734673</td>\n",
       "      <td>0.875184</td>\n",
       "      <td>0.757680</td>\n",
       "      <td>0.740446</td>\n",
       "      <td>0.771283</td>\n",
       "      <td>0.766956</td>\n",
       "      <td>0.889822</td>\n",
       "      <td>0.786226</td>\n",
       "      <td>0.771283</td>\n",
       "    </tr>\n",
       "  </tbody>\n",
       "</table>\n",
       "</div>"
      ],
      "text/plain": [
       "    fit_time  score_time  test_accuracy  test_f1_macro  test_f2_score  \\\n",
       "0  10.071059   19.903057       0.770337       0.767357       0.881319   \n",
       "1  10.098417   19.975930       0.792660       0.788843       0.903784   \n",
       "2  10.868719   20.957245       0.740446       0.734673       0.875184   \n",
       "\n",
       "   test_precision_macro  test_recall_macro  train_accuracy  train_f1_macro  \\\n",
       "0              0.771479           0.770337        0.788876        0.785078   \n",
       "1              0.798645           0.792660        0.803632        0.800736   \n",
       "2              0.757680           0.740446        0.771283        0.766956   \n",
       "\n",
       "   train_f2_score  train_precision_macro  train_recall_macro  \n",
       "0        0.904799               0.790939            0.788876  \n",
       "1        0.903719               0.808637            0.803632  \n",
       "2        0.889822               0.786226            0.771283  "
      ]
     },
     "execution_count": 22,
     "metadata": {},
     "output_type": "execute_result"
    }
   ],
   "source": [
    "from sklearn.svm import SVC\n",
    "\n",
    "svm_p = Pipeline([('vectorizer', TfidfVectorizer(lowercase=False, tokenizer=lambda x: x, vocabulary=vocab)),\n",
    "                 ('classifier', SVC())])\n",
    "svm_p.fit(train2['review_doc'], train2['score'])\n",
    "print_metrics(svm_p, train2['review_doc'], train2['score'])"
   ]
  },
  {
   "cell_type": "markdown",
   "metadata": {},
   "source": [
    "### Ensemble"
   ]
  },
  {
   "cell_type": "code",
   "execution_count": 213,
   "metadata": {
    "scrolled": true
   },
   "outputs": [
    {
     "name": "stdout",
     "output_type": "stream",
     "text": [
      "[[2625   18    0]\n",
      " [   0 2589   54]\n",
      " [ 101  115 2427]]\n",
      "test_f2_score           0.979337\n",
      "train_accuracy          0.961660\n",
      "test_accuracy           0.926599\n",
      "test_f1_macro           0.924961\n",
      "test_precision_macro    0.930502\n",
      "test_recall_macro       0.926599\n",
      "dtype: float64\n"
     ]
    },
    {
     "data": {
      "text/html": [
       "<div>\n",
       "<style scoped>\n",
       "    .dataframe tbody tr th:only-of-type {\n",
       "        vertical-align: middle;\n",
       "    }\n",
       "\n",
       "    .dataframe tbody tr th {\n",
       "        vertical-align: top;\n",
       "    }\n",
       "\n",
       "    .dataframe thead th {\n",
       "        text-align: right;\n",
       "    }\n",
       "</style>\n",
       "<table border=\"1\" class=\"dataframe\">\n",
       "  <thead>\n",
       "    <tr style=\"text-align: right;\">\n",
       "      <th></th>\n",
       "      <th>fit_time</th>\n",
       "      <th>score_time</th>\n",
       "      <th>test_accuracy</th>\n",
       "      <th>test_f1_macro</th>\n",
       "      <th>test_f2_score</th>\n",
       "      <th>test_precision_macro</th>\n",
       "      <th>test_recall_macro</th>\n",
       "      <th>train_accuracy</th>\n",
       "      <th>train_f1_macro</th>\n",
       "      <th>train_f2_score</th>\n",
       "      <th>train_precision_macro</th>\n",
       "      <th>train_recall_macro</th>\n",
       "    </tr>\n",
       "  </thead>\n",
       "  <tbody>\n",
       "    <tr>\n",
       "      <th>0</th>\n",
       "      <td>1.479942</td>\n",
       "      <td>5.144753</td>\n",
       "      <td>0.933409</td>\n",
       "      <td>0.931944</td>\n",
       "      <td>0.982083</td>\n",
       "      <td>0.936833</td>\n",
       "      <td>0.933409</td>\n",
       "      <td>0.960083</td>\n",
       "      <td>0.959807</td>\n",
       "      <td>0.985455</td>\n",
       "      <td>0.960472</td>\n",
       "      <td>0.960083</td>\n",
       "    </tr>\n",
       "    <tr>\n",
       "      <th>1</th>\n",
       "      <td>1.496621</td>\n",
       "      <td>4.971172</td>\n",
       "      <td>0.917518</td>\n",
       "      <td>0.915657</td>\n",
       "      <td>0.974084</td>\n",
       "      <td>0.921928</td>\n",
       "      <td>0.917518</td>\n",
       "      <td>0.963867</td>\n",
       "      <td>0.963603</td>\n",
       "      <td>0.988385</td>\n",
       "      <td>0.964393</td>\n",
       "      <td>0.963867</td>\n",
       "    </tr>\n",
       "    <tr>\n",
       "      <th>2</th>\n",
       "      <td>1.576440</td>\n",
       "      <td>6.738988</td>\n",
       "      <td>0.928869</td>\n",
       "      <td>0.927282</td>\n",
       "      <td>0.981843</td>\n",
       "      <td>0.932745</td>\n",
       "      <td>0.928869</td>\n",
       "      <td>0.961029</td>\n",
       "      <td>0.960725</td>\n",
       "      <td>0.985241</td>\n",
       "      <td>0.961588</td>\n",
       "      <td>0.961029</td>\n",
       "    </tr>\n",
       "  </tbody>\n",
       "</table>\n",
       "</div>"
      ],
      "text/plain": [
       "   fit_time  score_time  test_accuracy  test_f1_macro  test_f2_score  \\\n",
       "0  1.479942    5.144753       0.933409       0.931944       0.982083   \n",
       "1  1.496621    4.971172       0.917518       0.915657       0.974084   \n",
       "2  1.576440    6.738988       0.928869       0.927282       0.981843   \n",
       "\n",
       "   test_precision_macro  test_recall_macro  train_accuracy  train_f1_macro  \\\n",
       "0              0.936833           0.933409        0.960083        0.959807   \n",
       "1              0.921928           0.917518        0.963867        0.963603   \n",
       "2              0.932745           0.928869        0.961029        0.960725   \n",
       "\n",
       "   train_f2_score  train_precision_macro  train_recall_macro  \n",
       "0        0.985455               0.960472            0.960083  \n",
       "1        0.988385               0.964393            0.963867  \n",
       "2        0.985241               0.961588            0.961029  "
      ]
     },
     "execution_count": 213,
     "metadata": {},
     "output_type": "execute_result"
    }
   ],
   "source": [
    "from sklearn.ensemble import VotingClassifier\n",
    "\n",
    "vcl = VotingClassifier([('nb', nb_p),('tonal', tonal_p), ('lr', lr_p)])\n",
    "vcl.fit(train2['review_doc'], train2['score'])\n",
    "print_metrics(vcl, train2['review_doc'], train2['score'])"
   ]
  },
  {
   "cell_type": "markdown",
   "metadata": {},
   "source": [
    "We see that results improved, especially Logistic Regression have the best f1"
   ]
  },
  {
   "cell_type": "markdown",
   "metadata": {},
   "source": [
    "## Downsampled data"
   ]
  },
  {
   "cell_type": "code",
   "execution_count": 24,
   "metadata": {
    "scrolled": true
   },
   "outputs": [
    {
     "data": {
      "text/plain": [
       "<matplotlib.axes._subplots.AxesSubplot at 0x138bc48d0>"
      ]
     },
     "execution_count": 24,
     "metadata": {},
     "output_type": "execute_result"
    },
    {
     "data": {
      "image/png": "[encoded data removed]",
      "text/plain": [
       "<Figure size 432x288 with 1 Axes>"
      ]
     },
     "metadata": {},
     "output_type": "display_data"
    }
   ],
   "source": [
    "train3 = train.copy()\n",
    "min_count = np.min(train3['score'].value_counts())\n",
    "train3_comps = []\n",
    "for cat in range(3):\n",
    "    train3_cat = train3[train3['score'] == cat]\n",
    "    train3_comps.append(train3_cat.sample(n=min_count, replace=True))\n",
    "train3 = pd.concat(train3_comps, ignore_index=True).reset_index()\n",
    "train3 = train3.sample(n=len(train3))\n",
    "train3['score'].value_counts().plot('bar')"
   ]
  },
  {
   "cell_type": "markdown",
   "metadata": {},
   "source": [
    "### Naive Bayes"
   ]
  },
  {
   "cell_type": "code",
   "execution_count": 25,
   "metadata": {},
   "outputs": [
    {
     "name": "stdout",
     "output_type": "stream",
     "text": [
      "[[180   3   1]\n",
      " [  3 181   0]\n",
      " [  2  17 165]]\n",
      "test_f2_score           0.703235\n",
      "train_accuracy          0.957461\n",
      "test_accuracy           0.637582\n",
      "test_f1_macro           0.632070\n",
      "test_precision_macro    0.675166\n",
      "test_recall_macro       0.637582\n",
      "dtype: float64\n"
     ]
    },
    {
     "data": {
      "text/html": [
       "<div>\n",
       "<style scoped>\n",
       "    .dataframe tbody tr th:only-of-type {\n",
       "        vertical-align: middle;\n",
       "    }\n",
       "\n",
       "    .dataframe tbody tr th {\n",
       "        vertical-align: top;\n",
       "    }\n",
       "\n",
       "    .dataframe thead th {\n",
       "        text-align: right;\n",
       "    }\n",
       "</style>\n",
       "<table border=\"1\" class=\"dataframe\">\n",
       "  <thead>\n",
       "    <tr style=\"text-align: right;\">\n",
       "      <th></th>\n",
       "      <th>fit_time</th>\n",
       "      <th>score_time</th>\n",
       "      <th>test_accuracy</th>\n",
       "      <th>test_f1_macro</th>\n",
       "      <th>test_f2_score</th>\n",
       "      <th>test_precision_macro</th>\n",
       "      <th>test_recall_macro</th>\n",
       "      <th>train_accuracy</th>\n",
       "      <th>train_f1_macro</th>\n",
       "      <th>train_f2_score</th>\n",
       "      <th>train_precision_macro</th>\n",
       "      <th>train_recall_macro</th>\n",
       "    </tr>\n",
       "  </thead>\n",
       "  <tbody>\n",
       "    <tr>\n",
       "      <th>0</th>\n",
       "      <td>0.037263</td>\n",
       "      <td>0.062412</td>\n",
       "      <td>0.655914</td>\n",
       "      <td>0.659721</td>\n",
       "      <td>0.678808</td>\n",
       "      <td>0.697002</td>\n",
       "      <td>0.655914</td>\n",
       "      <td>0.969945</td>\n",
       "      <td>0.970130</td>\n",
       "      <td>0.977011</td>\n",
       "      <td>0.971235</td>\n",
       "      <td>0.969945</td>\n",
       "    </tr>\n",
       "    <tr>\n",
       "      <th>1</th>\n",
       "      <td>0.024726</td>\n",
       "      <td>0.054101</td>\n",
       "      <td>0.672131</td>\n",
       "      <td>0.671266</td>\n",
       "      <td>0.714286</td>\n",
       "      <td>0.699860</td>\n",
       "      <td>0.672131</td>\n",
       "      <td>0.972900</td>\n",
       "      <td>0.972967</td>\n",
       "      <td>0.982143</td>\n",
       "      <td>0.973706</td>\n",
       "      <td>0.972900</td>\n",
       "    </tr>\n",
       "    <tr>\n",
       "      <th>2</th>\n",
       "      <td>0.023951</td>\n",
       "      <td>0.055619</td>\n",
       "      <td>0.584699</td>\n",
       "      <td>0.565222</td>\n",
       "      <td>0.716612</td>\n",
       "      <td>0.628638</td>\n",
       "      <td>0.584699</td>\n",
       "      <td>0.929539</td>\n",
       "      <td>0.929221</td>\n",
       "      <td>0.983740</td>\n",
       "      <td>0.939785</td>\n",
       "      <td>0.929539</td>\n",
       "    </tr>\n",
       "  </tbody>\n",
       "</table>\n",
       "</div>"
      ],
      "text/plain": [
       "   fit_time  score_time  test_accuracy  test_f1_macro  test_f2_score  \\\n",
       "0  0.037263    0.062412       0.655914       0.659721       0.678808   \n",
       "1  0.024726    0.054101       0.672131       0.671266       0.714286   \n",
       "2  0.023951    0.055619       0.584699       0.565222       0.716612   \n",
       "\n",
       "   test_precision_macro  test_recall_macro  train_accuracy  train_f1_macro  \\\n",
       "0              0.697002           0.655914        0.969945        0.970130   \n",
       "1              0.699860           0.672131        0.972900        0.972967   \n",
       "2              0.628638           0.584699        0.929539        0.929221   \n",
       "\n",
       "   train_f2_score  train_precision_macro  train_recall_macro  \n",
       "0        0.977011               0.971235            0.969945  \n",
       "1        0.982143               0.973706            0.972900  \n",
       "2        0.983740               0.939785            0.929539  "
      ]
     },
     "execution_count": 25,
     "metadata": {},
     "output_type": "execute_result"
    }
   ],
   "source": [
    "nb_p = Pipeline([('vectorizer', TfidfVectorizer(lowercase=False, tokenizer=lambda x: x, vocabulary=vocab)),\n",
    "                 ('classifier', MultinomialNB())])\n",
    "nb_p.fit(train3['review_doc'], train3['score'])\n",
    "print_metrics(nb_p, train3['review_doc'], train3['score'])"
   ]
  },
  {
   "cell_type": "markdown",
   "metadata": {},
   "source": [
    "### Logistic Regression"
   ]
  },
  {
   "cell_type": "code",
   "execution_count": 26,
   "metadata": {
    "scrolled": true
   },
   "outputs": [
    {
     "name": "stdout",
     "output_type": "stream",
     "text": [
      "[[183   0   1]\n",
      " [  0 182   2]\n",
      " [  0   1 183]]\n",
      "test_f2_score           0.687271\n",
      "train_accuracy          0.994565\n",
      "test_accuracy           0.646689\n",
      "test_f1_macro           0.646432\n",
      "test_precision_macro    0.650357\n",
      "test_recall_macro       0.646689\n",
      "dtype: float64\n"
     ]
    },
    {
     "data": {
      "text/html": [
       "<div>\n",
       "<style scoped>\n",
       "    .dataframe tbody tr th:only-of-type {\n",
       "        vertical-align: middle;\n",
       "    }\n",
       "\n",
       "    .dataframe tbody tr th {\n",
       "        vertical-align: top;\n",
       "    }\n",
       "\n",
       "    .dataframe thead th {\n",
       "        text-align: right;\n",
       "    }\n",
       "</style>\n",
       "<table border=\"1\" class=\"dataframe\">\n",
       "  <thead>\n",
       "    <tr style=\"text-align: right;\">\n",
       "      <th></th>\n",
       "      <th>fit_time</th>\n",
       "      <th>score_time</th>\n",
       "      <th>test_accuracy</th>\n",
       "      <th>test_f1_macro</th>\n",
       "      <th>test_f2_score</th>\n",
       "      <th>test_precision_macro</th>\n",
       "      <th>test_recall_macro</th>\n",
       "      <th>train_accuracy</th>\n",
       "      <th>train_f1_macro</th>\n",
       "      <th>train_f2_score</th>\n",
       "      <th>train_precision_macro</th>\n",
       "      <th>train_recall_macro</th>\n",
       "    </tr>\n",
       "  </thead>\n",
       "  <tbody>\n",
       "    <tr>\n",
       "      <th>0</th>\n",
       "      <td>0.035721</td>\n",
       "      <td>0.051874</td>\n",
       "      <td>0.655914</td>\n",
       "      <td>0.655291</td>\n",
       "      <td>0.665584</td>\n",
       "      <td>0.655723</td>\n",
       "      <td>0.655914</td>\n",
       "      <td>0.994536</td>\n",
       "      <td>0.994536</td>\n",
       "      <td>1.000000</td>\n",
       "      <td>0.994536</td>\n",
       "      <td>0.994536</td>\n",
       "    </tr>\n",
       "    <tr>\n",
       "      <th>1</th>\n",
       "      <td>0.041402</td>\n",
       "      <td>0.044566</td>\n",
       "      <td>0.683060</td>\n",
       "      <td>0.685035</td>\n",
       "      <td>0.728477</td>\n",
       "      <td>0.694933</td>\n",
       "      <td>0.683060</td>\n",
       "      <td>0.994580</td>\n",
       "      <td>0.994580</td>\n",
       "      <td>1.000000</td>\n",
       "      <td>0.994580</td>\n",
       "      <td>0.994580</td>\n",
       "    </tr>\n",
       "    <tr>\n",
       "      <th>2</th>\n",
       "      <td>0.040639</td>\n",
       "      <td>0.049341</td>\n",
       "      <td>0.601093</td>\n",
       "      <td>0.598972</td>\n",
       "      <td>0.667752</td>\n",
       "      <td>0.600415</td>\n",
       "      <td>0.601093</td>\n",
       "      <td>0.994580</td>\n",
       "      <td>0.994591</td>\n",
       "      <td>0.993485</td>\n",
       "      <td>0.994667</td>\n",
       "      <td>0.994580</td>\n",
       "    </tr>\n",
       "  </tbody>\n",
       "</table>\n",
       "</div>"
      ],
      "text/plain": [
       "   fit_time  score_time  test_accuracy  test_f1_macro  test_f2_score  \\\n",
       "0  0.035721    0.051874       0.655914       0.655291       0.665584   \n",
       "1  0.041402    0.044566       0.683060       0.685035       0.728477   \n",
       "2  0.040639    0.049341       0.601093       0.598972       0.667752   \n",
       "\n",
       "   test_precision_macro  test_recall_macro  train_accuracy  train_f1_macro  \\\n",
       "0              0.655723           0.655914        0.994536        0.994536   \n",
       "1              0.694933           0.683060        0.994580        0.994580   \n",
       "2              0.600415           0.601093        0.994580        0.994591   \n",
       "\n",
       "   train_f2_score  train_precision_macro  train_recall_macro  \n",
       "0        1.000000               0.994536            0.994536  \n",
       "1        1.000000               0.994580            0.994580  \n",
       "2        0.993485               0.994667            0.994580  "
      ]
     },
     "execution_count": 26,
     "metadata": {},
     "output_type": "execute_result"
    }
   ],
   "source": [
    "from sklearn.linear_model import LogisticRegression\n",
    "\n",
    "lr_p = Pipeline([('vectorizer', CountVectorizer(lowercase=False, tokenizer=lambda x: x, vocabulary=vocab)),\n",
    "                 ('classifier', LogisticRegression())])\n",
    "lr_p.fit(train3['review_doc'], train3['score'])\n",
    "print_metrics(lr_p, train3['review_doc'], train3['score'])"
   ]
  },
  {
   "cell_type": "markdown",
   "metadata": {},
   "source": [
    "### SVM"
   ]
  },
  {
   "cell_type": "code",
   "execution_count": 27,
   "metadata": {},
   "outputs": [
    {
     "name": "stdout",
     "output_type": "stream",
     "text": [
      "[[158  11  15]\n",
      " [ 11 159  14]\n",
      " [  2  25 157]]\n",
      "test_f2_score           0.640942\n",
      "train_accuracy          0.875976\n",
      "test_accuracy           0.601357\n",
      "test_f1_macro           0.597747\n",
      "test_precision_macro    0.622018\n",
      "test_recall_macro       0.601357\n",
      "dtype: float64\n"
     ]
    },
    {
     "data": {
      "text/html": [
       "<div>\n",
       "<style scoped>\n",
       "    .dataframe tbody tr th:only-of-type {\n",
       "        vertical-align: middle;\n",
       "    }\n",
       "\n",
       "    .dataframe tbody tr th {\n",
       "        vertical-align: top;\n",
       "    }\n",
       "\n",
       "    .dataframe thead th {\n",
       "        text-align: right;\n",
       "    }\n",
       "</style>\n",
       "<table border=\"1\" class=\"dataframe\">\n",
       "  <thead>\n",
       "    <tr style=\"text-align: right;\">\n",
       "      <th></th>\n",
       "      <th>fit_time</th>\n",
       "      <th>score_time</th>\n",
       "      <th>test_accuracy</th>\n",
       "      <th>test_f1_macro</th>\n",
       "      <th>test_f2_score</th>\n",
       "      <th>test_precision_macro</th>\n",
       "      <th>test_recall_macro</th>\n",
       "      <th>train_accuracy</th>\n",
       "      <th>train_f1_macro</th>\n",
       "      <th>train_f2_score</th>\n",
       "      <th>train_precision_macro</th>\n",
       "      <th>train_recall_macro</th>\n",
       "    </tr>\n",
       "  </thead>\n",
       "  <tbody>\n",
       "    <tr>\n",
       "      <th>0</th>\n",
       "      <td>0.075635</td>\n",
       "      <td>0.151197</td>\n",
       "      <td>0.618280</td>\n",
       "      <td>0.613314</td>\n",
       "      <td>0.557491</td>\n",
       "      <td>0.654678</td>\n",
       "      <td>0.618280</td>\n",
       "      <td>0.901639</td>\n",
       "      <td>0.901368</td>\n",
       "      <td>0.898502</td>\n",
       "      <td>0.903727</td>\n",
       "      <td>0.901639</td>\n",
       "    </tr>\n",
       "    <tr>\n",
       "      <th>1</th>\n",
       "      <td>0.073104</td>\n",
       "      <td>0.151084</td>\n",
       "      <td>0.617486</td>\n",
       "      <td>0.610401</td>\n",
       "      <td>0.736196</td>\n",
       "      <td>0.639994</td>\n",
       "      <td>0.617486</td>\n",
       "      <td>0.861789</td>\n",
       "      <td>0.861907</td>\n",
       "      <td>0.913978</td>\n",
       "      <td>0.880689</td>\n",
       "      <td>0.861789</td>\n",
       "    </tr>\n",
       "    <tr>\n",
       "      <th>2</th>\n",
       "      <td>0.072763</td>\n",
       "      <td>0.155326</td>\n",
       "      <td>0.568306</td>\n",
       "      <td>0.569525</td>\n",
       "      <td>0.629139</td>\n",
       "      <td>0.571382</td>\n",
       "      <td>0.568306</td>\n",
       "      <td>0.864499</td>\n",
       "      <td>0.864574</td>\n",
       "      <td>0.895765</td>\n",
       "      <td>0.864669</td>\n",
       "      <td>0.864499</td>\n",
       "    </tr>\n",
       "  </tbody>\n",
       "</table>\n",
       "</div>"
      ],
      "text/plain": [
       "   fit_time  score_time  test_accuracy  test_f1_macro  test_f2_score  \\\n",
       "0  0.075635    0.151197       0.618280       0.613314       0.557491   \n",
       "1  0.073104    0.151084       0.617486       0.610401       0.736196   \n",
       "2  0.072763    0.155326       0.568306       0.569525       0.629139   \n",
       "\n",
       "   test_precision_macro  test_recall_macro  train_accuracy  train_f1_macro  \\\n",
       "0              0.654678           0.618280        0.901639        0.901368   \n",
       "1              0.639994           0.617486        0.861789        0.861907   \n",
       "2              0.571382           0.568306        0.864499        0.864574   \n",
       "\n",
       "   train_f2_score  train_precision_macro  train_recall_macro  \n",
       "0        0.898502               0.903727            0.901639  \n",
       "1        0.913978               0.880689            0.861789  \n",
       "2        0.895765               0.864669            0.864499  "
      ]
     },
     "execution_count": 27,
     "metadata": {},
     "output_type": "execute_result"
    }
   ],
   "source": [
    "from sklearn.svm import SVC\n",
    "\n",
    "svm_p = Pipeline([('vectorizer', TfidfVectorizer(lowercase=False, tokenizer=lambda x: x, vocabulary=vocab)),\n",
    "                 ('classifier', SVC(C=0.8))])\n",
    "svm_p.fit(train3['review_doc'], train3['score'])\n",
    "print_metrics(svm_p, train3['review_doc'], train3['score'])\n"
   ]
  },
  {
   "cell_type": "markdown",
   "metadata": {},
   "source": [
    "Let's stick with logistic regression and use more features with upsamped dataset"
   ]
  },
  {
   "cell_type": "markdown",
   "metadata": {},
   "source": [
    "### Linear Regression"
   ]
  },
  {
   "cell_type": "code",
   "execution_count": 29,
   "metadata": {
    "scrolled": true
   },
   "outputs": [
    {
     "name": "stdout",
     "output_type": "stream",
     "text": [
      "[[2643    0    0]\n",
      " [   0 2599   44]\n",
      " [  52   68 2523]]\n",
      "test_f2_score           0.991076\n",
      "train_accuracy          0.977362\n",
      "test_accuracy           0.959137\n",
      "test_f1_macro           0.958652\n",
      "test_precision_macro    0.959998\n",
      "test_recall_macro       0.959137\n",
      "dtype: float64\n"
     ]
    },
    {
     "data": {
      "text/html": [
       "<div>\n",
       "<style scoped>\n",
       "    .dataframe tbody tr th:only-of-type {\n",
       "        vertical-align: middle;\n",
       "    }\n",
       "\n",
       "    .dataframe tbody tr th {\n",
       "        vertical-align: top;\n",
       "    }\n",
       "\n",
       "    .dataframe thead th {\n",
       "        text-align: right;\n",
       "    }\n",
       "</style>\n",
       "<table border=\"1\" class=\"dataframe\">\n",
       "  <thead>\n",
       "    <tr style=\"text-align: right;\">\n",
       "      <th></th>\n",
       "      <th>fit_time</th>\n",
       "      <th>score_time</th>\n",
       "      <th>test_accuracy</th>\n",
       "      <th>test_f1_macro</th>\n",
       "      <th>test_f2_score</th>\n",
       "      <th>test_precision_macro</th>\n",
       "      <th>test_recall_macro</th>\n",
       "      <th>train_accuracy</th>\n",
       "      <th>train_f1_macro</th>\n",
       "      <th>train_f2_score</th>\n",
       "      <th>train_precision_macro</th>\n",
       "      <th>train_recall_macro</th>\n",
       "    </tr>\n",
       "  </thead>\n",
       "  <tbody>\n",
       "    <tr>\n",
       "      <th>0</th>\n",
       "      <td>0.386821</td>\n",
       "      <td>0.692024</td>\n",
       "      <td>0.959894</td>\n",
       "      <td>0.959364</td>\n",
       "      <td>0.989665</td>\n",
       "      <td>0.961005</td>\n",
       "      <td>0.959894</td>\n",
       "      <td>0.979190</td>\n",
       "      <td>0.979080</td>\n",
       "      <td>0.995818</td>\n",
       "      <td>0.979362</td>\n",
       "      <td>0.979190</td>\n",
       "    </tr>\n",
       "    <tr>\n",
       "      <th>1</th>\n",
       "      <td>0.347478</td>\n",
       "      <td>0.653973</td>\n",
       "      <td>0.958381</td>\n",
       "      <td>0.957857</td>\n",
       "      <td>0.991894</td>\n",
       "      <td>0.959498</td>\n",
       "      <td>0.958381</td>\n",
       "      <td>0.976163</td>\n",
       "      <td>0.976051</td>\n",
       "      <td>0.995030</td>\n",
       "      <td>0.976200</td>\n",
       "      <td>0.976163</td>\n",
       "    </tr>\n",
       "    <tr>\n",
       "      <th>2</th>\n",
       "      <td>0.340198</td>\n",
       "      <td>0.681023</td>\n",
       "      <td>0.959137</td>\n",
       "      <td>0.958734</td>\n",
       "      <td>0.991670</td>\n",
       "      <td>0.959490</td>\n",
       "      <td>0.959137</td>\n",
       "      <td>0.976731</td>\n",
       "      <td>0.976621</td>\n",
       "      <td>0.995930</td>\n",
       "      <td>0.976792</td>\n",
       "      <td>0.976731</td>\n",
       "    </tr>\n",
       "  </tbody>\n",
       "</table>\n",
       "</div>"
      ],
      "text/plain": [
       "   fit_time  score_time  test_accuracy  test_f1_macro  test_f2_score  \\\n",
       "0  0.386821    0.692024       0.959894       0.959364       0.989665   \n",
       "1  0.347478    0.653973       0.958381       0.957857       0.991894   \n",
       "2  0.340198    0.681023       0.959137       0.958734       0.991670   \n",
       "\n",
       "   test_precision_macro  test_recall_macro  train_accuracy  train_f1_macro  \\\n",
       "0              0.961005           0.959894        0.979190        0.979080   \n",
       "1              0.959498           0.958381        0.976163        0.976051   \n",
       "2              0.959490           0.959137        0.976731        0.976621   \n",
       "\n",
       "   train_f2_score  train_precision_macro  train_recall_macro  \n",
       "0        0.995818               0.979362            0.979190  \n",
       "1        0.995030               0.976200            0.976163  \n",
       "2        0.995930               0.976792            0.976731  "
      ]
     },
     "execution_count": 29,
     "metadata": {},
     "output_type": "execute_result"
    }
   ],
   "source": [
    "lr_p = Pipeline([('vectorizer', TfidfVectorizer(lowercase=False, tokenizer=lambda x: x, vocabulary=vocab)),\n",
    "                 ('classifier', LogisticRegression())])\n",
    "lr_p.fit(train2['review_doc'], train2['score'])\n",
    "print_metrics(lr_p, train2)"
   ]
  },
  {
   "cell_type": "markdown",
   "metadata": {},
   "source": [
    "let's use feature \"contains CAPS\" "
   ]
  },
  {
   "cell_type": "code",
   "execution_count": 193,
   "metadata": {
    "scrolled": true
   },
   "outputs": [],
   "source": [
    "CAPS = train['main_review'].str.contains(r'[А-ЯЄI]{4,}')\n",
    "class HasCapsExtractor(BaseEstimator, TransformerMixin):\n",
    "    def fit(self, X, y=None):\n",
    "        return self\n",
    "    \n",
    "    def transform(self, df):\n",
    "        return [{'has_caps': int(v)}\n",
    "               for v in df['main_review'].str.contains(r'[А-ЯЄI]{4,}')]\n",
    "    "
   ]
  },
  {
   "cell_type": "code",
   "execution_count": null,
   "metadata": {},
   "outputs": [],
   "source": [
    "class ItemSelector(BaseEstimator, TransformerMixin):\n",
    "    def __init__(self, key, default=None):\n",
    "        self.key = key\n",
    "        self.default = default\n",
    "        \n",
    "    def fit(self, X, y=None):\n",
    "        return self\n",
    "    \n",
    "    def transform(self, X):\n",
    "        if isinstance(X, pd.DataFrame):\n",
    "            return X[self.key]\n",
    "        else:\n",
    "            return [x.get(self.key, self.default) for x in X]\n"
   ]
  },
  {
   "cell_type": "code",
   "execution_count": null,
   "metadata": {},
   "outputs": [],
   "source": [
    "not_words = {'не','ніколи','нізащо'}\n",
    "def prepend_not(doc):\n",
    "    new_doc = doc.copy()\n",
    "    maxidx = len(doc) - 1\n",
    "    args_idxs = set()\n",
    "    for i,tok in enumerate(new_doc):\n",
    "        if tok in not_words:\n",
    "            args_idxs.update([min(i+1, maxidx), min(i+2, maxidx)])\n",
    "    for idx in args_idxs:\n",
    "        new_doc[idx] = \"не_\" + doc[idx]\n",
    "    return new_doc\n",
    "\n",
    "class NotPrepender(BaseEstimator, TransformerMixin):\n",
    "    def __init__(self):\n",
    "        pass\n",
    "        \n",
    "    def fit(self, X, y=None):\n",
    "        return self\n",
    "    \n",
    "    def transform(self, X):\n",
    "        if isinstance(X, pd.Series):\n",
    "            return X.apply(prepend_not)\n",
    "        else:\n",
    "            return [prepend_not(x) for x in X]"
   ]
  },
  {
   "cell_type": "code",
   "execution_count": 206,
   "metadata": {
    "scrolled": true
   },
   "outputs": [
    {
     "data": {
      "text/plain": [
       "Pipeline(memory=None,\n",
       "     steps=[('union', FeatureUnion(n_jobs=1,\n",
       "       transformer_list=[('main_bow', Pipeline(memory=None,\n",
       "     steps=[('selector', ItemSelector(default=None, key='review_dict')), ('pros_selector', ItemSelector(default='', key='_')), ('vect', TfidfVectorizer(analyzer='word', binary=False, decode_error='str...ty='l2', random_state=None, solver='liblinear', tol=0.0001,\n",
       "          verbose=0, warm_start=False))])"
      ]
     },
     "execution_count": 206,
     "metadata": {},
     "output_type": "execute_result"
    }
   ],
   "source": [
    "tokenizer = lambda x: prepend_not(stem(tokenize(x)))\n",
    "pipe = Pipeline([\n",
    "    ('union', FeatureUnion(\n",
    "        transformer_list=[\n",
    "            ('main_bow', Pipeline([\n",
    "                ('selector', ItemSelector(key='review_dict')),\n",
    "                ('pros_selector', ItemSelector(key='_', default='')),\n",
    "                ('vect', TfidfVectorizer(lowercase=False, tokenizer=tokenizer, vocabulary=vocab))\n",
    "            ])),\n",
    "            ('pros', Pipeline([\n",
    "                ('selector', ItemSelector(key='review_dict')),\n",
    "                ('pros_selector', ItemSelector(key='Переваги:', default='')),\n",
    "                ('vect', TfidfVectorizer(lowercase=True, tokenizer=tokenizer))\n",
    "            ])),\n",
    "            ('cons', Pipeline([\n",
    "                ('selector', ItemSelector(key='review_dict')),\n",
    "                ('cons_selector', ItemSelector(key='Недоліки:', default='')),\n",
    "                ('vect', TfidfVectorizer(lowercase=True, tokenizer=tokenizer))\n",
    "            ])),\n",
    "            ('has_caps', Pipeline([\n",
    "                ('extranctor', HasCapsExtractor()),\n",
    "                ('vect', DictVectorizer())\n",
    "            ]))\n",
    "        ]\n",
    "    )),\n",
    "    ('classifier', LogisticRegression())\n",
    "])\n",
    "pipe.fit(train2, train2['score'])"
   ]
  },
  {
   "cell_type": "code",
   "execution_count": 197,
   "metadata": {
    "scrolled": false
   },
   "outputs": [
    {
     "name": "stdout",
     "output_type": "stream",
     "text": [
      "[[2643    0    0]\n",
      " [   0 2643    0]\n",
      " [  11   22 2610]]\n",
      "test_f2_score           0.994956\n",
      "train_accuracy          0.994577\n",
      "test_accuracy           0.975281\n",
      "test_f1_macro           0.975061\n",
      "test_precision_macro    0.976147\n",
      "test_recall_macro       0.975281\n",
      "dtype: float64\n"
     ]
    },
    {
     "data": {
      "text/html": [
       "<div>\n",
       "<style scoped>\n",
       "    .dataframe tbody tr th:only-of-type {\n",
       "        vertical-align: middle;\n",
       "    }\n",
       "\n",
       "    .dataframe tbody tr th {\n",
       "        vertical-align: top;\n",
       "    }\n",
       "\n",
       "    .dataframe thead th {\n",
       "        text-align: right;\n",
       "    }\n",
       "</style>\n",
       "<table border=\"1\" class=\"dataframe\">\n",
       "  <thead>\n",
       "    <tr style=\"text-align: right;\">\n",
       "      <th></th>\n",
       "      <th>fit_time</th>\n",
       "      <th>score_time</th>\n",
       "      <th>test_accuracy</th>\n",
       "      <th>test_f1_macro</th>\n",
       "      <th>test_f2_score</th>\n",
       "      <th>test_precision_macro</th>\n",
       "      <th>test_recall_macro</th>\n",
       "      <th>train_accuracy</th>\n",
       "      <th>train_f1_macro</th>\n",
       "      <th>train_f2_score</th>\n",
       "      <th>train_precision_macro</th>\n",
       "      <th>train_recall_macro</th>\n",
       "    </tr>\n",
       "  </thead>\n",
       "  <tbody>\n",
       "    <tr>\n",
       "      <th>0</th>\n",
       "      <td>6.396143</td>\n",
       "      <td>14.919582</td>\n",
       "      <td>0.974272</td>\n",
       "      <td>0.974067</td>\n",
       "      <td>0.995705</td>\n",
       "      <td>0.975070</td>\n",
       "      <td>0.974272</td>\n",
       "      <td>0.994135</td>\n",
       "      <td>0.994127</td>\n",
       "      <td>0.999093</td>\n",
       "      <td>0.994163</td>\n",
       "      <td>0.994135</td>\n",
       "    </tr>\n",
       "    <tr>\n",
       "      <th>1</th>\n",
       "      <td>6.085128</td>\n",
       "      <td>16.940590</td>\n",
       "      <td>0.975407</td>\n",
       "      <td>0.975167</td>\n",
       "      <td>0.994132</td>\n",
       "      <td>0.976314</td>\n",
       "      <td>0.975407</td>\n",
       "      <td>0.994325</td>\n",
       "      <td>0.994314</td>\n",
       "      <td>0.998866</td>\n",
       "      <td>0.994378</td>\n",
       "      <td>0.994325</td>\n",
       "    </tr>\n",
       "    <tr>\n",
       "      <th>2</th>\n",
       "      <td>6.346964</td>\n",
       "      <td>16.025862</td>\n",
       "      <td>0.976163</td>\n",
       "      <td>0.975949</td>\n",
       "      <td>0.995030</td>\n",
       "      <td>0.977056</td>\n",
       "      <td>0.976163</td>\n",
       "      <td>0.995271</td>\n",
       "      <td>0.995262</td>\n",
       "      <td>0.998866</td>\n",
       "      <td>0.995305</td>\n",
       "      <td>0.995271</td>\n",
       "    </tr>\n",
       "  </tbody>\n",
       "</table>\n",
       "</div>"
      ],
      "text/plain": [
       "   fit_time  score_time  test_accuracy  test_f1_macro  test_f2_score  \\\n",
       "0  6.396143   14.919582       0.974272       0.974067       0.995705   \n",
       "1  6.085128   16.940590       0.975407       0.975167       0.994132   \n",
       "2  6.346964   16.025862       0.976163       0.975949       0.995030   \n",
       "\n",
       "   test_precision_macro  test_recall_macro  train_accuracy  train_f1_macro  \\\n",
       "0              0.975070           0.974272        0.994135        0.994127   \n",
       "1              0.976314           0.975407        0.994325        0.994314   \n",
       "2              0.977056           0.976163        0.995271        0.995262   \n",
       "\n",
       "   train_f2_score  train_precision_macro  train_recall_macro  \n",
       "0        0.999093               0.994163            0.994135  \n",
       "1        0.998866               0.994378            0.994325  \n",
       "2        0.998866               0.995305            0.995271  "
      ]
     },
     "execution_count": 197,
     "metadata": {},
     "output_type": "execute_result"
    }
   ],
   "source": [
    "print_metrics(pipe, train2, train2['score'])"
   ]
  },
  {
   "cell_type": "markdown",
   "metadata": {},
   "source": [
    "Pretty good results"
   ]
  },
  {
   "cell_type": "markdown",
   "metadata": {},
   "source": [
    "## Test set performance"
   ]
  },
  {
   "cell_type": "code",
   "execution_count": 208,
   "metadata": {},
   "outputs": [
    {
     "name": "stdout",
     "output_type": "stream",
     "text": [
      "f2_score: [0.51613]\n",
      "f1_macro: 0.5407395749681909\n"
     ]
    },
    {
     "data": {
      "text/plain": [
       "array([[  48,   11,   33],\n",
       "       [  23,   12,   44],\n",
       "       [  26,   35, 1064]])"
      ]
     },
     "execution_count": 208,
     "metadata": {},
     "output_type": "execute_result"
    }
   ],
   "source": [
    "from sklearn.metrics import f1_score\n",
    "test_pred = pipe.predict(test)\n",
    "print('f2_score:', f2_score(pipe, test, test['score']))\n",
    "print('f1_macro:', f1_score(test['score'], test_pred, average='macro'))\n",
    "confusion_matrix(test['score'], test_pred)"
   ]
  },
  {
   "cell_type": "markdown",
   "metadata": {},
   "source": [
    "We've got pretty low test performance :("
   ]
  }
 ],
 "metadata": {
  "kernelspec": {
   "display_name": "Python 3",
   "language": "python",
   "name": "python3"
  },
  "language_info": {
   "codemirror_mode": {
    "name": "ipython",
    "version": 3
   },
   "file_extension": ".py",
   "mimetype": "text/x-python",
   "name": "python",
   "nbconvert_exporter": "python",
   "pygments_lexer": "ipython3",
   "version": "3.6.0"
  }
 },
 "nbformat": 4,
 "nbformat_minor": 2
}
