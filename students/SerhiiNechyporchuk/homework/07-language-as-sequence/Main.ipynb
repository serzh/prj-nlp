{
 "cells": [
  {
   "cell_type": "code",
   "execution_count": 107,
   "metadata": {},
   "outputs": [
    {
     "data": {
      "application/vnd.jupyter.widget-view+json": {
       "model_id": "4d86d9c85a0246e2be563884b6120dff",
       "version_major": 2,
       "version_minor": 0
      },
      "text/plain": [
       "HBox(children=(IntProgress(value=1, bar_style='info', max=1), HTML(value='')))"
      ]
     },
     "metadata": {},
     "output_type": "display_data"
    },
    {
     "data": {
      "text/plain": [
       "0it [00:00, ?it/s]"
      ]
     },
     "execution_count": 107,
     "metadata": {},
     "output_type": "execute_result"
    }
   ],
   "source": [
    "%matplotlib inline\n",
    "import bz2\n",
    "import spacy\n",
    "from spacy import displacy\n",
    "import en_core_web_lg\n",
    "import en_core_web_md\n",
    "import pandas as pd\n",
    "import numpy as np\n",
    "import re\n",
    "from collections import Counter\n",
    "from nltk.tokenize import word_tokenize\n",
    "import itertools as it\n",
    "import json\n",
    "from pprint import pprint\n",
    "from tqdm import tqdm_pandas, tqdm_notebook, tqdm\n",
    "import matplotlib.pyplot as plt\n",
    "from sklearn.feature_extraction import DictVectorizer\n",
    "from sklearn.metrics import make_scorer, f1_score, confusion_matrix, precision_score, recall_score\n",
    "from sklearn.model_selection import cross_validate, cross_val_score\n",
    "from sklearn.linear_model import LogisticRegression\n",
    "from sklearn.pipeline import Pipeline\n",
    "from stanfordcorenlp import StanfordCoreNLP\n",
    "from nltk.tree import Tree\n",
    "from IPython.lib import backgroundjobs as bg\n",
    "\n",
    "pd.set_option('display.max_colwidth', 500)\n",
    "tqdm_notebook()"
   ]
  },
  {
   "cell_type": "code",
   "execution_count": 641,
   "metadata": {},
   "outputs": [],
   "source": [
    "tqdm.pandas()"
   ]
  },
  {
   "cell_type": "markdown",
   "metadata": {},
   "source": [
    "## Description\n",
    "This notebook covers the task of classication of end of sentences in run-on sentences. From this data posts with less then 2 sentences was removed. Also from this data collection of ngrams were generated. The ngrams were collected into `rocksdb` database, so I won't need to load in memory and it will have a sufficent search performance. The next step was do feature extraction. Features:\n",
    "\n",
    "* Token text\n",
    "* Next token text\n",
    "* Prev token text\n",
    "* Token POS\n",
    "* Next token POS\n",
    "* Prev token POS\n",
    "* Is current token titled\n",
    "* Is next token titled\n",
    "* Frequency of 2gram `<token> .`\n",
    "* Frequency of 2gram `. <token+1>`\n",
    "* Frequency of 3gram `<token> . <token+1>`\n",
    "* Frequency of 3gram `<token-1> <token> .`\n",
    "* Nearest common parent in constituency tree between `<token>` and `<token+1>`\n",
    "\n",
    "\n",
    "**Dataset**:  Usenet posts from http://www.psych.ualberta.ca/~westburylab/downloads/usenetcorpus.download.html\n",
    "\n",
    "**Data size**: 164000 posts with more than 1 sentences in each\n",
    "\n",
    "**Number on ngrams collected**: *pyrocksdb doesn't allow to estimate number of rows*"
   ]
  },
  {
   "cell_type": "markdown",
   "metadata": {},
   "source": [
    "## Feature extraction\n",
    "We will start with fetching some features from our dataset"
   ]
  },
  {
   "cell_type": "code",
   "execution_count": 21,
   "metadata": {},
   "outputs": [],
   "source": [
    "snlp = StanfordCoreNLP('http://localhost', port=9000)"
   ]
  },
  {
   "cell_type": "code",
   "execution_count": 22,
   "metadata": {},
   "outputs": [],
   "source": [
    "nlp_full = en_core_web_lg.load()\n",
    "nlp_sent = en_core_web_lg.load(disable=['parser', 'ner', 'textcat', 'tagger'])\n",
    "nlp_sent.add_pipe(nlp_sent.create_pipe('sentencizer'))"
   ]
  },
  {
   "cell_type": "markdown",
   "metadata": {},
   "source": [
    "Function for concating sentences"
   ]
  },
  {
   "cell_type": "code",
   "execution_count": 20,
   "metadata": {},
   "outputs": [],
   "source": [
    "def concat_sents(sents):\n",
    "    tok_sents = [nlp_sent(sent) for sent in sents]\n",
    "    new_sent = sents[0][0:-1]\n",
    "    for i, sent in enumerate(sents[1:-1]):\n",
    "        if (np.random.choice([0, 1])) == 0:\n",
    "            new_sent += \" \" + sent[0].lower()\n",
    "        else:\n",
    "            new_sent += \" \" + sent[0]\n",
    "        new_sent += sent[1:-1]\n",
    "    if np.random.choice([0, 1]) == 0:\n",
    "        new_sent += \" \" + sents[-1][0].lower()\n",
    "    else:\n",
    "        new_sent += \" \" + sents[-1][0]\n",
    "    new_sent += sents[-1][1:]\n",
    "    \n",
    "    ends = [len(sent)-1 for sent in sents[:-1]]\n",
    "    ends[0] -= 1\n",
    "    return (new_sent, ends)"
   ]
  },
  {
   "cell_type": "code",
   "execution_count": 53,
   "metadata": {},
   "outputs": [],
   "source": [
    "def extract_features(features, doc, ctree, i):\n",
    "    feats = {}\n",
    "    for name, f in features.items():\n",
    "        feats[name] = f({'doc': doc, 'ctree': ctree}, i)\n",
    "    return feats"
   ]
  },
  {
   "cell_type": "code",
   "execution_count": 213,
   "metadata": {},
   "outputs": [],
   "source": [
    "def extract_features_for_all(f, features, limit=2, skip=0):\n",
    "    items = list(it.islice(f, skip, limit+skip))\n",
    "    docs_features = []\n",
    "    docs_labels = []\n",
    "    docs = []\n",
    "    for item in tqdm_notebook(items):\n",
    "        sents = json.loads(item.decode('utf-8'))\n",
    "        (sent, ends) = concat_sents(sents)\n",
    "        doc = nlp_full(sent)\n",
    "        try:\n",
    "            stree = snlp.parse(sent)\n",
    "        except json.JSONDecodeError:\n",
    "            stree = '(S)'\n",
    "        ctree = Tree.fromstring(stree)\n",
    "        N = len(doc)\n",
    "        for i in range(N):\n",
    "            tok = doc[i]\n",
    "            feats = extract_features(features, doc, ctree, i)\n",
    "            if any([(tok.idx <= end) and (end < (tok.idx + len(tok.text))) for end in ends]):\n",
    "                docs_labels.append(True)\n",
    "            else:\n",
    "                docs_labels.append(False)\n",
    "            \n",
    "            docs_features.append(feats)\n",
    "            docs.append(tok.text.lower())\n",
    "    return (docs_features, docs_labels, docs)"
   ]
  },
  {
   "cell_type": "code",
   "execution_count": 134,
   "metadata": {},
   "outputs": [],
   "source": [
    "def evaluate(est, X, y):\n",
    "    f1_pos = make_scorer(f1_score, labels=[1])\n",
    "    prec_pos = make_scorer(precision_score, labels=[1])\n",
    "    rec_pos = make_scorer(recall_score, labels=[1])\n",
    "    return cross_validate(pipe, X, y, \n",
    "                          scoring={'f1_pos': f1_pos, 'prec_pos': prec_pos, 'rec_pos': rec_pos},\n",
    "                          return_train_score=True)"
   ]
  },
  {
   "cell_type": "code",
   "execution_count": 18,
   "metadata": {},
   "outputs": [],
   "source": [
    "features_set1 = {\n",
    "    'text': lambda e,i: e['doc'][i].text.lower(),\n",
    "    'istitle': lambda e,i: e['doc'][i].is_title,\n",
    "    'pos': lambda e,i: e['doc'][i].pos_,\n",
    "    'text-1': lambda e,i: e['doc'][i-1].text if i-1 >= 0 else '<S>',\n",
    "    'pos-1': lambda e,i: e['doc'][i-1].pos_ if i-1 >= 0 else 'NONE',\n",
    "    'text+1': lambda e,i: e['doc'][i+1].text if i+1 < len(e['doc']) else '</S>',\n",
    "    'istitle+1': lambda e,i: e['doc'][i+1].is_title if i+1 < len(e['doc']) else False,\n",
    "    'pos+1': lambda e,i: e['doc'][i+1].pos_ if i+1 < len(e['doc']) else 'NONE'\n",
    "}"
   ]
  },
  {
   "cell_type": "code",
   "execution_count": 23,
   "metadata": {},
   "outputs": [
    {
     "name": "stderr",
     "output_type": "stream",
     "text": [
      "100%|██████████| 1000/1000 [00:22<00:00, 44.07it/s]\n"
     ]
    }
   ],
   "source": [
    "with bz2.open('train.txt.bz2') as f:\n",
    "    (doc_features1, doc_labels1, docs1) = extract_features_for_all(f, features_set1, limit=1000)"
   ]
  },
  {
   "cell_type": "code",
   "execution_count": 48,
   "metadata": {},
   "outputs": [],
   "source": [
    "pd.DataFrame(doc_features1).assign(label = doc_labels1).to_csv('features1.csv.bz2', compression='bz2')"
   ]
  },
  {
   "cell_type": "code",
   "execution_count": 24,
   "metadata": {
    "scrolled": true
   },
   "outputs": [
    {
     "data": {
      "text/plain": [
       "{'fit_time': array([0.55368495, 0.49376702, 0.49124098]),\n",
       " 'score_time': array([0.47720385, 0.47927308, 0.48680234]),\n",
       " 'test_f1_pos': array([0.22794118, 0.21308411, 0.27272727]),\n",
       " 'test_prec_pos': array([0.61386139, 0.61956522, 0.6       ]),\n",
       " 'test_rec_pos': array([0.13995485, 0.12866817, 0.17647059]),\n",
       " 'train_f1_pos': array([0.43463497, 0.42942686, 0.42222222]),\n",
       " 'train_prec_pos': array([0.87372014, 0.88380282, 0.86971831]),\n",
       " 'train_rec_pos': array([0.28926554, 0.28361582, 0.27878104])}"
      ]
     },
     "execution_count": 24,
     "metadata": {},
     "output_type": "execute_result"
    }
   ],
   "source": [
    "pipe = Pipeline([\n",
    "    ('vectorizer', DictVectorizer()),\n",
    "    ('classifier', LogisticRegression())\n",
    "])\n",
    "evaluate(pipe, doc_features1, doc_labels1)"
   ]
  },
  {
   "cell_type": "markdown",
   "metadata": {},
   "source": [
    "## Feature set #2"
   ]
  },
  {
   "cell_type": "markdown",
   "metadata": {},
   "source": [
    "Load ngrams"
   ]
  },
  {
   "cell_type": "code",
   "execution_count": 104,
   "metadata": {},
   "outputs": [],
   "source": [
    "import rocksdb\n",
    "db2 = rocksdb.DB('ngrams2/2grams.db', rocksdb.Options(), read_only=True)\n",
    "db3 = rocksdb.DB('ngrams2/3grams.db', rocksdb.Options(), read_only=True)\n",
    "def find2gram(ngram):\n",
    "    res = db2.get(ngram.lower().encode('utf-8'))\n",
    "    if res:\n",
    "        return int(res.decode('utf-8'))\n",
    "    else:\n",
    "        return 0\n",
    "    \n",
    "def find3gram(ngram):  \n",
    "    res = db3.get(ngram.lower().encode('utf-8'))\n",
    "    if res:\n",
    "        return int(res.decode('utf-8'))\n",
    "    else:\n",
    "        return 0"
   ]
  },
  {
   "cell_type": "markdown",
   "metadata": {},
   "source": [
    "finds common ancestor in constituency tree:"
   ]
  },
  {
   "cell_type": "code",
   "execution_count": 103,
   "metadata": {},
   "outputs": [],
   "source": [
    "def common_ancestor(tree, i, j):\n",
    "    max = len(tree.leaves())\n",
    "    if (i >= max) or (j >= max):\n",
    "        return 'NONE'\n",
    "    tp1 = tree.leaf_treeposition(i)\n",
    "    tp2 = tree.leaf_treeposition(j)\n",
    "    atp = []\n",
    "    for tpi,tpj in zip(tp1, tp2):\n",
    "        if tpi == tpj:\n",
    "            atp.append(tpi)\n",
    "        else:\n",
    "            break\n",
    "    return tree[tuple(atp)].label()"
   ]
  },
  {
   "cell_type": "code",
   "execution_count": 101,
   "metadata": {},
   "outputs": [],
   "source": [
    "features_set2 = {\n",
    "    'word_._freq': \n",
    "    lambda e,i: find2gram(\" \".join([e['doc'][i].text,'.'])),\n",
    "    \n",
    "    '._word+1_freq':\n",
    "    lambda e,i: find2gram(\" \".join(['.', e['doc'][i+1].text])) if i+1<len(e['doc']) else 0,\n",
    "    \n",
    "    'word_._word+1_freq': \n",
    "    lambda e,i: find3gram(\" \".join([e['doc'][i].text, \".\", e['doc'][i+1].text])) if i+1<len(e['doc']) else 0,\n",
    "    \n",
    "    'word-1_word_._freq': \n",
    "    lambda e,i: find3gram(\" \".join([e['doc'][i-1].text if i-1>0 else '<S>', e['doc'][i].text,'.'])),\n",
    "    \n",
    "    'common_ancestor': \n",
    "    lambda e,i: common_ancestor(e['ctree'], i, i+1)\n",
    "}\n",
    "features_set2.update(features_set1)"
   ]
  },
  {
   "cell_type": "code",
   "execution_count": 214,
   "metadata": {
    "scrolled": false
   },
   "outputs": [
    {
     "data": {
      "application/vnd.jupyter.widget-view+json": {
       "model_id": "d65cb33594b042868108de0d74889f2d",
       "version_major": 2,
       "version_minor": 0
      },
      "text/plain": [
       "HBox(children=(IntProgress(value=0, max=50000), HTML(value='')))"
      ]
     },
     "metadata": {},
     "output_type": "display_data"
    }
   ],
   "source": [
    "with bz2.open('train.txt.bz2') as f:\n",
    "    (doc_features2, doc_labels2, docs2) = extract_features_for_all(f, features_set2, skip=0, limit=25000)"
   ]
  },
  {
   "cell_type": "code",
   "execution_count": 215,
   "metadata": {},
   "outputs": [],
   "source": [
    "pd.DataFrame(doc_features2).assign(label = doc_labels2).to_csv('features00.csv.bz2', compression='bz2')"
   ]
  },
  {
   "cell_type": "code",
   "execution_count": 221,
   "metadata": {},
   "outputs": [],
   "source": [
    "docs_all = pd.concat([pd.read_csv('features3.csv.bz2', compression='bz2', index_col=0),\n",
    "                      pd.read_csv('features4.csv.bz2', compression='bz2', index_col=0),\n",
    "                      pd.read_csv('features5.csv.bz2', compression='bz2', index_col=0),\n",
    "                      pd.read_csv('features6.csv.bz2', compression='bz2', index_col=0),\n",
    "                      pd.read_csv('features7.csv.bz2', compression='bz2', index_col=0)])\n",
    "\n",
    "docs_all = docs_all.dropna().reset_index(drop=True)\n",
    "docs_labels_all = docs_all['label']\n",
    "docs_features_all = docs_all.copy()\n",
    "del docs_features_all['label']"
   ]
  },
  {
   "cell_type": "code",
   "execution_count": 194,
   "metadata": {
    "scrolled": true
   },
   "outputs": [
    {
     "data": {
      "text/plain": [
       "{'fit_time': array([15.46146894, 16.18705082, 14.81109309]),\n",
       " 'score_time': array([6.49365211, 6.51948905, 6.47504616]),\n",
       " 'test_f1_pos': array([0.       , 0.0466563, 0.       ]),\n",
       " 'test_prec_pos': array([0.        , 0.67741935, 0.        ]),\n",
       " 'test_rec_pos': array([0.        , 0.02416015, 0.        ]),\n",
       " 'train_f1_pos': array([0.      , 0.045898, 0.      ]),\n",
       " 'train_prec_pos': array([0.        , 0.63109756, 0.        ]),\n",
       " 'train_rec_pos': array([0.      , 0.023815, 0.      ])}"
      ]
     },
     "execution_count": 194,
     "metadata": {},
     "output_type": "execute_result"
    }
   ],
   "source": [
    "pipe = Pipeline([\n",
    "    ('vectorizer', DictVectorizer()),\n",
    "    ('classifier', LogisticRegression())\n",
    "])\n",
    "evaluate(pipe, docs_features_all.to_dict('records'), docs_labels_all)"
   ]
  },
  {
   "cell_type": "markdown",
   "metadata": {},
   "source": [
    "#### Is it good to feed more data into classifier?"
   ]
  },
  {
   "cell_type": "code",
   "execution_count": 226,
   "metadata": {
    "scrolled": false
   },
   "outputs": [
    {
     "data": {
      "application/vnd.jupyter.widget-view+json": {
       "model_id": "6bb0198aee3544d780b9b3fac4a18311",
       "version_major": 2,
       "version_minor": 0
      },
      "text/plain": [
       "HBox(children=(IntProgress(value=0, max=10), HTML(value='')))"
      ]
     },
     "metadata": {},
     "output_type": "display_data"
    },
    {
     "name": "stderr",
     "output_type": "stream",
     "text": [
      "/Users/serhiinechyporhuk/.local/share/virtualenvs/SerhiiNechyporchuk-Ib9yWLjX/lib/python3.6/site-packages/sklearn/metrics/classification.py:1135: UndefinedMetricWarning: F-score is ill-defined and being set to 0.0 due to no predicted samples.\n",
      "  'precision', 'predicted', average, warn_for)\n",
      "/Users/serhiinechyporhuk/.local/share/virtualenvs/SerhiiNechyporchuk-Ib9yWLjX/lib/python3.6/site-packages/sklearn/metrics/classification.py:1135: UndefinedMetricWarning: Precision is ill-defined and being set to 0.0 due to no predicted samples.\n",
      "  'precision', 'predicted', average, warn_for)\n",
      "/Users/serhiinechyporhuk/.local/share/virtualenvs/SerhiiNechyporchuk-Ib9yWLjX/lib/python3.6/site-packages/sklearn/metrics/classification.py:1135: UndefinedMetricWarning: F-score is ill-defined and being set to 0.0 due to no predicted samples.\n",
      "  'precision', 'predicted', average, warn_for)\n",
      "/Users/serhiinechyporhuk/.local/share/virtualenvs/SerhiiNechyporchuk-Ib9yWLjX/lib/python3.6/site-packages/sklearn/metrics/classification.py:1135: UndefinedMetricWarning: Precision is ill-defined and being set to 0.0 due to no predicted samples.\n",
      "  'precision', 'predicted', average, warn_for)\n",
      "/Users/serhiinechyporhuk/.local/share/virtualenvs/SerhiiNechyporchuk-Ib9yWLjX/lib/python3.6/site-packages/sklearn/metrics/classification.py:1135: UndefinedMetricWarning: F-score is ill-defined and being set to 0.0 due to no predicted samples.\n",
      "  'precision', 'predicted', average, warn_for)\n",
      "/Users/serhiinechyporhuk/.local/share/virtualenvs/SerhiiNechyporchuk-Ib9yWLjX/lib/python3.6/site-packages/sklearn/metrics/classification.py:1135: UndefinedMetricWarning: Precision is ill-defined and being set to 0.0 due to no predicted samples.\n",
      "  'precision', 'predicted', average, warn_for)\n",
      "/Users/serhiinechyporhuk/.local/share/virtualenvs/SerhiiNechyporchuk-Ib9yWLjX/lib/python3.6/site-packages/sklearn/metrics/classification.py:1135: UndefinedMetricWarning: F-score is ill-defined and being set to 0.0 due to no predicted samples.\n",
      "  'precision', 'predicted', average, warn_for)\n",
      "/Users/serhiinechyporhuk/.local/share/virtualenvs/SerhiiNechyporchuk-Ib9yWLjX/lib/python3.6/site-packages/sklearn/metrics/classification.py:1135: UndefinedMetricWarning: Precision is ill-defined and being set to 0.0 due to no predicted samples.\n",
      "  'precision', 'predicted', average, warn_for)\n"
     ]
    },
    {
     "data": {
      "text/plain": [
       "<matplotlib.axes._subplots.AxesSubplot at 0x2b4cfde80>"
      ]
     },
     "execution_count": 226,
     "metadata": {},
     "output_type": "execute_result"
    },
    {
     "data": {
      "image/png": "[encoded data removed]",
      "text/plain": [
       "<Figure size 432x288 with 1 Axes>"
      ]
     },
     "metadata": {},
     "output_type": "display_data"
    }
   ],
   "source": [
    "results = []\n",
    "limits = [2000, 3000, 4000, 5000, 6000, 7000, 8000, 9000, 10000, 11000]\n",
    "for limit in tqdm_notebook(limits):\n",
    "    pipe = Pipeline([\n",
    "        ('vectorizer', DictVectorizer()),\n",
    "        ('classifier', LogisticRegression())\n",
    "    ])\n",
    "    res = evaluate(pipe, docs_features_all[:limit].to_dict('records'), docs_labels_all[:limit])\n",
    "    results.append(res)\n",
    "    \n",
    "pd.DataFrame([{'test_score': np.mean(result['test_f1_pos']),\n",
    "               'train_score': np.mean(result['train_f1_pos'])}\n",
    "              for result in results],\n",
    "             index=limits).plot()"
   ]
  },
  {
   "cell_type": "markdown",
   "metadata": {},
   "source": [
    "It is clear that adding more examples improves test score. "
   ]
  },
  {
   "cell_type": "markdown",
   "metadata": {},
   "source": [
    "### Let's play with resampled data"
   ]
  },
  {
   "cell_type": "code",
   "execution_count": 253,
   "metadata": {},
   "outputs": [
    {
     "data": {
      "text/plain": [
       "False    0.969362\n",
       "True     0.030638\n",
       "Name: label, dtype: float64"
      ]
     },
     "execution_count": 253,
     "metadata": {},
     "output_type": "execute_result"
    }
   ],
   "source": [
    "docs_all['label'].value_counts()/len(docs_all)"
   ]
  },
  {
   "cell_type": "code",
   "execution_count": 254,
   "metadata": {},
   "outputs": [],
   "source": [
    "def resample(df, ratio):\n",
    "    n = int(df['label'].sum()/ratio)\n",
    "    negs = df[df['label'] == 0].sample(n=n)\n",
    "    return pd.concat([df[df['label'] == 1], negs]).sample(n=np.sum(df['label'] == 1)+n)"
   ]
  },
  {
   "cell_type": "code",
   "execution_count": 257,
   "metadata": {
    "scrolled": true
   },
   "outputs": [
    {
     "data": {
      "application/vnd.jupyter.widget-view+json": {
       "model_id": "ad5354da053e4be0bbfe10ff02e58fcc",
       "version_major": 2,
       "version_minor": 0
      },
      "text/plain": [
       "HBox(children=(IntProgress(value=0, max=9), HTML(value='')))"
      ]
     },
     "metadata": {},
     "output_type": "display_data"
    },
    {
     "data": {
      "text/plain": [
       "<matplotlib.axes._subplots.AxesSubplot at 0x29fafc0f0>"
      ]
     },
     "execution_count": 257,
     "metadata": {},
     "output_type": "execute_result"
    },
    {
     "data": {
      "image/png": "[encoded data removed]",
      "text/plain": [
       "<Figure size 432x288 with 1 Axes>"
      ]
     },
     "metadata": {},
     "output_type": "display_data"
    }
   ],
   "source": [
    "results = []\n",
    "ratios = np.arange(0.05, 0.5, 0.05)\n",
    "for ratio in tqdm_notebook(ratios):\n",
    "    feats = resample(docs_all, ratio)\n",
    "    labels = feats['label']\n",
    "    del feats['label']\n",
    "    pipe = Pipeline([\n",
    "        ('vectorizer', DictVectorizer()),\n",
    "        ('classifier', LogisticRegression())\n",
    "    ])\n",
    "    res = evaluate(pipe, feats.to_dict('records'), labels)\n",
    "    results.append(res)\n",
    "pd.DataFrame([{'test_score': np.mean(result['test_f1_pos']),\n",
    "               'train_score': np.mean(result['train_f1_pos'])}\n",
    "              for result in results],\n",
    "             index=ratios).plot()"
   ]
  },
  {
   "cell_type": "markdown",
   "metadata": {},
   "source": [
    "Looks like test score is growing with number of examples"
   ]
  },
  {
   "cell_type": "code",
   "execution_count": 250,
   "metadata": {},
   "outputs": [],
   "source": [
    "from sklearn.manifold import TSNE\n",
    "\n",
    "dv = DictVectorizer()\n",
    "subdocs = resample(docs_all, 0.35)\n",
    "subdocs_labels = subdocs['label']\n",
    "del subdocs['label']\n",
    "features = dv.fit_transform(subdocs.iloc[:2000].to_dict('records')).toarray()\n",
    "tsne = TSNE(verbose=0)\n",
    "twod = tsne.fit_transform(features)"
   ]
  },
  {
   "cell_type": "code",
   "execution_count": 251,
   "metadata": {},
   "outputs": [
    {
     "data": {
      "text/plain": [
       "<matplotlib.collections.PathCollection at 0x29fb1b2e8>"
      ]
     },
     "execution_count": 251,
     "metadata": {},
     "output_type": "execute_result"
    },
    {
     "data": {
      "image/png": "[encoded data removed]",
      "text/plain": [
       "<Figure size 432x288 with 1 Axes>"
      ]
     },
     "metadata": {},
     "output_type": "display_data"
    }
   ],
   "source": [
    "plt.scatter(twod[:,0], twod[:, 1], c=subdocs_labels[:2000], s=2.5)"
   ]
  },
  {
   "cell_type": "markdown",
   "metadata": {},
   "source": [
    "That data doesn't look like linear seperable. But will see, high dimenstion spaces are weird "
   ]
  },
  {
   "cell_type": "markdown",
   "metadata": {},
   "source": [
    "### Load test set"
   ]
  },
  {
   "cell_type": "code",
   "execution_count": 76,
   "metadata": {},
   "outputs": [],
   "source": [
    "nlp_test = spacy.load('en_core_web_lg')"
   ]
  },
  {
   "cell_type": "code",
   "execution_count": 130,
   "metadata": {},
   "outputs": [],
   "source": [
    "test_features = []\n",
    "test_labels = []\n",
    "with open('../../../../tasks/07-language-as-sequence/run-on-test.json') as f:\n",
    "    for s in json.load(f):\n",
    "        doc = spacy.tokens.Doc(nlp_test.vocab, words=[t[0] for t in s])\n",
    "        nlp_test.tagger(doc)\n",
    "        nlp_test.parser(doc)\n",
    "        ctree = Tree.fromstring('(S)')\n",
    "        for i in range(len(doc)):\n",
    "            feats = extract_features(features_set1, doc, ctree, i)\n",
    "            test_features.append(feats)\n",
    "        sent_labels = [t[1] for t in s]\n",
    "        test_labels += sent_labels"
   ]
  },
  {
   "cell_type": "code",
   "execution_count": 131,
   "metadata": {},
   "outputs": [
    {
     "data": {
      "text/plain": [
       "(4697, 4697)"
      ]
     },
     "execution_count": 131,
     "metadata": {},
     "output_type": "execute_result"
    }
   ],
   "source": [
    "len(test_features),len(test_labels)"
   ]
  },
  {
   "cell_type": "code",
   "execution_count": 262,
   "metadata": {},
   "outputs": [
    {
     "ename": "NameError",
     "evalue": "name 'labels_all' is not defined",
     "output_type": "error",
     "traceback": [
      "\u001b[0;31m---------------------------------------------------------------------------\u001b[0m",
      "\u001b[0;31mNameError\u001b[0m                                 Traceback (most recent call last)",
      "\u001b[0;32m<ipython-input-262-a6fb0b136c2d>\u001b[0m in \u001b[0;36m<module>\u001b[0;34m()\u001b[0m\n\u001b[1;32m      2\u001b[0m \u001b[0;34m\u001b[0m\u001b[0m\n\u001b[1;32m      3\u001b[0m \u001b[0mgs\u001b[0m \u001b[0;34m=\u001b[0m \u001b[0mGridSearchCV\u001b[0m\u001b[0;34m(\u001b[0m\u001b[0mpipe\u001b[0m\u001b[0;34m,\u001b[0m \u001b[0;34m{\u001b[0m\u001b[0;34m'classifier__C'\u001b[0m\u001b[0;34m:\u001b[0m \u001b[0;36m10.\u001b[0m\u001b[0;34m**\u001b[0m\u001b[0;34m-\u001b[0m\u001b[0mnp\u001b[0m\u001b[0;34m.\u001b[0m\u001b[0marange\u001b[0m\u001b[0;34m(\u001b[0m\u001b[0;34m-\u001b[0m\u001b[0;36m5\u001b[0m\u001b[0;34m,\u001b[0m \u001b[0;36m2\u001b[0m\u001b[0;34m)\u001b[0m\u001b[0;34m}\u001b[0m\u001b[0;34m,\u001b[0m \u001b[0mreturn_train_score\u001b[0m\u001b[0;34m=\u001b[0m\u001b[0;32mTrue\u001b[0m\u001b[0;34m,\u001b[0m \u001b[0mcv\u001b[0m\u001b[0;34m=\u001b[0m\u001b[0;36m5\u001b[0m\u001b[0;34m)\u001b[0m\u001b[0;34m\u001b[0m\u001b[0m\n\u001b[0;32m----> 4\u001b[0;31m \u001b[0mgs\u001b[0m\u001b[0;34m.\u001b[0m\u001b[0mfit\u001b[0m\u001b[0;34m(\u001b[0m\u001b[0mdocs_all\u001b[0m\u001b[0;34m.\u001b[0m\u001b[0mto_dict\u001b[0m\u001b[0;34m(\u001b[0m\u001b[0;34m'records'\u001b[0m\u001b[0;34m)\u001b[0m\u001b[0;34m,\u001b[0m \u001b[0mlabels_all\u001b[0m\u001b[0;34m)\u001b[0m\u001b[0;34m\u001b[0m\u001b[0m\n\u001b[0m",
      "\u001b[0;31mNameError\u001b[0m: name 'labels_all' is not defined"
     ]
    }
   ],
   "source": [
    "from sklearn.model_selection import GridSearchCV\n",
    "\n",
    "gs = GridSearchCV(pipe, {'classifier__C': 10.**-np.arange(-5, 2)}, return_train_score=True, cv=5)\n",
    "gs.fit(docs_all.to_dict('records'), labels_all)"
   ]
  },
  {
   "cell_type": "code",
   "execution_count": 168,
   "metadata": {
    "scrolled": false
   },
   "outputs": [
    {
     "data": {
      "text/html": [
       "<div>\n",
       "<style scoped>\n",
       "    .dataframe tbody tr th:only-of-type {\n",
       "        vertical-align: middle;\n",
       "    }\n",
       "\n",
       "    .dataframe tbody tr th {\n",
       "        vertical-align: top;\n",
       "    }\n",
       "\n",
       "    .dataframe thead th {\n",
       "        text-align: right;\n",
       "    }\n",
       "</style>\n",
       "<table border=\"1\" class=\"dataframe\">\n",
       "  <thead>\n",
       "    <tr style=\"text-align: right;\">\n",
       "      <th></th>\n",
       "      <th>mean_fit_time</th>\n",
       "      <th>mean_score_time</th>\n",
       "      <th>mean_test_score</th>\n",
       "      <th>mean_train_score</th>\n",
       "      <th>param_classifier__C</th>\n",
       "      <th>params</th>\n",
       "      <th>rank_test_score</th>\n",
       "      <th>split0_test_score</th>\n",
       "      <th>split0_train_score</th>\n",
       "      <th>split1_test_score</th>\n",
       "      <th>...</th>\n",
       "      <th>split2_test_score</th>\n",
       "      <th>split2_train_score</th>\n",
       "      <th>split3_test_score</th>\n",
       "      <th>split3_train_score</th>\n",
       "      <th>split4_test_score</th>\n",
       "      <th>split4_train_score</th>\n",
       "      <th>std_fit_time</th>\n",
       "      <th>std_score_time</th>\n",
       "      <th>std_test_score</th>\n",
       "      <th>std_train_score</th>\n",
       "    </tr>\n",
       "  </thead>\n",
       "  <tbody>\n",
       "    <tr>\n",
       "      <th>0</th>\n",
       "      <td>2.344761</td>\n",
       "      <td>0.080778</td>\n",
       "      <td>0.791287</td>\n",
       "      <td>0.977566</td>\n",
       "      <td>100000</td>\n",
       "      <td>{'classifier__C': 100000.0}</td>\n",
       "      <td>7</td>\n",
       "      <td>0.785954</td>\n",
       "      <td>0.977999</td>\n",
       "      <td>0.801894</td>\n",
       "      <td>...</td>\n",
       "      <td>0.789069</td>\n",
       "      <td>0.978148</td>\n",
       "      <td>0.788871</td>\n",
       "      <td>0.974399</td>\n",
       "      <td>0.790647</td>\n",
       "      <td>0.977063</td>\n",
       "      <td>0.406037</td>\n",
       "      <td>0.003396</td>\n",
       "      <td>0.005516</td>\n",
       "      <td>0.001889</td>\n",
       "    </tr>\n",
       "    <tr>\n",
       "      <th>1</th>\n",
       "      <td>2.337905</td>\n",
       "      <td>0.078938</td>\n",
       "      <td>0.798982</td>\n",
       "      <td>0.976481</td>\n",
       "      <td>10000</td>\n",
       "      <td>{'classifier__C': 10000.0}</td>\n",
       "      <td>5</td>\n",
       "      <td>0.791083</td>\n",
       "      <td>0.977851</td>\n",
       "      <td>0.821231</td>\n",
       "      <td>...</td>\n",
       "      <td>0.790055</td>\n",
       "      <td>0.977803</td>\n",
       "      <td>0.793015</td>\n",
       "      <td>0.974695</td>\n",
       "      <td>0.799526</td>\n",
       "      <td>0.975583</td>\n",
       "      <td>0.428298</td>\n",
       "      <td>0.001879</td>\n",
       "      <td>0.011602</td>\n",
       "      <td>0.001234</td>\n",
       "    </tr>\n",
       "    <tr>\n",
       "      <th>2</th>\n",
       "      <td>2.598817</td>\n",
       "      <td>0.080910</td>\n",
       "      <td>0.792431</td>\n",
       "      <td>0.977408</td>\n",
       "      <td>1000</td>\n",
       "      <td>{'classifier__C': 1000.0}</td>\n",
       "      <td>6</td>\n",
       "      <td>0.790491</td>\n",
       "      <td>0.977802</td>\n",
       "      <td>0.805051</td>\n",
       "      <td>...</td>\n",
       "      <td>0.789266</td>\n",
       "      <td>0.978099</td>\n",
       "      <td>0.781768</td>\n",
       "      <td>0.974991</td>\n",
       "      <td>0.795580</td>\n",
       "      <td>0.975879</td>\n",
       "      <td>0.490814</td>\n",
       "      <td>0.001781</td>\n",
       "      <td>0.007703</td>\n",
       "      <td>0.001844</td>\n",
       "    </tr>\n",
       "    <tr>\n",
       "      <th>3</th>\n",
       "      <td>2.104485</td>\n",
       "      <td>0.082299</td>\n",
       "      <td>0.802415</td>\n",
       "      <td>0.974281</td>\n",
       "      <td>100</td>\n",
       "      <td>{'classifier__C': 100.0}</td>\n",
       "      <td>4</td>\n",
       "      <td>0.796410</td>\n",
       "      <td>0.976667</td>\n",
       "      <td>0.807616</td>\n",
       "      <td>...</td>\n",
       "      <td>0.798737</td>\n",
       "      <td>0.976964</td>\n",
       "      <td>0.789463</td>\n",
       "      <td>0.974695</td>\n",
       "      <td>0.819850</td>\n",
       "      <td>0.963301</td>\n",
       "      <td>0.543158</td>\n",
       "      <td>0.004128</td>\n",
       "      <td>0.010472</td>\n",
       "      <td>0.005724</td>\n",
       "    </tr>\n",
       "    <tr>\n",
       "      <th>4</th>\n",
       "      <td>1.499572</td>\n",
       "      <td>0.077637</td>\n",
       "      <td>0.818831</td>\n",
       "      <td>0.970266</td>\n",
       "      <td>10</td>\n",
       "      <td>{'classifier__C': 10.0}</td>\n",
       "      <td>3</td>\n",
       "      <td>0.816729</td>\n",
       "      <td>0.970353</td>\n",
       "      <td>0.827940</td>\n",
       "      <td>...</td>\n",
       "      <td>0.819653</td>\n",
       "      <td>0.969615</td>\n",
       "      <td>0.811365</td>\n",
       "      <td>0.969121</td>\n",
       "      <td>0.818469</td>\n",
       "      <td>0.969417</td>\n",
       "      <td>0.188858</td>\n",
       "      <td>0.003409</td>\n",
       "      <td>0.005365</td>\n",
       "      <td>0.001341</td>\n",
       "    </tr>\n",
       "    <tr>\n",
       "      <th>5</th>\n",
       "      <td>1.079643</td>\n",
       "      <td>0.082667</td>\n",
       "      <td>0.833669</td>\n",
       "      <td>0.903496</td>\n",
       "      <td>1</td>\n",
       "      <td>{'classifier__C': 1.0}</td>\n",
       "      <td>1</td>\n",
       "      <td>0.832117</td>\n",
       "      <td>0.905189</td>\n",
       "      <td>0.837609</td>\n",
       "      <td>...</td>\n",
       "      <td>0.840568</td>\n",
       "      <td>0.903320</td>\n",
       "      <td>0.825770</td>\n",
       "      <td>0.903172</td>\n",
       "      <td>0.832281</td>\n",
       "      <td>0.901001</td>\n",
       "      <td>0.077455</td>\n",
       "      <td>0.007722</td>\n",
       "      <td>0.005096</td>\n",
       "      <td>0.001478</td>\n",
       "    </tr>\n",
       "    <tr>\n",
       "      <th>6</th>\n",
       "      <td>0.676354</td>\n",
       "      <td>0.080421</td>\n",
       "      <td>0.829920</td>\n",
       "      <td>0.844550</td>\n",
       "      <td>0.1</td>\n",
       "      <td>{'classifier__C': 0.1}</td>\n",
       "      <td>2</td>\n",
       "      <td>0.830144</td>\n",
       "      <td>0.844712</td>\n",
       "      <td>0.832873</td>\n",
       "      <td>...</td>\n",
       "      <td>0.832478</td>\n",
       "      <td>0.843338</td>\n",
       "      <td>0.824191</td>\n",
       "      <td>0.847087</td>\n",
       "      <td>0.829913</td>\n",
       "      <td>0.844374</td>\n",
       "      <td>0.049006</td>\n",
       "      <td>0.001758</td>\n",
       "      <td>0.003103</td>\n",
       "      <td>0.001391</td>\n",
       "    </tr>\n",
       "  </tbody>\n",
       "</table>\n",
       "<p>7 rows × 21 columns</p>\n",
       "</div>"
      ],
      "text/plain": [
       "   mean_fit_time  mean_score_time  mean_test_score  mean_train_score  \\\n",
       "0       2.344761         0.080778         0.791287          0.977566   \n",
       "1       2.337905         0.078938         0.798982          0.976481   \n",
       "2       2.598817         0.080910         0.792431          0.977408   \n",
       "3       2.104485         0.082299         0.802415          0.974281   \n",
       "4       1.499572         0.077637         0.818831          0.970266   \n",
       "5       1.079643         0.082667         0.833669          0.903496   \n",
       "6       0.676354         0.080421         0.829920          0.844550   \n",
       "\n",
       "  param_classifier__C                       params  rank_test_score  \\\n",
       "0              100000  {'classifier__C': 100000.0}                7   \n",
       "1               10000   {'classifier__C': 10000.0}                5   \n",
       "2                1000    {'classifier__C': 1000.0}                6   \n",
       "3                 100     {'classifier__C': 100.0}                4   \n",
       "4                  10      {'classifier__C': 10.0}                3   \n",
       "5                   1       {'classifier__C': 1.0}                1   \n",
       "6                 0.1       {'classifier__C': 0.1}                2   \n",
       "\n",
       "   split0_test_score  split0_train_score  split1_test_score       ...         \\\n",
       "0           0.785954            0.977999           0.801894       ...          \n",
       "1           0.791083            0.977851           0.821231       ...          \n",
       "2           0.790491            0.977802           0.805051       ...          \n",
       "3           0.796410            0.976667           0.807616       ...          \n",
       "4           0.816729            0.970353           0.827940       ...          \n",
       "5           0.832117            0.905189           0.837609       ...          \n",
       "6           0.830144            0.844712           0.832873       ...          \n",
       "\n",
       "   split2_test_score  split2_train_score  split3_test_score  \\\n",
       "0           0.789069            0.978148           0.788871   \n",
       "1           0.790055            0.977803           0.793015   \n",
       "2           0.789266            0.978099           0.781768   \n",
       "3           0.798737            0.976964           0.789463   \n",
       "4           0.819653            0.969615           0.811365   \n",
       "5           0.840568            0.903320           0.825770   \n",
       "6           0.832478            0.843338           0.824191   \n",
       "\n",
       "   split3_train_score  split4_test_score  split4_train_score  std_fit_time  \\\n",
       "0            0.974399           0.790647            0.977063      0.406037   \n",
       "1            0.974695           0.799526            0.975583      0.428298   \n",
       "2            0.974991           0.795580            0.975879      0.490814   \n",
       "3            0.974695           0.819850            0.963301      0.543158   \n",
       "4            0.969121           0.818469            0.969417      0.188858   \n",
       "5            0.903172           0.832281            0.901001      0.077455   \n",
       "6            0.847087           0.829913            0.844374      0.049006   \n",
       "\n",
       "   std_score_time  std_test_score  std_train_score  \n",
       "0        0.003396        0.005516         0.001889  \n",
       "1        0.001879        0.011602         0.001234  \n",
       "2        0.001781        0.007703         0.001844  \n",
       "3        0.004128        0.010472         0.005724  \n",
       "4        0.003409        0.005365         0.001341  \n",
       "5        0.007722        0.005096         0.001478  \n",
       "6        0.001758        0.003103         0.001391  \n",
       "\n",
       "[7 rows x 21 columns]"
      ]
     },
     "execution_count": 168,
     "metadata": {},
     "output_type": "execute_result"
    }
   ],
   "source": [
    "pd.DataFrame(gs.cv_results_)"
   ]
  },
  {
   "cell_type": "code",
   "execution_count": 259,
   "metadata": {
    "scrolled": true
   },
   "outputs": [
    {
     "data": {
      "text/plain": [
       "{'fit_time': array([ 9.67538714, 14.0169704 ,  7.92578793]),\n",
       " 'score_time': array([1.91198611, 1.93295979, 2.09183407]),\n",
       " 'test_f1_pos': array([0.68902213, 0.69330511, 0.66901142]),\n",
       " 'test_prec_pos': array([0.81683231, 0.81895474, 0.81513713]),\n",
       " 'test_rec_pos': array([0.59579739, 0.60108287, 0.5673121 ]),\n",
       " 'train_f1_pos': array([0.74876329, 0.76752595, 0.70427858]),\n",
       " 'train_prec_pos': array([0.8777298 , 0.88617251, 0.85540984]),\n",
       " 'train_rec_pos': array([0.65284023, 0.67689837, 0.59853177])}"
      ]
     },
     "execution_count": 259,
     "metadata": {},
     "output_type": "execute_result"
    }
   ],
   "source": [
    "pipe = Pipeline([\n",
    "    ('vectorizer', DictVectorizer()),\n",
    "    ('classifier', LogisticRegression())\n",
    "])\n",
    "\n",
    "#pipe.fit(doc_features2, doc_labels2)\n",
    "feats = resample(docs_all, 0.40)\n",
    "labels = feats['label']\n",
    "del feats['label']\n",
    "pipe.fit(feats.to_dict('records'), labels)\n",
    "evaluate(pipe, feats.to_dict('records'), labels)"
   ]
  },
  {
   "cell_type": "code",
   "execution_count": 260,
   "metadata": {},
   "outputs": [
    {
     "data": {
      "text/plain": [
       "0.5327868852459016"
      ]
     },
     "execution_count": 260,
     "metadata": {},
     "output_type": "execute_result"
    }
   ],
   "source": [
    "f1_score(test_labels, pipe.predict(test_features))"
   ]
  },
  {
   "cell_type": "markdown",
   "metadata": {},
   "source": [
    "## Conslusions\n",
    "I have received `f1` score equals to `0.532`. It's not so good, but I see that feeding more data into classifier will make it better, so this is #1 to try. Its looks like adding more feature won't do the tricks, beacause we already have a good train score (`73%`). I saw that resempling improves validation score, but I'm afraid that I had to train on resampled dataset, but test on the skewed, so maybe this results with cv on upsampled data are not representative. "
   ]
  },
  {
   "cell_type": "code",
   "execution_count": null,
   "metadata": {},
   "outputs": [],
   "source": []
  }
 ],
 "metadata": {
  "kernelspec": {
   "display_name": "Python 3",
   "language": "python",
   "name": "python3"
  }
 },
 "nbformat": 4,
 "nbformat_minor": 2
}
