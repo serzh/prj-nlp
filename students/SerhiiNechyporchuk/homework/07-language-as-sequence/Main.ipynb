{
 "cells": [
  {
   "cell_type": "code",
   "execution_count": 107,
   "metadata": {},
   "outputs": [
    {
     "data": {
      "application/vnd.jupyter.widget-view+json": {
       "model_id": "4d86d9c85a0246e2be563884b6120dff",
       "version_major": 2,
       "version_minor": 0
      },
      "text/plain": [
       "HBox(children=(IntProgress(value=1, bar_style='info', max=1), HTML(value='')))"
      ]
     },
     "metadata": {},
     "output_type": "display_data"
    },
    {
     "data": {
      "text/plain": [
       "0it [00:00, ?it/s]"
      ]
     },
     "execution_count": 107,
     "metadata": {},
     "output_type": "execute_result"
    }
   ],
   "source": [
    "%matplotlib inline\n",
    "import bz2\n",
    "import spacy\n",
    "from spacy import displacy\n",
    "import en_core_web_lg\n",
    "import en_core_web_md\n",
    "import pandas as pd\n",
    "import numpy as np\n",
    "import re\n",
    "from collections import Counter\n",
    "from nltk.tokenize import word_tokenize\n",
    "import itertools as it\n",
    "import json\n",
    "from pprint import pprint\n",
    "from tqdm import tqdm_pandas, tqdm_notebook, tqdm\n",
    "import matplotlib.pyplot as plt\n",
    "from sklearn.feature_extraction import DictVectorizer\n",
    "from sklearn.metrics import make_scorer, f1_score, confusion_matrix, precision_score, recall_score\n",
    "from sklearn.model_selection import cross_validate, cross_val_score\n",
    "from sklearn.linear_model import LogisticRegression\n",
    "from sklearn.pipeline import Pipeline\n",
    "from stanfordcorenlp import StanfordCoreNLP\n",
    "from nltk.tree import Tree\n",
    "from IPython.lib import backgroundjobs as bg\n",
    "\n",
    "pd.set_option('display.max_colwidth', 500)\n",
    "tqdm_notebook()"
   ]
  },
  {
   "cell_type": "code",
   "execution_count": 641,
   "metadata": {
    "collapsed": true
   },
   "outputs": [],
   "source": [
    "tqdm.pandas()"
   ]
  },
  {
   "cell_type": "markdown",
   "metadata": {},
   "source": [
    "## Description\n",
    "This notebook covers the task of classication of end of sentences in run-on sentences. From this data posts with less then 2 sentences was removed. Also from this data collection of ngrams were generated. The ngrams were collected into `rocksdb` database, so I won't need to load in memory and it will have a sufficent search performance. The next step was do feature extraction. Features:\n",
    "\n",
    "* Token text\n",
    "* Next token text\n",
    "* Prev token text\n",
    "* Token POS\n",
    "* Next token POS\n",
    "* Prev token POS\n",
    "* Is current token titled\n",
    "* Is next token titled\n",
    "* Frequency of 2gram `<token> .`\n",
    "* Frequency of 2gram `. <token+1>`\n",
    "* Frequency of 3gram `<token> . <token+1>`\n",
    "* Frequency of 3gram `<token-1> <token> .`\n",
    "* Nearest common parent in constituency tree between `<token>` and `<token+1>`\n",
    "\n",
    "\n",
    "**Dataset**:  Usenet posts from http://www.psych.ualberta.ca/~westburylab/downloads/usenetcorpus.download.html\n",
    "\n",
    "**Data size**: 164000 posts with more than 1 sentences in each\n",
    "\n",
    "**Number on ngrams collected**: 2-grams=4574073, 3-grams=15220619"
   ]
  },
  {
   "cell_type": "markdown",
   "metadata": {},
   "source": [
    "## Feature extraction\n",
    "We will start with fetching some features from our dataset"
   ]
  },
  {
   "cell_type": "code",
   "execution_count": 21,
   "metadata": {
    "collapsed": true
   },
   "outputs": [],
   "source": [
    "snlp = StanfordCoreNLP('http://localhost', port=9000)"
   ]
  },
  {
   "cell_type": "code",
   "execution_count": 22,
   "metadata": {
    "collapsed": true
   },
   "outputs": [],
   "source": [
    "nlp_full = en_core_web_lg.load()\n",
    "nlp_sent = en_core_web_lg.load(disable=['parser', 'ner', 'textcat', 'tagger'])\n",
    "nlp_sent.add_pipe(nlp_sent.create_pipe('sentencizer'))"
   ]
  },
  {
   "cell_type": "markdown",
   "metadata": {},
   "source": [
    "Function for concating sentences and producing test examples"
   ]
  },
  {
   "cell_type": "code",
   "execution_count": 20,
   "metadata": {
    "collapsed": true
   },
   "outputs": [],
   "source": [
    "def concat_sents(sents):\n",
    "    tok_sents = [nlp_sent(sent) for sent in sents]\n",
    "    new_sent = sents[0][0:-1]\n",
    "    for i, sent in enumerate(sents[1:-1]):\n",
    "        if (np.random.choice([0, 1])) == 0:\n",
    "            new_sent += \" \" + sent[0].lower()\n",
    "        else:\n",
    "            new_sent += \" \" + sent[0]\n",
    "        new_sent += sent[1:-1]\n",
    "    if np.random.choice([0, 1]) == 0:\n",
    "        new_sent += \" \" + sents[-1][0].lower()\n",
    "    else:\n",
    "        new_sent += \" \" + sents[-1][0]\n",
    "    new_sent += sents[-1][1:]\n",
    "    \n",
    "    ends = [len(sent)-1 for sent in sents[:-1]]\n",
    "    ends[0] -= 1\n",
    "    return (new_sent, ends)"
   ]
  },
  {
   "cell_type": "markdown",
   "metadata": {},
   "source": [
    "Functions for extracting features"
   ]
  },
  {
   "cell_type": "code",
   "execution_count": 53,
   "metadata": {
    "collapsed": true
   },
   "outputs": [],
   "source": [
    "def extract_features(features, doc, ctree, i):\n",
    "    feats = {}\n",
    "    for name, f in features.items():\n",
    "        feats[name] = f({'doc': doc, 'ctree': ctree}, i)\n",
    "    return feats"
   ]
  },
  {
   "cell_type": "code",
   "execution_count": null,
   "metadata": {
    "collapsed": true
   },
   "outputs": [],
   "source": [
    "def extract_features_for_all(f, features, limit=2, skip=0):\n",
    "    items = list(it.islice(f, skip, limit+skip))\n",
    "    docs_features = []\n",
    "    docs_labels = []\n",
    "    docs = []\n",
    "    for item in tqdm_notebook(items):\n",
    "        sents = json.loads(item.decode('utf-8'))\n",
    "        (sent, ends) = concat_sents(sents)\n",
    "        doc = nlp_full(sent)\n",
    "        try:\n",
    "            stree = snlp.parse(sent)\n",
    "        except json.JSONDecodeError:\n",
    "            stree = '(S)'\n",
    "        ctree = Tree.fromstring(stree)\n",
    "        N = len(doc)\n",
    "        for i in range(N):\n",
    "            tok = doc[i]\n",
    "            feats = extract_features(features, doc, ctree, i)\n",
    "            if any([(tok.idx <= end) and (end < (tok.idx + len(tok.text))) for end in ends]):\n",
    "                docs_labels.append(True)\n",
    "            else:\n",
    "                docs_labels.append(False)\n",
    "            \n",
    "            docs_features.append(feats)\n",
    "            docs.append(tok.text.lower())\n",
    "    return (docs_features, docs_labels, docs)"
   ]
  },
  {
   "cell_type": "markdown",
   "metadata": {},
   "source": [
    "This function do cross validation with 3 folds, and evaluates f1, prec, rec for positive class"
   ]
  },
  {
   "cell_type": "code",
   "execution_count": 134,
   "metadata": {
    "collapsed": true
   },
   "outputs": [],
   "source": [
    "def evaluate(est, X, y):\n",
    "    f1_pos = make_scorer(f1_score, labels=[1])\n",
    "    prec_pos = make_scorer(precision_score, labels=[1])\n",
    "    rec_pos = make_scorer(recall_score, labels=[1])\n",
    "    return cross_validate(pipe, X, y, \n",
    "                          scoring={'f1_pos': f1_pos, 'prec_pos': prec_pos, 'rec_pos': rec_pos},\n",
    "                          return_train_score=True)"
   ]
  },
  {
   "cell_type": "markdown",
   "metadata": {},
   "source": [
    "### Features set #1\n",
    "Let's start with simple set of features:\n",
    "\n",
    "* Token text\n",
    "* Next token text\n",
    "* Prev token text\n",
    "* Token POS\n",
    "* Next token POS\n",
    "* Prev token POS\n",
    "* Is current token titled\n",
    "* Is next token titled"
   ]
  },
  {
   "cell_type": "code",
   "execution_count": 18,
   "metadata": {
    "collapsed": true
   },
   "outputs": [],
   "source": [
    "features_set1 = {\n",
    "    'text': lambda e,i: e['doc'][i].text.lower(),\n",
    "    'istitle': lambda e,i: e['doc'][i].is_title,\n",
    "    'pos': lambda e,i: e['doc'][i].pos_,\n",
    "    'text-1': lambda e,i: e['doc'][i-1].text if i-1 >= 0 else '<S>',\n",
    "    'pos-1': lambda e,i: e['doc'][i-1].pos_ if i-1 >= 0 else 'NONE',\n",
    "    'text+1': lambda e,i: e['doc'][i+1].text if i+1 < len(e['doc']) else '</S>',\n",
    "    'istitle+1': lambda e,i: e['doc'][i+1].is_title if i+1 < len(e['doc']) else False,\n",
    "    'pos+1': lambda e,i: e['doc'][i+1].pos_ if i+1 < len(e['doc']) else 'NONE'\n",
    "}"
   ]
  },
  {
   "cell_type": "markdown",
   "metadata": {},
   "source": [
    "Start extracting features for first 1000 of documents"
   ]
  },
  {
   "cell_type": "code",
   "execution_count": 263,
   "metadata": {},
   "outputs": [
    {
     "data": {
      "application/vnd.jupyter.widget-view+json": {
       "model_id": "af00f1f1f2c74780b418508c1c6b4fef",
       "version_major": 2,
       "version_minor": 0
      },
      "text/plain": [
       "HBox(children=(IntProgress(value=0, max=1000), HTML(value='')))"
      ]
     },
     "metadata": {},
     "output_type": "display_data"
    },
    {
     "name": "stdout",
     "output_type": "stream",
     "text": [
      "39983\n"
     ]
    }
   ],
   "source": [
    "with bz2.open('train.txt.bz2') as f:\n",
    "    (doc_features1, doc_labels1, docs1) = extract_features_for_all(f, features_set1, limit=1000)\n",
    "print(len(doc_features1))"
   ]
  },
  {
   "cell_type": "markdown",
   "metadata": {},
   "source": [
    "**Examples generated**: 39983"
   ]
  },
  {
   "cell_type": "code",
   "execution_count": 48,
   "metadata": {
    "collapsed": true
   },
   "outputs": [],
   "source": [
    "pd.DataFrame(doc_features1).assign(label = doc_labels1).to_csv('features1.csv.bz2', compression='bz2')"
   ]
  },
  {
   "cell_type": "code",
   "execution_count": 264,
   "metadata": {
    "scrolled": true
   },
   "outputs": [
    {
     "data": {
      "text/plain": [
       "fit_time         -13.423312\n",
       "score_time         0.427574\n",
       "test_f1_pos        0.177923\n",
       "test_prec_pos      0.598822\n",
       "test_rec_pos       0.106284\n",
       "train_f1_pos       0.386892\n",
       "train_prec_pos     0.917216\n",
       "train_rec_pos      0.245284\n",
       "dtype: float64"
      ]
     },
     "execution_count": 264,
     "metadata": {},
     "output_type": "execute_result"
    }
   ],
   "source": [
    "pipe = Pipeline([\n",
    "    ('vectorizer', DictVectorizer()),\n",
    "    ('classifier', LogisticRegression())\n",
    "])\n",
    "pd.DataFrame(evaluate(pipe, doc_features1, doc_labels1)).mean()"
   ]
  },
  {
   "cell_type": "markdown",
   "metadata": {},
   "source": [
    "## Feature set #2\n",
    "This feature set will include all features from set #1 and some new features:\n",
    "\n",
    "* Frequency of 2gram `<token> .`\n",
    "* Frequency of 2gram `. <token+1>`\n",
    "* Frequency of 3gram `<token> . <token+1>`\n",
    "* Frequency of 3gram `<token-1> <token> .`\n",
    "* Nearest common parent in constituency tree between `<token>` and `<token+1>`"
   ]
  },
  {
   "cell_type": "markdown",
   "metadata": {},
   "source": [
    "#### Ngrams"
   ]
  },
  {
   "cell_type": "code",
   "execution_count": 104,
   "metadata": {
    "collapsed": true
   },
   "outputs": [],
   "source": [
    "import rocksdb\n",
    "db2 = rocksdb.DB('ngrams2/2grams.db', rocksdb.Options(), read_only=True)\n",
    "db3 = rocksdb.DB('ngrams2/3grams.db', rocksdb.Options(), read_only=True)\n",
    "def find2gram(ngram):\n",
    "    res = db2.get(ngram.lower().encode('utf-8'))\n",
    "    if res:\n",
    "        return int(res.decode('utf-8'))\n",
    "    else:\n",
    "        return 0\n",
    "    \n",
    "def find3gram(ngram):  \n",
    "    res = db3.get(ngram.lower().encode('utf-8'))\n",
    "    if res:\n",
    "        return int(res.decode('utf-8'))\n",
    "    else:\n",
    "        return 0"
   ]
  },
  {
   "cell_type": "markdown",
   "metadata": {},
   "source": [
    "Let's find out how many ngrams I've collected"
   ]
  },
  {
   "cell_type": "code",
   "execution_count": 267,
   "metadata": {},
   "outputs": [
    {
     "name": "stdout",
     "output_type": "stream",
     "text": [
      "Number of 2grams: 4574073\n",
      "Number of 3grams: 15220619\n"
     ]
    }
   ],
   "source": [
    "grams2 = 0\n",
    "keys2 = db2.iterkeys()\n",
    "keys2.seek_to_first()\n",
    "for _ in keys2:\n",
    "    grams2 += 1\n",
    "print(\"Number of 2grams:\", grams2)\n",
    "\n",
    "grams3 = 0\n",
    "keys3 = db3.iterkeys()\n",
    "keys3.seek_to_first()\n",
    "for _ in keys3:\n",
    "    grams3 += 1\n",
    "print(\"Number of 3grams:\", grams3)"
   ]
  },
  {
   "cell_type": "markdown",
   "metadata": {},
   "source": [
    "#### Constituency tree\n",
    "This function finds common ancestor in constituency tree:"
   ]
  },
  {
   "cell_type": "code",
   "execution_count": 103,
   "metadata": {
    "collapsed": true
   },
   "outputs": [],
   "source": [
    "def common_ancestor(tree, i, j):\n",
    "    max = len(tree.leaves())\n",
    "    if (i >= max) or (j >= max):\n",
    "        return 'NONE'\n",
    "    tp1 = tree.leaf_treeposition(i)\n",
    "    tp2 = tree.leaf_treeposition(j)\n",
    "    atp = []\n",
    "    for tpi,tpj in zip(tp1, tp2):\n",
    "        if tpi == tpj:\n",
    "            atp.append(tpi)\n",
    "        else:\n",
    "            break\n",
    "    return tree[tuple(atp)].label()"
   ]
  },
  {
   "cell_type": "code",
   "execution_count": 101,
   "metadata": {
    "collapsed": true
   },
   "outputs": [],
   "source": [
    "features_set2 = {\n",
    "    'word_._freq': \n",
    "    lambda e,i: find2gram(\" \".join([e['doc'][i].text,'.'])),\n",
    "    \n",
    "    '._word+1_freq':\n",
    "    lambda e,i: find2gram(\" \".join(['.', e['doc'][i+1].text])) if i+1<len(e['doc']) else 0,\n",
    "    \n",
    "    'word_._word+1_freq': \n",
    "    lambda e,i: find3gram(\" \".join([e['doc'][i].text, \".\", e['doc'][i+1].text])) if i+1<len(e['doc']) else 0,\n",
    "    \n",
    "    'word-1_word_._freq': \n",
    "    lambda e,i: find3gram(\" \".join([e['doc'][i-1].text if i-1>0 else '<S>', e['doc'][i].text,'.'])),\n",
    "    \n",
    "    'common_ancestor': \n",
    "    lambda e,i: common_ancestor(e['ctree'], i, i+1)\n",
    "}\n",
    "features_set2.update(features_set1)"
   ]
  },
  {
   "cell_type": "code",
   "execution_count": 214,
   "metadata": {
    "scrolled": false
   },
   "outputs": [
    {
     "data": {
      "application/vnd.jupyter.widget-view+json": {
       "model_id": "d65cb33594b042868108de0d74889f2d",
       "version_major": 2,
       "version_minor": 0
      },
      "text/plain": [
       "HBox(children=(IntProgress(value=0, max=50000), HTML(value='')))"
      ]
     },
     "metadata": {},
     "output_type": "display_data"
    }
   ],
   "source": [
    "with bz2.open('train.txt.bz2') as f:\n",
    "    (doc_features2, doc_labels2, docs2) = extract_features_for_all(f, features_set2, skip=0, limit=25000)"
   ]
  },
  {
   "cell_type": "code",
   "execution_count": 215,
   "metadata": {
    "collapsed": true
   },
   "outputs": [],
   "source": [
    "pd.DataFrame(doc_features2).assign(label = doc_labels2).to_csv('features00.csv.bz2', compression='bz2')"
   ]
  },
  {
   "cell_type": "markdown",
   "metadata": {},
   "source": [
    "Collect all examples into one matrix"
   ]
  },
  {
   "cell_type": "code",
   "execution_count": 221,
   "metadata": {
    "collapsed": true
   },
   "outputs": [],
   "source": [
    "docs_all = pd.concat([pd.read_csv('features3.csv.bz2', compression='bz2', index_col=0),\n",
    "                      pd.read_csv('features4.csv.bz2', compression='bz2', index_col=0),\n",
    "                      pd.read_csv('features5.csv.bz2', compression='bz2', index_col=0),\n",
    "                      pd.read_csv('features6.csv.bz2', compression='bz2', index_col=0),\n",
    "                      pd.read_csv('features7.csv.bz2', compression='bz2', index_col=0)])\n",
    "\n",
    "docs_all = docs_all.dropna().reset_index(drop=True)\n",
    "docs_labels_all = docs_all['label']\n",
    "docs_features_all = docs_all.copy()\n",
    "del docs_features_all['label']"
   ]
  },
  {
   "cell_type": "code",
   "execution_count": 268,
   "metadata": {
    "scrolled": true
   },
   "outputs": [
    {
     "data": {
      "text/plain": [
       "fit_time          49.685736\n",
       "score_time        20.071271\n",
       "test_f1_pos        0.180542\n",
       "test_prec_pos      0.676055\n",
       "test_rec_pos       0.104368\n",
       "train_f1_pos       0.154091\n",
       "train_prec_pos     0.664669\n",
       "train_rec_pos      0.092088\n",
       "dtype: float64"
      ]
     },
     "execution_count": 268,
     "metadata": {},
     "output_type": "execute_result"
    }
   ],
   "source": [
    "pipe = Pipeline([\n",
    "    ('vectorizer', DictVectorizer()),\n",
    "    ('classifier', LogisticRegression())\n",
    "])\n",
    "pd.DataFrame(evaluate(pipe, docs_features_all.to_dict('records'), docs_labels_all)).mean()"
   ]
  },
  {
   "cell_type": "markdown",
   "metadata": {},
   "source": [
    "#### Is it good to feed more data into classifier?\n",
    "Let's if it a good idea to collect more data"
   ]
  },
  {
   "cell_type": "code",
   "execution_count": 226,
   "metadata": {
    "scrolled": false
   },
   "outputs": [
    {
     "data": {
      "application/vnd.jupyter.widget-view+json": {
       "model_id": "6bb0198aee3544d780b9b3fac4a18311",
       "version_major": 2,
       "version_minor": 0
      },
      "text/plain": [
       "HBox(children=(IntProgress(value=0, max=10), HTML(value='')))"
      ]
     },
     "metadata": {},
     "output_type": "display_data"
    },
    {
     "name": "stderr",
     "output_type": "stream",
     "text": [
      "/Users/serhiinechyporhuk/.local/share/virtualenvs/SerhiiNechyporchuk-Ib9yWLjX/lib/python3.6/site-packages/sklearn/metrics/classification.py:1135: UndefinedMetricWarning: F-score is ill-defined and being set to 0.0 due to no predicted samples.\n",
      "  'precision', 'predicted', average, warn_for)\n",
      "/Users/serhiinechyporhuk/.local/share/virtualenvs/SerhiiNechyporchuk-Ib9yWLjX/lib/python3.6/site-packages/sklearn/metrics/classification.py:1135: UndefinedMetricWarning: Precision is ill-defined and being set to 0.0 due to no predicted samples.\n",
      "  'precision', 'predicted', average, warn_for)\n",
      "/Users/serhiinechyporhuk/.local/share/virtualenvs/SerhiiNechyporchuk-Ib9yWLjX/lib/python3.6/site-packages/sklearn/metrics/classification.py:1135: UndefinedMetricWarning: F-score is ill-defined and being set to 0.0 due to no predicted samples.\n",
      "  'precision', 'predicted', average, warn_for)\n",
      "/Users/serhiinechyporhuk/.local/share/virtualenvs/SerhiiNechyporchuk-Ib9yWLjX/lib/python3.6/site-packages/sklearn/metrics/classification.py:1135: UndefinedMetricWarning: Precision is ill-defined and being set to 0.0 due to no predicted samples.\n",
      "  'precision', 'predicted', average, warn_for)\n",
      "/Users/serhiinechyporhuk/.local/share/virtualenvs/SerhiiNechyporchuk-Ib9yWLjX/lib/python3.6/site-packages/sklearn/metrics/classification.py:1135: UndefinedMetricWarning: F-score is ill-defined and being set to 0.0 due to no predicted samples.\n",
      "  'precision', 'predicted', average, warn_for)\n",
      "/Users/serhiinechyporhuk/.local/share/virtualenvs/SerhiiNechyporchuk-Ib9yWLjX/lib/python3.6/site-packages/sklearn/metrics/classification.py:1135: UndefinedMetricWarning: Precision is ill-defined and being set to 0.0 due to no predicted samples.\n",
      "  'precision', 'predicted', average, warn_for)\n",
      "/Users/serhiinechyporhuk/.local/share/virtualenvs/SerhiiNechyporchuk-Ib9yWLjX/lib/python3.6/site-packages/sklearn/metrics/classification.py:1135: UndefinedMetricWarning: F-score is ill-defined and being set to 0.0 due to no predicted samples.\n",
      "  'precision', 'predicted', average, warn_for)\n",
      "/Users/serhiinechyporhuk/.local/share/virtualenvs/SerhiiNechyporchuk-Ib9yWLjX/lib/python3.6/site-packages/sklearn/metrics/classification.py:1135: UndefinedMetricWarning: Precision is ill-defined and being set to 0.0 due to no predicted samples.\n",
      "  'precision', 'predicted', average, warn_for)\n"
     ]
    },
    {
     "data": {
      "text/plain": [
       "<matplotlib.axes._subplots.AxesSubplot at 0x2b4cfde80>"
      ]
     },
     "execution_count": 226,
     "metadata": {},
     "output_type": "execute_result"
    },
    {
     "data": {
      "image/png": "[encoded data removed]",
      "text/plain": [
       "<Figure size 432x288 with 1 Axes>"
      ]
     },
     "metadata": {},
     "output_type": "display_data"
    }
   ],
   "source": [
    "results = []\n",
    "limits = [2000, 3000, 4000, 5000, 6000, 7000, 8000, 9000, 10000, 11000]\n",
    "for limit in tqdm_notebook(limits):\n",
    "    pipe = Pipeline([\n",
    "        ('vectorizer', DictVectorizer()),\n",
    "        ('classifier', LogisticRegression())\n",
    "    ])\n",
    "    res = evaluate(pipe, docs_features_all[:limit].to_dict('records'), docs_labels_all[:limit])\n",
    "    results.append(res)\n",
    "    \n",
    "pd.DataFrame([{'test_score': np.mean(result['test_f1_pos']),\n",
    "               'train_score': np.mean(result['train_f1_pos'])}\n",
    "              for result in results],\n",
    "             index=limits).plot()"
   ]
  },
  {
   "cell_type": "markdown",
   "metadata": {},
   "source": [
    "It is clear that adding more examples improves test score. "
   ]
  },
  {
   "cell_type": "markdown",
   "metadata": {},
   "source": [
    "#### Let's play with resampled data\n",
    "It is obvious that dataset is skewed toward negative class, so it would be nice to check how downsampling affects train&test score"
   ]
  },
  {
   "cell_type": "code",
   "execution_count": 253,
   "metadata": {},
   "outputs": [
    {
     "data": {
      "text/plain": [
       "False    0.969362\n",
       "True     0.030638\n",
       "Name: label, dtype: float64"
      ]
     },
     "execution_count": 253,
     "metadata": {},
     "output_type": "execute_result"
    }
   ],
   "source": [
    "docs_all['label'].value_counts()/len(docs_all)"
   ]
  },
  {
   "cell_type": "code",
   "execution_count": 254,
   "metadata": {
    "collapsed": true
   },
   "outputs": [],
   "source": [
    "def resample(df, ratio):\n",
    "    n = int(df['label'].sum()/ratio)\n",
    "    negs = df[df['label'] == 0].sample(n=n)\n",
    "    return pd.concat([df[df['label'] == 1], negs]).sample(n=np.sum(df['label'] == 1)+n)"
   ]
  },
  {
   "cell_type": "markdown",
   "metadata": {},
   "source": [
    "Let's find out what downsample ratio give the best result"
   ]
  },
  {
   "cell_type": "code",
   "execution_count": 269,
   "metadata": {
    "scrolled": true
   },
   "outputs": [
    {
     "data": {
      "application/vnd.jupyter.widget-view+json": {
       "model_id": "3c9b68ef490044e9919fba2c6a7a17e7",
       "version_major": 2,
       "version_minor": 0
      },
      "text/plain": [
       "HBox(children=(IntProgress(value=0, max=13), HTML(value='')))"
      ]
     },
     "metadata": {},
     "output_type": "display_data"
    },
    {
     "data": {
      "text/plain": [
       "<matplotlib.axes._subplots.AxesSubplot at 0x1f8bb1240>"
      ]
     },
     "execution_count": 269,
     "metadata": {},
     "output_type": "execute_result"
    },
    {
     "data": {
      "image/png": "[encoded data removed]",
      "text/plain": [
       "<Figure size 432x288 with 1 Axes>"
      ]
     },
     "metadata": {},
     "output_type": "display_data"
    }
   ],
   "source": [
    "results = []\n",
    "ratios = np.arange(0.05, 0.7, 0.05)\n",
    "for ratio in tqdm_notebook(ratios):\n",
    "    feats = resample(docs_all, ratio)\n",
    "    labels = feats['label']\n",
    "    del feats['label']\n",
    "    pipe = Pipeline([\n",
    "        ('vectorizer', DictVectorizer()),\n",
    "        ('classifier', LogisticRegression())\n",
    "    ])\n",
    "    res = evaluate(pipe, feats.to_dict('records'), labels)\n",
    "    results.append(res)\n",
    "pd.DataFrame([{'test_score': np.mean(result['test_f1_pos']),\n",
    "               'train_score': np.mean(result['train_f1_pos'])}\n",
    "              for result in results],\n",
    "             index=ratios).plot()"
   ]
  },
  {
   "cell_type": "markdown",
   "metadata": {},
   "source": [
    "Looks like test score is growing with the ratio"
   ]
  },
  {
   "cell_type": "markdown",
   "metadata": {},
   "source": [
    "#### Visualizing dataset\n",
    "Let's use tSNE to look how data is organized"
   ]
  },
  {
   "cell_type": "code",
   "execution_count": 270,
   "metadata": {
    "collapsed": true
   },
   "outputs": [],
   "source": [
    "from sklearn.manifold import TSNE\n",
    "\n",
    "dv = DictVectorizer()\n",
    "subdocs = resample(docs_all, 0.35)\n",
    "subdocs_labels = subdocs['label']\n",
    "del subdocs['label']\n",
    "features = dv.fit_transform(subdocs.iloc[:2000].to_dict('records')).toarray()\n",
    "tsne = TSNE(verbose=0)\n",
    "twod = tsne.fit_transform(features)"
   ]
  },
  {
   "cell_type": "code",
   "execution_count": 271,
   "metadata": {
    "scrolled": true
   },
   "outputs": [
    {
     "data": {
      "text/plain": [
       "<matplotlib.collections.PathCollection at 0x1feb122e8>"
      ]
     },
     "execution_count": 271,
     "metadata": {},
     "output_type": "execute_result"
    },
    {
     "data": {
      "image/png": "[encoded data removed]",
      "text/plain": [
       "<Figure size 432x288 with 1 Axes>"
      ]
     },
     "metadata": {},
     "output_type": "display_data"
    }
   ],
   "source": [
    "plt.scatter(twod[:,0], twod[:, 1], c=subdocs_labels[:2000], s=2.5)"
   ]
  },
  {
   "cell_type": "markdown",
   "metadata": {},
   "source": [
    "That data doesn't look like linear seperable. But will see, high dimenstion spaces are weird "
   ]
  },
  {
   "cell_type": "markdown",
   "metadata": {},
   "source": [
    "#### Training\n",
    "Let's train classifier with best ratio of classes and look at performance on test set"
   ]
  },
  {
   "cell_type": "code",
   "execution_count": 272,
   "metadata": {
    "scrolled": true
   },
   "outputs": [
    {
     "data": {
      "text/plain": [
       "fit_time          8.109913\n",
       "score_time        1.912543\n",
       "test_f1_pos       0.686241\n",
       "test_prec_pos     0.815414\n",
       "test_rec_pos      0.592622\n",
       "train_f1_pos      0.751174\n",
       "train_prec_pos    0.878441\n",
       "train_rec_pos     0.656307\n",
       "dtype: float64"
      ]
     },
     "execution_count": 272,
     "metadata": {},
     "output_type": "execute_result"
    }
   ],
   "source": [
    "pipe = Pipeline([\n",
    "    ('vectorizer', DictVectorizer()),\n",
    "    ('classifier', LogisticRegression())\n",
    "])\n",
    "\n",
    "#pipe.fit(doc_features2, doc_labels2)\n",
    "feats = resample(docs_all, 0.40)\n",
    "labels = feats['label']\n",
    "del feats['label']\n",
    "pipe.fit(feats.to_dict('records'), labels)\n",
    "pd.DataFrame(evaluate(pipe, feats.to_dict('records'), labels)).mean()"
   ]
  },
  {
   "cell_type": "markdown",
   "metadata": {},
   "source": [
    "### Load test set"
   ]
  },
  {
   "cell_type": "code",
   "execution_count": 76,
   "metadata": {
    "collapsed": true
   },
   "outputs": [],
   "source": [
    "nlp_test = spacy.load('en_core_web_lg')"
   ]
  },
  {
   "cell_type": "code",
   "execution_count": 130,
   "metadata": {
    "collapsed": true
   },
   "outputs": [],
   "source": [
    "test_features = []\n",
    "test_labels = []\n",
    "with open('../../../../tasks/07-language-as-sequence/run-on-test.json') as f:\n",
    "    for s in json.load(f):\n",
    "        doc = spacy.tokens.Doc(nlp_test.vocab, words=[t[0] for t in s])\n",
    "        nlp_test.tagger(doc)\n",
    "        nlp_test.parser(doc)\n",
    "        ctree = Tree.fromstring('(S)')\n",
    "        for i in range(len(doc)):\n",
    "            feats = extract_features(features_set1, doc, ctree, i)\n",
    "            test_features.append(feats)\n",
    "        sent_labels = [t[1] for t in s]\n",
    "        test_labels += sent_labels"
   ]
  },
  {
   "cell_type": "markdown",
   "metadata": {},
   "source": [
    "#### Performance testing on test set"
   ]
  },
  {
   "cell_type": "code",
   "execution_count": 273,
   "metadata": {},
   "outputs": [
    {
     "data": {
      "text/plain": [
       "0.5778781038374717"
      ]
     },
     "execution_count": 273,
     "metadata": {},
     "output_type": "execute_result"
    }
   ],
   "source": [
    "f1_score(test_labels, pipe.predict(test_features))"
   ]
  },
  {
   "cell_type": "markdown",
   "metadata": {},
   "source": [
    "## Conslusions\n",
    "I have received `f1` score equals to `0.532`. It's not so good, but I see that feeding more data into classifier will make it better, so this is #1 to try. Its looks like adding more feature won't do the tricks, beacause we already have a good train score (`73%`). I saw that resempling improves validation score, but I'm afraid that I had to train on resampled dataset, but test on the skewed, so maybe this results with cv on upsampled data are not representative. "
   ]
  },
  {
   "cell_type": "code",
   "execution_count": null,
   "metadata": {
    "collapsed": true
   },
   "outputs": [],
   "source": []
  }
 ],
 "metadata": {
  "kernelspec": {
   "display_name": "Python 3",
   "language": "python",
   "name": "python3"
  },
  "language_info": {
   "codemirror_mode": {
    "name": "ipython",
    "version": 3
   },
   "file_extension": ".py",
   "mimetype": "text/x-python",
   "name": "python",
   "nbconvert_exporter": "python",
   "pygments_lexer": "ipython3",
   "version": "3.6.1"
  }
 },
 "nbformat": 4,
 "nbformat_minor": 2
}
