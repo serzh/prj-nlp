{
 "cells": [
  {
   "cell_type": "code",
   "execution_count": 7,
   "metadata": {},
   "outputs": [],
   "source": [
    "import bz2\n",
    "import os\n",
    "import numpy as np\n",
    "%matplotlib inline\n",
    "\n",
    "import conllu\n",
    "import pandas as pd\n",
    "import numpy as np\n",
    "import spacy\n",
    "import en_core_web_lg\n",
    "import collections\n",
    "from sklearn.pipeline import Pipeline\n",
    "from sklearn.feature_extraction import DictVectorizer\n",
    "from sklearn.feature_extraction.text import CountVectorizer\n",
    "from sklearn.decomposition import PCA, TruncatedSVD\n",
    "from sklearn.model_selection import cross_validate\n",
    "from sklearn.metrics import classification_report, make_scorer, precision_recall_fscore_support\n",
    "from sklearn.naive_bayes import MultinomialNB\n",
    "from sklearn.linear_model import LogisticRegression\n",
    "from sklearn.svm import SVC\n",
    "from tqdm import tqdm, tqdm_notebook"
   ]
  },
  {
   "cell_type": "code",
   "execution_count": 3,
   "metadata": {},
   "outputs": [
    {
     "name": "stderr",
     "output_type": "stream",
     "text": [
      "/Users/serhiinechyporhuk/.local/share/virtualenvs/SerhiiNechyporchuk-Ib9yWLjX/lib/python3.6/site-packages/h5py/__init__.py:36: FutureWarning: Conversion of the second argument of issubdtype from `float` to `np.floating` is deprecated. In future, it will be treated as `np.float64 == np.dtype(float).type`.\n",
      "  from ._conv import register_converters as _register_converters\n",
      "Using TensorFlow backend.\n"
     ]
    }
   ],
   "source": [
    "from keras.models import Sequential\n",
    "from keras.layers import Dense"
   ]
  },
  {
   "cell_type": "code",
   "execution_count": 9,
   "metadata": {},
   "outputs": [
    {
     "data": {
      "application/vnd.jupyter.widget-view+json": {
       "model_id": "923c90a98c9c4ac88132422f825f9232",
       "version_major": 2,
       "version_minor": 0
      },
      "text/plain": [
       "HBox(children=(IntProgress(value=0, max=595119), HTML(value='')))"
      ]
     },
     "metadata": {},
     "output_type": "display_data"
    },
    {
     "name": "stdout",
     "output_type": "stream",
     "text": [
      "\n"
     ]
    }
   ],
   "source": [
    "# Load embeddings\n",
    "embedding_index = {}\n",
    "f = bz2.open(\"/Users/serhiinechyporhuk/courses/ubercorpus.cased.tokenized.glove.300d.bz2\")\n",
    "for i,line in tqdm_notebook(enumerate(f), total=595119):\n",
    "    values = line.split()\n",
    "    word = values[0]\n",
    "    coefs = np.asarray(values[1:], dtype='float32')\n",
    "    embedding_index[word] = coefs\n",
    "f.close()"
   ]
  },
  {
   "cell_type": "code",
   "execution_count": 10,
   "metadata": {},
   "outputs": [
    {
     "name": "stdout",
     "output_type": "stream",
     "text": [
      "Number of word embeddings: 595119\n"
     ]
    }
   ],
   "source": [
    "print(\"Number of word embeddings:\", len(embedding_index))"
   ]
  },
  {
   "cell_type": "code",
   "execution_count": 12,
   "metadata": {},
   "outputs": [],
   "source": [
    "train = conllu.parse(open(\"uk_iu-ud-train.conllu\").read())\n",
    "test = conllu.parse(open(\"uk_iu-ud-test.conllu\").read())\n",
    "dev = conllu.parse(open(\"uk_iu-ud-dev.conllu\").read())"
   ]
  },
  {
   "cell_type": "code",
   "execution_count": 13,
   "metadata": {},
   "outputs": [
    {
     "data": {
      "application/vnd.jupyter.widget-view+json": {
       "model_id": "1bb174b2a2f441dfaa88aa35a707f1c9",
       "version_major": 2,
       "version_minor": 0
      },
      "text/plain": [
       "HBox(children=(IntProgress(value=0, max=4513), HTML(value='')))"
      ]
     },
     "metadata": {},
     "output_type": "display_data"
    },
    {
     "name": "stdout",
     "output_type": "stream",
     "text": [
      "\n",
      "Length of dictionary: 23976\n",
      "Unique labels: 49\n"
     ]
    }
   ],
   "source": [
    "word_index = {}\n",
    "labels_uniq = set()\n",
    "i = 0\n",
    "for row in tqdm_notebook(train):\n",
    "    for odict in row:\n",
    "        if odict['form'] not in word_index:\n",
    "            word_index[odict['form']] = i\n",
    "            i+=1\n",
    "        labels_uniq.add(odict['deprel'])\n",
    "print(\"Length of dictionary:\", len(word_index))\n",
    "print(\"Unique labels:\", len(labels_uniq))"
   ]
  },
  {
   "cell_type": "code",
   "execution_count": 14,
   "metadata": {},
   "outputs": [],
   "source": [
    "labels = dict(zip(sorted(labels_uniq), range(len(labels_uniq))))"
   ]
  },
  {
   "cell_type": "code",
   "execution_count": 16,
   "metadata": {},
   "outputs": [],
   "source": [
    "VECT_LENGTH=300\n",
    "VOCAB_LENGTH = len(word_index)\n",
    "INPUT_LENGTH = 2\n",
    "OUTPUT_LENGTH = len(labels_uniq)"
   ]
  },
  {
   "cell_type": "code",
   "execution_count": 17,
   "metadata": {},
   "outputs": [
    {
     "data": {
      "application/vnd.jupyter.widget-view+json": {
       "model_id": "ea9ca015ab2c42f7af9f99895c7572fa",
       "version_major": 2,
       "version_minor": 0
      },
      "text/plain": [
       "HBox(children=(IntProgress(value=0, max=4513), HTML(value='')))"
      ]
     },
     "metadata": {},
     "output_type": "display_data"
    },
    {
     "name": "stdout",
     "output_type": "stream",
     "text": [
      "\n"
     ]
    }
   ],
   "source": [
    "from keras.utils import to_categorical\n",
    "def prepare(rows):\n",
    "    X_train1 = []\n",
    "    X_train2 = []\n",
    "    y_train = []\n",
    "    for row in tqdm_notebook(rows):\n",
    "        for odict in row:\n",
    "            if odict['head'] > 0 and odict['deprel'] in labels:\n",
    "                child = odict['form']\n",
    "                head = row[odict['head']-1]['form']\n",
    "                child_idx = word_index.get(child, VOCAB_LENGTH)\n",
    "                head_idx = word_index.get(head, VOCAB_LENGTH)\n",
    "                X_train1.append(np.asarray([child_idx]),)\n",
    "                X_train2.append(np.asarray([head_idx]))\n",
    "                y_train.append(labels[odict['deprel']])\n",
    "    return (np.asarray(X_train1), np.asarray(X_train2)), to_categorical(y_train)\n",
    "\n",
    "(X_train1, X_train2), y_train = prepare(train)"
   ]
  },
  {
   "cell_type": "code",
   "execution_count": 18,
   "metadata": {},
   "outputs": [
    {
     "data": {
      "text/plain": [
       "(23976, 49, 70585)"
      ]
     },
     "execution_count": 18,
     "metadata": {},
     "output_type": "execute_result"
    }
   ],
   "source": [
    "VOCAB_LENGTH, OUTPUT_LENGTH, len(X_train1)"
   ]
  },
  {
   "cell_type": "code",
   "execution_count": 19,
   "metadata": {},
   "outputs": [],
   "source": [
    "embedding_matrix = np.zeros((VOCAB_LENGTH+1, VECT_LENGTH))\n",
    "for word,i in word_index.items():\n",
    "    embedding_vector = embedding_index.get(word.encode('utf8'))\n",
    "    if embedding_vector is not None:\n",
    "        embedding_matrix[i] = embedding_vector"
   ]
  },
  {
   "cell_type": "code",
   "execution_count": 20,
   "metadata": {},
   "outputs": [
    {
     "data": {
      "text/plain": [
       "(23977, 300)"
      ]
     },
     "execution_count": 20,
     "metadata": {},
     "output_type": "execute_result"
    }
   ],
   "source": [
    "embedding_matrix.shape"
   ]
  },
  {
   "cell_type": "code",
   "execution_count": 21,
   "metadata": {},
   "outputs": [],
   "source": [
    "from keras import backend as K\n",
    "\n",
    "def f1(y_true, y_pred):\n",
    "    def recall(y_true, y_pred):\n",
    "        \"\"\"Recall metric.\n",
    "\n",
    "        Only computes a batch-wise average of recall.\n",
    "\n",
    "        Computes the recall, a metric for multi-label classification of\n",
    "        how many relevant items are selected.\n",
    "        \"\"\"\n",
    "        true_positives = K.sum(K.round(K.clip(y_true * y_pred, 0, 1)))\n",
    "        possible_positives = K.sum(K.round(K.clip(y_true, 0, 1)))\n",
    "        recall = true_positives / (possible_positives + K.epsilon())\n",
    "        return recall\n",
    "\n",
    "    def precision(y_true, y_pred):\n",
    "        \"\"\"Precision metric.\n",
    "\n",
    "        Only computes a batch-wise average of precision.\n",
    "\n",
    "        Computes the precision, a metric for multi-label classification of\n",
    "        how many selected items are relevant.\n",
    "        \"\"\"\n",
    "        true_positives = K.sum(K.round(K.clip(y_true * y_pred, 0, 1)))\n",
    "        predicted_positives = K.sum(K.round(K.clip(y_pred, 0, 1)))\n",
    "        precision = true_positives / (predicted_positives + K.epsilon())\n",
    "        return precision\n",
    "    precision = precision(y_true, y_pred)\n",
    "    recall = recall(y_true, y_pred)\n",
    "    return 2*((precision*recall)/(precision+recall+K.epsilon()))\n"
   ]
  },
  {
   "cell_type": "code",
   "execution_count": 22,
   "metadata": {},
   "outputs": [],
   "source": [
    "from keras.layers import Input, Embedding, Concatenate, Flatten\n",
    "from keras.models import Model\n",
    "\n",
    "w1 = Input(shape=(1,), dtype='int32', name='w1')\n",
    "embed_w1 = Embedding(\n",
    "    VOCAB_LENGTH+1,\n",
    "    VECT_LENGTH,\n",
    "    weights=[embedding_matrix],\n",
    "    input_length=1,\n",
    "    trainable=False\n",
    ")(w1)\n",
    "\n",
    "w2 = Input(shape=(1,), dtype='int32', name='w2')\n",
    "embed_w2 = Embedding(\n",
    "    VOCAB_LENGTH+1,\n",
    "    VECT_LENGTH,\n",
    "    weights=[embedding_matrix],\n",
    "    input_length=1,\n",
    "    trainable=False\n",
    ")(w2)\n",
    "\n",
    "\n",
    "x = Concatenate(axis=-1, name='concat')([embed_w1, embed_w2])\n",
    "x = Dense(1000, activation='relu', name='dense1')(x)\n",
    "x = Flatten()(x)\n",
    "x = Dense(OUTPUT_LENGTH, activation='softmax', name='outputl')(x)\n",
    "\n",
    "model = Model(inputs=[w1, w2], outputs=x)\n",
    "model.compile(loss='categorical_crossentropy',\n",
    "              optimizer='rmsprop',\n",
    "              metrics=['acc', f1])"
   ]
  },
  {
   "cell_type": "code",
   "execution_count": 23,
   "metadata": {
    "scrolled": false
   },
   "outputs": [
    {
     "name": "stdout",
     "output_type": "stream",
     "text": [
      "Epoch 1/5\n",
      "70585/70585 [==============================] - 22s 307us/step - loss: 1.2103 - acc: 0.6784 - f1: 0.6552\n",
      "Epoch 2/5\n",
      "70585/70585 [==============================] - 19s 267us/step - loss: 0.7952 - acc: 0.7904 - f1: 0.7887\n",
      "Epoch 3/5\n",
      "70585/70585 [==============================] - 19s 268us/step - loss: 0.5932 - acc: 0.8432 - f1: 0.8435\n",
      "Epoch 4/5\n",
      "70585/70585 [==============================] - 23s 328us/step - loss: 0.4525 - acc: 0.8835 - f1: 0.8840\n",
      "Epoch 5/5\n",
      "70585/70585 [==============================] - 25s 348us/step - loss: 0.3647 - acc: 0.9086 - f1: 0.9089\n"
     ]
    },
    {
     "data": {
      "text/plain": [
       "<keras.callbacks.History at 0x134bec978>"
      ]
     },
     "execution_count": 23,
     "metadata": {},
     "output_type": "execute_result"
    }
   ],
   "source": [
    "model.fit(x={'w1': X_train1, 'w2': X_train2}, y=y_train, epochs=5,)"
   ]
  },
  {
   "cell_type": "code",
   "execution_count": 24,
   "metadata": {},
   "outputs": [
    {
     "data": {
      "application/vnd.jupyter.widget-view+json": {
       "model_id": "a5ca2099c42d4de591917c08522991dd",
       "version_major": 2,
       "version_minor": 0
      },
      "text/plain": [
       "HBox(children=(IntProgress(value=0, max=783), HTML(value='')))"
      ]
     },
     "metadata": {},
     "output_type": "display_data"
    },
    {
     "name": "stdout",
     "output_type": "stream",
     "text": [
      "\n"
     ]
    }
   ],
   "source": [
    "(X_test1, X_test2), y_test = prepare(test)"
   ]
  },
  {
   "cell_type": "code",
   "execution_count": 25,
   "metadata": {},
   "outputs": [
    {
     "name": "stdout",
     "output_type": "stream",
     "text": [
      "14154/14154 [==============================] - 1s 103us/step\n"
     ]
    },
    {
     "data": {
      "text/plain": [
       "[2.0349075026779637, 0.5992652253695627, 0.5993291275370201]"
      ]
     },
     "execution_count": 25,
     "metadata": {},
     "output_type": "execute_result"
    }
   ],
   "source": [
    "model.evaluate(x={'w1': X_test1, 'w2': X_test2}, y=y_test)"
   ]
  },
  {
   "cell_type": "code",
   "execution_count": null,
   "metadata": {},
   "outputs": [],
   "source": []
  }
 ],
 "metadata": {
  "kernelspec": {
   "display_name": "Python 3",
   "language": "python",
   "name": "python3"
  },
  "language_info": {
   "codemirror_mode": {
    "name": "ipython",
    "version": 3
   },
   "file_extension": ".py",
   "mimetype": "text/x-python",
   "name": "python",
   "nbconvert_exporter": "python",
   "pygments_lexer": "ipython3",
   "version": "3.6.0"
  }
 },
 "nbformat": 4,
 "nbformat_minor": 2
}
