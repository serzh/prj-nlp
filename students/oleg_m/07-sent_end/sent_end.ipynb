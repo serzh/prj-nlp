{
 "cells": [
  {
   "cell_type": "markdown",
   "metadata": {},
   "source": [
    "# End of sentence recognition"
   ]
  },
  {
   "cell_type": "markdown",
   "metadata": {},
   "source": [
    "read prepared file"
   ]
  },
  {
   "cell_type": "code",
   "execution_count": 55,
   "metadata": {},
   "outputs": [],
   "source": [
    "import pandas as pd\n",
    "from sklearn.feature_extraction.text import CountVectorizer\n",
    "\n",
    "df = pd.read_csv('lucene_corpus.zip', compression='zip')\n",
    "df.replace(['False', 'True'], [0, 1], inplace=True)"
   ]
  },
  {
   "cell_type": "markdown",
   "metadata": {},
   "source": [
    "Earlier, I prepared a file with lists of 3-grams (w-1 w {EOS} w+1) and words which were the end of sentence (EOS)."
   ]
  },
  {
   "cell_type": "code",
   "execution_count": 2,
   "metadata": {},
   "outputs": [],
   "source": [
    "counts = pd.read_csv('eos_ngrams.zip', header=None, sep='\\t', compression='zip')\n",
    "\n",
    "# 3-grams (as is and lemmas)\n",
    "end_threegrams_count = counts[0].value_counts().to_dict()\n",
    "end_threegrams_lem_count = counts[1].value_counts().to_dict()\n",
    "threegrams_count = df['threegrams'].value_counts().to_dict()\n",
    "threegrams_lem_count = df['threegrams_lemma'].value_counts().to_dict()\n",
    "\n",
    "# 1-grams (as is and lemmas)\n",
    "end_word_count = counts[2].value_counts().to_dict()\n",
    "end_word_lem_count = counts[3].value_counts().to_dict()\n",
    "word_count = df['n_token_text'].value_counts().to_dict()\n",
    "word_lem_count = df['n_lemma'].value_counts().to_dict()"
   ]
  },
  {
   "cell_type": "code",
   "execution_count": 3,
   "metadata": {},
   "outputs": [
    {
     "data": {
      "text/plain": [
       "False    251176\n",
       "True      10544\n",
       "Name: label, dtype: int64"
      ]
     },
     "execution_count": 3,
     "metadata": {},
     "output_type": "execute_result"
    }
   ],
   "source": [
    "df.label.value_counts()"
   ]
  },
  {
   "cell_type": "markdown",
   "metadata": {},
   "source": [
    "The df is very unbalanced. Let's try to decrease it.\n",
    "First, calculate the frequency how often such words and n-grams are in the EOS."
   ]
  },
  {
   "cell_type": "code",
   "execution_count": 4,
   "metadata": {},
   "outputs": [],
   "source": [
    "end_3_freq = {k: end_threegrams_count.get(k, 0.0)/v for k, v in threegrams_count.items()}\n",
    "end_3_freq_lem = {k: end_threegrams_lem_count.get(k, 0.0)/v for k, v in threegrams_lem_count.items()}\n",
    "end_1_freq = {k: end_word_count.get(k, 0.0)/v for k, v in word_count.items()}\n",
    "end_1_freq_lem = {k: end_word_lem_count.get(k, 0.0)/v for k, v in word_lem_count.items()}"
   ]
  },
  {
   "cell_type": "code",
   "execution_count": 5,
   "metadata": {},
   "outputs": [],
   "source": [
    "df['end_3_freq'] = df['threegrams'].apply(lambda x: end_3_freq.get(x, 0.0))\n",
    "df['end_3_freq_lem'] = df['threegrams_lemma'].apply(lambda x: end_3_freq_lem.get(x, 0.0))\n",
    "df['end_1_freq'] = df['n_token_text'].apply(lambda x: end_1_freq.get(x, 0.0))\n",
    "df['end_1_freq_lem'] = df['n_lemma'].apply(lambda x: end_1_freq_lem.get(x, 0.0))"
   ]
  },
  {
   "cell_type": "markdown",
   "metadata": {},
   "source": [
    "I think that the words that are not the EOS can be excluded from the df to make it more balanced.\n",
    "\n",
    "In the testing for the words that are not in the possible EOS list the coef will be a minimal value 0.0001"
   ]
  },
  {
   "cell_type": "code",
   "execution_count": 6,
   "metadata": {},
   "outputs": [],
   "source": [
    "df_filtered = df[(df['end_1_freq'] > 0)]"
   ]
  },
  {
   "cell_type": "code",
   "execution_count": 7,
   "metadata": {},
   "outputs": [
    {
     "data": {
      "text/plain": [
       "False    155219\n",
       "True      10541\n",
       "Name: label, dtype: int64"
      ]
     },
     "execution_count": 7,
     "metadata": {},
     "output_type": "execute_result"
    }
   ],
   "source": [
    "df_filtered.label.value_counts()"
   ]
  },
  {
   "cell_type": "code",
   "execution_count": 8,
   "metadata": {},
   "outputs": [],
   "source": [
    "pos_vect = CountVectorizer().fit(df['n_pos'])"
   ]
  },
  {
   "cell_type": "markdown",
   "metadata": {},
   "source": [
    "Prepare features for POS values for word and it's neighbors.\n",
    "#TODO: try to transform it to n-grams and frequenices in future"
   ]
  },
  {
   "cell_type": "code",
   "execution_count": 9,
   "metadata": {},
   "outputs": [],
   "source": [
    "pos_n_df = pd.DataFrame(pos_vect.transform(df_filtered['n_pos']).todense(),\n",
    "                      columns=['n_{}'.format(x) for x in pos_vect.get_feature_names()], index=df_filtered.index)"
   ]
  },
  {
   "cell_type": "code",
   "execution_count": 10,
   "metadata": {},
   "outputs": [],
   "source": [
    "pos_na1_df = pd.DataFrame(pos_vect.transform(df_filtered['na1_pos'].fillna('')).todense(),\n",
    "                      columns=['na1_{}'.format(x) for x in pos_vect.get_feature_names()], index=df_filtered.index)"
   ]
  },
  {
   "cell_type": "code",
   "execution_count": 11,
   "metadata": {},
   "outputs": [],
   "source": [
    "pos_nb1_df = pd.DataFrame(pos_vect.transform(df_filtered['nb1_n_lemma'].fillna('')).todense(),\n",
    "                      columns=['nb1_{}'.format(x) for x in pos_vect.get_feature_names()], index=df_filtered.index)"
   ]
  },
  {
   "cell_type": "code",
   "execution_count": 12,
   "metadata": {},
   "outputs": [],
   "source": [
    "model_columns = ['n_is_aplpha', 'n_is_digit', 'n_is_lower', 'n_is_punct', 'n_is_title',\n",
    "                 'na1_is_aplpha', 'na1_is_digit', 'na1_is_lower', 'na1_is_punct', 'na1_is_title',\n",
    "                 'na2_is_aplpha', 'na2_is_digit', 'na2_is_lower', 'na2_is_punct', 'na2_is_title',\n",
    "                 'nb1_n_is_aplpha', 'nb1_n_is_digit', 'nb1_n_is_lower', 'nb1_n_is_punct', 'nb1_n_is_title',\n",
    "                 'nb2_n_is_aplpha', 'nb2_n_is_digit', 'nb2_n_is_lower', 'nb2_n_is_punct', 'nb2_n_is_title',\n",
    "                 'end_3_freq', 'end_3_freq_lem', 'end_1_freq', 'end_1_freq_lem']"
   ]
  },
  {
   "cell_type": "code",
   "execution_count": 13,
   "metadata": {},
   "outputs": [],
   "source": [
    "df_filtered = df_filtered.drop((df_filtered.loc[~df_filtered['nb1_n_is_aplpha'].fillna(False).isin({False, True})].index))\n",
    "X_train = pd.concat([df_filtered[model_columns], pos_n_df, pos_na1_df, pos_nb1_df], axis=1, join=\"inner\")"
   ]
  },
  {
   "cell_type": "markdown",
   "metadata": {},
   "source": [
    "## Train"
   ]
  },
  {
   "cell_type": "code",
   "execution_count": 14,
   "metadata": {},
   "outputs": [
    {
     "data": {
      "text/plain": [
       "(165758, 74)"
      ]
     },
     "execution_count": 14,
     "metadata": {},
     "output_type": "execute_result"
    }
   ],
   "source": [
    "X_train.shape"
   ]
  },
  {
   "cell_type": "markdown",
   "metadata": {},
   "source": [
    "Fill missing values: for is_alpha make it's True, for other - False"
   ]
  },
  {
   "cell_type": "code",
   "execution_count": 15,
   "metadata": {},
   "outputs": [],
   "source": [
    "for col in model_columns:\n",
    "    if 'is_aplpha' in col:\n",
    "        X_train[col].fillna(True, inplace=True)\n",
    "\n",
    "X_train.fillna(False, inplace=True)"
   ]
  },
  {
   "cell_type": "markdown",
   "metadata": {},
   "source": [
    "#### Prepare Logistic Regression model"
   ]
  },
  {
   "cell_type": "code",
   "execution_count": 16,
   "metadata": {},
   "outputs": [
    {
     "data": {
      "text/plain": [
       "LogisticRegressionCV(Cs=10, class_weight='balanced', cv=None, dual=False,\n",
       "           fit_intercept=True, intercept_scaling=1.0, max_iter=100,\n",
       "           multi_class='ovr', n_jobs=1, penalty='l2', random_state=None,\n",
       "           refit=True, scoring='f1', solver='lbfgs', tol=0.0001, verbose=0)"
      ]
     },
     "execution_count": 16,
     "metadata": {},
     "output_type": "execute_result"
    }
   ],
   "source": [
    "from sklearn.linear_model import LogisticRegressionCV\n",
    "from sklearn.metrics import roc_auc_score\n",
    "\n",
    "clf = LogisticRegressionCV(scoring='f1', class_weight='balanced')\n",
    "clf.fit(X_train, df_filtered['label'])"
   ]
  },
  {
   "cell_type": "markdown",
   "metadata": {},
   "source": [
    "10 most valueble features in the model"
   ]
  },
  {
   "cell_type": "code",
   "execution_count": 17,
   "metadata": {},
   "outputs": [
    {
     "data": {
      "text/plain": [
       "[('end_3_freq', 4.4377614511936265),\n",
       " ('end_3_freq_lem', 3.7366641904252536),\n",
       " ('na1_is_lower', -1.1025510436448467),\n",
       " ('na1_is_title', 1.0753745478482482),\n",
       " ('end_1_freq', 0.63749616768840178),\n",
       " ('end_1_freq_lem', 0.52567193036170212),\n",
       " ('n_adp', -0.39998008333929697),\n",
       " ('na1_pron', 0.32863716528727172),\n",
       " ('na1_propn', -0.28031939478103585),\n",
       " ('n_noun', 0.24423490902181796)]"
      ]
     },
     "execution_count": 17,
     "metadata": {},
     "output_type": "execute_result"
    }
   ],
   "source": [
    "import numpy as np\n",
    "\n",
    "feature_names = X_train.columns\n",
    "\n",
    "top = np.argsort([abs(x) for x in clf.coef_[0]])\n",
    "reversed_top = top[::-1]\n",
    "[(feature_names[j], clf.coef_[0][j]) for j in reversed_top[:10]]"
   ]
  },
  {
   "cell_type": "markdown",
   "metadata": {},
   "source": [
    "Useless features of the model"
   ]
  },
  {
   "cell_type": "code",
   "execution_count": 18,
   "metadata": {},
   "outputs": [
    {
     "data": {
      "text/plain": [
       "[('nb1_cconj', 0.0),\n",
       " ('nb1_sym', 0.0),\n",
       " ('na1_space', 0.0),\n",
       " ('nb1_punct', 0.0),\n",
       " ('nb1_adj', 0.0),\n",
       " ('nb1_propn', 0.0),\n",
       " ('nb1_adp', 0.0),\n",
       " ('nb1_adv', 0.0),\n",
       " ('n_space', 0.0),\n",
       " ('nb1_det', 0.0),\n",
       " ('nb1_intj', 0.0),\n",
       " ('nb1_verb', -4.5396897676403612e-05),\n",
       " ('nb1_num', -5.5024003002861259e-05),\n",
       " ('nb1_noun', -0.00013931893091475867),\n",
       " ('nb1_space', -0.00050343879875282477),\n",
       " ('n_det', 0.00066209940607732842)]"
      ]
     },
     "execution_count": 18,
     "metadata": {},
     "output_type": "execute_result"
    }
   ],
   "source": [
    "[(feature_names[j], clf.coef_[0][j]) for j in top if abs(clf.coef_[0][j]) < 0.001 ]"
   ]
  },
  {
   "cell_type": "markdown",
   "metadata": {},
   "source": [
    "## Test"
   ]
  },
  {
   "cell_type": "markdown",
   "metadata": {},
   "source": [
    "Load data after pre-processing the test data"
   ]
  },
  {
   "cell_type": "code",
   "execution_count": 19,
   "metadata": {},
   "outputs": [],
   "source": [
    "df_test = pd.read_csv('test_data.zip', compression='zip')\n",
    "df_test.replace(['False', 'True'], [0, 1], inplace=True)"
   ]
  },
  {
   "cell_type": "markdown",
   "metadata": {},
   "source": [
    "Add features of term frequency"
   ]
  },
  {
   "cell_type": "code",
   "execution_count": 20,
   "metadata": {},
   "outputs": [],
   "source": [
    "df_test['end_3_freq'] = df_test['threegrams'].apply(lambda x: end_3_freq.get(x, 0.0))\n",
    "df_test['end_3_freq_lem'] = df_test['threegrams_lemma'].apply(lambda x: end_3_freq_lem.get(x, 0.0))\n",
    "df_test['end_1_freq'] = df_test['n_token_text'].apply(lambda x: end_1_freq.get(x, 0.0))\n",
    "df_test['end_1_freq_lem'] = df_test['n_lemma'].apply(lambda x: end_1_freq_lem.get(x, 0.0))"
   ]
  },
  {
   "cell_type": "code",
   "execution_count": 21,
   "metadata": {},
   "outputs": [
    {
     "data": {
      "text/plain": [
       "False    4542\n",
       "True      155\n",
       "Name: label, dtype: int64"
      ]
     },
     "execution_count": 21,
     "metadata": {},
     "output_type": "execute_result"
    }
   ],
   "source": [
    "df_test.label.value_counts()"
   ]
  },
  {
   "cell_type": "code",
   "execution_count": 22,
   "metadata": {},
   "outputs": [],
   "source": [
    "pos_n_df_test = pd.DataFrame(pos_vect.transform(df_test['n_pos']).todense(),\n",
    "                      columns=['n_{}'.format(x) for x in pos_vect.get_feature_names()], index=df_test.index)"
   ]
  },
  {
   "cell_type": "code",
   "execution_count": 23,
   "metadata": {},
   "outputs": [],
   "source": [
    "pos_na1_df_test = pd.DataFrame(pos_vect.transform(df_test['na1_pos'].fillna('')).todense(),\n",
    "                      columns=['na1_{}'.format(x) for x in pos_vect.get_feature_names()], index=df_test.index)"
   ]
  },
  {
   "cell_type": "code",
   "execution_count": 24,
   "metadata": {},
   "outputs": [],
   "source": [
    "pos_nb1_df_test = pd.DataFrame(pos_vect.transform(df_test['nb1_n_lemma'].fillna('')).todense(),\n",
    "                      columns=['nb1_{}'.format(x) for x in pos_vect.get_feature_names()], index=df_test.index)"
   ]
  },
  {
   "cell_type": "code",
   "execution_count": 25,
   "metadata": {},
   "outputs": [],
   "source": [
    "X_test = pd.concat([df_test[model_columns], pos_n_df_test, pos_na1_df_test, pos_nb1_df_test], axis=1, join=\"inner\")"
   ]
  },
  {
   "cell_type": "code",
   "execution_count": 26,
   "metadata": {},
   "outputs": [],
   "source": [
    "for col in model_columns:\n",
    "    if 'is_aplpha' in col:\n",
    "        X_test[col].fillna(True, inplace=True)\n",
    "\n",
    "X_test.fillna(False, inplace=True)"
   ]
  },
  {
   "cell_type": "markdown",
   "metadata": {},
   "source": [
    "### Evaluation"
   ]
  },
  {
   "cell_type": "markdown",
   "metadata": {},
   "source": [
    "Custom threshold"
   ]
  },
  {
   "cell_type": "code",
   "execution_count": 31,
   "metadata": {},
   "outputs": [],
   "source": [
    "pred_df = pd.DataFrame(clf.predict_proba(X_test))\n",
    "y_test = df_test['label']"
   ]
  },
  {
   "cell_type": "code",
   "execution_count": 33,
   "metadata": {},
   "outputs": [
    {
     "name": "stdout",
     "output_type": "stream",
     "text": [
      "Area under the ROC curve : 0.769858\n"
     ]
    }
   ],
   "source": [
    "from sklearn.metrics import accuracy_score, precision_score, recall_score, confusion_matrix, f1_score, roc_curve, auc\n",
    "\n",
    "fpr, tpr, thresholds = roc_curve(y_test, pred_df[1])\n",
    "roc_auc = auc(fpr, tpr)\n",
    "print(\"Area under the ROC curve : %f\" % roc_auc)"
   ]
  },
  {
   "cell_type": "code",
   "execution_count": 34,
   "metadata": {},
   "outputs": [
    {
     "data": {
      "text/plain": [
       "<Figure size 640x480 with 1 Axes>"
      ]
     },
     "metadata": {},
     "output_type": "display_data"
    }
   ],
   "source": [
    "import matplotlib.pyplot as plt\n",
    "plt.figure()\n",
    "##Adding the ROC\n",
    "plt.plot(fpr, tpr, color='red', lw=2, label='ROC curve')\n",
    "##Random FPR and TPR\n",
    "plt.plot([0, 1], [0, 1], color='blue', lw=2, linestyle='--')\n",
    "##Title and label\n",
    "plt.xlabel('FPR')\n",
    "plt.ylabel('TPR')\n",
    "plt.title('ROC curve')\n",
    "plt.show()"
   ]
  },
  {
   "cell_type": "code",
   "execution_count": 35,
   "metadata": {},
   "outputs": [
    {
     "data": {
      "text/html": [
       "<div>\n",
       "<style>\n",
       "    .dataframe thead tr:only-child th {\n",
       "        text-align: right;\n",
       "    }\n",
       "\n",
       "    .dataframe thead th {\n",
       "        text-align: left;\n",
       "    }\n",
       "\n",
       "    .dataframe tbody tr th {\n",
       "        vertical-align: top;\n",
       "    }\n",
       "</style>\n",
       "<table border=\"1\" class=\"dataframe\">\n",
       "  <thead>\n",
       "    <tr style=\"text-align: right;\">\n",
       "      <th></th>\n",
       "      <th>1-fpr</th>\n",
       "      <th>fpr</th>\n",
       "      <th>tf</th>\n",
       "      <th>thresholds</th>\n",
       "      <th>tpr</th>\n",
       "    </tr>\n",
       "  </thead>\n",
       "  <tbody>\n",
       "    <tr>\n",
       "      <th>288</th>\n",
       "      <td>0.705636</td>\n",
       "      <td>0.294364</td>\n",
       "      <td>0.016944</td>\n",
       "      <td>0.006481</td>\n",
       "      <td>0.722581</td>\n",
       "    </tr>\n",
       "  </tbody>\n",
       "</table>\n",
       "</div>"
      ],
      "text/plain": [
       "        1-fpr       fpr        tf  thresholds       tpr\n",
       "288  0.705636  0.294364  0.016944    0.006481  0.722581"
      ]
     },
     "execution_count": 35,
     "metadata": {},
     "output_type": "execute_result"
    }
   ],
   "source": [
    "####################################\n",
    "# The optimal cut off would be where tpr is high and fpr is low\n",
    "# tpr - (1-fpr) is zero or near to zero is the optimal cut off point\n",
    "####################################\n",
    "i = np.arange(len(tpr)) # index for df\n",
    "roc = pd.DataFrame({'fpr' : pd.Series(fpr, index=i),'tpr' : pd.Series(tpr, index = i), '1-fpr' : pd.Series(1-fpr, index = i), 'tf' : pd.Series(tpr - (1-fpr), index = i), 'thresholds' : pd.Series(thresholds, index = i)})\n",
    "roc.loc[(roc.tf-0).abs().argsort()[:1]]"
   ]
  },
  {
   "cell_type": "code",
   "execution_count": 36,
   "metadata": {},
   "outputs": [
    {
     "data": {
      "image/png": "[encoded data removed]",
      "text/plain": [
       "<Figure size 432x288 with 1 Axes>"
      ]
     },
     "metadata": {},
     "output_type": "display_data"
    }
   ],
   "source": [
    "plt.figure()\n",
    "plt.plot(roc['tpr'], color='red', lw=2)\n",
    "plt.plot(roc['1-fpr'], color='blue', lw=2)\n",
    "plt.xlabel('1-FPR')\n",
    "plt.ylabel('TPR')\n",
    "plt.title('ROC curve')\n",
    "plt.show()"
   ]
  },
  {
   "cell_type": "markdown",
   "metadata": {},
   "source": [
    "So the threshold for log probability is 0.006481"
   ]
  },
  {
   "cell_type": "code",
   "execution_count": 46,
   "metadata": {},
   "outputs": [],
   "source": [
    "threshold = 0.0065\n",
    "preds = pred_df[1] > threshold"
   ]
  },
  {
   "cell_type": "code",
   "execution_count": 47,
   "metadata": {},
   "outputs": [
    {
     "data": {
      "text/plain": [
       "False    3294\n",
       "True     1403\n",
       "Name: 1, dtype: int64"
      ]
     },
     "execution_count": 47,
     "metadata": {},
     "output_type": "execute_result"
    }
   ],
   "source": [
    "preds.value_counts()"
   ]
  },
  {
   "cell_type": "code",
   "execution_count": 48,
   "metadata": {},
   "outputs": [
    {
     "name": "stdout",
     "output_type": "stream",
     "text": [
      "Accuracy: 0.713434106877\n",
      "\n",
      "Precision weighted: 0.955108783708\n",
      "Recall weighted: 0.713434106877\n",
      "F1 score weighted: 0.805387661032\n"
     ]
    }
   ],
   "source": [
    "from sklearn.metrics import accuracy_score, precision_score, recall_score, confusion_matrix, f1_score, roc_curve, auc\n",
    "\n",
    "print('Accuracy:', accuracy_score(y_test, preds))\n",
    "print()\n",
    "print('Precision weighted:', precision_score(y_test, preds, average='weighted'))\n",
    "print('Recall weighted:', recall_score(y_test, preds, average='weighted'))\n",
    "print('F1 score weighted:', f1_score(y_test, preds, average='weighted'))"
   ]
  },
  {
   "cell_type": "code",
   "execution_count": 49,
   "metadata": {},
   "outputs": [],
   "source": [
    "conf_matrix = confusion_matrix(y_test, preds)\n",
    "conf_matrix_sents = pd.DataFrame(conf_matrix)"
   ]
  },
  {
   "cell_type": "code",
   "execution_count": 50,
   "metadata": {},
   "outputs": [
    {
     "data": {
      "text/html": [
       "<div>\n",
       "<style>\n",
       "    .dataframe thead tr:only-child th {\n",
       "        text-align: right;\n",
       "    }\n",
       "\n",
       "    .dataframe thead th {\n",
       "        text-align: left;\n",
       "    }\n",
       "\n",
       "    .dataframe tbody tr th {\n",
       "        vertical-align: top;\n",
       "    }\n",
       "</style>\n",
       "<table border=\"1\" class=\"dataframe\">\n",
       "  <thead>\n",
       "    <tr style=\"text-align: right;\">\n",
       "      <th></th>\n",
       "      <th>0</th>\n",
       "      <th>1</th>\n",
       "    </tr>\n",
       "  </thead>\n",
       "  <tbody>\n",
       "    <tr>\n",
       "      <th>0</th>\n",
       "      <td>3245</td>\n",
       "      <td>1297</td>\n",
       "    </tr>\n",
       "    <tr>\n",
       "      <th>1</th>\n",
       "      <td>49</td>\n",
       "      <td>106</td>\n",
       "    </tr>\n",
       "  </tbody>\n",
       "</table>\n",
       "</div>"
      ],
      "text/plain": [
       "      0     1\n",
       "0  3245  1297\n",
       "1    49   106"
      ]
     },
     "execution_count": 50,
     "metadata": {},
     "output_type": "execute_result"
    }
   ],
   "source": [
    "conf_matrix_sents"
   ]
  },
  {
   "cell_type": "code",
   "execution_count": 51,
   "metadata": {},
   "outputs": [
    {
     "name": "stdout",
     "output_type": "stream",
     "text": [
      "             precision    recall  f1-score   support\n",
      "\n",
      "      False       0.99      0.71      0.83      4542\n",
      "       True       0.08      0.68      0.14       155\n",
      "\n",
      "avg / total       0.96      0.71      0.81      4697\n",
      "\n"
     ]
    }
   ],
   "source": [
    "from sklearn.metrics import classification_report\n",
    "print(classification_report(y_test, preds))"
   ]
  },
  {
   "cell_type": "markdown",
   "metadata": {},
   "source": [
    "model's threshold"
   ]
  },
  {
   "cell_type": "code",
   "execution_count": 52,
   "metadata": {},
   "outputs": [],
   "source": [
    "y_pred = clf.predict(X_test)"
   ]
  },
  {
   "cell_type": "code",
   "execution_count": 53,
   "metadata": {},
   "outputs": [],
   "source": [
    "conf_matrix_pred = confusion_matrix(y_test, y_pred)\n",
    "conf_matrix_sents_pred = pd.DataFrame(conf_matrix_pred)"
   ]
  },
  {
   "cell_type": "code",
   "execution_count": 54,
   "metadata": {},
   "outputs": [
    {
     "data": {
      "text/html": [
       "<div>\n",
       "<style>\n",
       "    .dataframe thead tr:only-child th {\n",
       "        text-align: right;\n",
       "    }\n",
       "\n",
       "    .dataframe thead th {\n",
       "        text-align: left;\n",
       "    }\n",
       "\n",
       "    .dataframe tbody tr th {\n",
       "        vertical-align: top;\n",
       "    }\n",
       "</style>\n",
       "<table border=\"1\" class=\"dataframe\">\n",
       "  <thead>\n",
       "    <tr style=\"text-align: right;\">\n",
       "      <th></th>\n",
       "      <th>0</th>\n",
       "      <th>1</th>\n",
       "    </tr>\n",
       "  </thead>\n",
       "  <tbody>\n",
       "    <tr>\n",
       "      <th>0</th>\n",
       "      <td>4542</td>\n",
       "      <td>0</td>\n",
       "    </tr>\n",
       "    <tr>\n",
       "      <th>1</th>\n",
       "      <td>155</td>\n",
       "      <td>0</td>\n",
       "    </tr>\n",
       "  </tbody>\n",
       "</table>\n",
       "</div>"
      ],
      "text/plain": [
       "      0  1\n",
       "0  4542  0\n",
       "1   155  0"
      ]
     },
     "execution_count": 54,
     "metadata": {},
     "output_type": "execute_result"
    }
   ],
   "source": [
    "conf_matrix_sents_pred"
   ]
  },
  {
   "cell_type": "markdown",
   "metadata": {},
   "source": [
    "### Conclusion"
   ]
  },
  {
   "cell_type": "markdown",
   "metadata": {},
   "source": [
    "I think, that the result is very bad.\n",
    "\n",
    "I think the reasons is not relevant train corpus: the scores on the train cross-validation is much more better.\n",
    "\n",
    "Ways to improve:\n",
    "<li> Add few more corpuses to train</li>\n",
    "<li> Add 2-grams and 4-grams to the features</li>\n",
    "<li> Redesign work with POS</li>\n",
    "<li> Exclude usless features from the model</li>"
   ]
  },
  {
   "cell_type": "code",
   "execution_count": null,
   "metadata": {},
   "outputs": [],
   "source": []
  }
 ],
 "metadata": {
  "kernelspec": {
   "display_name": "Python 3",
   "language": "python",
   "name": "python3"
  },
  "language_info": {
   "codemirror_mode": {
    "name": "ipython",
    "version": 3
   },
   "file_extension": ".py",
   "mimetype": "text/x-python",
   "name": "python",
   "nbconvert_exporter": "python",
   "pygments_lexer": "ipython3",
   "version": "3.6.1"
  }
 },
 "nbformat": 4,
 "nbformat_minor": 2
}
