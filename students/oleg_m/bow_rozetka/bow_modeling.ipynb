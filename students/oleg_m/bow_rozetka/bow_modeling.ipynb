{
 "cells": [
  {
   "cell_type": "markdown",
   "metadata": {},
   "source": [
    "# Data Preparation"
   ]
  },
  {
   "cell_type": "markdown",
   "metadata": {
    "collapsed": true
   },
   "source": [
    "First the Algorithm reads a file and make pre-processing"
   ]
  },
  {
   "cell_type": "code",
   "execution_count": 1,
   "metadata": {},
   "outputs": [],
   "source": [
    "import re\n",
    "import numpy as np\n",
    "import pandas as pd"
   ]
  },
  {
   "cell_type": "code",
   "execution_count": 2,
   "metadata": {},
   "outputs": [],
   "source": [
    "data = pd.read_csv('rozetka/products_comments.zip', header=0, compression='zip').fillna('')"
   ]
  },
  {
   "cell_type": "markdown",
   "metadata": {},
   "source": [
    "У файлі я розділив коменти на звичайний текст, переваги та недоліки. На разі, зліплюємо все в один текст"
   ]
  },
  {
   "cell_type": "code",
   "execution_count": 3,
   "metadata": {},
   "outputs": [],
   "source": [
    "data['total_comment'] = data['Normal_text'] + '. ' + data['Pro'] + '. ' + data['Con']"
   ]
  },
  {
   "cell_type": "code",
   "execution_count": 4,
   "metadata": {},
   "outputs": [],
   "source": [
    "def clean_text(text):\n",
    "    \"\"\"\n",
    "    prepare the text: to lowercase, remove links, \n",
    "    change numbers to ukr. word, channge endlish words to ukr. word\n",
    "    \"\"\"\n",
    "    text = text.lower()\n",
    "    text = re.sub(r'(?:https?://|www\\.)[^\\s]+', '', text)\n",
    "    text = re.sub(r'[0-9]+', ' інти ', text)\n",
    "    text = re.sub(r'[a-z]+', ' латина ', text)\n",
    "    text = re.sub(r'ґ', 'г', text)\n",
    "    text = re.sub(r'\\s+', ' ', text)\n",
    "    return text.strip(' .,')"
   ]
  },
  {
   "cell_type": "code",
   "execution_count": 5,
   "metadata": {},
   "outputs": [],
   "source": [
    "data['total_comment'] = data['total_comment'].apply(clean_text)"
   ]
  },
  {
   "cell_type": "code",
   "execution_count": 6,
   "metadata": {},
   "outputs": [
    {
     "data": {
      "text/plain": [
       "5    4031\n",
       "4    1429\n",
       "3     391\n",
       "2     214\n",
       "1     187\n",
       "Name: Stars, dtype: int64"
      ]
     },
     "execution_count": 6,
     "metadata": {},
     "output_type": "execute_result"
    }
   ],
   "source": [
    "data['Stars'].value_counts()"
   ]
  },
  {
   "cell_type": "markdown",
   "metadata": {},
   "source": [
    "Як ми бачимо, вибірка дуже не здалансована"
   ]
  },
  {
   "cell_type": "code",
   "execution_count": 7,
   "metadata": {},
   "outputs": [],
   "source": [
    "data['len_symols'] = data['total_comment'].str.len()"
   ]
  },
  {
   "cell_type": "code",
   "execution_count": 8,
   "metadata": {},
   "outputs": [],
   "source": [
    "data['len_words'] = data['total_comment'].str.split().str.len()"
   ]
  },
  {
   "cell_type": "code",
   "execution_count": 9,
   "metadata": {},
   "outputs": [
    {
     "data": {
      "text/html": [
       "<div>\n",
       "<style>\n",
       "    .dataframe thead tr:only-child th {\n",
       "        text-align: right;\n",
       "    }\n",
       "\n",
       "    .dataframe thead th {\n",
       "        text-align: left;\n",
       "    }\n",
       "\n",
       "    .dataframe tbody tr th {\n",
       "        vertical-align: top;\n",
       "    }\n",
       "</style>\n",
       "<table border=\"1\" class=\"dataframe\">\n",
       "  <thead>\n",
       "    <tr style=\"text-align: right;\">\n",
       "      <th></th>\n",
       "      <th>len_symols</th>\n",
       "      <th>len_words</th>\n",
       "    </tr>\n",
       "    <tr>\n",
       "      <th>Stars</th>\n",
       "      <th></th>\n",
       "      <th></th>\n",
       "    </tr>\n",
       "  </thead>\n",
       "  <tbody>\n",
       "    <tr>\n",
       "      <th>1</th>\n",
       "      <td>291.117647</td>\n",
       "      <td>44.508021</td>\n",
       "    </tr>\n",
       "    <tr>\n",
       "      <th>2</th>\n",
       "      <td>330.331776</td>\n",
       "      <td>50.682243</td>\n",
       "    </tr>\n",
       "    <tr>\n",
       "      <th>3</th>\n",
       "      <td>306.644501</td>\n",
       "      <td>46.774936</td>\n",
       "    </tr>\n",
       "    <tr>\n",
       "      <th>4</th>\n",
       "      <td>285.468859</td>\n",
       "      <td>43.776067</td>\n",
       "    </tr>\n",
       "    <tr>\n",
       "      <th>5</th>\n",
       "      <td>251.395932</td>\n",
       "      <td>38.701811</td>\n",
       "    </tr>\n",
       "  </tbody>\n",
       "</table>\n",
       "</div>"
      ],
      "text/plain": [
       "       len_symols  len_words\n",
       "Stars                       \n",
       "1      291.117647  44.508021\n",
       "2      330.331776  50.682243\n",
       "3      306.644501  46.774936\n",
       "4      285.468859  43.776067\n",
       "5      251.395932  38.701811"
      ]
     },
     "execution_count": 9,
     "metadata": {},
     "output_type": "execute_result"
    }
   ],
   "source": [
    "data.groupby(['Stars']).mean()"
   ]
  },
  {
   "cell_type": "markdown",
   "metadata": {},
   "source": [
    "з даного аналізу можна побачити, що чим довший файл, тим скоріш це буде негативний відгук"
   ]
  },
  {
   "cell_type": "markdown",
   "metadata": {},
   "source": [
    "Я вирішив розділити коментарі на 3 класи: exelent для 5*, normal для 4*, bad для 3, 2 та 1*"
   ]
  },
  {
   "cell_type": "code",
   "execution_count": 10,
   "metadata": {},
   "outputs": [],
   "source": [
    "data.replace(to_replace=[5, 4, 3, 2, 1], value=[2, 1, 1, 1, 0], inplace=True)\n",
    "data.rename(columns = {'Stars': 'label'}, inplace=True)"
   ]
  },
  {
   "cell_type": "code",
   "execution_count": 11,
   "metadata": {},
   "outputs": [
    {
     "data": {
      "text/plain": [
       "2    4031\n",
       "1    2034\n",
       "0     187\n",
       "Name: label, dtype: int64"
      ]
     },
     "execution_count": 11,
     "metadata": {},
     "output_type": "execute_result"
    }
   ],
   "source": [
    "# data.head()\n",
    "data['label'].value_counts()"
   ]
  },
  {
   "cell_type": "markdown",
   "metadata": {},
   "source": [
    "## Split to train and test datasets"
   ]
  },
  {
   "cell_type": "code",
   "execution_count": 12,
   "metadata": {},
   "outputs": [],
   "source": [
    "from sklearn.model_selection import train_test_split\n",
    "from sklearn.feature_extraction.text import CountVectorizer\n",
    "from sklearn.naive_bayes import MultinomialNB\n",
    "from sklearn.metrics import accuracy_score, precision_score, recall_score, confusion_matrix, precision_recall_fscore_support, f1_score, roc_auc_score, roc_curve, auc"
   ]
  },
  {
   "cell_type": "code",
   "execution_count": 13,
   "metadata": {},
   "outputs": [],
   "source": [
    "columns_to_drop = ['Response', 'Normal_text', 'Pro', 'Con']\n",
    "\n",
    "X_train, X_test, y_train, y_test = train_test_split(data['total_comment'],\n",
    "                                                    data['label'],\n",
    "                                                    test_size=0.2,\n",
    "                                                    random_state=100)"
   ]
  },
  {
   "cell_type": "markdown",
   "metadata": {},
   "source": [
    "## Baseline\n",
    "Для бейзлайну я обрав звичайний векторайзер та NaiveBayes класифікатор для декількох класів"
   ]
  },
  {
   "cell_type": "code",
   "execution_count": 14,
   "metadata": {},
   "outputs": [],
   "source": [
    "bow_transformer = CountVectorizer().fit(X_train)"
   ]
  },
  {
   "cell_type": "code",
   "execution_count": 15,
   "metadata": {},
   "outputs": [
    {
     "data": {
      "text/plain": [
       "22669"
      ]
     },
     "execution_count": 15,
     "metadata": {},
     "output_type": "execute_result"
    }
   ],
   "source": [
    "# how many unique words in the comments\n",
    "len(bow_transformer.vocabulary_)"
   ]
  },
  {
   "cell_type": "code",
   "execution_count": 16,
   "metadata": {},
   "outputs": [],
   "source": [
    "feature_mapping = bow_transformer.get_feature_names()"
   ]
  },
  {
   "cell_type": "code",
   "execution_count": 17,
   "metadata": {},
   "outputs": [
    {
     "data": {
      "text/plain": [
       "['______',\n",
       " 'аа',\n",
       " 'абгрейд',\n",
       " 'абгрейда',\n",
       " 'абгрейду',\n",
       " 'аби',\n",
       " 'або',\n",
       " 'абож',\n",
       " 'абонент',\n",
       " 'абощо',\n",
       " 'абслютно',\n",
       " 'абсолютна',\n",
       " 'абсолютно',\n",
       " 'абушери',\n",
       " 'абушури',\n",
       " 'аваль',\n",
       " 'аварійних',\n",
       " 'аварійно',\n",
       " 'аварійного',\n",
       " 'аварійному',\n",
       " 'аварійній',\n",
       " 'авжеж',\n",
       " 'авр',\n",
       " 'авт',\n",
       " 'авто',\n",
       " 'автобусом',\n",
       " 'автобусі',\n",
       " 'автовиключення',\n",
       " 'автовимикання',\n",
       " 'автовідключення']"
      ]
     },
     "execution_count": 17,
     "metadata": {},
     "output_type": "execute_result"
    }
   ],
   "source": [
    "feature_mapping[:30]"
   ]
  },
  {
   "cell_type": "markdown",
   "metadata": {},
   "source": [
    "Видно, що дуже багато невідомих слів та слів у різних відмінках"
   ]
  },
  {
   "cell_type": "code",
   "execution_count": 18,
   "metadata": {},
   "outputs": [],
   "source": [
    "X_train_vectorized = bow_transformer.transform(X_train)"
   ]
  },
  {
   "cell_type": "markdown",
   "metadata": {},
   "source": [
    "cross validation to choose the best alpha based on the accuracy and f1 score for the models:"
   ]
  },
  {
   "cell_type": "code",
   "execution_count": 19,
   "metadata": {},
   "outputs": [
    {
     "data": {
      "text/plain": [
       "GridSearchCV(cv=4, error_score='raise',\n",
       "       estimator=MultinomialNB(alpha=1.0, class_prior=None, fit_prior=True),\n",
       "       fit_params=None, iid=True, n_jobs=4,\n",
       "       param_grid={'alpha': [0.001, 0.01, 0.1, 1.0]},\n",
       "       pre_dispatch='2*n_jobs', refit=False, return_train_score=False,\n",
       "       scoring=['precision_macro', 'recall_macro', 'f1_macro', 'accuracy'],\n",
       "       verbose=0)"
      ]
     },
     "execution_count": 19,
     "metadata": {},
     "output_type": "execute_result"
    }
   ],
   "source": [
    "from sklearn.model_selection import GridSearchCV\n",
    "scoring = ['precision_macro', 'recall_macro', 'f1_macro', 'accuracy']\n",
    "\n",
    "parameters = {'alpha': [0.001, 0.01, 0.1, 1.0]}\n",
    "clf_temp = GridSearchCV(MultinomialNB(), parameters, cv=4, return_train_score=False, n_jobs=4, \n",
    "                        scoring=scoring, refit=False)\n",
    "clf_temp.fit(X_train_vectorized, y_train)"
   ]
  },
  {
   "cell_type": "code",
   "execution_count": 20,
   "metadata": {},
   "outputs": [
    {
     "data": {
      "text/html": [
       "<div>\n",
       "<style>\n",
       "    .dataframe thead tr:only-child th {\n",
       "        text-align: right;\n",
       "    }\n",
       "\n",
       "    .dataframe thead th {\n",
       "        text-align: left;\n",
       "    }\n",
       "\n",
       "    .dataframe tbody tr th {\n",
       "        vertical-align: top;\n",
       "    }\n",
       "</style>\n",
       "<table border=\"1\" class=\"dataframe\">\n",
       "  <thead>\n",
       "    <tr style=\"text-align: right;\">\n",
       "      <th></th>\n",
       "      <th>alpha</th>\n",
       "      <th>mean_test_accuracy</th>\n",
       "      <th>mean_test_f1</th>\n",
       "      <th>mean_test_precision</th>\n",
       "      <th>mean_test_recall</th>\n",
       "      <th>rank_test_accuracy</th>\n",
       "      <th>rank_test_f1</th>\n",
       "      <th>rank_test_precision</th>\n",
       "      <th>rank_test_recall</th>\n",
       "    </tr>\n",
       "  </thead>\n",
       "  <tbody>\n",
       "    <tr>\n",
       "      <th>0</th>\n",
       "      <td>0.001</td>\n",
       "      <td>0.668066</td>\n",
       "      <td>0.478265</td>\n",
       "      <td>0.503001</td>\n",
       "      <td>0.466708</td>\n",
       "      <td>3</td>\n",
       "      <td>3</td>\n",
       "      <td>1</td>\n",
       "      <td>3</td>\n",
       "    </tr>\n",
       "    <tr>\n",
       "      <th>1</th>\n",
       "      <td>0.010</td>\n",
       "      <td>0.667267</td>\n",
       "      <td>0.501065</td>\n",
       "      <td>0.499041</td>\n",
       "      <td>0.507743</td>\n",
       "      <td>4</td>\n",
       "      <td>2</td>\n",
       "      <td>3</td>\n",
       "      <td>2</td>\n",
       "    </tr>\n",
       "    <tr>\n",
       "      <th>2</th>\n",
       "      <td>0.100</td>\n",
       "      <td>0.672665</td>\n",
       "      <td>0.508406</td>\n",
       "      <td>0.499415</td>\n",
       "      <td>0.529144</td>\n",
       "      <td>2</td>\n",
       "      <td>1</td>\n",
       "      <td>2</td>\n",
       "      <td>1</td>\n",
       "    </tr>\n",
       "    <tr>\n",
       "      <th>3</th>\n",
       "      <td>1.000</td>\n",
       "      <td>0.701860</td>\n",
       "      <td>0.419225</td>\n",
       "      <td>0.472071</td>\n",
       "      <td>0.420024</td>\n",
       "      <td>1</td>\n",
       "      <td>4</td>\n",
       "      <td>4</td>\n",
       "      <td>4</td>\n",
       "    </tr>\n",
       "  </tbody>\n",
       "</table>\n",
       "</div>"
      ],
      "text/plain": [
       "   alpha  mean_test_accuracy  mean_test_f1  mean_test_precision  \\\n",
       "0  0.001            0.668066      0.478265             0.503001   \n",
       "1  0.010            0.667267      0.501065             0.499041   \n",
       "2  0.100            0.672665      0.508406             0.499415   \n",
       "3  1.000            0.701860      0.419225             0.472071   \n",
       "\n",
       "   mean_test_recall  rank_test_accuracy  rank_test_f1  rank_test_precision  \\\n",
       "0          0.466708                   3             3                    1   \n",
       "1          0.507743                   4             2                    3   \n",
       "2          0.529144                   2             1                    2   \n",
       "3          0.420024                   1             4                    4   \n",
       "\n",
       "   rank_test_recall  \n",
       "0                 3  \n",
       "1                 2  \n",
       "2                 1  \n",
       "3                 4  "
      ]
     },
     "execution_count": 20,
     "metadata": {},
     "output_type": "execute_result"
    }
   ],
   "source": [
    "clf_temp_data = {re.sub('_macro','',k):v for k, v in clf_temp.cv_results_.items() if k.startswith('mean_test') or k.startswith('rank_')}\n",
    "clf_temp_data['alpha'] = [0.001, 0.01, 0.1, 1.0]\n",
    "pd.DataFrame(clf_temp_data)"
   ]
  },
  {
   "cell_type": "markdown",
   "metadata": {},
   "source": [
    "So let's choose alpha to 0.1 because  the F1 score is the better in this case"
   ]
  },
  {
   "cell_type": "code",
   "execution_count": 21,
   "metadata": {},
   "outputs": [],
   "source": [
    "model = MultinomialNB(alpha=0.1)\n",
    "model.fit(X_train_vectorized, y_train)\n",
    "predictions = model.predict(bow_transformer.transform(X_test))"
   ]
  },
  {
   "cell_type": "markdown",
   "metadata": {},
   "source": [
    "Get the most valuable words for the model"
   ]
  },
  {
   "cell_type": "code",
   "execution_count": 22,
   "metadata": {},
   "outputs": [
    {
     "name": "stdout",
     "output_type": "stream",
     "text": [
      "2: так, мені, кабель, роботи, раз, один, можна, гроші, було, він, ні, про, більше, користування, мене, тому, чи, коли, від, працювати, навіть, то, перестав, працює, тільки, рекомендую, немає, ціна, вже, якість, все, після, навушники, просто, для, це, по, за, до, через, при, як, дуже, але, звук, що, латина, на, інти, не\n",
      "\n",
      "1: таку, його, тільки, навіть, гроші, досить, мікрофон, просто, добре, вже, тому, без, немає, дизайн, він, коли, звуку, після, мене, чи, ще, ціну, можна, від, якщо, працює, хороший, то, так, по, через, навушники, все, при, якість, це, ціна, до, та, як, дуже, за, що, але, для, звук, на, латина, не, інти\n",
      "\n",
      "0: гроші, звучання, таку, монітор, купив, добре, звуку, чудовий, тому, вже, через, супер, то, рекомендую, поки, без, якщо, дизайн, задоволений, мене, так, ще, можна, просто, чи, ціну, хороший, працює, при, від, по, навушники, немає, це, ціна, все, до, якість, та, як, але, дуже, що, за, для, звук, на, не, латина, інти\n",
      "\n"
     ]
    }
   ],
   "source": [
    "feature_names = bow_transformer.get_feature_names()\n",
    "\n",
    "for i, class_label in enumerate([2, 1, 0]):\n",
    "    top30 = np.argsort(model.coef_[i])[-50:]\n",
    "    print(\"%s: %s\" % (class_label, \", \".join(feature_names[x] for x in top30 if x < len(feature_names))))\n",
    "    print()"
   ]
  },
  {
   "cell_type": "markdown",
   "metadata": {},
   "source": [
    "There are a lot of words that have no any valuable meaning in the most valuable features. Later, I'll try to put it to stop-words"
   ]
  },
  {
   "cell_type": "markdown",
   "metadata": {},
   "source": [
    "### Evalutaion\n",
    "\n",
    "To evaluate the model I used several metrics: Precision, Recall, F1 score and ROC AUC metrics.\n",
    "As the model is multilabel classification, I used option average 'weighted' and 'macro'. First option calculates metrics for each label, and find their average, weighted by support (the number of true instances for each label). Second one calculates metrics for each label, and find their unweighted mean"
   ]
  },
  {
   "cell_type": "code",
   "execution_count": 23,
   "metadata": {},
   "outputs": [
    {
     "name": "stdout",
     "output_type": "stream",
     "text": [
      "Accuracy: 0.656274980016\n",
      "\n",
      "Precision weighted: 0.63052670558\n",
      "Recall weighted: 0.656274980016\n",
      "F1 score weighted: 0.635631129692\n",
      "\n",
      "Precision macro: 0.487787913556\n",
      "Recall macro: 0.439210374699\n",
      "F1 score macro: 0.450151373777\n"
     ]
    }
   ],
   "source": [
    "print('Accuracy:', accuracy_score(y_test, predictions))\n",
    "print()\n",
    "print('Precision weighted:', precision_score(y_test, predictions, average='weighted'))\n",
    "print('Recall weighted:', recall_score(y_test, predictions, average='weighted'))\n",
    "print('F1 score weighted:', f1_score(y_test, predictions, average='weighted'))\n",
    "print()\n",
    "print('Precision macro:', precision_score(y_test, predictions, average='macro'))\n",
    "print('Recall macro:', recall_score(y_test, predictions, average='macro'))\n",
    "print('F1 score macro:', f1_score(y_test, predictions, average='macro'))"
   ]
  },
  {
   "cell_type": "markdown",
   "metadata": {},
   "source": [
    "This is a not a good result, because if we set all labels to 2 (excelent), we have Accuracy 0.63"
   ]
  },
  {
   "cell_type": "code",
   "execution_count": 24,
   "metadata": {},
   "outputs": [],
   "source": [
    "classes = ['excelent', 'good', 'bad']\n",
    "conf_matrix_temp = confusion_matrix(y_test, predictions, labels=[2, 1, 0])\n",
    "conf_matrix_baseline = pd.DataFrame(conf_matrix_temp, columns=classes, index=classes)"
   ]
  },
  {
   "cell_type": "code",
   "execution_count": 25,
   "metadata": {},
   "outputs": [
    {
     "data": {
      "text/html": [
       "<div>\n",
       "<style>\n",
       "    .dataframe thead tr:only-child th {\n",
       "        text-align: right;\n",
       "    }\n",
       "\n",
       "    .dataframe thead th {\n",
       "        text-align: left;\n",
       "    }\n",
       "\n",
       "    .dataframe tbody tr th {\n",
       "        vertical-align: top;\n",
       "    }\n",
       "</style>\n",
       "<table border=\"1\" class=\"dataframe\">\n",
       "  <thead>\n",
       "    <tr style=\"text-align: right;\">\n",
       "      <th></th>\n",
       "      <th>excelent</th>\n",
       "      <th>good</th>\n",
       "      <th>bad</th>\n",
       "    </tr>\n",
       "  </thead>\n",
       "  <tbody>\n",
       "    <tr>\n",
       "      <th>excelent</th>\n",
       "      <td>657</td>\n",
       "      <td>125</td>\n",
       "      <td>5</td>\n",
       "    </tr>\n",
       "    <tr>\n",
       "      <th>good</th>\n",
       "      <td>259</td>\n",
       "      <td>160</td>\n",
       "      <td>8</td>\n",
       "    </tr>\n",
       "    <tr>\n",
       "      <th>bad</th>\n",
       "      <td>9</td>\n",
       "      <td>24</td>\n",
       "      <td>4</td>\n",
       "    </tr>\n",
       "  </tbody>\n",
       "</table>\n",
       "</div>"
      ],
      "text/plain": [
       "          excelent  good  bad\n",
       "excelent       657   125    5\n",
       "good           259   160    8\n",
       "bad              9    24    4"
      ]
     },
     "execution_count": 25,
     "metadata": {},
     "output_type": "execute_result"
    }
   ],
   "source": [
    "conf_matrix_baseline"
   ]
  },
  {
   "cell_type": "code",
   "execution_count": 26,
   "metadata": {},
   "outputs": [],
   "source": [
    "supp_matrix_temp = [list(x) for x in precision_recall_fscore_support(y_test, predictions, labels=[2, 1, 0])]\n",
    "supp_matrix_baseline = pd.DataFrame(supp_matrix_temp, columns=classes, \n",
    "                                    index=['precision', 'recall', 'f1', 'total'])"
   ]
  },
  {
   "cell_type": "code",
   "execution_count": 27,
   "metadata": {},
   "outputs": [
    {
     "data": {
      "text/html": [
       "<div>\n",
       "<style>\n",
       "    .dataframe thead tr:only-child th {\n",
       "        text-align: right;\n",
       "    }\n",
       "\n",
       "    .dataframe thead th {\n",
       "        text-align: left;\n",
       "    }\n",
       "\n",
       "    .dataframe tbody tr th {\n",
       "        vertical-align: top;\n",
       "    }\n",
       "</style>\n",
       "<table border=\"1\" class=\"dataframe\">\n",
       "  <thead>\n",
       "    <tr style=\"text-align: right;\">\n",
       "      <th></th>\n",
       "      <th>excelent</th>\n",
       "      <th>good</th>\n",
       "      <th>bad</th>\n",
       "    </tr>\n",
       "  </thead>\n",
       "  <tbody>\n",
       "    <tr>\n",
       "      <th>precision</th>\n",
       "      <td>0.710270</td>\n",
       "      <td>0.517799</td>\n",
       "      <td>0.235294</td>\n",
       "    </tr>\n",
       "    <tr>\n",
       "      <th>recall</th>\n",
       "      <td>0.834816</td>\n",
       "      <td>0.374707</td>\n",
       "      <td>0.108108</td>\n",
       "    </tr>\n",
       "    <tr>\n",
       "      <th>f1</th>\n",
       "      <td>0.767523</td>\n",
       "      <td>0.434783</td>\n",
       "      <td>0.148148</td>\n",
       "    </tr>\n",
       "    <tr>\n",
       "      <th>total</th>\n",
       "      <td>787.000000</td>\n",
       "      <td>427.000000</td>\n",
       "      <td>37.000000</td>\n",
       "    </tr>\n",
       "  </tbody>\n",
       "</table>\n",
       "</div>"
      ],
      "text/plain": [
       "             excelent        good        bad\n",
       "precision    0.710270    0.517799   0.235294\n",
       "recall       0.834816    0.374707   0.108108\n",
       "f1           0.767523    0.434783   0.148148\n",
       "total      787.000000  427.000000  37.000000"
      ]
     },
     "execution_count": 27,
     "metadata": {},
     "output_type": "execute_result"
    }
   ],
   "source": [
    "supp_matrix_baseline"
   ]
  },
  {
   "cell_type": "markdown",
   "metadata": {},
   "source": [
    "As expected, we have good results of the class 'excelent' and bad results for others. This situation is happened because the classes are very unbalanced."
   ]
  },
  {
   "cell_type": "markdown",
   "metadata": {},
   "source": [
    "Let's calculate ROC AUC average for the classes and for the each class"
   ]
  },
  {
   "cell_type": "code",
   "execution_count": 28,
   "metadata": {},
   "outputs": [
    {
     "name": "stderr",
     "output_type": "stream",
     "text": [
      "/Library/Frameworks/Python.framework/Versions/3.6/lib/python3.6/site-packages/sklearn/metrics/ranking.py:571: UndefinedMetricWarning: No positive samples in y_true, true positive value should be meaningless\n",
      "  UndefinedMetricWarning)\n"
     ]
    }
   ],
   "source": [
    "from sklearn.preprocessing import label_binarize\n",
    "\n",
    "y_bin = label_binarize(y_test, classes=[0, 1, 2])\n",
    "y_pr_bin = label_binarize(predictions, classes=[0, 1, 2])\n",
    "\n",
    "\n",
    "# Compute ROC curve and ROC area for each class\n",
    "fpr = dict()\n",
    "tpr = dict()\n",
    "roc_auc = dict()\n",
    "for i in range(3):\n",
    "    fpr[i], tpr[i], _ = roc_curve(y_bin[:, i], y_pr_bin[:, i])\n",
    "    roc_auc[i] = auc(fpr[i], tpr[i])\n",
    "\n",
    "# Compute micro-average ROC curve and ROC area\n",
    "fpr[\"micro\"], tpr[\"micro\"], _ = roc_curve(y_bin.ravel(), y_pr_bin.ravel(), pos_label=2)\n",
    "roc_auc[\"micro\"] = auc(fpr[\"micro\"], tpr[\"micro\"])"
   ]
  },
  {
   "cell_type": "code",
   "execution_count": 29,
   "metadata": {},
   "outputs": [
    {
     "data": {
      "text/plain": [
       "<Figure size 640x480 with 1 Axes>"
      ]
     },
     "metadata": {},
     "output_type": "display_data"
    }
   ],
   "source": [
    "import matplotlib.pyplot as plt\n",
    "\n",
    "plt.figure()\n",
    "lw = 2\n",
    "plt.plot(fpr[2], tpr[2], color='darkorange',\n",
    "         lw=lw, label='ROC curve (area = %0.2f)' % roc_auc[2])\n",
    "plt.plot([0, 1], [0, 1], color='navy', lw=lw, linestyle='--')\n",
    "plt.xlim([0.0, 1.0])\n",
    "plt.ylim([0.0, 1.05])\n",
    "plt.xlabel('False Positive Rate')\n",
    "plt.ylabel('True Positive Rate')\n",
    "plt.title('Receiver operating characteristic example')\n",
    "plt.legend(loc=\"lower right\")\n",
    "plt.show()"
   ]
  },
  {
   "cell_type": "code",
   "execution_count": 30,
   "metadata": {},
   "outputs": [
    {
     "data": {
      "image/png": "[encoded data removed]",
      "text/plain": [
       "<Figure size 432x288 with 1 Axes>"
      ]
     },
     "metadata": {},
     "output_type": "display_data"
    }
   ],
   "source": [
    "import numpy as np\n",
    "from scipy import interp\n",
    "from itertools import cycle\n",
    "\n",
    "n_classes = 3\n",
    "\n",
    "# Compute macro-average ROC curve and ROC area\n",
    "\n",
    "# First aggregate all false positive rates\n",
    "all_fpr = np.unique(np.concatenate([fpr[i] for i in range(n_classes)]))\n",
    "\n",
    "# Then interpolate all ROC curves at this points\n",
    "mean_tpr = np.zeros_like(all_fpr)\n",
    "for i in range(n_classes):\n",
    "    mean_tpr += interp(all_fpr, fpr[i], tpr[i])\n",
    "\n",
    "# Finally average it and compute AUC\n",
    "mean_tpr /= n_classes\n",
    "\n",
    "fpr[\"macro\"] = all_fpr\n",
    "tpr[\"macro\"] = mean_tpr\n",
    "roc_auc[\"macro\"] = auc(fpr[\"macro\"], tpr[\"macro\"])\n",
    "\n",
    "# Plot all ROC curves\n",
    "plt.figure()\n",
    "plt.plot(fpr[\"micro\"], tpr[\"micro\"],\n",
    "         label='micro-average ROC curve (area = {0:0.2f})'\n",
    "               ''.format(roc_auc[\"micro\"]),\n",
    "         color='deeppink', linestyle=':', linewidth=4)\n",
    "\n",
    "plt.plot(fpr[\"macro\"], tpr[\"macro\"],\n",
    "         label='macro-average ROC curve (area = {0:0.2f})'\n",
    "               ''.format(roc_auc[\"macro\"]),\n",
    "         color='navy', linestyle=':', linewidth=4)\n",
    "\n",
    "colors = cycle(['aqua', 'darkorange', 'cornflowerblue'])\n",
    "for i, color in zip(range(n_classes), colors):\n",
    "    plt.plot(fpr[i], tpr[i], color=color, lw=lw,\n",
    "             label='ROC curve of class {0} (area = {1:0.2f})'\n",
    "             ''.format(i, roc_auc[i]))\n",
    "\n",
    "plt.plot([0, 1], [0, 1], 'k--', lw=lw)\n",
    "plt.xlim([0.0, 1.0])\n",
    "plt.ylim([0.0, 1.05])\n",
    "plt.xlabel('False Positive Rate')\n",
    "plt.ylabel('True Positive Rate')\n",
    "plt.title('Some extension of Receiver operating characteristic to multi-class')\n",
    "plt.legend(loc=\"lower right\")\n",
    "plt.show()"
   ]
  },
  {
   "cell_type": "markdown",
   "metadata": {},
   "source": [
    "So, the results of the model don't satisfies us and the further improvement is needed"
   ]
  },
  {
   "cell_type": "markdown",
   "metadata": {},
   "source": [
    "# Add sentiment score"
   ]
  },
  {
   "cell_type": "markdown",
   "metadata": {},
   "source": [
    "Create sentiment dictionary from the file from https://github.com/lang-uk/tone-dict-uk"
   ]
  },
  {
   "cell_type": "code",
   "execution_count": 31,
   "metadata": {},
   "outputs": [],
   "source": [
    "import csv\n",
    "\n",
    "sentiment_dict = dict()\n",
    "\n",
    "with open('files/tone-dict-uk.tsv', newline='', ) as csvfile:\n",
    "    senti_reader = csv.reader(csvfile, delimiter='\\t')\n",
    "    for row in senti_reader:\n",
    "        sentiment_dict[row[0].lower()] = int(row[1])"
   ]
  },
  {
   "cell_type": "code",
   "execution_count": 32,
   "metadata": {},
   "outputs": [],
   "source": [
    "def calculate_text_sentiment(text):\n",
    "    pos = 0\n",
    "    neg = 0\n",
    "    tokens = [x.strip('.,/!#?:;\"_') for x in text.split()]\n",
    "    for t in tokens:\n",
    "        word_score = sentiment_dict.get(t, 0)\n",
    "        if word_score > 0:\n",
    "            pos += word_score\n",
    "        elif word_score < 0:\n",
    "            neg += word_score\n",
    "    return pos, abs(neg)"
   ]
  },
  {
   "cell_type": "markdown",
   "metadata": {},
   "source": [
    "Add 2 new columns of total possitive and total negative score"
   ]
  },
  {
   "cell_type": "code",
   "execution_count": 33,
   "metadata": {},
   "outputs": [],
   "source": [
    "data['pos'], data['neg'] = zip(*data['total_comment'].apply(calculate_text_sentiment))"
   ]
  },
  {
   "cell_type": "code",
   "execution_count": 34,
   "metadata": {},
   "outputs": [
    {
     "data": {
      "text/html": [
       "<div>\n",
       "<style>\n",
       "    .dataframe thead tr:only-child th {\n",
       "        text-align: right;\n",
       "    }\n",
       "\n",
       "    .dataframe thead th {\n",
       "        text-align: left;\n",
       "    }\n",
       "\n",
       "    .dataframe tbody tr th {\n",
       "        vertical-align: top;\n",
       "    }\n",
       "</style>\n",
       "<table border=\"1\" class=\"dataframe\">\n",
       "  <thead>\n",
       "    <tr style=\"text-align: right;\">\n",
       "      <th></th>\n",
       "      <th>len_symols</th>\n",
       "      <th>len_words</th>\n",
       "      <th>pos</th>\n",
       "      <th>neg</th>\n",
       "    </tr>\n",
       "    <tr>\n",
       "      <th>label</th>\n",
       "      <th></th>\n",
       "      <th></th>\n",
       "      <th></th>\n",
       "      <th></th>\n",
       "    </tr>\n",
       "  </thead>\n",
       "  <tbody>\n",
       "    <tr>\n",
       "      <th>0</th>\n",
       "      <td>291.117647</td>\n",
       "      <td>44.475936</td>\n",
       "      <td>0.433155</td>\n",
       "      <td>0.684492</td>\n",
       "    </tr>\n",
       "    <tr>\n",
       "      <th>1</th>\n",
       "      <td>294.258112</td>\n",
       "      <td>44.972468</td>\n",
       "      <td>1.052114</td>\n",
       "      <td>0.369715</td>\n",
       "    </tr>\n",
       "    <tr>\n",
       "      <th>2</th>\n",
       "      <td>251.393451</td>\n",
       "      <td>38.520714</td>\n",
       "      <td>1.242620</td>\n",
       "      <td>0.160754</td>\n",
       "    </tr>\n",
       "  </tbody>\n",
       "</table>\n",
       "</div>"
      ],
      "text/plain": [
       "       len_symols  len_words       pos       neg\n",
       "label                                           \n",
       "0      291.117647  44.475936  0.433155  0.684492\n",
       "1      294.258112  44.972468  1.052114  0.369715\n",
       "2      251.393451  38.520714  1.242620  0.160754"
      ]
     },
     "execution_count": 34,
     "metadata": {},
     "output_type": "execute_result"
    }
   ],
   "source": [
    "data.groupby(['label']).mean()"
   ]
  },
  {
   "cell_type": "markdown",
   "metadata": {},
   "source": [
    "Also, let's add length of text feature to classificatior"
   ]
  },
  {
   "cell_type": "code",
   "execution_count": 35,
   "metadata": {},
   "outputs": [],
   "source": [
    "X_train_senti, X_test_senti, y_train_senti, y_test_senti = train_test_split(\n",
    "                                                    data[['total_comment', 'pos', 'neg', 'len_words']],\n",
    "                                                    data['label'],\n",
    "                                                    test_size=0.2,\n",
    "                                                    random_state=100)"
   ]
  },
  {
   "cell_type": "code",
   "execution_count": 36,
   "metadata": {},
   "outputs": [
    {
     "data": {
      "text/html": [
       "<div>\n",
       "<style>\n",
       "    .dataframe thead tr:only-child th {\n",
       "        text-align: right;\n",
       "    }\n",
       "\n",
       "    .dataframe thead th {\n",
       "        text-align: left;\n",
       "    }\n",
       "\n",
       "    .dataframe tbody tr th {\n",
       "        vertical-align: top;\n",
       "    }\n",
       "</style>\n",
       "<table border=\"1\" class=\"dataframe\">\n",
       "  <thead>\n",
       "    <tr style=\"text-align: right;\">\n",
       "      <th></th>\n",
       "      <th>total_comment</th>\n",
       "      <th>pos</th>\n",
       "      <th>neg</th>\n",
       "      <th>len_words</th>\n",
       "    </tr>\n",
       "  </thead>\n",
       "  <tbody>\n",
       "    <tr>\n",
       "      <th>719</th>\n",
       "      <td>для звичайних повсякденних задач, та мультимед...</td>\n",
       "      <td>5</td>\n",
       "      <td>0</td>\n",
       "      <td>66</td>\n",
       "    </tr>\n",
       "    <tr>\n",
       "      <th>1017</th>\n",
       "      <td>повторювати всі попередні відгуки, типу компак...</td>\n",
       "      <td>0</td>\n",
       "      <td>2</td>\n",
       "      <td>254</td>\n",
       "    </tr>\n",
       "    <tr>\n",
       "      <th>4670</th>\n",
       "      <td>купив недавно ці наушники . дуже порадували . ...</td>\n",
       "      <td>4</td>\n",
       "      <td>3</td>\n",
       "      <td>80</td>\n",
       "    </tr>\n",
       "    <tr>\n",
       "      <th>2403</th>\n",
       "      <td>для своєї ціни це сепер колонка. але не вистач...</td>\n",
       "      <td>0</td>\n",
       "      <td>0</td>\n",
       "      <td>14</td>\n",
       "    </tr>\n",
       "    <tr>\n",
       "      <th>220</th>\n",
       "      <td>чи піде інти віндуза?</td>\n",
       "      <td>0</td>\n",
       "      <td>0</td>\n",
       "      <td>1</td>\n",
       "    </tr>\n",
       "  </tbody>\n",
       "</table>\n",
       "</div>"
      ],
      "text/plain": [
       "                                          total_comment  pos  neg  len_words\n",
       "719   для звичайних повсякденних задач, та мультимед...    5    0         66\n",
       "1017  повторювати всі попередні відгуки, типу компак...    0    2        254\n",
       "4670  купив недавно ці наушники . дуже порадували . ...    4    3         80\n",
       "2403  для своєї ціни це сепер колонка. але не вистач...    0    0         14\n",
       "220                               чи піде інти віндуза?    0    0          1"
      ]
     },
     "execution_count": 36,
     "metadata": {},
     "output_type": "execute_result"
    }
   ],
   "source": [
    "X_train_senti.head()"
   ]
  },
  {
   "cell_type": "code",
   "execution_count": 37,
   "metadata": {},
   "outputs": [
    {
     "name": "stdout",
     "output_type": "stream",
     "text": [
      "text shape: (5001, 22669)\n",
      "text and features shape: (5001, 22672)\n"
     ]
    }
   ],
   "source": [
    "bow_transformer = CountVectorizer().fit(X_train_senti['total_comment'])\n",
    "X_text = pd.DataFrame(bow_transformer.transform(X_train_senti['total_comment']).todense(),\n",
    "                      columns=bow_transformer.get_feature_names(), index=X_train_senti.index)\n",
    "print('text shape: {}'.format(X_text.shape))\n",
    "X_numbers = X_train_senti[['pos', 'neg', 'len_words']]\n",
    "X = pd.concat([X_text, X_numbers], axis=1, join=\"inner\")\n",
    "print('text and features shape: {}'.format(X.shape))"
   ]
  },
  {
   "cell_type": "markdown",
   "metadata": {},
   "source": [
    "To understand if the model is better with sentiment score let's make the same NaiveBayes model with the same alpha but  we can try to balance the feature \"pos\" and \"neg\" with the coeficient. Let's assume the possible coeficients: 0.5, 1, 2, 5, 10, 100"
   ]
  },
  {
   "cell_type": "code",
   "execution_count": 38,
   "metadata": {},
   "outputs": [
    {
     "data": {
      "text/html": [
       "<div>\n",
       "<style>\n",
       "    .dataframe thead tr:only-child th {\n",
       "        text-align: right;\n",
       "    }\n",
       "\n",
       "    .dataframe thead th {\n",
       "        text-align: left;\n",
       "    }\n",
       "\n",
       "    .dataframe tbody tr th {\n",
       "        vertical-align: top;\n",
       "    }\n",
       "</style>\n",
       "<table border=\"1\" class=\"dataframe\">\n",
       "  <thead>\n",
       "    <tr style=\"text-align: right;\">\n",
       "      <th></th>\n",
       "      <th>______</th>\n",
       "      <th>аа</th>\n",
       "      <th>абгрейд</th>\n",
       "      <th>абгрейда</th>\n",
       "      <th>абгрейду</th>\n",
       "      <th>аби</th>\n",
       "      <th>або</th>\n",
       "      <th>абож</th>\n",
       "      <th>абонент</th>\n",
       "      <th>абощо</th>\n",
       "      <th>...</th>\n",
       "      <th>їхня</th>\n",
       "      <th>їхні</th>\n",
       "      <th>їхній</th>\n",
       "      <th>їхніми</th>\n",
       "      <th>їхніх</th>\n",
       "      <th>їєднання</th>\n",
       "      <th>її</th>\n",
       "      <th>pos</th>\n",
       "      <th>neg</th>\n",
       "      <th>len_words</th>\n",
       "    </tr>\n",
       "  </thead>\n",
       "  <tbody>\n",
       "    <tr>\n",
       "      <th>719</th>\n",
       "      <td>0</td>\n",
       "      <td>0</td>\n",
       "      <td>0</td>\n",
       "      <td>0</td>\n",
       "      <td>0</td>\n",
       "      <td>0</td>\n",
       "      <td>0</td>\n",
       "      <td>0</td>\n",
       "      <td>0</td>\n",
       "      <td>0</td>\n",
       "      <td>...</td>\n",
       "      <td>0</td>\n",
       "      <td>0</td>\n",
       "      <td>0</td>\n",
       "      <td>0</td>\n",
       "      <td>0</td>\n",
       "      <td>0</td>\n",
       "      <td>0</td>\n",
       "      <td>5</td>\n",
       "      <td>0</td>\n",
       "      <td>66</td>\n",
       "    </tr>\n",
       "    <tr>\n",
       "      <th>1017</th>\n",
       "      <td>0</td>\n",
       "      <td>0</td>\n",
       "      <td>0</td>\n",
       "      <td>0</td>\n",
       "      <td>0</td>\n",
       "      <td>0</td>\n",
       "      <td>1</td>\n",
       "      <td>0</td>\n",
       "      <td>0</td>\n",
       "      <td>0</td>\n",
       "      <td>...</td>\n",
       "      <td>0</td>\n",
       "      <td>0</td>\n",
       "      <td>0</td>\n",
       "      <td>0</td>\n",
       "      <td>0</td>\n",
       "      <td>0</td>\n",
       "      <td>0</td>\n",
       "      <td>0</td>\n",
       "      <td>2</td>\n",
       "      <td>254</td>\n",
       "    </tr>\n",
       "    <tr>\n",
       "      <th>4670</th>\n",
       "      <td>1</td>\n",
       "      <td>0</td>\n",
       "      <td>0</td>\n",
       "      <td>0</td>\n",
       "      <td>0</td>\n",
       "      <td>0</td>\n",
       "      <td>0</td>\n",
       "      <td>0</td>\n",
       "      <td>0</td>\n",
       "      <td>0</td>\n",
       "      <td>...</td>\n",
       "      <td>0</td>\n",
       "      <td>0</td>\n",
       "      <td>0</td>\n",
       "      <td>0</td>\n",
       "      <td>0</td>\n",
       "      <td>0</td>\n",
       "      <td>0</td>\n",
       "      <td>4</td>\n",
       "      <td>3</td>\n",
       "      <td>80</td>\n",
       "    </tr>\n",
       "    <tr>\n",
       "      <th>2403</th>\n",
       "      <td>0</td>\n",
       "      <td>0</td>\n",
       "      <td>0</td>\n",
       "      <td>0</td>\n",
       "      <td>0</td>\n",
       "      <td>0</td>\n",
       "      <td>0</td>\n",
       "      <td>0</td>\n",
       "      <td>0</td>\n",
       "      <td>0</td>\n",
       "      <td>...</td>\n",
       "      <td>0</td>\n",
       "      <td>0</td>\n",
       "      <td>0</td>\n",
       "      <td>0</td>\n",
       "      <td>0</td>\n",
       "      <td>0</td>\n",
       "      <td>0</td>\n",
       "      <td>0</td>\n",
       "      <td>0</td>\n",
       "      <td>14</td>\n",
       "    </tr>\n",
       "    <tr>\n",
       "      <th>220</th>\n",
       "      <td>0</td>\n",
       "      <td>0</td>\n",
       "      <td>0</td>\n",
       "      <td>0</td>\n",
       "      <td>0</td>\n",
       "      <td>0</td>\n",
       "      <td>0</td>\n",
       "      <td>0</td>\n",
       "      <td>0</td>\n",
       "      <td>0</td>\n",
       "      <td>...</td>\n",
       "      <td>0</td>\n",
       "      <td>0</td>\n",
       "      <td>0</td>\n",
       "      <td>0</td>\n",
       "      <td>0</td>\n",
       "      <td>0</td>\n",
       "      <td>0</td>\n",
       "      <td>0</td>\n",
       "      <td>0</td>\n",
       "      <td>1</td>\n",
       "    </tr>\n",
       "  </tbody>\n",
       "</table>\n",
       "<p>5 rows × 22672 columns</p>\n",
       "</div>"
      ],
      "text/plain": [
       "      ______  аа  абгрейд  абгрейда  абгрейду  аби  або  абож  абонент  абощо  \\\n",
       "719        0   0        0         0         0    0    0     0        0      0   \n",
       "1017       0   0        0         0         0    0    1     0        0      0   \n",
       "4670       1   0        0         0         0    0    0     0        0      0   \n",
       "2403       0   0        0         0         0    0    0     0        0      0   \n",
       "220        0   0        0         0         0    0    0     0        0      0   \n",
       "\n",
       "        ...      їхня  їхні  їхній  їхніми  їхніх  їєднання  її  pos  neg  \\\n",
       "719     ...         0     0      0       0      0         0   0    5    0   \n",
       "1017    ...         0     0      0       0      0         0   0    0    2   \n",
       "4670    ...         0     0      0       0      0         0   0    4    3   \n",
       "2403    ...         0     0      0       0      0         0   0    0    0   \n",
       "220     ...         0     0      0       0      0         0   0    0    0   \n",
       "\n",
       "      len_words  \n",
       "719          66  \n",
       "1017        254  \n",
       "4670         80  \n",
       "2403         14  \n",
       "220           1  \n",
       "\n",
       "[5 rows x 22672 columns]"
      ]
     },
     "execution_count": 38,
     "metadata": {},
     "output_type": "execute_result"
    }
   ],
   "source": [
    "X.head()"
   ]
  },
  {
   "cell_type": "code",
   "execution_count": 39,
   "metadata": {},
   "outputs": [
    {
     "name": "stdout",
     "output_type": "stream",
     "text": [
      "k: 0.5\n"
     ]
    },
    {
     "name": "stderr",
     "output_type": "stream",
     "text": [
      "/Library/Frameworks/Python.framework/Versions/3.6/lib/python3.6/site-packages/sklearn/metrics/classification.py:1135: UndefinedMetricWarning: Precision is ill-defined and being set to 0.0 in labels with no predicted samples.\n",
      "  'precision', 'predicted', average, warn_for)\n",
      "/Library/Frameworks/Python.framework/Versions/3.6/lib/python3.6/site-packages/sklearn/metrics/classification.py:1135: UndefinedMetricWarning: F-score is ill-defined and being set to 0.0 in labels with no predicted samples.\n",
      "  'precision', 'predicted', average, warn_for)\n",
      "/Library/Frameworks/Python.framework/Versions/3.6/lib/python3.6/site-packages/sklearn/metrics/classification.py:1135: UndefinedMetricWarning: Precision is ill-defined and being set to 0.0 in labels with no predicted samples.\n",
      "  'precision', 'predicted', average, warn_for)\n",
      "/Library/Frameworks/Python.framework/Versions/3.6/lib/python3.6/site-packages/sklearn/metrics/classification.py:1135: UndefinedMetricWarning: F-score is ill-defined and being set to 0.0 in labels with no predicted samples.\n",
      "  'precision', 'predicted', average, warn_for)\n",
      "/Library/Frameworks/Python.framework/Versions/3.6/lib/python3.6/site-packages/sklearn/metrics/classification.py:1135: UndefinedMetricWarning: Precision is ill-defined and being set to 0.0 in labels with no predicted samples.\n",
      "  'precision', 'predicted', average, warn_for)\n",
      "/Library/Frameworks/Python.framework/Versions/3.6/lib/python3.6/site-packages/sklearn/metrics/classification.py:1135: UndefinedMetricWarning: F-score is ill-defined and being set to 0.0 in labels with no predicted samples.\n",
      "  'precision', 'predicted', average, warn_for)\n"
     ]
    },
    {
     "data": {
      "text/html": [
       "<div>\n",
       "<style>\n",
       "    .dataframe thead tr:only-child th {\n",
       "        text-align: right;\n",
       "    }\n",
       "\n",
       "    .dataframe thead th {\n",
       "        text-align: left;\n",
       "    }\n",
       "\n",
       "    .dataframe tbody tr th {\n",
       "        vertical-align: top;\n",
       "    }\n",
       "</style>\n",
       "<table border=\"1\" class=\"dataframe\">\n",
       "  <thead>\n",
       "    <tr style=\"text-align: right;\">\n",
       "      <th></th>\n",
       "      <th>alpha</th>\n",
       "      <th>mean_test_accuracy</th>\n",
       "      <th>mean_test_f1</th>\n",
       "      <th>mean_test_precision</th>\n",
       "      <th>mean_test_recall</th>\n",
       "      <th>rank_test_accuracy</th>\n",
       "      <th>rank_test_f1</th>\n",
       "      <th>rank_test_precision</th>\n",
       "      <th>rank_test_recall</th>\n",
       "    </tr>\n",
       "  </thead>\n",
       "  <tbody>\n",
       "    <tr>\n",
       "      <th>0</th>\n",
       "      <td>0.001</td>\n",
       "      <td>0.667067</td>\n",
       "      <td>0.477163</td>\n",
       "      <td>0.501339</td>\n",
       "      <td>0.465775</td>\n",
       "      <td>4</td>\n",
       "      <td>3</td>\n",
       "      <td>2</td>\n",
       "      <td>3</td>\n",
       "    </tr>\n",
       "    <tr>\n",
       "      <th>1</th>\n",
       "      <td>0.010</td>\n",
       "      <td>0.668466</td>\n",
       "      <td>0.502489</td>\n",
       "      <td>0.500759</td>\n",
       "      <td>0.508674</td>\n",
       "      <td>3</td>\n",
       "      <td>2</td>\n",
       "      <td>3</td>\n",
       "      <td>2</td>\n",
       "    </tr>\n",
       "    <tr>\n",
       "      <th>2</th>\n",
       "      <td>0.100</td>\n",
       "      <td>0.677265</td>\n",
       "      <td>0.510277</td>\n",
       "      <td>0.504258</td>\n",
       "      <td>0.522348</td>\n",
       "      <td>2</td>\n",
       "      <td>1</td>\n",
       "      <td>1</td>\n",
       "      <td>1</td>\n",
       "    </tr>\n",
       "    <tr>\n",
       "      <th>3</th>\n",
       "      <td>1.000</td>\n",
       "      <td>0.698260</td>\n",
       "      <td>0.395399</td>\n",
       "      <td>0.440997</td>\n",
       "      <td>0.404352</td>\n",
       "      <td>1</td>\n",
       "      <td>4</td>\n",
       "      <td>4</td>\n",
       "      <td>4</td>\n",
       "    </tr>\n",
       "  </tbody>\n",
       "</table>\n",
       "</div>"
      ],
      "text/plain": [
       "   alpha  mean_test_accuracy  mean_test_f1  mean_test_precision  \\\n",
       "0  0.001            0.667067      0.477163             0.501339   \n",
       "1  0.010            0.668466      0.502489             0.500759   \n",
       "2  0.100            0.677265      0.510277             0.504258   \n",
       "3  1.000            0.698260      0.395399             0.440997   \n",
       "\n",
       "   mean_test_recall  rank_test_accuracy  rank_test_f1  rank_test_precision  \\\n",
       "0          0.465775                   4             3                    2   \n",
       "1          0.508674                   3             2                    3   \n",
       "2          0.522348                   2             1                    1   \n",
       "3          0.404352                   1             4                    4   \n",
       "\n",
       "   rank_test_recall  \n",
       "0                 3  \n",
       "1                 2  \n",
       "2                 1  \n",
       "3                 4  "
      ]
     },
     "metadata": {},
     "output_type": "display_data"
    },
    {
     "name": "stdout",
     "output_type": "stream",
     "text": [
      "k: 1\n"
     ]
    },
    {
     "name": "stderr",
     "output_type": "stream",
     "text": [
      "/Library/Frameworks/Python.framework/Versions/3.6/lib/python3.6/site-packages/sklearn/metrics/classification.py:1135: UndefinedMetricWarning: Precision is ill-defined and being set to 0.0 in labels with no predicted samples.\n",
      "  'precision', 'predicted', average, warn_for)\n",
      "/Library/Frameworks/Python.framework/Versions/3.6/lib/python3.6/site-packages/sklearn/metrics/classification.py:1135: UndefinedMetricWarning: F-score is ill-defined and being set to 0.0 in labels with no predicted samples.\n",
      "  'precision', 'predicted', average, warn_for)\n",
      "/Library/Frameworks/Python.framework/Versions/3.6/lib/python3.6/site-packages/sklearn/metrics/classification.py:1135: UndefinedMetricWarning: Precision is ill-defined and being set to 0.0 in labels with no predicted samples.\n",
      "  'precision', 'predicted', average, warn_for)\n",
      "/Library/Frameworks/Python.framework/Versions/3.6/lib/python3.6/site-packages/sklearn/metrics/classification.py:1135: UndefinedMetricWarning: F-score is ill-defined and being set to 0.0 in labels with no predicted samples.\n",
      "  'precision', 'predicted', average, warn_for)\n",
      "/Library/Frameworks/Python.framework/Versions/3.6/lib/python3.6/site-packages/sklearn/metrics/classification.py:1135: UndefinedMetricWarning: Precision is ill-defined and being set to 0.0 in labels with no predicted samples.\n",
      "  'precision', 'predicted', average, warn_for)\n",
      "/Library/Frameworks/Python.framework/Versions/3.6/lib/python3.6/site-packages/sklearn/metrics/classification.py:1135: UndefinedMetricWarning: F-score is ill-defined and being set to 0.0 in labels with no predicted samples.\n",
      "  'precision', 'predicted', average, warn_for)\n"
     ]
    },
    {
     "data": {
      "text/html": [
       "<div>\n",
       "<style>\n",
       "    .dataframe thead tr:only-child th {\n",
       "        text-align: right;\n",
       "    }\n",
       "\n",
       "    .dataframe thead th {\n",
       "        text-align: left;\n",
       "    }\n",
       "\n",
       "    .dataframe tbody tr th {\n",
       "        vertical-align: top;\n",
       "    }\n",
       "</style>\n",
       "<table border=\"1\" class=\"dataframe\">\n",
       "  <thead>\n",
       "    <tr style=\"text-align: right;\">\n",
       "      <th></th>\n",
       "      <th>alpha</th>\n",
       "      <th>mean_test_accuracy</th>\n",
       "      <th>mean_test_f1</th>\n",
       "      <th>mean_test_precision</th>\n",
       "      <th>mean_test_recall</th>\n",
       "      <th>rank_test_accuracy</th>\n",
       "      <th>rank_test_f1</th>\n",
       "      <th>rank_test_precision</th>\n",
       "      <th>rank_test_recall</th>\n",
       "    </tr>\n",
       "  </thead>\n",
       "  <tbody>\n",
       "    <tr>\n",
       "      <th>0</th>\n",
       "      <td>0.001</td>\n",
       "      <td>0.669866</td>\n",
       "      <td>0.479349</td>\n",
       "      <td>0.503326</td>\n",
       "      <td>0.467842</td>\n",
       "      <td>4</td>\n",
       "      <td>3</td>\n",
       "      <td>2</td>\n",
       "      <td>3</td>\n",
       "    </tr>\n",
       "    <tr>\n",
       "      <th>1</th>\n",
       "      <td>0.010</td>\n",
       "      <td>0.670466</td>\n",
       "      <td>0.503973</td>\n",
       "      <td>0.501929</td>\n",
       "      <td>0.510274</td>\n",
       "      <td>3</td>\n",
       "      <td>2</td>\n",
       "      <td>3</td>\n",
       "      <td>2</td>\n",
       "    </tr>\n",
       "    <tr>\n",
       "      <th>2</th>\n",
       "      <td>0.100</td>\n",
       "      <td>0.678264</td>\n",
       "      <td>0.514132</td>\n",
       "      <td>0.507452</td>\n",
       "      <td>0.527205</td>\n",
       "      <td>2</td>\n",
       "      <td>1</td>\n",
       "      <td>1</td>\n",
       "      <td>1</td>\n",
       "    </tr>\n",
       "    <tr>\n",
       "      <th>3</th>\n",
       "      <td>1.000</td>\n",
       "      <td>0.698460</td>\n",
       "      <td>0.395905</td>\n",
       "      <td>0.441176</td>\n",
       "      <td>0.404664</td>\n",
       "      <td>1</td>\n",
       "      <td>4</td>\n",
       "      <td>4</td>\n",
       "      <td>4</td>\n",
       "    </tr>\n",
       "  </tbody>\n",
       "</table>\n",
       "</div>"
      ],
      "text/plain": [
       "   alpha  mean_test_accuracy  mean_test_f1  mean_test_precision  \\\n",
       "0  0.001            0.669866      0.479349             0.503326   \n",
       "1  0.010            0.670466      0.503973             0.501929   \n",
       "2  0.100            0.678264      0.514132             0.507452   \n",
       "3  1.000            0.698460      0.395905             0.441176   \n",
       "\n",
       "   mean_test_recall  rank_test_accuracy  rank_test_f1  rank_test_precision  \\\n",
       "0          0.467842                   4             3                    2   \n",
       "1          0.510274                   3             2                    3   \n",
       "2          0.527205                   2             1                    1   \n",
       "3          0.404664                   1             4                    4   \n",
       "\n",
       "   rank_test_recall  \n",
       "0                 3  \n",
       "1                 2  \n",
       "2                 1  \n",
       "3                 4  "
      ]
     },
     "metadata": {},
     "output_type": "display_data"
    },
    {
     "name": "stdout",
     "output_type": "stream",
     "text": [
      "k: 2\n"
     ]
    },
    {
     "name": "stderr",
     "output_type": "stream",
     "text": [
      "/Library/Frameworks/Python.framework/Versions/3.6/lib/python3.6/site-packages/sklearn/metrics/classification.py:1135: UndefinedMetricWarning: Precision is ill-defined and being set to 0.0 in labels with no predicted samples.\n",
      "  'precision', 'predicted', average, warn_for)\n",
      "/Library/Frameworks/Python.framework/Versions/3.6/lib/python3.6/site-packages/sklearn/metrics/classification.py:1135: UndefinedMetricWarning: F-score is ill-defined and being set to 0.0 in labels with no predicted samples.\n",
      "  'precision', 'predicted', average, warn_for)\n",
      "/Library/Frameworks/Python.framework/Versions/3.6/lib/python3.6/site-packages/sklearn/metrics/classification.py:1135: UndefinedMetricWarning: Precision is ill-defined and being set to 0.0 in labels with no predicted samples.\n",
      "  'precision', 'predicted', average, warn_for)\n",
      "/Library/Frameworks/Python.framework/Versions/3.6/lib/python3.6/site-packages/sklearn/metrics/classification.py:1135: UndefinedMetricWarning: F-score is ill-defined and being set to 0.0 in labels with no predicted samples.\n",
      "  'precision', 'predicted', average, warn_for)\n",
      "/Library/Frameworks/Python.framework/Versions/3.6/lib/python3.6/site-packages/sklearn/metrics/classification.py:1135: UndefinedMetricWarning: Precision is ill-defined and being set to 0.0 in labels with no predicted samples.\n",
      "  'precision', 'predicted', average, warn_for)\n",
      "/Library/Frameworks/Python.framework/Versions/3.6/lib/python3.6/site-packages/sklearn/metrics/classification.py:1135: UndefinedMetricWarning: F-score is ill-defined and being set to 0.0 in labels with no predicted samples.\n",
      "  'precision', 'predicted', average, warn_for)\n"
     ]
    },
    {
     "data": {
      "text/html": [
       "<div>\n",
       "<style>\n",
       "    .dataframe thead tr:only-child th {\n",
       "        text-align: right;\n",
       "    }\n",
       "\n",
       "    .dataframe thead th {\n",
       "        text-align: left;\n",
       "    }\n",
       "\n",
       "    .dataframe tbody tr th {\n",
       "        vertical-align: top;\n",
       "    }\n",
       "</style>\n",
       "<table border=\"1\" class=\"dataframe\">\n",
       "  <thead>\n",
       "    <tr style=\"text-align: right;\">\n",
       "      <th></th>\n",
       "      <th>alpha</th>\n",
       "      <th>mean_test_accuracy</th>\n",
       "      <th>mean_test_f1</th>\n",
       "      <th>mean_test_precision</th>\n",
       "      <th>mean_test_recall</th>\n",
       "      <th>rank_test_accuracy</th>\n",
       "      <th>rank_test_f1</th>\n",
       "      <th>rank_test_precision</th>\n",
       "      <th>rank_test_recall</th>\n",
       "    </tr>\n",
       "  </thead>\n",
       "  <tbody>\n",
       "    <tr>\n",
       "      <th>0</th>\n",
       "      <td>0.001</td>\n",
       "      <td>0.670666</td>\n",
       "      <td>0.479162</td>\n",
       "      <td>0.501372</td>\n",
       "      <td>0.468358</td>\n",
       "      <td>4</td>\n",
       "      <td>3</td>\n",
       "      <td>3</td>\n",
       "      <td>3</td>\n",
       "    </tr>\n",
       "    <tr>\n",
       "      <th>1</th>\n",
       "      <td>0.010</td>\n",
       "      <td>0.672865</td>\n",
       "      <td>0.507713</td>\n",
       "      <td>0.505891</td>\n",
       "      <td>0.513969</td>\n",
       "      <td>3</td>\n",
       "      <td>2</td>\n",
       "      <td>2</td>\n",
       "      <td>2</td>\n",
       "    </tr>\n",
       "    <tr>\n",
       "      <th>2</th>\n",
       "      <td>0.100</td>\n",
       "      <td>0.681664</td>\n",
       "      <td>0.519841</td>\n",
       "      <td>0.512650</td>\n",
       "      <td>0.534292</td>\n",
       "      <td>2</td>\n",
       "      <td>1</td>\n",
       "      <td>1</td>\n",
       "      <td>1</td>\n",
       "    </tr>\n",
       "    <tr>\n",
       "      <th>3</th>\n",
       "      <td>1.000</td>\n",
       "      <td>0.698060</td>\n",
       "      <td>0.398105</td>\n",
       "      <td>0.438961</td>\n",
       "      <td>0.406028</td>\n",
       "      <td>1</td>\n",
       "      <td>4</td>\n",
       "      <td>4</td>\n",
       "      <td>4</td>\n",
       "    </tr>\n",
       "  </tbody>\n",
       "</table>\n",
       "</div>"
      ],
      "text/plain": [
       "   alpha  mean_test_accuracy  mean_test_f1  mean_test_precision  \\\n",
       "0  0.001            0.670666      0.479162             0.501372   \n",
       "1  0.010            0.672865      0.507713             0.505891   \n",
       "2  0.100            0.681664      0.519841             0.512650   \n",
       "3  1.000            0.698060      0.398105             0.438961   \n",
       "\n",
       "   mean_test_recall  rank_test_accuracy  rank_test_f1  rank_test_precision  \\\n",
       "0          0.468358                   4             3                    3   \n",
       "1          0.513969                   3             2                    2   \n",
       "2          0.534292                   2             1                    1   \n",
       "3          0.406028                   1             4                    4   \n",
       "\n",
       "   rank_test_recall  \n",
       "0                 3  \n",
       "1                 2  \n",
       "2                 1  \n",
       "3                 4  "
      ]
     },
     "metadata": {},
     "output_type": "display_data"
    },
    {
     "name": "stdout",
     "output_type": "stream",
     "text": [
      "k: 3\n"
     ]
    },
    {
     "name": "stderr",
     "output_type": "stream",
     "text": [
      "/Library/Frameworks/Python.framework/Versions/3.6/lib/python3.6/site-packages/sklearn/metrics/classification.py:1135: UndefinedMetricWarning: Precision is ill-defined and being set to 0.0 in labels with no predicted samples.\n",
      "  'precision', 'predicted', average, warn_for)\n",
      "/Library/Frameworks/Python.framework/Versions/3.6/lib/python3.6/site-packages/sklearn/metrics/classification.py:1135: UndefinedMetricWarning: F-score is ill-defined and being set to 0.0 in labels with no predicted samples.\n",
      "  'precision', 'predicted', average, warn_for)\n",
      "/Library/Frameworks/Python.framework/Versions/3.6/lib/python3.6/site-packages/sklearn/metrics/classification.py:1135: UndefinedMetricWarning: Precision is ill-defined and being set to 0.0 in labels with no predicted samples.\n",
      "  'precision', 'predicted', average, warn_for)\n",
      "/Library/Frameworks/Python.framework/Versions/3.6/lib/python3.6/site-packages/sklearn/metrics/classification.py:1135: UndefinedMetricWarning: F-score is ill-defined and being set to 0.0 in labels with no predicted samples.\n",
      "  'precision', 'predicted', average, warn_for)\n"
     ]
    },
    {
     "data": {
      "text/html": [
       "<div>\n",
       "<style>\n",
       "    .dataframe thead tr:only-child th {\n",
       "        text-align: right;\n",
       "    }\n",
       "\n",
       "    .dataframe thead th {\n",
       "        text-align: left;\n",
       "    }\n",
       "\n",
       "    .dataframe tbody tr th {\n",
       "        vertical-align: top;\n",
       "    }\n",
       "</style>\n",
       "<table border=\"1\" class=\"dataframe\">\n",
       "  <thead>\n",
       "    <tr style=\"text-align: right;\">\n",
       "      <th></th>\n",
       "      <th>alpha</th>\n",
       "      <th>mean_test_accuracy</th>\n",
       "      <th>mean_test_f1</th>\n",
       "      <th>mean_test_precision</th>\n",
       "      <th>mean_test_recall</th>\n",
       "      <th>rank_test_accuracy</th>\n",
       "      <th>rank_test_f1</th>\n",
       "      <th>rank_test_precision</th>\n",
       "      <th>rank_test_recall</th>\n",
       "    </tr>\n",
       "  </thead>\n",
       "  <tbody>\n",
       "    <tr>\n",
       "      <th>0</th>\n",
       "      <td>0.001</td>\n",
       "      <td>0.670466</td>\n",
       "      <td>0.48341</td>\n",
       "      <td>0.505242</td>\n",
       "      <td>0.472446</td>\n",
       "      <td>4</td>\n",
       "      <td>3</td>\n",
       "      <td>3</td>\n",
       "      <td>3</td>\n",
       "    </tr>\n",
       "    <tr>\n",
       "      <th>1</th>\n",
       "      <td>0.010</td>\n",
       "      <td>0.671066</td>\n",
       "      <td>0.50990</td>\n",
       "      <td>0.506341</td>\n",
       "      <td>0.518900</td>\n",
       "      <td>3</td>\n",
       "      <td>2</td>\n",
       "      <td>2</td>\n",
       "      <td>2</td>\n",
       "    </tr>\n",
       "    <tr>\n",
       "      <th>2</th>\n",
       "      <td>0.100</td>\n",
       "      <td>0.680664</td>\n",
       "      <td>0.51750</td>\n",
       "      <td>0.510386</td>\n",
       "      <td>0.533045</td>\n",
       "      <td>2</td>\n",
       "      <td>1</td>\n",
       "      <td>1</td>\n",
       "      <td>1</td>\n",
       "    </tr>\n",
       "    <tr>\n",
       "      <th>3</th>\n",
       "      <td>1.000</td>\n",
       "      <td>0.697061</td>\n",
       "      <td>0.40094</td>\n",
       "      <td>0.435565</td>\n",
       "      <td>0.407816</td>\n",
       "      <td>1</td>\n",
       "      <td>4</td>\n",
       "      <td>4</td>\n",
       "      <td>4</td>\n",
       "    </tr>\n",
       "  </tbody>\n",
       "</table>\n",
       "</div>"
      ],
      "text/plain": [
       "   alpha  mean_test_accuracy  mean_test_f1  mean_test_precision  \\\n",
       "0  0.001            0.670466       0.48341             0.505242   \n",
       "1  0.010            0.671066       0.50990             0.506341   \n",
       "2  0.100            0.680664       0.51750             0.510386   \n",
       "3  1.000            0.697061       0.40094             0.435565   \n",
       "\n",
       "   mean_test_recall  rank_test_accuracy  rank_test_f1  rank_test_precision  \\\n",
       "0          0.472446                   4             3                    3   \n",
       "1          0.518900                   3             2                    2   \n",
       "2          0.533045                   2             1                    1   \n",
       "3          0.407816                   1             4                    4   \n",
       "\n",
       "   rank_test_recall  \n",
       "0                 3  \n",
       "1                 2  \n",
       "2                 1  \n",
       "3                 4  "
      ]
     },
     "metadata": {},
     "output_type": "display_data"
    },
    {
     "name": "stdout",
     "output_type": "stream",
     "text": [
      "k: 4\n"
     ]
    },
    {
     "name": "stderr",
     "output_type": "stream",
     "text": [
      "/Library/Frameworks/Python.framework/Versions/3.6/lib/python3.6/site-packages/sklearn/metrics/classification.py:1135: UndefinedMetricWarning: Precision is ill-defined and being set to 0.0 in labels with no predicted samples.\n",
      "  'precision', 'predicted', average, warn_for)\n",
      "/Library/Frameworks/Python.framework/Versions/3.6/lib/python3.6/site-packages/sklearn/metrics/classification.py:1135: UndefinedMetricWarning: F-score is ill-defined and being set to 0.0 in labels with no predicted samples.\n",
      "  'precision', 'predicted', average, warn_for)\n",
      "/Library/Frameworks/Python.framework/Versions/3.6/lib/python3.6/site-packages/sklearn/metrics/classification.py:1135: UndefinedMetricWarning: Precision is ill-defined and being set to 0.0 in labels with no predicted samples.\n",
      "  'precision', 'predicted', average, warn_for)\n",
      "/Library/Frameworks/Python.framework/Versions/3.6/lib/python3.6/site-packages/sklearn/metrics/classification.py:1135: UndefinedMetricWarning: F-score is ill-defined and being set to 0.0 in labels with no predicted samples.\n",
      "  'precision', 'predicted', average, warn_for)\n"
     ]
    },
    {
     "data": {
      "text/html": [
       "<div>\n",
       "<style>\n",
       "    .dataframe thead tr:only-child th {\n",
       "        text-align: right;\n",
       "    }\n",
       "\n",
       "    .dataframe thead th {\n",
       "        text-align: left;\n",
       "    }\n",
       "\n",
       "    .dataframe tbody tr th {\n",
       "        vertical-align: top;\n",
       "    }\n",
       "</style>\n",
       "<table border=\"1\" class=\"dataframe\">\n",
       "  <thead>\n",
       "    <tr style=\"text-align: right;\">\n",
       "      <th></th>\n",
       "      <th>alpha</th>\n",
       "      <th>mean_test_accuracy</th>\n",
       "      <th>mean_test_f1</th>\n",
       "      <th>mean_test_precision</th>\n",
       "      <th>mean_test_recall</th>\n",
       "      <th>rank_test_accuracy</th>\n",
       "      <th>rank_test_f1</th>\n",
       "      <th>rank_test_precision</th>\n",
       "      <th>rank_test_recall</th>\n",
       "    </tr>\n",
       "  </thead>\n",
       "  <tbody>\n",
       "    <tr>\n",
       "      <th>0</th>\n",
       "      <td>0.001</td>\n",
       "      <td>0.667067</td>\n",
       "      <td>0.482956</td>\n",
       "      <td>0.502394</td>\n",
       "      <td>0.472429</td>\n",
       "      <td>4</td>\n",
       "      <td>3</td>\n",
       "      <td>2</td>\n",
       "      <td>3</td>\n",
       "    </tr>\n",
       "    <tr>\n",
       "      <th>1</th>\n",
       "      <td>0.010</td>\n",
       "      <td>0.668066</td>\n",
       "      <td>0.507138</td>\n",
       "      <td>0.502372</td>\n",
       "      <td>0.518403</td>\n",
       "      <td>3</td>\n",
       "      <td>2</td>\n",
       "      <td>3</td>\n",
       "      <td>2</td>\n",
       "    </tr>\n",
       "    <tr>\n",
       "      <th>2</th>\n",
       "      <td>0.100</td>\n",
       "      <td>0.679064</td>\n",
       "      <td>0.517359</td>\n",
       "      <td>0.508379</td>\n",
       "      <td>0.536721</td>\n",
       "      <td>2</td>\n",
       "      <td>1</td>\n",
       "      <td>1</td>\n",
       "      <td>1</td>\n",
       "    </tr>\n",
       "    <tr>\n",
       "      <th>3</th>\n",
       "      <td>1.000</td>\n",
       "      <td>0.698660</td>\n",
       "      <td>0.405998</td>\n",
       "      <td>0.436124</td>\n",
       "      <td>0.411674</td>\n",
       "      <td>1</td>\n",
       "      <td>4</td>\n",
       "      <td>4</td>\n",
       "      <td>4</td>\n",
       "    </tr>\n",
       "  </tbody>\n",
       "</table>\n",
       "</div>"
      ],
      "text/plain": [
       "   alpha  mean_test_accuracy  mean_test_f1  mean_test_precision  \\\n",
       "0  0.001            0.667067      0.482956             0.502394   \n",
       "1  0.010            0.668066      0.507138             0.502372   \n",
       "2  0.100            0.679064      0.517359             0.508379   \n",
       "3  1.000            0.698660      0.405998             0.436124   \n",
       "\n",
       "   mean_test_recall  rank_test_accuracy  rank_test_f1  rank_test_precision  \\\n",
       "0          0.472429                   4             3                    2   \n",
       "1          0.518403                   3             2                    3   \n",
       "2          0.536721                   2             1                    1   \n",
       "3          0.411674                   1             4                    4   \n",
       "\n",
       "   rank_test_recall  \n",
       "0                 3  \n",
       "1                 2  \n",
       "2                 1  \n",
       "3                 4  "
      ]
     },
     "metadata": {},
     "output_type": "display_data"
    },
    {
     "name": "stdout",
     "output_type": "stream",
     "text": [
      "k: 5\n"
     ]
    },
    {
     "name": "stderr",
     "output_type": "stream",
     "text": [
      "/Library/Frameworks/Python.framework/Versions/3.6/lib/python3.6/site-packages/sklearn/metrics/classification.py:1135: UndefinedMetricWarning: Precision is ill-defined and being set to 0.0 in labels with no predicted samples.\n",
      "  'precision', 'predicted', average, warn_for)\n",
      "/Library/Frameworks/Python.framework/Versions/3.6/lib/python3.6/site-packages/sklearn/metrics/classification.py:1135: UndefinedMetricWarning: F-score is ill-defined and being set to 0.0 in labels with no predicted samples.\n",
      "  'precision', 'predicted', average, warn_for)\n",
      "/Library/Frameworks/Python.framework/Versions/3.6/lib/python3.6/site-packages/sklearn/metrics/classification.py:1135: UndefinedMetricWarning: Precision is ill-defined and being set to 0.0 in labels with no predicted samples.\n",
      "  'precision', 'predicted', average, warn_for)\n",
      "/Library/Frameworks/Python.framework/Versions/3.6/lib/python3.6/site-packages/sklearn/metrics/classification.py:1135: UndefinedMetricWarning: F-score is ill-defined and being set to 0.0 in labels with no predicted samples.\n",
      "  'precision', 'predicted', average, warn_for)\n"
     ]
    },
    {
     "data": {
      "text/html": [
       "<div>\n",
       "<style>\n",
       "    .dataframe thead tr:only-child th {\n",
       "        text-align: right;\n",
       "    }\n",
       "\n",
       "    .dataframe thead th {\n",
       "        text-align: left;\n",
       "    }\n",
       "\n",
       "    .dataframe tbody tr th {\n",
       "        vertical-align: top;\n",
       "    }\n",
       "</style>\n",
       "<table border=\"1\" class=\"dataframe\">\n",
       "  <thead>\n",
       "    <tr style=\"text-align: right;\">\n",
       "      <th></th>\n",
       "      <th>alpha</th>\n",
       "      <th>mean_test_accuracy</th>\n",
       "      <th>mean_test_f1</th>\n",
       "      <th>mean_test_precision</th>\n",
       "      <th>mean_test_recall</th>\n",
       "      <th>rank_test_accuracy</th>\n",
       "      <th>rank_test_f1</th>\n",
       "      <th>rank_test_precision</th>\n",
       "      <th>rank_test_recall</th>\n",
       "    </tr>\n",
       "  </thead>\n",
       "  <tbody>\n",
       "    <tr>\n",
       "      <th>0</th>\n",
       "      <td>0.001</td>\n",
       "      <td>0.667067</td>\n",
       "      <td>0.483121</td>\n",
       "      <td>0.502415</td>\n",
       "      <td>0.472638</td>\n",
       "      <td>4</td>\n",
       "      <td>3</td>\n",
       "      <td>2</td>\n",
       "      <td>3</td>\n",
       "    </tr>\n",
       "    <tr>\n",
       "      <th>1</th>\n",
       "      <td>0.010</td>\n",
       "      <td>0.668266</td>\n",
       "      <td>0.507197</td>\n",
       "      <td>0.502229</td>\n",
       "      <td>0.519029</td>\n",
       "      <td>3</td>\n",
       "      <td>2</td>\n",
       "      <td>3</td>\n",
       "      <td>2</td>\n",
       "    </tr>\n",
       "    <tr>\n",
       "      <th>2</th>\n",
       "      <td>0.100</td>\n",
       "      <td>0.677465</td>\n",
       "      <td>0.517307</td>\n",
       "      <td>0.507306</td>\n",
       "      <td>0.539825</td>\n",
       "      <td>2</td>\n",
       "      <td>1</td>\n",
       "      <td>1</td>\n",
       "      <td>1</td>\n",
       "    </tr>\n",
       "    <tr>\n",
       "      <th>3</th>\n",
       "      <td>1.000</td>\n",
       "      <td>0.701260</td>\n",
       "      <td>0.411262</td>\n",
       "      <td>0.438018</td>\n",
       "      <td>0.415942</td>\n",
       "      <td>1</td>\n",
       "      <td>4</td>\n",
       "      <td>4</td>\n",
       "      <td>4</td>\n",
       "    </tr>\n",
       "  </tbody>\n",
       "</table>\n",
       "</div>"
      ],
      "text/plain": [
       "   alpha  mean_test_accuracy  mean_test_f1  mean_test_precision  \\\n",
       "0  0.001            0.667067      0.483121             0.502415   \n",
       "1  0.010            0.668266      0.507197             0.502229   \n",
       "2  0.100            0.677465      0.517307             0.507306   \n",
       "3  1.000            0.701260      0.411262             0.438018   \n",
       "\n",
       "   mean_test_recall  rank_test_accuracy  rank_test_f1  rank_test_precision  \\\n",
       "0          0.472638                   4             3                    2   \n",
       "1          0.519029                   3             2                    3   \n",
       "2          0.539825                   2             1                    1   \n",
       "3          0.415942                   1             4                    4   \n",
       "\n",
       "   rank_test_recall  \n",
       "0                 3  \n",
       "1                 2  \n",
       "2                 1  \n",
       "3                 4  "
      ]
     },
     "metadata": {},
     "output_type": "display_data"
    }
   ],
   "source": [
    "from IPython.display import display, HTML\n",
    "senti_k = (0.5, 1, 2, 3, 4, 5)\n",
    "parameters = {'alpha': [0.001, 0.01, 0.1, 1.0]}\n",
    "curves_dict = {}\n",
    "results = []\n",
    "\n",
    "for k in senti_k:\n",
    "    print('k:', k)\n",
    "    X[['pos', 'neg']] = X[['pos', 'neg']] * k\n",
    "    clf_temp_s = GridSearchCV(MultinomialNB(), parameters, cv=4, return_train_score=False, n_jobs=4, \n",
    "                              scoring=scoring, refit=False)\n",
    "    clf_temp_s.fit(X, y_train)\n",
    "    clf_temp_data = {re.sub('_macro','',k):v for k, v in clf_temp_s.cv_results_.items() if k.startswith('mean_test') or k.startswith('rank_')}\n",
    "    clf_temp_data['alpha'] = [0.001, 0.01, 0.1, 1.0]\n",
    "    for score, values in clf_temp_data.items():\n",
    "        if score.startswith('mean_test'):\n",
    "            curves_dict.setdefault(score, []).append(values[2])\n",
    "    display(pd.DataFrame(clf_temp_data))\n",
    "#     ['alpha','mean_test_accuracy','mean_test_f1','mean_test_precision','mean_test_recall'])\n",
    "    X[['pos', 'neg']] = X[['pos', 'neg']] / k"
   ]
  },
  {
   "cell_type": "code",
   "execution_count": 40,
   "metadata": {},
   "outputs": [
    {
     "data": {
      "image/png": "[encoded data removed]",
      "text/plain": [
       "<Figure size 432x288 with 1 Axes>"
      ]
     },
     "metadata": {},
     "output_type": "display_data"
    }
   ],
   "source": [
    "x = [str(x) for x in senti_k]\n",
    "for name, values in curves_dict.items():\n",
    "    if 'time' not in name:\n",
    "        label = name.split('_')[2]\n",
    "        plt.plot(x, values, label=label)\n",
    "\n",
    "plt.ylabel('scores')\n",
    "plt.xlabel('k')\n",
    "plt.legend()\n",
    "plt.show()"
   ]
  },
  {
   "cell_type": "markdown",
   "metadata": {},
   "source": [
    "The difference in score not so big for k=1 and k=2, but 2 is sligthly better, so I'm going to multiply all for 2"
   ]
  },
  {
   "cell_type": "code",
   "execution_count": 41,
   "metadata": {},
   "outputs": [
    {
     "data": {
      "text/plain": [
       "MultinomialNB(alpha=0.1, class_prior=None, fit_prior=True)"
      ]
     },
     "execution_count": 41,
     "metadata": {},
     "output_type": "execute_result"
    }
   ],
   "source": [
    "k = 2\n",
    "X[['pos', 'neg']] = X[['pos', 'neg']] * k\n",
    "model_senti = MultinomialNB(alpha=0.1)\n",
    "model_senti.fit(X, y_train_senti)"
   ]
  },
  {
   "cell_type": "code",
   "execution_count": 42,
   "metadata": {},
   "outputs": [
    {
     "name": "stdout",
     "output_type": "stream",
     "text": [
      "text shape: (1251, 22669)\n"
     ]
    },
    {
     "name": "stderr",
     "output_type": "stream",
     "text": [
      "/Library/Frameworks/Python.framework/Versions/3.6/lib/python3.6/site-packages/pandas/core/frame.py:2450: SettingWithCopyWarning: \n",
      "A value is trying to be set on a copy of a slice from a DataFrame.\n",
      "Try using .loc[row_indexer,col_indexer] = value instead\n",
      "\n",
      "See the caveats in the documentation: http://pandas.pydata.org/pandas-docs/stable/indexing.html#indexing-view-versus-copy\n",
      "  self[k1] = value[k2]\n"
     ]
    },
    {
     "name": "stdout",
     "output_type": "stream",
     "text": [
      "text and features shape: (1251, 22672)\n"
     ]
    }
   ],
   "source": [
    "X_test_text = pd.DataFrame(bow_transformer.transform(X_test_senti['total_comment']).todense(),\n",
    "                           columns=bow_transformer.get_feature_names(), index=X_test_senti.index)\n",
    "print('text shape: {}'.format(X_test_text.shape))\n",
    "X_test_numbers = X_test_senti[['pos', 'neg', 'len_words']]\n",
    "X_test_numbers[['pos', 'neg']] = X_test_numbers[['pos', 'neg']] * k\n",
    "X_test_s = pd.concat([X_test_text, X_test_numbers], axis=1, join=\"inner\")\n",
    "print('text and features shape: {}'.format(X_test_s.shape))\n",
    "predictions_senti = model_senti.predict(X_test_s)"
   ]
  },
  {
   "cell_type": "markdown",
   "metadata": {},
   "source": [
    "### Evalutaion with sentiment score model"
   ]
  },
  {
   "cell_type": "markdown",
   "metadata": {},
   "source": [
    "Let's make the same model's evaluation pipline as it was for simple model"
   ]
  },
  {
   "cell_type": "code",
   "execution_count": 43,
   "metadata": {},
   "outputs": [
    {
     "name": "stdout",
     "output_type": "stream",
     "text": [
      "Accuracy: 0.673860911271\n",
      "\n",
      "Precision weighted: 0.6494182343\n",
      "Recall weighted: 0.673860911271\n",
      "F1 score weighted: 0.652320414407\n",
      "\n",
      "Precision macro: 0.52555633236\n",
      "Recall macro: 0.451385186507\n",
      "F1 score macro: 0.46635887432\n"
     ]
    }
   ],
   "source": [
    "print('Accuracy:', accuracy_score(y_test_senti, predictions_senti))\n",
    "print()\n",
    "print('Precision weighted:', precision_score(y_test_senti, predictions_senti, average='weighted'))\n",
    "print('Recall weighted:', recall_score(y_test_senti, predictions_senti, average='weighted'))\n",
    "print('F1 score weighted:', f1_score(y_test_senti, predictions_senti, average='weighted'))\n",
    "print()\n",
    "print('Precision macro:', precision_score(y_test_senti, predictions_senti, average='macro'))\n",
    "print('Recall macro:', recall_score(y_test_senti, predictions_senti, average='macro'))\n",
    "print('F1 score macro:', f1_score(y_test_senti, predictions_senti, average='macro'))"
   ]
  },
  {
   "cell_type": "markdown",
   "metadata": {},
   "source": [
    "<b>Previuous results:</b>\n",
    "<li>Accuracy: 0.656274980016\n",
    "<li>Precision weighted: 0.63052670558\n",
    "<li>Recall weighted: 0.656274980016\n",
    "<li>F1 score weighted: 0.635631129692"
   ]
  },
  {
   "cell_type": "markdown",
   "metadata": {},
   "source": [
    "After comparison, we can see that results with positive and negative sentiment score and length of comment is better but we have more ideas to improve it."
   ]
  },
  {
   "cell_type": "code",
   "execution_count": 44,
   "metadata": {},
   "outputs": [],
   "source": [
    "conf_matrix_temp = confusion_matrix(y_test_senti, predictions_senti, labels=[2, 1, 0])\n",
    "conf_matrix_baseline_senti = pd.DataFrame(conf_matrix_temp, columns=classes, index=classes)"
   ]
  },
  {
   "cell_type": "markdown",
   "metadata": {},
   "source": [
    "Previous confusion matrix"
   ]
  },
  {
   "cell_type": "code",
   "execution_count": 45,
   "metadata": {},
   "outputs": [
    {
     "data": {
      "text/html": [
       "<div>\n",
       "<style>\n",
       "    .dataframe thead tr:only-child th {\n",
       "        text-align: right;\n",
       "    }\n",
       "\n",
       "    .dataframe thead th {\n",
       "        text-align: left;\n",
       "    }\n",
       "\n",
       "    .dataframe tbody tr th {\n",
       "        vertical-align: top;\n",
       "    }\n",
       "</style>\n",
       "<table border=\"1\" class=\"dataframe\">\n",
       "  <thead>\n",
       "    <tr style=\"text-align: right;\">\n",
       "      <th></th>\n",
       "      <th>excelent</th>\n",
       "      <th>good</th>\n",
       "      <th>bad</th>\n",
       "    </tr>\n",
       "  </thead>\n",
       "  <tbody>\n",
       "    <tr>\n",
       "      <th>excelent</th>\n",
       "      <td>657</td>\n",
       "      <td>125</td>\n",
       "      <td>5</td>\n",
       "    </tr>\n",
       "    <tr>\n",
       "      <th>good</th>\n",
       "      <td>259</td>\n",
       "      <td>160</td>\n",
       "      <td>8</td>\n",
       "    </tr>\n",
       "    <tr>\n",
       "      <th>bad</th>\n",
       "      <td>9</td>\n",
       "      <td>24</td>\n",
       "      <td>4</td>\n",
       "    </tr>\n",
       "  </tbody>\n",
       "</table>\n",
       "</div>"
      ],
      "text/plain": [
       "          excelent  good  bad\n",
       "excelent       657   125    5\n",
       "good           259   160    8\n",
       "bad              9    24    4"
      ]
     },
     "execution_count": 45,
     "metadata": {},
     "output_type": "execute_result"
    }
   ],
   "source": [
    "conf_matrix_baseline"
   ]
  },
  {
   "cell_type": "code",
   "execution_count": 46,
   "metadata": {},
   "outputs": [
    {
     "data": {
      "text/html": [
       "<div>\n",
       "<style>\n",
       "    .dataframe thead tr:only-child th {\n",
       "        text-align: right;\n",
       "    }\n",
       "\n",
       "    .dataframe thead th {\n",
       "        text-align: left;\n",
       "    }\n",
       "\n",
       "    .dataframe tbody tr th {\n",
       "        vertical-align: top;\n",
       "    }\n",
       "</style>\n",
       "<table border=\"1\" class=\"dataframe\">\n",
       "  <thead>\n",
       "    <tr style=\"text-align: right;\">\n",
       "      <th></th>\n",
       "      <th>excelent</th>\n",
       "      <th>good</th>\n",
       "      <th>bad</th>\n",
       "    </tr>\n",
       "  </thead>\n",
       "  <tbody>\n",
       "    <tr>\n",
       "      <th>excelent</th>\n",
       "      <td>671</td>\n",
       "      <td>113</td>\n",
       "      <td>3</td>\n",
       "    </tr>\n",
       "    <tr>\n",
       "      <th>good</th>\n",
       "      <td>253</td>\n",
       "      <td>168</td>\n",
       "      <td>6</td>\n",
       "    </tr>\n",
       "    <tr>\n",
       "      <th>bad</th>\n",
       "      <td>8</td>\n",
       "      <td>25</td>\n",
       "      <td>4</td>\n",
       "    </tr>\n",
       "  </tbody>\n",
       "</table>\n",
       "</div>"
      ],
      "text/plain": [
       "          excelent  good  bad\n",
       "excelent       671   113    3\n",
       "good           253   168    6\n",
       "bad              8    25    4"
      ]
     },
     "execution_count": 46,
     "metadata": {},
     "output_type": "execute_result"
    }
   ],
   "source": [
    "conf_matrix_baseline_senti"
   ]
  },
  {
   "cell_type": "code",
   "execution_count": 47,
   "metadata": {},
   "outputs": [],
   "source": [
    "y_bin_senti = label_binarize(y_test_senti, classes=[0, 1, 2])\n",
    "y_pr_bin_senti = label_binarize(predictions_senti, classes=[0, 1, 2])\n",
    "\n",
    "\n",
    "# Compute ROC curve and ROC area for each class\n",
    "fpr = dict()\n",
    "tpr = dict()\n",
    "roc_auc = dict()\n",
    "for i in range(n_classes):\n",
    "    fpr[i], tpr[i], _ = roc_curve(y_bin_senti[:, i], y_pr_bin_senti[:, i])\n",
    "    roc_auc[i] = auc(fpr[i], tpr[i])\n",
    "\n",
    "# Compute micro-average ROC curve and ROC area\n",
    "fpr[\"micro\"], tpr[\"micro\"], _ = roc_curve(y_bin_senti.ravel(), y_pr_bin_senti.ravel())\n",
    "roc_auc[\"micro\"] = auc(fpr[\"micro\"], tpr[\"micro\"])"
   ]
  },
  {
   "cell_type": "code",
   "execution_count": 48,
   "metadata": {},
   "outputs": [
    {
     "data": {
      "image/png": "[encoded data removed]",
      "text/plain": [
       "<Figure size 432x288 with 1 Axes>"
      ]
     },
     "metadata": {},
     "output_type": "display_data"
    }
   ],
   "source": [
    "import matplotlib.pyplot as plt\n",
    "\n",
    "plt.figure()\n",
    "lw = 2\n",
    "plt.plot(fpr[2], tpr[2], color='darkorange',\n",
    "         lw=lw, label='ROC curve (area = %0.2f)' % roc_auc[2])\n",
    "plt.plot([0, 1], [0, 1], color='navy', lw=lw, linestyle='--')\n",
    "plt.xlim([0.0, 1.0])\n",
    "plt.ylim([0.0, 1.05])\n",
    "plt.xlabel('False Positive Rate')\n",
    "plt.ylabel('True Positive Rate')\n",
    "plt.title('Receiver operating characteristic example')\n",
    "plt.legend(loc=\"lower right\")\n",
    "plt.show()"
   ]
  },
  {
   "cell_type": "code",
   "execution_count": 49,
   "metadata": {},
   "outputs": [
    {
     "data": {
      "image/png": "[encoded data removed]",
      "text/plain": [
       "<Figure size 432x288 with 1 Axes>"
      ]
     },
     "metadata": {},
     "output_type": "display_data"
    }
   ],
   "source": [
    "n_classes = 3\n",
    "\n",
    "# Compute macro-average ROC curve and ROC area\n",
    "\n",
    "# First aggregate all false positive rates\n",
    "all_fpr = np.unique(np.concatenate([fpr[i] for i in range(n_classes)]))\n",
    "\n",
    "# Then interpolate all ROC curves at this points\n",
    "mean_tpr = np.zeros_like(all_fpr)\n",
    "for i in range(n_classes):\n",
    "    mean_tpr += interp(all_fpr, fpr[i], tpr[i])\n",
    "\n",
    "# Finally average it and compute AUC\n",
    "mean_tpr /= n_classes\n",
    "\n",
    "fpr[\"macro\"] = all_fpr\n",
    "tpr[\"macro\"] = mean_tpr\n",
    "roc_auc[\"macro\"] = auc(fpr[\"macro\"], tpr[\"macro\"])\n",
    "\n",
    "# Plot all ROC curves\n",
    "plt.figure()\n",
    "plt.plot(fpr[\"micro\"], tpr[\"micro\"],\n",
    "         label='micro-average ROC curve (area = {0:0.2f})'\n",
    "               ''.format(roc_auc[\"micro\"]),\n",
    "         color='deeppink', linestyle=':', linewidth=4)\n",
    "\n",
    "plt.plot(fpr[\"macro\"], tpr[\"macro\"],\n",
    "         label='macro-average ROC curve (area = {0:0.2f})'\n",
    "               ''.format(roc_auc[\"macro\"]),\n",
    "         color='navy', linestyle=':', linewidth=4)\n",
    "\n",
    "colors = cycle(['aqua', 'darkorange', 'cornflowerblue'])\n",
    "for i, color in zip(range(n_classes), colors):\n",
    "    plt.plot(fpr[i], tpr[i], color=color, lw=lw,\n",
    "             label='ROC curve of class {0} (area = {1:0.2f})'\n",
    "             ''.format(i, roc_auc[i]))\n",
    "\n",
    "plt.plot([0, 1], [0, 1], 'k--', lw=lw)\n",
    "plt.xlim([0.0, 1.0])\n",
    "plt.ylim([0.0, 1.05])\n",
    "plt.xlabel('False Positive Rate')\n",
    "plt.ylabel('True Positive Rate')\n",
    "plt.title('Some extension of Receiver operating characteristic to multi-class')\n",
    "plt.legend(loc=\"lower right\")\n",
    "plt.show()"
   ]
  },
  {
   "cell_type": "markdown",
   "metadata": {},
   "source": [
    "As previuos one, this result is not the goal, I am looking for."
   ]
  },
  {
   "cell_type": "markdown",
   "metadata": {},
   "source": [
    "## Additional improvements"
   ]
  },
  {
   "cell_type": "markdown",
   "metadata": {},
   "source": [
    "Check for possible stop words in Ukrainian. Let's calculate frequency of the words in our corpus"
   ]
  },
  {
   "cell_type": "code",
   "execution_count": 50,
   "metadata": {},
   "outputs": [
    {
     "name": "stdout",
     "output_type": "stream",
     "text": [
      "[('інти', 6912), ('латина', 6233), ('не', 5583), ('на', 4263), ('звук', 2040), ('для', 1874), ('що', 1814), ('за', 1699), ('дуже', 1611), ('але', 1565), ('як', 1280), ('та', 1151), ('до', 1084), ('якість', 1055), ('ціна', 1022), ('це', 995), ('все', 961), ('навушники', 823), ('немає', 781), ('по', 737), ('при', 726), ('від', 644), ('працює', 634), ('хороший', 631), ('так', 620), ('через', 601), ('ціну', 589), ('можна', 582), ('то', 569), ('чи', 567), ('ще', 557), ('якщо', 555), ('мене', 539), ('просто', 539), ('дизайн', 508), ('без', 491), ('вже', 462), ('задоволений', 446), ('тому', 434), ('звуку', 423), ('після', 410), ('поки', 406), ('рекомендую', 405), ('добре', 393), ('коли', 376), ('він', 375), ('гроші', 374), ('купив', 366), ('супер', 363), ('навіть', 359), ('їх', 357), ('таку', 355), ('звучання', 352), ('досить', 349), ('вони', 335), ('тільки', 335), ('більше', 333), ('його', 321), ('було', 311), ('монітор', 307), ('мікрофон', 307), ('вуха', 305), ('буде', 304), ('під', 304), ('мені', 303), ('чудовий', 295), ('цей', 293), ('роботи', 284), ('такі', 282), ('користуюсь', 277), ('щоб', 273), ('також', 271), ('якісний', 271), ('кабель', 270), ('колонки', 270), ('свою', 269), ('треба', 256), ('гарний', 254), ('про', 252), ('трохи', 251), ('всі', 247), ('час', 245), ('зручні', 242), ('нема', 240), ('них', 234), ('тут', 234), ('те', 233), ('ці', 233), ('який', 233), ('швидко', 228), ('екран', 227), ('навушників', 227), ('потрібно', 227), ('роутер', 227), ('гучності', 226), ('довго', 226), ('цього', 224), ('баси', 223), ('хороші', 223), ('шнур', 223), ('бо', 219), ('був', 218), ('або', 213), ('хороша', 213), ('краще', 211), ('проблем', 206), ('майже', 202), ('наушники', 201), ('багато', 200), ('зручно', 198), ('повністю', 193), ('швидкість', 192), ('виявив', 190), ('вигляд', 188), ('батарея', 187), ('покупкою', 187), ('бас', 186), ('один', 186), ('хоча', 186), ('які', 186), ('день', 185), ('має', 183), ('взагалі', 182), ('користування', 182), ('процесор', 182), ('може', 181), ('свої', 180), ('із', 178), ('саме', 176), ('два', 173), ('нормально', 171), ('відео', 170), ('налаштування', 170), ('чистий', 170), ('чудово', 170), ('ноутбук', 167), ('нічого', 164), ('собі', 162), ('хто', 162), ('дякую', 161), ('ніж', 161), ('сидять', 159), ('якості', 159), ('року', 158), ('знайшов', 157), ('лише', 157), ('можливо', 155), ('планшет', 155), ('працюють', 153), ('роки', 153), ('років', 153), ('товар', 152), ('комп', 150), ('музику', 150), ('раз', 150), ('брав', 149), ('тримає', 149), ('ну', 148), ('пк', 148), ('чути', 148), ('вистачає', 145), ('працювати', 144), ('всім', 143), ('рік', 143), ('пам', 138), ('розетці', 138), ('музики', 137), ('того', 137), ('використання', 136), ('щось', 136), ('ні', 135), ('будь', 134), ('корпус', 134), ('теж', 134), ('можу', 133), ('сигнал', 133), ('непоганий', 130), ('нього', 130), ('ігри', 130), ('достатньо', 129), ('слухати', 129), ('модель', 127), ('бути', 126), ('вона', 126), ('місяці', 126), ('ви', 125), ('нормальний', 125), ('були', 124), ('зображення', 123), ('виявлено', 121), ('комплекті', 120), ('місяців', 120), ('провід', 120), ('гарно', 119), ('раджу', 119), ('цьому', 119), ('яка', 119), ('класний', 118), ('можливість', 118), ('підключення', 118)]\n"
     ]
    }
   ],
   "source": [
    "import operator\n",
    "from collections import OrderedDict\n",
    "\n",
    "cv = CountVectorizer()\n",
    "cv_fit = cv.fit_transform(X_train_senti['total_comment'])\n",
    "\n",
    "features = cv.get_feature_names()\n",
    "tf = np.sum(cv_fit.toarray(), axis=0)\n",
    "word_count = {f: int(tf[i]) for i, f in enumerate(features)}\n",
    "wc = OrderedDict(sorted(word_count.items(), key=operator.itemgetter(1), reverse=True))\n",
    "print(list(wc.items())[:200])"
   ]
  },
  {
   "cell_type": "markdown",
   "metadata": {},
   "source": [
    "And the most valuable words for the model are:"
   ]
  },
  {
   "cell_type": "code",
   "execution_count": 51,
   "metadata": {},
   "outputs": [
    {
     "name": "stdout",
     "output_type": "stream",
     "text": [
      "2: динамік, почав, музику, того, гарантії, працював, щоб, ноут, зовсім, час, тут, придбав, назад, або, раджу, днів, ці, якщо, даний, проблема, колонки, взагалі, можливо, краще, цей, місяці, батарея, ноутбук, екран, його, два, дизайн, день, та, без, місяць, купив, мікрофон, щось, навушник, роутер, вони, жах, ще, нема, товар, кабель, їх, раз, мені, роботи, так, один, він, гроші, можна, ні, було, користування, більше, про, мене, тому, то, від, навіть, коли, працювати, чи, тільки, перестав, працює, рекомендую, немає, вже, ціна, якість, після, все, навушники, для, просто, це, по, до, за, через, при, як, дуже, але, звук, що, латина, на, інти, не\n",
      "\n",
      "1: цього, ці, баси, який, може, рекомендую, хоча, один, екран, або, швидко, також, непоганий, шнур, гучності, цей, колонки, був, хороші, краще, поки, бо, гарний, тут, буде, нормально, такі, них, свою, навушників, треба, кабель, потрібно, час, роботи, було, задоволений, мені, під, трохи, вуха, щоб, вони, більше, купив, звучання, їх, таку, його, навіть, тільки, гроші, досить, мікрофон, просто, вже, добре, тому, без, немає, він, дизайн, коли, звуку, після, мене, чи, ще, ціну, можна, від, якщо, працює, хороший, то, так, по, через, навушники, все, при, якість, це, ціна, до, та, як, дуже, за, що, але, для, звук, на, латина, не, інти\n",
      "\n",
      "0: наушники, гучності, хороша, цього, повністю, швидко, проблем, зручно, баси, роутер, ці, довго, щоб, який, мікрофон, треба, те, кабель, гарний, виявив, роботи, про, свою, колонки, нема, всі, мені, такі, зручні, також, вуха, його, під, коли, тільки, було, він, цей, більше, якісний, вони, досить, користуюсь, буде, навіть, після, їх, гроші, звучання, таку, монітор, купив, добре, звуку, чудовий, тому, вже, через, супер, то, рекомендую, поки, без, якщо, дизайн, задоволений, мене, так, ще, можна, просто, чи, ціну, хороший, працює, при, від, по, навушники, немає, це, ціна, все, до, якість, та, як, але, дуже, що, за, для, звук, на, не, латина, інти\n",
      "\n"
     ]
    }
   ],
   "source": [
    "feature_names = bow_transformer.get_feature_names()\n",
    "tops = []\n",
    "\n",
    "for i, class_label in enumerate([2, 1, 0]):\n",
    "    top100 = np.argsort(model_senti.coef_[i])[-100:]\n",
    "    tops.append(top100)\n",
    "    print(\"%s: %s\" % (class_label, \", \".join(feature_names[x] for x in top100 if x < len(feature_names))))\n",
    "    print()"
   ]
  },
  {
   "cell_type": "markdown",
   "metadata": {},
   "source": [
    "What are the words, that can be found in all classes?"
   ]
  },
  {
   "cell_type": "code",
   "execution_count": 52,
   "metadata": {},
   "outputs": [],
   "source": [
    "common_index = set(tops[0]).intersection(tops[1]).intersection(tops[2])\n",
    "common_words = [feature_names[x] for x in common_index if x < len(feature_names)]"
   ]
  },
  {
   "cell_type": "code",
   "execution_count": 53,
   "metadata": {},
   "outputs": [
    {
     "data": {
      "text/plain": [
       "['якщо',\n",
       " 'колонки',\n",
       " 'все',\n",
       " 'латина',\n",
       " 'можна',\n",
       " 'та',\n",
       " 'було',\n",
       " 'мені',\n",
       " 'вони',\n",
       " 'при',\n",
       " 'через',\n",
       " 'ціна',\n",
       " 'інти',\n",
       " 'якість',\n",
       " 'то',\n",
       " 'його',\n",
       " 'це',\n",
       " 'вже',\n",
       " 'так',\n",
       " 'від',\n",
       " 'цей',\n",
       " 'він',\n",
       " 'кабель',\n",
       " 'ще',\n",
       " 'на',\n",
       " 'після',\n",
       " 'чи',\n",
       " 'звук',\n",
       " 'немає',\n",
       " 'що',\n",
       " 'щоб',\n",
       " 'для',\n",
       " 'гроші',\n",
       " 'тільки',\n",
       " 'купив',\n",
       " 'навушники',\n",
       " 'по',\n",
       " 'до',\n",
       " 'просто',\n",
       " 'за',\n",
       " 'тому',\n",
       " 'але',\n",
       " 'працює',\n",
       " 'як',\n",
       " 'дизайн',\n",
       " 'рекомендую',\n",
       " 'навіть',\n",
       " 'роботи',\n",
       " 'дуже',\n",
       " 'ці',\n",
       " 'не',\n",
       " 'більше',\n",
       " 'коли',\n",
       " 'мікрофон',\n",
       " 'без',\n",
       " 'їх',\n",
       " 'мене']"
      ]
     },
     "execution_count": 53,
     "metadata": {},
     "output_type": "execute_result"
    }
   ],
   "source": [
    "common_words"
   ]
  },
  {
   "cell_type": "code",
   "execution_count": 54,
   "metadata": {},
   "outputs": [],
   "source": [
    "stop_words_ua = common_words"
   ]
  },
  {
   "cell_type": "markdown",
   "metadata": {},
   "source": [
    "Prepare the model with Stop words. The shape of new DF should me 57 columns less"
   ]
  },
  {
   "cell_type": "code",
   "execution_count": 55,
   "metadata": {},
   "outputs": [
    {
     "name": "stdout",
     "output_type": "stream",
     "text": [
      "text shape: (5001, 22612)\n"
     ]
    },
    {
     "name": "stderr",
     "output_type": "stream",
     "text": [
      "/Library/Frameworks/Python.framework/Versions/3.6/lib/python3.6/site-packages/pandas/core/frame.py:2450: SettingWithCopyWarning: \n",
      "A value is trying to be set on a copy of a slice from a DataFrame.\n",
      "Try using .loc[row_indexer,col_indexer] = value instead\n",
      "\n",
      "See the caveats in the documentation: http://pandas.pydata.org/pandas-docs/stable/indexing.html#indexing-view-versus-copy\n",
      "  self[k1] = value[k2]\n"
     ]
    },
    {
     "name": "stdout",
     "output_type": "stream",
     "text": [
      "text and features shape: (5001, 22615)\n"
     ]
    }
   ],
   "source": [
    "bow_stop = CountVectorizer(stop_words=stop_words_ua).fit(X_train_senti['total_comment'])\n",
    "X_text_stop = pd.DataFrame(bow_stop.transform(X_train_senti['total_comment']).todense(),\n",
    "                      columns=bow_stop.get_feature_names(), index=X_train_senti.index)\n",
    "print('text shape: {}'.format(X_text_stop.shape))\n",
    "X_numb_stop = X_train_senti[['pos', 'neg', 'len_words']]\n",
    "X_numb_stop[['pos', 'neg']] = X_numb_stop[['pos', 'neg']] * k\n",
    "X_stop = pd.concat([X_text_stop, X_numb_stop], axis=1, join=\"inner\")\n",
    "print('text and features shape: {}'.format(X_stop.shape))"
   ]
  },
  {
   "cell_type": "code",
   "execution_count": 56,
   "metadata": {},
   "outputs": [
    {
     "data": {
      "text/plain": [
       "MultinomialNB(alpha=0.1, class_prior=None, fit_prior=True)"
      ]
     },
     "execution_count": 56,
     "metadata": {},
     "output_type": "execute_result"
    }
   ],
   "source": [
    "model_stop = MultinomialNB(alpha=0.1)\n",
    "model_stop.fit(X_stop, y_train_senti)"
   ]
  },
  {
   "cell_type": "code",
   "execution_count": 57,
   "metadata": {},
   "outputs": [
    {
     "name": "stdout",
     "output_type": "stream",
     "text": [
      "text shape: (1251, 22612)\n"
     ]
    },
    {
     "name": "stderr",
     "output_type": "stream",
     "text": [
      "/Library/Frameworks/Python.framework/Versions/3.6/lib/python3.6/site-packages/pandas/core/frame.py:2450: SettingWithCopyWarning: \n",
      "A value is trying to be set on a copy of a slice from a DataFrame.\n",
      "Try using .loc[row_indexer,col_indexer] = value instead\n",
      "\n",
      "See the caveats in the documentation: http://pandas.pydata.org/pandas-docs/stable/indexing.html#indexing-view-versus-copy\n",
      "  self[k1] = value[k2]\n"
     ]
    },
    {
     "name": "stdout",
     "output_type": "stream",
     "text": [
      "text and features shape: (1251, 22615)\n"
     ]
    }
   ],
   "source": [
    "X_test_stop = pd.DataFrame(bow_stop.transform(X_test_senti['total_comment']).todense(),\n",
    "                           columns=bow_stop.get_feature_names(), index=X_test_senti.index)\n",
    "print('text shape: {}'.format(X_test_stop.shape))\n",
    "X_test_num_stop = X_test_senti[['pos', 'neg', 'len_words']]\n",
    "X_test_num_stop[['pos', 'neg']] = X_test_num_stop[['pos', 'neg']] * k\n",
    "X_test_stop = pd.concat([X_test_stop, X_test_num_stop], axis=1, join=\"inner\")\n",
    "print('text and features shape: {}'.format(X_test_stop.shape))\n",
    "predictions_stop = model_stop.predict(X_test_stop)"
   ]
  },
  {
   "cell_type": "code",
   "execution_count": 58,
   "metadata": {},
   "outputs": [
    {
     "name": "stdout",
     "output_type": "stream",
     "text": [
      "Accuracy: 0.665867306155\n",
      "\n",
      "Precision weighted: 0.639968001074\n",
      "Recall weighted: 0.665867306155\n",
      "F1 score weighted: 0.643918113294\n",
      "\n",
      "Precision macro: 0.51084235425\n",
      "Recall macro: 0.445007148384\n",
      "F1 score macro: 0.458506090999\n"
     ]
    }
   ],
   "source": [
    "print('Accuracy:', accuracy_score(y_test_senti, predictions_stop))\n",
    "print()\n",
    "print('Precision weighted:', precision_score(y_test_senti, predictions_stop, average='weighted'))\n",
    "print('Recall weighted:', recall_score(y_test_senti, predictions_stop, average='weighted'))\n",
    "print('F1 score weighted:', f1_score(y_test_senti, predictions_stop, average='weighted'))\n",
    "print()\n",
    "print('Precision macro:', precision_score(y_test_senti, predictions_stop, average='macro'))\n",
    "print('Recall macro:', recall_score(y_test_senti, predictions_stop, average='macro'))\n",
    "print('F1 score macro:', f1_score(y_test_senti, predictions_stop, average='macro'))"
   ]
  },
  {
   "cell_type": "markdown",
   "metadata": {},
   "source": [
    "<b>Previuos results:</b>\n",
    "<li>Accuracy: 0.673860911271\n",
    "<li>Precision weighted: 0.6494182343\n",
    "<li>Recall weighted: 0.673860911271\n",
    "<li>F1 score weighted: 0.652320414407"
   ]
  },
  {
   "cell_type": "markdown",
   "metadata": {},
   "source": [
    "Let me assume some other stop words based on my experince"
   ]
  },
  {
   "cell_type": "code",
   "execution_count": 113,
   "metadata": {},
   "outputs": [],
   "source": [
    "stop_words_my = ['на', 'для', 'що', 'як', 'це', 'по', 'при', 'від', 'вже', 'тому', 'коли', 'таку', 'вони', 'його',\n",
    "                 'під', 'мені', 'цей', 'такі', 'щоб', 'свою', 'про', 'який', 'ці', 'те', 'них', 'було',\n",
    "                 'цього', 'бо', 'або', 'які', 'із', 'свої', 'хто', 'собі', 'того', 'теж', 'вона', 'яка', 'цьому',\n",
    "                 'латина', 'інти', 'аа', 'не', 'а', 'над', 'в', 'у', 'де', 'за', 'із']"
   ]
  },
  {
   "cell_type": "code",
   "execution_count": 114,
   "metadata": {},
   "outputs": [
    {
     "name": "stdout",
     "output_type": "stream",
     "text": [
      "text shape: (5001, 22623)\n",
      "text and features shape: (5001, 22626)\n"
     ]
    }
   ],
   "source": [
    "bow_stop2 = CountVectorizer(stop_words=stop_words_my).fit(X_train_senti['total_comment'])\n",
    "X_text_stop2 = pd.DataFrame(bow_stop2.transform(X_train_senti['total_comment']).todense(),\n",
    "                      columns=bow_stop2.get_feature_names(), index=X_train_senti.index)\n",
    "print('text shape: {}'.format(X_text_stop2.shape))\n",
    "X_stop2 = pd.concat([X_text_stop2, X_numb_stop], axis=1, join=\"inner\")\n",
    "print('text and features shape: {}'.format(X_stop2.shape))"
   ]
  },
  {
   "cell_type": "code",
   "execution_count": 115,
   "metadata": {},
   "outputs": [
    {
     "data": {
      "text/plain": [
       "MultinomialNB(alpha=0.1, class_prior=None, fit_prior=True)"
      ]
     },
     "execution_count": 115,
     "metadata": {},
     "output_type": "execute_result"
    }
   ],
   "source": [
    "model_stop2 = MultinomialNB(alpha=0.1)\n",
    "model_stop2.fit(X_stop2, y_train_senti)"
   ]
  },
  {
   "cell_type": "code",
   "execution_count": 116,
   "metadata": {},
   "outputs": [
    {
     "name": "stdout",
     "output_type": "stream",
     "text": [
      "text shape: (1251, 22623)\n",
      "text and features shape: (1251, 22626)\n"
     ]
    }
   ],
   "source": [
    "X_test_stop2 = pd.DataFrame(bow_stop2.transform(X_test_senti['total_comment']).todense(),\n",
    "                           columns=bow_stop2.get_feature_names(), index=X_test_senti.index)\n",
    "print('text shape: {}'.format(X_test_stop2.shape))\n",
    "X_test_stop2 = pd.concat([X_test_stop2, X_test_num_stop], axis=1, join=\"inner\")\n",
    "print('text and features shape: {}'.format(X_test_stop2.shape))\n",
    "predictions_stop2 = model_stop2.predict(X_test_stop2)"
   ]
  },
  {
   "cell_type": "code",
   "execution_count": 117,
   "metadata": {},
   "outputs": [
    {
     "name": "stdout",
     "output_type": "stream",
     "text": [
      "Accuracy: 0.672262190248\n",
      "\n",
      "Precision weighted: 0.647822513476\n",
      "Recall weighted: 0.672262190248\n",
      "F1 score weighted: 0.651001174599\n",
      "\n",
      "Precision macro: 0.524167230619\n",
      "Recall macro: 0.45053808782\n",
      "F1 score macro: 0.465469673018\n"
     ]
    }
   ],
   "source": [
    "print('Accuracy:', accuracy_score(y_test_senti, predictions_stop2))\n",
    "print()\n",
    "print('Precision weighted:', precision_score(y_test_senti, predictions_stop2, average='weighted'))\n",
    "print('Recall weighted:', recall_score(y_test_senti, predictions_stop2, average='weighted'))\n",
    "print('F1 score weighted:', f1_score(y_test_senti, predictions_stop2, average='weighted'))\n",
    "print()\n",
    "print('Precision macro:', precision_score(y_test_senti, predictions_stop2, average='macro'))\n",
    "print('Recall macro:', recall_score(y_test_senti, predictions_stop2, average='macro'))\n",
    "print('F1 score macro:', f1_score(y_test_senti, predictions_stop2, average='macro'))"
   ]
  },
  {
   "cell_type": "markdown",
   "metadata": {},
   "source": [
    "The result is better than with previous stop words, but not better then without it."
   ]
  },
  {
   "cell_type": "markdown",
   "metadata": {},
   "source": [
    "#### Lemmatization of text"
   ]
  },
  {
   "cell_type": "markdown",
   "metadata": {},
   "source": [
    "Lemmatize the text using pymorphy2 for ukrainina language"
   ]
  },
  {
   "cell_type": "code",
   "execution_count": 106,
   "metadata": {},
   "outputs": [],
   "source": [
    "import pymorphy2\n",
    "morph = pymorphy2.MorphAnalyzer(lang='uk')"
   ]
  },
  {
   "cell_type": "code",
   "execution_count": 107,
   "metadata": {},
   "outputs": [],
   "source": [
    "def lemmatize_text(text):\n",
    "    tokens = [x.strip('.,/!#?:;\"_') for x in text.split()]\n",
    "    lem_sent = ''\n",
    "    for t in tokens:\n",
    "        word = morph.parse(t)[0].normal_form\n",
    "        lem_sent += '{} '.format(word)\n",
    "    return lem_sent.strip()"
   ]
  },
  {
   "cell_type": "code",
   "execution_count": 68,
   "metadata": {},
   "outputs": [],
   "source": [
    "data['lemma_comment'] = data['total_comment'].apply(lemmatize_text)"
   ]
  },
  {
   "cell_type": "code",
   "execution_count": 69,
   "metadata": {},
   "outputs": [],
   "source": [
    "X_train_lemma, X_test_lemma, y_train_lemma, y_test_lemma = train_test_split(\n",
    "                                                    data[['lemma_comment', 'pos', 'neg', 'len_words']],\n",
    "                                                    data['label'],\n",
    "                                                    test_size=0.2,\n",
    "                                                    random_state=100)"
   ]
  },
  {
   "cell_type": "code",
   "execution_count": 118,
   "metadata": {},
   "outputs": [
    {
     "name": "stdout",
     "output_type": "stream",
     "text": [
      "text shape: (5001, 14385)\n"
     ]
    },
    {
     "name": "stderr",
     "output_type": "stream",
     "text": [
      "/Library/Frameworks/Python.framework/Versions/3.6/lib/python3.6/site-packages/pandas/core/frame.py:2450: SettingWithCopyWarning: \n",
      "A value is trying to be set on a copy of a slice from a DataFrame.\n",
      "Try using .loc[row_indexer,col_indexer] = value instead\n",
      "\n",
      "See the caveats in the documentation: http://pandas.pydata.org/pandas-docs/stable/indexing.html#indexing-view-versus-copy\n",
      "  self[k1] = value[k2]\n"
     ]
    },
    {
     "name": "stdout",
     "output_type": "stream",
     "text": [
      "text and features shape: (5001, 14388)\n"
     ]
    }
   ],
   "source": [
    "bow_lemma = CountVectorizer(stop_words=stop_words_my).fit(X_train_lemma['lemma_comment'])\n",
    "X_text_lemma = pd.DataFrame(bow_lemma.transform(X_train_lemma['lemma_comment']).todense(),\n",
    "                            columns=bow_lemma.get_feature_names(), index=X_train_lemma.index)\n",
    "print('text shape: {}'.format(X_text_lemma.shape))\n",
    "X_numb_lemma = X_train_lemma[['pos', 'neg', 'len_words']]\n",
    "X_numb_lemma[['pos', 'neg']] = X_numb_lemma[['pos', 'neg']] * k\n",
    "X_lemma = pd.concat([X_text_lemma, X_numb_lemma], axis=1, join=\"inner\")\n",
    "print('text and features shape: {}'.format(X_lemma.shape))"
   ]
  },
  {
   "cell_type": "code",
   "execution_count": 119,
   "metadata": {},
   "outputs": [
    {
     "data": {
      "text/plain": [
       "MultinomialNB(alpha=0.1, class_prior=None, fit_prior=True)"
      ]
     },
     "execution_count": 119,
     "metadata": {},
     "output_type": "execute_result"
    }
   ],
   "source": [
    "model_lemma = MultinomialNB(alpha=0.1)\n",
    "model_lemma.fit(X_lemma, y_train_lemma)"
   ]
  },
  {
   "cell_type": "code",
   "execution_count": 120,
   "metadata": {},
   "outputs": [
    {
     "name": "stdout",
     "output_type": "stream",
     "text": [
      "2: наушник, слухати, радити, хотіти, поганий, якщо, лівий, дешевий, зламатися, розетка, телефон, планшет, краще, кнопка, пара, можливо, монітор, великий, взагалі, ремонт, ви, користуватися, ноут, жахливий, гарантія, вухо, дизайн, почати, йога, динамік, ні, той, без, погана, щось, самий, хороший, мій, роутерти, та, нема, музика, ще, жах, правий, батарея, ноутбук, два, кабель, так, час, придбати, мікрофон, гріш, можна, інший, користування, том, більше, даний, день, екран, навіть, товар, робот, то, повернути, чи, рекомендувати, тиждень, тільки, переставити, немає, раз, проблема, купити, після, він, колонка, ціна, якість, просто, один, мен, до, через, перти, такий, місяць, весь, навушник, дуже, працювати, бути, але, звук, інта\n",
      "\n",
      "1: провід, планшет, рекомендувати, мій, даний, чути, поки, краще, наушник, недолік, перший, покупка, могти, чудовий, тут, нормально, два, телефон, кнопка, користування, треба, погана, налаштування, потрібно, частота, самий, шнур, великий, грати, зручний, трохи, батарея, раз, більше, нормальний, мати, йога, гріш, ноутбук, навіть, гучність, монітор, тільки, інший, звучання, музика, якісний, досить, задоволений, просто, місяць, непоганий, том, добре, екран, користуватися, гарний, кабель, той, час, немає, купити, без, колонка, дизайн, робот, після, чи, мікрофон, проблема, бас, ще, вухо, можна, один, якщо, свій, то, так, він, через, мен, перти, до, та, такий, працювати, якість, весь, хороший, навушник, дуже, бути, але, ціна, звук, інта\n",
      "\n",
      "0: швидкість, треба, слухати, купувати, наушник, самий, батарея, ви, інший, день, модель, високий, перший, шнур, могти, нема, класний, гра, розетка, йога, також, два, тільки, екран, ноутбук, музика, раз, великий, процесор, більше, даний, гучність, знайти, досить, покупка, час, навіть, мікрофон, мій, рік, після, місяць, гріш, проблема, налаштування, кабель, добре, звучання, мати, том, один, виявити, робот, через, то, поки, рекомендувати, той, вухо, супер, зручний, гарний, без, якщо, колонка, так, дизайн, бас, купити, можна, ще, користуватися, просто, чи, він, перти, монітор, якісний, задоволений, чудовий, свій, мен, працювати, немає, до, хороший, такий, навушник, та, але, якість, дуже, бути, весь, ціна, звук, інта\n",
      "\n"
     ]
    }
   ],
   "source": [
    "feature_names = bow_lemma.get_feature_names()\n",
    "tops = []\n",
    "\n",
    "for i, class_label in enumerate([2, 1, 0]):\n",
    "    top100 = np.argsort(model_lemma.coef_[i])[-100:]\n",
    "    tops.append(top100)\n",
    "    print(\"%s: %s\" % (class_label, \", \".join(feature_names[x] for x in top100 if x < len(feature_names))))\n",
    "    print()"
   ]
  },
  {
   "cell_type": "code",
   "execution_count": 121,
   "metadata": {},
   "outputs": [
    {
     "name": "stdout",
     "output_type": "stream",
     "text": [
      "text shape: (1251, 14385)\n"
     ]
    },
    {
     "name": "stderr",
     "output_type": "stream",
     "text": [
      "/Library/Frameworks/Python.framework/Versions/3.6/lib/python3.6/site-packages/pandas/core/frame.py:2450: SettingWithCopyWarning: \n",
      "A value is trying to be set on a copy of a slice from a DataFrame.\n",
      "Try using .loc[row_indexer,col_indexer] = value instead\n",
      "\n",
      "See the caveats in the documentation: http://pandas.pydata.org/pandas-docs/stable/indexing.html#indexing-view-versus-copy\n",
      "  self[k1] = value[k2]\n"
     ]
    },
    {
     "name": "stdout",
     "output_type": "stream",
     "text": [
      "text and features shape: (1251, 14388)\n"
     ]
    }
   ],
   "source": [
    "X_test_text_lemma = pd.DataFrame(bow_lemma.transform(X_test_lemma['lemma_comment']).todense(),\n",
    "                                 columns=bow_lemma.get_feature_names(), index=X_test_lemma.index)\n",
    "print('text shape: {}'.format(X_test_text_lemma.shape))\n",
    "X_test_num_lemma = X_test_lemma[['pos', 'neg', 'len_words']]\n",
    "X_test_num_lemma[['pos', 'neg']] = X_test_num_lemma[['pos', 'neg']] * k\n",
    "X_test_lem = pd.concat([X_test_text_lemma, X_test_num_lemma], axis=1, join=\"inner\")\n",
    "print('text and features shape: {}'.format(X_test_lem.shape))\n",
    "predictions_lemma = model_lemma.predict(X_test_lem)"
   ]
  },
  {
   "cell_type": "code",
   "execution_count": 122,
   "metadata": {},
   "outputs": [
    {
     "name": "stdout",
     "output_type": "stream",
     "text": [
      "Accuracy: 0.684252597922\n",
      "\n",
      "Precision weighted: 0.6626855478\n",
      "Recall weighted: 0.684252597922\n",
      "F1 score weighted: 0.666199164228\n",
      "\n",
      "Precision macro: 0.505621135111\n",
      "Recall macro: 0.461533508131\n",
      "F1 score macro: 0.472762149416\n"
     ]
    }
   ],
   "source": [
    "print('Accuracy:', accuracy_score(y_test_lemma, predictions_lemma))\n",
    "print()\n",
    "print('Precision weighted:', precision_score(y_test_lemma, predictions_lemma, average='weighted'))\n",
    "print('Recall weighted:', recall_score(y_test_lemma, predictions_lemma, average='weighted'))\n",
    "print('F1 score weighted:', f1_score(y_test_lemma, predictions_lemma, average='weighted'))\n",
    "print()\n",
    "print('Precision macro:', precision_score(y_test_lemma, predictions_lemma, average='macro'))\n",
    "print('Recall macro:', recall_score(y_test_lemma, predictions_lemma, average='macro'))\n",
    "print('F1 score macro:', f1_score(y_test_lemma, predictions_lemma, average='macro'))"
   ]
  },
  {
   "cell_type": "markdown",
   "metadata": {},
   "source": [
    "<b>Previous results:</b>\n",
    "<li>Accuracy: 0.674660271783\n",
    "<li>Precision weighted: 0.650593536693\n",
    "<li>Recall weighted: 0.674660271783\n",
    "<li>F1 score weighted: 0.653663104988"
   ]
  },
  {
   "cell_type": "code",
   "execution_count": 75,
   "metadata": {},
   "outputs": [],
   "source": [
    "conf_matrix_lemma = confusion_matrix(y_test_lemma, predictions_lemma, labels=[2, 1, 0])\n",
    "conf_matrix_lemma = pd.DataFrame(conf_matrix_lemma, columns=classes, index=classes)"
   ]
  },
  {
   "cell_type": "code",
   "execution_count": 76,
   "metadata": {},
   "outputs": [
    {
     "data": {
      "text/html": [
       "<div>\n",
       "<style>\n",
       "    .dataframe thead tr:only-child th {\n",
       "        text-align: right;\n",
       "    }\n",
       "\n",
       "    .dataframe thead th {\n",
       "        text-align: left;\n",
       "    }\n",
       "\n",
       "    .dataframe tbody tr th {\n",
       "        vertical-align: top;\n",
       "    }\n",
       "</style>\n",
       "<table border=\"1\" class=\"dataframe\">\n",
       "  <thead>\n",
       "    <tr style=\"text-align: right;\">\n",
       "      <th></th>\n",
       "      <th>excelent</th>\n",
       "      <th>good</th>\n",
       "      <th>bad</th>\n",
       "    </tr>\n",
       "  </thead>\n",
       "  <tbody>\n",
       "    <tr>\n",
       "      <th>excelent</th>\n",
       "      <td>671</td>\n",
       "      <td>112</td>\n",
       "      <td>4</td>\n",
       "    </tr>\n",
       "    <tr>\n",
       "      <th>good</th>\n",
       "      <td>235</td>\n",
       "      <td>181</td>\n",
       "      <td>11</td>\n",
       "    </tr>\n",
       "    <tr>\n",
       "      <th>bad</th>\n",
       "      <td>11</td>\n",
       "      <td>22</td>\n",
       "      <td>4</td>\n",
       "    </tr>\n",
       "  </tbody>\n",
       "</table>\n",
       "</div>"
      ],
      "text/plain": [
       "          excelent  good  bad\n",
       "excelent       671   112    4\n",
       "good           235   181   11\n",
       "bad             11    22    4"
      ]
     },
     "execution_count": 76,
     "metadata": {},
     "output_type": "execute_result"
    }
   ],
   "source": [
    "conf_matrix_lemma"
   ]
  },
  {
   "cell_type": "code",
   "execution_count": 77,
   "metadata": {},
   "outputs": [
    {
     "data": {
      "text/html": [
       "<div>\n",
       "<style>\n",
       "    .dataframe thead tr:only-child th {\n",
       "        text-align: right;\n",
       "    }\n",
       "\n",
       "    .dataframe thead th {\n",
       "        text-align: left;\n",
       "    }\n",
       "\n",
       "    .dataframe tbody tr th {\n",
       "        vertical-align: top;\n",
       "    }\n",
       "</style>\n",
       "<table border=\"1\" class=\"dataframe\">\n",
       "  <thead>\n",
       "    <tr style=\"text-align: right;\">\n",
       "      <th></th>\n",
       "      <th>excelent</th>\n",
       "      <th>good</th>\n",
       "      <th>bad</th>\n",
       "    </tr>\n",
       "  </thead>\n",
       "  <tbody>\n",
       "    <tr>\n",
       "      <th>excelent</th>\n",
       "      <td>671</td>\n",
       "      <td>113</td>\n",
       "      <td>3</td>\n",
       "    </tr>\n",
       "    <tr>\n",
       "      <th>good</th>\n",
       "      <td>253</td>\n",
       "      <td>168</td>\n",
       "      <td>6</td>\n",
       "    </tr>\n",
       "    <tr>\n",
       "      <th>bad</th>\n",
       "      <td>8</td>\n",
       "      <td>25</td>\n",
       "      <td>4</td>\n",
       "    </tr>\n",
       "  </tbody>\n",
       "</table>\n",
       "</div>"
      ],
      "text/plain": [
       "          excelent  good  bad\n",
       "excelent       671   113    3\n",
       "good           253   168    6\n",
       "bad              8    25    4"
      ]
     },
     "execution_count": 77,
     "metadata": {},
     "output_type": "execute_result"
    }
   ],
   "source": [
    "# Previous results\n",
    "conf_matrix_baseline_senti"
   ]
  },
  {
   "cell_type": "markdown",
   "metadata": {},
   "source": [
    "The results are better, but let's try to inprove it more"
   ]
  },
  {
   "cell_type": "markdown",
   "metadata": {},
   "source": [
    "### Tf-idf vectorizer"
   ]
  },
  {
   "cell_type": "code",
   "execution_count": 149,
   "metadata": {},
   "outputs": [
    {
     "name": "stdout",
     "output_type": "stream",
     "text": [
      "text shape: (5001, 4345)\n",
      "text and features shape: (5001, 4348)\n"
     ]
    }
   ],
   "source": [
    "from sklearn.feature_extraction.text import TfidfVectorizer\n",
    "\n",
    "bow_tfidf = TfidfVectorizer(min_df=3).fit(X_train_lemma['lemma_comment'])\n",
    "X_text_tfidf = pd.DataFrame(bow_tfidf.transform(X_train_lemma['lemma_comment']).todense(),\n",
    "                            columns=bow_tfidf.get_feature_names(), index=X_train_lemma.index)\n",
    "print('text shape: {}'.format(X_text_tfidf.shape))\n",
    "X_tfidf = pd.concat([X_text_tfidf, X_numb_lemma], axis=1, join=\"inner\")\n",
    "print('text and features shape: {}'.format(X_tfidf.shape))"
   ]
  },
  {
   "cell_type": "code",
   "execution_count": 150,
   "metadata": {},
   "outputs": [
    {
     "data": {
      "text/plain": [
       "MultinomialNB(alpha=0.1, class_prior=None, fit_prior=True)"
      ]
     },
     "execution_count": 150,
     "metadata": {},
     "output_type": "execute_result"
    }
   ],
   "source": [
    "model_tfidf = MultinomialNB(alpha=0.1)\n",
    "model_tfidf.fit(X_tfidf, y_train_lemma)"
   ]
  },
  {
   "cell_type": "code",
   "execution_count": 151,
   "metadata": {},
   "outputs": [
    {
     "name": "stdout",
     "output_type": "stream",
     "text": [
      "text shape: (1251, 4345)\n",
      "text and features shape: (1251, 4348)\n"
     ]
    }
   ],
   "source": [
    "X_test_text_tfidf = pd.DataFrame(bow_tfidf.transform(X_test_lemma['lemma_comment']).todense(),\n",
    "                                 columns=bow_tfidf.get_feature_names(), index=X_test_lemma.index)\n",
    "print('text shape: {}'.format(X_test_text_tfidf.shape))\n",
    "X_test_tfidf = pd.concat([X_test_text_tfidf, X_test_num_lemma], axis=1, join=\"inner\")\n",
    "print('text and features shape: {}'.format(X_test_tfidf.shape))\n",
    "predictions_tfidf = model_tfidf.predict(X_test_tfidf)"
   ]
  },
  {
   "cell_type": "code",
   "execution_count": 152,
   "metadata": {},
   "outputs": [
    {
     "name": "stdout",
     "output_type": "stream",
     "text": [
      "Accuracy: 0.682653876898\n",
      "\n",
      "Precision weighted: 0.66132998117\n",
      "Recall weighted: 0.682653876898\n",
      "F1 score weighted: 0.655384522447\n",
      "\n",
      "Precision macro: 0.597579285071\n",
      "Recall macro: 0.460701690356\n",
      "F1 score macro: 0.483443002853\n"
     ]
    }
   ],
   "source": [
    "print('Accuracy:', accuracy_score(y_test_lemma, predictions_tfidf))\n",
    "print()\n",
    "print('Precision weighted:', precision_score(y_test_lemma, predictions_tfidf, average='weighted'))\n",
    "print('Recall weighted:', recall_score(y_test_lemma, predictions_tfidf, average='weighted'))\n",
    "print('F1 score weighted:', f1_score(y_test_lemma, predictions_tfidf, average='weighted'))\n",
    "print()\n",
    "print('Precision macro:', precision_score(y_test_lemma, predictions_tfidf, average='macro'))\n",
    "print('Recall macro:', recall_score(y_test_lemma, predictions_tfidf, average='macro'))\n",
    "print('F1 score macro:', f1_score(y_test_lemma, predictions_tfidf, average='macro'))"
   ]
  },
  {
   "cell_type": "markdown",
   "metadata": {},
   "source": [
    "### Use other models"
   ]
  },
  {
   "cell_type": "markdown",
   "metadata": {},
   "source": [
    "#### SVM"
   ]
  },
  {
   "cell_type": "code",
   "execution_count": 82,
   "metadata": {},
   "outputs": [
    {
     "name": "stderr",
     "output_type": "stream",
     "text": [
      "/Library/Frameworks/Python.framework/Versions/3.6/lib/python3.6/site-packages/sklearn/metrics/classification.py:1135: UndefinedMetricWarning: Precision is ill-defined and being set to 0.0 in labels with no predicted samples.\n",
      "  'precision', 'predicted', average, warn_for)\n",
      "/Library/Frameworks/Python.framework/Versions/3.6/lib/python3.6/site-packages/sklearn/metrics/classification.py:1135: UndefinedMetricWarning: Precision is ill-defined and being set to 0.0 in labels with no predicted samples.\n",
      "  'precision', 'predicted', average, warn_for)\n",
      "/Library/Frameworks/Python.framework/Versions/3.6/lib/python3.6/site-packages/sklearn/metrics/classification.py:1135: UndefinedMetricWarning: F-score is ill-defined and being set to 0.0 in labels with no predicted samples.\n",
      "  'precision', 'predicted', average, warn_for)\n",
      "/Library/Frameworks/Python.framework/Versions/3.6/lib/python3.6/site-packages/sklearn/metrics/classification.py:1135: UndefinedMetricWarning: F-score is ill-defined and being set to 0.0 in labels with no predicted samples.\n",
      "  'precision', 'predicted', average, warn_for)\n",
      "/Library/Frameworks/Python.framework/Versions/3.6/lib/python3.6/site-packages/sklearn/metrics/classification.py:1135: UndefinedMetricWarning: Precision is ill-defined and being set to 0.0 in labels with no predicted samples.\n",
      "  'precision', 'predicted', average, warn_for)\n",
      "/Library/Frameworks/Python.framework/Versions/3.6/lib/python3.6/site-packages/sklearn/metrics/classification.py:1135: UndefinedMetricWarning: F-score is ill-defined and being set to 0.0 in labels with no predicted samples.\n",
      "  'precision', 'predicted', average, warn_for)\n"
     ]
    },
    {
     "data": {
      "text/plain": [
       "GridSearchCV(cv=4, error_score='raise',\n",
       "       estimator=SVC(C=1.0, cache_size=200, class_weight=None, coef0=0.0,\n",
       "  decision_function_shape='ovr', degree=3, gamma='auto', kernel='rbf',\n",
       "  max_iter=-1, probability=False, random_state=None, shrinking=True,\n",
       "  tol=0.001, verbose=False),\n",
       "       fit_params=None, iid=True, n_jobs=4,\n",
       "       param_grid={'C': [100, 1000, 5000, 10000]}, pre_dispatch='2*n_jobs',\n",
       "       refit=False, return_train_score=False,\n",
       "       scoring=['precision_macro', 'recall_macro', 'f1_macro', 'accuracy'],\n",
       "       verbose=0)"
      ]
     },
     "execution_count": 82,
     "metadata": {},
     "output_type": "execute_result"
    }
   ],
   "source": [
    "from sklearn.svm import SVC\n",
    "\n",
    "parameters = {'C': [100, 1000, 5000, 10000]}\n",
    "clf_svm_temp = GridSearchCV(SVC(), parameters, cv=4, return_train_score=False, n_jobs=4, \n",
    "                            scoring=scoring, refit=False)\n",
    "clf_svm_temp.fit(X_tfidf, y_train)"
   ]
  },
  {
   "cell_type": "code",
   "execution_count": 83,
   "metadata": {},
   "outputs": [
    {
     "data": {
      "text/html": [
       "<div>\n",
       "<style>\n",
       "    .dataframe thead tr:only-child th {\n",
       "        text-align: right;\n",
       "    }\n",
       "\n",
       "    .dataframe thead th {\n",
       "        text-align: left;\n",
       "    }\n",
       "\n",
       "    .dataframe tbody tr th {\n",
       "        vertical-align: top;\n",
       "    }\n",
       "</style>\n",
       "<table border=\"1\" class=\"dataframe\">\n",
       "  <thead>\n",
       "    <tr style=\"text-align: right;\">\n",
       "      <th></th>\n",
       "      <th>C</th>\n",
       "      <th>mean_test_accuracy</th>\n",
       "      <th>mean_test_f1</th>\n",
       "      <th>mean_test_precision</th>\n",
       "      <th>mean_test_recall</th>\n",
       "      <th>rank_test_accuracy</th>\n",
       "      <th>rank_test_f1</th>\n",
       "      <th>rank_test_precision</th>\n",
       "      <th>rank_test_recall</th>\n",
       "    </tr>\n",
       "  </thead>\n",
       "  <tbody>\n",
       "    <tr>\n",
       "      <th>0</th>\n",
       "      <td>100</td>\n",
       "      <td>0.653669</td>\n",
       "      <td>0.299415</td>\n",
       "      <td>0.395602</td>\n",
       "      <td>0.346369</td>\n",
       "      <td>4</td>\n",
       "      <td>4</td>\n",
       "      <td>4</td>\n",
       "      <td>4</td>\n",
       "    </tr>\n",
       "    <tr>\n",
       "      <th>1</th>\n",
       "      <td>1000</td>\n",
       "      <td>0.703259</td>\n",
       "      <td>0.394873</td>\n",
       "      <td>0.456269</td>\n",
       "      <td>0.404615</td>\n",
       "      <td>1</td>\n",
       "      <td>3</td>\n",
       "      <td>3</td>\n",
       "      <td>3</td>\n",
       "    </tr>\n",
       "    <tr>\n",
       "      <th>2</th>\n",
       "      <td>5000</td>\n",
       "      <td>0.699460</td>\n",
       "      <td>0.509038</td>\n",
       "      <td>0.604416</td>\n",
       "      <td>0.483525</td>\n",
       "      <td>2</td>\n",
       "      <td>1</td>\n",
       "      <td>1</td>\n",
       "      <td>1</td>\n",
       "    </tr>\n",
       "    <tr>\n",
       "      <th>3</th>\n",
       "      <td>10000</td>\n",
       "      <td>0.688262</td>\n",
       "      <td>0.503215</td>\n",
       "      <td>0.571776</td>\n",
       "      <td>0.481068</td>\n",
       "      <td>3</td>\n",
       "      <td>2</td>\n",
       "      <td>2</td>\n",
       "      <td>2</td>\n",
       "    </tr>\n",
       "  </tbody>\n",
       "</table>\n",
       "</div>"
      ],
      "text/plain": [
       "       C  mean_test_accuracy  mean_test_f1  mean_test_precision  \\\n",
       "0    100            0.653669      0.299415             0.395602   \n",
       "1   1000            0.703259      0.394873             0.456269   \n",
       "2   5000            0.699460      0.509038             0.604416   \n",
       "3  10000            0.688262      0.503215             0.571776   \n",
       "\n",
       "   mean_test_recall  rank_test_accuracy  rank_test_f1  rank_test_precision  \\\n",
       "0          0.346369                   4             4                    4   \n",
       "1          0.404615                   1             3                    3   \n",
       "2          0.483525                   2             1                    1   \n",
       "3          0.481068                   3             2                    2   \n",
       "\n",
       "   rank_test_recall  \n",
       "0                 4  \n",
       "1                 3  \n",
       "2                 1  \n",
       "3                 2  "
      ]
     },
     "execution_count": 83,
     "metadata": {},
     "output_type": "execute_result"
    }
   ],
   "source": [
    "clf_tempsvm_data = {re.sub('_macro','',k):v for k, v in clf_svm_temp.cv_results_.items() \n",
    "                    if k.startswith('mean_test') or k.startswith('rank_')}\n",
    "clf_tempsvm_data['C'] = [100, 1000, 5000, 10000]\n",
    "pd.DataFrame(clf_tempsvm_data)"
   ]
  },
  {
   "cell_type": "markdown",
   "metadata": {},
   "source": [
    "As we see the best parameter among them is C=5000, so let's use it."
   ]
  },
  {
   "cell_type": "code",
   "execution_count": 84,
   "metadata": {},
   "outputs": [
    {
     "data": {
      "text/plain": [
       "SVC(C=5000, cache_size=200, class_weight=None, coef0=0.0,\n",
       "  decision_function_shape='ovr', degree=3, gamma='auto', kernel='rbf',\n",
       "  max_iter=-1, probability=False, random_state=None, shrinking=True,\n",
       "  tol=0.001, verbose=False)"
      ]
     },
     "execution_count": 84,
     "metadata": {},
     "output_type": "execute_result"
    }
   ],
   "source": [
    "clf_svm = SVC(C=5000)\n",
    "clf_svm.fit(X_tfidf, y_train)"
   ]
  },
  {
   "cell_type": "code",
   "execution_count": 86,
   "metadata": {},
   "outputs": [],
   "source": [
    "predictions_svm = clf_svm.predict(X_test_tfidf)"
   ]
  },
  {
   "cell_type": "markdown",
   "metadata": {},
   "source": [
    "#### Evaluation"
   ]
  },
  {
   "cell_type": "code",
   "execution_count": 87,
   "metadata": {},
   "outputs": [
    {
     "name": "stdout",
     "output_type": "stream",
     "text": [
      "Accuracy: 0.669864108713\n",
      "\n",
      "Precision weighted: 0.65061041812\n",
      "Recall weighted: 0.669864108713\n",
      "F1 score weighted: 0.655801544113\n",
      "\n",
      "Precision macro: 0.506870627258\n",
      "Recall macro: 0.463923442739\n",
      "F1 score macro: 0.476672672196\n"
     ]
    }
   ],
   "source": [
    "print('Accuracy:', accuracy_score(y_test_lemma, predictions_svm))\n",
    "print()\n",
    "print('Precision weighted:', precision_score(y_test_lemma, predictions_svm, average='weighted'))\n",
    "print('Recall weighted:', recall_score(y_test_lemma, predictions_svm, average='weighted'))\n",
    "print('F1 score weighted:', f1_score(y_test_lemma, predictions_svm, average='weighted'))\n",
    "print()\n",
    "print('Precision macro:', precision_score(y_test_lemma, predictions_svm, average='macro'))\n",
    "print('Recall macro:', recall_score(y_test_lemma, predictions_svm, average='macro'))\n",
    "print('F1 score macro:', f1_score(y_test_lemma, predictions_svm, average='macro'))"
   ]
  },
  {
   "cell_type": "code",
   "execution_count": 88,
   "metadata": {},
   "outputs": [],
   "source": [
    "conf_matrix_temp = confusion_matrix(y_test_lemma, predictions_svm, labels=[2, 1, 0])\n",
    "conf_matrix_svm = pd.DataFrame(conf_matrix_temp, columns=classes, index=classes)"
   ]
  },
  {
   "cell_type": "code",
   "execution_count": 89,
   "metadata": {},
   "outputs": [
    {
     "data": {
      "text/html": [
       "<div>\n",
       "<style>\n",
       "    .dataframe thead tr:only-child th {\n",
       "        text-align: right;\n",
       "    }\n",
       "\n",
       "    .dataframe thead th {\n",
       "        text-align: left;\n",
       "    }\n",
       "\n",
       "    .dataframe tbody tr th {\n",
       "        vertical-align: top;\n",
       "    }\n",
       "</style>\n",
       "<table border=\"1\" class=\"dataframe\">\n",
       "  <thead>\n",
       "    <tr style=\"text-align: right;\">\n",
       "      <th></th>\n",
       "      <th>excelent</th>\n",
       "      <th>good</th>\n",
       "      <th>bad</th>\n",
       "    </tr>\n",
       "  </thead>\n",
       "  <tbody>\n",
       "    <tr>\n",
       "      <th>excelent</th>\n",
       "      <td>648</td>\n",
       "      <td>135</td>\n",
       "      <td>4</td>\n",
       "    </tr>\n",
       "    <tr>\n",
       "      <th>good</th>\n",
       "      <td>231</td>\n",
       "      <td>185</td>\n",
       "      <td>11</td>\n",
       "    </tr>\n",
       "    <tr>\n",
       "      <th>bad</th>\n",
       "      <td>11</td>\n",
       "      <td>21</td>\n",
       "      <td>5</td>\n",
       "    </tr>\n",
       "  </tbody>\n",
       "</table>\n",
       "</div>"
      ],
      "text/plain": [
       "          excelent  good  bad\n",
       "excelent       648   135    4\n",
       "good           231   185   11\n",
       "bad             11    21    5"
      ]
     },
     "execution_count": 89,
     "metadata": {},
     "output_type": "execute_result"
    }
   ],
   "source": [
    "conf_matrix_svm"
   ]
  },
  {
   "cell_type": "markdown",
   "metadata": {},
   "source": [
    "### Logistic Regression"
   ]
  },
  {
   "cell_type": "code",
   "execution_count": 90,
   "metadata": {},
   "outputs": [],
   "source": [
    "from sklearn.linear_model import LogisticRegressionCV"
   ]
  },
  {
   "cell_type": "markdown",
   "metadata": {},
   "source": [
    "LogisticRegressionCV (with additional CV) - is the LogisticRegression but for the grid of Cs values (that are set by default to be ten values in a logarithmic scale between 1e-4 and 1e4), the best hyperparameter is selected by the cross-validator StratifiedKFold"
   ]
  },
  {
   "cell_type": "code",
   "execution_count": 153,
   "metadata": {},
   "outputs": [
    {
     "data": {
      "text/plain": [
       "LogisticRegressionCV(Cs=10, class_weight=None, cv=None, dual=False,\n",
       "           fit_intercept=True, intercept_scaling=1.0, max_iter=100,\n",
       "           multi_class='multinomial', n_jobs=1, penalty='l2',\n",
       "           random_state=None, refit=True, scoring=None, solver='lbfgs',\n",
       "           tol=0.0001, verbose=0)"
      ]
     },
     "execution_count": 153,
     "metadata": {},
     "output_type": "execute_result"
    }
   ],
   "source": [
    "clf_lr = LogisticRegressionCV(multi_class='multinomial')\n",
    "clf_lr.fit(X_tfidf, y_train)"
   ]
  },
  {
   "cell_type": "code",
   "execution_count": 154,
   "metadata": {},
   "outputs": [],
   "source": [
    "predictions_lr = clf_lr.predict(X_test_tfidf)"
   ]
  },
  {
   "cell_type": "code",
   "execution_count": 155,
   "metadata": {},
   "outputs": [
    {
     "name": "stdout",
     "output_type": "stream",
     "text": [
      "Accuracy: 0.707434052758\n",
      "\n",
      "Precision weighted: 0.703712498369\n",
      "Recall weighted: 0.707434052758\n",
      "F1 score weighted: 0.684300876641\n",
      "\n",
      "Precision macro: 0.783845740311\n",
      "Recall macro: 0.452702240254\n",
      "F1 score macro: 0.458820845562\n"
     ]
    }
   ],
   "source": [
    "print('Accuracy:', accuracy_score(y_test_lemma, predictions_lr))\n",
    "print()\n",
    "print('Precision weighted:', precision_score(y_test_lemma, predictions_lr, average='weighted'))\n",
    "print('Recall weighted:', recall_score(y_test_lemma, predictions_lr, average='weighted'))\n",
    "print('F1 score weighted:', f1_score(y_test_lemma, predictions_lr, average='weighted'))\n",
    "print()\n",
    "print('Precision macro:', precision_score(y_test_lemma, predictions_lr, average='macro'))\n",
    "print('Recall macro:', recall_score(y_test_lemma, predictions_lr, average='macro'))\n",
    "print('F1 score macro:', f1_score(y_test_lemma, predictions_lr, average='macro'))"
   ]
  },
  {
   "cell_type": "code",
   "execution_count": 94,
   "metadata": {},
   "outputs": [],
   "source": [
    "conf_matrix_temp = confusion_matrix(y_test_lemma, predictions_lr, labels=[2, 1, 0])\n",
    "conf_matrix_lr = pd.DataFrame(conf_matrix_temp, columns=classes, index=classes)"
   ]
  },
  {
   "cell_type": "code",
   "execution_count": 95,
   "metadata": {},
   "outputs": [
    {
     "data": {
      "text/html": [
       "<div>\n",
       "<style>\n",
       "    .dataframe thead tr:only-child th {\n",
       "        text-align: right;\n",
       "    }\n",
       "\n",
       "    .dataframe thead th {\n",
       "        text-align: left;\n",
       "    }\n",
       "\n",
       "    .dataframe tbody tr th {\n",
       "        vertical-align: top;\n",
       "    }\n",
       "</style>\n",
       "<table border=\"1\" class=\"dataframe\">\n",
       "  <thead>\n",
       "    <tr style=\"text-align: right;\">\n",
       "      <th></th>\n",
       "      <th>excelent</th>\n",
       "      <th>good</th>\n",
       "      <th>bad</th>\n",
       "    </tr>\n",
       "  </thead>\n",
       "  <tbody>\n",
       "    <tr>\n",
       "      <th>excelent</th>\n",
       "      <td>690</td>\n",
       "      <td>97</td>\n",
       "      <td>0</td>\n",
       "    </tr>\n",
       "    <tr>\n",
       "      <th>good</th>\n",
       "      <td>233</td>\n",
       "      <td>194</td>\n",
       "      <td>0</td>\n",
       "    </tr>\n",
       "    <tr>\n",
       "      <th>bad</th>\n",
       "      <td>10</td>\n",
       "      <td>26</td>\n",
       "      <td>1</td>\n",
       "    </tr>\n",
       "  </tbody>\n",
       "</table>\n",
       "</div>"
      ],
      "text/plain": [
       "          excelent  good  bad\n",
       "excelent       690    97    0\n",
       "good           233   194    0\n",
       "bad             10    26    1"
      ]
     },
     "execution_count": 95,
     "metadata": {},
     "output_type": "execute_result"
    }
   ],
   "source": [
    "conf_matrix_lr"
   ]
  },
  {
   "cell_type": "markdown",
   "metadata": {},
   "source": [
    "## Compare results"
   ]
  },
  {
   "cell_type": "markdown",
   "metadata": {},
   "source": [
    "#### Confusion matrisces"
   ]
  },
  {
   "cell_type": "code",
   "execution_count": 96,
   "metadata": {},
   "outputs": [
    {
     "data": {
      "text/html": [
       "<div>\n",
       "<style>\n",
       "    .dataframe thead tr:only-child th {\n",
       "        text-align: right;\n",
       "    }\n",
       "\n",
       "    .dataframe thead th {\n",
       "        text-align: left;\n",
       "    }\n",
       "\n",
       "    .dataframe tbody tr th {\n",
       "        vertical-align: top;\n",
       "    }\n",
       "</style>\n",
       "<table border=\"1\" class=\"dataframe\">\n",
       "  <thead>\n",
       "    <tr style=\"text-align: right;\">\n",
       "      <th></th>\n",
       "      <th>excelent</th>\n",
       "      <th>good</th>\n",
       "      <th>bad</th>\n",
       "    </tr>\n",
       "  </thead>\n",
       "  <tbody>\n",
       "    <tr>\n",
       "      <th>excelent</th>\n",
       "      <td>671</td>\n",
       "      <td>112</td>\n",
       "      <td>4</td>\n",
       "    </tr>\n",
       "    <tr>\n",
       "      <th>good</th>\n",
       "      <td>235</td>\n",
       "      <td>181</td>\n",
       "      <td>11</td>\n",
       "    </tr>\n",
       "    <tr>\n",
       "      <th>bad</th>\n",
       "      <td>11</td>\n",
       "      <td>22</td>\n",
       "      <td>4</td>\n",
       "    </tr>\n",
       "  </tbody>\n",
       "</table>\n",
       "</div>"
      ],
      "text/plain": [
       "          excelent  good  bad\n",
       "excelent       671   112    4\n",
       "good           235   181   11\n",
       "bad             11    22    4"
      ]
     },
     "execution_count": 96,
     "metadata": {},
     "output_type": "execute_result"
    }
   ],
   "source": [
    "# Naive Bayes\n",
    "conf_matrix_lemma"
   ]
  },
  {
   "cell_type": "code",
   "execution_count": 97,
   "metadata": {},
   "outputs": [
    {
     "data": {
      "text/html": [
       "<div>\n",
       "<style>\n",
       "    .dataframe thead tr:only-child th {\n",
       "        text-align: right;\n",
       "    }\n",
       "\n",
       "    .dataframe thead th {\n",
       "        text-align: left;\n",
       "    }\n",
       "\n",
       "    .dataframe tbody tr th {\n",
       "        vertical-align: top;\n",
       "    }\n",
       "</style>\n",
       "<table border=\"1\" class=\"dataframe\">\n",
       "  <thead>\n",
       "    <tr style=\"text-align: right;\">\n",
       "      <th></th>\n",
       "      <th>excelent</th>\n",
       "      <th>good</th>\n",
       "      <th>bad</th>\n",
       "    </tr>\n",
       "  </thead>\n",
       "  <tbody>\n",
       "    <tr>\n",
       "      <th>excelent</th>\n",
       "      <td>648</td>\n",
       "      <td>135</td>\n",
       "      <td>4</td>\n",
       "    </tr>\n",
       "    <tr>\n",
       "      <th>good</th>\n",
       "      <td>231</td>\n",
       "      <td>185</td>\n",
       "      <td>11</td>\n",
       "    </tr>\n",
       "    <tr>\n",
       "      <th>bad</th>\n",
       "      <td>11</td>\n",
       "      <td>21</td>\n",
       "      <td>5</td>\n",
       "    </tr>\n",
       "  </tbody>\n",
       "</table>\n",
       "</div>"
      ],
      "text/plain": [
       "          excelent  good  bad\n",
       "excelent       648   135    4\n",
       "good           231   185   11\n",
       "bad             11    21    5"
      ]
     },
     "execution_count": 97,
     "metadata": {},
     "output_type": "execute_result"
    }
   ],
   "source": [
    "# SVM\n",
    "conf_matrix_svm"
   ]
  },
  {
   "cell_type": "code",
   "execution_count": 98,
   "metadata": {},
   "outputs": [
    {
     "data": {
      "text/html": [
       "<div>\n",
       "<style>\n",
       "    .dataframe thead tr:only-child th {\n",
       "        text-align: right;\n",
       "    }\n",
       "\n",
       "    .dataframe thead th {\n",
       "        text-align: left;\n",
       "    }\n",
       "\n",
       "    .dataframe tbody tr th {\n",
       "        vertical-align: top;\n",
       "    }\n",
       "</style>\n",
       "<table border=\"1\" class=\"dataframe\">\n",
       "  <thead>\n",
       "    <tr style=\"text-align: right;\">\n",
       "      <th></th>\n",
       "      <th>excelent</th>\n",
       "      <th>good</th>\n",
       "      <th>bad</th>\n",
       "    </tr>\n",
       "  </thead>\n",
       "  <tbody>\n",
       "    <tr>\n",
       "      <th>excelent</th>\n",
       "      <td>690</td>\n",
       "      <td>97</td>\n",
       "      <td>0</td>\n",
       "    </tr>\n",
       "    <tr>\n",
       "      <th>good</th>\n",
       "      <td>233</td>\n",
       "      <td>194</td>\n",
       "      <td>0</td>\n",
       "    </tr>\n",
       "    <tr>\n",
       "      <th>bad</th>\n",
       "      <td>10</td>\n",
       "      <td>26</td>\n",
       "      <td>1</td>\n",
       "    </tr>\n",
       "  </tbody>\n",
       "</table>\n",
       "</div>"
      ],
      "text/plain": [
       "          excelent  good  bad\n",
       "excelent       690    97    0\n",
       "good           233   194    0\n",
       "bad             10    26    1"
      ]
     },
     "execution_count": 98,
     "metadata": {},
     "output_type": "execute_result"
    }
   ],
   "source": [
    "# Logistic Regression\n",
    "conf_matrix_lr"
   ]
  },
  {
   "cell_type": "markdown",
   "metadata": {},
   "source": [
    "#### Metrics"
   ]
  },
  {
   "cell_type": "code",
   "execution_count": 100,
   "metadata": {},
   "outputs": [
    {
     "data": {
      "text/html": [
       "<div>\n",
       "<style>\n",
       "    .dataframe thead tr:only-child th {\n",
       "        text-align: right;\n",
       "    }\n",
       "\n",
       "    .dataframe thead th {\n",
       "        text-align: left;\n",
       "    }\n",
       "\n",
       "    .dataframe tbody tr th {\n",
       "        vertical-align: top;\n",
       "    }\n",
       "</style>\n",
       "<table border=\"1\" class=\"dataframe\">\n",
       "  <thead>\n",
       "    <tr style=\"text-align: right;\">\n",
       "      <th></th>\n",
       "      <th>Accuracy</th>\n",
       "      <th>F1 score</th>\n",
       "      <th>Precision</th>\n",
       "      <th>Recall</th>\n",
       "    </tr>\n",
       "  </thead>\n",
       "  <tbody>\n",
       "    <tr>\n",
       "      <th>NB</th>\n",
       "      <td>0.682654</td>\n",
       "      <td>0.483443</td>\n",
       "      <td>0.597579</td>\n",
       "      <td>0.460702</td>\n",
       "    </tr>\n",
       "    <tr>\n",
       "      <th>SVM</th>\n",
       "      <td>0.669864</td>\n",
       "      <td>0.476673</td>\n",
       "      <td>0.506871</td>\n",
       "      <td>0.463923</td>\n",
       "    </tr>\n",
       "    <tr>\n",
       "      <th>LR</th>\n",
       "      <td>0.707434</td>\n",
       "      <td>0.458821</td>\n",
       "      <td>0.783846</td>\n",
       "      <td>0.452702</td>\n",
       "    </tr>\n",
       "  </tbody>\n",
       "</table>\n",
       "</div>"
      ],
      "text/plain": [
       "     Accuracy  F1 score  Precision    Recall\n",
       "NB   0.682654  0.483443   0.597579  0.460702\n",
       "SVM  0.669864  0.476673   0.506871  0.463923\n",
       "LR   0.707434  0.458821   0.783846  0.452702"
      ]
     },
     "execution_count": 100,
     "metadata": {},
     "output_type": "execute_result"
    }
   ],
   "source": [
    "models = [predictions_tfidf, predictions_svm, predictions_lr]\n",
    "metrics = {}\n",
    "metrics['Accuracy'] = [accuracy_score(y_test_lemma, m) for m in models]\n",
    "metrics['Precision'] = [precision_score(y_test_lemma, m, average='macro') for m in models]\n",
    "metrics['Recall'] = [recall_score(y_test_lemma, m, average='macro') for m in models]\n",
    "metrics['F1 score'] = [f1_score(y_test_lemma, m, average='macro') for m in models]\n",
    "pd.DataFrame(metrics, index=['NB', 'SVM', 'LR'])"
   ]
  },
  {
   "cell_type": "markdown",
   "metadata": {},
   "source": [
    "It looks like the Logistic Regression is the best model for this task. But I think the results are not so good."
   ]
  },
  {
   "cell_type": "markdown",
   "metadata": {},
   "source": [
    "## Next steps for possible improvement"
   ]
  },
  {
   "cell_type": "markdown",
   "metadata": {},
   "source": [
    "<li>Scrape more data, espesially with 4, 3, 2 and 1 stars</li>\n",
    "<li>Make test and train data more balanced</li>\n",
    "<li>Filter out short comments or comments with the question to the shop. Often the customer asks the question before buying the item and puts the mark</li>\n",
    "<li>Use pros and cons column as a features</li>\n",
    "<li>Use char vectorizer</li>\n",
    "<li>Use other models, based on trees</li>\n",
    "<li>Fix mistakes in the words</li>"
   ]
  },
  {
   "cell_type": "code",
   "execution_count": null,
   "metadata": {},
   "outputs": [],
   "source": []
  }
 ],
 "metadata": {
  "kernelspec": {
   "display_name": "Python 3",
   "language": "python",
   "name": "python3"
  },
  "language_info": {
   "codemirror_mode": {
    "name": "ipython",
    "version": 3
   },
   "file_extension": ".py",
   "mimetype": "text/x-python",
   "name": "python",
   "nbconvert_exporter": "python",
   "pygments_lexer": "ipython3",
   "version": "3.6.1"
  }
 },
 "nbformat": 4,
 "nbformat_minor": 1
}
