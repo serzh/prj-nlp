{
 "cells": [
  {
   "cell_type": "code",
   "execution_count": 85,
   "metadata": {},
   "outputs": [],
   "source": [
    "from rouge import Rouge\n",
    "from sklearn.metrics import classification_report, confusion_matrix\n",
    "from zipfile import ZipFile\n",
    "from tqdm import tqdm\n",
    "import re, pandas as pd, numpy as np"
   ]
  },
  {
   "cell_type": "code",
   "execution_count": 69,
   "metadata": {},
   "outputs": [],
   "source": [
    "train_pairs = pd.read_csv('train_pair_ids.tsv', sep='\\t')\n",
    "test_pairs = pd.read_csv('test_pair_ids.tsv', sep='\\t')"
   ]
  },
  {
   "cell_type": "markdown",
   "metadata": {},
   "source": [
    "## Rouge score for baseline"
   ]
  },
  {
   "cell_type": "code",
   "execution_count": 52,
   "metadata": {},
   "outputs": [],
   "source": [
    "rouge = Rouge()\n",
    "\n",
    "def eval_rouge(id1, id2):\n",
    "    with ZipFile('aggr_texts.zip') as zf:\n",
    "        names = zf.namelist()\n",
    "        f1 = list(filter(lambda f: re.match(f'{id1}', f), names))\n",
    "        f2 = list(filter(lambda f: re.match(f'{id2}', f), names))\n",
    "        with zf.open(f1[0]) as f:\n",
    "            text1 = f.read().decode()\n",
    "        with zf.open(f2[0]) as f:\n",
    "            text2 = f.read().decode()\n",
    "        metrics = rouge.get_scores(text1, text2)\n",
    "        return metrics"
   ]
  },
  {
   "cell_type": "code",
   "execution_count": 54,
   "metadata": {},
   "outputs": [
    {
     "name": "stderr",
     "output_type": "stream",
     "text": [
      "100%|██████████| 70275/70275 [2:53:38<00:00,  6.75it/s]  \n"
     ]
    }
   ],
   "source": [
    "rougified = []\n",
    "for d in tqdm(test_pairs.to_dict(orient='records')):\n",
    "    d['rouge'] = eval_rouge(row['id1'], row['id2'])\n",
    "    rougified.append(d)"
   ]
  },
  {
   "cell_type": "markdown",
   "metadata": {},
   "source": [
    "Use rouge for the longest similar sequences"
   ]
  },
  {
   "cell_type": "code",
   "execution_count": 64,
   "metadata": {},
   "outputs": [],
   "source": [
    "rougified['rouge_l_f'] = rougified.rouge.apply(lambda r: r[0]['rouge-l']['f'])"
   ]
  },
  {
   "cell_type": "code",
   "execution_count": 68,
   "metadata": {},
   "outputs": [
    {
     "data": {
      "text/plain": [
       "0.0"
      ]
     },
     "execution_count": 68,
     "metadata": {},
     "output_type": "execute_result"
    }
   ],
   "source": [
    "rougified.rouge_l_f.max()"
   ]
  },
  {
   "cell_type": "markdown",
   "metadata": {},
   "source": [
    "## Plan B: Tf-Idf"
   ]
  },
  {
   "cell_type": "code",
   "execution_count": 46,
   "metadata": {},
   "outputs": [],
   "source": [
    "from sklearn.feature_extraction.text import TfidfVectorizer\n",
    "from sklearn.metrics.pairwise import cosine_similarity\n",
    "# from sklearn.pipeline import Pipeline\n",
    "# from sklearn.ensemble import RandomForestClassifier"
   ]
  },
  {
   "cell_type": "markdown",
   "metadata": {},
   "source": [
    "Fit BoW on all texts"
   ]
  },
  {
   "cell_type": "code",
   "execution_count": 7,
   "metadata": {},
   "outputs": [],
   "source": [
    "def text_generator():\n",
    "    with ZipFile('aggr_texts.zip') as zf:\n",
    "        names = zf.namelist()\n",
    "        for fn in names:\n",
    "            with zf.open(fn) as f:\n",
    "                yield f.read().decode()"
   ]
  },
  {
   "cell_type": "code",
   "execution_count": 8,
   "metadata": {},
   "outputs": [
    {
     "data": {
      "text/plain": [
       "TfidfVectorizer(analyzer='word', binary=False, decode_error='strict',\n",
       "        dtype=<class 'numpy.int64'>, encoding='utf-8', input='content',\n",
       "        lowercase=True, max_df=0.97, max_features=None, min_df=0.01,\n",
       "        ngram_range=(1, 3), norm='l2', preprocessor=None, smooth_idf=True,\n",
       "        stop_words=None, strip_accents=None, sublinear_tf=False,\n",
       "        token_pattern='(?u)\\\\b\\\\w\\\\w+\\\\b', tokenizer=None, use_idf=True,\n",
       "        vocabulary=None)"
      ]
     },
     "execution_count": 8,
     "metadata": {},
     "output_type": "execute_result"
    }
   ],
   "source": [
    "tfidf_vect = TfidfVectorizer(ngram_range=(1, 3), min_df=0.01, max_df=0.97)\n",
    "tfidf_vect.fit(text_generator())"
   ]
  },
  {
   "cell_type": "code",
   "execution_count": 12,
   "metadata": {},
   "outputs": [],
   "source": [
    "texts = np.array(list(text_generator()))\n",
    "tfidf_vecs = tfidf_vect.transform(texts\n",
    "                                 ).toarray()"
   ]
  },
  {
   "cell_type": "code",
   "execution_count": 36,
   "metadata": {},
   "outputs": [],
   "source": [
    "with ZipFile('aggr_texts.zip') as zf:\n",
    "    ids = list(map(lambda i: [re.sub('\\D', '', i)], zf.namelist()))\n",
    "\n",
    "ids = np.array(ids, dtype=int)\n",
    "\n",
    "tfidf_vecs = np.hstack([ids, tfidf_vecs])"
   ]
  },
  {
   "cell_type": "code",
   "execution_count": 77,
   "metadata": {},
   "outputs": [],
   "source": [
    "def tfidf_cosine_similarity(row):\n",
    "    return cosine_similarity(tfidf_vecs[(tfidf_vecs[:, 0] == row.id1), 1:],\n",
    "                             tfidf_vecs[(tfidf_vecs[:, 0] == row.id2), 1:])[0, 0]\n",
    "test_pairs['similiarity'] = test_pairs.apply(tfidf_cosine_similarity, axis=1)"
   ]
  },
  {
   "cell_type": "code",
   "execution_count": 80,
   "metadata": {},
   "outputs": [
    {
     "data": {
      "text/plain": [
       "array([<matplotlib.axes._subplots.AxesSubplot object at 0x7fe72901a710>,\n",
       "       <matplotlib.axes._subplots.AxesSubplot object at 0x7fe729940b70>],\n",
       "      dtype=object)"
      ]
     },
     "execution_count": 80,
     "metadata": {},
     "output_type": "execute_result"
    },
    {
     "data": {
      "image/png": "[encoded data removed]",
      "text/plain": [
       "<Figure size 432x288 with 2 Axes>"
      ]
     },
     "metadata": {},
     "output_type": "display_data"
    }
   ],
   "source": [
    "test_pairs.similiarity.hist(by=test_pairs.is_similar)"
   ]
  },
  {
   "cell_type": "code",
   "execution_count": 92,
   "metadata": {},
   "outputs": [],
   "source": [
    "test_pairs['baseline_prediction'] = test_pairs.similiarity > 0.125"
   ]
  },
  {
   "cell_type": "code",
   "execution_count": 93,
   "metadata": {},
   "outputs": [
    {
     "data": {
      "text/plain": [
       "False    53970\n",
       "True     16305\n",
       "Name: is_similar, dtype: int64"
      ]
     },
     "execution_count": 93,
     "metadata": {},
     "output_type": "execute_result"
    }
   ],
   "source": [
    "test_pairs.is_similar.value_counts()"
   ]
  },
  {
   "cell_type": "code",
   "execution_count": 94,
   "metadata": {},
   "outputs": [],
   "source": [
    "result = pd.concat([test_pairs.loc[test_pairs.is_similar, ],\n",
    "                    test_pairs.loc[~test_pairs.is_similar, \n",
    "                                  ].sample(n=16305)])"
   ]
  },
  {
   "cell_type": "code",
   "execution_count": 95,
   "metadata": {},
   "outputs": [
    {
     "name": "stdout",
     "output_type": "stream",
     "text": [
      "             precision    recall  f1-score   support\n",
      "\n",
      "      False       0.91      0.61      0.73     24146\n",
      "       True       0.43      0.82      0.56      8464\n",
      "\n",
      "avg / total       0.78      0.67      0.69     32610\n",
      "\n"
     ]
    }
   ],
   "source": [
    "print(classification_report(result.baseline_prediction, result.is_similar))"
   ]
  },
  {
   "cell_type": "code",
   "execution_count": 98,
   "metadata": {},
   "outputs": [
    {
     "data": {
      "text/plain": [
       "array([[ 6941,  1523],\n",
       "       [ 9364, 14782]])"
      ]
     },
     "execution_count": 98,
     "metadata": {},
     "output_type": "execute_result"
    }
   ],
   "source": [
    "confusion_matrix(result.baseline_prediction, result.is_similar, labels=[True, False])"
   ]
  },
  {
   "cell_type": "markdown",
   "metadata": {},
   "source": [
    "Baseline solution achieves 0.56% f1 score and detects less than a half of similar texts, despite also gives few false-positives"
   ]
  },
  {
   "cell_type": "code",
   "execution_count": null,
   "metadata": {},
   "outputs": [],
   "source": []
  }
 ],
 "metadata": {
  "kernelspec": {
   "display_name": "Python 3",
   "language": "python",
   "name": "python3"
  },
  "language_info": {
   "codemirror_mode": {
    "name": "ipython",
    "version": 3
   },
   "file_extension": ".py",
   "mimetype": "text/x-python",
   "name": "python",
   "nbconvert_exporter": "python",
   "pygments_lexer": "ipython3",
   "version": "3.6.3"
  },
  "toc": {
   "nav_menu": {},
   "number_sections": true,
   "sideBar": true,
   "skip_h1_title": false,
   "title_cell": "Table of Contents",
   "title_sidebar": "Contents",
   "toc_cell": false,
   "toc_position": {},
   "toc_section_display": true,
   "toc_window_display": false
  },
  "varInspector": {
   "cols": {
    "lenName": 16,
    "lenType": 16,
    "lenVar": 40
   },
   "kernels_config": {
    "python": {
     "delete_cmd_postfix": "",
     "delete_cmd_prefix": "del ",
     "library": "var_list.py",
     "varRefreshCmd": "print(var_dic_list())"
    },
    "r": {
     "delete_cmd_postfix": ") ",
     "delete_cmd_prefix": "rm(",
     "library": "var_list.r",
     "varRefreshCmd": "cat(var_dic_list()) "
    }
   },
   "types_to_exclude": [
    "module",
    "function",
    "builtin_function_or_method",
    "instance",
    "_Feature"
   ],
   "window_display": false
  }
 },
 "nbformat": 4,
 "nbformat_minor": 2
}
