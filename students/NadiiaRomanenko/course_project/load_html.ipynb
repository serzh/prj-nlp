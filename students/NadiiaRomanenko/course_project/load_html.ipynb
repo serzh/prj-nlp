{
 "cells": [
  {
   "cell_type": "code",
   "execution_count": 86,
   "metadata": {},
   "outputs": [],
   "source": [
    "from readability.readability import Document, Unparseable\n",
    "from time import sleep\n",
    "from zipfile import ZipFile\n",
    "from tqdm import tqdm\n",
    "import requests, re, glob, chardet, pandas as pd"
   ]
  },
  {
   "cell_type": "code",
   "execution_count": 87,
   "metadata": {},
   "outputs": [
    {
     "data": {
      "text/plain": [
       "['aggregators.tsv']"
      ]
     },
     "execution_count": 87,
     "metadata": {},
     "output_type": "execute_result"
    }
   ],
   "source": [
    "glob.glob('aggreg*.tsv')"
   ]
  },
  {
   "cell_type": "code",
   "execution_count": 88,
   "metadata": {},
   "outputs": [],
   "source": [
    "df = pd.read_csv('aggregators.tsv', sep='\\t')"
   ]
  },
  {
   "cell_type": "code",
   "execution_count": 89,
   "metadata": {},
   "outputs": [
    {
     "data": {
      "text/html": [
       "<div>\n",
       "<style scoped>\n",
       "    .dataframe tbody tr th:only-of-type {\n",
       "        vertical-align: middle;\n",
       "    }\n",
       "\n",
       "    .dataframe tbody tr th {\n",
       "        vertical-align: top;\n",
       "    }\n",
       "\n",
       "    .dataframe thead th {\n",
       "        text-align: right;\n",
       "    }\n",
       "</style>\n",
       "<table border=\"1\" class=\"dataframe\">\n",
       "  <thead>\n",
       "    <tr style=\"text-align: right;\">\n",
       "      <th></th>\n",
       "      <th>link</th>\n",
       "      <th>new_created</th>\n",
       "      <th>new_id</th>\n",
       "      <th>original_id</th>\n",
       "      <th>source</th>\n",
       "      <th>title</th>\n",
       "      <th>topic_created</th>\n",
       "      <th>topic_id</th>\n",
       "      <th>topic_last</th>\n",
       "    </tr>\n",
       "  </thead>\n",
       "  <tbody>\n",
       "    <tr>\n",
       "      <th>0</th>\n",
       "      <td>http://fakty.ua/262212-sudba-savchenko-budet-z...</td>\n",
       "      <td>1521650424</td>\n",
       "      <td>62019456</td>\n",
       "      <td>NaN</td>\n",
       "      <td>ukrnet</td>\n",
       "      <td>Судьба Савченко будет зависеть от «кино», –  п...</td>\n",
       "      <td>1521650424</td>\n",
       "      <td>34151157</td>\n",
       "      <td>1521650424</td>\n",
       "    </tr>\n",
       "    <tr>\n",
       "      <th>1</th>\n",
       "      <td>http://ua1.com.ua/politics/bankova-rozkruchue-...</td>\n",
       "      <td>1521647666</td>\n",
       "      <td>62018221</td>\n",
       "      <td>NaN</td>\n",
       "      <td>ukrnet</td>\n",
       "      <td>Банкова розкручує Савченко як кандидата проти ...</td>\n",
       "      <td>1521650424</td>\n",
       "      <td>34151157</td>\n",
       "      <td>1521650424</td>\n",
       "    </tr>\n",
       "    <tr>\n",
       "      <th>2</th>\n",
       "      <td>http://hronika.info/politika/304444-savchenko-...</td>\n",
       "      <td>1521647066</td>\n",
       "      <td>62017938</td>\n",
       "      <td>NaN</td>\n",
       "      <td>ukrnet</td>\n",
       "      <td>Савченко пришла на заседание комитета Рады, с ...</td>\n",
       "      <td>1521650424</td>\n",
       "      <td>34151157</td>\n",
       "      <td>1521650424</td>\n",
       "    </tr>\n",
       "    <tr>\n",
       "      <th>3</th>\n",
       "      <td>http://xn--j1aidcn.org/%d1%81%d0%b0%d0%b2%d1%8...</td>\n",
       "      <td>1521646768</td>\n",
       "      <td>62017779</td>\n",
       "      <td>NaN</td>\n",
       "      <td>ukrnet</td>\n",
       "      <td>Савченко отличилась новой скандальной выходкой...</td>\n",
       "      <td>1521650424</td>\n",
       "      <td>34151157</td>\n",
       "      <td>1521650424</td>\n",
       "    </tr>\n",
       "    <tr>\n",
       "      <th>4</th>\n",
       "      <td>https://www.segodnya.ua/politics/snyat-nepriko...</td>\n",
       "      <td>1521645745</td>\n",
       "      <td>62017264</td>\n",
       "      <td>NaN</td>\n",
       "      <td>ukrnet</td>\n",
       "      <td>Снять неприкосновенность с Савченко могут завт...</td>\n",
       "      <td>1521650424</td>\n",
       "      <td>34151157</td>\n",
       "      <td>1521650424</td>\n",
       "    </tr>\n",
       "  </tbody>\n",
       "</table>\n",
       "</div>"
      ],
      "text/plain": [
       "                                                link  new_created    new_id  \\\n",
       "0  http://fakty.ua/262212-sudba-savchenko-budet-z...   1521650424  62019456   \n",
       "1  http://ua1.com.ua/politics/bankova-rozkruchue-...   1521647666  62018221   \n",
       "2  http://hronika.info/politika/304444-savchenko-...   1521647066  62017938   \n",
       "3  http://xn--j1aidcn.org/%d1%81%d0%b0%d0%b2%d1%8...   1521646768  62017779   \n",
       "4  https://www.segodnya.ua/politics/snyat-nepriko...   1521645745  62017264   \n",
       "\n",
       "   original_id  source                                              title  \\\n",
       "0          NaN  ukrnet  Судьба Савченко будет зависеть от «кино», –  п...   \n",
       "1          NaN  ukrnet  Банкова розкручує Савченко як кандидата проти ...   \n",
       "2          NaN  ukrnet  Савченко пришла на заседание комитета Рады, с ...   \n",
       "3          NaN  ukrnet  Савченко отличилась новой скандальной выходкой...   \n",
       "4          NaN  ukrnet  Снять неприкосновенность с Савченко могут завт...   \n",
       "\n",
       "   topic_created  topic_id  topic_last  \n",
       "0     1521650424  34151157  1521650424  \n",
       "1     1521650424  34151157  1521650424  \n",
       "2     1521650424  34151157  1521650424  \n",
       "3     1521650424  34151157  1521650424  \n",
       "4     1521650424  34151157  1521650424  "
      ]
     },
     "execution_count": 89,
     "metadata": {},
     "output_type": "execute_result"
    }
   ],
   "source": [
    "df.head()"
   ]
  },
  {
   "cell_type": "markdown",
   "metadata": {},
   "source": [
    "## make corpus of htmls"
   ]
  },
  {
   "cell_type": "code",
   "execution_count": 5,
   "metadata": {},
   "outputs": [],
   "source": [
    "zf = ZipFile('aggr_htmls.zip', 'a')"
   ]
  },
  {
   "cell_type": "code",
   "execution_count": 6,
   "metadata": {},
   "outputs": [],
   "source": [
    "def get_link(url):\n",
    "    for _ in range(5):\n",
    "        try:\n",
    "            r = requests.get(url)\n",
    "            if r.status_code == 200:\n",
    "                encoding = chardet.detect(r.content)\n",
    "                r.encoding = encoding['encoding']\n",
    "                return r.text\n",
    "        except:\n",
    "            sleep(1)"
   ]
  },
  {
   "cell_type": "code",
   "execution_count": 7,
   "metadata": {},
   "outputs": [
    {
     "name": "stderr",
     "output_type": "stream",
     "text": [
      "100%|██████████| 13982/13982 [5:00:28<00:00,  1.29s/it]  \n"
     ]
    }
   ],
   "source": [
    "files = zf.namelist()\n",
    "for line in tqdm(df.to_dict(orient='records')):\n",
    "    if f'{line[\"new_id\"]}.html' in files[:-2]:\n",
    "        continue\n",
    "    html = get_link(line['link'])\n",
    "    if not html:\n",
    "        continue\n",
    "    try:\n",
    "        readed_doc = Document(html)\n",
    "        summary = re.sub('\\s+', ' ', readed_doc.summary())\n",
    "        if len(re.sub('[^А-яІіЄєЇїҐґ]', '', summary)) < 3:\n",
    "            continue\n",
    "        with zf.open(f'{line[\"new_id\"]}.html', 'w') as f:\n",
    "            f.write(summary.encode('utf-8'))\n",
    "    except Unparseable:\n",
    "        continue"
   ]
  },
  {
   "cell_type": "code",
   "execution_count": null,
   "metadata": {},
   "outputs": [],
   "source": [
    "zf.close()"
   ]
  },
  {
   "cell_type": "markdown",
   "metadata": {},
   "source": [
    "## tokenize and detect lang"
   ]
  },
  {
   "cell_type": "code",
   "execution_count": 90,
   "metadata": {},
   "outputs": [],
   "source": [
    "from polyglot.text import Text\n",
    "from bs4 import BeautifulSoup\n",
    "from polyglot.detect import Detector # cld2\n",
    "from operator import itemgetter\n",
    "import pdb"
   ]
  },
  {
   "cell_type": "code",
   "execution_count": 91,
   "metadata": {},
   "outputs": [],
   "source": [
    "def get_lang(text):\n",
    "    '''\n",
    "    Detects whether text is in Russian or in Ukrainian.\n",
    "    Accepts string or list of words as input\n",
    "    Returns None if unsure. \n",
    "    '''\n",
    "    if isinstance(text, list) and all(isinstance(w, str) for w in text):\n",
    "        text = ' '.join(text)\n",
    "    elif isinstance(text, str):\n",
    "        pass\n",
    "    else:\n",
    "        raise TypeError(f'{type(text)} provided as input. Please give a str or a list of words')\n",
    "        \n",
    "    lang = [{'lang': l.code, 'sure': l.confidence}\n",
    "            for l in Detector(text, quiet=True).languages\n",
    "            if l.code in ['uk', 'ru']]\n",
    "    lang = sorted(lang, key=itemgetter('sure'))\n",
    "    if len(lang) > 0:\n",
    "        return lang[-1]['lang']"
   ]
  },
  {
   "cell_type": "code",
   "execution_count": null,
   "metadata": {},
   "outputs": [],
   "source": [
    "with ZipFile('aggr_htmls.zip') as zf:\n",
    "    htmls_n = zf.namelist()\n",
    "    with ZipFile('aggr_texts.zip', 'w') as zft:\n",
    "        for html_f in htmls_n:\n",
    "            with zf.open(html_f) as f:\n",
    "                html = f.read().decode()\n",
    "                html = re.sub('[\\n\\s]+|https?://.*', ' ', html).strip()\n",
    "                soup = BeautifulSoup(html, 'lxml')\n",
    "                [t.extract() for t in soup.select('.')\n",
    "                 if len(re.sub('[^А-яІіЇїЄєҐґ]', '', t.text)) < 2]\n",
    "                paragraphs = [p.get_text(' ') for p in soup.select('p, h2, h3, h4, h5, h6')]\n",
    "\n",
    "                text = '\\n\\n'.join(['\\n'.join([' '.join([str(w) for w in sent.words])\n",
    "                                               for sent in Text(p).sentences])\n",
    "                                  for p in paragraphs\n",
    "                                    if len(p) > 2])\n",
    "                lang = get_lang(text)\n",
    "                doc_id = re.sub('\\D', '', html_f)\n",
    "                if len(re.sub('[^А-яІіЇїЄєҐґ]', '', text)) > 10:\n",
    "                    with zft.open(f'{doc_id}_{lang}.txt', 'w') as f:\n",
    "                        f.write(text.encode('utf-8'))"
   ]
  },
  {
   "cell_type": "code",
   "execution_count": 93,
   "metadata": {},
   "outputs": [
    {
     "name": "stdout",
     "output_type": "stream",
     "text": [
      "В четверг , 22 марта , в 8.30 комитет по вопросам регламента и организации работы Верховной Рады соберется на заседание , чтобы рассмотреть три представления Генпрокуратуры о привлечении Надежды Савченко к уголовной ответственности , ее задержании и аресте .\n",
      "После этого судьбу Савченко будут решать народные депутаты на пленарном заседании .\n",
      "\n",
      "« Нет никаких сомнений , что Надежду Савченко лишат депутатской неприкосновенности » , — сказал « ФАКТАМ » глава правления Центра прикладных политических исследований « Пента » Владимир Фесенко и объяснил почему .\n",
      "\n",
      "« Ни одна политическая сила в парламенте не поддерживает Савченко .\n",
      "Она всегда была чужой в Верховной Раде .\n",
      "К тому же история с проносом в сумке гранат и пистолета в сессионный зал явно сыграла не в ее пользу .\n",
      "Поэтому народные депутаты , скорее всего , поддержат и представление на задержание Савченко на время следствия .\n",
      "Что же касается согласия парламента на ее арест , то здесь сложно что - либо прогнозировать .\n",
      "Все будет зависеть от „ кино “ , которое обещают показать в Верховной Раде 22 марта .\n",
      "Если собранные правоохранителями доказательства вины Савченко впечатлят народных депутатов , то не исключено , что они дадут согласие и на арест » , — сказал « ФАКТАМ » Владимир Фесенко .\n",
      "\n",
      "При этом политолог отметил , что в любом случае власть оказывается перед сложной дилеммой .\n",
      "« С одной стороны , задержание Савченко может сделать из нее жертву и реанимировать к ней политические симпатии .\n",
      "С другой — ей выдвинуты настолько серьезные обвинения , что оставлять ее на свободе нельзя .\n",
      "В противном случае к власти возникнут вопросы , почему человек , подозреваемый в особо тяжких преступлениях , не содержится под стражей ?\n",
      "Оптимальным вариантом для всех в этой ситуации стал бы выезд Савченко за границу , но она вряд ли уедет » , — добавил Владимир Фесенко .\n",
      "\n",
      "Как\n"
     ]
    }
   ],
   "source": [
    "with ZipFile('aggr_texts.zip') as zf:\n",
    "    text_ids = zf.namelist()\n",
    "    for f in text_ids:\n",
    "        with zf.open(f) as t:\n",
    "            print(t.read().decode())\n",
    "            break"
   ]
  },
  {
   "cell_type": "markdown",
   "metadata": {},
   "source": [
    "## Construct pairs balanced"
   ]
  },
  {
   "cell_type": "code",
   "execution_count": 94,
   "metadata": {},
   "outputs": [],
   "source": [
    "from itertools import combinations\n",
    "from sklearn.model_selection import train_test_split\n",
    "import numpy as np"
   ]
  },
  {
   "cell_type": "code",
   "execution_count": 100,
   "metadata": {},
   "outputs": [],
   "source": [
    "# text_ids = [int(re.sub('\\D', '', i)) for i in text_ids]\n",
    "df_with_texts = df.loc[df.new_id.isin(text_ids), ].copy()\n",
    "pairs = []\n",
    "\n",
    "for topic in np.unique(df_with_texts.topic_id):\n",
    "    same = df_with_texts.loc[df_with_texts.topic_id == topic, ].copy()\n",
    "    \n",
    "    sample_size = len(same) if len(same) < 15 else 15\n",
    "    \n",
    "    same = same.sample(n=sample_size)\n",
    "    other = df_with_texts.loc[df_with_texts.topic_id != topic, ].copy(\n",
    "                                         ).sample(n=sample_size)\n",
    "    \n",
    "    topic_sample = pd.concat([same, other]\n",
    "                            ).reindex(columns=['new_id', 'topic_id'])\n",
    "    \n",
    "    topic_sample = [(n.new_id, n.topic_id) for i, n in topic_sample.iterrows()]\n",
    "    \n",
    "    pairs += [[n1, n2, t1 == t2]\n",
    "              for (n1, t1), (n2, t2) in combinations(topic_sample, 2)]"
   ]
  },
  {
   "cell_type": "code",
   "execution_count": 101,
   "metadata": {},
   "outputs": [],
   "source": [
    "pairs = pd.DataFrame(pairs, columns=['id1', 'id2', 'is_similar']\n",
    "                    ).sample(frac=1)\n",
    "\n",
    "train, test = train_test_split(pairs,\n",
    "                               test_size=0.5,\n",
    "                               random_state=np.random.randint(0, 10000))"
   ]
  },
  {
   "cell_type": "code",
   "execution_count": 102,
   "metadata": {},
   "outputs": [],
   "source": [
    "train.to_csv('train_pair_ids.tsv', sep='\\t', index=False)\n",
    "test.to_csv('test_pair_ids.tsv', sep='\\t', index=False)"
   ]
  },
  {
   "cell_type": "code",
   "execution_count": 103,
   "metadata": {},
   "outputs": [
    {
     "data": {
      "text/plain": [
       "False    53970\n",
       "True     16305\n",
       "Name: is_similar, dtype: int64"
      ]
     },
     "execution_count": 103,
     "metadata": {},
     "output_type": "execute_result"
    }
   ],
   "source": [
    "test.is_similar.value_counts()"
   ]
  },
  {
   "cell_type": "code",
   "execution_count": null,
   "metadata": {},
   "outputs": [],
   "source": []
  }
 ],
 "metadata": {
  "kernelspec": {
   "display_name": "Python 3",
   "language": "python",
   "name": "python3"
  },
  "language_info": {
   "codemirror_mode": {
    "name": "ipython",
    "version": 3
   },
   "file_extension": ".py",
   "mimetype": "text/x-python",
   "name": "python",
   "nbconvert_exporter": "python",
   "pygments_lexer": "ipython3",
   "version": "3.6.3"
  },
  "toc": {
   "nav_menu": {},
   "number_sections": true,
   "sideBar": true,
   "skip_h1_title": false,
   "title_cell": "Table of Contents",
   "title_sidebar": "Contents",
   "toc_cell": false,
   "toc_position": {},
   "toc_section_display": true,
   "toc_window_display": false
  },
  "varInspector": {
   "cols": {
    "lenName": 16,
    "lenType": 16,
    "lenVar": 40
   },
   "kernels_config": {
    "python": {
     "delete_cmd_postfix": "",
     "delete_cmd_prefix": "del ",
     "library": "var_list.py",
     "varRefreshCmd": "print(var_dic_list())"
    },
    "r": {
     "delete_cmd_postfix": ") ",
     "delete_cmd_prefix": "rm(",
     "library": "var_list.r",
     "varRefreshCmd": "cat(var_dic_list()) "
    }
   },
   "types_to_exclude": [
    "module",
    "function",
    "builtin_function_or_method",
    "instance",
    "_Feature"
   ],
   "window_display": false
  }
 },
 "nbformat": 4,
 "nbformat_minor": 2
}
