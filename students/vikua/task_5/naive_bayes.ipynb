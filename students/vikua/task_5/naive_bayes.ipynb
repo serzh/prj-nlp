{
 "cells": [
  {
   "cell_type": "code",
   "execution_count": 253,
   "metadata": {},
   "outputs": [],
   "source": [
    "import pandas as pd\n",
    "import numpy as np\n",
    "\n",
    "from sklearn.preprocessing import LabelEncoder \n",
    "from sklearn.model_selection import StratifiedShuffleSplit\n",
    "from sklearn.feature_extraction.text import CountVectorizer\n",
    "from sklearn.metrics import f1_score, accuracy_score, confusion_matrix"
   ]
  },
  {
   "cell_type": "code",
   "execution_count": 254,
   "metadata": {},
   "outputs": [],
   "source": [
    "df = pd.read_csv('spam.csv', encoding='Windows-1252')"
   ]
  },
  {
   "cell_type": "code",
   "execution_count": 255,
   "metadata": {},
   "outputs": [
    {
     "name": "stdout",
     "output_type": "stream",
     "text": [
      "ham 4825\n",
      "spam 747\n"
     ]
    }
   ],
   "source": [
    "for n, g in df.groupby(['v1']): \n",
    "    print(n, len(g))"
   ]
  },
  {
   "cell_type": "code",
   "execution_count": 256,
   "metadata": {},
   "outputs": [
    {
     "data": {
      "text/html": [
       "<div>\n",
       "<style scoped>\n",
       "    .dataframe tbody tr th:only-of-type {\n",
       "        vertical-align: middle;\n",
       "    }\n",
       "\n",
       "    .dataframe tbody tr th {\n",
       "        vertical-align: top;\n",
       "    }\n",
       "\n",
       "    .dataframe thead th {\n",
       "        text-align: right;\n",
       "    }\n",
       "</style>\n",
       "<table border=\"1\" class=\"dataframe\">\n",
       "  <thead>\n",
       "    <tr style=\"text-align: right;\">\n",
       "      <th></th>\n",
       "      <th>v1</th>\n",
       "      <th>v2</th>\n",
       "      <th>Unnamed: 2</th>\n",
       "      <th>Unnamed: 3</th>\n",
       "      <th>Unnamed: 4</th>\n",
       "    </tr>\n",
       "  </thead>\n",
       "  <tbody>\n",
       "    <tr>\n",
       "      <th>0</th>\n",
       "      <td>ham</td>\n",
       "      <td>Go until jurong point, crazy.. Available only ...</td>\n",
       "      <td>NaN</td>\n",
       "      <td>NaN</td>\n",
       "      <td>NaN</td>\n",
       "    </tr>\n",
       "    <tr>\n",
       "      <th>1</th>\n",
       "      <td>ham</td>\n",
       "      <td>Ok lar... Joking wif u oni...</td>\n",
       "      <td>NaN</td>\n",
       "      <td>NaN</td>\n",
       "      <td>NaN</td>\n",
       "    </tr>\n",
       "    <tr>\n",
       "      <th>2</th>\n",
       "      <td>spam</td>\n",
       "      <td>Free entry in 2 a wkly comp to win FA Cup fina...</td>\n",
       "      <td>NaN</td>\n",
       "      <td>NaN</td>\n",
       "      <td>NaN</td>\n",
       "    </tr>\n",
       "    <tr>\n",
       "      <th>3</th>\n",
       "      <td>ham</td>\n",
       "      <td>U dun say so early hor... U c already then say...</td>\n",
       "      <td>NaN</td>\n",
       "      <td>NaN</td>\n",
       "      <td>NaN</td>\n",
       "    </tr>\n",
       "    <tr>\n",
       "      <th>4</th>\n",
       "      <td>ham</td>\n",
       "      <td>Nah I don't think he goes to usf, he lives aro...</td>\n",
       "      <td>NaN</td>\n",
       "      <td>NaN</td>\n",
       "      <td>NaN</td>\n",
       "    </tr>\n",
       "  </tbody>\n",
       "</table>\n",
       "</div>"
      ],
      "text/plain": [
       "     v1                                                 v2 Unnamed: 2  \\\n",
       "0   ham  Go until jurong point, crazy.. Available only ...        NaN   \n",
       "1   ham                      Ok lar... Joking wif u oni...        NaN   \n",
       "2  spam  Free entry in 2 a wkly comp to win FA Cup fina...        NaN   \n",
       "3   ham  U dun say so early hor... U c already then say...        NaN   \n",
       "4   ham  Nah I don't think he goes to usf, he lives aro...        NaN   \n",
       "\n",
       "  Unnamed: 3 Unnamed: 4  \n",
       "0        NaN        NaN  \n",
       "1        NaN        NaN  \n",
       "2        NaN        NaN  \n",
       "3        NaN        NaN  \n",
       "4        NaN        NaN  "
      ]
     },
     "execution_count": 256,
     "metadata": {},
     "output_type": "execute_result"
    }
   ],
   "source": [
    "df.head()"
   ]
  },
  {
   "cell_type": "code",
   "execution_count": 257,
   "metadata": {},
   "outputs": [
    {
     "name": "stderr",
     "output_type": "stream",
     "text": [
      "/usr/local/lib/python3.6/site-packages/sklearn/preprocessing/label.py:171: DeprecationWarning: The truth value of an empty array is ambiguous. Returning False, but in future this will result in an error. Use `array.size > 0` to check that an array is not empty.\n",
      "  if diff:\n"
     ]
    },
    {
     "data": {
      "text/plain": [
       "array(['ham', 'spam'], dtype=object)"
      ]
     },
     "execution_count": 257,
     "metadata": {},
     "output_type": "execute_result"
    }
   ],
   "source": [
    "lenc = LabelEncoder()\n",
    "\n",
    "X = df['v2']\n",
    "y = lenc.fit_transform(df['v1']) \n",
    "\n",
    "lenc.inverse_transform(np.array([0, 1]))"
   ]
  },
  {
   "cell_type": "code",
   "execution_count": 258,
   "metadata": {},
   "outputs": [],
   "source": [
    "partitioner = StratifiedShuffleSplit(n_splits=1, test_size=0.3, random_state=0)\n",
    "\n",
    "indexes = partitioner.split(X, y)\n",
    "train_indexes, test_indexes = list(indexes)[0]\n",
    "\n",
    "X_train, y_train = X[train_indexes], y[train_indexes]\n",
    "X_test, y_test = X[test_indexes], y[test_indexes]"
   ]
  },
  {
   "cell_type": "code",
   "execution_count": 259,
   "metadata": {},
   "outputs": [
    {
     "name": "stdout",
     "output_type": "stream",
     "text": [
      "Train ham size: 3377 Train spam size: 523\n",
      "Test ham size: 1448 Test spam size: 224\n"
     ]
    }
   ],
   "source": [
    "print('Train ham size:', len(y_train[y_train == 0]), 'Train spam size:', len(y_train[y_train == 1]))\n",
    "print('Test ham size:', len(y_test[y_test == 0]), 'Test spam size:', len(y_test[y_test == 1]))"
   ]
  },
  {
   "cell_type": "code",
   "execution_count": 260,
   "metadata": {},
   "outputs": [
    {
     "data": {
      "text/plain": [
       "3467    yay! finally lol. i missed our cinema trip las...\n",
       "1164    Well. Im computerless. Time to make some oreo ...\n",
       "5059                       I think i am disturbing her da\n",
       "1721    Am watching house ‰ÛÒ very entertaining ‰ÛÒ am...\n",
       "1921            No current and food here. I am alone also\n",
       "Name: v2, dtype: object"
      ]
     },
     "execution_count": 260,
     "metadata": {},
     "output_type": "execute_result"
    }
   ],
   "source": [
    "X_train.head(5)"
   ]
  },
  {
   "cell_type": "code",
   "execution_count": 316,
   "metadata": {},
   "outputs": [],
   "source": [
    "class SpamNaiveBayes(object):\n",
    "    \n",
    "    def __init__(self, prior_prob=0.5, n_gram=(1, 1)):\n",
    "        self.prior_prob = prior_prob\n",
    "        \n",
    "        self.vectorizer = CountVectorizer(analyzer='word', stop_words=None, ngram_range=n_gram, max_features=None)\n",
    "        self.spam_vectorizer = CountVectorizer(analyzer='word', stop_words=None, ngram_range=n_gram, max_features=None)\n",
    "        self.ham_vectorizer = CountVectorizer(analyzer='word', stop_words=None, ngram_range=n_gram, max_features=None)\n",
    "        \n",
    "        self.spam_vector = dict()\n",
    "        self.ham_vector = dict()\n",
    "        \n",
    "        self.spam_frequencies = dict()\n",
    "        self.ham_frequencies = dict()\n",
    "        \n",
    "    def fit(self, X, y): \n",
    "        self.vectorizer.fit(X)\n",
    "        self.ham_vectorizer.fit(X_train[y_train == 0])\n",
    "        self.spam_vectorizer.fit(X_train[y_train == 1])\n",
    "        \n",
    "        for w, c in self.vectorizer.vocabulary_.items(): \n",
    "            float_c = float(c)\n",
    "            spam_freq = self.spam_vectorizer.vocabulary_.get(w, 0) / float_c\n",
    "            try:\n",
    "                ham_freq = self.ham_vectorizer.vocabulary_.get(w, 0) / float_c\n",
    "            except ZeroDivisionError:\n",
    "                ham_freq = 0\n",
    "            \n",
    "            if spam_freq == 0:\n",
    "                spam_freq = 0.00001\n",
    "            if ham_freq == 0:\n",
    "                ham_freq = 0.00001\n",
    "            \n",
    "            self.spam_frequencies[w] = spam_freq\n",
    "            self.ham_frequencies[w] = ham_freq\n",
    "            \n",
    "            self.spam_vector[w] = np.log(spam_freq)\n",
    "            self.ham_vector[w] = np.log(ham_freq)\n",
    "            \n",
    "        self.analyzer = self.vectorizer.build_analyzer()\n",
    "\n",
    "    def predict(self, X): \n",
    "        probs = self.predict_probabilities(X)\n",
    "        return np.argmax(probs, axis=1)\n",
    "    \n",
    "    def predict_probabilities(self, X):\n",
    "        probs = np.zeros((X.shape[0], 2))\n",
    "        for i, example in enumerate(X): \n",
    "            e = self.analyzer(example)\n",
    "            \n",
    "            spam_prob = 0\n",
    "            ham_prob = 0\n",
    "            for word in e: \n",
    "                spam_prob += self.spam_vector.get(word, 0)\n",
    "                ham_prob += self.ham_vector.get(word, 0)\n",
    "                        \n",
    "            probs[i, 0] = np.exp(ham_prob) * self.prior_prob\n",
    "            probs[i, 1] = np.exp(spam_prob) * self.prior_prob\n",
    "        return probs\n"
   ]
  },
  {
   "cell_type": "code",
   "execution_count": 317,
   "metadata": {},
   "outputs": [
    {
     "name": "stderr",
     "output_type": "stream",
     "text": [
      "/usr/local/lib/python3.6/site-packages/ipykernel/__main__.py:23: RuntimeWarning: invalid value encountered in true_divide\n"
     ]
    }
   ],
   "source": [
    "classifier = SpamNaiveBayes(n_gram=(1, 2))\n",
    "\n",
    "classifier.fit(X_train, y_train)"
   ]
  },
  {
   "cell_type": "code",
   "execution_count": 318,
   "metadata": {},
   "outputs": [
    {
     "name": "stdout",
     "output_type": "stream",
     "text": [
      "Train Accuracy 1.0\n",
      "Train F1 score 1.0\n",
      "Test Accuracy 0.9754784688995215\n",
      "Test F1 score 0.900726392251816\n"
     ]
    }
   ],
   "source": [
    "y_pred_train = classifier.predict(X_train)\n",
    "print('Train Accuracy', accuracy_score(y_train, y_pred_train))\n",
    "print('Train F1 score', f1_score(y_train, y_pred_train))\n",
    "\n",
    "y_pred_test = classifier.predict(X_test)\n",
    "print('Test Accuracy', accuracy_score(y_test, y_pred_test))\n",
    "print('Test F1 score', f1_score(y_test, y_pred_test))\n"
   ]
  },
  {
   "cell_type": "code",
   "execution_count": 319,
   "metadata": {},
   "outputs": [
    {
     "data": {
      "text/plain": [
       "array([[3377,    0],\n",
       "       [   0,  523]])"
      ]
     },
     "execution_count": 319,
     "metadata": {},
     "output_type": "execute_result"
    }
   ],
   "source": [
    "confusion_matrix(y_train, y_pred_train)"
   ]
  },
  {
   "cell_type": "code",
   "execution_count": 320,
   "metadata": {},
   "outputs": [
    {
     "data": {
      "text/plain": [
       "array([[1445,    3],\n",
       "       [  38,  186]])"
      ]
     },
     "execution_count": 320,
     "metadata": {},
     "output_type": "execute_result"
    }
   ],
   "source": [
    "confusion_matrix(y_test, y_pred_test)"
   ]
  },
  {
   "cell_type": "code",
   "execution_count": null,
   "metadata": {},
   "outputs": [],
   "source": []
  },
  {
   "cell_type": "code",
   "execution_count": 332,
   "metadata": {},
   "outputs": [
    {
     "name": "stdout",
     "output_type": "stream",
     "text": [
      "['25p free', 'question this', '0845 021', 'join take', 'send', '6031 between', 'god ve', '542 0825', 'subscribed textcomp', 'six chances']\n"
     ]
    }
   ],
   "source": [
    "import random\n",
    "from sklearn.utils import shuffle\n",
    "\n",
    "words = []\n",
    "\n",
    "for i in range(10):  \n",
    "    n = random.random()\n",
    "    s = 0\n",
    "    for w, f in shuffle(list(classifier.spam_frequencies.items())):\n",
    "        s += f\n",
    "        if s >= n: \n",
    "            words.append(w)\n",
    "            break\n",
    "            \n",
    "print(words)"
   ]
  },
  {
   "cell_type": "code",
   "execution_count": null,
   "metadata": {},
   "outputs": [],
   "source": []
  },
  {
   "cell_type": "code",
   "execution_count": null,
   "metadata": {},
   "outputs": [],
   "source": []
  }
 ],
 "metadata": {
  "kernelspec": {
   "display_name": "Python 3",
   "language": "python",
   "name": "python3"
  },
  "language_info": {
   "codemirror_mode": {
    "name": "ipython",
    "version": 3
   },
   "file_extension": ".py",
   "mimetype": "text/x-python",
   "name": "python",
   "nbconvert_exporter": "python",
   "pygments_lexer": "ipython3",
   "version": "3.6.4"
  }
 },
 "nbformat": 4,
 "nbformat_minor": 2
}
