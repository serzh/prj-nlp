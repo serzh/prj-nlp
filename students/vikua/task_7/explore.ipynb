{
 "cells": [
  {
   "cell_type": "code",
   "execution_count": 1,
   "metadata": {},
   "outputs": [],
   "source": [
    "%load_ext autoreload\n",
    "%autoreload 2\n",
    "    \n",
    "import json\n",
    "import string \n",
    "import re\n",
    "import os\n",
    "import multiprocessing as mp\n",
    "\n",
    "import pandas as pd\n",
    "import numpy as np\n",
    "import spacy\n",
    "from spacy import displacy\n",
    "from nltk.tokenize import sent_tokenize, word_tokenize\n",
    "from sklearn.datasets import fetch_20newsgroups\n",
    "from sklearn.utils import shuffle, resample\n",
    "\n",
    "from sklearn.ensemble import RandomForestClassifier, GradientBoostingClassifier, ExtraTreesClassifier\n",
    "from sklearn.feature_extraction import DictVectorizer\n",
    "from sklearn.model_selection import train_test_split, KFold\n",
    "from sklearn.metrics import f1_score, confusion_matrix, classification_report\n",
    "from sklearn.decomposition import PCA\n",
    "from sklearn.preprocessing import LabelEncoder, OneHotEncoder\n",
    "from sklearn.linear_model import SGDClassifier\n",
    "\n",
    "import gensim\n",
    "\n",
    "from common import * "
   ]
  },
  {
   "cell_type": "code",
   "execution_count": 2,
   "metadata": {},
   "outputs": [],
   "source": [
    "nlp = spacy.load('en', disable=['ner'])"
   ]
  },
  {
   "cell_type": "markdown",
   "metadata": {},
   "source": [
    "### Prepare dataset"
   ]
  },
  {
   "cell_type": "code",
   "execution_count": 3,
   "metadata": {},
   "outputs": [],
   "source": [
    "newsgroups = fetch_20newsgroups(subset='all', remove=('headers', 'footers', 'quotes'))\n",
    "newsgroups = [x for x in newsgroups.data]"
   ]
  },
  {
   "cell_type": "code",
   "execution_count": 6,
   "metadata": {},
   "outputs": [],
   "source": [
    "data = pd.Series(newsgroups)\n",
    "data = prepare_data(data)"
   ]
  },
  {
   "cell_type": "code",
   "execution_count": 7,
   "metadata": {},
   "outputs": [],
   "source": [
    "train = [add_info(x) for x in data]\n",
    "train = [window(x) for x in train]\n",
    "train = [item for sublist in train for item in sublist]\n",
    "train = [extract_features(x) for x in train] "
   ]
  },
  {
   "cell_type": "code",
   "execution_count": 8,
   "metadata": {},
   "outputs": [],
   "source": [
    "with open('../../../tasks/07-language-as-sequence/run-on-test.json') as f: \n",
    "    test = json.loads(f.read())\n",
    "test = prepare_test(test)\n",
    "test = [window(x) for x in test]\n",
    "test = [item for sublist in test for item in sublist]\n",
    "test = [extract_features(x) for x in test] "
   ]
  },
  {
   "cell_type": "code",
   "execution_count": 9,
   "metadata": {},
   "outputs": [],
   "source": [
    "with open('train.json', 'w') as f: \n",
    "    f.write(json.dumps(train))\n",
    "with open('test.json', 'w') as f: \n",
    "    f.write(json.dumps(test))"
   ]
  },
  {
   "cell_type": "markdown",
   "metadata": {},
   "source": [
    "### Load data"
   ]
  },
  {
   "cell_type": "code",
   "execution_count": 2,
   "metadata": {},
   "outputs": [],
   "source": [
    "with open('train.json', 'r') as f: \n",
    "    train = json.loads(f.read())\n",
    "with open('test.json', 'r') as f: \n",
    "    test = json.loads(f.read())\n",
    "\n",
    "minority = [x for x in train if x['label'] == 1]\n",
    "majority = [x for x in train if x['label'] == 0]\n",
    "\n",
    "majority_down = resample(majority, replace=False, n_samples=len(minority), random_state=1234)\n",
    "\n",
    "res = shuffle(minority + majority_down)"
   ]
  },
  {
   "cell_type": "markdown",
   "metadata": {},
   "source": [
    "### Model without words"
   ]
  },
  {
   "cell_type": "code",
   "execution_count": 4,
   "metadata": {},
   "outputs": [],
   "source": [
    "X = [{k:v for k, v in x.items() if k not in {'label', 'word+1', 'word-1', 'word-2', 'word'}} for x in res]\n",
    "y = [x['label'] for x in res]"
   ]
  },
  {
   "cell_type": "code",
   "execution_count": 18,
   "metadata": {},
   "outputs": [],
   "source": [
    "X_train, X_test, y_train, y_test = train_test_split(X, y, test_size=0.2, random_state=1234)\n",
    "\n",
    "X_val = [{k:v for k, v in x.items() if k not in {'label', 'word+1', 'word-1', 'word-2', 'word'}} for x in test]\n",
    "y_val = [x['label'] for x in test]"
   ]
  },
  {
   "cell_type": "code",
   "execution_count": 6,
   "metadata": {},
   "outputs": [],
   "source": [
    "vect = DictVectorizer(sparse=False)\n",
    "X_train = vect.fit_transform(X_train)\n",
    "X_test = vect.transform(X_test)"
   ]
  },
  {
   "cell_type": "code",
   "execution_count": 16,
   "metadata": {},
   "outputs": [
    {
     "data": {
      "text/plain": [
       "0.8967680993185344"
      ]
     },
     "execution_count": 16,
     "metadata": {},
     "output_type": "execute_result"
    }
   ],
   "source": [
    "clf = RandomForestClassifier(criterion='entropy', n_estimators=200, n_jobs=-1)\n",
    "clf.fit(X_train, np.array(y_train))\n",
    "y_pred = clf.predict(X_test)\n",
    "f1_score(np.array(y_test), y_pred)"
   ]
  },
  {
   "cell_type": "code",
   "execution_count": 19,
   "metadata": {},
   "outputs": [
    {
     "data": {
      "text/plain": [
       "0.6461022350477794"
      ]
     },
     "execution_count": 19,
     "metadata": {},
     "output_type": "execute_result"
    }
   ],
   "source": [
    "X_val = vect.transform(X_val)\n",
    "y_val_pred = clf.predict(X_val)\n",
    "f1_score(np.array(y_val), y_val_pred, average='macro')"
   ]
  },
  {
   "cell_type": "code",
   "execution_count": 20,
   "metadata": {},
   "outputs": [
    {
     "name": "stdout",
     "output_type": "stream",
     "text": [
      "             precision    recall  f1-score   support\n",
      "\n",
      "          0       0.99      0.89      0.94      3944\n",
      "          1       0.22      0.84      0.35       153\n",
      "\n",
      "avg / total       0.96      0.89      0.92      4097\n",
      "\n"
     ]
    }
   ],
   "source": [
    "print(classification_report(y_val, y_val_pred))"
   ]
  },
  {
   "cell_type": "code",
   "execution_count": 21,
   "metadata": {},
   "outputs": [
    {
     "name": "stdout",
     "output_type": "stream",
     "text": [
      "[[3503  441]\n",
      " [  25  128]]\n"
     ]
    },
    {
     "data": {
      "image/png": "[encoded data removed]",
      "text/plain": [
       "<matplotlib.figure.Figure at 0x15fc90c18>"
      ]
     },
     "metadata": {},
     "output_type": "display_data"
    }
   ],
   "source": [
    "plot_confusion_matrix(confusion_matrix(y_val, y_val_pred), classes=[0, 1])"
   ]
  },
  {
   "cell_type": "markdown",
   "metadata": {},
   "source": [
    "### word embeddings"
   ]
  },
  {
   "cell_type": "code",
   "execution_count": 3,
   "metadata": {},
   "outputs": [],
   "source": [
    "model = gensim.models.KeyedVectors.load_word2vec_format('../../../../data/GoogleNews-vectors-negative300.bin', binary=True)"
   ]
  },
  {
   "cell_type": "code",
   "execution_count": 4,
   "metadata": {},
   "outputs": [],
   "source": [
    "X = [{k:v for k, v in x.items() if k not in {'label', 'word', 'word+1', 'word-1', 'word-2'}} for x in res]\n",
    "y = [x['label'] for x in res]\n",
    "\n",
    "X_words = [{k:v for k, v in x.items() if k in {'word', 'word+1', 'word-1', 'word-2'}} for x in res]\n",
    "X_words = pd.DataFrame(X_words)"
   ]
  },
  {
   "cell_type": "code",
   "execution_count": 5,
   "metadata": {},
   "outputs": [],
   "source": [
    "X_val = [{k:v for k, v in x.items() if k not in {'label', 'word', 'word+1', 'word-1', 'word-2'}} for x in test]\n",
    "y_val = [x['label'] for x in test]\n",
    "\n",
    "X_val_words = [{k:v for k, v in x.items() if k in {'word', 'word+1', 'word-1', 'word-2'}} for x in test]\n",
    "X_val_words = pd.DataFrame(X_val_words)"
   ]
  },
  {
   "cell_type": "code",
   "execution_count": 6,
   "metadata": {},
   "outputs": [],
   "source": [
    "def w2v(word): \n",
    "    try: \n",
    "        vec = model[word]\n",
    "    except KeyError:\n",
    "        vec = np.zeros(300)\n",
    "    return vec\n",
    "\n",
    "def get_features(df): \n",
    "    word = np.array(df['word'].apply(w2v).values.tolist())\n",
    "    word_p1 = np.array(df['word+1'].apply(w2v).values.tolist())\n",
    "    word_m1 = np.array(df['word-1'].apply(w2v).values.tolist())\n",
    "    word_m2 = np.array(df['word-2'].apply(w2v).values.tolist())\n",
    "\n",
    "    return np.concatenate([word, word_p1, word_m1, word_m2], axis=1)"
   ]
  },
  {
   "cell_type": "code",
   "execution_count": 7,
   "metadata": {},
   "outputs": [],
   "source": [
    "X_words = get_features(X_words)\n",
    "X_val_words = get_features(X_val_words)\n",
    "\n",
    "vect = DictVectorizer(sparse=False)\n",
    "X = vect.fit_transform(X)\n",
    "X_val = vect.transform(X_val)"
   ]
  },
  {
   "cell_type": "code",
   "execution_count": 8,
   "metadata": {},
   "outputs": [],
   "source": [
    "X_all = np.concatenate([X_words, X], axis=1)\n",
    "X_all_val = np.concatenate([X_val_words, X_val], axis=1)"
   ]
  },
  {
   "cell_type": "code",
   "execution_count": 9,
   "metadata": {},
   "outputs": [
    {
     "name": "stderr",
     "output_type": "stream",
     "text": [
      "/usr/local/lib/python3.6/site-packages/sklearn/preprocessing/label.py:151: DeprecationWarning: The truth value of an empty array is ambiguous. Returning False, but in future this will result in an error. Use `array.size > 0` to check that an array is not empty.\n",
      "  if diff:\n"
     ]
    },
    {
     "data": {
      "text/plain": [
       "0.6820214310750589"
      ]
     },
     "execution_count": 9,
     "metadata": {},
     "output_type": "execute_result"
    }
   ],
   "source": [
    "import lightgbm\n",
    "\n",
    "clf = lightgbm.LGBMClassifier(boosting_type='gbdt', objective='binary', n_estimators=200) \n",
    "clf.fit(X_all, np.array(y))\n",
    "y_pred = clf.predict(X_all_val)\n",
    "f1_score(np.array(y_val), y_pred, average='macro')"
   ]
  },
  {
   "cell_type": "code",
   "execution_count": 10,
   "metadata": {},
   "outputs": [
    {
     "name": "stdout",
     "output_type": "stream",
     "text": [
      "             precision    recall  f1-score   support\n",
      "\n",
      "          0       0.99      0.91      0.95      3944\n",
      "          1       0.27      0.86      0.41       153\n",
      "\n",
      "avg / total       0.97      0.91      0.93      4097\n",
      "\n"
     ]
    }
   ],
   "source": [
    "print(classification_report(np.array(y_val), y_pred))"
   ]
  },
  {
   "cell_type": "code",
   "execution_count": 11,
   "metadata": {},
   "outputs": [
    {
     "name": "stdout",
     "output_type": "stream",
     "text": [
      "[[3594  350]\n",
      " [  22  131]]\n"
     ]
    },
    {
     "data": {
      "image/png": "[encoded data removed]",
      "text/plain": [
       "<matplotlib.figure.Figure at 0x35dff38d0>"
      ]
     },
     "metadata": {},
     "output_type": "display_data"
    }
   ],
   "source": [
    "plot_confusion_matrix(confusion_matrix(np.array(y_val), y_pred), classes=[0, 1])"
   ]
  },
  {
   "cell_type": "code",
   "execution_count": null,
   "metadata": {},
   "outputs": [],
   "source": []
  }
 ],
 "metadata": {
  "kernelspec": {
   "display_name": "Python 3",
   "language": "python",
   "name": "python3"
  },
  "language_info": {
   "codemirror_mode": {
    "name": "ipython",
    "version": 3
   },
   "file_extension": ".py",
   "mimetype": "text/x-python",
   "name": "python",
   "nbconvert_exporter": "python",
   "pygments_lexer": "ipython3",
   "version": "3.6.4"
  }
 },
 "nbformat": 4,
 "nbformat_minor": 2
}
