{
 "cells": [
  {
   "cell_type": "code",
   "execution_count": 1,
   "metadata": {},
   "outputs": [],
   "source": [
    "#https://github.com/EmilStenstrom/conllu\n",
    "#https://github.com/UniversalDependencies/UD_English-EWT\n",
    "from conllu import parse, parse_tree\n",
    "from collections import OrderedDict\n",
    "import numpy as np"
   ]
  },
  {
   "cell_type": "code",
   "execution_count": 7,
   "metadata": {},
   "outputs": [],
   "source": [
    "with open('../UD_Ukrainian-IU/uk_iu-ud-train.conllu') as f:\n",
    "    c= f.read()\n",
    "    trees= parse(c)"
   ]
  },
  {
   "cell_type": "code",
   "execution_count": 117,
   "metadata": {},
   "outputs": [
    {
     "data": {
      "text/plain": [
       "OrderedDict([('id', 6),\n",
       "             ('form', 'була'),\n",
       "             ('lemma', 'бути'),\n",
       "             ('upostag', 'VERB'),\n",
       "             ('xpostag', 'Vapis-sf'),\n",
       "             ('feats',\n",
       "              OrderedDict([('Aspect', 'Imp'),\n",
       "                           ('Gender', 'Fem'),\n",
       "                           ('Mood', 'Ind'),\n",
       "                           ('Number', 'Sing'),\n",
       "                           ('Tense', 'Past'),\n",
       "                           ('VerbForm', 'Fin')])),\n",
       "             ('head', 0),\n",
       "             ('deprel', 'root'),\n",
       "             ('deps', None),\n",
       "             ('misc', OrderedDict([('Id', '0008')]))])"
      ]
     },
     "execution_count": 117,
     "metadata": {},
     "output_type": "execute_result"
    }
   ],
   "source": [
    "tree[5]"
   ]
  },
  {
   "cell_type": "code",
   "execution_count": 26,
   "metadata": {},
   "outputs": [],
   "source": [
    "features=[]\n",
    "for tree in trees:\n",
    "    for node in tree:\n",
    "        pos, lemma = get_pymorphy_features(node['form'])\n",
    "        features.append({\n",
    "            'word':node['form'],\n",
    "            'golden_features':{\n",
    "                'lemma':node['lemma'].lower(),\n",
    "                'tag':str(node['upostag'])},\n",
    "            'features':{\n",
    "                'lemma':lemma,\n",
    "                'tag':str(pos)}})"
   ]
  },
  {
   "cell_type": "code",
   "execution_count": 31,
   "metadata": {},
   "outputs": [
    {
     "data": {
      "text/plain": [
       "75098"
      ]
     },
     "execution_count": 31,
     "metadata": {},
     "output_type": "execute_result"
    }
   ],
   "source": [
    "words_count= len(features)\n",
    "words_count"
   ]
  },
  {
   "cell_type": "code",
   "execution_count": 28,
   "metadata": {},
   "outputs": [
    {
     "data": {
      "text/plain": [
       "{'features': {'lemma': 'у', 'tag': 'ADP'},\n",
       " 'golden_features': {'lemma': 'у', 'tag': 'ADP'},\n",
       " 'word': 'У'}"
      ]
     },
     "execution_count": 28,
     "metadata": {},
     "output_type": "execute_result"
    }
   ],
   "source": [
    "features[0]"
   ]
  },
  {
   "cell_type": "code",
   "execution_count": 29,
   "metadata": {},
   "outputs": [],
   "source": [
    "lemma_error=[]\n",
    "pos_error=[]\n",
    "for feature in features:\n",
    "    if feature['golden_features']['lemma']!=feature['features']['lemma']:\n",
    "        lemma_error.append((feature['golden_features']['lemma'],feature['features']['lemma']))\n",
    "    if feature['golden_features']['tag']!=feature['features']['tag']:\n",
    "        pos_error.append((feature['golden_features']['tag'],feature['features']['tag']))"
   ]
  },
  {
   "cell_type": "code",
   "execution_count": 38,
   "metadata": {},
   "outputs": [],
   "source": [
    "from collections import Counter\n",
    "def get_results(errors,words_count):\n",
    "    print('correct:',(words_count-len(errors))/words_count)\n",
    "    cnt = Counter(errors)\n",
    "    return cnt.most_common(10)"
   ]
  },
  {
   "cell_type": "code",
   "execution_count": 39,
   "metadata": {},
   "outputs": [
    {
     "name": "stdout",
     "output_type": "stream",
     "text": [
      "correct: 0.6115742096993262\n"
     ]
    },
    {
     "data": {
      "text/plain": [
       "[(('PUNCT', 'None'), 14052),\n",
       " (('DET', 'PRON'), 2049),\n",
       " (('PROPN', 'NOUN'), 1959),\n",
       " (('ADP', 'INTJ'), 1178),\n",
       " (('ADP', 'NOUN'), 948),\n",
       " (('ADV', 'PART'), 662),\n",
       " (('PRON', 'DET'), 661),\n",
       " (('SCONJ', 'PART'), 589),\n",
       " (('ADP', 'ADV'), 528),\n",
       " (('NUM', 'None'), 504)]"
      ]
     },
     "execution_count": 39,
     "metadata": {},
     "output_type": "execute_result"
    }
   ],
   "source": [
    "get_results(pos_error,words_count)"
   ]
  },
  {
   "cell_type": "code",
   "execution_count": 40,
   "metadata": {},
   "outputs": [
    {
     "name": "stdout",
     "output_type": "stream",
     "text": [
      "correct: 0.9310767264108232\n"
     ]
    },
    {
     "data": {
      "text/plain": [
       "[(('я', 'мен'), 139),\n",
       " (('його', 'йога'), 124),\n",
       " (('бути', 'булий'), 104),\n",
       " (('він', 'йога'), 102),\n",
       " (('те', 'той'), 93),\n",
       " (('рік', 'рок'), 82),\n",
       " (('все', 'весь'), 81),\n",
       " (('людина', 'люди'), 78),\n",
       " (('вона', 'її'), 73),\n",
       " (('те', 'тога'), 59)]"
      ]
     },
     "execution_count": 40,
     "metadata": {},
     "output_type": "execute_result"
    }
   ],
   "source": [
    "get_results(lemma_error,words_count)"
   ]
  },
  {
   "cell_type": "code",
   "execution_count": 30,
   "metadata": {},
   "outputs": [
    {
     "data": {
      "text/plain": [
       "('NOUN', 'добра')"
      ]
     },
     "execution_count": 30,
     "metadata": {},
     "output_type": "execute_result"
    }
   ],
   "source": [
    "import pymorphy2\n",
    "morph = pymorphy2.MorphAnalyzer(lang='uk')\n",
    "DET = ['інакший', 'його', 'тамтой', 'чий', 'їх', 'інш.', 'деякий', 'ввесь', 'ваш', \n",
    "     'ніякий', 'весь', 'інший', 'чийсь', 'жадний', 'другий', 'кожний', \n",
    "     'такий', 'оцей', 'скілька', 'цей', 'жодний', 'все', 'кілька', 'увесь', \n",
    "     'кожній', 'те', 'сей', 'ін.', 'отакий', 'котрий', 'усякий', 'самий', \n",
    "     'наш', 'усілякий', 'будь-який', 'сам', 'свій', 'всілякий', 'всенький', 'її', \n",
    "     'всякий', 'отой', 'небагато', 'який', 'їхній', 'той', 'якийсь', 'ин.', 'котрийсь', \n",
    "     'твій', 'мій', 'це']\n",
    "mapping = {\"ADJF\": \"ADJ\", \"ADJS\": \"ADJ\", \"COMP\": \"ADJ\", \"PRTF\": \"ADJ\",\n",
    "           \"PRTS\": \"ADJ\", \"GRND\": \"VERB\", \"NUMR\": \"NUM\", \"ADVB\": \"ADV\",\n",
    "           \"NPRO\": \"PRON\", \"PNCT\": \"PUNCT\", \"PRED\": \"ADV\", \"PREP\": \"ADP\",\n",
    "           \"PRCL\": \"PART\"}\n",
    "\n",
    "def normalize_pos(token):\n",
    "    if token.word in DET:\n",
    "        return 'DET'\n",
    "    \n",
    "    if token.tag.POS == \"CONJ\":\n",
    "        if \"coord\" in token.tag:\n",
    "            return \"CCONJ\"\n",
    "        else:\n",
    "            return \"SCONJ\"\n",
    "    else:\n",
    "        return mapping.get(token.tag.POS, token.tag.POS)\n",
    "\n",
    "def get_pymorphy_features(word):\n",
    "    word_info = morph.parse(word)[0]\n",
    "    pos = normalize_pos(word_info)\n",
    "    return pos, word_info.normal_form\n",
    "\n",
    "get_pymorphy_features('добро')"
   ]
  }
 ],
 "metadata": {
  "kernelspec": {
   "display_name": "Python 3",
   "language": "python",
   "name": "python3"
  },
  "language_info": {
   "codemirror_mode": {
    "name": "ipython",
    "version": 3
   },
   "file_extension": ".py",
   "mimetype": "text/x-python",
   "name": "python",
   "nbconvert_exporter": "python",
   "pygments_lexer": "ipython3",
   "version": "3.6.4"
  }
 },
 "nbformat": 4,
 "nbformat_minor": 2
}
