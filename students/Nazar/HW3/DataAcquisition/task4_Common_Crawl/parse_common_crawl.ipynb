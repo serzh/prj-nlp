{
 "cells": [
  {
   "cell_type": "code",
   "execution_count": null,
   "metadata": {},
   "outputs": [],
   "source": [
    "\n",
    "#setup  aws cli, put region \n",
    "#brows data aws s3 ls s3://commoncrawl/\n",
    "#Load data  aws s3 cp s3://commoncrawl/crawl-data/CC-NEWS/2018/03/CC-NEWS-20180321113442-00063.warc.gz ."
   ]
  },
  {
   "cell_type": "code",
   "execution_count": 1,
   "metadata": {},
   "outputs": [],
   "source": [
    "file_content=[]\n",
    "import gzip\n",
    "with gzip.open(\"CC-NEWS-20180321113442-00063.warc.gz\",'r') as f:\n",
    "    for line in f:\n",
    "        file_content.append(line)\n",
    "        \n",
    "        "
   ]
  },
  {
   "cell_type": "code",
   "execution_count": 2,
   "metadata": {},
   "outputs": [
    {
     "data": {
      "text/plain": [
       "b'WARC/1.0\\r\\n'"
      ]
     },
     "execution_count": 2,
     "metadata": {},
     "output_type": "execute_result"
    }
   ],
   "source": [
    "file_content[0]"
   ]
  },
  {
   "cell_type": "code",
   "execution_count": 3,
   "metadata": {},
   "outputs": [
    {
     "data": {
      "text/plain": [
       "59787600"
      ]
     },
     "execution_count": 3,
     "metadata": {},
     "output_type": "execute_result"
    }
   ],
   "source": [
    "len(file_content)"
   ]
  },
  {
   "cell_type": "code",
   "execution_count": 4,
   "metadata": {},
   "outputs": [],
   "source": [
    "def get_html(rows):\n",
    "    collect=False\n",
    "    html=\"\"\n",
    "    for  row in rows:\n",
    "        if row=='<!DOCTYPE html>\\n':\n",
    "            collect=True    \n",
    "        \n",
    "        if collect:    \n",
    "            html=html+row.strip('\\n\\r')\n",
    "            \n",
    "        if row=='</html>\\r\\n':\n",
    "            return html\n",
    "    return html"
   ]
  },
  {
   "cell_type": "code",
   "execution_count": 5,
   "metadata": {},
   "outputs": [],
   "source": [
    "def parse_site(rows):\n",
    "    site={}\n",
    "    site['url']=rows[0][17:-2]\n",
    "    site['html'] = get_html(rows)\n",
    "    return site"
   ]
  },
  {
   "cell_type": "code",
   "execution_count": 6,
   "metadata": {},
   "outputs": [
    {
     "name": "stderr",
     "output_type": "stream",
     "text": [
      "100%|██████████| 59787600/59787600 [01:12<00:00, 821633.33it/s]\n"
     ]
    }
   ],
   "source": [
    "sites=[]\n",
    "from tqdm import tqdm\n",
    "start = 0\n",
    "for i in tqdm(range(0, len(file_content))):\n",
    "    row =  file_content[i].decode(encoding='latin-1')\n",
    "    file_content[i]=row\n",
    "    if row.startswith('WARC-Target-URI:'):        \n",
    "        if start>0:\n",
    "            sites.append(parse_site(file_content[start:i]))\n",
    "        start =i"
   ]
  },
  {
   "cell_type": "code",
   "execution_count": 7,
   "metadata": {},
   "outputs": [
    {
     "data": {
      "text/plain": [
       "39284"
      ]
     },
     "execution_count": 7,
     "metadata": {},
     "output_type": "execute_result"
    }
   ],
   "source": [
    "len(sites)"
   ]
  },
  {
   "cell_type": "code",
   "execution_count": 8,
   "metadata": {},
   "outputs": [
    {
     "data": {
      "text/plain": [
       "{'html': '<!DOCTYPE html><html lang=\"es\"><head><meta http-equiv=\"Content-Type\" content=\"text/html; charset=iso-8859-15\"/><meta http-equiv=\"X-UA-Compatible\" content=\"IE=edge;chrome=1\"/><title data-ue-u=\"title\" data-ue-c=\"innerHTML\">La nueva norma de ruido de Castellón fija el horario &apos;diurno&apos; hasta las 23.00 horas | Castellón</title> <link rel=\"stylesheet\" type=\"text/css\" href=\"https://e00-elmundo.uecdn.es/assets/v8/css/core-noticia-elmundo-desktop.css\"><!--[if lte IE 9]>    <link href=\"https://e00-elmundo.uecdn.es/assets/v8/css/core-noticia-elmundo-desktop-ie.css\" media=\"all\" rel=\"stylesheet\" type=\"text/css\"/><![endif]--> <meta data-ue-u=\"description\" name=\"description\" content=\"La nueva ordenanza de regularización del ruido en Castellón alarga el horario &amp;apos;diurno&amp;apos; hasta las 23.00 horas, lo que implica poder emitir hasta 65 decibelios (dB) de cont\"/><meta data-ue-u=\"keywords\" name=\"keywords\" content=\"comunidad-valenciana/castellon,Castellón,Comunidad Valenciana,sociedad\"/><meta data-ue-u=\"news_keywords\" name=\"news_keywords\" content=\"comunidad-valenciana/castellon,Castellón,Comunidad Valenciana,sociedad\"/><meta name=\"theme-color\" content=\"#2e6d9d\"><!-- ##IBEXCLU --> <link data-ue-c=\"href\" data-ue-u=\"canonical\" rel=\"canonical\" Href=\"http://www.elmundo.es/comunidad-valenciana/castellon/2018/03/21/5ab224f2268e3e7c168b46dd.html\"/><link rel=\"amphtml\" Href=\"https://amp.elmundo.es/comunidad-valenciana/castellon/2018/03/21/5ab224f2268e3e7c168b46dd.html\"><link rel=\"alternate\" Href=\"android-app://com.gi.elmundo.main/http/www.elmundo.es/comunidad-valenciana/castellon/2018/03/21/5ab224f2268e3e7c168b46dd.html\"/><link rel=\"publisher\" href=\"https://plus.google.com/u/0/+elmundo\"/><!-- ##FBEXCLU --> <meta name=\"robots\" content=\"index,follow\"/><meta name=\"date\" content=\"2018-03-21T09:25:16Z\"/><meta property=\"article:modified_time\" content=\"2018-03-21T09:25:17Z\"/><meta property=\"article:published_time\" content=\"2018-03-21T09:25:16Z\"/><meta name=\"DC.date.issued\" content=\"2018-03-21T09:25:17Z\"><meta name=\"organization\" content=\"Unidad Editorial Información General S.L.U.\"/><meta property=\"article:section\" content=\"Comunidad-valenciana/castellon\"/> <meta property=\"article:tag\" content=\"comunidad-valenciana/castellon\"/><meta property=\"article:tag\" content=\"Castellón\"/><meta property=\"article:tag\" content=\"Comunidad Valenciana\"/><meta property=\"article:tag\" content=\"sociedad\"/><meta name=\"twitter:site\" content=\"@elmundoes\"/><meta data-ue-u=\"twitter:title\" name=\"twitter:title\" content=\"La nueva norma de ruido de Castellón fija el horario &apos;diurno&apos; hasta las 23.00 horas\"/><meta data-ue-u=\"twitter:description\" name=\"twitter:description\" content=\"La nueva ordenanza de regularización del ruido en Castellón alarga el horario &apos;diurno&apos; hasta las 23.00 horas, lo que implica poder emitir hasta 65 decibelios (dB) de contaminación \"/> <meta data-ue-u=\"og:title\" property=\"og:title\" content=\"La nueva norma de ruido de Castellón fija el horario &apos;diurno&apos; hasta las 23.00 horas\"/><meta data-ue-u=\"og:description\" property=\"og:description\" content=\"La nueva ordenanza de regularización del ruido en Castellón alarga el horario &apos;diurno&apos; hasta las 23.00 horas, lo que implica poder emitir hasta 65 decibelios (dB) de contaminación \"/><meta property=\"og:url\" content=\"http://www.elmundo.es/comunidad-valenciana/castellon/2018/03/21/5ab224f2268e3e7c168b46dd.html\"/><meta data-ue-u=\"og:image\" property=\"og:image\" content=\"https://e00-elmundo.uecdn.es/assets/multimedia/imagenes/2018/03/21/15216238656792.jpg\"/><meta name=\"twitter:card\" content=\"summary_large_image\"/><meta data-ue-u=\"twitter:image\" name=\"twitter:image\" content=\"https://e00-elmundo.uecdn.es/assets/multimedia/imagenes/2018/03/21/15216238656792.jpg\"/> <meta property=\"og:type\" content=\"article\"/><meta property=\"og:site_name\" content=\"ELMUNDO\"/><meta property=\"fb:app_id\" content=\"279395918757488\"/><link href=\"https://e00-elmundo.uecdn.es/favicon.ico\" type=\"image/ico\" rel=\"icon\"/><link href=\"https://e00-elmundo.uecdn.es/favicon.ico\" type=\"image/ico\" rel=\"shortcut icon\"/><link rel=\"apple-touch-icon-precomposed\" href=\"https://e00-elmundo.uecdn.es/apple-touch-icon-precomposed.png\"><link rel=\"apple-touch-icon-precomposed\" sizes=\"72x72\" href=\"https://e00-elmundo.uecdn.es/apple-touch-icon-72x72-precomposed.png\"><link rel=\"apple-touch-icon-precomposed\" sizes=\"76x76\" href=\"https://e00-elmundo.uecdn.es/apple-touch-icon-76x76-precomposed.png\"><link rel=\"apple-touch-icon-precomposed\" sizes=\"114x114\" href=\"https://e00-elmundo.uecdn.es/apple-touch-icon-114x114-precomposed.png\"><link rel=\"apple-touch-icon-precomposed\" sizes=\"120x120\" href=\"https://e00-elmundo.uecdn.es/apple-touch-icon-120x120-precomposed.png\"><link rel=\"apple-touch-icon-precomposed\" sizes=\"144x144\" href=\"https://e00-elmundo.uecdn.es/apple-touch-icon-144x144-precomposed.png\"><link rel=\"apple-touch-icon-precomposed\" sizes=\"152x152\" href=\"https://e00-elmundo.uecdn.es/apple-touch-icon-152x152-precomposed.png\"><script src=\"https://e00-elmundo.uecdn.es/assets/v8/js/jquery.2.1.4.js\" type=\"text/javascript\"></script><script src=\"https://e00-elmundo.uecdn.es/assets/desktop/master/js/ue-utils.js\" type=\"text/javascript\"></script><!--[if lte IE 9]>        <script type=\"text/javascript\" src=\"https://e00-elmundo.uecdn.es/assets/v8/js/jquery.ie8.js\"></script><![endif]--><meta name=\"theme-color\" content=\"#2e6d9d\"> <!--[if lt IE 9]>        <script type=\"text/javascript\" src=\"https://e00-elmundo.uecdn.es/assets/desktop/master/js/html5shiv.js\"></script><![endif]--> <script class=\"kxct\" data-id=\"qk36wkwac\" data-timing=\"async\" data-version=\"1.9\" type=\"text/javascript\">window.Krux||((Krux=function(){Krux.q.push(arguments)}).q=[]);(function(){var k=document.createElement(\\'script\\');k.type=\\'text/javascript\\';k.async=true;var m,src=(m=location.href.match(/\\\\bkxsrc=([^&]+)/))&&decodeURIComponent(m[1]);k.src=/^https?:\\\\/\\\\/([a-z0-9_\\\\-\\\\.]+\\\\.)?krxd\\\\.net(:\\\\d{1,5})?\\\\//i.test(src)?src:src===\"disable\"?\"\":(location.protocol===\"https:\"?\"https:\":\"http:\")+\"//cdn.krxd.net/controltag?confid=qk36wkwac\";var s=document.getElementsByTagName(\\'script\\')[0];s.parentNode.insertBefore(k,s);}());</script><script type=\\'text/javascript\\'>!function(a9,a,p,s,t,A,g){if(a[a9])return;function q(c,r){a[a9]._Q.push([c,r])}a[a9]={init:function(){q(\"i\",arguments)},fetchBids:function(){q(\"f\",arguments)},setDisplayBids:function(){},targetingKeys:function(){return[]},_Q:[]};A=p.createElement(s);A.async=!0;A.src=t;g=p.getElementsByTagName(s)[0];g.parentNode.insertBefore(A,g)}(\"apstag\",window,document,\"script\",\"//c.amazon-adsystem.com/aax2/apstag.js\");</script></head><body><script>var gptadslots=[],googletag=googletag||{};googletag.cmd=googletag.cmd||[]</script><script src=\"//active.cache.el-mundo.net/js/1475575201_elmundo.js\"></script><script>var ter=document.createElement(\"script\");ter.async=!0,ter.type=\"text/javascript\";var useSSL=\"https:\"==document.location.protocol;ter.src=(useSSL?\"https:\":\"http:\")+\"//active.cache.el-mundo.net/js/ter.js\";var node=document.getElementsByTagName(\"script\")[0];node.parentNode.insertBefore(ter,node);</script><div id=\"pixelcontabilizacionelmundo\" class=\"pixelcontabilizacion\" style=\"position:absolute;top:0px;left:0px;width:1px;height:1px;z-Index:1\"><img src=\"http://pixelcounter.elmundo.es/pixelcontabilizacion/pixelcontabilizacion.gifctl?r=http%3A%2F%2Fwww%2Eelmundo%2Ees%2Fcomunidad%2Dvalenciana%2Fcastellon%2F2018%2F03%2F21%2F5ab224f2268e3e7c168b46dd%2Ehtml&amp;s=elmundo&amp;d=WrJDUcCoFL0AAHfUoNE\" width=\"1\" height=\"1\" alt=\"\" /><script type=\"text/javascript\">function DM_prepClient(csid,client){var cat=document.location.href.split(\\'/\\');url_section=cat[6];client.DM_addEncToLoc(\"as_section\",url_section);}</script></div><img style=\"display:none\" src=\"//pixel.zumby.io/2/C67CB4DAF07D2A016BF4856A3EF6E574D67B5A838FA583F99692753EDB4730DB/zumby.png\" alt=\"Zumby Pixel\" title=\"Zumby Pixel\"/><script type=\"text/javascript\" language=\"javascript\" src=\"http://estaticos.cookies.unidadeditorial.es/js/policy.js\" async></script><script>var nav_continua_active=true;</script><script type=\"text/javascript\">var cookieList=document.cookie.split(\";\");for(index in cookieList){if(typeof cookieList[index]==\"string\"&&cookieList[index].indexOf(\"REGMUNDO\")!=-1){var ifr=document.createElement(\"iframe\");ifr.src=\"https://5214106.fls.doubleclick.net/activityi;src=5214106;type=corp;cat=regis0;dc_lat=;dc_rdid=;tag_for_child_directed_treatment=;ord=\"+Math.random()*1000000000000+\"?\";ifr.width=\"1\";ifr.height=\"1\";ifr.style.display=\"none\";ifr.setAttribute(\"frameborder\",\"0\");var node=document.body.getElementsByTagName(\"script\")[0];node.parentNode.insertBefore(ifr,node);break;}}</script><noscript><iframe src=\"https://5214106.fls.doubleclick.net/activityi;src=5214106;type=corp;cat=regis0;dc_lat=;dc_rdid=;tag_for_child_directed_treatment=;ord=1?\" width=\"1\" height=\"1\" frameborder=\"0\" style=\"display:none\"></iframe></noscript><script type=\"text/javascript\">var sectionMainMenuActive=\\'default\\';var uniqueCtId=\\'5ab224f2268e3e7c168b46dd\\';var activeUeNavigation=true;</script><script type=\"text/javascript\">var uePages = [{\"url\":\"http://www.elmundo.es/comunidad-valenciana/castellon/2018/03/21/5ab20b8b268e3e2b798b4662.html\",\"titulo\":\"El fuerte viento impide controlar un nuevo incendio forestal con varios focos en el Prat de Cabanes\"},{\"url\":\"http://www.elmundo.es/comunidad-valenciana/castellon/2018/03/21/5ab224f2268e3e7c168b46dd.html\",\"titulo\":\"La nueva norma de ruido de Castellón fija el horario &#039;diurno&#039; hasta las 23.00 horas\"},{\"url\":\"http://www.elmundo.es/comunidad-valenciana/2018/03/21/5ab15474468aeb607f8b464f.html\",\"titulo\":\"Los &#039;pubs&#039; de la Comunidad Valenciana podrán hacer conciertos sin permiso especial\"},{\"url\":\"http://www.elmundo.es/comunidad-valenciana/castellon/2018/03/21/5ab23389268e3eeb2d8b472c.html\",\"titulo\":\"El gerente del Patronato de Fiestas de Castellón será instructor del &#039;caso Bellido&#039; si le abren expediente\"},{\"url\":\"http://www.elmundo.es/comunidad-valenciana/castellon/2018/03/21/5ab22165268e3e773f8b46e0.html\",\"titulo\":\"Síndrome de Down\"},{\"url\":\"http://www.elmundo.es/comunidad-valenciana/castellon/2018/03/20/5ab13338268e3e70498b45ab.html\",\"titulo\":\"Ascer afirma que las partes en la negociación del convenio colectivo siguen &quot;muy distanciadas&quot;\"},{\"url\":\"http://www.elmundo.es/comunidad-valenciana/castellon/2018/03/20/5ab16273e2704e94468b4739.html\",\"titulo\":\"Castellón y MicroBank conceden un millón de euros en microcréditos para el autoempleo y emprendimiento\"},{\"url\":\"http://www.elmundo.es/comunidad-valenciana/castellon/2018/03/20/5ab16a2ee2704e233f8b474d.html\",\"titulo\":\"Los municipios turísticos de Castellón temen la falta de policías locales en verano por la nueva ley autonómica\"},{\"url\":\"http://www.elmundo.es/comunidad-valenciana/castellon/2018/03/20/5ab1526be2704ea3408b473b.html\",\"titulo\":\"La UJI reduce su deuda de casi 43 millones de euros a menos de 13 en un año\"},{\"url\":\"http://www.elmundo.es/comunidad-valenciana/castellon/2018/03/20/5ab0d5f9e2704ede7c8b46a0.html\",\"titulo\":\"El interior de Castellón tirita con mínimas de -4 grados en Castellfort y rachas de viento de 95 km/h en Fredes\"},{\"url\":\"http://www.elmundo.es/comunidad-valenciana/castellon/2018/03/20/5ab15bb0e2704ee2308b4760.html\",\"titulo\":\"17 horas sin dormir: límite al volante\"},{\"url\":\"http://www.elmundo.es/comunidad-valenciana/castellon/2018/03/20/5ab108e8ca47410f078b45ee.html\",\"titulo\":\"El presidente de la Acadèmia Valenciana de la Llengua defiende como &quot;medievalista&quot; el topónimo &#039;Castelló&#039;\"},{\"url\":\"http://www.elmundo.es/comunidad-valenciana/2018/03/21/5ab14e8a468aeb850d8b461e.html\",\"titulo\":\"Pacto para desbloquear la ley de publicidad institucional: sin multas y sin el consejo de &#039;control&#039;\"},{\"url\":\"http://www.elmundo.es/comunidad-valenciana/castellon/2018/03/20/5ab13ebaca4741a55d8b4661.html\",\"titulo\":\"Castellón debatirá en el pleno la nueva ordenanza de regulación del ruido cuyos límites fijará  la ley estatal\"},{\"url\":\"http://www.elmundo.es/comunidad-valenciana/castellon/2018/03/20/5ab10a6e46163f263b8b4654.html\",\"titulo\":\"La Cámara concede sus Premios a la Exportación a 5 firmas y un galardón extraordinario a Dolores Cortés\"},{\"url\":\"http://www.elmundo.es/comunidad-valenciana/castellon/2018/03/20/5ab0ec4622601db1108b4616.html\",\"titulo\":\"Seguridad\"},{\"url\":\"http://www.elmundo.es/comunidad-valenciana/castellon/2018/03/20/5ab0e6f122601d94618b463e.html\",\"titulo\":\"Vila-real reformará la antigua Cámara Agraria para centralizar la actividad de fomento del empleo\"},{\"url\":\"http://www.elmundo.es/comunidad-valenciana/castellon/2018/03/20/5ab0e42c22601dc80b8b460d.html\",\"titulo\":\"Toque de atención del Síndic de Greuges al Hospital Provincial de Castellón por la falta de endocrino\"},{\"url\":\"http://www.elmundo.es/comunidad-valenciana/castellon/2018/03/20/5ab0df7eca474155408b4611.html\",\"titulo\":\"El incendio de Montán en Castellón, controlado con 40 hectáreas de matorral y pinar afectado\"},{\"url\":\"http://www.elmundo.es/comunidad-valenciana/castellon/2018/03/20/5ab0ddec46163fe86b8b463a.html\",\"titulo\":\"Vea en directo el pleno de la Diputación\"},{\"url\":\"http://www.elmundo.es/comunidad-valenciana/castellon/2018/03/20/5ab0da5522601d92298b460d.html\",\"titulo\":\"El PP de Castellón  renueva el 100% de sus juntas locales por unanimidad de sus bases\"},{\"url\":\"http://www.elmundo.es/comunidad-valenciana/castellon/2018/03/20/5ab0cac046163f5c4c8b4608.html\",\"titulo\":\"La segunda mano alienta al sector de la vivienda con un 22% más de compraventas en 2017 en Castellón\"},{\"url\":\"http://www.elmundo.es/comunidad-valenciana/castellon/2018/03/20/5ab0c7fb468aeb850d8b459d.html\",\"titulo\":\"La investigación al aeropuerto, sin fallo tras abonar el Consell el 60% de las ayudas a la concesionaria\"},{\"url\":\"http://www.elmundo.es/comunidad-valenciana/castellon/2018/03/19/5ab00ddb268e3eaf038b46f4.html\",\"titulo\":\"Diputación de Castellón cierra cuentas de 2017 con superávit de 15,8 millones\"},{\"url\":\"http://www.elmundo.es/comunidad-valenciana/castellon/2018/03/19/5aafdd4e268e3e4d088b4666.html\",\"titulo\":\"Estabilizado el incendio de Montán\"},{\"url\":\"http://www.elmundo.es/comunidad-valenciana/castellon/2018/03/18/5aaead10e2704ec37e8b461d.html\",\"titulo\":\"El Castellón remonta ante el Torre Levante para escalar al liderato en solitario (3-1)\"},{\"url\":\"http://www.elmundo.es/comunidad-valenciana/castellon/2018/03/18/5aae88fc46163fc3598b4617.html\",\"titulo\":\"Cuatro heridos por inhalación de humo y unos 50 evacuados por un incendio en un piso en Benicarló\"},{\"url\":\"http://www.elmundo.es/comunidad-valenciana/castellon/2018/03/18/5aae8aa6468aeb86788b45e9.html\",\"titulo\":\"50 Bomberos y 11 autobombas para la Cremà en la provincia de Castellón\"},{\"url\":\"http://www.elmundo.es/comunidad-valenciana/castellon/2018/03/17/5aad1c7dca474106468b457e.html\",\"titulo\":\"Hallan el cadáver de una recién nacida en una planta de residuos de Castellón\"},{\"url\":\"http://www.elmundo.es/comunidad-valenciana/castellon/2018/03/17/5aacf5b2468aeb410d8b4647.html\",\"titulo\":\"&#039;Calígula&#039; lleva al Principal de Castellón el absurdo, el sufrimiento y la lógica del poder\"},{\"url\":\"http://www.elmundo.es/comunidad-valenciana/castellon/2018/03/17/5aa94a31e5fdea904f8b458f.html\",\"titulo\":\"Acuerdos que dejan &quot;huellas&quot;\"},{\"url\":\"http://www.elmundo.es/comunidad-valenciana/castellon/2018/03/17/5aac56b222601dcc798b463f.html\",\"titulo\":\"Elijo mirar las estrellas\"},{\"url\":\"http://www.elmundo.es/comunidad-valenciana/castellon/2018/03/16/5aac1e7ce5fdea62548b4595.html\",\"titulo\":\"Club 53 se impone por cuarto año como mejor falla de Burriana y Don Bosco repite segundo puesto\"},{\"url\":\"http://www.elmundo.es/comunidad-valenciana/castellon/2018/03/16/5aac144ce5fdea3f4b8b459a.html\",\"titulo\":\"Detenido por llevar hachís y marihuana en un vehículo que conducía de forma temeraria en la AP-7\"},{\"url\":\"http://www.elmundo.es/comunidad-valenciana/castellon/2018/03/16/5aac12d522601de4408b4652.html\",\"titulo\":\"El Provincial de Castellón atiende en el hospital de día de salud mental infantil y juvenil a 110 pacientes\"},{\"url\":\"http://www.elmundo.es/comunidad-valenciana/castellon/2018/03/16/5aac12dee2704e38288b466d.html\",\"titulo\":\"La Diputación de Castellón invierte 2,3 millones en carreteras para evitar la despoblación rural\"},{\"url\":\"http://www.elmundo.es/comunidad-valenciana/castellon/2018/03/16/5aac0fe2e2704e92298b4663.html\",\"titulo\":\"Castellón ha aumentado la recogida de basura durante las fiestas de la Magdalena en 78.730 kilos\"},{\"url\":\"http://www.elmundo.es/comunidad-valenciana/castellon/2018/03/16/5aac0c28e2704ea9668b4627.html\",\"titulo\":\"Onda aspira a beneficiar a 100 vecinos con ayudas para derribar y rehabilitar casas en el casco histórico\"},{\"url\":\"http://www.elmundo.es/comunidad-valenciana/castellon/2018/03/16/5aac0967e2704e60138b4650.html\",\"titulo\":\"La IV Jornada Vilaemprèn se consolida como evento de referencia y &#039;diploma&#039; a una quincena de participantes\"},{\"url\":\"http://www.elmundo.es/comunidad-valenciana/castellon/2018/03/16/5aabea3322601df40b8b461a.html\",\"titulo\":\"El jugador del Villarreal Ruben Semedo seguirá en prisión tras no prosperar su recurso\"},{\"url\":\"http://www.elmundo.es/comunidad-valenciana/castellon/2018/03/16/5aab9cb846163fbf318b4598.html\",\"titulo\":\"El Villarreal tiene tomada la medida al &#039;Cholo&#039;\"},{\"url\":\"http://www.elmundo.es/comunidad-valenciana/castellon/2018/03/16/5aab9bbd468aebe41e8b45a2.html\",\"titulo\":\"El colegio San Cristóbal de Castellón, premiado en un concurso nacional de programación y robótica\"},{\"url\":\"http://www.elmundo.es/comunidad-valenciana/castellon/2018/03/16/5aab965c468aebf16a8b4591.html\",\"titulo\":\"La fundación Caja Castellón entrega 5 becas de investigación sobre el medio ambiente\"},{\"url\":\"http://www.elmundo.es/comunidad-valenciana/castellon/2018/03/16/5aab8cb8e5fdea86538b4633.html\",\"titulo\":\"La campaña Peix del Grau de Castellón para gente mayor llega a su recta final con gran éxito\"},{\"url\":\"http://www.elmundo.es/comunidad-valenciana/castellon/2018/03/16/5aab8a00268e3ea34b8b460b.html\",\"titulo\":\"El Aeroclub de Castellón aún sigue &#039;en el aire&#039; a un año del cambio de legislatura municipal\"},{\"url\":\"http://www.elmundo.es/comunidad-valenciana/castellon/2018/03/16/5aab8a3b46163fbb378b4585.html\",\"titulo\":\"La exportación cerámica escala un 40% en Argelia pero está a la mitad de los meses previos al bloqueo\"},{\"url\":\"http://www.elmundo.es/comunidad-valenciana/castellon/2018/03/16/5aaabbfb22601d4b378b4630.html\",\"titulo\":\"Las cosas que no cambian\"},{\"url\":\"http://www.elmundo.es/comunidad-valenciana/castellon/2018/03/15/5aaae493e5fdea92538b462c.html\",\"titulo\":\"Rivera: &#039;La Comunitat no merece ser noticia por Camps implicado en la caja B&#039;\"},{\"url\":\"http://www.elmundo.es/comunidad-valenciana/castellon/2018/03/15/5aaacd5ee2704ef8168b456f.html\",\"titulo\":\"Cinco denuncias en la provincia de Castellón por agresión a personal médico, todas a mujeres\"},{\"url\":\"http://www.elmundo.es/comunidad-valenciana/castellon/2018/03/15/5aaa6f4dca474108318b45f5.html\",\"titulo\":\"El bipartito de Castellón citará al consejo rector en días para expedientar al presidente de la Junta de Festes\"},{\"url\":\"http://www.elmundo.es/comunidad-valenciana/castellon/2018/03/15/5aaa68ccca4741b93e8b45dd.html\",\"titulo\":\"La falla Benicarló toca el cielo en su 45 aniversario\"},{\"url\":\"http://www.elmundo.es/comunidad-valenciana/castellon/2018/03/15/5aaa5cc022601d19478b45d5.html\",\"titulo\":\"Borriol estanca el instituto ante el desacuerdo por el solar\"},{\"url\":\"http://www.elmundo.es/comunidad-valenciana/castellon/2018/03/15/5aaa5a3422601dda568b45f0.html\",\"titulo\":\"Almassora alegará al Plan General de Castellón para crear un área logística\"},{\"url\":\"http://www.elmundo.es/comunidad-valenciana/castellon/2018/03/15/5aaa52be22601d035b8b45f0.html\",\"titulo\":\"El CD Castellón nombrará socio al Rey Felipe VI\"},{\"url\":\"http://www.elmundo.es/comunidad-valenciana/castellon/2018/03/15/5aaa4c8e22601d035b8b45df.html\",\"titulo\":\"La EOI de Vila-real no hipotecará los usos de la biblioteca universitaria\"},{\"url\":\"http://www.elmundo.es/comunidad-valenciana/castellon/2018/03/15/5aaa49b522601d513b8b45c7.html\",\"titulo\":\"Los empresarios del sector cerámico instan al Consell a activar el plan de vivienda\"},{\"url\":\"http://www.elmundo.es/comunidad-valenciana/castellon/2018/03/15/5aaa3e7022601dd9568b45ca.html\",\"titulo\":\"La asamblea de profesores asociados de la Universitat Jaume I, antes de Semana Santa\"},{\"url\":\"http://www.elmundo.es/comunidad-valenciana/castellon/2018/03/15/5aaa34cc22601d66648b45dd.html\",\"titulo\":\"Condenado a diez meses de cárcel por falsificar la firma de un amigo ciego para conseguir un préstamo\"},{\"url\":\"http://www.elmundo.es/comunidad-valenciana/castellon/2018/03/14/5aa97db0e5fdea16458b45ee.html\",\"titulo\":\"Vila-real impulsará con una guía  el lenguaje igualitario en la administración\"},{\"url\":\"http://www.elmundo.es/comunidad-valenciana/castellon/2018/03/14/5aa97750e5fdea0b368b460b.html\",\"titulo\":\"Más de 180.000 viajeros utilizaron el transporte público de Castellón durante la Magdalena\"}];</script><script type=\"text/javascript\">    var gptIsDisableInitialLoad = true;    var IsAPSEnabled = true;    var data = {\"networkId\":\"99071977\",\"divId\":\"div-gpt-ad-comunidad-valenciana_n\",\"customTargeting\":{},\"adSlots\":[{\"adUnit\":\"mun/comunidad-valenciana/n\",\"customTargeting\":{\"p\":[\"f\"]}},{\"adUnit\":\"mun/comunidad-valenciana/n\",\"sizes\":[[728,90],[728,250],[970,90],[970,250],[980,90],[980,180],[980,200],[980,250],[990,90],[990,200],[990,250],[1,1]],\"customTargeting\":{\"p\":[\"m\"]}},{\"adUnit\":\"mun/comunidad-valenciana/n\",\"sizes\":[[300,250],[300,300],[300,600],[1,1]],\"customTargeting\":{\"p\":[\"r\"]}},{\"adUnit\":\"mun/comunidad-valenciana/n\",\"sizes\":[[300,250],[300,300],[1,1]],\"customTargeting\":{\"p\":[\"rb\"]}},{\"adUnit\":\"mun/comunidad-valenciana/n\",\"sizes\":[[120,600],[160,600],[120,1000],[160,1000],[1,1]],\"customTargeting\":{\"p\":[\"si\"]}},{\"adUnit\":\"mun/comunidad-valenciana/n\",\"sizes\":[[120,600],[160,600],[120,1001],[160,1001],[1,1]],\"customTargeting\":{\"p\":[\"sd\"]}},{\"adUnit\":\"mun/comunidad-valenciana/n\",\"customTargeting\":{\"p\":[\"f2\"]}},{\"adUnit\":\"mun/comunidad-valenciana/n\",\"customTargeting\":{\"p\":[\"f3\"]}},{\"adUnit\":\"mun/comunidad-valenciana/n\",\"sizes\":[[300,100],[1,1]],\"customTargeting\":{\"p\":[\"b300x100\"]}},{\"adUnit\":\"mun/comunidad-valenciana/n\",\"sizes\":[[300,100],[1,1]],\"customTargeting\":{\"p\":[\"nata\"]}},{\"adUnit\":\"mun/comunidad-valenciana/n\",\"sizes\":[[300,100],[1,1]],\"customTargeting\":{\"p\":[\"natb\"]}},{\"adUnit\":\"mun/comunidad-valenciana/n\",\"sizes\":[[300,250],[300,300],[1,1]],\"customTargeting\":{\"p\":[\"rc\"]}}]};    googletag.cmd.push(function () {        data.customTargeting.t = [\\'castellon\\'];data.customTargeting.tag = [\\'castellon,comunidad-valenciana,sociedad\\'];data.customTargeting.ueid = [\\'NoUESeg\\'];window[\"ueDFPData\"] = data;function kruxretrieve(n) {    var m, k=\\'kxunidad_\\'+n;    if (window.localStorage) {        return window.localStorage[k] || \\'\\';    } else if (navigator.cookieEnabled) {        m = document.cookie.match(k+\\'=([^;]*)\\');        return (m && unescape(m[1])) || \\'\\';    } else {        return \\'\\';    }}data.customTargeting.kuid = \\'NoDefinido\\';data.customTargeting.ksegs = \\'NoDefinido\\';var kuser = kruxretrieve(\\'user\\');if (kuser) {    data.customTargeting.kuid = kuser;}var ksegments = kruxretrieve(\\'segs\\');if (ksegments) {    data.customTargeting.ksegs = ksegments.split(\\',\\');}data.adSlots.forEach(function (adSlot, i) {    var slotIndex = i + 1;    var adUnit = adSlot.adUnit ? adSlot.adUnit : data.adUnit;    adUnit = \\'/\\' + data.networkId + \\'/\\' + adUnit;    var divId = data.divId + \\'_\\' + adSlot.customTargeting.p.join(\\'_\\');divId += \\'_\\' + \\'5ab224f2268e3e7c168b46dd\\'    if (adSlot.sizes) {        gptadslots[slotIndex] = googletag.defineSlot(adUnit, adSlot.sizes, divId);    } else {        gptadslots[slotIndex] = googletag.defineOutOfPageSlot(adUnit, divId);    }    for (var key in adSlot.customTargeting) {        if (adSlot.customTargeting.hasOwnProperty(key)) {            gptadslots[slotIndex].setTargeting(key, adSlot.customTargeting[key]);        }    }    gptadslots[slotIndex].addService(googletag.pubads());});if ((typeof DisableenableSingleRequest === \\'undefined\\') || !DisableenableSingleRequest) {    googletag.pubads().enableSingleRequest();}for (var key in data.customTargeting) {    if (data.customTargeting.hasOwnProperty(key)) {        googletag.pubads().setTargeting(key, data.customTargeting[key]);    }}googletag.pubads().addEventListener(\\'slotRenderEnded\\',function(event){    var count = 0;    var interval = setInterval(function() {        count++;        if(event&&event.slot){            jQuery(window).trigger(\\'slotRendered\\',{\"slotId\":event.slot.getSlotElementId(), \"intervalId\": interval});            var container=jQuery(\"#\"+event.slot.getSlotElementId());            container.attr(\"style\",\"height:\"+container.height()+\"px;\");        }        if (count > 9) {            clearInterval(interval);        }    }, 500);});googletag.pubads().enableAsyncRendering();if (((typeof gptIsDisableInitialLoad !== \\'undefined\\') && gptIsDisableInitialLoad) || (typeof IsAPSEnabled !== \\'undefined\\' && IsAPSEnabled)) {    googletag.pubads().disableInitialLoad();}if (typeof pbjs !== \\'undefined\\') {\\tpbjs.que.push(function () {\\t\\tpbjs.setTargetingForGPTAsync();\\t});}googletag.enableServices();    });    if (typeof IsAPSEnabled !== \\'undefined\\' && IsAPSEnabled) {  apstag.init({    pubID: \\'3537\\',    adServer: \\'googletag\\',    bidTimeout: 1e3  });  var aps_data = {};  aps_data.slots = [];  data.adSlots.forEach(function (adSlot, i) {    var slotIndex = i + 1;    var adUnit = adSlot.adUnit ? adSlot.adUnit : data.adUnit;    adUnit = \\'/\\' + data.networkId + \\'/\\' + adUnit;    var divId = data.divId + \\'_\\' + adSlot.customTargeting.p.join(\\'_\\');divId += \\'_\\' + \\'5ab224f2268e3e7c168b46dd\\'    if (adSlot.sizes) {        //gptadslots[slotIndex] = googletag.defineSlot(adUnit, adSlot.sizes, divId);\\t\\tvar t = adSlot.sizes.filter(function (size) {\\t\\t\\treturn (size[0] !== 1) && (size[1] !== 1);\\t\\t});        aps_data.slots.push({ slotID: divId, slotName: adUnit, sizes: t});    } else {        //gptadslots[slotIndex] = googletag.defineOutOfPageSlot(adUnit, divId);    }    });  apstag.fetchBids(aps_data, function(bids) {    googletag.cmd.push(function() {      apstag.setDisplayBids();      googletag.pubads().refresh();        });  });}</script><div id=\\'div-gpt-ad-comunidad-valenciana_n_f_5ab224f2268e3e7c168b46dd\\' class=\"publicidad\"> <script type=\\'text/javascript\\'>googletag.cmd.push(function(){googletag.display(\\'div-gpt-ad-comunidad-valenciana_n_f_5ab224f2268e3e7c168b46dd\\');});</script></div><div id=\"fb-root\"></div><script>(function(d,s,id){var js,fjs=d.getElementsByTagName(s)[0];if(d.getElementById(id))return;js=d.createElement(s);js.id=id;js.src=\"//connect.facebook.net/es_ES/sdk.js#xfbml=1&version=v2.8&appId=279395918757488&status=true&cookie=true\";fjs.parentNode.insertBefore(js,fjs);}(document,\\'script\\',\\'facebook-jssdk\\'));</script><header class=\"site-header js-cnav-header main-section-header  site-header-news inside\" data-ue-model><div id=\"pixelcontabilizacionseg\" class=\"pixelcontabilizacion\" style=\"position:absolute;top:0px;left:0px;width:1px;height:1px;z-index:1\"><img sRc=\"//s.el-mundo.net/e.gif?p=elmundo.es&t=1521632081&s_fid=&f=347c8b6280cec361d8316c704f7f67ff\" width=\"1\" height=\"1\" alt/></div><div class=\"container-header\"><div class=\"site-logo\"><div class=\"logo\"><a href=\"http://www.elmundo.es\" title=\"El Mundo\"><span class=\"hidden-content\">El Mundo</span></a></div><aside class=\"tools-header\"><ul class=\"tools-header-corporative\"><li class=\"tools-corporative-subscription\"><a href=\"https://clk.tradedoubler.com/click?p=271574&a=2404199&g=23242684\" title=\"Suscripciones El Mundo\" class=\"tools-corporative-link\">Suscr&iacute;bete</a></li><li class=\"tools-corporative-login toolbar-login nav-login\"><a href=\\'#\\' title=\\'Login\\' class=\\'tools-corporative-link js-loginClick js-loginButton\\'><span>Iniciar sesi&oacute;n</span><i class=\"icon-login\"></i></a><script>jQuery(function(){if(location.href.indexOf(\"elmundo.es/yodona\")!==-1){jQuery(\".js-loginClick\").attr(\"ue-attr-csp\",\"10081\");}else if(location.href.indexOf(\"expansion.com/fueradeserie\")!==-1){jQuery(\".js-loginClick\").attr(\"ue-attr-csp\",\"10082\");}});</script> </li></ul></aside><div id=\"pixelcontabilizacionNLalerta\" class=\"pixelcontabilizacion\" style=\"position:absolute;top:0px;left:0px;width:1px;height:1px;z-index:1\"><img src=\"https://impes.tradedoubler.com/imp?type(inv)g(23242684)a(2404199)\" width=\"1\" height=\"1\" alt/></div></div></div><div class=\"nav-container js-desdefixed js-hastafixed\"><div class=\"container-header\"><nav role=\"navigation\" class=\"js-navTab\"><ul class=\"nav-tabs js-mainNavigation\"><li class=\"tab tab-national\" data-section=\"espana\"><a href=\"http://www.elmundo.es/espana.html?intcmp=MENUHOM24801&s_kw=espana\" data-menu-active=\"espana\">España</a><div class=\"tab-container\" id=\"submenuNational\"><ul class=\"tab-content\"><li><h3 class=\"tab-header\">Secciones</h3></li><li class=\"tab-list\"><a href=\"http://www.elmundo.es/espana.html?intcmp=MENUDES22301&s_kw=espana\" class=\"tab-list-header\">Portada</a></li><li class=\"tab-list\"><a href=\"http://www.elmundo.es/madrid.html?intcmp=MENUDES22301&s_kw=madrid\" class=\"tab-list-header\">Madrid</a></li><li class=\"tab-list\"><a href=\"http://www.elmundo.es/andalucia.html?intcmp=MENUDES22301&s_kw=andalucia\" class=\"tab-list-header\">Andalucía</a><ul><li class=\"tab-list-link\"><a href=\"http://www.elmundo.es/andalucia/sevilla.html?intcmp=MENUDES22301&s_kw=sevilla\">Sevilla</a></li><li class=\"tab-list-link\"><a href=\"http://www.elmundo.es/andalucia/malaga.html?intcmp=MENUDES22301&s_kw=malaga\">Málaga</a></li><li class=\"tab-list-link\"><a href=\"http://www.elmundo.es/andalucia/el-caminante.html?intcmp=MENUDES22301&s_kw=el_caminante\">El Caminante</a></li></ul></li><li class=\"tab-list\"><a href=\"http://www.elmundo.es/baleares.html?intcmp=MENUDES22301&s_kw=baleares\" class=\"tab-list-header\">Baleares</a><ul><li class=\"tab-list-link\"><a href=\"http://www.elmundo.es/baleares/ibiza.html?intcmp=MENUDES22301&s_kw=ibiza\">Ibiza</a></li></ul></li><li class=\"tab-list\"><a href=\"http://www.elmundo.es/catalunya.html?intcmp=MENUDES22301&s_kw=catalunya\" class=\"tab-list-header\">Cataluña</a></li><li class=\"tab-list\"><a href=\"http://www.elmundo.es/comunidad-valenciana.html?intcmp=MENUDES22301&s_kw=comunidad-valenciana\" class=\"tab-list-header\">Comunidad Valenciana</a><ul><li class=\"tab-list-link\"><a href=\"http://www.elmundo.es/comunidad-valenciana/alicante.html?intcmp=MENUDES22301&s_kw=alicante\">Alicante</a></li><li class=\"tab-list-link\"><a href=\"http://www.elmundo.es/comunidad-valenciana/castellon.html?intcmp=MENUDES22301&s_kw=castellon\">Castellón</a></li></ul></li><li class=\"tab-list\"><a href=\"http://www.elmundo.es/pais-vasco.html?intcmp=MENUDES22301&s_kw=pais-vasco\" class=\"tab-list-header\">País Vasco</a></li></ul></div></li><li class=\"tab tab-opinion\" data-section=\"opinion\"><a href=\"http://www.elmundo.es/opinion.html?intcmp=MENUHOM24801&s_kw=opinion\" data-menu-active=\"opinion\">Opinión</a><div class=\"tab-container\" id=\"submenuOpinion\"><ul class=\"tab-content\"><li><h3 class=\"tab-header\">Secciones</h3></li><li class=\"tab-list\"><a href=\"http://www.elmundo.es/opinion.html?intcmp=MENUDES22301&s_kw=opinion\" class=\"tab-list-header\">Portada</a></li><li class=\"tab-list\"><a href=\"http://www.elmundo.es/opinion/editorial.html?intcmp=MENUDES22301&s_kw=editorial\" class=\"tab-list-header\">Editoriales</a></li><li class=\"tab-list\"><a href=\"http://www.elmundo.es/opinion/columnistas.html?intcmp=MENUDES22301&s_kw=columnistas\" class=\"tab-list-header\">Columnistas</a></li><li class=\"tab-list\"><a href=\"http://www.elmundo.es/blogs.html?intcmp=MENUDES22301&s_kw=blogs\" class=\"tab-list-header\">Blogs</a></li></ul></div></li><li class=\"tab tab-economics\" data-section=\"economia\"><a href=\"http://www.elmundo.es/economia.html?intcmp=MENUHOM24801&s_kw=economia\" data-menu-active=\"economia\">Economía</a><div class=\"tab-container\" id=\"submenuEconomics\"><ul class=\"tab-content\"><li><h3 class=\"tab-header\">Secciones</h3></li><li class=\"tab-list\"><a href=\"http://www.elmundo.es/economia.html?intcmp=MENUDES22301&s_kw=economia\" class=\"tab-list-header\">Portada</a></li><li class=\"tab-list\"><a href=\"http://www.elmundo.es/economia/macroeconomia.html?intcmp=MENUDES22301&s_kw=macroeconomia\" class=\"tab-list-header\">Macroeconomía</a></li><li class=\"tab-list\"><a href=\"http://www.elmundo.es/economia/empresas.html?intcmp=MENUDES22301&s_kw=empresas\" class=\"tab-list-header\">Empresas</a></li><li class=\"tab-list\"><a href=\"http://www.elmundo.es/economia/bolsa/indices.html?intcmp=MENUDES22301&s_kw=bolsa\" class=\"tab-list-header\">Bolsa</a><ul><li class=\"tab-list-link\"><a href=\"http://www.elmundo.es/economia/bolsa/indices/ibex35_I.IB.html?intcmp=MENUDES22301&s_kw=ibex35\">Ibex 35</a></li><li class=\"tab-list-link\"><a href=\"http://www.elmundo.es/economia/bolsa/indices/dowjones_I.NY.html?intcmp=MENUDES22301&s_kw=dowjones\">Dow Jones</a></li><li class=\"tab-list-link\"><a href=\"http://www.elmundo.es/economia/bolsa/indices/nasdaq100_I.QQ.html?intcmp=MENUDES22301&s_kw=nasdaq\">Nasdaq</a></li></ul></li><li class=\"tab-list\"><a href=\"http://www.elmundo.es/economia/ahorro-y-consumo.html?intcmp=MENUDES22301&s_kw=ahorro-y-consumo\" class=\"tab-list-header\">Ahorro y Consumo</a></li><li class=\"tab-list\"><a href=\"http://www.elmundo.es/economia/vivienda.html?intcmp=MENUDES22301&s_kw=vivienda\" class=\"tab-list-header\">Vivienda</a></li><li class=\"tab-list\"><a href=\"http://www.elmundo.es/economia/innovadores.html?intcmp=MENUDES22301&s_kw=innovadores\" class=\"tab-list-header\">INnovadores</a></li></ul></div></li><li class=\"tab tab-world\" data-section=\"internacional\"><a href=\"http://www.elmundo.es/internacional.html?intcmp=MENUHOM24801&s_kw=internacional\" data-menu-active=\"internacional\">Internacional</a><div class=\"tab-container\" id=\"submenuInternacional\"><ul class=\"tab-content\"><li><h3 class=\"tab-header\">Secciones</h3></li><li class=\"tab-list\"><a href=\"http://www.elmundo.es/internacional.html?intcmp=MENUDES22301&s_kw=internacional\" class=\"tab-list-header\">Portada</a></li><li class=\"tab-list\"><a href=\"http://www.elmundo.es/internacional/america.html?intcmp=MENUDES22301&s_kw=america\" class=\"tab-list-header\">América</a></li><li class=\"tab-list\"><a href=\"http://www.elmundo.es/internacional/europa.html?intcmp=MENUDES22301&s_kw=europa\" class=\"tab-list-header\">Europa</a></li><li class=\"tab-list\"><a href=\"http://www.elmundo.es/internacional/asia.html?intcmp=MENUDES22301&s_kw=asia\" class=\"tab-list-header\">Asia</a></li><li class=\"tab-list\"><a href=\"http://www.elmundo.es/internacional/africa.html?intcmp=MENUDES22301&s_kw=africa\" class=\"tab-list-header\">África</a></li><li class=\"tab-list\"><a href=\"http://www.elmundo.es/internacional/oceania.html?intcmp=MENUDES22301&s_kw=oceania\" class=\"tab-list-header\">Oceanía</a></li></ul></div></li><li class=\"tab tab-sports\" data-section=\"deportes\"><a href=\"http://www.elmundo.es/deportes.html?intcmp=MENUHOM24801&s_kw=deportes\" data-menu-active=\"deportes\">Deportes</a><div class=\"tab-container\" id=\"submenuSports\"><ul class=\"tab-content\"><li><h3 class=\"tab-header\">Secciones</h3></li><li class=\"tab-list\"><a href=\"http://www.elmundo.es/deportes.html?intcmp=MENUDES22301&s_kw=deportes\" class=\"tab-list-header\">Portada</a></li><li class=\"tab-list\"><a href=\"http://www.elmundo.es/deportes/futbol.html?intcmp=MENUDES22301&s_kw=futbol\" class=\"tab-list-header\">Fútbol</a><ul><li class=\"tab-list-link\"><a href=\"http://www.elmundo.es/deportes/futbol/primera-division.html?intcmp=MENUDES22301&s_kw=primera_division\" title=\"LaLiga Santander\">LaLiga Santander</a></li><li class=\"tab-list-link\"><a href=\"http://www.elmundo.es/deportes/futbol/segunda-division.html?intcmp=MENUDES22301&s_kw=segunda-division\" title=\"LaLiga 123\">LaLiga 123</a></li><li class=\"tab-list-link\"><a href=\"http://www.elmundo.es/deportes/futbol/champions-league.html?intcmp=MENUDES22301&s_kw=champios_league\" title=\"Champions League\">Champions League</a></li><li class=\"tab-list-link\"><a href=\"http://www.elmundo.es/deportes/futbol/europa-league/calendario.html?intcmp=MENUDES22301&s_kw=europa_league\" title=\"Europa League\">Europa League</a></li><li class=\"tab-list-link\"><a href=\"http://www.elmundo.es/deportes/futbol/copa-del-rey.html?intcmp=MENUDES22301&s_kw=copa_del_rey\" title=\"Copa del Rey\">Copa del Rey</a></li><li class=\"tab-list-link\"><a href=\"http://www.elmundo.es/deportes/futbol/bundesliga.html?intcmp=MENUDES22301&s_kw=bundesliga\" title=\"Alemania\">Alemania</a></li><li class=\"tab-list-link\"><a href=\"http://www.elmundo.es/deportes/futbol/premier-league.html?intcmp=MENUDES22301&s_kw=premier_league\" title=\"Premier League\">Premier League</a></li><li class=\"tab-list-link\"><a href=\"http://www.elmundo.es/deportes/futbol/serie-a.html?intcmp=MENUDES22301&s_kw=serie_a\" title=\"Italia\">Italia</a></li><li class=\"tab-list-link\"><a href=\"http://www.elmundo.es/elmundodeporte/futbol/liga-segunda-b/grupo-1.html?intcmp=MENUDES22301&s_kw=liga_segunda\" title=\"Segunda B\">Segunda B</a></li></ul></li><li class=\"tab-list\"><a href=\"http://www.elmundo.es/deportes/baloncesto.html?intcmp=MENUDES22301&s_kw=baloncesto\" class=\"tab-list-header\">Baloncesto</a><ul><li class=\"tab-list-link\"><a href=\"http://www.elmundo.es/deportes/baloncesto/acb.html?intcmp=MENUDES22301&s_kw=acb\">ACB</a></li><li class=\"tab-list-link\"><a href=\"http://www.elmundo.es/deportes/baloncesto/nba.html?intcmp=MENUDES22301&s_kw=nba\">NBA</a></li><li class=\"tab-list-link\"><a href=\"http://www.elmundo.es/deportes/baloncesto/euroliga.html?intcmp=MENUDES22301&s_kw=euroliga\">Euroliga</a></li><li class=\"tab-list-link\"><a href=\"http://www.elmundo.es/deportes/baloncesto/copa-del-rey/calendario.html?intcmp=MENUDES22301&s_kw=copa_del_rey_data\">Copa Rey</a></li><li class=\"tab-list-link\"><a href=\"http://www.elmundo.es/deportes/baloncesto/eurobasket.html?intcmp=MENUDES22301&s_kw=eurobasket\">Eurobasket</a></li></ul></li><li class=\"tab-list\"><a href=\"http://www.elmundo.es/deportes/ciclismo.html?intcmp=MENUDES22301&s_kw=ciclismo\" class=\"tab-list-header\">Ciclismo</a><ul><li class=\"tab-list-link\"><a href=\"http://www.elmundo.es/deportes/ciclismo/tour-de-francia.html?intcmp=MENUDES22301&s_kw=tour_de_francia\">Tour de Francia</a></li><li class=\"tab-list-link\"><a href=\"http://www.elmundo.es/deportes/ciclismo/giro-de-italia.html?intcmp=MENUDES22301&s_kw=giro_de_italia\">Giro de Italia</a></li><li class=\"tab-list-link\"><a href=\"http://www.elmundo.es/deportes/ciclismo/vuelta-a-espana.html?intcmp=MENUDES22301&s_kw=vuelta_a_espana\">Vuelta a España</a></li></ul></li><li class=\"tab-list\"><a href=\"http://www.elmundo.es/deportes/tenis.html?intcmp=MENUDES22301&s_kw=tenis\" class=\"tab-list-header\">Tenis</a><ul><li class=\"tab-list-link\"><a href=\"http://www.elmundo.es/elmundodeporte/tenis/roland-garros/?intcmp=MENUDES22301&s_kw=roland_garros\">Roland Garros</a></li><li class=\"tab-list-link\"><a href=\"http://www.elmundo.es/deportes/tenis/open-de-australia.html?intcmp=MENUDES22301&s_kw=open\">Open Australia</a></li><li class=\"tab-list-link\"><a href=\"http://www.elmundo.es/elmundodeporte/tenis/wimbledon/?intcmp=MENUDES22301&s_kw=wimbledon\">Wimbledon</a></li><li class=\"tab-list-link\"><a href=\"http://www.elmundo.es/elmundodeporte/tenis/us-open/?intcmp=MENUDES22301&s_kw=us_open\">US Open</a></li></ul></li><li class=\"tab-list\"><a href=\"http://www.elmundo.es/deportes/formula-1.html?intcmp=MENUDES22301&s_kw=formula-1\" class=\"tab-list-header\">Fórmula 1</a></li><li class=\"tab-list\"><a href=\"http://www.elmundo.es/deportes/motociclismo.html?intcmp=MENUDES22301&s_kw=motociclismo\" class=\"tab-list-header\">Motociclismo</a></li><li class=\"tab-list\"><a href=\"http://www.elmundo.es/deportes/mas-deporte.html?intcmp=MENUDES22301&s_kw=mas-deporte\" class=\"tab-list-header\">Más deporte</a></li></ul></div></li><li class=\"tab tab-culture\" data-section=\"cultura\"><a href=\"http://www.elmundo.es/cultura.html?intcmp=MENUHOM24801&s_kw=cultura\" data-menu-active=\"cultura\">Cultura</a><div class=\"tab-container\" id=\"submenuCulture\"><ul class=\"tab-content\"><li><h3 class=\"tab-header\">Secciones</h3></li><li class=\"tab-list\"><a href=\"http://www.elmundo.es/cultura.html?intcmp=MENUDES22301&s_kw=cultura\" class=\"tab-list-header\">Portada</a></li><li class=\"tab-list\"><a href=\"http://www.elmundo.es/cultura/cine.html?intcmp=MENUDES22301&s_kw=cine\" class=\"tab-list-header\">Cine</a></li><li class=\"tab-list\"><a href=\"http://www.elmundo.es/cultura/musica.html?intcmp=MENUDES22301&s_kw=musica\" class=\"tab-list-header\">Música</a></li><li class=\"tab-list\"><a href=\"http://www.elmundo.es/cultura/literatura.html?intcmp=MENUDES22301&s_kw=literatura\" class=\"tab-list-header\">Literatura</a></li><li class=\"tab-list\"><a href=\"http://www.elmundo.es/cultura/comic.html?intcmp=MENUDES22301&s_kw=comic\" class=\"tab-list-header\">Cómic</a></li><li class=\"tab-list\"><a href=\"http://www.elmundo.es/cultura/toros.html?intcmp=MENUDES22301&s_kw=toros\" class=\"tab-list-header\">Toros</a></li><li class=\"tab-list\"><a href=\"http://www.elmundo.es/cultura/teatro.html?intcmp=MENUDES22301&s_kw=teatro\" class=\"tab-list-header\">Teatro</a></li><li class=\"tab-list\"><a href=\"http://www.elmundo.es/cultura/danza.html?intcmp=MENUDES22301&s_kw=danza\" class=\"tab-list-header\">Danza</a></li></ul></div></li><li class=\"tab tab-tv\" data-section=\"television\"><a href=\"http://www.elmundo.es/television.html?intcmp=MENUHOM24801&s_kw=television\" data-menu-active=\"television\">Tv</a><div class=\"tab-container\" id=\"submenuTelevision\"><ul class=\"tab-content\"><li><h3 class=\"tab-header\">Secciones</h3></li><li class=\"tab-list\"><a href=\"http://www.elmundo.es/television.html?intcmp=MENUDES22301&s_kw=television\" class=\"tab-list-header\">Portada</a></li><li class=\"tab-list\"><a href=\"http://www.elmundo.es/television/medios.html?intcmp=MENUDES22301&s_kw=medios\" class=\"tab-list-header\">Medios</a></li><li class=\"tab-list\"><a href=\"http://www.elmundo.es/television/programacion-tv/?intcmp=MENUDES22301&s_kw=program_tv\" class=\"tab-list-header\">Guía TV - Programación</a></li></ul></div></li><li class=\"tab tab-science\" data-section=\"ciencia-y-salud\"><a href=\"http://www.elmundo.es/ciencia-y-salud.html?intcmp=MENUHOM24801$s_kw=ciencia-salud\" data-menu-active=\"ciencia-y-salud\">Ciencia y Salud</a></li><li class=\"tab tab-technology\" data-section=\"tecnologia\"><a href=\"http://www.elmundo.es/tecnologia.html?intcmp=MENUHOM24801&s_kw=tecnologia\" data-menu-active=\"tecnologia\">Tecnología</a><div class=\"tab-container\" id=\"submenuTechnology\"><ul class=\"tab-content\"><li><h3 class=\"tab-header\">Secciones</h3></li><li class=\"tab-list\"><a href=\"http://www.elmundo.es/tecnologia.html?intcmp=MENUDES22301&s_kw=tecnologia\" class=\"tab-list-header\">Portada</a></li><li class=\"tab-list\"><a href=\"http://www.elmundo.es/blogs/elmundo/el-gadgetoblog/?intcmp=MENUDES22301&s_kw=gadgets\" class=\"tab-list-header\">Gadgets</a></li><li class=\"tab-list\"><a href=\"http://www.elmundo.es/t/vi/videojuegos.html?intcmp=MENUDES22301&s_kw=videojuegos\" class=\"tab-list-header\">Videojuegos</a></li></ul></div></li><li class=\"tab tab-papel\" data-section=\"papel\"><a href=\"http://www.elmundo.es/papel.html?intcmp=MENUHOM24801&s_kw=papel\" data-menu-active=\"papel\">Papel</a></li><li class=\"menu\" data-insertar><div class=\"nav-toggle\"><a href=\"http://www.elmundo.es/menu.html\" class=\"btn-nav-toggle js-supermenu-portada\" data-menu-section-path-click=\"http://www.elmundo.es/em/supermenu-portada.html\"><span class=\"icon-text\" data-click-role=\"cambiarIconos\">Más<i class=\"icon-arrow_down_12x12_a\"></i></span><span class=\"icon-text\" data-click-role=\"cambiarIconos\">Cerrar<i class=\"icon-close_12x12_d\"></i></span></a></div></li></ul></nav><div class=\"header-search\" aria-label=\"Buscador\"><form action=\"http://buscador.elmundo.es/perl/busca-generico.html\" method=\"get\" class=\"js-search-portada\" role=\"search\"><input type=\"search\" name=\"cadena\" placeholder=\"Buscar en elmundo.es\" title=\"Buscar en elmundo.es\"><input type=\"hidden\" name=\"donde\" value=\"11\" id=\"enelmundoes\"><input value name=\"b_avanzada\" type=\"hidden\"><div class=\"search-btn js-searchClick-portada\"><a href=\"http://ariadna.elmundo.es/buscador/archivo.html\" title=\"Buscador El Mundo\"><span><i class=\"icon-search_16x16_a\"></i><strong>Buscar</strong></span></a></div><span class=\"close-btn js-close-btn-portada\"><i class=\"icon-close_16x16_a\"></i></span></form></div></div></div><div class=\"breadcrumbs castellon\"><div class=\"container-header\"><div class=\"clearfix \"><ul itemscope itemtype=\"http://schema.org/BreadcrumbList\" class=\"tab-breadcrumb js-containerbreadcrumb\"><li itemprop=\"itemListElement\" itemscope itemtype=\"http://schema.org/ListItem\" class=\"home\" id=\"bread-0\"><a itemscope itemtype=\"http://schema.org/Thing\" itemprop=\"item\" title=\"Inicio\" href=\"http://www.elmundo.es\"><span class=\"hidden-content\">Volver a:&nbsp; </span><span itemprop=\"name\">Inicio</span></a><span class=\"arrow\"></span><meta itemprop=\"position\" content=\"1\"/></li><li itemprop=\"itemListElement\" itemscope itemtype=\"http://schema.org/ListItem\" class=\"first-level\" id=\"bread-1\"><a itemscope itemtype=\"http://schema.org/Thing\" itemprop=\"item\" title=\"España\" href=\"http://www.elmundo.es/espana.html?intcmp=MENUMIGA01&amp;s_kw=espana\"><span class=\"hidden-content\">Volver a:&nbsp; </span><span itemprop=\"name\">España</span></a><span class=\"arrow\"></span><meta itemprop=\"position\" content=\"2\"/></li><li itemprop=\"itemListElement\" itemscope itemtype=\"http://schema.org/ListItem\" class=\"second-level\" id=\"bread-2\"><a itemscope itemtype=\"http://schema.org/Thing\" itemprop=\"item\" title=\"Comunidad Valenciana\" href=\"http://www.elmundo.es/comunidad-valenciana.html?intcmp=MENUMIGA01&amp;s_kw=comunidad-valenciana\"><span class=\"hidden-content\">Volver a:&nbsp; </span><span itemprop=\"name\">Comunidad Valenciana</span></a><span class=\"arrow\"></span><meta itemprop=\"position\" content=\"3\"/></li><li itemprop=\"itemListElement\" itemscope itemtype=\"http://schema.org/ListItem\" class=\"third-level\" id=\"bread-3\"><a itemscope itemtype=\"http://schema.org/Thing\" itemprop=\"item\" title=\"Castellón\" href=\"http://www.elmundo.es/comunidad-valenciana/castellon.html?intcmp=MENUMIGA01&amp;s_kw=castellon\"><span class=\"hidden-content\">Volver a:&nbsp; </span><span itemprop=\"name\">Castellón</span></a><meta itemprop=\"position\" content=\"4\"/></li></ul></div><label for=\"show-more-breadcrumb\" class=\" dropdown-submenu dropdown-more-breadcrumb js-botonera-more\"><span class=\"show-more-breadcrumb-open\">Más<i class=\"iconsvg iconsvg-more-b\"></i></span><span class=\"show-more-breadcrumb-close no-visible\">Cerrar<i class=\"iconsvg iconsvg-close-b\"></i></span></label><div class=\"dropdown-container no-visible\" data-items><ul class=\"dropdown-content\"></ul></div><div class=\"tab-news js-breadcrumbChildren\"><span class=\"tab-news-title js-newsTitle\"></span><aside class=\"aside-tools\"><ul class=\"socialMedia js_socialMedia\"><li><i class=\"icon-facebook icon-facebook_36_d js-icon-facebook\"></i><span class=\"hidden-content\">Compartir en Facebook</span></li><li><i class=\"icon-twitter icon-twitter_36_d js-icon-twitter\"></i><span class=\"hidden-content\">Compartir en Twitter</span></li> <li onclick=\"envioSC(\\'Enviar\\');\"><i class=\"icon-mail icon-mail_36_d js-icon-mail\"></i><span class=\"hidden-content\">Enviar por email</span></li></ul></aside></div></div></div><div class=\"percentage-bar-container\"><div class=\"percentage-bar\" id=\"js_progressBar\"></div></div></header><main role=\"main\" class=\"main news js_navContinua\" data-ue-contenido id=\"js_5ab224f2268e3e7c168b46dd\"><div class=\"skin-ad\"></div><div class=\"container\"><script>var ueDataPage={rootSection:\"default\",sectionPrettyName:\"Castellón\",portal:\"elmundo\",ct:\"n\",model:\"castellon\",contentId:\\'5ab224f2268e3e7c168b46dd\\',breadcrumb:\\'<ul itemscope=\"\" itemtype=\"http://schema.org/BreadcrumbList\" class=\"tab-breadcrumb js-containerbreadcrumb\"><li itemprop=\"itemListElement\" itemscope=\"\" itemtype=\"http://schema.org/ListItem\" class=\"home\" id=\"bread-0\"><a itemscope=\"\" itemtype=\"http://schema.org/Thing\" itemprop=\"item\" title=\"Inicio\" href=\"http://www.elmundo.es\"><span class=\"hidden-content\">Volver a:&nbsp; </span><span itemprop=\"name\">Inicio</span></a><span class=\"arrow\"></span><meta itemprop=\"position\" content=\"1\" /></li><li itemprop=\"itemListElement\" itemscope=\"\" itemtype=\"http://schema.org/ListItem\" class=\"first-level\" id=\"bread-1\"><a itemscope=\"\" itemtype=\"http://schema.org/Thing\" itemprop=\"item\" title=\"España\" href=\"http://www.elmundo.es/espana.html?intcmp=MENUMIGA01&amp;s_kw=espana\"><span class=\"hidden-content\">Volver a:&nbsp; </span><span itemprop=\"name\">España</span></a><span class=\"arrow\"></span><meta itemprop=\"position\" content=\"2\" /></li><li itemprop=\"itemListElement\" itemscope=\"\" itemtype=\"http://schema.org/ListItem\" class=\"second-level\" id=\"bread-2\"><a itemscope=\"\" itemtype=\"http://schema.org/Thing\" itemprop=\"item\" title=\"Comunidad Valenciana\" href=\"http://www.elmundo.es/comunidad-valenciana.html?intcmp=MENUMIGA01&amp;s_kw=comunidad-valenciana\"><span class=\"hidden-content\">Volver a:&nbsp; </span><span itemprop=\"name\">Comunidad Valenciana</span></a><span class=\"arrow\"></span><meta itemprop=\"position\" content=\"3\" /></li><li itemprop=\"itemListElement\" itemscope=\"\" itemtype=\"http://schema.org/ListItem\" class=\"third-level\" id=\"bread-3\"><a itemscope=\"\" itemtype=\"http://schema.org/Thing\" itemprop=\"item\" title=\"Castellón\" href=\"http://www.elmundo.es/comunidad-valenciana/castellon.html?intcmp=MENUMIGA01&amp;s_kw=castellon\"><span class=\"hidden-content\">Volver a:&nbsp; </span><span itemprop=\"name\">Castellón</span></a><meta itemprop=\"position\" content=\"4\" /></li></ul>\\',children:\\'\\',numComments:\\'0\\',rrss:{img:\"https://e00-elmundo.uecdn.es/assets/multimedia/imagenes/2018/03/21/15216238656792.jpg\",summary:\"\",viaTwitter:\"elmundoes\"}}</script><article class=\"news-item\" itemscope itemtype=\"http://schema.org/NewsArticle\"><meta itemprop=\"mainEntityOfPage\" content=\"http://www.elmundo.es/comunidad-valenciana/castellon/2018/03/21/5ab224f2268e3e7c168b46dd.html\"><span class=\"section-title-group\"><span class=\"section-type\"><a href=\"http://www.elmundo.es/comunidad-valenciana/castellon.html\">Castellón</a></span></span><div class=\"content-ad\"><div class=\"ad-item-990\"><div id=\\'div-gpt-ad-comunidad-valenciana_n_m_5ab224f2268e3e7c168b46dd\\' class=\"publicidad\"><script type=\\'text/javascript\\'>googletag.cmd.push(function(){googletag.display(\\'div-gpt-ad-comunidad-valenciana_n_m_5ab224f2268e3e7c168b46dd\\');});</script></div></div></div><div class=\"titles\"><h1 itemprop=\"headline\" class=\"js-headline\">La nueva norma de ruido de Castellón fija el horario \\'diurno\\' hasta las 23.00 horas</h1><div class=\"kicker\"><h2> SOCIEDAD</h2><span>Implica poder emitir hasta 65 decibelios (dB) de contaminación acústica en la calle</span></div></div><div class=\"row content sharing-tools\"><ul><li class=\"signatures-container\"><address class=\"news-author\"><div itemprop=\"publisher\" itemscope itemtype=\"https://schema.org/Organization\"><div itemprop=\"logo\" itemscope itemtype=\"https://schema.org/ImageObject\"><meta itemprop=\"url\" content=\"https://e00-elmundo.uecdn.es/assets/desktop/master/img/iconos/elmundo.png\"></div><meta itemprop=\"name\" content=\"ElMundo\"></div><ul class=\"author\" itemprop=\"author\" itemscope itemtype=\"http://schema.org/Person\"><li itemprop=\"name\" class=\"author-name\"><strong>C. P.</strong></li><li itemprop=\"address\" itemscope itemtype=\"http://schema.org/PostalAddress\" class=\"author-city\"><span itemprop=\"addressLocality\"> Castellón</span></li></ul></address></li><li class=\"social-networks-container\"><ul class=\"js_socialMedia\"><li><i class=\"icon-facebook_30_a js-icon-facebook\"></i><span class=\"hidden-content\">Compartir en Facebook</span></li><li><i class=\"icon-twitter_30_a js-icon-twitter\"></i><span class=\"hidden-content\">Compartir en Twitter</span></li><li onclick=\"envioSC(\\'Enviar\\');\"><i class=\"icon-mail_30_a js-icon-mail\"></i><span class=\"hidden-content\">Enviar por email</span></li></ul></li><li class=\"date-container\"><meta itemprop=\"datePublished\" content=\"2018-03-21T09:25:16Z\"><time datetime=\"2018-03-21T09:25:17Z\" class=\"date\" itemprop=\"dateModified\">21mar.2018<strong>10:25</strong></time></li></ul></div><div class=\"row content cols-70-30\" itemprop=\"articleBody\"><figure class=\"multimedia-item image\" itemprop=\"image\" itemscope itemtype=\"http://schema.org/ImageObject\"><div class=\"container-image\"><img src=\"https://e00-elmundo.uecdn.es/assets/multimedia/imagenes/2018/03/21/15216238656792.jpg\" class=\"full-image\" itemprop=\"url\" alt/></div><figcaption class=\"caption\" itemprop=\"description\"><i class=\"icon-foto_16_g\"></i>Las Tascas, el enclave más polémico en materia de contaminación acústica. <span itemprop=\"author\" itemscope itemtype=\"http://schema.org/Person\"></span><span itemprop=\"name\">JUAN MARTÍ</span></figcaption></figure><aside class=\"aside-tools byline-tools\"><div class=\"content-ad\"><div class=\"ad-item-300\"><div id=\\'div-gpt-ad-comunidad-valenciana_n_b300x100_5ab224f2268e3e7c168b46dd\\' class=\"publicidad\"><script type=\\'text/javascript\\'>googletag.cmd.push(function(){googletag.display(\\'div-gpt-ad-comunidad-valenciana_n_b300x100_5ab224f2268e3e7c168b46dd\\');});</script></div></div></div><aside class=\"aside-block js_fixed\"><a href=\"#ancla_comentarios\" class=\"comments-btn js-botonComentarios-5ab224f2268e3e7c168b46dd\"><span class=\"left\"><i class=\"icon-comments_24x20_a\"></i><strong>0</strong><span class=\"hidden-content\"> comentarios</span></span><span class=\"right\"><strong>Comentar</strong><i class=\"icon-forward_8x16_a\"></i></span></a><div class=\"content-ad\"><div class=\"ad-item-300\"><div id=\\'div-gpt-ad-comunidad-valenciana_n_r_5ab224f2268e3e7c168b46dd\\' class=\"publicidad\"><script type=\\'text/javascript\\'>googletag.cmd.push(function(){googletag.display(\\'div-gpt-ad-comunidad-valenciana_n_r_5ab224f2268e3e7c168b46dd\\');});</script></div></div></div></aside></aside><!-- Fin Modulo publicidad y boton --><div class=\"subtitle-items\"><p class=\"summary-lead\"><i class=\"icon-apoyo_16_b\"></i>La revisión de la ordenanza no eximirá «por ahora» a las Tascas de la restricción de beber en la calle más allá de las 22.00 horas</p></div><p>La nueva ordenanza de regularización del ruido en Castellón alarga el horario \\'diurno\\' hasta las 23.00 horas, lo que implica poder emitir hasta 65 decibelios (dB) de contaminación acústica en la calle<strong> frente a los 55 dB como límite permitidos para la noche,</strong> según normativa estatal. </p><p>Este horario, que supera en una hora el límite aplicado a las Tascas, <strong>como Zona Acústicamente Saturada (ZAS)</strong>, es superior también al impuesto a las terrazas de Santa Clara, a las que el equipo de gobierno ha pedido que retiren el mobiliario urbano a las 22.30 horas, a fin de rebajar el ruido en el entorno. </p><p>Aseguran desde el bipartito que «esta adaptación de la norma municipal -que estaba en vigor desde el año 2010- <strong>a las directrices europea, estatal y autonómica </strong>en contaminación acústica contempla tres franjas horarias: diurna, entre las de 7.00 y las 19.00 horas; vespertina, de 19.00 a 23.00 horas y nocturna de 23.00 a 7.00 horas».</p><p>«Los valores límite de inmisión de ruido<strong> en ambiente exterior</strong> se establecerán en función de estas franjas horarias y de los usos dominantes del entorno». Estos se establecen en sanitario, docente y cultural; residencial; terciario, recreativo y de espectáculos y, por último, industrial.</p><p>La nueva ordenanza propone «<strong>determinar los valores límites para ruido</strong> y vibraciones conforme a la ley estatal, completar esos valores en caso de que sea necesario con los establecidos en la normativa autonómica, tomando siempre como referencia los niveles de recepción más restrictivos, y ajustarse a las tres franjas horarias que fija la normativa europea (Directiva 2002/49/CE, traspuesta por Ley 37/2003 de 17 de noviembre del Ruido)».</p><p>La nueva ordenanza se llevará al pleno de este mes, <strong>el próximo 29 de marzo</strong>. Una vez aprobada «provisionalmente» por la corporación municipal, será sometida a un periodo de exposición pública en el que se podrán presentar alegaciones a sus 9 títulos que se articulan a través de 58 artículos; disposiciones adicionales; disposición transitoria; disposición derogatoria; disposición final y anexos.</p><p>Entre las novedades que contempla está la <strong>regulación de la ambientación</strong> y amenización musical como figuras no coincidentes así como sus horarios.</p><p>Se <strong>considera ambientación musical </strong>aquella actividad en la cual la emisión de música en el establecimiento es parte esencial para el desarrollo de su actividad (pubs, discotecas... En este caso, deberá respetarse lo establecido en la normativa reguladora sobre ruido.</p><p>Se considera amenización musical la actividad en la que la <strong>emisión sonora</strong> se encuentra en segundo plano.</p><p> En ambos casos, los elementos destinados a emisión musical <strong><strong>deberán garantizar que no superan un determinado nivel de presión acústica</strong></strong> (deberán contar con limitadores acústicos homologados). </p><h3 class=\"subhead\">Actividades</h3><p>Según la revisión de la ordenanza del ruido, los ámbitos de aplicación <strong>incluyen </strong>edificaciones; actividades industriales, comerciales y de servicio; actividades sujetas a legislación en materia de espectáculos públicos, actividades recreativas y establecimientos públicos; trabajos en vía pública y en la edificación que produzcan ruidos; sistemas de aviso acústico; medios de transporte, circulación de vehículos a motor y comportamiento ciudadano.</p><p>También se prevé simplificar los procedimientos administrativos <strong>para facilitar las tramitaciones garantizando</strong> el cumpliendo de los estándares de calidad acústica; la regulación de eventos al aire libre en función de si se utilizan equipos amplificados o no o un protocolo de autocontrol más realista para las situaciones que disponen de amplificación.</p><p>Se prevé también situaciones <strong>especiales</strong>, como los espectáculos pirotécnicos; Cabalgata de Reyes; las rondas de mayo; Magdalena, Sant Pere y la Nit de Sant Joan...</p><aside class=\"publicidad mod-multipurpose end-fixed\"><h3 class=\"list-header\"><span>TE PUEDE INTERESAR</span></h3><div id=\\'div-gpt-ad-comunidad-valenciana_n_nata_5ab224f2268e3e7c168b46dd\\' class=\"publicidad\"><script type=\\'text/javascript\\'>googletag.cmd.push(function(){googletag.display(\\'div-gpt-ad-comunidad-valenciana_n_nata_5ab224f2268e3e7c168b46dd\\');});</script></div><div class=\"dotted-divider\"></div><div id=\\'div-gpt-ad-comunidad-valenciana_n_natb_5ab224f2268e3e7c168b46dd\\' class=\"publicidad\"><script type=\\'text/javascript\\'>googletag.cmd.push(function(){googletag.display(\\'div-gpt-ad-comunidad-valenciana_n_natb_5ab224f2268e3e7c168b46dd\\');});</script></div></aside><aside class=\"related-tags inside-news-body\"><aside class=\"related-tags\"><h4 class=\"list-header\"><span>Relacionados</span></h4><ul class=\"item-tags\"><li><a href=\"http://www.elmundo.es/comunidad-valenciana/castellon.html\" rel=\"tag\">Castellón</a></li><li><a href=\"http://www.elmundo.es/comunidad-valenciana.html\" rel=\"tag\">Comunidad Valenciana</a></li><li><a href=\"http://www.elmundo.es/sociedad.html\" rel=\"tag\">sociedad</a></li></ul></aside></aside><div class=\"related-links inside-news-body\"><aside class=\"related-links end-fixed\"><h3 class=\"list-header\"><span>Noticias relacionadas</span></h3><ol class=\"list\"><li><a onclick=\"eventoSCModulos(\\'noticias\\', \\'relacionadas\\', \\'1\\', \\'Diputación de Castellón destina 100.000 ¤ a entidades taurinas para la organización de &#039;bous al carrer&#039;\\', \\'http://www.elmundo.es/comunidad-valenciana/castellon/2018/03/08/5aa1426b22601da0108b4585.html?cid=MNOT23801&amp;s_kw=1\\');\" href=\"http://www.elmundo.es/comunidad-valenciana/castellon/2018/03/08/5aa1426b22601da0108b4585.html?cid=MNOT23801&amp;s_kw=1\">Diputación de Castellón destina 100.000 ¤ a entidades taurinas para la organización de \\'bous al carrer\\'</a><span class=\"baseline\"></span></li><li><a onclick=\"eventoSCModulos(\\'noticias\\', \\'relacionadas\\', \\'2\\', \\'Vea en directo la entrega de galardones de la Diputación de Castellón en el Día de la Provincia\\', \\'http://www.elmundo.es/comunidad-valenciana/castellon/2018/03/03/5a994bdb22601d4e348b4617.html?cid=MNOT23801&amp;s_kw=2\\');\" href=\"http://www.elmundo.es/comunidad-valenciana/castellon/2018/03/03/5a994bdb22601d4e348b4617.html?cid=MNOT23801&amp;s_kw=2\">Vea en directo la entrega de galardones de la Diputación de Castellón en el Día de la Provincia</a><span class=\"baseline\"></span></li><li><a onclick=\"eventoSCModulos(\\'noticias\\', \\'relacionadas\\', \\'3\\', \\'&quot;Aprender a hacernos valer&quot;\\', \\'http://www.elmundo.es/comunidad-valenciana/castellon/2018/03/08/5aa1334bca4741de068b4687.html?cid=MNOT23801&amp;s_kw=3\\');\" href=\"http://www.elmundo.es/comunidad-valenciana/castellon/2018/03/08/5aa1334bca4741de068b4687.html?cid=MNOT23801&amp;s_kw=3\">\"Aprender a hacernos valer\"</a><span class=\"baseline\"></span></li></ol></aside></div></div><div class=\"row content cols-70-30 \"><aside class=\"aside-ad floated-right-item\"><div class=\"content-ad js_fixed\"><div class=\"ad-item-300\"><div id=\\'div-gpt-ad-comunidad-valenciana_n_rb_5ab224f2268e3e7c168b46dd\\' class=\"publicidad\"><script type=\\'text/javascript\\'>googletag.cmd.push(function(){googletag.display(\\'div-gpt-ad-comunidad-valenciana_n_rb_5ab224f2268e3e7c168b46dd\\');});</script></div></div></div></aside><aside class=\"aside-outbrain\"><div class=\"OUTBRAIN\" data-src=\"http://www.elmundo.es/comunidad-valenciana/castellon/2018/03/21/5ab224f2268e3e7c168b46dd.html\" data-widget-id=\"AR_7\" data-ob-template=\"elmundo\"></div><div class=\"OUTBRAIN\" data-src=\"http://www.elmundo.es/comunidad-valenciana/castellon/2018/03/21/5ab224f2268e3e7c168b46dd.html\" data-widget-id=\"AR_8\" data-ob-template=\"elmundo\"></div><div class=\"OUTBRAIN\" data-src=\"http://www.elmundo.es/comunidad-valenciana/castellon/2018/03/21/5ab224f2268e3e7c168b46dd.html\" data-widget-id=\"AR_9\" data-ob-template=\"elmundo\"></div><script type=\"text/javascript\">(function(){if(jQuery&&jQuery(\\'script[src*=\"outbrain.js\"]\\').length===0){try{var scriptEl=document.createElement(\\'script\\');scriptEl.type=\\'text/javascript\\';scriptEl.async=\\'true\\';scriptEl.src=\\'http://widgets.outbrain.com/outbrain.js\\';var targetEl=document.getElementsByTagName(\\'script\\')[0];targetEl.parentNode.insertBefore(scriptEl,targetEl);}catch(e){};}})();</script></aside></div><div class=\"row content cols-70-30\"><aside class=\"aside-tools floated-right-item\"><div class=\"content-ad js_fixed\"><div class=\"ad-item-300\"><div id=\\'div-gpt-ad-comunidad-valenciana_n_rc_5ab224f2268e3e7c168b46dd\\' class=\"publicidad\"><script type=\\'text/javascript\\'>googletag.cmd.push(function(){googletag.display(\\'div-gpt-ad-comunidad-valenciana_n_rc_5ab224f2268e3e7c168b46dd\\');});</script></div></div></div></aside></div><div class=\"lightbox_shadow no-visible js-popup\"></div><div class=\"right-panel comments-panel js-right-panel\"><div class=\"fixed-button\"><a href=\"#\" class=\"boton-volver\"><i class=\"icon-atras_32_d\"></i><span>Volver a la noticia</span> \\'La nueva norma de ruido de Castellón fija el horario &#039;diurno&#039; hasta las 23.00 horas\\'</a></div> <script type=\"text/javascript\">var registroCookie=false;</script><section class=\"comentarios comentarios-retro js-comentarios\" itemprop=\"comment\" itemscope=\"itemscope\" itemtype=\"http://schema.org/Comment\"><div class=\"em-comments-container-body js-comments-container\" data-commentId=\"1513489\" data-csp=\"1403\"></div><script src=\"//e00-elmundo.uecdn.es/assets/uecomments/v1/ueComments.js\"></script></section></div></article><section class=\"row content row-layout\"></section><section class=\"row content row-layout\"></section><div class=\"content-ad\"><div class=\"ad-item-f2\"><div id=\\'div-gpt-ad-comunidad-valenciana_n_f2_5ab224f2268e3e7c168b46dd\\' class=\"publicidad\"><script type=\\'text/javascript\\'>googletag.cmd.push(function(){googletag.display(\\'div-gpt-ad-comunidad-valenciana_n_f2_5ab224f2268e3e7c168b46dd\\');});</script></div></div></div><div class=\"content-ad\"><div class=\"ad-item-f3\"><div id=\\'div-gpt-ad-comunidad-valenciana_n_f3_5ab224f2268e3e7c168b46dd\\' class=\"publicidad\"><script type=\\'text/javascript\\'>googletag.cmd.push(function(){googletag.display(\\'div-gpt-ad-comunidad-valenciana_n_f3_5ab224f2268e3e7c168b46dd\\');});</script></div></div></div><div class=\"content-ad\"><div class=\"ad-item-si js-sky\"><div id=\\'div-gpt-ad-comunidad-valenciana_n_si_5ab224f2268e3e7c168b46dd\\' class=\"publicidad\"><script type=\\'text/javascript\\'>googletag.cmd.push(function(){googletag.display(\\'div-gpt-ad-comunidad-valenciana_n_si_5ab224f2268e3e7c168b46dd\\');});</script></div></div></div><div class=\"content-ad\"><div class=\"ad-item-sd js-sky\"><div id=\\'div-gpt-ad-comunidad-valenciana_n_sd_5ab224f2268e3e7c168b46dd\\' class=\"publicidad\"><script type=\\'text/javascript\\'>googletag.cmd.push(function(){googletag.display(\\'div-gpt-ad-comunidad-valenciana_n_sd_5ab224f2268e3e7c168b46dd\\');});</script></div></div></div></div><script type=\"text/javascript\">    jQuery(function(){        if (typeof jQuery.fn.RedesSociales === \\'function\\') {            jQuery(\\'#js_5ab224f2268e3e7c168b46dd\\').find(\\'.js_socialMedia\\').RedesSociales({                title: \"La nueva norma de ruido de Castellón fija el horario \\\\\\'diurno\\\\\\' hasta las 23.00 horas\",                img:\"https://e00-elmundo.uecdn.es/assets/multimedia/imagenes/2018/03/21/15216238656792.jpg\",                url: \"http://www.elmundo.es/comunidad-valenciana/castellon/2018/03/21/5ab224f2268e3e7c168b46dd.html\",                summary :\"\",                viaTwitter: \\'elmundoes\\',                urlCorreo: \"http://www.elmundo.es/enviar/formulario_enviar_noticia.html?que_mundo=elmundo\",                sufijoAnalitica: \\'_1\\',                sharedFb: true            });}                if (Comentarios) {            window.Comments = new Comentarios({                botonesDesplegar : \\'.js-botonComentarios\\',                newsId: \"5ab224f2268e3e7c168b46dd\"            });        }                if (typeof jQuery.fn.ElementoFijo === \\'function\\') {            jQuery(\\'#js_5ab224f2268e3e7c168b46dd\\').find(\\'.js_fixed\\').ElementoFijo({                elementosAnteriores: [\\'.nav-container\\', \\'.breadcrumbs \\'],                elementoDesdeFixed: \\'.content\\',                elementoHastaFixed: \\'.end-fixed\\',                minWidthFijo: 768            });        }    });</script></main><script type=\"text/javascript\">jQuery(function(){if(typeof jQuery.fn.RedesSociales===\\'function\\'){jQuery(\\'.js-cnav-header\\').find(\\'.js_socialMedia\\').RedesSociales({title:\"La nueva norma de ruido de Castellón fija el horario \\\\\\'diurno\\\\\\' hasta las 23.00 horas\",img:\"https://e00-elmundo.uecdn.es/assets/multimedia/imagenes/2018/03/21/15216238656792.jpg\",url:\"http://www.elmundo.es/comunidad-valenciana/castellon/2018/03/21/5ab224f2268e3e7c168b46dd.html\",summary:\"\",viaTwitter:\\'elmundoes\\',urlCorreo:\"http://www.elmundo.es/enviar/formulario_enviar_noticia.html?que_mundo=elmundo\",sufijoAnalitica:\\'_1\\'});}jQuery(document).on(\"urlChanged\",function(event,data){if(typeof jQuery.fn.RedesSociales===\\'function\\'){jQuery(\\'.js-cnav-header\\').find(\\'.js_socialMedia\\').RedesSociales({title:data.title,img:data.rrss.img,url:data.url,summary:data.rrss.summary,viaTwitter:data.rrss.twitter,urlCorreo:\"http://www.elmundo.es/enviar/formulario_enviar_noticia.html?que_mundo=elmundo\",sufijoAnalitica:\\'_1\\'});}});});</script><aside class=\"container loading-module no-visible\"><img class=\"loading-icon\" src=\"https://e00-elmundo.uecdn.es/assets/v8/img/loading-icon.gif\" alt=\"Cargando...\"><div class=\"loading-next\"><span>Cargando siguiente contenido</span><span class=\"js_navTitulo\"></span></div></aside><section class=\"content-item featured-links UEClass\"><h3 class=\"list-header\"><span>Enlaces de inter&eacute;s</span></h3><ul class=\"list\"><li><a href=\"http://www.elmundo.es/ultimas-noticias.html\">&Uacute;ltimas Noticias</a></li><li><a href=\"http://www.elmundo.es/temas/\">Temas</a></li><li><a href=\"http://www.elmundo.es/economia/bolsa/indices/ibex35_I.IB.html\">IBEX 35</a></li><li><a href=\"http://www.elmundo.es/loterias/euromillones.html\">Euromillones</a></li><li><a href=\"http://www.elmundo.es/horoscopo/\">Hor&oacute;scopo Diario</a></li><li><a href=\"http://www.elmundo.es/mejores-colegios.html\">Mejores colegios</a></li></ul><ul class=\"list\"><li><a href=\"http://www.elmundo.es/servicios/\">Servicios</a></li><li><a href=\"http://quiosco.orbyt.es/\">Orbyt</a></li><li><a href=\"http://www.elmundo.es/traductor/\">Traductor</a></li><li><a href=\"http://www.elmundo.es/television/programacion-tv/\">Gu&iacute;a TV</a></li><li><a href=\"http://www.elmundo.es/diccionarios/\">Diccionarios</a></li><li><a href=\"http://www.elmundo.es/tiempo/\">El tiempo</a></li><li><a href=\"http://www.elmundo.es/promociones/\">Promociones</a></li><li><a href=\"http://www.elmundo.es/loterias/\">Loter&iacute;a</a></li><li><a href=\"http://comparador.elmundo.es/\">Comparador financiero</a></li><li><a href=\"http://seguroscoche.elmundo.es/\">Comparador seguros</a></li></ul><ul class=\"list\"><li><a href=\"http://www.elmundo.es/eventos/en-directo/2018/03/20/57680-valencia-basket-real-madrid/\"> Valencia Basket vs Real Madrid, en vivo</a></li></ul></section><footer class=\"site-footer horizontal\" itemscope itemtype=\"http://schema.org/Organization\"><div class=\"container-list-footer js-toggle-footer\"><div class=\"js-botonera-toggle arrow-toggle\"><span>Otras webs de Unidad Editorial</span></div><div class=\"js-contenido-toggle container-toggle\"><ul class=\"list-footer\"><li class=\"highlight\"><span>El Mundo</span></li><li itemprop=\"member\" itemtype=\"http://schema.org/Organization\"><a href=\"https://clk.tradedoubler.com/click?p=271538&a=2404199&g=23657328\" title=\"El Mundo en Orbyt\" target=\"_blank\" itemprop=\"url\"><span itemprop=\"name\">El Mundo en Orbyt</span></a></li><li itemprop=\"member\" itemtype=\"http://schema.org/Organization\"><a href=\"http://www.elmundo.es/economia/vivienda.html\" title=\"Su Vivienda\" target=\"_blank\" itemprop=\"url\"><span itemprop=\"name\">Su Vivienda</span></a></li><li itemprop=\"member\" itemtype=\"http://schema.org/Organization\"><a href=\"http://www.elmundo.es/television/programacion-tv\" title=\"Gu&iacute;a TV\" target=\"_blank\" itemprop=\"url\"><span itemprop=\"name\">Gu&iacute;a TV</span></a></li><li itemprop=\"member\" itemtype=\"http://schema.org/Organization\"><a href=\"https://inversionesinmobiliarias.elmundo.es/\" title=\"Inversiones inmobiliarias\" target=\"_blank\" itemprop=\"url\"><span itemprop=\"name\">Inversiones inmobiliarias</span></a></li></ul><div id=\"pixelcontabilizacionNLalerta\" class=\"pixelcontabilizacion\" style=\"position:absolute;top:0px;left:0px;width:1px;height:1px;z-index:1\"><img src=\"https://impes.tradedoubler.com/imp?type(inv)g(23657328)a(2404199)\" width=\"1\" height=\"1\" alt/></div><ul class=\"list-footer\"><li class=\"highlight\"><span>Ocio y Salud</span></li><li itemprop=\"member\" itemtype=\"http://schema.org/Organization\"><a href=\"http://www.telva.com/\" title=\"Telva\" target=\"_blank\" itemprop=\"url\"><span itemprop=\"name\">Telva</span></a></li><li itemprop=\"member\" itemtype=\"http://schema.org/Organization\"><a href=\"http://www.buhomag.com/\" title=\"El Buho\" target=\"_blank\" itemprop=\"url\"><span itemprop=\"name\">El B&uacute;ho</span></a></li><li itemprop=\"member\" itemtype=\"http://schema.org/Organization\"><a href=\"http://www.recetasdecocinadesergio.com/\" title=\"Recetas de cocina de Sergio\" target=\"_blank\" itemprop=\"url\"><span itemprop=\"name\">Recetas de cocina de Sergio</span></a></li><li itemprop=\"member\" itemtype=\"http://schema.org/Organization\"><a href=\"http://cinemania.elmundo.es/\" title=\"Cineman&iacute;a\" target=\"_blank\" itemprop=\"url\"><span itemprop=\"name\">Cineman&iacute;a</span></a></li><li itemprop=\"member\" itemtype=\"http://schema.org/Organization\"><a href=\"http://www.cuidateplus.com/\" title=\"Cu&iacute;date Plus\" target=\"_blank\" itemprop=\"url\"><span itemprop=\"name\">Cu&iacute;date Plus</span></a></li><li itemprop=\"member\" itemtype=\"http://schema.org/Organization\"><a href=\"http://www.diariomedico.com/\" title=\"Diario M&eacute;dico\" target=\"_blank\" itemprop=\"url\"><span itemprop=\"name\">Diario M&eacute;dico</span></a></li></ul><ul class=\"list-footer\"><li class=\"highlight\"><span>Unidad Editorial</span></li><li itemprop=\"member\" itemtype=\"http://schema.org/Organization\"><a href=\"http://www.expansion.com/\" title=\"Expansi&oacute;n\" target=\"_blank\" itemprop=\"url\"><span itemprop=\"name\">Expansi&oacute;n</span></a></li><li itemprop=\"member\" itemtype=\"http://schema.org/Organization\"><a href=\"http://www.marca.com\" title=\"Marca\" target=\"_blank\" itemprop=\"url\"><span itemprop=\"name\">Marca</span></a></li><li itemprop=\"member\" itemtype=\"http://schema.org/Organization\"><a href=\"https://deportes.marcaapuestas.es/es\" title=\"Apuestas Deportivas Marca\" target=\"_blank\" itemprop=\"url\"><span itemprop=\"name\">Apuestas Deportivas Marca</span></a></li><li itemprop=\"member\" itemtype=\"http://schema.org/Organization\"><a href=\"https://esports.marca.com\" title=\"Marca eSports\" target=\"_blank\" itemprop=\"url\"><span itemprop=\"name\">Marca eSports</span></a></li></ul><ul class=\"list-footer\"><li class=\"highlight\"><span>Empleo</span></li><li itemprop=\"member\" itemtype=\"http://schema.org/Organization\"><a href=\"http://www.escuelaunidadeditorial.es/\" title=\"Masters - Escuela Unidad Editorial\" target=\"_blank\" itemprop=\"url\"><span itemprop=\"name\">Escuela Unidad Editorial</span></a></li><li itemprop=\"member\" itemtype=\"http://schema.org/Organization\"><a href=\"http://www.unidadeditorial.es/\" title=\"Unidad Editorial\" target=\"_blank\" itemprop=\"url\"><span itemprop=\"name\">Unidad Editorial</span></a></li><li itemprop=\"member\" itemtype=\"http://schema.org/Organization\"><a href=\"http://www.expansionyempleo.com/\" title=\"Trabajo - Expansion y Empleo\" target=\"_blank\" itemprop=\"url\"><span itemprop=\"name\">Expansi&oacute;n y Empleo</span></a></li></ul></div></div><div class=\"container container-about-footer\"><ul class=\"about-list\"><li class=\"copyright\"><p>&copy; <span itemprop=\"name\">ELMUNDO.es Avenida de San Luis 25 - 28033 MADRID Una web de Unidad Editorial</span></p></li><li><a title=\"T&eacute;rminos y condiciones de uso\" href=\"http://www.elmundo.es/privacidad/avisolegal.html\">T&eacute;rminos y condiciones de uso</a></li><li><a title=\"Pol&iacute;tica de privacidad\" href=\"http://www.elmundo.es/privacidad/\">Pol&iacute;tica de privacidad</a></li><li><a title=\"Pol&iacute;tica de cookies\" href=\"http://cookies.unidadeditorial.es/\">Pol&iacute;tica de cookies</a></li><li><a title=\"Certificado por OJD\" href=\"http://www.ojd.es/\">Certificado por OJD</a></li><li><a title=\"Contacto\" href=\"http://www.elmundo.es/registro/contacto.html\">Contacto</a></li><li><a title=\"Publicidad\" href=\"http://www.unidadeditorial.com/publicidad\">Publicidad</a></li><li><a title=\"Venta de contenidos\" href=\"https://www.uesyndication.com/\">Venta de contenidos</a></li></ul><aside class=\"follow-us\"><p>S&iacute;guenos en</p><ul class=\"social-networks\"><li title=\"Twitter\"><a href=\"https://twitter.com/elmundoes\" class=\"icon-twitter\" target=\"_blank\" title=\"Twitter\" itemprop=\"sameAs\"><i class=\"icon-twitter icon-twitter_36_d\"></i><span class=\"hidden-content\">Twitter</span></a></li><li title=\"Facebook\"><a href=\"https://www.facebook.com/elmundo\" class=\"icon-facebook\" target=\"_blank\" title=\"Facebook\" itemprop=\"sameAs\"><i class=\"icon-facebook icon-facebook_36_d\"></i><span class=\"hidden-content\">Facebook</span></a></li><li title=\"Google Plus\"><a class=\"icon-google\" href=\"https://plus.google.com/+elmundo\" itemprop=\"sameAs\" target=\"_blank\" title=\"Google\" itemprop=\"sameAs\"><i class=\"icon-google icon-google_plus_36_d\"></i><span class=\"hidden-content\">Google Plus</span></a></li><li title=\"RSS\"><a class=\"icon-rss\" href=\"http://www.elmundo.es/rss/\" itemprop=\"sameAs\" title=\"RSS\"><i class=\"icon-rss icon-rss_36_d\"></i><span class=\"hidden-content\">RSS</span></a></li></ul></aside><ul class=\"partners\"><li><a href=\"http://www.reverso.net/\" rel=\"nofollow\"><i class=\"icon-partners-reverso\"></i><span class=\"hidden-content\">Powered by Reverso</span></a></li><li><a href=\"http://www.eu.ntt.com/es/index.html\" rel=\"nofollow\"><i class=\"icon-partners-powered-ntt\"></i><span class=\"hidden-content\">Powered by NTT</span></a></li></ul></div></footer><script>if(typeof gptIsDisableInitialLoad!==\\'undefined\\'&&gptIsDisableInitialLoad){if(typeof IsAPSEnabled===\\'undefined\\'||!IsAPSEnabled){googletag.cmd.push(function(){googletag.pubads().refresh();});}}</script><!-- SiteCatalyst code version: H.25.1.Copyright 1996-2012 Adobe, Inc. All Rights ReservedMore info available at http://www.omniture.com --><script language=\"JavaScript\" type=\"text/javascript\" data-ue-omniture>var s = {};var pageName = \"http://www.elmundo.es/comunidad-valenciana/castellon/2018/03/21/5ab224f2268e3e7c168b46dd.html\";s.pageType=\"\";s.pageName=pageName;s.channel=\"comunidad-valenciana\";s.prop1=\"castellon\";s.prop2=\"\";s.prop3=\"\";s.prop4=\"\";s.prop5=\"\";s.prop6=\"\";s.prop7=\"elmundo.es\";s.prop11=\"La nueva norma de ruido de Castellón fija el horario &#039;diurno&#039; hasta las 23.00 horas-5ab224f2268e3e7c168b46dd\";s.hier1=\"elmundo.es|comunidad-valenciana|castellon\";                                                                                                            s.prop27=\"web\";    s.prop28=\"0|0\";s.prop29=\"Castellón|Comunidad Valenciana|sociedad\";s.list2=\"Castellón|Comunidad Valenciana|sociedad\";                                        s.prop30=\"imagenes\";        s.prop52=\"\";    s.prop53=\"\";    s.prop32=\"noticias\";s.hier1 = \"elmundo.es|comunidad-valenciana|castellon\" + \"|\" + \"noticias\";s.prop33=\"castellon\";s.prop35=\"origen\";s.prop36=\"\";s.prop39=\"nuevo-03-21\";s.prop75=\"C. P.\";/* Conversion Variables */s.eVar1=s.channel;s.eVar2=s.prop1;s.eVar3=s.prop2;s.eVar4=s.prop3;s.eVar5=s.prop4;s.eVar6=s.prop5;s.eVar7=s.prop7;s.eVar11=s.prop11;s.eVar27=s.prop27;s.eVar28=s.prop28;s.eVar29=s.prop29;s.eVar30=s.prop30;s.eVar31=s.prop6;s.eVar32=s.prop32;s.eVar33=s.prop33;s.eVar39=s.prop39;s.eVar52=s.prop52;s.eVar53=s.prop53;s.eVar75=s.prop75;var s_omniture = s;<!-- ==== pageName=\"http://www.elmundo.es/comunidad-valenciana/castellon/2018/03/21/5ab224f2268e3e7c168b46dd.html\" ==== --><!-- ==== pageType=\"\" ==== --><!-- ==== channel=\"comunidad-valenciana\" ==== --><!-- ==== prop1=\"castellon\" ==== --><!-- ==== prop2=\"\" ==== --><!-- ==== prop3=\"\" ==== --><!-- ==== prop4=\"\" ==== --><!-- ==== prop5=\"\" ==== --><!-- ==== prop6=\"\" ==== --><!-- ==== prop7=\"elmundo.es\" ==== --><!-- ==== prop11=\"La nueva norma de ruido de Castellón fija el horario &#039;diurno&#039; hasta las 23.00 horas-5ab224f2268e3e7c168b46dd\" ==== --><!-- ==== hier1=\"elmundo.es|comunidad-valenciana|castellon\" ==== --><!-- ==== prop29=\"Castellón|Comunidad Valenciana|sociedad\" ==== --><!-- ==== list2=\"Castellón|Comunidad Valenciana|sociedad\" ==== --><!-- ==== prop30=\"imagenes\" ==== --><!-- ==== prop32=\"noticias\" ==== --><!-- ==== prop33=\"castellon\" ==== --><!-- ==== prop35=\"origen\" ==== --><!-- ==== prop36=\"\" ==== --><!-- ==== prop39=\"nuevo-03-21\" ==== --><!-- ==== prop75=\"C. P.\" ==== -->/************* DO NOT ALTER ANYTHING BELOW THIS LINE ! **************/</script><script type=\"text/javascript\">function DM_prepClient(csid,client){client.DM_cat(\"comunidad-valenciana > castellon > noticia\");}</script><script src=\"https://e00-elmundo.uecdn.es/assets/desktop/master/js/ue-ajax.js\" type=\"text/javascript\"></script><script src=\"https://e00-elmundo.uecdn.es/assets/v8/js/kalturaue-elmundo.min.js\" type=\"text/javascript\"></script><script src=\"https://e00-elmundo.uecdn.es/assets/v8/js/desktop.min.js\" type=\"text/javascript\"></script><script type=\"text/javascript\" src=\"https://e00-elmundo.uecdn.es/assets/navcontinua/v1/navegacioncontinua.min.js\"></script><script type=\"text/javascript\">jQuery(function(){if(typeof NavegacionContinua===\\'function\\'&&typeof nav_continua_active!==\\'undefined\\'&&typeof uePages!==\\'undefined\\'&&typeof ueDataPage!==\\'undefined\\'&&typeof activeUeNavigation!==\\'undefined\\'){var navegacion=new NavegacionContinua(jQuery,uePages,ueDataPage,nav_continua_active,activeUeNavigation);navegacion.init();jQuery(document).on(\"contentLoaded\",function(event,params){window.nextContentId=MetadataWalker.getContentId(params.nIndex);});}else{var historyFix=new historyAPIFix(jQuery);historyFix.lanzaListenerPopstate();};});</script><div class=\"no-visible\" id=\"iframeACargar\"><div class=\"lightbox_shadow js_lightboxShadow no-visible\"></div><section class=\"lightbox js_enviarnoticia no-visible\"><div class=\"cerrar\" title=\"Cerrar\"></div></section><section class=\"lightbox inicio-sesion\"></section></div><script type=\"text/javascript\">function hiddenCapa(idcapa){var fd=document.getElementById(idcapa);fd.style.bottom=\"-70px\";}function bandaSuscripcionAccept(){days=1;myDate=new Date();myDate.setTime(myDate.getTime()+(days*24*60*60*1000));document.cookie=\"ELMUNDO_suscrp = suscrip_yes; expires = \"+myDate.toGMTString();hiddenCapa(\"banda_suscripcion\");}function bandaSuscripcionCookie(){days=1;myDate=new Date();myDate.setTime(myDate.getTime()+(days*24*60*60*1000));document.cookie=\"ELMUNDO_suscrp = suscrip_yes; expires = \"+myDate.toGMTString();}function getCookie(name){var re=new RegExp(name+\"=([^;]+)\");var value=re.exec(document.cookie);return(value!=null)?unescape(value[1]):null;}function checkSuscription(){var fd=document.getElementById(\"banda_suscripcion\");var valorCookie=document.cookie.replace(new RegExp(\\'(?:(?:^|.*;\\\\\\\\s*)\\'+\\'ELMUNDO_suscrp\\'+\\'\\\\\\\\s*\\\\\\\\=\\\\\\\\s*([^;]*).*$)|^.*$\\'),\\'$1\\');if(valorCookie==\\'\\'){if(fd&&fd.style.bottom!=\"0px\"){fd.style.bottom=\"0px\";bandaSuscripcionCookie();}else{document.removeEventListener(\"scroll\",checkSuscription);}}}document.addEventListener(\"scroll\",checkSuscription);</script><aside id=\"banda_suscripcion\" class=\"banda_suscripcion\"><div class=\"wrap\"><a target=\"_blank\" href=\"http://clk.tradedoubler.com/click?p=272127&amp;a=2404199&amp;g=23584316\" rel=\"nofollow\">¡Ofertón Semana Santa! 25% dto + Tarjeta Regalo de El Corte Inglés.<span class=\"suscribete\">Suscríbete</span></a><div class=\"cerrar icon-cerrar_16_d\" onclick=\"bandaSuscripcionAccept();\" title=\"Cerrar\"></div></div><div id=\"pixelcontabilizacionsuscripcion\" class=\"pixelcontabilizacion\" style=\"position:absolute;top:0px;left:0px;width:1px;height:1px;z index:1\"><img sRc=\"http://impes.tradedoubler.com/imp?type(inv)g(23584316)a(2404199)\" width=\"1\" height=\"1\" alt/></div></aside><img src=\"//amplifypixel.outbrain.com/pixel?mid=008d6342efb6be8a979dc0f7a159804afd\"><!-- SiteCatalyst code version: H.21.Copyright 1996-2010 Adobe, Inc. All Rights ReservedMore info available at http://www.omniture.com --><script type=\"text/javascript\" src=\"http://active.cache.el-mundo.net/js/s_code_mu.js\"></script><script type=\"text/javascript\"><!--if (window[\\'s_omniture\\']) {for(var i in s_omniture) {s[i]=s_omniture[i];}}try {omniture_fill_vars_reg_user_metrics(\\'REGMUNDO\\',\\'UEMeter\\',s,\\'UEIdUsrAnon\\');} catch (omniture_fill_vars_reg_user_exception) {}var s_code=s.t();if(s_code)document.write(s_code)//--></script><script type=\"text/javascript\"><!--if(navigator.appVersion.indexOf(\\'MSIE\\')>=0)document.write(unescape(\\'%3C\\')+\\'!-\\'+\\'-\\')//--></script><noscript><img src=\"http://metrics.el-mundo.net/b/ss/uevistatest/1/H.21--NS/0\"height=\"1\" width=\"1\" alt=\"\" /></noscript><!--/DO NOT REMOVE/--><!-- End SiteCatalyst code version: H.21. --><script type=\\'text/javascript\\'>var _sf_async_config={};_sf_async_config.uid=52682;_sf_async_config.domain=s?(s.prop7?s.prop7:\"elmundo.es\"):\"elmundo.es\";_sf_async_config.useCanonical=true;_sf_async_config.sections=s?(s.channel?s.channel:\"no definido\"):\"no definido\";_sf_async_config.authors=s?(s.prop75?s.prop75:\"no definido\"):\"no definido\";_sf_async_config.type=s?(s.prop32?s.prop32:\"no definido\"):\"no definido\";(function(){function loadChartbeat(){window._sf_endpt=(new Date()).getTime();var e=document.createElement(\\'script\\');e.setAttribute(\\'language\\',\\'javascript\\');e.setAttribute(\\'type\\',\\'text/javascript\\');e.setAttribute(\\'src\\', \\'//static.chartbeat.com/js/chartbeat.js\\');document.body.appendChild(e);}var oldonload=window.onload;window.onload=(typeof window.onload!=\\'function\\')?loadChartbeat:function(){oldonload();loadChartbeat();};})();</script><!-- Facebook Pixel Code --><script>!function(f,b,e,v,n,t,s){if(f.fbq)return;n=f.fbq=function(){n.callMethod?n.callMethod.apply(n,arguments):n.queue.push(arguments)};if(!f._fbq)f._fbq=n;n.push=n;n.loaded=!0;n.version=\\'2.0\\';n.queue=[];t=b.createElement(e);t.async=!0;t.src=v;s=b.getElementsByTagName(e)[0];s.parentNode.insertBefore(t,s)}(window,document,\\'script\\',\\'https://connect.facebook.net/en_US/fbevents.js\\');fbq(\\'init\\', \\'1175626949248059\\'); // Insert your pixel ID here.fbq(\\'track\\', \\'PageView\\');</script><noscript><img height=\"1\" width=\"1\" style=\"display:none\"src=\"https://www.facebook.com/tr?id=1175626949248059&ev=PageView&noscript=1\"/></noscript><!-- DO NOT MODIFY --><!-- End Facebook Pixel Code --></body></html>',\n",
       " 'url': 'http://www.elmundo.es/comunidad-valenciana/castellon/2018/03/21/5ab224f2268e3e7c168b46dd.html'}"
      ]
     },
     "execution_count": 8,
     "metadata": {},
     "output_type": "execute_result"
    }
   ],
   "source": [
    "sites[0]"
   ]
  },
  {
   "cell_type": "code",
   "execution_count": 22,
   "metadata": {},
   "outputs": [
    {
     "data": {
      "text/plain": [
       "\"La nueva norma de ruido de Castellón fija el horario 'diurno' hasta las 23.00 horas | Castellón\""
      ]
     },
     "execution_count": 22,
     "metadata": {},
     "output_type": "execute_result"
    }
   ],
   "source": [
    "#readability-lxml\n",
    "import requests\n",
    "from readability.readability import Document\n",
    "response = requests.get(sites[0]['url'])\n",
    "readable_article = Document(response.text)\n",
    "readable_article.title()"
   ]
  },
  {
   "cell_type": "code",
   "execution_count": 24,
   "metadata": {},
   "outputs": [
    {
     "name": "stderr",
     "output_type": "stream",
     "text": [
      "100%|██████████| 39284/39284 [04:03<00:00, 161.59it/s]\n"
     ]
    }
   ],
   "source": [
    "for i in tqdm(range(0, len(sites))):\n",
    "    try:\n",
    "        sites[i]['title']= Document(sites[i]['html']).title()\n",
    "    except:\n",
    "        sites[i]['title']=''"
   ]
  },
  {
   "cell_type": "code",
   "execution_count": 29,
   "metadata": {},
   "outputs": [
    {
     "data": {
      "text/plain": [
       "('www.elmundo.es', 'es')"
      ]
     },
     "execution_count": 29,
     "metadata": {},
     "output_type": "execute_result"
    }
   ],
   "source": [
    "from urllib import parse\n",
    "def get_domen_len(url):\n",
    "    res = parse.urlsplit(url)\n",
    "    return res.netloc, res.netloc[res.netloc.rfind('.')+1:]\n",
    "get_domen_len(sites[0]['url'])"
   ]
  },
  {
   "cell_type": "code",
   "execution_count": 30,
   "metadata": {},
   "outputs": [
    {
     "name": "stderr",
     "output_type": "stream",
     "text": [
      "100%|██████████| 39284/39284 [00:00<00:00, 131220.43it/s]\n"
     ]
    }
   ],
   "source": [
    "for i in tqdm(range(0, len(sites))):\n",
    "    try:\n",
    "        domen, l = get_domen_len(sites[i]['url'])\n",
    "        sites[i]['domen']= domen\n",
    "        sites[i]['len']= l\n",
    "\n",
    "    except:\n",
    "        sites[i]['domen']=''\n",
    "        sites[i]['len']=''        "
   ]
  },
  {
   "cell_type": "code",
   "execution_count": 32,
   "metadata": {},
   "outputs": [],
   "source": [
    "import pandas as pd\n",
    "df = pd.DataFrame(sites)"
   ]
  },
  {
   "cell_type": "code",
   "execution_count": 33,
   "metadata": {},
   "outputs": [
    {
     "data": {
      "text/html": [
       "<div>\n",
       "<style scoped>\n",
       "    .dataframe tbody tr th:only-of-type {\n",
       "        vertical-align: middle;\n",
       "    }\n",
       "\n",
       "    .dataframe tbody tr th {\n",
       "        vertical-align: top;\n",
       "    }\n",
       "\n",
       "    .dataframe thead th {\n",
       "        text-align: right;\n",
       "    }\n",
       "</style>\n",
       "<table border=\"1\" class=\"dataframe\">\n",
       "  <thead>\n",
       "    <tr style=\"text-align: right;\">\n",
       "      <th></th>\n",
       "      <th>domen</th>\n",
       "      <th>html</th>\n",
       "      <th>len</th>\n",
       "      <th>title</th>\n",
       "      <th>url</th>\n",
       "    </tr>\n",
       "  </thead>\n",
       "  <tbody>\n",
       "    <tr>\n",
       "      <th>0</th>\n",
       "      <td>www.elmundo.es</td>\n",
       "      <td>&lt;!DOCTYPE html&gt;&lt;html lang=\"es\"&gt;&lt;head&gt;&lt;meta htt...</td>\n",
       "      <td>es</td>\n",
       "      <td>La nueva norma de ruido de Castellón fija el h...</td>\n",
       "      <td>http://www.elmundo.es/comunidad-valenciana/cas...</td>\n",
       "    </tr>\n",
       "    <tr>\n",
       "      <th>1</th>\n",
       "      <td>www.vanguardngr.com</td>\n",
       "      <td>&lt;!DOCTYPE html&gt;&lt;html lang=\"en-US\" prefix=\"og: ...</td>\n",
       "      <td>com</td>\n",
       "      <td>Better late than never for Alonso after Spain ...</td>\n",
       "      <td>https://www.vanguardngr.com/2018/03/better-lat...</td>\n",
       "    </tr>\n",
       "    <tr>\n",
       "      <th>2</th>\n",
       "      <td>www.fyens.dk</td>\n",
       "      <td></td>\n",
       "      <td>dk</td>\n",
       "      <td></td>\n",
       "      <td>https://www.fyens.dk/article/3240858?rss</td>\n",
       "    </tr>\n",
       "    <tr>\n",
       "      <th>3</th>\n",
       "      <td>www.pravo.cz</td>\n",
       "      <td></td>\n",
       "      <td>cz</td>\n",
       "      <td></td>\n",
       "      <td>http://www.pravo.cz/p068r11a.php</td>\n",
       "    </tr>\n",
       "    <tr>\n",
       "      <th>4</th>\n",
       "      <td>raiderswire.usatoday.com</td>\n",
       "      <td>&lt;!DOCTYPE html&gt;&lt;!--[if IE 8]&gt; &lt;html lang=\"en\" ...</td>\n",
       "      <td>com</td>\n",
       "      <td>5 things to know about Raiders new CB Shareece...</td>\n",
       "      <td>https://raiderswire.usatoday.com/2018/03/19/sh...</td>\n",
       "    </tr>\n",
       "  </tbody>\n",
       "</table>\n",
       "</div>"
      ],
      "text/plain": [
       "                      domen  \\\n",
       "0            www.elmundo.es   \n",
       "1       www.vanguardngr.com   \n",
       "2              www.fyens.dk   \n",
       "3              www.pravo.cz   \n",
       "4  raiderswire.usatoday.com   \n",
       "\n",
       "                                                html  len  \\\n",
       "0  <!DOCTYPE html><html lang=\"es\"><head><meta htt...   es   \n",
       "1  <!DOCTYPE html><html lang=\"en-US\" prefix=\"og: ...  com   \n",
       "2                                                      dk   \n",
       "3                                                      cz   \n",
       "4  <!DOCTYPE html><!--[if IE 8]> <html lang=\"en\" ...  com   \n",
       "\n",
       "                                               title  \\\n",
       "0  La nueva norma de ruido de Castellón fija el h...   \n",
       "1  Better late than never for Alonso after Spain ...   \n",
       "2                                                      \n",
       "3                                                      \n",
       "4  5 things to know about Raiders new CB Shareece...   \n",
       "\n",
       "                                                 url  \n",
       "0  http://www.elmundo.es/comunidad-valenciana/cas...  \n",
       "1  https://www.vanguardngr.com/2018/03/better-lat...  \n",
       "2           https://www.fyens.dk/article/3240858?rss  \n",
       "3                   http://www.pravo.cz/p068r11a.php  \n",
       "4  https://raiderswire.usatoday.com/2018/03/19/sh...  "
      ]
     },
     "execution_count": 33,
     "metadata": {},
     "output_type": "execute_result"
    }
   ],
   "source": [
    "df[:5]"
   ]
  },
  {
   "cell_type": "code",
   "execution_count": 36,
   "metadata": {},
   "outputs": [
    {
     "data": {
      "text/plain": [
       "au.news.yahoo.com                  1616\n",
       "news.rambler.ru                    1119\n",
       "e.vnexpress.net                     927\n",
       "www.finanznachrichten.de            564\n",
       "www.zazoom.it                       527\n",
       "www.aktiencheck.de                  384\n",
       "www.reuters.com                     381\n",
       "sport.rambler.ru                    373\n",
       "svodka.net                          233\n",
       "www.dailymail.co.uk                 232\n",
       "www.diariovasco.com                 230\n",
       "triblive.com                        197\n",
       "www.nownews.com                     170\n",
       "ici.radio-canada.ca                 169\n",
       "www.diariodemallorca.es             160\n",
       "www.ziare-pe-net.ro                 156\n",
       "www.radiotimes.com                  149\n",
       "www.express.co.uk                   149\n",
       "www.aydinses.com                    148\n",
       "www.mynet.com                       148\n",
       "www.teinteresa.es                   140\n",
       "www.dallasnews.com                  121\n",
       "www.infranken.de                    118\n",
       "www.ziuanews.ro                     118\n",
       "www.diariodelweb.it                 114\n",
       "www.hoy.es                          113\n",
       "www.sueddeutsche.de                 113\n",
       "beyazgazete.com                     110\n",
       "www.waaytv.com                      109\n",
       "www.bbc.com                         109\n",
       "                                   ... \n",
       "de.indymedia.org                      1\n",
       "airwaysmag.com                        1\n",
       "usatodayhss.com                       1\n",
       "moto.wp.pl                            1\n",
       "wind.energy-business-review.com       1\n",
       "www.cpifinancial.net                  1\n",
       "wn3.ca                                1\n",
       "www.newschannel10.com                 1\n",
       "www.selbstaendig-im-netz.de           1\n",
       "www.vueweekly.com                     1\n",
       "www.thestate.com                      1\n",
       "it.euronews.com                       1\n",
       "www.linuxinsider.com                  1\n",
       "www.cybertron.ca                      1\n",
       "tiras.ru                              1\n",
       "www.primonumero.it                    1\n",
       "saturn.mk.ua                          1\n",
       "www.agrigentooggi.it                  1\n",
       "www.wfxg.com                          1\n",
       "edition.cnn.com                       1\n",
       "store.digg.com                        1\n",
       "www.lostiempos.com                    1\n",
       "blogs.infolibre.es                    1\n",
       "www.ragusanews.com                    1\n",
       "foxync.com                            1\n",
       "www.diregiovani.it                    1\n",
       "www.piunotizie.it                     1\n",
       "videos.lesechos.fr                    1\n",
       "www.newswest9.com                     1\n",
       "www.finanza.com                       1\n",
       "Name: domen, Length: 3008, dtype: int64"
      ]
     },
     "execution_count": 36,
     "metadata": {},
     "output_type": "execute_result"
    }
   ],
   "source": [
    "df['domen'].value_counts()"
   ]
  },
  {
   "cell_type": "code",
   "execution_count": 35,
   "metadata": {},
   "outputs": [
    {
     "data": {
      "text/plain": [
       "com         13515\n",
       "de           3232\n",
       "ru           2758\n",
       "it           2056\n",
       "net          1930\n",
       "es           1439\n",
       "uk           1399\n",
       "ro            874\n",
       "gr            762\n",
       "fr            623\n",
       "se            615\n",
       "nl            564\n",
       "ua            550\n",
       "hu            509\n",
       "ca            471\n",
       "org           371\n",
       "be            367\n",
       "at            350\n",
       "pl            316\n",
       "ch            299\n",
       "cz            298\n",
       "bg            293\n",
       "tr            289\n",
       "pt            262\n",
       "no            238\n",
       "ar            236\n",
       "br            220\n",
       "fi            220\n",
       "info          216\n",
       "dk            212\n",
       "            ...  \n",
       "me             11\n",
       "ug             10\n",
       "mk             10\n",
       "bz             10\n",
       "lb             10\n",
       "mt             10\n",
       "com:443        10\n",
       "xn--p1ai        9\n",
       "fm              8\n",
       "pn              7\n",
       "hk              7\n",
       "ke              6\n",
       "pa              6\n",
       "pro             6\n",
       "mc              6\n",
       "az              5\n",
       "dz              4\n",
       "gi              4\n",
       "io              3\n",
       "lk              3\n",
       "kg              3\n",
       "gal             3\n",
       "ad              3\n",
       "hn              2\n",
       "sc              2\n",
       "ao              2\n",
       "gov             1\n",
       "ni              1\n",
       "do              1\n",
       "om              1\n",
       "Name: len, Length: 118, dtype: int64"
      ]
     },
     "execution_count": 35,
     "metadata": {},
     "output_type": "execute_result"
    }
   ],
   "source": [
    "df['len'].value_counts()"
   ]
  },
  {
   "cell_type": "code",
   "execution_count": 34,
   "metadata": {},
   "outputs": [
    {
     "data": {
      "image/png": "[encoded data removed]",
      "text/plain": [
       "<matplotlib.figure.Figure at 0x20439973eb8>"
      ]
     },
     "metadata": {},
     "output_type": "display_data"
    }
   ],
   "source": [
    "import matplotlib.pyplot as plt\n",
    "import seaborn as sns\n",
    "%matplotlib inline\n",
    "\n",
    "len = df['len'].value_counts()\n",
    "plt.figure(figsize=(16,9))\n",
    "sns.barplot(len.index, len.values, alpha=0.8)\n",
    "plt.title('User activity')\n",
    "plt.ylabel('Number of Occurrences', fontsize=12)\n",
    "plt.xlabel('len', fontsize=12)\n",
    "plt.show()"
   ]
  },
  {
   "cell_type": "code",
   "execution_count": 38,
   "metadata": {},
   "outputs": [
    {
     "name": "stderr",
     "output_type": "stream",
     "text": [
      "Z:\\anaconda\\envs\\py_36\\lib\\site-packages\\ipykernel_launcher.py:7: DeprecationWarning: generator 'ngrams' raised StopIteration\n",
      "  import sys\n"
     ]
    },
    {
     "data": {
      "text/plain": [
       "[('â\\x80\\x94 Ð', 1514),\n",
       " ('Ð Ð°Ð¼Ð±Ð\"ÐµÑ\\x80/Ð½Ð¾Ð²Ð¾Ñ\\x81Ñ\\x82Ð¸', 1119),\n",
       " ('â\\x80\\x94 Ð Ð°Ð¼Ð±Ð\"ÐµÑ\\x80/Ð½Ð¾Ð²Ð¾Ñ\\x81Ñ\\x82Ð¸', 1119),\n",
       " ('Ð Ð°Ð¼Ð±Ð\"ÐµÑ\\x80/Ñ\\x81Ð¿Ð¾Ñ\\x80Ñ\\x82', 373),\n",
       " ('â\\x80\\x94 Ð Ð°Ð¼Ð±Ð\"ÐµÑ\\x80/Ñ\\x81Ð¿Ð¾Ñ\\x80Ñ\\x82', 373),\n",
       " ('| www.diariovasco.com', 221),\n",
       " ('de la', 201),\n",
       " ('| The', 185),\n",
       " ('Mirror Online', 154),\n",
       " ('| Express.co.uk', 149),\n",
       " ('| Diario', 140),\n",
       " ('- BBC', 130),\n",
       " ('| Dallas', 124),\n",
       " ('Dallas News', 121),\n",
       " ('| Dallas News', 121),\n",
       " ('Noticias de', 109),\n",
       " ('- allAfrica.com', 105),\n",
       " ('- Süddeutsche.de', 102),\n",
       " ('- Ð¢Ð\\x90Ð¡Ð¡', 98),\n",
       " ('- ¥é¥¤¥Ö¥É¥¢¥Ë¥å¡¼¥¹', 98),\n",
       " ('Ð Ð¾Ñ\\x81Ñ\\x81Ð¸Ð¸', 95),\n",
       " ('| STERN.de', 94),\n",
       " ('y el', 93),\n",
       " ('News |', 93),\n",
       " ('| El', 90),\n",
       " ('BBC News', 90),\n",
       " ('- BBC News', 90),\n",
       " ('- EcoDiario.es', 88),\n",
       " ('- Gazzetta', 88),\n",
       " ('| HAON', 85),\n",
       " ('The Seattle', 83),\n",
       " ('Seattle Times', 83),\n",
       " ('| The Seattle', 83),\n",
       " ('The Seattle Times', 83),\n",
       " ('- Irish', 78),\n",
       " ('Irish Mirror', 78),\n",
       " ('| Metro', 78),\n",
       " ('- Irish Mirror', 78),\n",
       " ('Irish Mirror Online', 78),\n",
       " ('en la', 76),\n",
       " ('| Fox', 76),\n",
       " ('- Mirror', 76),\n",
       " ('- Mirror Online', 76),\n",
       " ('de San', 75),\n",
       " ('- Gifhorner', 75),\n",
       " ('Gifhorner Rundschau', 75),\n",
       " ('- Gifhorner Rundschau', 75),\n",
       " ('que se', 74),\n",
       " ('| News', 74),\n",
       " ('- La', 74),\n",
       " ('el mundo', 74),\n",
       " ('en el', 72),\n",
       " ('- Peiner', 72),\n",
       " ('Peiner Nachrichten', 72),\n",
       " ('| News |', 72),\n",
       " ('- Peiner Nachrichten', 72),\n",
       " ('- Noticias', 71),\n",
       " ('- ØµØ\\xadÙ\\x8aÙ\\x81Ø©', 71),\n",
       " ('ØµØ\\xadÙ\\x8aÙ\\x81Ø© ØµØ¯Ù\\x89', 71),\n",
       " ('ØµØ¯Ù\\x89 Ø§Ù\\x84Ø§Ù\\x84Ù\\x83ØªØ±Ù\\x88Ù\\x86Ù\\x8aØ©', 71),\n",
       " ('- ØµØ\\xadÙ\\x8aÙ\\x81Ø© ØµØ¯Ù\\x89', 71),\n",
       " ('ØµØ\\xadÙ\\x8aÙ\\x81Ø© ØµØ¯Ù\\x89 Ø§Ù\\x84Ø§Ù\\x84Ù\\x83ØªØ±Ù\\x88Ù\\x86Ù\\x8aØ©',\n",
       "  71),\n",
       " (': Ð\\x92Ð\"Ð°Ð´Ð¢Ð°Ð¹Ð¼', 70),\n",
       " ('Diario de', 70),\n",
       " ('de Cuyo', 70),\n",
       " ('Cuyo -', 70),\n",
       " ('San Juan,', 70),\n",
       " ('Juan, Argentina', 70),\n",
       " ('Argentina y', 70),\n",
       " ('| Diario de', 70),\n",
       " ('Diario de Cuyo', 70),\n",
       " ('de Cuyo -', 70),\n",
       " ('Cuyo - Noticias', 70),\n",
       " ('- Noticias de', 70),\n",
       " ('Noticias de San', 70),\n",
       " ('de San Juan,', 70),\n",
       " ('San Juan, Argentina', 70),\n",
       " ('Juan, Argentina y', 70),\n",
       " ('Argentina y el', 70),\n",
       " ('y el mundo', 70),\n",
       " ('Fox News', 69),\n",
       " ('Boko Haram', 68),\n",
       " ('| Fox News', 67),\n",
       " ('| EL', 64),\n",
       " ('- Pulse', 63),\n",
       " ('Ù Ù\\x86', 61),\n",
       " ('- Daily', 61),\n",
       " ('| SDNA', 60),\n",
       " ('Gazzetta di', 59),\n",
       " ('to be', 58),\n",
       " ('| Gyõr-Moson-Sopron', 58),\n",
       " ('Gyõr-Moson-Sopron -', 58),\n",
       " ('- kisalfold.hu', 58),\n",
       " ('| iefimerida.gr', 58),\n",
       " ('| Gyõr-Moson-Sopron -', 58),\n",
       " ('Gyõr-Moson-Sopron - kisalfold.hu', 58),\n",
       " ('Wirtschaft -', 57),\n",
       " ('- Son', 57),\n",
       " ('Son Dakika', 57),\n",
       " ('Dakika Haberler', 57),\n",
       " ('- Son Dakika', 57),\n",
       " ('Son Dakika Haberler', 57),\n",
       " ('- Wirtschaft', 56),\n",
       " ('La Sicilia', 56),\n",
       " ('- Wirtschaft -', 56),\n",
       " ('- La Sicilia', 56),\n",
       " ('News | Express.co.uk', 55),\n",
       " ('Diario del', 54),\n",
       " ('- Politik', 54),\n",
       " ('| Sport', 53),\n",
       " ('of the', 53),\n",
       " ('| Sporting', 53),\n",
       " ('Sporting News', 53),\n",
       " ('- The', 53),\n",
       " ('del Yaqui', 53),\n",
       " ('Yaqui |', 53),\n",
       " ('El periÃ³dico', 53),\n",
       " ('periÃ³dico que', 53),\n",
       " ('se lee', 53),\n",
       " ('lee mÃ¡s...', 53),\n",
       " ('| Sporting News', 53),\n",
       " ('| Diario del', 53),\n",
       " ('Diario del Yaqui', 53),\n",
       " ('del Yaqui |', 53),\n",
       " ('Yaqui | El', 53),\n",
       " ('| El periÃ³dico', 53),\n",
       " ('El periÃ³dico que', 53),\n",
       " ('periÃ³dico que se', 53),\n",
       " ('que se lee', 53),\n",
       " ('se lee mÃ¡s...', 53),\n",
       " ('Politik -', 51),\n",
       " ('| destentor.nl', 50),\n",
       " ('Sport |', 50),\n",
       " ('- ArabianBusiness.com', 50),\n",
       " ('| Sport |', 50),\n",
       " ('- Politik -', 50),\n",
       " ('a la', 49),\n",
       " ('- YaÅ\\x9fam', 49),\n",
       " ('YaÅ\\x9fam Haberleri', 49),\n",
       " ('- YaÅ\\x9fam Haberleri', 49),\n",
       " ('Ù Ù\\x88Ù\\x82Ø¹', 48),\n",
       " ('- Tribun', 48),\n",
       " ('Tribun Timur', 48),\n",
       " ('Gazzetta del', 48),\n",
       " ('del Sud', 48),\n",
       " ('Sud online', 48),\n",
       " ('- Tribun Timur', 48),\n",
       " ('- Gazzetta del', 48),\n",
       " ('Gazzetta del Sud', 48),\n",
       " ('del Sud online', 48),\n",
       " ('- Vanguard', 47),\n",
       " ('Vanguard News', 47),\n",
       " (\"- L'Express\", 47),\n",
       " ('- Vanguard News', 47),\n",
       " ('| Ù', 46),\n",
       " ('Metro News', 46),\n",
       " ('| Metro News', 46),\n",
       " ('de los', 45),\n",
       " ('- Ð¢ÐµÐ\"ÐµÐºÐ°Ð½Ð°Ð\"', 44),\n",
       " ('| Euronews', 43),\n",
       " ('\" CBS', 43),\n",
       " ('| bd.nl', 43),\n",
       " ('| AD.nl', 43),\n",
       " (': Okezone', 43),\n",
       " ('| LNC.nc', 43),\n",
       " ('LNC.nc |', 43),\n",
       " ('| Les', 43),\n",
       " ('Les Nouvelles', 43),\n",
       " ('Nouvelles CalÃ©doniennes,', 43),\n",
       " ('CalÃ©doniennes, le', 43),\n",
       " ('le Journal', 43),\n",
       " ('Journal de', 43),\n",
       " ('de Nouvelle', 43),\n",
       " ('Nouvelle CalÃ©donie', 43),\n",
       " ('| LNC.nc |', 43),\n",
       " ('LNC.nc | Les', 43),\n",
       " ('| Les Nouvelles', 43),\n",
       " ('Les Nouvelles CalÃ©doniennes,', 43),\n",
       " ('Nouvelles CalÃ©doniennes, le', 43),\n",
       " ('CalÃ©doniennes, le Journal', 43),\n",
       " ('le Journal de', 43),\n",
       " ('Journal de Nouvelle', 43),\n",
       " ('de Nouvelle CalÃ©donie', 43),\n",
       " ('in the', 42),\n",
       " ('on the', 42),\n",
       " ('| bndestem.nl', 42),\n",
       " ('- Business', 41),\n",
       " ('di Parma', 41),\n",
       " ('| Ù Ù\\x88Ù\\x82Ø¹', 41),\n",
       " ('2018 -', 40),\n",
       " ('New York', 40),\n",
       " ('Index -', 40),\n",
       " ('- eldiadigital.es', 40),\n",
       " ('- RT', 40),\n",
       " ('- SydÃ¶stran', 40),\n",
       " ('- Ãàçåòà.Ru', 40),\n",
       " ('| Ð\\x98Ð·Ð²ÐµÑ\\x81Ñ\\x82Ð¸Ñ\\x8f', 40),\n",
       " ('- Gazzetta di', 40),\n",
       " ('Gazzetta di Parma', 40),\n",
       " ('- ABC', 39)]"
      ]
     },
     "execution_count": 38,
     "metadata": {},
     "output_type": "execute_result"
    }
   ],
   "source": [
    "from nltk import ngrams\n",
    "\n",
    "def get_ngrams(ngram_range, sentenses): \n",
    "    words=[]\n",
    "    for n in ngram_range:\n",
    "        for name in sentenses:\n",
    "            words=words+ [ ' '.join(ngram) for ngram in   ngrams(name.split(), n)]\n",
    "    return words\n",
    "\n",
    "\n",
    "words = get_ngrams(range(2,4),df['title'].values)\n",
    "from collections import Counter\n",
    "word_counter = Counter(words)\n",
    "word_counter.most_common(200)"
   ]
  },
  {
   "cell_type": "code",
   "execution_count": null,
   "metadata": {},
   "outputs": [],
   "source": []
  }
 ],
 "metadata": {
  "kernelspec": {
   "display_name": "Python 3",
   "language": "python",
   "name": "python3"
  },
  "language_info": {
   "codemirror_mode": {
    "name": "ipython",
    "version": 3
   },
   "file_extension": ".py",
   "mimetype": "text/x-python",
   "name": "python",
   "nbconvert_exporter": "python",
   "pygments_lexer": "ipython3",
   "version": "3.6.4"
  }
 },
 "nbformat": 4,
 "nbformat_minor": 2
}
