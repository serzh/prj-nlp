{
 "cells": [
  {
   "cell_type": "raw",
   "metadata": {},
   "source": [
    "from scrapy.crawler import CrawlerProcess\n",
    "from scrapy.utils.project import get_project_settings\n",
    "\n",
    "process = CrawlerProcess(get_project_settings())\n",
    "spider = TopicSpider()\n",
    "process.crawl(spider)\n",
    "process.start() "
   ]
  },
  {
   "cell_type": "markdown",
   "metadata": {},
   "source": [
    "!scrapy runspider TopicListSpider.py -o TopicList.json"
   ]
  },
  {
   "cell_type": "raw",
   "metadata": {},
   "source": [
    "scrapy runspider ForumPostsSpider.py -o ForumPosts.json"
   ]
  },
  {
   "cell_type": "code",
   "execution_count": 68,
   "metadata": {},
   "outputs": [],
   "source": [
    "import json\n",
    "posts = json.load(open('ForumPosts.json', encoding='utf8'))"
   ]
  },
  {
   "cell_type": "code",
   "execution_count": 66,
   "metadata": {},
   "outputs": [
    {
     "data": {
      "text/plain": [
       "'Чув, що для особливих людей у нас будуть декілька окремих паркомісць Ахах... це ви для себе інфу дізнавались... Беріть собі крайню ліву!!! Буде легше вилазити))) А Ваську і ще тут одному то ті дві інші, щоб свої корита поставили.'"
      ]
     },
     "execution_count": 66,
     "metadata": {},
     "output_type": "execute_result"
    }
   ],
   "source": [
    "from bs4 import BeautifulSoup\n",
    "import re\n",
    "def cleanup(html):\n",
    "    text = BeautifulSoup(html,\"lxml\").get_text().strip(' \\n\\t\\xa0')\n",
    "    text = re.sub('[ \\n|\\t|\\xa0]+',' ', text)\n",
    "    text = BeautifulSoup(text,\"lxml\").get_text()\n",
    "    text=re.sub('р е к л а м а','', text).strip(' \\n\\t\\xa0')\n",
    "    return text\n",
    "\n",
    "cleanup(posts[-3]['text'])\n"
   ]
  },
  {
   "cell_type": "code",
   "execution_count": 69,
   "metadata": {},
   "outputs": [
    {
     "name": "stderr",
     "output_type": "stream",
     "text": [
      "Z:\\anaconda\\envs\\py_36\\lib\\site-packages\\bs4\\__init__.py:282: UserWarning: \"http://i.piccy.info/i9/138c74337bbcf22693432751942ac68a/1438940400/545106/937178/lypen1.jpg\" looks like a URL. Beautiful Soup is not an HTTP client. You should probably use an HTTP client like requests to get the document behind the URL, and feed that document to Beautiful Soup.\n",
      "  ' that document to Beautiful Soup.' % decoded_markup\n",
      "Z:\\anaconda\\envs\\py_36\\lib\\site-packages\\bs4\\__init__.py:282: UserWarning: \"http://i.piccy.info/i9/61196038e572fa1d1dadc7a82a10f5fc/1438940716/454966/937178/lypen3.jpg\" looks like a URL. Beautiful Soup is not an HTTP client. You should probably use an HTTP client like requests to get the document behind the URL, and feed that document to Beautiful Soup.\n",
      "  ' that document to Beautiful Soup.' % decoded_markup\n",
      "Z:\\anaconda\\envs\\py_36\\lib\\site-packages\\bs4\\__init__.py:282: UserWarning: \"http://i.piccy.info/i9/0afefe77aaa5768af06a5a9bbcf8f7ca/1438940765/476593/937178/lypen2.jpg\" looks like a URL. Beautiful Soup is not an HTTP client. You should probably use an HTTP client like requests to get the document behind the URL, and feed that document to Beautiful Soup.\n",
      "  ' that document to Beautiful Soup.' % decoded_markup\n",
      "Z:\\anaconda\\envs\\py_36\\lib\\site-packages\\bs4\\__init__.py:282: UserWarning: \"https://photos.google.com/share/AF1...?key=REUyOXVYZ3BPTkh4RnJJczNuZXd6bUw2WlNmNmpn\" looks like a URL. Beautiful Soup is not an HTTP client. You should probably use an HTTP client like requests to get the document behind the URL, and feed that document to Beautiful Soup.\n",
      "  ' that document to Beautiful Soup.' % decoded_markup\n",
      "Z:\\anaconda\\envs\\py_36\\lib\\site-packages\\bs4\\__init__.py:282: UserWarning: \"http://ic.ua/index.php?lang=ukr\" looks like a URL. Beautiful Soup is not an HTTP client. You should probably use an HTTP client like requests to get the document behind the URL, and feed that document to Beautiful Soup.\n",
      "  ' that document to Beautiful Soup.' % decoded_markup\n",
      "Z:\\anaconda\\envs\\py_36\\lib\\site-packages\\bs4\\__init__.py:282: UserWarning: \"http://www.builderclub.com/statyi/i...ya-avtonomnaya-kanalizaciya-dlya-doma-septik/\" looks like a URL. Beautiful Soup is not an HTTP client. You should probably use an HTTP client like requests to get the document behind the URL, and feed that document to Beautiful Soup.\n",
      "  ' that document to Beautiful Soup.' % decoded_markup\n",
      "Z:\\anaconda\\envs\\py_36\\lib\\site-packages\\bs4\\__init__.py:282: UserWarning: \"http://uploads.tapatalk-cdn.com/20161109/00ebcc2e6708bac27240b8603efc20a5.jpg\" looks like a URL. Beautiful Soup is not an HTTP client. You should probably use an HTTP client like requests to get the document behind the URL, and feed that document to Beautiful Soup.\n",
      "  ' that document to Beautiful Soup.' % decoded_markup\n",
      "Z:\\anaconda\\envs\\py_36\\lib\\site-packages\\bs4\\__init__.py:282: UserWarning: \"http://www.skyscrapercity.com/showthread.php?t=1211415\" looks like a URL. Beautiful Soup is not an HTTP client. You should probably use an HTTP client like requests to get the document behind the URL, and feed that document to Beautiful Soup.\n",
      "  ' that document to Beautiful Soup.' % decoded_markup\n",
      "Z:\\anaconda\\envs\\py_36\\lib\\site-packages\\bs4\\__init__.py:282: UserWarning: \"https://www.eximb.com/ukr/personal/loans/warm-housing/\" looks like a URL. Beautiful Soup is not an HTTP client. You should probably use an HTTP client like requests to get the document behind the URL, and feed that document to Beautiful Soup.\n",
      "  ' that document to Beautiful Soup.' % decoded_markup\n",
      "Z:\\anaconda\\envs\\py_36\\lib\\site-packages\\bs4\\__init__.py:282: UserWarning: \"http://www.ebay.com/itm/221457049143?redirect=mobile\" looks like a URL. Beautiful Soup is not an HTTP client. You should probably use an HTTP client like requests to get the document behind the URL, and feed that document to Beautiful Soup.\n",
      "  ' that document to Beautiful Soup.' % decoded_markup\n",
      "Z:\\anaconda\\envs\\py_36\\lib\\site-packages\\bs4\\__init__.py:282: UserWarning: \"https://www.google.com.ua/maps/plac...75a56aeb0f0ff66!8m2!3d49.7841672!4d24.0143141\" looks like a URL. Beautiful Soup is not an HTTP client. You should probably use an HTTP client like requests to get the document behind the URL, and feed that document to Beautiful Soup.\n",
      "  ' that document to Beautiful Soup.' % decoded_markup\n",
      "Z:\\anaconda\\envs\\py_36\\lib\\site-packages\\bs4\\__init__.py:282: UserWarning: \"http://vashmagazin.ua\" looks like a URL. Beautiful Soup is not an HTTP client. You should probably use an HTTP client like requests to get the document behind the URL, and feed that document to Beautiful Soup.\n",
      "  ' that document to Beautiful Soup.' % decoded_markup\n",
      "Z:\\anaconda\\envs\\py_36\\lib\\site-packages\\bs4\\__init__.py:219: UserWarning: \"b'.'\" looks like a filename, not markup. You should probably open this file and pass the filehandle into Beautiful Soup.\n",
      "  ' Beautiful Soup.' % markup)\n",
      "Z:\\anaconda\\envs\\py_36\\lib\\site-packages\\bs4\\__init__.py:219: UserWarning: \"b'...'\" looks like a filename, not markup. You should probably open this file and pass the filehandle into Beautiful Soup.\n",
      "  ' Beautiful Soup.' % markup)\n",
      "Z:\\anaconda\\envs\\py_36\\lib\\site-packages\\bs4\\__init__.py:282: UserWarning: \"https://vk.com/nk_lviv?w=wall-71592867_4818\" looks like a URL. Beautiful Soup is not an HTTP client. You should probably use an HTTP client like requests to get the document behind the URL, and feed that document to Beautiful Soup.\n",
      "  ' that document to Beautiful Soup.' % decoded_markup\n"
     ]
    }
   ],
   "source": [
    "import pandas as pd\n",
    "df = pd.DataFrame(posts)\n",
    "df['clean_text']=df['text'].apply(cleanup)\n",
    "df['topic']=df['topic'].apply(lambda arr: arr[0] if len(arr)>0 else '')"
   ]
  },
  {
   "cell_type": "code",
   "execution_count": 70,
   "metadata": {},
   "outputs": [
    {
     "data": {
      "text/html": [
       "<div>\n",
       "<style scoped>\n",
       "    .dataframe tbody tr th:only-of-type {\n",
       "        vertical-align: middle;\n",
       "    }\n",
       "\n",
       "    .dataframe tbody tr th {\n",
       "        vertical-align: top;\n",
       "    }\n",
       "\n",
       "    .dataframe thead th {\n",
       "        text-align: right;\n",
       "    }\n",
       "</style>\n",
       "<table border=\"1\" class=\"dataframe\">\n",
       "  <thead>\n",
       "    <tr style=\"text-align: right;\">\n",
       "      <th></th>\n",
       "      <th>date</th>\n",
       "      <th>text</th>\n",
       "      <th>topic</th>\n",
       "      <th>user_name</th>\n",
       "      <th>clean_text</th>\n",
       "    </tr>\n",
       "  </thead>\n",
       "  <tbody>\n",
       "    <tr>\n",
       "      <th>0</th>\n",
       "      <td>20 кві 2016</td>\n",
       "      <td>&lt;div class=\"messageContent\"&gt;\\t\\t\\n\\t\\t\\t&lt;artic...</td>\n",
       "      <td>Велика Британія, 4та черга</td>\n",
       "      <td>WIXIW</td>\n",
       "      <td>Група для тих хто купив або збирається купити ...</td>\n",
       "    </tr>\n",
       "    <tr>\n",
       "      <th>1</th>\n",
       "      <td>20 кві 2016</td>\n",
       "      <td>&lt;div class=\"messageContent\"&gt;\\t\\t\\n\\t\\t\\t&lt;artic...</td>\n",
       "      <td>Велика Британія, 4та черга</td>\n",
       "      <td>WIXIW</td>\n",
       "      <td>Сьогодні Ріел додав на своєму сайті рекламу 4 ...</td>\n",
       "    </tr>\n",
       "    <tr>\n",
       "      <th>2</th>\n",
       "      <td>21 кві 2016</td>\n",
       "      <td>&lt;div class=\"messageContent\"&gt;\\t\\t\\n\\t\\t\\t&lt;artic...</td>\n",
       "      <td>Велика Британія, 4та черга</td>\n",
       "      <td>WIXIW</td>\n",
       "      <td>Не встигли укласти договір як ціна виросла на ...</td>\n",
       "    </tr>\n",
       "    <tr>\n",
       "      <th>3</th>\n",
       "      <td>18 тра 2016</td>\n",
       "      <td>&lt;div class=\"messageContent\"&gt;\\t\\t\\n\\t\\t\\t&lt;artic...</td>\n",
       "      <td>Велика Британія, 4та черга</td>\n",
       "      <td>WIXIW</td>\n",
       "      <td>а чому виросла?</td>\n",
       "    </tr>\n",
       "    <tr>\n",
       "      <th>4</th>\n",
       "      <td>30 січ 2018</td>\n",
       "      <td>&lt;div class=\"messageContent\"&gt;\\t\\t\\n\\t\\t\\t&lt;artic...</td>\n",
       "      <td>Акції та знижки від забудовників, Нові пропоз...</td>\n",
       "      <td>Novobud</td>\n",
       "      <td>Тема про нові пропозиції від забудовників Льво...</td>\n",
       "    </tr>\n",
       "  </tbody>\n",
       "</table>\n",
       "</div>"
      ],
      "text/plain": [
       "          date                                               text  \\\n",
       "0  20 кві 2016  <div class=\"messageContent\">\\t\\t\\n\\t\\t\\t<artic...   \n",
       "1  20 кві 2016  <div class=\"messageContent\">\\t\\t\\n\\t\\t\\t<artic...   \n",
       "2  21 кві 2016  <div class=\"messageContent\">\\t\\t\\n\\t\\t\\t<artic...   \n",
       "3  18 тра 2016  <div class=\"messageContent\">\\t\\t\\n\\t\\t\\t<artic...   \n",
       "4  30 січ 2018  <div class=\"messageContent\">\\t\\t\\n\\t\\t\\t<artic...   \n",
       "\n",
       "                                               topic user_name  \\\n",
       "0                         Велика Британія, 4та черга     WIXIW   \n",
       "1                         Велика Британія, 4та черга     WIXIW   \n",
       "2                         Велика Британія, 4та черга     WIXIW   \n",
       "3                         Велика Британія, 4та черга     WIXIW   \n",
       "4   Акції та знижки від забудовників, Нові пропоз...   Novobud   \n",
       "\n",
       "                                          clean_text  \n",
       "0  Група для тих хто купив або збирається купити ...  \n",
       "1  Сьогодні Ріел додав на своєму сайті рекламу 4 ...  \n",
       "2  Не встигли укласти договір як ціна виросла на ...  \n",
       "3                                    а чому виросла?  \n",
       "4  Тема про нові пропозиції від забудовників Льво...  "
      ]
     },
     "execution_count": 70,
     "metadata": {},
     "output_type": "execute_result"
    }
   ],
   "source": [
    "df[:5]"
   ]
  },
  {
   "cell_type": "code",
   "execution_count": 74,
   "metadata": {},
   "outputs": [
    {
     "data": {
      "text/plain": [
       "ЖК \"Ювелірний\" -відгуки                                                                                 2525\n",
       "Квартира \"Добра оселя\" вул Княгині Ольги                                                                2416\n",
       "ЖК Набережний квартал на вул. Пулюя                                                                     1555\n",
       "ЖК \"Велика британія\" - Ріел                                                                             1417\n",
       "Відгуки про Креатор Буд а конкретно ЖК Квіти Львова                                                     1193\n",
       "Новобуди від Ріел. Які враження?                                                                         869\n",
       "Квартира в Житловому комплексі по вул.Демнянській - відгуки, обговорення                                 719\n",
       "Житло в новобудовах винники                                                                              620\n",
       "ЖК \"МАРКО ПОЛО\"                                                                                          585\n",
       "Новобудови від ГалЖитлобуд (іденткод 38853289).                                                          501\n",
       "ЖК \"Велика Британія\" - Ріел 3-тя черга.                                                                  417\n",
       "Велика Британія, 4та черга                                                                               352\n",
       "ЖК - Львівська Мрія - відгуки, поради, новини                                                            343\n",
       "Ремонт своїми руками                                                                                     326\n",
       "ЖК \"Велика Британія\" - Ріел 5-та черга.                                                                  223\n",
       "Бельгійське містечко                                                                                     187\n",
       "Новобудова на Антонича ЖК \"Сихівська вежа\"від ІРОКС                                                      165\n",
       "Політ фантазії (думки щодо дизайну інтер’єру)                                                            161\n",
       "Ремонт ванної кімнати                                                                                    148\n",
       "Двері - вхідні та міжкімнатні.                                                                           132\n",
       "ЖК \"Велика Британія 2 \" (Манхеттен)                                                                      124\n",
       "Металопластикові вікна                                                                                   102\n",
       "Хто як купував квартиру у Львові?                                                                         99\n",
       "Порадьте, майстре...                                                                                      98\n",
       "Будівництво у Канаді                                                                                      94\n",
       "Un.Known і реконструкція                                                                                  94\n",
       "Будівництво власного будинку                                                                              92\n",
       "Будівництво в передмісті Львова                                                                           88\n",
       "Ремонт квартири - ПІДЛОГИ                                                                                 81\n",
       "ЖК Грінвіль Хаус Кн.Ольги                                                                                 80\n",
       "                                                                                                        ... \n",
       "Нова оселя                                                                                                 1\n",
       "ЖК Avalon Zelena Street                                                                                    1\n",
       "5 соток для свого будинку в курортній зоні Одеси                                                           1\n",
       "ЖК Щасливий у Львові. НоваБудова                                                                           1\n",
       "Новобудова Випасова 11Б                                                                                    1\n",
       "Подружжя винайме 1-2-кімнатну квартиру                                                                     1\n",
       "Угорська 14 новобудови                                                                                     1\n",
       "Первинний чи вторинний ринок?                                                                              1\n",
       "Оренда квартири у Львові на вересень або жовтень                                                           1\n",
       "Отзыв о ТзОВ \"Мірничий\"                                                                                    1\n",
       "Потрібна оцінка будівельника                                                                               1\n",
       "Будинки від \"Нової Оселі\" на Вул.Малоголосівській                                                          1\n",
       "Куплю квартиру у Львові                                                                                    1\n",
       "НЕ МАЄТЕ КЛІЄНТІВ ЗАХОДЬТЕ НА proremont.co                                                                 1\n",
       "ЖК Парус - опалення                                                                                        1\n",
       "Врубеля 15                                                                                                 1\n",
       "ЖК Авалон комфорт                                                                                          1\n",
       "Проектні роботи для об'єктів будівництва                                                                   1\n",
       "Підкажіть контакти фірм, які можуть зробити експертизу будинку                                             1\n",
       "Допоможіть купити матрац!)                                                                                 1\n",
       "ЖК Погулянка                                                                                               1\n",
       "Продам 3поверх. Котедж в Брюховичах                                                                        1\n",
       "Декоративні колеса                                                                                         1\n",
       "Обмін 3 к.кв. з кап. ремонтом у Харкові на Львів або Івано-Франківськ!                                     1\n",
       "КУПЛЮ БЕТОНОМІШАЛКУ                                                                                        1\n",
       "Неякісний ремонт двигуна київським центром \"Садово-городня техніка\" а конкретно його механіком Олекс       1\n",
       "Сантехніка з нюля і заміна старої                                                                          1\n",
       "порадьте ролокасети                                                                                        1\n",
       "Діаметр труби у свердловину                                                                                1\n",
       "Ковані елементи                                                                                            1\n",
       "Name: topic, Length: 318, dtype: int64"
      ]
     },
     "execution_count": 74,
     "metadata": {},
     "output_type": "execute_result"
    }
   ],
   "source": [
    "df['topic'].value_counts(sort=True, ascending=False)"
   ]
  },
  {
   "cell_type": "code",
   "execution_count": 97,
   "metadata": {},
   "outputs": [],
   "source": [
    "month_dict={'кві':'04', 'тра':'05', 'січ':'01', 'лют':'02', 'бер':'03', 'гру':'12', 'вер':'09', 'чер':'06', 'лис':'11','сер':'08', 'лип':'07', 'жов':'10'}\n",
    "def get_month(date):\n",
    "    parts= date.split(' ')\n",
    "    return \"{0}-{1}\".format(parts[2],month_dict[parts[1]])"
   ]
  },
  {
   "cell_type": "code",
   "execution_count": 98,
   "metadata": {},
   "outputs": [],
   "source": [
    "df['month']=df['date'].apply(get_month)"
   ]
  },
  {
   "cell_type": "code",
   "execution_count": 110,
   "metadata": {},
   "outputs": [
    {
     "name": "stdout",
     "output_type": "stream",
     "text": [
      "2014-06    889\n",
      "2014-07    784\n",
      "2014-08    636\n",
      "2014-11    608\n",
      "2015-06    608\n",
      "2014-09    594\n",
      "2015-07    585\n",
      "2015-08    555\n",
      "2014-10    488\n",
      "2014-05    472\n",
      "Name: month, dtype: int64\n"
     ]
    }
   ],
   "source": [
    "post_count_by_month = df['month'].value_counts()\n",
    "print(post_count_by_month[:10])\n",
    "post_count_by_month=post_count_by_month.sort_index()"
   ]
  },
  {
   "cell_type": "code",
   "execution_count": 111,
   "metadata": {},
   "outputs": [
    {
     "data": {
      "image/png": "[encoded data removed]",
      "text/plain": [
       "<matplotlib.figure.Figure at 0x1dcfb6805c0>"
      ]
     },
     "metadata": {},
     "output_type": "display_data"
    }
   ],
   "source": [
    "import matplotlib.pyplot as plt\n",
    "import seaborn as sns\n",
    "%matplotlib inline\n",
    "\n",
    "\n",
    "plt.figure(figsize=(16,9))\n",
    "sns.barplot(post_count_by_month.index, post_count_by_month.values, alpha=0.8)\n",
    "plt.title('User activity')\n",
    "plt.ylabel('Number of Occurrences', fontsize=12)\n",
    "plt.xlabel('Month', fontsize=12)\n",
    "plt.show()"
   ]
  },
  {
   "cell_type": "code",
   "execution_count": 114,
   "metadata": {},
   "outputs": [],
   "source": [
    "from nltk import ngrams\n",
    "\n",
    "def get_ngrams(ngram_range, sentenses): \n",
    "    words=[]\n",
    "    for n in ngram_range:\n",
    "        for name in sentenses:\n",
    "            words=words+ [ ' '.join(ngram) for ngram in   ngrams(name.split(), n)]\n",
    "    return words\n",
    "\n"
   ]
  },
  {
   "cell_type": "code",
   "execution_count": 115,
   "metadata": {},
   "outputs": [
    {
     "name": "stderr",
     "output_type": "stream",
     "text": [
      "Z:\\anaconda\\envs\\py_36\\lib\\site-packages\\ipykernel_launcher.py:7: DeprecationWarning: generator 'ngrams' raised StopIteration\n",
      "  import sys\n"
     ]
    },
    {
     "data": {
      "text/plain": [
       "[('не', 25070),\n",
       " ('в', 24609),\n",
       " ('і', 23908),\n",
       " ('на', 22010),\n",
       " ('що', 15031),\n",
       " ('від', 14724),\n",
       " ('щоб', 13470),\n",
       " ('з', 12793),\n",
       " ('-', 11374),\n",
       " ('розгорнути...', 11191),\n",
       " ('щоб розгорнути...', 11191),\n",
       " ('Цитата', 10992),\n",
       " ('Цитата від', 10949),\n",
       " ('↑', 10945),\n",
       " ('у', 8668),\n",
       " ('а', 7755),\n",
       " ('то', 6841),\n",
       " ('за', 6761),\n",
       " ('це', 6757),\n",
       " ('до', 6544),\n",
       " ('як', 6218),\n",
       " ('я', 5589),\n",
       " ('по', 5454),\n",
       " ('А', 5157),\n",
       " ('вже', 4957),\n",
       " ('чи', 4787),\n",
       " ('про', 4670),\n",
       " ('ще', 4524),\n",
       " ('буде', 4477),\n",
       " ('та', 4454),\n",
       " ('є', 4190),\n",
       " ('так', 4177),\n",
       " ('але', 4065),\n",
       " ('для', 3936),\n",
       " ('там', 3754),\n",
       " ('все', 3516),\n",
       " ('----------', 3304),\n",
       " ('якщо', 2971),\n",
       " ('Я', 2817),\n",
       " ('и', 2808),\n",
       " ('ви', 2724),\n",
       " (',', 2571),\n",
       " ('вони', 2479),\n",
       " ('можна', 2460),\n",
       " ('В', 2274),\n",
       " ('які', 2194),\n",
       " ('І', 2092),\n",
       " ('тут', 2032),\n",
       " ('дуже', 1995),\n",
       " ('б', 1977),\n",
       " ('був', 1958),\n",
       " ('бо', 1947),\n",
       " ('всі', 1931),\n",
       " ('ж', 1910),\n",
       " ('коли', 1872),\n",
       " ('може', 1842),\n",
       " ('тому', 1834),\n",
       " ('мене', 1830),\n",
       " ('хто', 1781),\n",
       " ('або', 1753),\n",
       " ('ми', 1721),\n",
       " ('було', 1713),\n",
       " ('тільки', 1691),\n",
       " ('де', 1684),\n",
       " ('будуть', 1656),\n",
       " ('Ви', 1602),\n",
       " ('має', 1588),\n",
       " ('нас', 1585),\n",
       " ('із', 1557),\n",
       " ('будинку', 1523),\n",
       " ('хтось', 1503),\n",
       " ('треба', 1501),\n",
       " ('На', 1477),\n",
       " ('при', 1466),\n",
       " ('щось', 1465),\n",
       " ('мені', 1460),\n",
       " ('квартиру', 1439),\n",
       " ('під', 1429),\n",
       " ('Якщо', 1412),\n",
       " ('їх', 1410),\n",
       " ('теж', 1360),\n",
       " ('Але', 1341),\n",
       " ('без', 1326),\n",
       " ('бути', 1320),\n",
       " ('будинок', 1284),\n",
       " ('через', 1274),\n",
       " ('Не', 1260),\n",
       " ('зараз', 1255),\n",
       " ('просто', 1242),\n",
       " ('його', 1229),\n",
       " ('й', 1225),\n",
       " ('також', 1205),\n",
       " ('квартири', 1205),\n",
       " ('Це', 1196),\n",
       " ('них', 1195),\n",
       " ('2', 1186),\n",
       " ('вам', 1182),\n",
       " ('навіть', 1180),\n",
       " ('який', 1171),\n",
       " ('яка', 1160),\n",
       " ('допис', 1156),\n",
       " ('того', 1150),\n",
       " ('вас', 1116),\n",
       " ('написаний', 1114),\n",
       " ('Додано', 1111),\n",
       " ('Попередній', 1110),\n",
       " ('от', 1105),\n",
       " ('був написаний', 1105),\n",
       " ('---------- Додано', 1102),\n",
       " ('Додано в', 1102),\n",
       " ('---------- Попередній', 1102),\n",
       " ('Попередній допис', 1102),\n",
       " ('допис був', 1102),\n",
       " ('---------- Додано в', 1102),\n",
       " ('---------- Попередній допис', 1102),\n",
       " ('Попередній допис був', 1102),\n",
       " ('допис був написаний', 1102),\n",
       " ('У', 1099),\n",
       " ('написаний в', 1097),\n",
       " ('був написаний в', 1097),\n",
       " ('він', 1084),\n",
       " ('і не', 1063),\n",
       " ('більше', 1060),\n",
       " ('би', 1045),\n",
       " ('с', 1014),\n",
       " ('після', 1012),\n",
       " ('цього', 1010),\n",
       " ('1', 977),\n",
       " ('будівництва', 976),\n",
       " ('Так', 952),\n",
       " ('ОСББ', 950),\n",
       " ('потрібно', 944),\n",
       " ('?', 933),\n",
       " ('лише', 932),\n",
       " ('питання', 923),\n",
       " ('Розмір', 907),\n",
       " ('файлу:', 901),\n",
       " ('Переглядів:', 901),\n",
       " ('Розмір файлу:', 901),\n",
       " ('багато', 900),\n",
       " ('КБ', 899),\n",
       " ('КБ Переглядів:', 899),\n",
       " ('ЖК', 894),\n",
       " ('Чи', 882),\n",
       " ('Як', 879),\n",
       " ('Ну', 859),\n",
       " ('саме', 857),\n",
       " ('3', 852),\n",
       " ('нічого', 847),\n",
       " ('потім', 840),\n",
       " ('взагалі', 838),\n",
       " ('нам', 834),\n",
       " ('что', 832),\n",
       " ('квартир', 830),\n",
       " ('собі', 825),\n",
       " ('такі', 814),\n",
       " ('робити', 789),\n",
       " ('один', 780),\n",
       " ('всіх', 771),\n",
       " ('ціна', 760),\n",
       " ('↑ А', 747),\n",
       " ('люди', 746),\n",
       " ('те', 745),\n",
       " ('а не', 745),\n",
       " ('краще', 743),\n",
       " ('ніж', 743),\n",
       " ('тоді', 738),\n",
       " ('десь', 734),\n",
       " ('була', 728),\n",
       " ('.', 725),\n",
       " ('її', 725),\n",
       " ('біля', 724),\n",
       " ('ті', 720),\n",
       " ('зробити', 715),\n",
       " ('- це', 713),\n",
       " ('фото', 710),\n",
       " ('ніхто', 709),\n",
       " ('таке', 708),\n",
       " ('З', 700),\n",
       " ('цьому', 696),\n",
       " ('секції', 695),\n",
       " ('чому', 687),\n",
       " ('5', 685),\n",
       " ('час', 682),\n",
       " ('(', 675),\n",
       " ('той', 672),\n",
       " ('тим', 671),\n",
       " ('були', 660),\n",
       " ('тепер', 659),\n",
       " ('зі', 648),\n",
       " ('чого', 647),\n",
       " ('шо', 646),\n",
       " ('свої', 644),\n",
       " ('ні', 644),\n",
       " ('цей', 644),\n",
       " ('думаю', 643),\n",
       " ('раз', 642),\n",
       " ('мають', 640),\n",
       " ('скільки', 639),\n",
       " ('розгорнути... А', 636)]"
      ]
     },
     "execution_count": 115,
     "metadata": {},
     "output_type": "execute_result"
    }
   ],
   "source": [
    "words = get_ngrams(range(1,4),df['clean_text'].values)\n",
    "from collections import Counter\n",
    "word_counter = Counter(words)\n",
    "word_counter.most_common(200)"
   ]
  },
  {
   "cell_type": "code",
   "execution_count": 116,
   "metadata": {},
   "outputs": [
    {
     "data": {
      "text/plain": [
       "1557918"
      ]
     },
     "execution_count": 116,
     "metadata": {},
     "output_type": "execute_result"
    }
   ],
   "source": [
    "len(word_counter)"
   ]
  },
  {
   "cell_type": "code",
   "execution_count": null,
   "metadata": {},
   "outputs": [],
   "source": []
  }
 ],
 "metadata": {
  "kernelspec": {
   "display_name": "Python 3",
   "language": "python",
   "name": "python3"
  },
  "language_info": {
   "codemirror_mode": {
    "name": "ipython",
    "version": 3
   },
   "file_extension": ".py",
   "mimetype": "text/x-python",
   "name": "python",
   "nbconvert_exporter": "python",
   "pygments_lexer": "ipython3",
   "version": "3.6.4"
  }
 },
 "nbformat": 4,
 "nbformat_minor": 2
}
