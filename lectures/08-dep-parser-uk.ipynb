{
 "cells": [
  {
   "cell_type": "markdown",
   "metadata": {},
   "source": [
    "# Transition-based arc-eager unlabeled dependency parser for Ukrainian"
   ]
  },
  {
   "cell_type": "markdown",
   "metadata": {},
   "source": [
    "## Read the data\n",
    "\n",
    "Useful links:\n",
    "* [UD corpus for Ukrainian](https://github.com/UniversalDependencies/UD_Ukrainian-IU/)\n",
    "* [Easy-to-use library for parsing UD](https://github.com/EmilStenstrom/conllu)"
   ]
  },
  {
   "cell_type": "code",
   "execution_count": 1,
   "metadata": {},
   "outputs": [],
   "source": [
    "from collections import OrderedDict\n",
    "from conllu import parse\n",
    "from enum import Enum\n",
    "from sklearn.feature_extraction import DictVectorizer\n",
    "from sklearn.linear_model import LogisticRegression\n",
    "from sklearn.metrics import classification_report\n",
    "\n",
    "PATH = \"/Users/mromanyshyn/Workspace/projector/8-parsing/UD_Ukrainian-IU\"\n",
    "\n",
    "with open(PATH + \"/uk_iu-ud-train.conllu\", \"r\") as f:\n",
    "    data = f.read()\n",
    "\n",
    "trees = parse(data)"
   ]
  },
  {
   "cell_type": "code",
   "execution_count": 2,
   "metadata": {},
   "outputs": [
    {
     "name": "stdout",
     "output_type": "stream",
     "text": [
      "У <-- домі\n",
      "домі <-- була\n",
      "римського <-- патриція\n",
      "патриція <-- домі\n",
      "Руфіна <-- патриція\n",
      "була <-- root\n",
      "прегарна <-- фреска\n",
      "фреска <-- була\n",
      ", <-- зображення\n",
      "зображення <-- фреска\n",
      "Венери <-- зображення\n",
      "та <-- Адоніса\n",
      "Адоніса <-- Венери\n",
      ". <-- була\n"
     ]
    }
   ],
   "source": [
    "tree = trees[0]\n",
    "for node in tree:\n",
    "    head = node[\"head\"]\n",
    "    print(\"{} <-- {}\".format(node[\"form\"],\n",
    "                             tree[head - 1][\"form\"]\n",
    "                             if head > 0 else \"root\"))"
   ]
  },
  {
   "cell_type": "markdown",
   "metadata": {},
   "source": [
    "## Design actions and the oracle\n",
    "\n",
    "We will be using a static oracle that reproduces a single valid order of actions."
   ]
  },
  {
   "cell_type": "code",
   "execution_count": 3,
   "metadata": {},
   "outputs": [],
   "source": [
    "class Actions(str, Enum):\n",
    "    SHIFT = \"shift\"\n",
    "    REDUCE = \"reduce\"\n",
    "    RIGHT = \"right\"\n",
    "    LEFT = \"left\"\n",
    "\n",
    "def oracle(top_stack, top_queue, relations):\n",
    "    \"\"\"\n",
    "    Make a decision on the right action to do.\n",
    "    \"\"\"\n",
    "    # check if both stack and queue are non-empty\n",
    "    if top_stack and not top_queue:\n",
    "        return Actions.REDUCE\n",
    "    # check if there are any clear dependencies\n",
    "    elif top_queue[\"head\"] == top_stack[\"id\"]:\n",
    "        return Actions.RIGHT\n",
    "    elif top_stack[\"head\"] == top_queue[\"id\"]:\n",
    "        return Actions.LEFT\n",
    "    # check if we can reduce the top of the stack\n",
    "    elif top_stack[\"id\"] in [i[0] for i in relations] and \\\n",
    "         top_queue[\"head\"] < top_stack[\"id\"]:\n",
    "        return Actions.REDUCE\n",
    "    # default option\n",
    "    else:\n",
    "        return Actions.SHIFT"
   ]
  },
  {
   "cell_type": "code",
   "execution_count": 4,
   "metadata": {},
   "outputs": [
    {
     "name": "stdout",
     "output_type": "stream",
     "text": [
      "Stack: ['ROOT']\n",
      "Queue: ['У', 'домі', 'римського', 'патриція', 'Руфіна', 'була', 'прегарна', 'фреска', ',', 'зображення', 'Венери', 'та', 'Адоніса', '.']\n",
      "Relations: []\n",
      "Actions.SHIFT\n",
      "========================\n",
      "Stack: ['ROOT', 'У']\n",
      "Queue: ['домі', 'римського', 'патриція', 'Руфіна', 'була', 'прегарна', 'фреска', ',', 'зображення', 'Венери', 'та', 'Адоніса', '.']\n",
      "Relations: []\n",
      "Actions.LEFT\n",
      "========================\n",
      "Stack: ['ROOT']\n",
      "Queue: ['домі', 'римського', 'патриція', 'Руфіна', 'була', 'прегарна', 'фреска', ',', 'зображення', 'Венери', 'та', 'Адоніса', '.']\n",
      "Relations: [(1, 2)]\n",
      "Actions.SHIFT\n",
      "========================\n",
      "Stack: ['ROOT', 'домі']\n",
      "Queue: ['римського', 'патриція', 'Руфіна', 'була', 'прегарна', 'фреска', ',', 'зображення', 'Венери', 'та', 'Адоніса', '.']\n",
      "Relations: [(1, 2)]\n",
      "Actions.SHIFT\n",
      "========================\n",
      "Stack: ['ROOT', 'домі', 'римського']\n",
      "Queue: ['патриція', 'Руфіна', 'була', 'прегарна', 'фреска', ',', 'зображення', 'Венери', 'та', 'Адоніса', '.']\n",
      "Relations: [(1, 2)]\n",
      "Actions.LEFT\n",
      "========================\n",
      "Stack: ['ROOT', 'домі']\n",
      "Queue: ['патриція', 'Руфіна', 'була', 'прегарна', 'фреска', ',', 'зображення', 'Венери', 'та', 'Адоніса', '.']\n",
      "Relations: [(1, 2), (3, 4)]\n",
      "Actions.RIGHT\n",
      "========================\n",
      "Stack: ['ROOT', 'домі', 'патриція']\n",
      "Queue: ['Руфіна', 'була', 'прегарна', 'фреска', ',', 'зображення', 'Венери', 'та', 'Адоніса', '.']\n",
      "Relations: [(1, 2), (3, 4), (4, 2)]\n",
      "Actions.RIGHT\n",
      "========================\n",
      "Stack: ['ROOT', 'домі', 'патриція', 'Руфіна']\n",
      "Queue: ['була', 'прегарна', 'фреска', ',', 'зображення', 'Венери', 'та', 'Адоніса', '.']\n",
      "Relations: [(1, 2), (3, 4), (4, 2), (5, 4)]\n",
      "Actions.REDUCE\n",
      "========================\n",
      "Stack: ['ROOT', 'домі', 'патриція']\n",
      "Queue: ['була', 'прегарна', 'фреска', ',', 'зображення', 'Венери', 'та', 'Адоніса', '.']\n",
      "Relations: [(1, 2), (3, 4), (4, 2), (5, 4)]\n",
      "Actions.REDUCE\n",
      "========================\n",
      "Stack: ['ROOT', 'домі']\n",
      "Queue: ['була', 'прегарна', 'фреска', ',', 'зображення', 'Венери', 'та', 'Адоніса', '.']\n",
      "Relations: [(1, 2), (3, 4), (4, 2), (5, 4)]\n",
      "Actions.LEFT\n",
      "========================\n",
      "Stack: ['ROOT']\n",
      "Queue: ['була', 'прегарна', 'фреска', ',', 'зображення', 'Венери', 'та', 'Адоніса', '.']\n",
      "Relations: [(1, 2), (3, 4), (4, 2), (5, 4), (2, 6)]\n",
      "Actions.RIGHT\n",
      "========================\n",
      "Stack: ['ROOT', 'була']\n",
      "Queue: ['прегарна', 'фреска', ',', 'зображення', 'Венери', 'та', 'Адоніса', '.']\n",
      "Relations: [(1, 2), (3, 4), (4, 2), (5, 4), (2, 6), (6, 0)]\n",
      "Actions.SHIFT\n",
      "========================\n",
      "Stack: ['ROOT', 'була', 'прегарна']\n",
      "Queue: ['фреска', ',', 'зображення', 'Венери', 'та', 'Адоніса', '.']\n",
      "Relations: [(1, 2), (3, 4), (4, 2), (5, 4), (2, 6), (6, 0)]\n",
      "Actions.LEFT\n",
      "========================\n",
      "Stack: ['ROOT', 'була']\n",
      "Queue: ['фреска', ',', 'зображення', 'Венери', 'та', 'Адоніса', '.']\n",
      "Relations: [(1, 2), (3, 4), (4, 2), (5, 4), (2, 6), (6, 0), (7, 8)]\n",
      "Actions.RIGHT\n",
      "========================\n",
      "Stack: ['ROOT', 'була', 'фреска']\n",
      "Queue: [',', 'зображення', 'Венери', 'та', 'Адоніса', '.']\n",
      "Relations: [(1, 2), (3, 4), (4, 2), (5, 4), (2, 6), (6, 0), (7, 8), (8, 6)]\n",
      "Actions.SHIFT\n",
      "========================\n",
      "Stack: ['ROOT', 'була', 'фреска', ',']\n",
      "Queue: ['зображення', 'Венери', 'та', 'Адоніса', '.']\n",
      "Relations: [(1, 2), (3, 4), (4, 2), (5, 4), (2, 6), (6, 0), (7, 8), (8, 6)]\n",
      "Actions.LEFT\n",
      "========================\n",
      "Stack: ['ROOT', 'була', 'фреска']\n",
      "Queue: ['зображення', 'Венери', 'та', 'Адоніса', '.']\n",
      "Relations: [(1, 2), (3, 4), (4, 2), (5, 4), (2, 6), (6, 0), (7, 8), (8, 6), (9, 10)]\n",
      "Actions.RIGHT\n",
      "========================\n",
      "Stack: ['ROOT', 'була', 'фреска', 'зображення']\n",
      "Queue: ['Венери', 'та', 'Адоніса', '.']\n",
      "Relations: [(1, 2), (3, 4), (4, 2), (5, 4), (2, 6), (6, 0), (7, 8), (8, 6), (9, 10), (10, 8)]\n",
      "Actions.RIGHT\n",
      "========================\n",
      "Stack: ['ROOT', 'була', 'фреска', 'зображення', 'Венери']\n",
      "Queue: ['та', 'Адоніса', '.']\n",
      "Relations: [(1, 2), (3, 4), (4, 2), (5, 4), (2, 6), (6, 0), (7, 8), (8, 6), (9, 10), (10, 8), (11, 10)]\n",
      "Actions.SHIFT\n",
      "========================\n",
      "Stack: ['ROOT', 'була', 'фреска', 'зображення', 'Венери', 'та']\n",
      "Queue: ['Адоніса', '.']\n",
      "Relations: [(1, 2), (3, 4), (4, 2), (5, 4), (2, 6), (6, 0), (7, 8), (8, 6), (9, 10), (10, 8), (11, 10)]\n",
      "Actions.LEFT\n",
      "========================\n",
      "Stack: ['ROOT', 'була', 'фреска', 'зображення', 'Венери']\n",
      "Queue: ['Адоніса', '.']\n",
      "Relations: [(1, 2), (3, 4), (4, 2), (5, 4), (2, 6), (6, 0), (7, 8), (8, 6), (9, 10), (10, 8), (11, 10), (12, 13)]\n",
      "Actions.RIGHT\n",
      "========================\n",
      "Stack: ['ROOT', 'була', 'фреска', 'зображення', 'Венери', 'Адоніса']\n",
      "Queue: ['.']\n",
      "Relations: [(1, 2), (3, 4), (4, 2), (5, 4), (2, 6), (6, 0), (7, 8), (8, 6), (9, 10), (10, 8), (11, 10), (12, 13), (13, 11)]\n",
      "Actions.REDUCE\n",
      "========================\n",
      "Stack: ['ROOT', 'була', 'фреска', 'зображення', 'Венери']\n",
      "Queue: ['.']\n",
      "Relations: [(1, 2), (3, 4), (4, 2), (5, 4), (2, 6), (6, 0), (7, 8), (8, 6), (9, 10), (10, 8), (11, 10), (12, 13), (13, 11)]\n",
      "Actions.REDUCE\n",
      "========================\n",
      "Stack: ['ROOT', 'була', 'фреска', 'зображення']\n",
      "Queue: ['.']\n",
      "Relations: [(1, 2), (3, 4), (4, 2), (5, 4), (2, 6), (6, 0), (7, 8), (8, 6), (9, 10), (10, 8), (11, 10), (12, 13), (13, 11)]\n",
      "Actions.REDUCE\n",
      "========================\n",
      "Stack: ['ROOT', 'була', 'фреска']\n",
      "Queue: ['.']\n",
      "Relations: [(1, 2), (3, 4), (4, 2), (5, 4), (2, 6), (6, 0), (7, 8), (8, 6), (9, 10), (10, 8), (11, 10), (12, 13), (13, 11)]\n",
      "Actions.REDUCE\n",
      "========================\n",
      "Stack: ['ROOT', 'була']\n",
      "Queue: ['.']\n",
      "Relations: [(1, 2), (3, 4), (4, 2), (5, 4), (2, 6), (6, 0), (7, 8), (8, 6), (9, 10), (10, 8), (11, 10), (12, 13), (13, 11)]\n",
      "Actions.RIGHT\n",
      "========================\n",
      "Stack: ['ROOT', 'була', '.']\n",
      "Queue: []\n",
      "Relations: [(1, 2), (3, 4), (4, 2), (5, 4), (2, 6), (6, 0), (7, 8), (8, 6), (9, 10), (10, 8), (11, 10), (12, 13), (13, 11), (14, 6)]\n",
      "Actions.REDUCE\n",
      "========================\n",
      "Stack: ['ROOT', 'була']\n",
      "Queue: []\n",
      "Relations: [(1, 2), (3, 4), (4, 2), (5, 4), (2, 6), (6, 0), (7, 8), (8, 6), (9, 10), (10, 8), (11, 10), (12, 13), (13, 11), (14, 6)]\n",
      "Actions.REDUCE\n",
      "========================\n",
      "Stack: ['ROOT']\n",
      "Queue: []\n",
      "Relations: [(1, 2), (3, 4), (4, 2), (5, 4), (2, 6), (6, 0), (7, 8), (8, 6), (9, 10), (10, 8), (11, 10), (12, 13), (13, 11), (14, 6)]\n",
      "Actions.REDUCE\n",
      "========================\n",
      "Gold relations:\n",
      "[(1, 2), (2, 6), (3, 4), (4, 2), (5, 4), (6, 0), (7, 8), (8, 6), (9, 10), (10, 8), (11, 10), (12, 13), (13, 11), (14, 6)]\n",
      "Retrieved relations:\n",
      "[(1, 2), (2, 6), (3, 4), (4, 2), (5, 4), (6, 0), (7, 8), (8, 6), (9, 10), (10, 8), (11, 10), (12, 13), (13, 11), (14, 6)]\n"
     ]
    }
   ],
   "source": [
    "ROOT = OrderedDict([('id', 0), ('form', 'ROOT'), ('lemma', 'ROOT'), ('upostag', 'ROOT'),\n",
    "                    ('xpostag', None), ('feats', None), ('head', None), ('deprel', None),\n",
    "                    ('deps', None), ('misc', None)])\n",
    "\n",
    "def trace_actions(tree, log=True):\n",
    "    \"\"\"\n",
    "    Try out the oracle to verify it's returning the right actions.\n",
    "    \"\"\"\n",
    "    stack, queue, relations = [ROOT], tree[:], []\n",
    "    while queue or stack:\n",
    "        action = oracle(stack[-1] if len(stack) > 0 else None,\n",
    "                        queue[0] if len(queue) > 0 else None,\n",
    "                        relations)\n",
    "        if log:\n",
    "            print(\"Stack:\", [i[\"form\"] for i in stack])\n",
    "            print(\"Queue:\", [i[\"form\"] for i in queue])\n",
    "            print(\"Relations:\", relations)\n",
    "            print(action)\n",
    "            print(\"========================\")\n",
    "        if action == Actions.SHIFT:\n",
    "            stack.append(queue.pop(0))\n",
    "        elif action == Actions.REDUCE:\n",
    "            stack.pop()\n",
    "        elif action == Actions.LEFT:\n",
    "            relations.append((stack[-1][\"id\"], queue[0][\"id\"]))\n",
    "            stack.pop()\n",
    "        elif action == Actions.RIGHT:\n",
    "            relations.append((queue[0][\"id\"], stack[-1][\"id\"]))\n",
    "            stack.append(queue.pop(0))\n",
    "        else:\n",
    "            print(\"Unknown action.\")\n",
    "    if log:\n",
    "        print(\"Gold relations:\")\n",
    "        print([(node[\"id\"], node[\"head\"]) for node in tree])\n",
    "        print(\"Retrieved relations:\")\n",
    "        print(sorted(relations))\n",
    "\n",
    "trace_actions(tree)"
   ]
  },
  {
   "cell_type": "markdown",
   "metadata": {},
   "source": [
    "## Feature extraction\n",
    "\n",
    "Reference: [Dependency Parsing by Kübler, McDonald, and Nivre](https://books.google.com.ua/books?id=k3iiup7HB9UC&pg=PA21&hl=uk&source=gbs_toc_r&cad=4#v=onepage&q&f=false)"
   ]
  },
  {
   "cell_type": "code",
   "execution_count": 5,
   "metadata": {},
   "outputs": [],
   "source": [
    "def extract_features(stack, queue):\n",
    "    features = dict()\n",
    "    if len(stack) > 0:\n",
    "        stack_top = stack[-1]\n",
    "        features[\"s0-word\"] = stack_top[\"form\"]\n",
    "        features[\"s0-lemma\"] = stack_top[\"lemma\"]\n",
    "        features[\"s0-tag\"] = stack_top[\"upostag\"]\n",
    "        if stack_top[\"feats\"]:\n",
    "            for k, v in stack_top[\"feats\"].items():\n",
    "                features[\"s0-\" + k] = v\n",
    "    if len(stack) > 1:\n",
    "        features[\"s1-tag\"] = stack_top[\"upostag\"]\n",
    "    if queue:\n",
    "        queue_top = queue[0]\n",
    "        features[\"q0-word\"] = queue_top[\"form\"]\n",
    "        features[\"q0-lemma\"] = queue_top[\"lemma\"]\n",
    "        features[\"q0-tag\"] = queue_top[\"upostag\"]\n",
    "        if queue_top[\"feats\"]:\n",
    "            for k, v in queue_top[\"feats\"].items():\n",
    "                features[\"q0-\" + k] = v\n",
    "    if len(queue) > 1:\n",
    "        queue_next = queue[1]\n",
    "        features[\"q1-word\"] = queue_next[\"form\"]\n",
    "        features[\"q1-tag\"] = queue_next[\"upostag\"]\n",
    "    if len(queue) > 2:\n",
    "        features[\"q2-tag\"] = queue[2][\"upostag\"]\n",
    "    if len(queue) > 3:\n",
    "        features[\"q3-tag\"] = queue[3][\"upostag\"]\n",
    "    if stack and queue:\n",
    "        features[\"distance\"] = queue[0][\"id\"] - stack[-1][\"id\"]\n",
    "    return features"
   ]
  },
  {
   "cell_type": "markdown",
   "metadata": {},
   "source": [
    "## Prepare train and test data"
   ]
  },
  {
   "cell_type": "code",
   "execution_count": 6,
   "metadata": {},
   "outputs": [],
   "source": [
    "def get_data(trees):\n",
    "    features, labels = [], []\n",
    "    for tree in trees:\n",
    "        stack, queue, relations = [ROOT], tree[:], []\n",
    "\n",
    "        while queue or stack:\n",
    "            action = oracle(stack[-1] if len(stack) > 0 else None,\n",
    "                            queue[0] if len(queue) > 0 else None,\n",
    "                            relations)\n",
    "            features.append(extract_features(stack, queue))\n",
    "            labels.append(action.value)\n",
    "            if action == Actions.SHIFT:\n",
    "                stack.append(queue.pop(0))\n",
    "            elif action == Actions.REDUCE:\n",
    "                stack.pop()\n",
    "            elif action == Actions.LEFT:\n",
    "                relations.append((stack[-1][\"id\"], queue[0][\"id\"]))\n",
    "                stack.pop()\n",
    "            elif action == Actions.RIGHT:\n",
    "                relations.append((queue[0][\"id\"], stack[-1][\"id\"]))\n",
    "                stack.append(queue.pop(0))\n",
    "            else:\n",
    "                print(\"Unknown action.\")\n",
    "    return features, labels"
   ]
  },
  {
   "cell_type": "code",
   "execution_count": 7,
   "metadata": {},
   "outputs": [
    {
     "name": "stdout",
     "output_type": "stream",
     "text": [
      "Number of words: 14\n",
      "Number of actions: 29\n",
      "List of actions taken: ['shift', 'left', 'shift', 'shift', 'left', 'right', 'right', 'reduce', 'reduce', 'left', 'right', 'shift', 'left', 'right', 'shift', 'left', 'right', 'right', 'shift', 'left', 'right', 'reduce', 'reduce', 'reduce', 'reduce', 'right', 'reduce', 'reduce', 'reduce']\n",
      "Features:\n",
      "{'s0-word': 'ROOT', 's0-lemma': 'ROOT', 's0-tag': 'ROOT', 'q0-word': 'У', 'q0-lemma': 'у', 'q0-tag': 'ADP', 'q0-Case': 'Loc', 'q1-word': 'домі', 'q1-tag': 'NOUN', 'q2-tag': 'ADJ', 'q3-tag': 'NOUN', 'distance': 1}\n",
      "{'s0-word': 'У', 's0-lemma': 'у', 's0-tag': 'ADP', 's0-Case': 'Loc', 's1-tag': 'ADP', 'q0-word': 'домі', 'q0-lemma': 'дім', 'q0-tag': 'NOUN', 'q0-Animacy': 'Inan', 'q0-Case': 'Loc', 'q0-Gender': 'Masc', 'q0-Number': 'Sing', 'q1-word': 'римського', 'q1-tag': 'ADJ', 'q2-tag': 'NOUN', 'q3-tag': 'PROPN', 'distance': 1}\n",
      "{'s0-word': 'ROOT', 's0-lemma': 'ROOT', 's0-tag': 'ROOT', 'q0-word': 'домі', 'q0-lemma': 'дім', 'q0-tag': 'NOUN', 'q0-Animacy': 'Inan', 'q0-Case': 'Loc', 'q0-Gender': 'Masc', 'q0-Number': 'Sing', 'q1-word': 'римського', 'q1-tag': 'ADJ', 'q2-tag': 'NOUN', 'q3-tag': 'PROPN', 'distance': 2}\n",
      "{'s0-word': 'домі', 's0-lemma': 'дім', 's0-tag': 'NOUN', 's0-Animacy': 'Inan', 's0-Case': 'Loc', 's0-Gender': 'Masc', 's0-Number': 'Sing', 's1-tag': 'NOUN', 'q0-word': 'римського', 'q0-lemma': 'римський', 'q0-tag': 'ADJ', 'q0-Case': 'Gen', 'q0-Gender': 'Masc', 'q0-Number': 'Sing', 'q1-word': 'патриція', 'q1-tag': 'NOUN', 'q2-tag': 'PROPN', 'q3-tag': 'VERB', 'distance': 1}\n",
      "{'s0-word': 'римського', 's0-lemma': 'римський', 's0-tag': 'ADJ', 's0-Case': 'Gen', 's0-Gender': 'Masc', 's0-Number': 'Sing', 's1-tag': 'ADJ', 'q0-word': 'патриція', 'q0-lemma': 'патрицій', 'q0-tag': 'NOUN', 'q0-Animacy': 'Anim', 'q0-Case': 'Gen', 'q0-Gender': 'Masc', 'q0-Number': 'Sing', 'q1-word': 'Руфіна', 'q1-tag': 'PROPN', 'q2-tag': 'VERB', 'q3-tag': 'ADJ', 'distance': 1}\n",
      "{'s0-word': 'домі', 's0-lemma': 'дім', 's0-tag': 'NOUN', 's0-Animacy': 'Inan', 's0-Case': 'Loc', 's0-Gender': 'Masc', 's0-Number': 'Sing', 's1-tag': 'NOUN', 'q0-word': 'патриція', 'q0-lemma': 'патрицій', 'q0-tag': 'NOUN', 'q0-Animacy': 'Anim', 'q0-Case': 'Gen', 'q0-Gender': 'Masc', 'q0-Number': 'Sing', 'q1-word': 'Руфіна', 'q1-tag': 'PROPN', 'q2-tag': 'VERB', 'q3-tag': 'ADJ', 'distance': 2}\n",
      "{'s0-word': 'патриція', 's0-lemma': 'патрицій', 's0-tag': 'NOUN', 's0-Animacy': 'Anim', 's0-Case': 'Gen', 's0-Gender': 'Masc', 's0-Number': 'Sing', 's1-tag': 'NOUN', 'q0-word': 'Руфіна', 'q0-lemma': 'Руфін', 'q0-tag': 'PROPN', 'q0-Animacy': 'Anim', 'q0-Case': 'Gen', 'q0-Gender': 'Masc', 'q0-NameType': 'Giv', 'q0-Number': 'Sing', 'q1-word': 'була', 'q1-tag': 'VERB', 'q2-tag': 'ADJ', 'q3-tag': 'NOUN', 'distance': 1}\n",
      "{'s0-word': 'Руфіна', 's0-lemma': 'Руфін', 's0-tag': 'PROPN', 's0-Animacy': 'Anim', 's0-Case': 'Gen', 's0-Gender': 'Masc', 's0-NameType': 'Giv', 's0-Number': 'Sing', 's1-tag': 'PROPN', 'q0-word': 'була', 'q0-lemma': 'бути', 'q0-tag': 'VERB', 'q0-Aspect': 'Imp', 'q0-Gender': 'Fem', 'q0-Mood': 'Ind', 'q0-Number': 'Sing', 'q0-Tense': 'Past', 'q0-VerbForm': 'Fin', 'q1-word': 'прегарна', 'q1-tag': 'ADJ', 'q2-tag': 'NOUN', 'q3-tag': 'PUNCT', 'distance': 1}\n",
      "{'s0-word': 'патриція', 's0-lemma': 'патрицій', 's0-tag': 'NOUN', 's0-Animacy': 'Anim', 's0-Case': 'Gen', 's0-Gender': 'Masc', 's0-Number': 'Sing', 's1-tag': 'NOUN', 'q0-word': 'була', 'q0-lemma': 'бути', 'q0-tag': 'VERB', 'q0-Aspect': 'Imp', 'q0-Gender': 'Fem', 'q0-Mood': 'Ind', 'q0-Number': 'Sing', 'q0-Tense': 'Past', 'q0-VerbForm': 'Fin', 'q1-word': 'прегарна', 'q1-tag': 'ADJ', 'q2-tag': 'NOUN', 'q3-tag': 'PUNCT', 'distance': 2}\n",
      "{'s0-word': 'домі', 's0-lemma': 'дім', 's0-tag': 'NOUN', 's0-Animacy': 'Inan', 's0-Case': 'Loc', 's0-Gender': 'Masc', 's0-Number': 'Sing', 's1-tag': 'NOUN', 'q0-word': 'була', 'q0-lemma': 'бути', 'q0-tag': 'VERB', 'q0-Aspect': 'Imp', 'q0-Gender': 'Fem', 'q0-Mood': 'Ind', 'q0-Number': 'Sing', 'q0-Tense': 'Past', 'q0-VerbForm': 'Fin', 'q1-word': 'прегарна', 'q1-tag': 'ADJ', 'q2-tag': 'NOUN', 'q3-tag': 'PUNCT', 'distance': 4}\n",
      "{'s0-word': 'ROOT', 's0-lemma': 'ROOT', 's0-tag': 'ROOT', 'q0-word': 'була', 'q0-lemma': 'бути', 'q0-tag': 'VERB', 'q0-Aspect': 'Imp', 'q0-Gender': 'Fem', 'q0-Mood': 'Ind', 'q0-Number': 'Sing', 'q0-Tense': 'Past', 'q0-VerbForm': 'Fin', 'q1-word': 'прегарна', 'q1-tag': 'ADJ', 'q2-tag': 'NOUN', 'q3-tag': 'PUNCT', 'distance': 6}\n",
      "{'s0-word': 'була', 's0-lemma': 'бути', 's0-tag': 'VERB', 's0-Aspect': 'Imp', 's0-Gender': 'Fem', 's0-Mood': 'Ind', 's0-Number': 'Sing', 's0-Tense': 'Past', 's0-VerbForm': 'Fin', 's1-tag': 'VERB', 'q0-word': 'прегарна', 'q0-lemma': 'прегарний', 'q0-tag': 'ADJ', 'q0-Case': 'Nom', 'q0-Gender': 'Fem', 'q0-Number': 'Sing', 'q1-word': 'фреска', 'q1-tag': 'NOUN', 'q2-tag': 'PUNCT', 'q3-tag': 'NOUN', 'distance': 1}\n",
      "{'s0-word': 'прегарна', 's0-lemma': 'прегарний', 's0-tag': 'ADJ', 's0-Case': 'Nom', 's0-Gender': 'Fem', 's0-Number': 'Sing', 's1-tag': 'ADJ', 'q0-word': 'фреска', 'q0-lemma': 'фреска', 'q0-tag': 'NOUN', 'q0-Animacy': 'Inan', 'q0-Case': 'Nom', 'q0-Gender': 'Fem', 'q0-Number': 'Sing', 'q1-word': ',', 'q1-tag': 'PUNCT', 'q2-tag': 'NOUN', 'q3-tag': 'PROPN', 'distance': 1}\n",
      "{'s0-word': 'була', 's0-lemma': 'бути', 's0-tag': 'VERB', 's0-Aspect': 'Imp', 's0-Gender': 'Fem', 's0-Mood': 'Ind', 's0-Number': 'Sing', 's0-Tense': 'Past', 's0-VerbForm': 'Fin', 's1-tag': 'VERB', 'q0-word': 'фреска', 'q0-lemma': 'фреска', 'q0-tag': 'NOUN', 'q0-Animacy': 'Inan', 'q0-Case': 'Nom', 'q0-Gender': 'Fem', 'q0-Number': 'Sing', 'q1-word': ',', 'q1-tag': 'PUNCT', 'q2-tag': 'NOUN', 'q3-tag': 'PROPN', 'distance': 2}\n",
      "{'s0-word': 'фреска', 's0-lemma': 'фреска', 's0-tag': 'NOUN', 's0-Animacy': 'Inan', 's0-Case': 'Nom', 's0-Gender': 'Fem', 's0-Number': 'Sing', 's1-tag': 'NOUN', 'q0-word': ',', 'q0-lemma': ',', 'q0-tag': 'PUNCT', 'q1-word': 'зображення', 'q1-tag': 'NOUN', 'q2-tag': 'PROPN', 'q3-tag': 'CCONJ', 'distance': 1}\n",
      "{'s0-word': ',', 's0-lemma': ',', 's0-tag': 'PUNCT', 's1-tag': 'PUNCT', 'q0-word': 'зображення', 'q0-lemma': 'зображення', 'q0-tag': 'NOUN', 'q0-Animacy': 'Inan', 'q0-Case': 'Nom', 'q0-Gender': 'Neut', 'q0-Number': 'Sing', 'q1-word': 'Венери', 'q1-tag': 'PROPN', 'q2-tag': 'CCONJ', 'q3-tag': 'PROPN', 'distance': 1}\n",
      "{'s0-word': 'фреска', 's0-lemma': 'фреска', 's0-tag': 'NOUN', 's0-Animacy': 'Inan', 's0-Case': 'Nom', 's0-Gender': 'Fem', 's0-Number': 'Sing', 's1-tag': 'NOUN', 'q0-word': 'зображення', 'q0-lemma': 'зображення', 'q0-tag': 'NOUN', 'q0-Animacy': 'Inan', 'q0-Case': 'Nom', 'q0-Gender': 'Neut', 'q0-Number': 'Sing', 'q1-word': 'Венери', 'q1-tag': 'PROPN', 'q2-tag': 'CCONJ', 'q3-tag': 'PROPN', 'distance': 2}\n",
      "{'s0-word': 'зображення', 's0-lemma': 'зображення', 's0-tag': 'NOUN', 's0-Animacy': 'Inan', 's0-Case': 'Nom', 's0-Gender': 'Neut', 's0-Number': 'Sing', 's1-tag': 'NOUN', 'q0-word': 'Венери', 'q0-lemma': 'Венера', 'q0-tag': 'PROPN', 'q0-Animacy': 'Anim', 'q0-Case': 'Gen', 'q0-Gender': 'Fem', 'q0-NameType': 'Giv', 'q0-Number': 'Sing', 'q1-word': 'та', 'q1-tag': 'CCONJ', 'q2-tag': 'PROPN', 'q3-tag': 'PUNCT', 'distance': 1}\n",
      "{'s0-word': 'Венери', 's0-lemma': 'Венера', 's0-tag': 'PROPN', 's0-Animacy': 'Anim', 's0-Case': 'Gen', 's0-Gender': 'Fem', 's0-NameType': 'Giv', 's0-Number': 'Sing', 's1-tag': 'PROPN', 'q0-word': 'та', 'q0-lemma': 'та', 'q0-tag': 'CCONJ', 'q1-word': 'Адоніса', 'q1-tag': 'PROPN', 'q2-tag': 'PUNCT', 'distance': 1}\n",
      "{'s0-word': 'та', 's0-lemma': 'та', 's0-tag': 'CCONJ', 's1-tag': 'CCONJ', 'q0-word': 'Адоніса', 'q0-lemma': 'Адоніс', 'q0-tag': 'PROPN', 'q0-Animacy': 'Anim', 'q0-Case': 'Gen', 'q0-Gender': 'Masc', 'q0-NameType': 'Giv', 'q0-Number': 'Sing', 'q1-word': '.', 'q1-tag': 'PUNCT', 'distance': 1}\n",
      "{'s0-word': 'Венери', 's0-lemma': 'Венера', 's0-tag': 'PROPN', 's0-Animacy': 'Anim', 's0-Case': 'Gen', 's0-Gender': 'Fem', 's0-NameType': 'Giv', 's0-Number': 'Sing', 's1-tag': 'PROPN', 'q0-word': 'Адоніса', 'q0-lemma': 'Адоніс', 'q0-tag': 'PROPN', 'q0-Animacy': 'Anim', 'q0-Case': 'Gen', 'q0-Gender': 'Masc', 'q0-NameType': 'Giv', 'q0-Number': 'Sing', 'q1-word': '.', 'q1-tag': 'PUNCT', 'distance': 2}\n",
      "{'s0-word': 'Адоніса', 's0-lemma': 'Адоніс', 's0-tag': 'PROPN', 's0-Animacy': 'Anim', 's0-Case': 'Gen', 's0-Gender': 'Masc', 's0-NameType': 'Giv', 's0-Number': 'Sing', 's1-tag': 'PROPN', 'q0-word': '.', 'q0-lemma': '.', 'q0-tag': 'PUNCT', 'distance': 1}\n",
      "{'s0-word': 'Венери', 's0-lemma': 'Венера', 's0-tag': 'PROPN', 's0-Animacy': 'Anim', 's0-Case': 'Gen', 's0-Gender': 'Fem', 's0-NameType': 'Giv', 's0-Number': 'Sing', 's1-tag': 'PROPN', 'q0-word': '.', 'q0-lemma': '.', 'q0-tag': 'PUNCT', 'distance': 3}\n",
      "{'s0-word': 'зображення', 's0-lemma': 'зображення', 's0-tag': 'NOUN', 's0-Animacy': 'Inan', 's0-Case': 'Nom', 's0-Gender': 'Neut', 's0-Number': 'Sing', 's1-tag': 'NOUN', 'q0-word': '.', 'q0-lemma': '.', 'q0-tag': 'PUNCT', 'distance': 4}\n",
      "{'s0-word': 'фреска', 's0-lemma': 'фреска', 's0-tag': 'NOUN', 's0-Animacy': 'Inan', 's0-Case': 'Nom', 's0-Gender': 'Fem', 's0-Number': 'Sing', 's1-tag': 'NOUN', 'q0-word': '.', 'q0-lemma': '.', 'q0-tag': 'PUNCT', 'distance': 6}\n",
      "{'s0-word': 'була', 's0-lemma': 'бути', 's0-tag': 'VERB', 's0-Aspect': 'Imp', 's0-Gender': 'Fem', 's0-Mood': 'Ind', 's0-Number': 'Sing', 's0-Tense': 'Past', 's0-VerbForm': 'Fin', 's1-tag': 'VERB', 'q0-word': '.', 'q0-lemma': '.', 'q0-tag': 'PUNCT', 'distance': 8}\n",
      "{'s0-word': '.', 's0-lemma': '.', 's0-tag': 'PUNCT', 's1-tag': 'PUNCT'}\n",
      "{'s0-word': 'була', 's0-lemma': 'бути', 's0-tag': 'VERB', 's0-Aspect': 'Imp', 's0-Gender': 'Fem', 's0-Mood': 'Ind', 's0-Number': 'Sing', 's0-Tense': 'Past', 's0-VerbForm': 'Fin', 's1-tag': 'VERB'}\n",
      "{'s0-word': 'ROOT', 's0-lemma': 'ROOT', 's0-tag': 'ROOT'}\n"
     ]
    }
   ],
   "source": [
    "features, labels = get_data([tree])\n",
    "print(\"Number of words:\", len(tree))\n",
    "print(\"Number of actions:\", len(labels))\n",
    "print(\"List of actions taken:\", labels)\n",
    "print(\"Features:\")\n",
    "for word in features:\n",
    "    print(word)"
   ]
  },
  {
   "cell_type": "code",
   "execution_count": 8,
   "metadata": {},
   "outputs": [
    {
     "name": "stdout",
     "output_type": "stream",
     "text": [
      "154709 154709\n"
     ]
    }
   ],
   "source": [
    "train_features, train_labels = get_data(trees)\n",
    "\n",
    "print(len(train_features), len(train_labels))"
   ]
  },
  {
   "cell_type": "code",
   "execution_count": 9,
   "metadata": {},
   "outputs": [
    {
     "name": "stdout",
     "output_type": "stream",
     "text": [
      "30661 30661\n"
     ]
    }
   ],
   "source": [
    "with open(PATH + \"/uk_iu-ud-test.conllu\", \"r\") as f:\n",
    "    data = f.read()\n",
    "\n",
    "test_trees = parse(data)\n",
    "test_features, test_labels = get_data(test_trees)\n",
    "print(len(test_features), len(test_labels))"
   ]
  },
  {
   "cell_type": "markdown",
   "metadata": {},
   "source": [
    "## Train a classifier"
   ]
  },
  {
   "cell_type": "code",
   "execution_count": 11,
   "metadata": {},
   "outputs": [
    {
     "name": "stdout",
     "output_type": "stream",
     "text": [
      "\n",
      "Total number of features:  98017\n"
     ]
    }
   ],
   "source": [
    "vectorizer = DictVectorizer()\n",
    "vec = vectorizer.fit(train_features)\n",
    "\n",
    "print(\"\\nTotal number of features: \", len(vec.get_feature_names()))"
   ]
  },
  {
   "cell_type": "code",
   "execution_count": 12,
   "metadata": {},
   "outputs": [
    {
     "name": "stdout",
     "output_type": "stream",
     "text": [
      "154709 30661\n"
     ]
    }
   ],
   "source": [
    "train_features_vectorized = vec.transform(train_features)\n",
    "test_features_vectorized = vec.transform(test_features)\n",
    "\n",
    "print(len(train_features_vectorized.toarray()), len(test_features_vectorized.toarray()))"
   ]
  },
  {
   "cell_type": "code",
   "execution_count": 13,
   "metadata": {},
   "outputs": [],
   "source": [
    "lrc = LogisticRegression(random_state=42)\n",
    "lrc.fit(train_features_vectorized, train_labels)\n",
    "predicted = lrc.predict(test_features_vectorized)"
   ]
  },
  {
   "cell_type": "code",
   "execution_count": 14,
   "metadata": {},
   "outputs": [
    {
     "name": "stdout",
     "output_type": "stream",
     "text": [
      "             precision    recall  f1-score   support\n",
      "\n",
      "       left       0.84      0.86      0.85      7352\n",
      "     reduce       0.81      0.73      0.77      8370\n",
      "      right       0.72      0.78      0.75      7182\n",
      "      shift       0.85      0.86      0.86      7757\n",
      "\n",
      "avg / total       0.81      0.81      0.81     30661\n",
      "\n"
     ]
    }
   ],
   "source": [
    "print(classification_report(test_labels, predicted))"
   ]
  },
  {
   "cell_type": "markdown",
   "metadata": {},
   "source": [
    "## Calculate the unlabeled attachment score\n",
    "UAS - the percentage of words in an input that are assigned the correct head."
   ]
  },
  {
   "cell_type": "code",
   "execution_count": 15,
   "metadata": {},
   "outputs": [],
   "source": [
    "def dep_parse(sentence, oracle, vectorizer):\n",
    "    stack, queue, relations = [ROOT], sentence[:], []\n",
    "    while queue or stack:\n",
    "        if stack and not queue:\n",
    "            stack.pop()\n",
    "        else:\n",
    "            features = extract_features(stack, queue)\n",
    "            action = oracle.predict(vectorizer.transform([features]))[0]\n",
    "            # actual parsing\n",
    "            if action == Actions.SHIFT:\n",
    "                stack.append(queue.pop(0))\n",
    "            elif action == Actions.REDUCE:\n",
    "                stack.pop()\n",
    "            elif action == Actions.LEFT:\n",
    "                relations.append((stack[-1][\"id\"], queue[0][\"id\"]))\n",
    "                stack.pop()\n",
    "            elif action == Actions.RIGHT:\n",
    "                relations.append((queue[0][\"id\"], stack[-1][\"id\"]))\n",
    "                stack.append(queue.pop(0))\n",
    "            else:\n",
    "                print(\"Unknown action.\")\n",
    "    return sorted(relations)"
   ]
  },
  {
   "cell_type": "code",
   "execution_count": 16,
   "metadata": {},
   "outputs": [
    {
     "name": "stdout",
     "output_type": "stream",
     "text": [
      "['Зречення', 'культурної', 'ідентичності', '—', 'це', 'втрата', 'свободи', 'й', 'самовладності', '.']\n",
      "[(1, 0), (2, 3), (3, 1), (4, 6), (5, 6), (6, 1), (7, 6), (8, 9), (9, 7), (10, 0)]\n",
      "[(1, 6), (2, 3), (3, 1), (4, 6), (5, 6), (6, 0), (7, 6), (8, 9), (9, 7), (10, 6)]\n"
     ]
    }
   ],
   "source": [
    "print([node[\"form\"] for node in test_trees[0]])\n",
    "print(dep_parse(test_trees[0], lrc, vec))\n",
    "print([(node[\"id\"], node[\"head\"]) for node in test_trees[0]])"
   ]
  },
  {
   "cell_type": "code",
   "execution_count": 17,
   "metadata": {},
   "outputs": [
    {
     "name": "stdout",
     "output_type": "stream",
     "text": [
      "Total: 14939\n",
      "Correctly defined: 10235\n",
      "UAS: 0.69\n"
     ]
    }
   ],
   "source": [
    "total, tp = 0, 0\n",
    "for tree in test_trees:\n",
    "    golden = [(node[\"id\"], node[\"head\"]) for node in tree]\n",
    "    predicted = dep_parse(tree, lrc, vec)\n",
    "    total += len(tree)\n",
    "    tp += len(set(golden).intersection(set(predicted)))\n",
    "\n",
    "print(\"Total:\", total)\n",
    "print(\"Correctly defined:\", tp)\n",
    "print(\"UAS:\", round(tp/total, 2))"
   ]
  },
  {
   "cell_type": "code",
   "execution_count": null,
   "metadata": {},
   "outputs": [],
   "source": []
  }
 ],
 "metadata": {
  "kernelspec": {
   "display_name": "Python 3",
   "language": "python",
   "name": "python3"
  },
  "language_info": {
   "codemirror_mode": {
    "name": "ipython",
    "version": 3
   },
   "file_extension": ".py",
   "mimetype": "text/x-python",
   "name": "python",
   "nbconvert_exporter": "python",
   "pygments_lexer": "ipython3",
   "version": "3.6.0"
  }
 },
 "nbformat": 4,
 "nbformat_minor": 2
}
